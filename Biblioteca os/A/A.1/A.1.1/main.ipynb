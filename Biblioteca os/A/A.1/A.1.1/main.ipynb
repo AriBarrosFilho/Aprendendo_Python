{
 "cells": [
  {
   "cell_type": "code",
   "execution_count": 19,
   "metadata": {},
   "outputs": [],
   "source": [
    "import os\n",
    "import sys"
   ]
  },
  {
   "cell_type": "code",
   "execution_count": 20,
   "metadata": {},
   "outputs": [
    {
     "name": "stdout",
     "output_type": "stream",
     "text": [
      "c:\\Users\\AriosvaldoBarros\\Desktop\\aprendendo python\\Biblioteca os\\A\\A.1\\A.1.1\n"
     ]
    },
    {
     "data": {
      "text/plain": [
       "'c:\\\\Users\\\\AriosvaldoBarros\\\\Desktop\\\\aprendendo python\\\\Biblioteca os\\\\A\\\\A.1\\\\A.1.1'"
      ]
     },
     "metadata": {},
     "output_type": "display_data"
    }
   ],
   "source": [
    "# Diretório atual do arquivo .ipynb\n",
    "diretorio_atual = os.getcwd()\n",
    "\n",
    "print(diretorio_atual)\n",
    "display(diretorio_atual)"
   ]
  },
  {
   "cell_type": "code",
   "execution_count": 21,
   "metadata": {},
   "outputs": [
    {
     "name": "stdout",
     "output_type": "stream",
     "text": [
      "c:\\Users\\AriosvaldoBarros\\Desktop\\aprendendo python\\Biblioteca os\\A\\A.1\\A.1.1\\Arquivos PDFs\n"
     ]
    }
   ],
   "source": [
    "# Diretório atual do arquivo .ipynb\n",
    "diretorio_atual = os.getcwd()\n",
    "\n",
    "# Nome de uma pasta\n",
    "nome_pasta = 'Arquivos PDFs'\n",
    "\n",
    "# Diretório do PDF\n",
    "diretorio_pdf = os.path.join(diretorio_atual, nome_pasta)\n",
    "\n",
    "print(diretorio_pdf)"
   ]
  },
  {
   "cell_type": "code",
   "execution_count": null,
   "metadata": {},
   "outputs": [],
   "source": []
  },
  {
   "cell_type": "code",
   "execution_count": 2,
   "metadata": {},
   "outputs": [
    {
     "name": "stdout",
     "output_type": "stream",
     "text": [
      "É isso o que está escrito dentro do arquivo documento.txt\n"
     ]
    }
   ],
   "source": [
    "# Define o caminho do arquivo\n",
    "caminho_arquivo = 'documento.txt'\n",
    "\n",
    "# Abre o arquivo no modo de leitura\n",
    "with open(caminho_arquivo, 'r') as arquivo:\n",
    "\n",
    "    # Lê o conteúdo do arquivo\n",
    "    conteudo = arquivo.read()\n",
    "\n",
    "# Imprime o conteúdo do arquivo\n",
    "print(conteudo)"
   ]
  },
  {
   "cell_type": "code",
   "execution_count": null,
   "metadata": {},
   "outputs": [],
   "source": []
  },
  {
   "cell_type": "code",
   "execution_count": 4,
   "metadata": {},
   "outputs": [],
   "source": [
    "# Adiciona o caminho da pasta 'libs' ao sys.path\n",
    "sys.path.append(os.path.abspath('../A.1.2'))"
   ]
  },
  {
   "cell_type": "code",
   "execution_count": 6,
   "metadata": {},
   "outputs": [
    {
     "name": "stdout",
     "output_type": "stream",
     "text": [
      "A função 'somatorio_1', está em: c:\\Users\\AriosvaldoBarros\\Desktop\\aprendendo python\\Biblioteca os\\A\\A.1\\A.1.1\n"
     ]
    }
   ],
   "source": [
    "from utils_1 import *\n",
    "\n",
    "funcao_1()"
   ]
  },
  {
   "cell_type": "code",
   "execution_count": 8,
   "metadata": {},
   "outputs": [],
   "source": [
    "# Adiciona o caminho da pasta 'libs' ao sys.path\n",
    "sys.path.append(os.path.abspath('../../B'))"
   ]
  },
  {
   "cell_type": "code",
   "execution_count": 9,
   "metadata": {},
   "outputs": [
    {
     "name": "stdout",
     "output_type": "stream",
     "text": [
      "A função 'somatorio_1', está em: c:\\Users\\AriosvaldoBarros\\Desktop\\aprendendo python\\Biblioteca os\\A\\A.1\\A.1.1\n"
     ]
    }
   ],
   "source": [
    "from utils_2 import *\n",
    "\n",
    "funcao_2()"
   ]
  },
  {
   "cell_type": "code",
   "execution_count": null,
   "metadata": {},
   "outputs": [],
   "source": []
  },
  {
   "cell_type": "code",
   "execution_count": 12,
   "metadata": {},
   "outputs": [],
   "source": [
    "# Lista de caminhos a serem adicionados\n",
    "caminhos = [\n",
    "    os.path.abspath(r'C:\\Users\\AriosvaldoBarros\\Desktop\\aprendendo python\\Biblioteca os\\A\\B\\B.1'),\n",
    "    os.path.abspath(r'C:\\Users\\AriosvaldoBarros\\Desktop\\aprendendo python\\Biblioteca os\\A\\B\\B.2')\n",
    "]\n",
    "\n",
    "# Adiciona cada caminho ao sys.path\n",
    "for caminho in caminhos:\n",
    "    if caminho not in sys.path:\n",
    "        sys.path.append(caminho)"
   ]
  },
  {
   "cell_type": "code",
   "execution_count": 13,
   "metadata": {},
   "outputs": [
    {
     "name": "stdout",
     "output_type": "stream",
     "text": [
      "A função 'somatorio_1', está em: c:\\Users\\AriosvaldoBarros\\Desktop\\aprendendo python\\Biblioteca os\\A\\A.1\\A.1.1\n"
     ]
    }
   ],
   "source": [
    "from utils_3 import *\n",
    "\n",
    "funcao_2()"
   ]
  },
  {
   "cell_type": "code",
   "execution_count": 14,
   "metadata": {},
   "outputs": [
    {
     "name": "stdout",
     "output_type": "stream",
     "text": [
      "A função 'somatorio_1', está em: c:\\Users\\AriosvaldoBarros\\Desktop\\aprendendo python\\Biblioteca os\\A\\A.1\\A.1.1\n"
     ]
    }
   ],
   "source": [
    "from utils_4 import *\n",
    "\n",
    "funcao_2()"
   ]
  },
  {
   "cell_type": "code",
   "execution_count": null,
   "metadata": {},
   "outputs": [],
   "source": []
  }
 ],
 "metadata": {
  "kernelspec": {
   "display_name": "base",
   "language": "python",
   "name": "python3"
  },
  "language_info": {
   "codemirror_mode": {
    "name": "ipython",
    "version": 3
   },
   "file_extension": ".py",
   "mimetype": "text/x-python",
   "name": "python",
   "nbconvert_exporter": "python",
   "pygments_lexer": "ipython3",
   "version": "3.11.7"
  }
 },
 "nbformat": 4,
 "nbformat_minor": 2
}
