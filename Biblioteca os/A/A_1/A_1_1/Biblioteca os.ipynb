{
 "cells": [
  {
   "cell_type": "code",
   "execution_count": 1,
   "metadata": {},
   "outputs": [],
   "source": [
    "import os\n",
    "import sys"
   ]
  },
  {
   "cell_type": "markdown",
   "metadata": {},
   "source": [
    "<span style=\"color: #FFC107; font-size: 22px;\">Obtém o diretório atual</span>"
   ]
  },
  {
   "cell_type": "code",
   "execution_count": 20,
   "metadata": {},
   "outputs": [
    {
     "name": "stdout",
     "output_type": "stream",
     "text": [
      "c:\\Users\\AriosvaldoBarros\\Desktop\\aprendendo python\\Biblioteca os\\A\\A.1\\A.1.1\n"
     ]
    },
    {
     "data": {
      "text/plain": [
       "'c:\\\\Users\\\\AriosvaldoBarros\\\\Desktop\\\\aprendendo python\\\\Biblioteca os\\\\A\\\\A.1\\\\A.1.1'"
      ]
     },
     "metadata": {},
     "output_type": "display_data"
    }
   ],
   "source": [
    "# Diretório atual do arquivo .ipynb\n",
    "diretorio_atual = os.getcwd()\n",
    "\n",
    "# Apresenta o diretório atual\n",
    "print(diretorio_atual)\n",
    "\n",
    "# Apresenta o diretório atual na sua forma original\n",
    "display(diretorio_atual)"
   ]
  },
  {
   "cell_type": "markdown",
   "metadata": {},
   "source": [
    "<span style=\"color: #FFC107; font-size: 22px;\">Junta os nomes de diretórios para fazer um diretório final</span>"
   ]
  },
  {
   "cell_type": "code",
   "execution_count": 21,
   "metadata": {},
   "outputs": [
    {
     "name": "stdout",
     "output_type": "stream",
     "text": [
      "c:\\Users\\AriosvaldoBarros\\Desktop\\aprendendo python\\Biblioteca os\\A\\A.1\\A.1.1\\Arquivos PDFs\n"
     ]
    }
   ],
   "source": [
    "# Diretório atual do arquivo .ipynb\n",
    "diretorio_atual = os.getcwd()\n",
    "\n",
    "# Nome de uma pasta\n",
    "nome_pasta = 'Arquivos PDFs'\n",
    "\n",
    "# Diretório do PDF\n",
    "diretorio_pdf = os.path.join(diretorio_atual, nome_pasta)\n",
    "\n",
    "# Apresenta o diretório final\n",
    "print(diretorio_pdf)"
   ]
  },
  {
   "cell_type": "markdown",
   "metadata": {},
   "source": [
    "<span style=\"color: #FFC107; font-size: 22px;\">Obtém e apresenta o conteúdo textual de um arquivo .txt</span>"
   ]
  },
  {
   "cell_type": "code",
   "execution_count": 2,
   "metadata": {},
   "outputs": [
    {
     "name": "stdout",
     "output_type": "stream",
     "text": [
      "É isso o que está escrito dentro do arquivo documento.txt\n"
     ]
    }
   ],
   "source": [
    "# Define o caminho do arquivo\n",
    "caminho_arquivo = 'documento.txt'\n",
    "\n",
    "# Abre o arquivo no modo de leitura\n",
    "with open(caminho_arquivo, 'r') as arquivo:\n",
    "\n",
    "    # Lê o conteúdo do arquivo\n",
    "    conteudo = arquivo.read()\n",
    "\n",
    "# Imprime o conteúdo do arquivo\n",
    "print(conteudo)"
   ]
  },
  {
   "cell_type": "markdown",
   "metadata": {},
   "source": [
    "<span style=\"color: #FFC107; font-size: 22px;\">Verifica se é um arquivo</span>"
   ]
  },
  {
   "cell_type": "code",
   "execution_count": 33,
   "metadata": {},
   "outputs": [
    {
     "name": "stdout",
     "output_type": "stream",
     "text": [
      "Diretório:  False\n",
      "Arquivo:  True\n"
     ]
    }
   ],
   "source": [
    "# Diretório atual\n",
    "diretorio_1 = os.getcwd()\n",
    "\n",
    "# Verifica se é um arquivo e se ele existe\n",
    "verificador_1 = os.path.isfile(diretorio_1)\n",
    "\n",
    "# Apresenta se é: True ou False\n",
    "print('Diretório: ', verificador_1)\n",
    "\n",
    "#===========================================================================\n",
    "\n",
    "# Diretório atual\n",
    "diretorio_2 = 'documento.txt'\n",
    "\n",
    "# Verifica se é um arquivo e se ele existe\n",
    "verificador_2 = os.path.isfile(diretorio_2)\n",
    "\n",
    "# Apresenta se é: True ou False\n",
    "print('Arquivo: ', verificador_2)"
   ]
  },
  {
   "cell_type": "markdown",
   "metadata": {},
   "source": [
    "<span style=\"color: #FFC107; font-size: 22px;\">Verifica se é uma pasta</span>"
   ]
  },
  {
   "cell_type": "code",
   "execution_count": 34,
   "metadata": {},
   "outputs": [
    {
     "name": "stdout",
     "output_type": "stream",
     "text": [
      "Diretório:  True\n",
      "Arquivo:  False\n"
     ]
    }
   ],
   "source": [
    "# Diretório atual\n",
    "diretorio_1 = os.getcwd()\n",
    "\n",
    "# Verifica se é um diretório e se ele existe\n",
    "verificador_1 = os.path.isdir(diretorio_1)\n",
    "\n",
    "# Apresenta se é: True ou False\n",
    "print('Diretório: ', verificador_1)\n",
    "\n",
    "#===========================================================================\n",
    "\n",
    "# Diretório atual\n",
    "diretorio_2 = 'documento.txt'\n",
    "\n",
    "# Verifica se é um diretório e se ele existe\n",
    "verificador_2 = os.path.isdir(diretorio_2)\n",
    "\n",
    "# Apresenta se é: True ou False\n",
    "print('Arquivo: ', verificador_2)"
   ]
  },
  {
   "cell_type": "markdown",
   "metadata": {},
   "source": [
    "<span style=\"color: #FFC107; font-size: 22px;\">Faz uma lista dos arquivos e pastas dentro de um diretório</span>"
   ]
  },
  {
   "cell_type": "code",
   "execution_count": 35,
   "metadata": {},
   "outputs": [
    {
     "name": "stdout",
     "output_type": "stream",
     "text": [
      "['Biblioteca os.ipynb', 'documento.txt']\n",
      "['A', 'B']\n"
     ]
    }
   ],
   "source": [
    "# Define um diretório\n",
    "diretorio_1 = os.getcwd()\n",
    "\n",
    "# Recebe uma lista com os arquivos que estão em um determinado diretório\n",
    "lista_1 = os.listdir(diretorio_1)\n",
    "\n",
    "# Apresenta uma lista com os arquivos que estão em um determinado diretório\n",
    "print(lista_1)\n",
    "\n",
    "#===============================================================================================\n",
    "\n",
    "# Define um diretório\n",
    "diretorio_2 = r\"C:\\Users\\AriosvaldoBarros\\Desktop\\Aprendendo_Python/Biblioteca os\"\n",
    "\n",
    "# Recebe uma lista com os arquivos que estão em um determinado diretório\n",
    "lista_2 = os.listdir(diretorio_2)\n",
    "\n",
    "# Apresenta uma lista com os arquivos que estão em um determinado diretório\n",
    "print(lista_2)"
   ]
  },
  {
   "cell_type": "code",
   "execution_count": 42,
   "metadata": {},
   "outputs": [
    {
     "name": "stdout",
     "output_type": "stream",
     "text": [
      "['A', 'B']\n"
     ]
    }
   ],
   "source": [
    "# Define um diretório\n",
    "diretorio_1 = r\"C:\\Users\\AriosvaldoBarros\\Desktop\\Aprendendo_Python/Biblioteca os\"\n",
    "\n",
    "# Verifica se o diretório existe\n",
    "if os.path.isdir(diretorio_1):\n",
    "\n",
    "    # Obtém uma lista de nomes de arquivos e pastas dentro do diretório\n",
    "    lista_diretorio = os.listdir(diretorio_1)\n",
    "\n",
    "    # Apresenta uma lista de nomes de arquivos e pastas dentro do diretório\n",
    "    print(lista_diretorio)\n",
    "\n",
    "# Caso o diretório não existe\n",
    "else:\n",
    "\n",
    "    # Indica que o diretório fornecido não existe\n",
    "    print(f\"O seguinte diretório não existe: {diretorio_1}\")"
   ]
  },
  {
   "cell_type": "code",
   "execution_count": null,
   "metadata": {},
   "outputs": [],
   "source": []
  },
  {
   "cell_type": "code",
   "execution_count": 4,
   "metadata": {},
   "outputs": [],
   "source": [
    "import lib"
   ]
  },
  {
   "cell_type": "code",
   "execution_count": 8,
   "metadata": {},
   "outputs": [
    {
     "ename": "ModuleNotFoundError",
     "evalue": "No module named 'lib.utils'",
     "output_type": "error",
     "traceback": [
      "\u001b[1;31m---------------------------------------------------------------------------\u001b[0m",
      "\u001b[1;31mModuleNotFoundError\u001b[0m                       Traceback (most recent call last)",
      "Cell \u001b[1;32mIn[8], line 1\u001b[0m\n\u001b[1;32m----> 1\u001b[0m \u001b[38;5;28;01mimport\u001b[39;00m \u001b[38;5;21;01mlib\u001b[39;00m\u001b[38;5;21;01m.\u001b[39;00m\u001b[38;5;21;01mutils\u001b[39;00m\n\u001b[0;32m      4\u001b[0m lib\u001b[38;5;241m.\u001b[39mutils\u001b[38;5;241m.\u001b[39mteste()\n",
      "\u001b[1;31mModuleNotFoundError\u001b[0m: No module named 'lib.utils'"
     ]
    }
   ],
   "source": [
    "import lib.utils\n",
    "\n",
    "\n",
    "lib.utils.teste()"
   ]
  },
  {
   "cell_type": "code",
   "execution_count": null,
   "metadata": {},
   "outputs": [],
   "source": []
  },
  {
   "cell_type": "code",
   "execution_count": null,
   "metadata": {},
   "outputs": [],
   "source": []
  }
 ],
 "metadata": {
  "kernelspec": {
   "display_name": "base",
   "language": "python",
   "name": "python3"
  },
  "language_info": {
   "codemirror_mode": {
    "name": "ipython",
    "version": 3
   },
   "file_extension": ".py",
   "mimetype": "text/x-python",
   "name": "python",
   "nbconvert_exporter": "python",
   "pygments_lexer": "ipython3",
   "version": "3.11.7"
  }
 },
 "nbformat": 4,
 "nbformat_minor": 2
}
