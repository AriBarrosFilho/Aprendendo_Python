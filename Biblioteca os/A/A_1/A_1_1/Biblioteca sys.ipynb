{
 "cells": [
  {
   "cell_type": "code",
   "execution_count": 1,
   "metadata": {},
   "outputs": [],
   "source": [
    "import sys\n",
    "import os"
   ]
  },
  {
   "cell_type": "code",
   "execution_count": 2,
   "metadata": {},
   "outputs": [],
   "source": [
    "# Adiciona o caminho da pasta 'libs' ao sys.path\n",
    "sys.path.append(os.path.abspath('../A.1.2'))"
   ]
  },
  {
   "cell_type": "code",
   "execution_count": 3,
   "metadata": {},
   "outputs": [
    {
     "name": "stdout",
     "output_type": "stream",
     "text": [
      "A função 'somatorio_1', está em: c:\\Users\\AriosvaldoBarros\\Desktop\\Aprendendo_Python\\Biblioteca os\\A\\A.1\\A.1.1\n"
     ]
    }
   ],
   "source": [
    "from utils_1 import *\n",
    "\n",
    "funcao_1()"
   ]
  },
  {
   "cell_type": "code",
   "execution_count": 17,
   "metadata": {},
   "outputs": [],
   "source": [
    "# Adiciona o caminho da pasta 'libs' ao sys.path\n",
    "sys.path.append(os.path.abspath('../../../B'))"
   ]
  },
  {
   "cell_type": "code",
   "execution_count": 19,
   "metadata": {},
   "outputs": [
    {
     "name": "stdout",
     "output_type": "stream",
     "text": [
      "A função 'somatorio_1', está em: c:\\Users\\AriosvaldoBarros\\Desktop\\Aprendendo_Python\\Biblioteca os\\A\\A.1\\A.1.1\n"
     ]
    }
   ],
   "source": [
    "from utils_2 import *\n",
    "\n",
    "funcao_2()"
   ]
  },
  {
   "cell_type": "code",
   "execution_count": null,
   "metadata": {},
   "outputs": [],
   "source": []
  },
  {
   "cell_type": "code",
   "execution_count": 12,
   "metadata": {},
   "outputs": [],
   "source": [
    "# Lista de caminhos a serem adicionados\n",
    "caminhos = [\n",
    "    os.path.abspath(r'C:\\Users\\AriosvaldoBarros\\Desktop\\Aprendendo_Python\\Biblioteca os\\B\\B.1'),\n",
    "    os.path.abspath(r'C:\\Users\\AriosvaldoBarros\\Desktop\\Aprendendo_Python\\Biblioteca os\\B\\B.2')\n",
    "]\n",
    "\n",
    "# Adiciona cada caminho ao sys.path\n",
    "for caminho in caminhos:\n",
    "    if caminho not in sys.path:\n",
    "        sys.path.append(caminho)"
   ]
  },
  {
   "cell_type": "code",
   "execution_count": 14,
   "metadata": {},
   "outputs": [
    {
     "name": "stdout",
     "output_type": "stream",
     "text": [
      "A função 'somatorio_1', está em: c:\\Users\\AriosvaldoBarros\\Desktop\\Aprendendo_Python\\Biblioteca os\\A\\A.1\\A.1.1\n"
     ]
    }
   ],
   "source": [
    "from utils_3 import *\n",
    "\n",
    "funcao_3()"
   ]
  },
  {
   "cell_type": "code",
   "execution_count": 15,
   "metadata": {},
   "outputs": [
    {
     "name": "stdout",
     "output_type": "stream",
     "text": [
      "A função 'somatorio_1', está em: c:\\Users\\AriosvaldoBarros\\Desktop\\Aprendendo_Python\\Biblioteca os\\A\\A.1\\A.1.1\n"
     ]
    }
   ],
   "source": [
    "from utils_4 import *\n",
    "\n",
    "funcao_4()"
   ]
  },
  {
   "cell_type": "code",
   "execution_count": null,
   "metadata": {},
   "outputs": [],
   "source": []
  }
 ],
 "metadata": {
  "kernelspec": {
   "display_name": "base",
   "language": "python",
   "name": "python3"
  },
  "language_info": {
   "codemirror_mode": {
    "name": "ipython",
    "version": 3
   },
   "file_extension": ".py",
   "mimetype": "text/x-python",
   "name": "python",
   "nbconvert_exporter": "python",
   "pygments_lexer": "ipython3",
   "version": "3.11.7"
  }
 },
 "nbformat": 4,
 "nbformat_minor": 2
}
