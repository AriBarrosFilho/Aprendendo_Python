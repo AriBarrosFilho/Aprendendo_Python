{
 "cells": [
  {
   "cell_type": "code",
   "execution_count": 1,
   "metadata": {},
   "outputs": [],
   "source": [
    "import sys\n",
    "import os"
   ]
  },
  {
   "cell_type": "code",
   "execution_count": 2,
   "metadata": {},
   "outputs": [],
   "source": [
    "# Adiciona o caminho da pasta 'libs' ao sys.path\n",
    "sys.path.append(os.path.abspath('../A.1.2'))"
   ]
  },
  {
   "cell_type": "code",
   "execution_count": 3,
   "metadata": {},
   "outputs": [
    {
     "name": "stdout",
     "output_type": "stream",
     "text": [
      "A função 'somatorio_1', está em: c:\\Users\\AriosvaldoBarros\\Desktop\\Aprendendo_Python\\Biblioteca os\\A\\A.1\\A.1.1\n"
     ]
    }
   ],
   "source": [
    "from utils_1 import *\n",
    "\n",
    "funcao_1()"
   ]
  },
  {
   "cell_type": "code",
   "execution_count": 17,
   "metadata": {},
   "outputs": [],
   "source": [
    "# Adiciona o caminho da pasta 'libs' ao sys.path\n",
    "sys.path.append(os.path.abspath('../../../B'))"
   ]
  },
  {
   "cell_type": "code",
   "execution_count": 19,
   "metadata": {},
   "outputs": [
    {
     "name": "stdout",
     "output_type": "stream",
     "text": [
      "A função 'somatorio_1', está em: c:\\Users\\AriosvaldoBarros\\Desktop\\Aprendendo_Python\\Biblioteca os\\A\\A.1\\A.1.1\n"
     ]
    }
   ],
   "source": [
    "from utils_2 import *\n",
    "\n",
    "funcao_2()"
   ]
  },
  {
   "cell_type": "code",
   "execution_count": null,
   "metadata": {},
   "outputs": [],
   "source": []
  },
  {
   "cell_type": "code",
   "execution_count": 12,
   "metadata": {},
   "outputs": [],
   "source": [
    "# Lista de caminhos a serem adicionados\n",
    "caminhos = [\n",
    "    os.path.abspath(r'C:\\Users\\AriosvaldoBarros\\Desktop\\Aprendendo_Python\\Biblioteca os\\B\\B.1'),\n",
    "    os.path.abspath(r'C:\\Users\\AriosvaldoBarros\\Desktop\\Aprendendo_Python\\Biblioteca os\\B\\B.2')\n",
    "]\n",
    "\n",
    "[sys.path.append(caminho) for caminho in caminhos if caminho not in sys.path]\n",
    "\n",
    "# Adiciona cada caminho ao sys.path\n",
    "for caminho in caminhos:\n",
    "    if caminho not in sys.path:\n",
    "        sys.path.append(caminho)\n",
    "\n",
    "# Adiciona cada caminho ao sys.path usando list comprehension\n"
   ]
  },
  {
   "cell_type": "code",
   "execution_count": null,
   "metadata": {},
   "outputs": [],
   "source": [
    "\n"
   ]
  },
  {
   "cell_type": "code",
   "execution_count": 14,
   "metadata": {},
   "outputs": [
    {
     "name": "stdout",
     "output_type": "stream",
     "text": [
      "A função 'somatorio_1', está em: c:\\Users\\AriosvaldoBarros\\Desktop\\Aprendendo_Python\\Biblioteca os\\A\\A.1\\A.1.1\n"
     ]
    }
   ],
   "source": [
    "from utils_3 import *\n",
    "\n",
    "funcao_3()"
   ]
  },
  {
   "cell_type": "code",
   "execution_count": 15,
   "metadata": {},
   "outputs": [
    {
     "name": "stdout",
     "output_type": "stream",
     "text": [
      "A função 'somatorio_1', está em: c:\\Users\\AriosvaldoBarros\\Desktop\\Aprendendo_Python\\Biblioteca os\\A\\A.1\\A.1.1\n"
     ]
    }
   ],
   "source": [
    "from utils_4 import *\n",
    "\n",
    "funcao_4()"
   ]
  },
  {
   "cell_type": "code",
   "execution_count": null,
   "metadata": {},
   "outputs": [],
   "source": []
  },
  {
   "cell_type": "code",
   "execution_count": null,
   "metadata": {},
   "outputs": [],
   "source": [
    "def obter_argumentos():\n",
    "    \"\"\"\n",
    "    Retorna a lista de argumentos passados na linha de comando.\n",
    "    \"\"\"\n",
    "    return sys.argv\n",
    "\n",
    "def obter_caminho_executavel():\n",
    "    \"\"\"\n",
    "    Retorna o caminho do executável do Python.\n",
    "    \"\"\"\n",
    "    return sys.executable\n",
    "\n",
    "def obter_versao_python():\n",
    "    \"\"\"\n",
    "    Retorna a versão do Python em execução.\n",
    "    \"\"\"\n",
    "    return sys.version\n",
    "\n",
    "def sair_programa(codigo=0):\n",
    "    \"\"\"\n",
    "    Encerra o programa com o código de saída especificado.\n",
    "    \"\"\"\n",
    "    sys.exit(codigo)\n",
    "\n",
    "def obter_tamanho_recursao():\n",
    "    \"\"\"\n",
    "    Retorna o limite máximo de profundidade de recursão.\n",
    "    \"\"\"\n",
    "    return sys.getrecursionlimit()\n",
    "\n",
    "def definir_tamanho_recursao(limite):\n",
    "    \"\"\"\n",
    "    Define o limite máximo de profundidade de recursão.\n",
    "    \"\"\"\n",
    "    sys.setrecursionlimit(limite)"
   ]
  },
  {
   "cell_type": "code",
   "execution_count": 2,
   "metadata": {},
   "outputs": [
    {
     "name": "stdout",
     "output_type": "stream",
     "text": [
      "Argumentos da linha de comando: ['c:\\\\Users\\\\AriosvaldoBarros\\\\anaconda3\\\\Lib\\\\site-packages\\\\ipykernel_launcher.py', '--f=c:\\\\Users\\\\AriosvaldoBarros\\\\AppData\\\\Roaming\\\\jupyter\\\\runtime\\\\kernel-v38c15989021ab5990ca7cf0e987c2a1f094167157.json']\n",
      "Caminho do executável do Python: c:\\Users\\AriosvaldoBarros\\anaconda3\\python.exe\n",
      "Versão do Python: 3.11.7 | packaged by Anaconda, Inc. | (main, Dec 15 2023, 18:05:47) [MSC v.1916 64 bit (AMD64)]\n",
      "Limite de profundidade de recursão: 3000\n",
      "Novo limite de profundidade de recursão: 2000\n",
      "Tamanho do objeto em bytes: 56\n",
      "Caminhos de pesquisa de módulos: ['c:\\\\Users\\\\AriosvaldoBarros\\\\Desktop\\\\Python\\\\Aprendendo_Python\\\\Biblioteca os\\\\A\\\\A_1\\\\A_1_1', 'c:\\\\Users\\\\AriosvaldoBarros\\\\anaconda3\\\\python311.zip', 'c:\\\\Users\\\\AriosvaldoBarros\\\\anaconda3\\\\DLLs', 'c:\\\\Users\\\\AriosvaldoBarros\\\\anaconda3\\\\Lib', 'c:\\\\Users\\\\AriosvaldoBarros\\\\anaconda3', '', 'c:\\\\Users\\\\AriosvaldoBarros\\\\anaconda3\\\\Lib\\\\site-packages', 'c:\\\\Users\\\\AriosvaldoBarros\\\\anaconda3\\\\Lib\\\\site-packages\\\\win32', 'c:\\\\Users\\\\AriosvaldoBarros\\\\anaconda3\\\\Lib\\\\site-packages\\\\win32\\\\lib', 'c:\\\\Users\\\\AriosvaldoBarros\\\\anaconda3\\\\Lib\\\\site-packages\\\\Pythonwin']\n",
      "Plataforma: win32\n"
     ]
    }
   ],
   "source": [
    "# Importa o módulo sys (já foi importado anteriormente)\n",
    "import sys\n",
    "\n",
    "# Obtém a lista de argumentos passados na linha de comando\n",
    "args = sys.argv\n",
    "print(f\"Argumentos da linha de comando: {args}\")\n",
    "\n",
    "# Obtém o caminho do executável do Python\n",
    "python_executable = sys.executable\n",
    "print(f\"Caminho do executável do Python: {python_executable}\")\n",
    "\n",
    "# Obtém a versão do Python em execução\n",
    "python_version = sys.version\n",
    "print(f\"Versão do Python: {python_version}\")\n",
    "\n",
    "# Encerra o programa com o código de saída especificado (0 indica sucesso)\n",
    "# sys.exit(0)\n",
    "\n",
    "# Obtém o limite máximo de profundidade de recursão\n",
    "recursion_limit = sys.getrecursionlimit()\n",
    "print(f\"Limite de profundidade de recursão: {recursion_limit}\")\n",
    "\n",
    "# Define um novo limite máximo de profundidade de recursão\n",
    "novo_limite = 2000\n",
    "sys.setrecursionlimit(novo_limite)\n",
    "print(f\"Novo limite de profundidade de recursão: {novo_limite}\")\n",
    "\n",
    "# Obtém o tamanho do objeto em bytes\n",
    "objeto = \"Exemplo\"\n",
    "tamanho_objeto = sys.getsizeof(objeto)\n",
    "print(f\"Tamanho do objeto em bytes: {tamanho_objeto}\")\n",
    "\n",
    "# Obtém a lista de caminhos de pesquisa de módulos\n",
    "caminhos_modulos = sys.path\n",
    "print(f\"Caminhos de pesquisa de módulos: {caminhos_modulos}\")\n",
    "\n",
    "# Obtém informações sobre a plataforma\n",
    "plataforma = sys.platform\n",
    "print(f\"Plataforma: {plataforma}\")"
   ]
  },
  {
   "cell_type": "code",
   "execution_count": 6,
   "metadata": {},
   "outputs": [
    {
     "data": {
      "text/plain": [
       "['c:\\\\Users\\\\AriosvaldoBarros\\\\Desktop\\\\Python\\\\Aprendendo_Python\\\\Biblioteca os\\\\A\\\\A_1\\\\A_1_1',\n",
       " 'c:\\\\Users\\\\AriosvaldoBarros\\\\anaconda3\\\\python311.zip',\n",
       " 'c:\\\\Users\\\\AriosvaldoBarros\\\\anaconda3\\\\DLLs',\n",
       " 'c:\\\\Users\\\\AriosvaldoBarros\\\\anaconda3\\\\Lib',\n",
       " 'c:\\\\Users\\\\AriosvaldoBarros\\\\anaconda3',\n",
       " '',\n",
       " 'c:\\\\Users\\\\AriosvaldoBarros\\\\anaconda3\\\\Lib\\\\site-packages',\n",
       " 'c:\\\\Users\\\\AriosvaldoBarros\\\\anaconda3\\\\Lib\\\\site-packages\\\\win32',\n",
       " 'c:\\\\Users\\\\AriosvaldoBarros\\\\anaconda3\\\\Lib\\\\site-packages\\\\win32\\\\lib',\n",
       " 'c:\\\\Users\\\\AriosvaldoBarros\\\\anaconda3\\\\Lib\\\\site-packages\\\\Pythonwin',\n",
       " 'c:\\\\Users\\\\AriosvaldoBarros\\\\Desktop\\\\Python\\\\Aprendendo_Python\\\\Biblioteca os\\\\B',\n",
       " 'c:\\\\Users\\\\AriosvaldoBarros\\\\Desktop\\\\Python\\\\Aprendendo_Python\\\\Biblioteca os\\\\B\\\\B.1',\n",
       " 'c:\\\\Users\\\\AriosvaldoBarros\\\\Desktop\\\\Python\\\\Aprendendo_Python\\\\Biblioteca os\\\\B\\\\B.2']"
      ]
     },
     "execution_count": 6,
     "metadata": {},
     "output_type": "execute_result"
    }
   ],
   "source": [
    "import os \n",
    "import sys\n",
    "\n",
    "sys.path.append(os.path.abspath(\"../../../B/B.2/\"))\n",
    "\n",
    "sys.path"
   ]
  },
  {
   "cell_type": "code",
   "execution_count": 7,
   "metadata": {},
   "outputs": [
    {
     "name": "stdout",
     "output_type": "stream",
     "text": [
      "A função 'somatorio_1', está em: c:\\Users\\AriosvaldoBarros\\Desktop\\Python\\Aprendendo_Python\\Biblioteca os\\A\\A_1\\A_1_1\n"
     ]
    }
   ],
   "source": [
    "from utils_4 import funcao_4\n",
    "\n",
    "funcao_4()"
   ]
  }
 ],
 "metadata": {
  "kernelspec": {
   "display_name": "base",
   "language": "python",
   "name": "python3"
  },
  "language_info": {
   "codemirror_mode": {
    "name": "ipython",
    "version": 3
   },
   "file_extension": ".py",
   "mimetype": "text/x-python",
   "name": "python",
   "nbconvert_exporter": "python",
   "pygments_lexer": "ipython3",
   "version": "3.11.7"
  }
 },
 "nbformat": 4,
 "nbformat_minor": 2
}
