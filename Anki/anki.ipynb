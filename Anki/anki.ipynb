{
 "cells": [
  {
   "cell_type": "code",
   "execution_count": 3,
   "metadata": {},
   "outputs": [
    {
     "name": "stdout",
     "output_type": "stream",
     "text": [
      "001) Qual é a diferença entre array e lista?\tVelocidade no processamento dos cálculos <br> Generalização dos elementos <br> Facilidade nos cálculos matemáticos\n",
      "002) Como saber o tipo de elemento numpy?\t<u>seu array</u>.dtype\n",
      "003) Como saber o tamanho em bytes de um elemento numpy?\t<u>seu array</u>.itemsize\n",
      "004) Como saber quantos elementos têm em um array numpy?\t<u>seu array</u>.size\n",
      "005) Como saber quantas dimensões tem em um array numpy?\t<u>seu array</u>.ndim\n",
      "006) Como saber o formato de um array numpy?\t<u>seu array</u>.shape\n",
      "007) Como somar todos os elementos de um array numpy?\tnp.sum(<u>seu array</u>) <br> <u>seu array</u>sum()\n"
     ]
    }
   ],
   "source": [
    "from main import formatar_texto\n",
    "\n",
    "# Importação do arquivo .txt para ser formatado\n",
    "with open(\"anki_original.txt\") as arquivo:\n",
    "    entrada = arquivo.read()\n",
    "\n",
    "# Formata e apresenta o texto tratado\n",
    "saida = formatar_texto(entrada)\n",
    "print(saida)\n",
    "\n",
    "# Salva o texto formatado\n",
    "with open(\"anki_formatado.txt\", 'w') as arquivo:\n",
    "    arquivo.write(saida)"
   ]
  }
 ],
 "metadata": {
  "kernelspec": {
   "display_name": "base",
   "language": "python",
   "name": "python3"
  },
  "language_info": {
   "codemirror_mode": {
    "name": "ipython",
    "version": 3
   },
   "file_extension": ".py",
   "mimetype": "text/x-python",
   "name": "python",
   "nbconvert_exporter": "python",
   "pygments_lexer": "ipython3",
   "version": "3.11.7"
  }
 },
 "nbformat": 4,
 "nbformat_minor": 2
}
