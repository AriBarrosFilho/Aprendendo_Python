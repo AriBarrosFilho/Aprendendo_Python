{
 "cells": [
  {
   "cell_type": "code",
   "execution_count": 2,
   "metadata": {},
   "outputs": [
    {
     "name": "stdout",
     "output_type": "stream",
     "text": [
      "001) Como retornar um sequência aleatória de x bytes no formato de bytes com o random?\trandom.randbytes(x)\n",
      "002) Para que serve a função random.getstate()?\tRetorna uma tupla de dados que foram utilizados para gerar o número aleatório naquele momento.\n",
      "003) Para que serve a função random.setstate(state)?\tUtiliza os dados de random.getstate() para definir uma semente.\n",
      "004) Como criar uma semente para valores aleatórios na biblioteca random?\trandom.seed() <br><br> Só funciona para a célula atual.\n",
      "005) Como misturar os elementos de uma lista com o random?\trandom.shuffle(lista)\n",
      "006) Como gerar valores aleatórios inteiros com o random?\trandom.randint(valor mínimo, valor máximo inclusive) <br><br> random.randrange(valor mínimo, valor máximo inclusive, passo)\n",
      "007) Como escolher um elemento aleatório de uma lista usando o random?\trandom.choice(lista)\n",
      "008) Como escolher uma lista de tamanho n, com elementos aleatório de outra lista com reposição?\trandom.choices(population = lista, k = n) <br><br> weights: É uma lista de mesmo tamanho que a lista base, indicando o peso de cada elemento para ser selecionado\n",
      "009) Como escolher uma lista de tamanho n, com elementos aleatório de outra lista sem reposição?\trandom.sample(population = lista, k = n)\n",
      "010) Como gerar valores aleatórios entre 0 e 1 usando random?\trandom.random()\n"
     ]
    }
   ],
   "source": [
    "from main import formatar_texto\n",
    "\n",
    "# Importação do arquivo .txt para ser formatado\n",
    "with open(\"anki_original.txt\") as arquivo:\n",
    "    entrada = arquivo.read()\n",
    "\n",
    "# Formata e apresenta o texto tratado\n",
    "saida = formatar_texto(entrada)\n",
    "print(saida)\n",
    "\n",
    "# Salva o texto formatado\n",
    "with open(\"anki_formatado.txt\", 'w') as arquivo:\n",
    "    arquivo.write(saida)"
   ]
  }
 ],
 "metadata": {
  "kernelspec": {
   "display_name": "base",
   "language": "python",
   "name": "python3"
  },
  "language_info": {
   "codemirror_mode": {
    "name": "ipython",
    "version": 3
   },
   "file_extension": ".py",
   "mimetype": "text/x-python",
   "name": "python",
   "nbconvert_exporter": "python",
   "pygments_lexer": "ipython3",
   "version": "3.11.7"
  }
 },
 "nbformat": 4,
 "nbformat_minor": 2
}
