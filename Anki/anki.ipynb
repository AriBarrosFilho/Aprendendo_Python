{
 "cells": [
  {
   "cell_type": "code",
   "execution_count": 4,
   "metadata": {},
   "outputs": [
    {
     "name": "stdout",
     "output_type": "stream",
     "text": [
      "001) Como obter o diretório atual?\tos.getcwd()\n",
      "002) Como obter a lista de arquivos e pastas de um diretório?\tos.listdir(diretorio)\n",
      "003) Como verificar se um arquivo ou pasta existe?\tos.path.exists(novo_diretorio)\n",
      "004) Como criar um novo diretório?\tos.mkdir(novo_diretorio)\n",
      "005) Como renomear um diretório?\tos.rename(nome_antigo, nome_novo)\n",
      "006) Como remover um diretório?\tos.rmdir(diretorio)\n",
      "007) Como obter o caminho absoluto de um arquivo?\tos.path.abspath(caminho_relativo)\n",
      "008) Como dividir em caminho do diretóri oe arquivo?\tdiretorio, arquivo = os.path.split(caminho_absoluto)\n",
      "009) Como criar um caminho completo usando o caminho da pasta e do arquivo?\tos.path.join(diretorio, arquivo)\n",
      "010) Como obter o tamanho em bytes de um arquivo?\tos.path.getsize(arquivo)\n",
      "011) Como verificar se um diretório é uma pasta?\tos.path.isdir(caminho_item)\n",
      "012) Como verificar se um diretório é um arquivo?\tos.path.isfile(caminho_item)\n"
     ]
    }
   ],
   "source": [
    "from main import formatar_texto\n",
    "\n",
    "# Importação do arquivo .txt para ser formatado\n",
    "with open(\"anki_original.txt\") as arquivo:\n",
    "    entrada = arquivo.read()\n",
    "\n",
    "# Formata e apresenta o texto tratado\n",
    "saida = formatar_texto(entrada)\n",
    "print(saida)\n",
    "\n",
    "# Salva o texto formatado\n",
    "with open(\"anki_formatado.txt\", 'w') as arquivo:\n",
    "    arquivo.write(saida)"
   ]
  }
 ],
 "metadata": {
  "kernelspec": {
   "display_name": "base",
   "language": "python",
   "name": "python3"
  },
  "language_info": {
   "codemirror_mode": {
    "name": "ipython",
    "version": 3
   },
   "file_extension": ".py",
   "mimetype": "text/x-python",
   "name": "python",
   "nbconvert_exporter": "python",
   "pygments_lexer": "ipython3",
   "version": "3.11.7"
  }
 },
 "nbformat": 4,
 "nbformat_minor": 2
}
