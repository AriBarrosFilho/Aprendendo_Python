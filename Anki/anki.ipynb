{
 "cells": [
  {
   "cell_type": "code",
   "execution_count": 2,
   "metadata": {},
   "outputs": [
    {
     "name": "stdout",
     "output_type": "stream",
     "text": [
      "001) Como instalar o scikit-learn?\t!pip install -U scikit-learn\n",
      "002) Como usar o train_test_split?\tfrom sklearn.model_selection import train_test_split <br> X_train, X_test, y_train, y_test = train_test_split(X, y, test_size = 0.2, stratify = y, random_state = 42) <br><br> Você pode usar o pd.cut() para alguma coluna numérica específica e criar intervalos para tais valores, e usar essa nova coluna de intervalos para a estratificação\n",
      "003) Como estratificar os dados com base em mais de uma coluna de um dataframe do pandas e usando train_test_split?\tdata['stratify_col'] = data['class1'].astype(str) + \"_\" + data['class2']\n",
      "004) Como usar a regressão linear do sklearn?\tfrom sklearn.linear_model import LinearRegression <br><br> model = LinearRegression() <br> model.fit(X = X, y = y) <br> y_pred = model.predict(X = X) <br><br> b = model.intercept_ <br> w = model.coef_\n",
      "005) Como calcular o mse através do sklearn?\tfrom sklearn.metrics import mean_squared_error <br> mse = mean_squared_error(y_true = y, y_pred = y_pred)\n",
      "006) Como calcular o r2, que é a métrica de desempenho de um modelo de aprendizado de máquina usando sklearn?\tfrom sklearn.metrics import r2_score <br> r2_score(y_true = y, y_pred = y_pred)\n",
      "007) Como calcular o rmse usando sklearn?\tfrom sklearn.metrics import root_mean_squared_error <br> rmse = root_mean_squared_error(y_true = y, y_pred = y_pred)\n",
      "008) Como calcular o mae usando sklearn?\tfrom sklearn.metrics import mean_absolute_error <br> mae = mean_absolute_error(y_true = y, y_pred = y_pred)\n",
      "009) Como calcular o mape usando sklean?\tfrom sklearn.metrics import mean_absolute_percentage_error <br> mape = mean_absolute_percentage_error(y_true = y, y_pred = y_pred)\n",
      "010) Como calcular o median absolute error usando sklearn?\tfrom sklearn.metrics import median_absolute_error <br> medae = median_absolute_error(y_true = y, y_pred = y_pred)\n"
     ]
    }
   ],
   "source": [
    "import re\n",
    "\n",
    "def formatar_texto(texto):\n",
    "    # Quebra o texto em linhas\n",
    "    linhas = texto.strip().split(\"\\n\")\n",
    "    \n",
    "    nova_lista = []\n",
    "    contador = 1\n",
    "\n",
    "    for linha in linhas:\n",
    "        # Usa expressão regular para identificar frases no formato correto ou incorreto\n",
    "        match = re.match(r'(\\d+)?\\)?(.*?)(\\?|:)', linha.strip())\n",
    "        \n",
    "        if match:\n",
    "            # Captura a frase e a resposta\n",
    "            frase = match.group(2).strip()\n",
    "            pontuacao = match.group(3)\n",
    "            \n",
    "            # Isola a resposta (se houver) da pergunta\n",
    "            partes = linha.split(pontuacao, 1)\n",
    "            if len(partes) > 1:\n",
    "                resposta = partes[1].strip()\n",
    "            else:\n",
    "                resposta = \"\"\n",
    "                \n",
    "            # Corrige a capitalização da frase\n",
    "            frase_corrigida = frase.capitalize()\n",
    "            \n",
    "            # Cria a nova linha com o marcador, pergunta corrigida e resposta\n",
    "            nova_linha = f\"{contador:03d}) {frase_corrigida}{pontuacao}\\t{resposta}\"\n",
    "            nova_lista.append(nova_linha)\n",
    "            \n",
    "            contador += 1\n",
    "    \n",
    "    # Retorna o texto formatado\n",
    "    return \"\\n\".join(nova_lista)\n",
    "\n",
    "# Importação do arquivo .txt para ser formatado\n",
    "with open(\"anki_original.txt\") as arquivo:\n",
    "    entrada = arquivo.read()\n",
    "\n",
    "# Formata e apresenta o texto tratado\n",
    "saida = formatar_texto(entrada)\n",
    "print(saida)\n",
    "\n",
    "# Salva o texto formatado\n",
    "with open(\"anki_formatado.txt\", 'w') as arquivo:\n",
    "    arquivo.write(saida)"
   ]
  }
 ],
 "metadata": {
  "kernelspec": {
   "display_name": "base",
   "language": "python",
   "name": "python3"
  },
  "language_info": {
   "codemirror_mode": {
    "name": "ipython",
    "version": 3
   },
   "file_extension": ".py",
   "mimetype": "text/x-python",
   "name": "python",
   "nbconvert_exporter": "python",
   "pygments_lexer": "ipython3",
   "version": "3.11.7"
  }
 },
 "nbformat": 4,
 "nbformat_minor": 2
}
