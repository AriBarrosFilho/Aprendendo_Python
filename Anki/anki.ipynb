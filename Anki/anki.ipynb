{
 "cells": [
  {
   "cell_type": "code",
   "execution_count": 1,
   "metadata": {},
   "outputs": [
    {
     "name": "stdout",
     "output_type": "stream",
     "text": [
      "001) Como renomear uma ou mais colunas de um dataframe no pandas?\tdf = df.rename(columns={'A': 'Coluna1', 'B': 'Coluna2'}) <br><br> df.columns = ['Coluna1', 'Coluna2']\n",
      "002) Como alterar a ordem das colunas em um dataframe do pandas?\tnew_order = ['B', 'A', 'C'] <br> df = df[new_order]\n",
      "003) Como obter uma lista dos nomes das colunas de um dataframe no pandas?\tlist(df.columns)\n",
      "004) Como obter uma lista com os índices de um dataframe no pandas?\tlist(df.index)\n",
      "005) Como obter uma lista com os nomes das colunas que sejam de um mais tipos no dataframe do pandas?\tdf.select_dtypes(include = 'int').columns <br><br> df.select_dtypes(include = ['float', 'int']).columns\n",
      "006) Como acessar uma célula específica de um dataframe com base em seu índice e coluna (pegar seu valor e também poder alterar o valor)?\tdf.at[índice, coluna]\n"
     ]
    }
   ],
   "source": [
    "import re\n",
    "\n",
    "def formatar_texto(texto):\n",
    "    # Quebra o texto em linhas\n",
    "    linhas = texto.strip().split(\"\\n\")\n",
    "    \n",
    "    nova_lista = []\n",
    "    contador = 1\n",
    "\n",
    "    for linha in linhas:\n",
    "        # Usa expressão regular para identificar frases no formato correto ou incorreto\n",
    "        match = re.match(r'(\\d+)?\\)?(.*?)(\\?|:)', linha.strip())\n",
    "        \n",
    "        if match:\n",
    "            # Captura a frase e a resposta\n",
    "            frase = match.group(2).strip()\n",
    "            pontuacao = match.group(3)\n",
    "            \n",
    "            # Isola a resposta (se houver) da pergunta\n",
    "            partes = linha.split(pontuacao, 1)\n",
    "            if len(partes) > 1:\n",
    "                resposta = partes[1].strip()\n",
    "            else:\n",
    "                resposta = \"\"\n",
    "                \n",
    "            # Corrige a capitalização da frase\n",
    "            frase_corrigida = frase.capitalize()\n",
    "            \n",
    "            # Cria a nova linha com o marcador, pergunta corrigida e resposta\n",
    "            nova_linha = f\"{contador:03d}) {frase_corrigida}{pontuacao}\\t{resposta}\"\n",
    "            nova_lista.append(nova_linha)\n",
    "            \n",
    "            contador += 1\n",
    "    \n",
    "    # Retorna o texto formatado\n",
    "    return \"\\n\".join(nova_lista)\n",
    "\n",
    "# Importação do arquivo .txt para ser formatado\n",
    "with open(\"anki_original.txt\") as arquivo:\n",
    "    entrada = arquivo.read()\n",
    "\n",
    "# Formata e apresenta o texto tratado\n",
    "saida = formatar_texto(entrada)\n",
    "print(saida)\n",
    "\n",
    "# Salva o texto formatado\n",
    "with open(\"anki_formatado.txt\", 'w') as arquivo:\n",
    "    arquivo.write(saida)"
   ]
  }
 ],
 "metadata": {
  "kernelspec": {
   "display_name": "base",
   "language": "python",
   "name": "python3"
  },
  "language_info": {
   "codemirror_mode": {
    "name": "ipython",
    "version": 3
   },
   "file_extension": ".py",
   "mimetype": "text/x-python",
   "name": "python",
   "nbconvert_exporter": "python",
   "pygments_lexer": "ipython3",
   "version": "3.11.7"
  }
 },
 "nbformat": 4,
 "nbformat_minor": 2
}
