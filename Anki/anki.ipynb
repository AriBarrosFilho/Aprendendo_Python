{
 "cells": [
  {
   "cell_type": "code",
   "execution_count": 1,
   "metadata": {},
   "outputs": [
    {
     "name": "stdout",
     "output_type": "stream",
     "text": [
      "001) Como criar uma pasta zip usando comandos linux, de modo que os arquivos respeitem a sua estrutura original de seu caminho?\t!zip -r nome_pasta.zip arquivo_pasta_1 arquivo_pasta_2 arquivo_pasta_n\n",
      "002) Como criar uma pasta zip usando comandos linux, de modo que apenas os arquivos ou pastas estejam na pasta zipada sem seus caminhos originais?\t!zip -j nome_pasta.zip arquivo_pasta_1 arquivo_pasta_2 arquivo_pasta_n\n",
      "003) Qual o comando linux para extrair uma pasta zip de um diretório para outro?\t!unzip -o /content/meu_arquivo.zip -d /content/minha_pasta_extraida <br><br> -o Sobrescreve arquivos existentes, se necessário. <br> -d Especifica o diretório de destino. No exemplo, o arquivo será extraído para /content/.\n",
      "004) Como entrar em uma determinada pasta usando comando linux?\tcd nome_da_pasta <br><br> Você pode usar as primeiras letras da pasta, apertar TAB que ele completará\n",
      "005) Como voltar uma pasta de um determinado diretório usando comando linux?\tcd ..\n",
      "006) Como mostrar o caminho completo do diretório atual através de um comando linux?\tpwd\n",
      "007) Como mostar todos os arquivos e pastas do diretório atual através de um comando linux?\tdir <br><br> ls <br><br> ls -l <br> Apresenta os arquivos e pastas de forma detalhada <br><br> ls -a <br> Apresenta os arquivos e pastas ocultos <br><br> ls -la <br> Apresenta todos os arquivos e pastas até mesmo os ocultos de forma detalhada\n",
      "008) Qual o comando linux para ir para o diretório inicial?\tcd ~\n",
      "009) Qual o operador para concatenar comandos linux?\t&&\n",
      "010) Qual o operador para executar comandos linux em células de notebook?\t!\n",
      "011) Como criar um arquivo vazio no linux?\ttouch arquivo.txt\n",
      "012) Como criar pastas através de comandos linux?\tmkdir novo_diretorio <br><br> mkdir -p pasta/subpasta  # Cria diretórios em cascata\n",
      "013) Como copiar arquivos e pastas de uma origem para um destino usando comandos linux?\tcp -r arquivo1 pasta1 arquivo2 pasta2 pasta_destino # A última pasta sempre será a pasta destino que receberá as cópias\n",
      "014) Qual o comando linux para remover uma ou mais pastas e arquivos?\t!rm -rf arquivo1 pasta1 arquivo2 pasta2 # -r (Faz de forma recursica, isto é, deleta todos os subitens de uma pasta), -f (Deleta de forma forçada)\n",
      "015) Caso o caminho de uma pasta ou arquivo possua um espaço, como corrigir para que qualquer comando linux que use tal caminho não apresente nenhum problema?\tSubstitual o espaço por contra-barra e esse espaço, veja o exemplo abaixo. <br><br> nova pasta/arquivo .txt <br> nova\\ pasta/arquivo.txt\n",
      "016) Como renomear um arquivo ou pasta com comandos linux?\tmv arquivo.txt novo_arquivo.txt\n",
      "017) Como mover uma ou mais pastas e arquivos para um determinado destino com comandos linux?\tmv -v pasta1 pasta2 pasta3 arquivo1 arquivo2 /home/usuario/destino/ # Adicionar a opção -v (verbose) Para ver detalhes da operação.\n",
      "018) Como mostar o conteúdo de um arquivo usando comandos linux?\tcat arquivo.txt <br><br> less arquivo_grande.txt\n",
      "019) Como limpar o terminal usando comando linux?\tclear\n",
      "020) Como mostar as primeiras e últimas linhas de um arquivo com comandos linux?\thead -n 10 arquivo.txt  # Primeiras 10 linhas <br><br> tail -n 20 log.txt  # Últimas 20 linhas <br><br> tail -f log.txt     # Segue o arquivo em tempo real\n"
     ]
    }
   ],
   "source": [
    "import re\n",
    "\n",
    "def formatar_texto(texto):\n",
    "    # Quebra o texto em linhas\n",
    "    linhas = texto.strip().split(\"\\n\")\n",
    "    \n",
    "    nova_lista = []\n",
    "    contador = 1\n",
    "\n",
    "    for linha in linhas:\n",
    "        # Usa expressão regular para identificar frases no formato correto ou incorreto\n",
    "        match = re.match(r'(\\d+)?\\)?(.*?)(\\?|:)', linha.strip())\n",
    "        \n",
    "        if match:\n",
    "            # Captura a frase e a resposta\n",
    "            frase = match.group(2).strip()\n",
    "            pontuacao = match.group(3)\n",
    "            \n",
    "            # Isola a resposta (se houver) da pergunta\n",
    "            partes = linha.split(pontuacao, 1)\n",
    "            if len(partes) > 1:\n",
    "                resposta = partes[1].strip()\n",
    "            else:\n",
    "                resposta = \"\"\n",
    "                \n",
    "            # Corrige a capitalização da frase\n",
    "            frase_corrigida = frase.capitalize()\n",
    "            \n",
    "            # Cria a nova linha com o marcador, pergunta corrigida e resposta\n",
    "            nova_linha = f\"{contador:03d}) {frase_corrigida}{pontuacao}\\t{resposta}\"\n",
    "            nova_lista.append(nova_linha)\n",
    "            \n",
    "            contador += 1\n",
    "    \n",
    "    # Retorna o texto formatado\n",
    "    return \"\\n\".join(nova_lista)\n",
    "\n",
    "# Importação do arquivo .txt para ser formatado\n",
    "with open(\"anki_original.txt\") as arquivo:\n",
    "    entrada = arquivo.read()\n",
    "\n",
    "# Formata e apresenta o texto tratado\n",
    "saida = formatar_texto(entrada)\n",
    "print(saida)\n",
    "\n",
    "# Salva o texto formatado\n",
    "with open(\"anki_formatado.txt\", 'w') as arquivo:\n",
    "    arquivo.write(saida)"
   ]
  }
 ],
 "metadata": {
  "kernelspec": {
   "display_name": "base",
   "language": "python",
   "name": "python3"
  },
  "language_info": {
   "codemirror_mode": {
    "name": "ipython",
    "version": 3
   },
   "file_extension": ".py",
   "mimetype": "text/x-python",
   "name": "python",
   "nbconvert_exporter": "python",
   "pygments_lexer": "ipython3",
   "version": "3.11.7"
  }
 },
 "nbformat": 4,
 "nbformat_minor": 2
}
