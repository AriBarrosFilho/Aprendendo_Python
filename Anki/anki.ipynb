{
 "cells": [
  {
   "cell_type": "code",
   "execution_count": 5,
   "metadata": {},
   "outputs": [
    {
     "name": "stdout",
     "output_type": "stream",
     "text": [
      "001) Qual o marco zero (epoch) da biblioteca time?\t01/01/1970 00:00:00\n",
      "002) Como calcular a quantidade de segundos desde o marco zero (epoch)?\ttime.time() <br><br> É uma função muito útil para sabermos o tempo que um certo trecho de código demora para ser executado.\n",
      "003) Como fazer o programa ficar pausado em uma certa linha por <u>x</u> segundos?\ttime.sleep(<u>quantidade de segundos</u>)\n",
      "004) Como mostrar a data e a hora atual local?\ttime.ctime() <br><br> time.ctime(<u>quantidade de segundos</u>) Apresenta a data e a hora com base na quantidade segundos depois de 01/01/1970 00:00:00\n",
      "005) O que faz a função <b>time.gmtime()</b>?\tRetorna uma estrutura do tipo struct_time, que é uma tupla contendo todas as informações sobre data e horário do ponto em relação ao UTC/GMT. <br><br> <b>time.gmtime(<u>quantidade de segundos</u>)</b>, retorna uma estrutura do tipo struct_time com base na quantidade de segundos após 01/01/1970 00:00:00\n",
      "006) Como retornar uma estrutura do tipo struct_time, porém com base no horário local?\ttime.localtime()\n",
      "007) Como acessar os dados de um variável do tipo struct_time?\tAtravés da sua posição ou seu nome, exemplo: agora = time.localtime(), ano = agora[0], ano = agora.tm_year\n",
      "008) Como personalizar a estrutura de data e hora?\tUtilizando a função time.strftime(<u>estrutura desejada</u>, <u>variável em struct_time</u>) <br><br> Exemplo: <br> agora = time.localtime() <br> agora_personalizado = time.strftime(%d %B % Y, agora)\n",
      "009) Qual símbolo é esse na função time.strftime() %d?\tdia do mês [1, 31] <br>\n",
      "010) Qual símbolo é esse na função time.strftime() %b?\tNome completo do mês <br>\n",
      "011) Qual símbolo é esse na função time.strftime() %b?\tNome abreviado do mês <br>\n",
      "012) Qual símbolo é esse na função time.strftime() %m?\tNúmero do mês [1, 12] <br>\n",
      "013) Qual símbolo é esse na função time.strftime() %y?\tNúmero do ano <br>\n",
      "014) Qual símbolo é esse na função time.strftime() %y?\tNúmero final do ano [00,99]\n",
      "015) Qual símbolo é esse na função time.strftime() %h?\tHora [0, 23] <br>\n",
      "016) Qual símbolo é esse na função time.strftime() %i?\tHora [1, 12] <br>\n",
      "017) Qual símbolo é esse na função time.strftime() %m?\tMinutos <br> [0, 59]\n",
      "018) Qual símbolo é esse na função time.strftime() %s?\tSegundos <br> [0, 59]\n",
      "019) Qual símbolo é esse na função time.strftime() %a?\tNome do dia da semana abreviado\n",
      "020) Qual símbolo é esse na função time.strftime() %a?\tNome do dia da semana completo\n",
      "021) Qual símbolo é esse na função time.strftime() %j?\tDia do ano [1,366]\n",
      "022) Qual símbolo é esse na função time.strftime() %p?\tAM ou PM\n",
      "023) Qual símbolo é esse na função time.strftime() %w?\tWeekday as a decimal number [0(Sunday),6]\n",
      "024) Como deixar os nomes dos meses e dos dias da semana em português?\timport locale <br> locale.setlocale(locale.LC_TIME, 'pt_BR.UTF-8')\n",
      "025) Como transformar uma string para o formato struct_time?\tstring_tempo = \"30 Junho, 2023\" <br> formato = \"%d %B, %Y\" <br> tempo_em_struct = time.strptime(string_tempo, formato)\n",
      "026) Como saber quantos segundos se passaram a partir do marco zero com base em uma data e hora?\ttempo_em_struct = time.localtime() <br> tempo_em_segundos = time.mktime(tempo_em_struct) <br><br> tempo_em_segundos = time.mktime((2023, 1, 1, 0, 0, 0, 0, 0, 0))\n",
      "027) %u qual símbolo é esse na função time.strftime()?\tNúmero da semana no ano [00, 53]\n"
     ]
    }
   ],
   "source": [
    "from main import formatar_texto\n",
    "\n",
    "# Importação do arquivo .txt para ser formatado\n",
    "with open(\"anki_original.txt\") as arquivo:\n",
    "    entrada = arquivo.read()\n",
    "\n",
    "# Formata e apresenta o texto tratado\n",
    "saida = formatar_texto(entrada)\n",
    "print(saida)\n",
    "\n",
    "# Salva o texto formatado\n",
    "with open(\"anki_formatado.txt\", 'w') as arquivo:\n",
    "    arquivo.write(saida)"
   ]
  }
 ],
 "metadata": {
  "kernelspec": {
   "display_name": "base",
   "language": "python",
   "name": "python3"
  },
  "language_info": {
   "codemirror_mode": {
    "name": "ipython",
    "version": 3
   },
   "file_extension": ".py",
   "mimetype": "text/x-python",
   "name": "python",
   "nbconvert_exporter": "python",
   "pygments_lexer": "ipython3",
   "version": "3.11.7"
  }
 },
 "nbformat": 4,
 "nbformat_minor": 2
}
