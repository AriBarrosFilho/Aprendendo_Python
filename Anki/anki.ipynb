{
 "cells": [
  {
   "cell_type": "code",
   "execution_count": 2,
   "metadata": {},
   "outputs": [
    {
     "name": "stdout",
     "output_type": "stream",
     "text": [
      "001) Como obter o diretório atual?\tos.getcwd()\n",
      "002) Como obter a lista de arquivos e pastas de um diretório?\tos.listdir(diretorio)\n",
      "003) Como verificar se um arquivo ou pasta existe?\tos.path.exists(novo_diretorio)\n",
      "004) Como criar um novo diretório?\tos.mkdir(novo_diretorio)\n",
      "005) Como renomear um diretório usando a biblioteca os?\tos.rename(nome_antigo, nome_novo)\n",
      "006) Como remover uma pasta vazia?\tos.rmdir(diretorio) <br><br> O diretório precisa estar vazio\n",
      "007) Como remover um arquivo usando a biblioteca os?\tos.remove(diretorio_arquivo)\n",
      "008) Como obter o caminho absoluto de um arquivo?\tos.path.abspath(caminho_relativo)\n",
      "009) Como dividir em caminho do diretório e arquivo?\tdiretorio, arquivo = os.path.split(caminho_absoluto)\n",
      "010) Como criar um caminho completo usando o caminho da pasta e do arquivo?\tos.path.join(diretorio, arquivo)\n",
      "011) Como obter o tamanho em bytes de um arquivo com a biblioteca os?\tos.path.getsize(arquivo)\n",
      "012) Como verificar se um diretório é uma pasta?\tos.path.isdir(caminho_item)\n",
      "013) Como verificar se um diretório é um arquivo?\tos.path.isfile(caminho_item)\n",
      "014) Com remover uma pasta que contém itens?\timport shutil <br> shutil.rmtree(diretorio_pasta)\n",
      "015) Como obter os caminhos das pastas e subspastas com base em um diretório, além de seus arquivos internos?\tdirpath, dirnames, filenames = os.walk()\n",
      "016) Como retornar o último elemento do caminho de um diretório com a biblioteca os?\tos.path.basename()\n"
     ]
    }
   ],
   "source": [
    "import re\n",
    "\n",
    "def formatar_texto(texto):\n",
    "    # Quebra o texto em linhas\n",
    "    linhas = texto.strip().split(\"\\n\")\n",
    "    \n",
    "    nova_lista = []\n",
    "    contador = 1\n",
    "\n",
    "    for linha in linhas:\n",
    "        # Usa expressão regular para identificar frases no formato correto ou incorreto\n",
    "        match = re.match(r'(\\d+)?\\)?(.*?)(\\?|:)', linha.strip())\n",
    "        \n",
    "        if match:\n",
    "            # Captura a frase e a resposta\n",
    "            frase = match.group(2).strip()\n",
    "            pontuacao = match.group(3)\n",
    "            \n",
    "            # Isola a resposta (se houver) da pergunta\n",
    "            partes = linha.split(pontuacao, 1)\n",
    "            if len(partes) > 1:\n",
    "                resposta = partes[1].strip()\n",
    "            else:\n",
    "                resposta = \"\"\n",
    "                \n",
    "            # Corrige a capitalização da frase\n",
    "            frase_corrigida = frase.capitalize()\n",
    "            \n",
    "            # Cria a nova linha com o marcador, pergunta corrigida e resposta\n",
    "            nova_linha = f\"{contador:03d}) {frase_corrigida}{pontuacao}\\t{resposta}\"\n",
    "            nova_lista.append(nova_linha)\n",
    "            \n",
    "            contador += 1\n",
    "    \n",
    "    # Retorna o texto formatado\n",
    "    return \"\\n\".join(nova_lista)\n",
    "\n",
    "# Importação do arquivo .txt para ser formatado\n",
    "with open(\"anki_original.txt\") as arquivo:\n",
    "    entrada = arquivo.read()\n",
    "\n",
    "# Formata e apresenta o texto tratado\n",
    "saida = formatar_texto(entrada)\n",
    "print(saida)\n",
    "\n",
    "# Salva o texto formatado\n",
    "with open(\"anki_formatado.txt\", 'w') as arquivo:\n",
    "    arquivo.write(saida)"
   ]
  }
 ],
 "metadata": {
  "kernelspec": {
   "display_name": "base",
   "language": "python",
   "name": "python3"
  },
  "language_info": {
   "codemirror_mode": {
    "name": "ipython",
    "version": 3
   },
   "file_extension": ".py",
   "mimetype": "text/x-python",
   "name": "python",
   "nbconvert_exporter": "python",
   "pygments_lexer": "ipython3",
   "version": "3.11.7"
  }
 },
 "nbformat": 4,
 "nbformat_minor": 2
}
