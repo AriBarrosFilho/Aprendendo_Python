{
 "cells": [
  {
   "cell_type": "code",
   "execution_count": null,
   "metadata": {},
   "outputs": [
    {
     "name": "stdout",
     "output_type": "stream",
     "text": [
      "001) Qual é a diferença entre array e lista?\tVelocidade no processamento dos cálculos <br> Generalização dos elementos <br> Facilidade nos cálculos matemáticos\n",
      "002) Como saber o tipo de elemento numpy?\t<u>seu array</u>.dtype\n",
      "003) Como saber o tamanho em bytes de um elemento numpy?\t<u>seu array</u>.itemsize\n",
      "004) Como saber quantos elementos têm em um array numpy?\t<u>seu array</u>.size\n",
      "005) Como saber quantas dimensões tem em um array numpy?\t<u>seu array</u>.ndim\n",
      "006) Como saber o formato de um array numpy?\t<u>seu array</u>.shape\n",
      "007) Como somar todos os elementos de um array numpy?\tnp.sum(<u>seu array</u>) <br> <u>seu array</u>.sum() <br><br> axis: Eixo onde será somado <br> dytpe: tipo de cada elemento no final <br> keepdims: Manter ou não as dimensões <br> initial: Adiciona mais esse valor\n",
      "008) Como selecionar elementos, linhas e colunas específicas em uma matriz do numpy?\t\n",
      "009) Como obter as posições em um array que satisfazem uma determinada condição?\tnp.where(seu_array + condição)\n",
      "010) Como obter os elementos em um array que satisfazem uma determinada condição?\tseu_array[seu_array + condição] <br><br> seu_array[np.where(seu_array + condição)]\n",
      "011) O que acontece quando você coloca um array e uma condição juntos de forma isolada?\tRetorna outro array com os elementos sendo True ou False dependendo se satisfez a condição ou não\n"
     ]
    }
   ],
   "source": [
    "import re\n",
    "\n",
    "def formatar_texto(texto):\n",
    "    # Quebra o texto em linhas\n",
    "    linhas = texto.strip().split(\"\\n\")\n",
    "    \n",
    "    nova_lista = []\n",
    "    contador = 1\n",
    "\n",
    "    for linha in linhas:\n",
    "        # Usa expressão regular para identificar frases no formato correto ou incorreto\n",
    "        match = re.match(r'(\\d+)?\\)?(.*?)(\\?|:)', linha.strip())\n",
    "        \n",
    "        if match:\n",
    "            # Captura a frase e a resposta\n",
    "            frase = match.group(2).strip()\n",
    "            pontuacao = match.group(3)\n",
    "            \n",
    "            # Isola a resposta (se houver) da pergunta\n",
    "            partes = linha.split(pontuacao, 1)\n",
    "            if len(partes) > 1:\n",
    "                resposta = partes[1].strip()\n",
    "            else:\n",
    "                resposta = \"\"\n",
    "                \n",
    "            # Corrige a capitalização da frase\n",
    "            frase_corrigida = frase.capitalize()\n",
    "            \n",
    "            # Cria a nova linha com o marcador, pergunta corrigida e resposta\n",
    "            nova_linha = f\"{contador:03d}) {frase_corrigida}{pontuacao}\\t{resposta}\"\n",
    "            nova_lista.append(nova_linha)\n",
    "            \n",
    "            contador += 1\n",
    "    \n",
    "    # Retorna o texto formatado\n",
    "    return \"\\n\".join(nova_lista)\n",
    "\n",
    "# Importação do arquivo .txt para ser formatado\n",
    "with open(\"anki_original.txt\") as arquivo:\n",
    "    entrada = arquivo.read()\n",
    "\n",
    "# Formata e apresenta o texto tratado\n",
    "saida = formatar_texto(entrada)\n",
    "print(saida)\n",
    "\n",
    "# Salva o texto formatado\n",
    "with open(\"anki_formatado.txt\", 'w') as arquivo:\n",
    "    arquivo.write(saida)"
   ]
  }
 ],
 "metadata": {
  "kernelspec": {
   "display_name": "base",
   "language": "python",
   "name": "python3"
  },
  "language_info": {
   "codemirror_mode": {
    "name": "ipython",
    "version": 3
   },
   "file_extension": ".py",
   "mimetype": "text/x-python",
   "name": "python",
   "nbconvert_exporter": "python",
   "pygments_lexer": "ipython3",
   "version": "3.11.7"
  }
 },
 "nbformat": 4,
 "nbformat_minor": 2
}
