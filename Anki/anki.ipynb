{
 "cells": [
  {
   "cell_type": "code",
   "execution_count": 1,
   "metadata": {},
   "outputs": [
    {
     "name": "stdout",
     "output_type": "stream",
     "text": [
      "001) Como obter a data e hora atual?\tfrom datetime import datetime <br> agora = datetime.now() <br><br> data = agora.date() <br> horario = agora.time() <br><br> agora.year <br> agora.month <br> agora.day <br> agora.hour <br> agora.minute <br> agora.second <br> agora.microsecond\n",
      "002) Como obter somente a data?\tfrom datetime import date <br> agora = date.today()\n",
      "003) Como somar ou subtrair datas e horários?\tfrom datetime import timedelta <br> data_horario +- timedelta(days = x) <br> weeks, days, hours, minutes, seconds, microseconds, milliseconds\n",
      "004) Como construir um objeto datetime?\tdatetime(ano, mes, dia, hora, minuto, segundo, microssegundo)\n",
      "005) Como colocar uma string no formato datetime?\tdatetime.fromisoformat(\"2023-06-26 15:30:20\")\n",
      "006) Como criar um objeto datetime?\tobjeto = datetime(ano, mês, dia, hora, minuto, segundo, milissegundos)\n",
      "007) Como ordenar uma lista de objetos datetime?\tdatas_ordenadas = sorted(lista_datetime, reverse = True) => Crescente (padrão) <br><br> datas_ordenadas = sorted(lista_datetime, reverse = False) => decrescente\n",
      "008) Como personalizar a data e a hora de um objeto datetime?\tobjeto_datetime.strftime(\"formato\")\n",
      "009) Como converter de string para datetime?\tstring_data = \"30 Junho, 2023, 15:30:20\"  <br> formato = \"%d %B, %Y, %H:%M:%S\" <br> data = datetime.strptime(string_data, formato)\n",
      "010) Como calcular a diferença de anos, meses,...segundos?\tfrom dateutil.relativedelta import relativedelta  <br> diferenca = relativedelta(datetime_1, datetime_2) <br> diferenca.years, diferenca.months, ...\n"
     ]
    }
   ],
   "source": [
    "from main import formatar_texto\n",
    "\n",
    "# Importação do arquivo .txt para ser formatado\n",
    "with open(\"anki_original.txt\") as arquivo:\n",
    "    entrada = arquivo.read()\n",
    "\n",
    "# Formata e apresenta o texto tratado\n",
    "saida = formatar_texto(entrada)\n",
    "print(saida)\n",
    "\n",
    "# Salva o texto formatado\n",
    "with open(\"anki_formatado.txt\", 'w') as arquivo:\n",
    "    arquivo.write(saida)"
   ]
  }
 ],
 "metadata": {
  "kernelspec": {
   "display_name": "base",
   "language": "python",
   "name": "python3"
  },
  "language_info": {
   "codemirror_mode": {
    "name": "ipython",
    "version": 3
   },
   "file_extension": ".py",
   "mimetype": "text/x-python",
   "name": "python",
   "nbconvert_exporter": "python",
   "pygments_lexer": "ipython3",
   "version": "3.11.7"
  }
 },
 "nbformat": 4,
 "nbformat_minor": 2
}
