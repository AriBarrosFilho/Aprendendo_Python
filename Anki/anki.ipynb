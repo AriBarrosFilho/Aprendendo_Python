{
 "cells": [
  {
   "cell_type": "code",
   "execution_count": 1,
   "metadata": {},
   "outputs": [
    {
     "name": "stdout",
     "output_type": "stream",
     "text": [
      "001) Com instalar as bibliotecas do requirements.txt?\tpip install -r requirements.\n",
      "002) Como criar um arquivo de requirements.txt com base nas bibliotecas do ambiente atual?\t<strong>pip freeze > requirements.txt</strong> <br> Cria uma lista com os pacotes instalados (pacotes mais relevantes) e suas respectivas versões <br> <br> <strong>pip list --format=freeze > requirements.txt</strong> <br> Cria uma lista com os pacotes instalados (inclusive pacotes em modo de desenvolvimento) e suas respectivas versões\n",
      "003) Como ler um arquivo .txt?\twith open(file_path, 'r') as file: <br> texto = file.read()\n",
      "004) Como escrever um arquivo .txt?\twith open(file_path, 'w') as file: <br> file.write(content)\n",
      "005) Como criar um ambiente virtual?\t<b>python -m venv <u>nome do ambiente virtual</u></b>\n",
      "006) Como ativar um ambiente virtual?\t<b>.\\<u>nome do ambiente virtual</u>\\Scripts\\activate</b> <br><br> Também deve ser selecionado o kernel na parte superior direita da tela\n",
      "007) Como desativar um ambiente virtual?\t<b>deactivate</b>\n",
      "008) Quais são os dois principais parâmetros do print?\t<strong>sep</strong> que por padrão é <u>\" \"</u> <br><br> <strong>end</strong> que por padrão é <u>\\n</u>\n",
      "009) Qual é o caractere especial do python que pula linha?\t\\n\n",
      "010) Qual é o caractere especial do python que faz uma tabulação?\t\\t\n",
      "011) Qual é o caractere especial do python que cria uma barra invertida?\t\\\\\n",
      "012) Qual é o caractere especial do python que cria uma aspas simples?\t\\'\n",
      "013) Qual é o caractere especial do python que pula uma aspas dupla?\t\\\"\n",
      "014) Qual é o caractere especial do python que dá um backspace?\t\\b\n",
      "015) Qual é o caractere especial do python que retorna para o início da string e sobrepõe o que já existe?\t\\r\n",
      "016) Como transformar duas ou mais listas em uma lista de tuplas?\tlist(zip(lista_1, lista_2,...,lista_n))\n",
      "017) Como compactar e descompactar listas usando zip?\tCompactar => zip(lista_1, lista_2,...,lista_n) <br><br> lista_1, lista_2,...,lista_n = zip(*arquivo_zipado)\n",
      "018) Como iterar sobre múltiplas listas usando zip?\tfor num, letra in zip(lista1, lista2):\n"
     ]
    }
   ],
   "source": [
    "import re\n",
    "\n",
    "def formatar_texto(texto):\n",
    "    # Quebra o texto em linhas\n",
    "    linhas = texto.strip().split(\"\\n\")\n",
    "    \n",
    "    nova_lista = []\n",
    "    contador = 1\n",
    "\n",
    "    for linha in linhas:\n",
    "        # Usa expressão regular para identificar frases no formato correto ou incorreto\n",
    "        match = re.match(r'(\\d+)?\\)?(.*?)(\\?|:)', linha.strip())\n",
    "        \n",
    "        if match:\n",
    "            # Captura a frase e a resposta\n",
    "            frase = match.group(2).strip()\n",
    "            pontuacao = match.group(3)\n",
    "            \n",
    "            # Isola a resposta (se houver) da pergunta\n",
    "            partes = linha.split(pontuacao, 1)\n",
    "            if len(partes) > 1:\n",
    "                resposta = partes[1].strip()\n",
    "            else:\n",
    "                resposta = \"\"\n",
    "                \n",
    "            # Corrige a capitalização da frase\n",
    "            frase_corrigida = frase.capitalize()\n",
    "            \n",
    "            # Cria a nova linha com o marcador, pergunta corrigida e resposta\n",
    "            nova_linha = f\"{contador:03d}) {frase_corrigida}{pontuacao}\\t{resposta}\"\n",
    "            nova_lista.append(nova_linha)\n",
    "            \n",
    "            contador += 1\n",
    "    \n",
    "    # Retorna o texto formatado\n",
    "    return \"\\n\".join(nova_lista)\n",
    "\n",
    "# Importação do arquivo .txt para ser formatado\n",
    "with open(\"anki_original.txt\") as arquivo:\n",
    "    entrada = arquivo.read()\n",
    "\n",
    "# Formata e apresenta o texto tratado\n",
    "saida = formatar_texto(entrada)\n",
    "print(saida)\n",
    "\n",
    "# Salva o texto formatado\n",
    "with open(\"anki_formatado.txt\", 'w') as arquivo:\n",
    "    arquivo.write(saida)"
   ]
  }
 ],
 "metadata": {
  "kernelspec": {
   "display_name": "base",
   "language": "python",
   "name": "python3"
  },
  "language_info": {
   "codemirror_mode": {
    "name": "ipython",
    "version": 3
   },
   "file_extension": ".py",
   "mimetype": "text/x-python",
   "name": "python",
   "nbconvert_exporter": "python",
   "pygments_lexer": "ipython3",
   "version": "3.11.7"
  }
 },
 "nbformat": 4,
 "nbformat_minor": 2
}
