{
 "cells": [
  {
   "cell_type": "code",
   "execution_count": 2,
   "metadata": {},
   "outputs": [],
   "source": [
    "with open(file = \"original.txt\", mode = \"r\", encoding = \"utf-8\") as f:\n",
    "    texto = f.read().replace('\\n', '<br>')\n",
    "\n",
    "with open(file = \"formatado.txt\", mode = \"w\", encoding = \"utf-8\") as f:\n",
    "    f.write(texto)"
   ]
  }
 ],
 "metadata": {
  "kernelspec": {
   "display_name": "r_env",
   "language": "python",
   "name": "python3"
  },
  "language_info": {
   "codemirror_mode": {
    "name": "ipython",
    "version": 3
   },
   "file_extension": ".py",
   "mimetype": "text/x-python",
   "name": "python",
   "nbconvert_exporter": "python",
   "pygments_lexer": "ipython3",
   "version": "3.12.4"
  }
 },
 "nbformat": 4,
 "nbformat_minor": 2
}
