{
 "cells": [
  {
   "cell_type": "code",
   "execution_count": 3,
   "metadata": {},
   "outputs": [
    {
     "name": "stdout",
     "output_type": "stream",
     "text": [
      "001) Como retornar um sequência aleatória de x bytes no formato de bytes com o random?\trandom.randbytes(x)\n",
      "002) Para que serve a função random.getstate()?\tRetorna uma tupla de dados que foram utilizados para gerar o número aleatório naquele momento.\n",
      "003) Para que serve a função random.setstate(state)?\tUtiliza os dados de random.getstate() para definir uma semente.\n",
      "004) Como criar uma semente para valores aleatórios na biblioteca random?\trandom.seed() <br><br> Só funciona para a célula atual.\n",
      "005) Como misturar os elementos de uma lista com o random?\trandom.shuffle(lista)\n",
      "006) Como gerar valores aleatórios inteiros com o random?\trandom.randint(a = valor mínimo, b = valor máximo inclusive) <br><br> random.randrange(start = valor mínimo, stop = valor máximo exclusive, step = passo)\n",
      "007) Como escolher um elemento aleatório de uma lista usando o random?\trandom.choice(lista)\n",
      "008) Como escolher uma lista de tamanho n, com elementos aleatório de outra lista com reposição?\trandom.choices(population = lista, k = n) <br><br> weights: É uma lista de mesmo tamanho que a lista base, indicando o peso de cada elemento para ser selecionado\n",
      "009) Como escolher uma lista de tamanho n, com elementos aleatório de outra lista sem reposição?\trandom.sample(population = lista, k = n)\n",
      "010) Como gerar valores aleatórios entre 0 e 1 usando random?\trandom.random()\n"
     ]
    }
   ],
   "source": [
    "import re\n",
    "\n",
    "def formatar_texto(texto):\n",
    "    # Quebra o texto em linhas\n",
    "    linhas = texto.strip().split(\"\\n\")\n",
    "    \n",
    "    nova_lista = []\n",
    "    contador = 1\n",
    "\n",
    "    for linha in linhas:\n",
    "        # Usa expressão regular para identificar frases no formato correto ou incorreto\n",
    "        match = re.match(r'(\\d+)?\\)?(.*?)(\\?|:)', linha.strip())\n",
    "        \n",
    "        if match:\n",
    "            # Captura a frase e a resposta\n",
    "            frase = match.group(2).strip()\n",
    "            pontuacao = match.group(3)\n",
    "            \n",
    "            # Isola a resposta (se houver) da pergunta\n",
    "            partes = linha.split(pontuacao, 1)\n",
    "            if len(partes) > 1:\n",
    "                resposta = partes[1].strip()\n",
    "            else:\n",
    "                resposta = \"\"\n",
    "                \n",
    "            # Corrige a capitalização da frase\n",
    "            frase_corrigida = frase.capitalize()\n",
    "            \n",
    "            # Cria a nova linha com o marcador, pergunta corrigida e resposta\n",
    "            nova_linha = f\"{contador:03d}) {frase_corrigida}{pontuacao}\\t{resposta}\"\n",
    "            nova_lista.append(nova_linha)\n",
    "            \n",
    "            contador += 1\n",
    "    \n",
    "    # Retorna o texto formatado\n",
    "    return \"\\n\".join(nova_lista)\n",
    "\n",
    "# Importação do arquivo .txt para ser formatado\n",
    "with open(\"anki_original.txt\") as arquivo:\n",
    "    entrada = arquivo.read()\n",
    "\n",
    "# Formata e apresenta o texto tratado\n",
    "saida = formatar_texto(entrada)\n",
    "print(saida)\n",
    "\n",
    "# Salva o texto formatado\n",
    "with open(\"anki_formatado.txt\", 'w') as arquivo:\n",
    "    arquivo.write(saida)"
   ]
  }
 ],
 "metadata": {
  "kernelspec": {
   "display_name": "r_env",
   "language": "python",
   "name": "python3"
  },
  "language_info": {
   "codemirror_mode": {
    "name": "ipython",
    "version": 3
   },
   "file_extension": ".py",
   "mimetype": "text/x-python",
   "name": "python",
   "nbconvert_exporter": "python",
   "pygments_lexer": "ipython3",
   "version": "3.12.4"
  }
 },
 "nbformat": 4,
 "nbformat_minor": 2
}
