{
 "cells": [
  {
   "cell_type": "code",
   "execution_count": 5,
   "metadata": {},
   "outputs": [
    {
     "name": "stdout",
     "output_type": "stream",
     "text": [
      "001) Como obter a data e hora atual usando o datetime?\tfrom datetime import datetime <br> agora = datetime.now() <br><br> data = agora.date() <br> horario = agora.time() <br><br> agora.year <br> agora.month <br> agora.day <br> agora.hour <br> agora.minute <br> agora.second <br> agora.microsecond\n",
      "002) Como obter somente a data no datetime (sem o horário)?\tfrom datetime import date <br> agora = date.today()\n",
      "003) Como somar ou subtrair datas e horários?\tfrom datetime import timedelta <br> data_horario +- timedelta(days = x) <br> weeks, days, hours, minutes, seconds, microseconds, milliseconds\n",
      "004) Como construir um objeto datetime?\tdatetime(ano, mes, dia, hora, minuto, segundo, microssegundo)\n",
      "005) Como colocar uma string no formato datetime utilizando o formato padrão ano-mês-dia?\tdatetime.fromisoformat(\"2023-06-26 15:30:20\")\n",
      "006) Como criar um objeto datetime?\tobjeto = datetime(ano, mês, dia, hora, minuto, segundo, milissegundos)\n",
      "007) Como ordenar uma lista de objetos datetime?\tdatas_ordenadas = sorted(lista_datetime, reverse = True) => Crescente (padrão) <br><br> datas_ordenadas = sorted(lista_datetime, reverse = False) => decrescente\n",
      "008) Como personalizar a data e a hora de um objeto datetime?\tobjeto_datetime.strftime(\"formato\")\n",
      "009) Como converter de string para datetime?\tstring_data = \"30 Junho, 2023, 15:30:20\"  <br> formato = \"%d %B, %Y, %H:%M:%S\" <br> data = datetime.strptime(string_data, formato)\n",
      "010) Como calcular a diferença de anos, meses,...segundos?\tfrom dateutil.relativedelta import relativedelta  <br> diferenca = relativedelta(datetime_1, datetime_2) <br> diferenca.years, diferenca.months, ...\n",
      "011) Com base em um objeto datetime, como substituir o valor do ano, mês, dia, hora, minuto ou segundo por outro valor?\tobjeto_datetime.replace(day = 10) <br> objeto_datetime.replace(month = 10) # day, month, year, hour, minute, second\n"
     ]
    }
   ],
   "source": [
    "import re\n",
    "\n",
    "def formatar_texto(texto):\n",
    "    # Quebra o texto em linhas\n",
    "    linhas = texto.strip().split(\"\\n\")\n",
    "    \n",
    "    nova_lista = []\n",
    "    contador = 1\n",
    "\n",
    "    for linha in linhas:\n",
    "        # Usa expressão regular para identificar frases no formato correto ou incorreto\n",
    "        match = re.match(r'(\\d+)?\\)?(.*?)(\\?|:)', linha.strip())\n",
    "        \n",
    "        if match:\n",
    "            # Captura a frase e a resposta\n",
    "            frase = match.group(2).strip()\n",
    "            pontuacao = match.group(3)\n",
    "            \n",
    "            # Isola a resposta (se houver) da pergunta\n",
    "            partes = linha.split(pontuacao, 1)\n",
    "            if len(partes) > 1:\n",
    "                resposta = partes[1].strip()\n",
    "            else:\n",
    "                resposta = \"\"\n",
    "                \n",
    "            # Corrige a capitalização da frase\n",
    "            frase_corrigida = frase.capitalize()\n",
    "            \n",
    "            # Cria a nova linha com o marcador, pergunta corrigida e resposta\n",
    "            nova_linha = f\"{contador:03d}) {frase_corrigida}{pontuacao}\\t{resposta}\"\n",
    "            nova_lista.append(nova_linha)\n",
    "            \n",
    "            contador += 1\n",
    "    \n",
    "    # Retorna o texto formatado\n",
    "    return \"\\n\".join(nova_lista)\n",
    "\n",
    "# Importação do arquivo .txt para ser formatado\n",
    "with open(\"anki_original.txt\") as arquivo:\n",
    "    entrada = arquivo.read()\n",
    "\n",
    "# Formata e apresenta o texto tratado\n",
    "saida = formatar_texto(entrada)\n",
    "print(saida)\n",
    "\n",
    "# Salva o texto formatado\n",
    "with open(\"anki_formatado.txt\", 'w') as arquivo:\n",
    "    arquivo.write(saida)"
   ]
  }
 ],
 "metadata": {
  "kernelspec": {
   "display_name": "r_env",
   "language": "python",
   "name": "python3"
  },
  "language_info": {
   "codemirror_mode": {
    "name": "ipython",
    "version": 3
   },
   "file_extension": ".py",
   "mimetype": "text/x-python",
   "name": "python",
   "nbconvert_exporter": "python",
   "pygments_lexer": "ipython3",
   "version": "3.12.4"
  }
 },
 "nbformat": 4,
 "nbformat_minor": 2
}
