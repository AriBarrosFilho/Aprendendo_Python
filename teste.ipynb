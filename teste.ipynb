{
 "cells": [
  {
   "cell_type": "code",
   "execution_count": 3,
   "metadata": {},
   "outputs": [
    {
     "name": "stdout",
     "output_type": "stream",
     "text": [
      "[(1, 'a'), (2, 'b'), (3, 'c')]\n"
     ]
    }
   ],
   "source": [
    "# Exemplo 1: Unindo duas listas\n",
    "lista1 = [1, 2, 3]\n",
    "lista2 = ['a', 'b', 'c']\n",
    "zipado = zip(lista1, lista2)\n",
    "print(list(zipado))  # [(1, 'a'), (2, 'b'), (3, 'c')]"
   ]
  },
  {
   "cell_type": "code",
   "execution_count": 4,
   "metadata": {},
   "outputs": [
    {
     "name": "stdout",
     "output_type": "stream",
     "text": [
      "[(1, 'a'), (2, 'b')]\n"
     ]
    }
   ],
   "source": [
    "# Exemplo 2: Unindo listas de tamanhos diferentes\n",
    "lista3 = [1, 2, 3, 4]\n",
    "lista4 = ['a', 'b']\n",
    "zipado_dif = zip(lista3, lista4)\n",
    "print(list(zipado_dif))  # [(1, 'a'), (2, 'b')]"
   ]
  },
  {
   "cell_type": "code",
   "execution_count": 5,
   "metadata": {},
   "outputs": [
    {
     "name": "stdout",
     "output_type": "stream",
     "text": [
      "(1, 2, 3)\n",
      "('a', 'b', 'c')\n"
     ]
    }
   ],
   "source": [
    "# Exemplo 3: Descompactando com zip\n",
    "zipado = zip(lista1, lista2)\n",
    "lista1_unzip, lista2_unzip = zip(*zipado)\n",
    "print(lista1_unzip)  # (1, 2, 3)\n",
    "print(lista2_unzip)  # ('a', 'b', 'c')"
   ]
  },
  {
   "cell_type": "code",
   "execution_count": 6,
   "metadata": {},
   "outputs": [
    {
     "name": "stdout",
     "output_type": "stream",
     "text": [
      "Número: 1, Letra: a\n",
      "Número: 2, Letra: b\n",
      "Número: 3, Letra: c\n"
     ]
    }
   ],
   "source": [
    "# Exemplo 4: Iterando sobre múltiplas listas simultaneamente\n",
    "for num, letra in zip(lista1, lista2):\n",
    "    print(f'Número: {num}, Letra: {letra}')\n",
    "# Número: 1, Letra: a\n",
    "# Número: 2, Letra: b\n",
    "# Número: 3, Letra: c"
   ]
  },
  {
   "cell_type": "code",
   "execution_count": 7,
   "metadata": {},
   "outputs": [
    {
     "name": "stdout",
     "output_type": "stream",
     "text": [
      "[(('a', 1), ('c', 3)), (('b', 2), ('d', 4))]\n"
     ]
    }
   ],
   "source": [
    "# Exemplo 5: Usando zip com dicionários\n",
    "dict1 = {'a': 1, 'b': 2}\n",
    "dict2 = {'c': 3, 'd': 4}\n",
    "zip_dict = zip(dict1.items(), dict2.items())\n",
    "print(list(zip_dict))  # [(('a', 1), ('c', 3)), (('b', 2), ('d', 4))]"
   ]
  },
  {
   "cell_type": "code",
   "execution_count": 9,
   "metadata": {},
   "outputs": [
    {
     "name": "stdout",
     "output_type": "stream",
     "text": [
      "[(1, 10, 'z'), (2, 20, 'x'), (3, 30, 'y')]\n"
     ]
    }
   ],
   "source": [
    "# Exemplo 6: Usando zip com diferentes tipos de iteráveis\n",
    "lista1 = [1, 2, 3]\n",
    "tupla = (10, 20, 30)\n",
    "conjunto = {'x', 'y', 'z'}\n",
    "zip_mixed = zip(lista1, tupla, conjunto)\n",
    "print(list(zip_mixed))  # [(1, 10, 'x'), (2, 20, 'y'), (3, 30, 'z')]"
   ]
  },
  {
   "cell_type": "markdown",
   "metadata": {},
   "source": [
    "___"
   ]
  },
  {
   "cell_type": "code",
   "execution_count": 13,
   "metadata": {},
   "outputs": [
    {
     "data": {
      "text/plain": [
       "3"
      ]
     },
     "execution_count": 13,
     "metadata": {},
     "output_type": "execute_result"
    }
   ],
   "source": [
    "conjunto = {'x', 'y', 'z', 'z'}\n",
    "len(conjunto)"
   ]
  },
  {
   "cell_type": "markdown",
   "metadata": {},
   "source": [
    "___"
   ]
  },
  {
   "cell_type": "code",
   "execution_count": 7,
   "metadata": {},
   "outputs": [
    {
     "name": "stdout",
     "output_type": "stream",
     "text": [
      "8\n"
     ]
    }
   ],
   "source": [
    "from functools import reduce\n",
    "\n",
    "# Exemplo 1: Função lambda simples\n",
    "# Uma função lambda que soma dois números\n",
    "soma = lambda x, y: x + y\n",
    "print(soma(5, 3))  # Saída: 8"
   ]
  },
  {
   "cell_type": "code",
   "execution_count": 5,
   "metadata": {},
   "outputs": [
    {
     "name": "stdout",
     "output_type": "stream",
     "text": [
      "[1, 4, 9, 16, 25]\n"
     ]
    }
   ],
   "source": [
    "# Exemplo 2: Função lambda com map\n",
    "# Usando lambda para elevar ao quadrado cada elemento de uma lista\n",
    "lista = [1, 2, 3, 4, 5]\n",
    "quadrados = list(map(lambda x: x ** 2, lista))\n",
    "print(quadrados)  # Saída: [1, 4, 9, 16, 25]"
   ]
  },
  {
   "cell_type": "code",
   "execution_count": 6,
   "metadata": {},
   "outputs": [
    {
     "name": "stdout",
     "output_type": "stream",
     "text": [
      "[2, 4]\n"
     ]
    }
   ],
   "source": [
    "# Exemplo 3: Função lambda com filter\n",
    "# Usando lambda para filtrar números pares de uma lista\n",
    "pares = list(filter(lambda x: x % 2 == 0, lista))\n",
    "print(pares)  # Saída: [2, 4]"
   ]
  },
  {
   "cell_type": "code",
   "execution_count": 11,
   "metadata": {},
   "outputs": [
    {
     "name": "stdout",
     "output_type": "stream",
     "text": [
      "120\n"
     ]
    }
   ],
   "source": [
    "# Exemplo 4: Função lambda com reduce\n",
    "# Usando lambda para calcular o produto de todos os elementos de uma lista\n",
    "produto = reduce(lambda x, y: x * y, lista)\n",
    "print(produto)  # Saída: 120"
   ]
  },
  {
   "cell_type": "code",
   "execution_count": null,
   "metadata": {},
   "outputs": [],
   "source": [
    "# Exemplo 5: Função lambda com sorted\n",
    "# Usando lambda para ordenar uma lista de tuplas pelo segundo elemento\n",
    "tuplas = [(1, 2), (3, 1), (5, 4), (2, 3)]\n",
    "ordenado = sorted(tuplas, key=lambda x: x[1])\n",
    "print(ordenado)  # Saída: [(3, 1), (1, 2), (2, 3), (5, 4)]\n",
    "\n",
    "# Exemplo 6: Função lambda com zip\n",
    "# Usando lambda para somar elementos de duas listas\n",
    "lista1 = [1, 2, 3]\n",
    "lista2 = [4, 5, 6]\n",
    "soma_listas = list(map(lambda x, y: x + y, lista1, lista2))\n",
    "print(soma_listas)  # Saída: [5, 7, 9]\n",
    "\n",
    "# Exemplo 7: Função lambda com list comprehension\n",
    "# Usando lambda dentro de uma list comprehension para transformar elementos\n",
    "transformada = [(lambda x: x * 2)(x) for x in lista]\n",
    "print(transformada)  # Saída: [2, 4, 6, 8, 10]\n",
    "\n",
    "# Exemplo 8: Função lambda com dicionários\n",
    "# Usando lambda para ordenar um dicionário por seus valores\n",
    "dicionario = {'a': 3, 'b': 1, 'c': 2}\n",
    "ordenado_por_valor = dict(sorted(dicionario.items(), key=lambda item: item[1]))\n",
    "print(ordenado_por_valor)  # Saída: {'b': 1, 'c': 2, 'a': 3}"
   ]
  },
  {
   "cell_type": "markdown",
   "metadata": {},
   "source": [
    "___"
   ]
  },
  {
   "cell_type": "code",
   "execution_count": null,
   "metadata": {},
   "outputs": [],
   "source": []
  },
  {
   "cell_type": "code",
   "execution_count": null,
   "metadata": {},
   "outputs": [],
   "source": []
  },
  {
   "cell_type": "code",
   "execution_count": null,
   "metadata": {},
   "outputs": [],
   "source": []
  }
 ],
 "metadata": {
  "kernelspec": {
   "display_name": "base",
   "language": "python",
   "name": "python3"
  },
  "language_info": {
   "codemirror_mode": {
    "name": "ipython",
    "version": 3
   },
   "file_extension": ".py",
   "mimetype": "text/x-python",
   "name": "python",
   "nbconvert_exporter": "python",
   "pygments_lexer": "ipython3",
   "version": "3.11.7"
  }
 },
 "nbformat": 4,
 "nbformat_minor": 2
}
