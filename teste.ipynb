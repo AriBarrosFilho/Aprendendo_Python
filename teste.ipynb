{
 "cells": [
  {
   "cell_type": "code",
   "execution_count": null,
   "metadata": {},
   "outputs": [],
   "source": [
    "# Exemplo 5: Função lambda com sorted\n",
    "# Usando lambda para ordenar uma lista de tuplas pelo segundo elemento\n",
    "tuplas = [(1, 2), (3, 1), (5, 4), (2, 3)]\n",
    "ordenado = sorted(tuplas, key=lambda x: x[1])\n",
    "print(ordenado)  # Saída: [(3, 1), (1, 2), (2, 3), (5, 4)]\n",
    "\n",
    "# Exemplo 6: Função lambda com zip\n",
    "# Usando lambda para somar elementos de duas listas\n",
    "lista1 = [1, 2, 3]\n",
    "lista2 = [4, 5, 6]\n",
    "soma_listas = list(map(lambda x, y: x + y, lista1, lista2))\n",
    "print(soma_listas)  # Saída: [5, 7, 9]\n",
    "\n",
    "# Exemplo 7: Função lambda com list comprehension\n",
    "# Usando lambda dentro de uma list comprehension para transformar elementos\n",
    "transformada = [(lambda x: x * 2)(x) for x in lista]\n",
    "print(transformada)  # Saída: [2, 4, 6, 8, 10]\n",
    "\n",
    "# Exemplo 8: Função lambda com dicionários\n",
    "# Usando lambda para ordenar um dicionário por seus valores\n",
    "dicionario = {'a': 3, 'b': 1, 'c': 2}\n",
    "ordenado_por_valor = dict(sorted(dicionario.items(), key=lambda item: item[1]))\n",
    "print(ordenado_por_valor)  # Saída: {'b': 1, 'c': 2, 'a': 3}"
   ]
  },
  {
   "cell_type": "markdown",
   "metadata": {},
   "source": [
    "___"
   ]
  },
  {
   "cell_type": "code",
   "execution_count": null,
   "metadata": {},
   "outputs": [],
   "source": [
    "# Criando um conjunto\n",
    "conjunto = {5, 6, 7}\n",
    "print(conjunto)  # Saída: {5, 6, 7}\n",
    "\n",
    "# Adicionando elementos a um conjunto\n",
    "conjunto.add(8)\n",
    "print(conjunto)  # Saída: {5, 6, 7, 8}\n",
    "\n",
    "# Removendo elementos de um conjunto\n",
    "conjunto.remove(6)\n",
    "print(conjunto)  # Saída: {5, 7, 8}\n",
    "\n",
    "# Verificando se um elemento está no conjunto\n",
    "print(5 in conjunto)  # Saída: True\n",
    "print(6 in conjunto)  # Saída: False\n",
    "\n",
    "# União de conjuntos\n",
    "conjunto2 = {1, 2, 3}\n",
    "uniao = conjunto.union(conjunto2)\n",
    "print(uniao)  # Saída: {1, 2, 3, 5, 7, 8}\n",
    "\n",
    "# Interseção de conjuntos\n",
    "intersecao = conjunto.intersection(conjunto2)\n",
    "print(intersecao)  # Saída: set()\n",
    "\n",
    "# Diferença de conjuntos\n",
    "diferenca = conjunto.difference(conjunto2)\n",
    "print(diferenca)  # Saída: {5, 7, 8}\n",
    "\n",
    "# Diferença simétrica de conjuntos\n",
    "diferenca_simetrica = conjunto.symmetric_difference(conjunto2)\n",
    "print(diferenca_simetrica)  # Saída: {1, 2, 3, 5, 7, 8}\n",
    "\n",
    "# Subconjunto e Superconjunto\n",
    "conjunto3 = {5, 7}\n",
    "print(conjunto3.issubset(conjunto))  # Saída: True\n",
    "print(conjunto.issuperset(conjunto3))  # Saída: True\n",
    "\n",
    "# Conjuntos imutáveis (frozenset)\n",
    "conjunto_imutavel = frozenset(conjunto)\n",
    "print(conjunto_imutavel)  # Saída: frozenset({8, 5, 7})\n",
    "\n",
    "# Convertendo lista para conjunto (removendo duplicatas)\n",
    "lista_2 = ['elemento', 6, 1, 2, 5, 6, 'aaa']\n",
    "conjunto_lista = set(lista_2)\n",
    "print(conjunto_lista)  # Saída: {1, 2, 5, 6, 'elemento', 'aaa'}\n",
    "\n",
    "# Convertendo tupla para conjunto\n",
    "tupla = (1, 2)\n",
    "conjunto_tupla = set(tupla)\n",
    "print(conjunto_tupla)  # Saída: {1, 2}\n",
    "\n",
    "conjunto = {'x', 'y', 'z', 'z'}\n",
    "len(conjunto)"
   ]
  },
  {
   "cell_type": "markdown",
   "metadata": {},
   "source": [
    "___"
   ]
  },
  {
   "cell_type": "code",
   "execution_count": 1,
   "metadata": {},
   "outputs": [],
   "source": [
    "import numpy as np\n",
    "import random\n",
    "import pandas as pd\n",
    "import matplotlib.pyplot as plt"
   ]
  },
  {
   "cell_type": "code",
   "execution_count": 58,
   "metadata": {},
   "outputs": [
    {
     "name": "stdout",
     "output_type": "stream",
     "text": [
      "{'nome': 'Alice', 'idade': 25, 'cidade': 'São Paulo'}\n",
      "Alice\n",
      "{'nome': 'Alice', 'idade': 26, 'cidade': 'São Paulo'}\n",
      "{'nome': 'Alice', 'idade': 26}\n",
      "None\n",
      "True\n",
      "False\n",
      "nome: Alice\n",
      "idade: 26\n",
      "dict_keys(['nome', 'idade'])\n",
      "dict_values(['Alice', 26])\n",
      "dict_items([('nome', 'Alice'), ('idade', 26)])\n",
      "26\n",
      "{'nome': 'Alice'}\n",
      "{}\n",
      "{'a': 1, 'b': 3, 'c': 4}\n",
      "{'x': 0, 'y': 0, 'z': 0}\n"
     ]
    }
   ],
   "source": [
    "# Criando um dicionário\n",
    "dicionario = {'nome': 'Alice', 'idade': 25, 'cidade': 'São Paulo'}\n",
    "print(dicionario)  # Saída: {'nome': 'Alice', 'idade': 25, 'cidade': 'São Paulo'}\n",
    "\n",
    "# Acessando valores\n",
    "print(dicionario['nome'])  # Saída: Alice\n",
    "\n",
    "# Adicionando ou atualizando um valor\n",
    "dicionario['idade'] = 26\n",
    "print(dicionario)  # Saída: {'nome': 'Alice', 'idade': 26, 'cidade': 'São Paulo'}\n",
    "\n",
    "# Removendo um item\n",
    "del dicionario['cidade']\n",
    "print(dicionario)  # Saída: {'nome': 'Alice', 'idade': 26}\n",
    "\n",
    "# Usando o método get() para acessar valores\n",
    "# Retorna None se a chave não existir\n",
    "print(dicionario.get('cidade'))  # Saída: None\n",
    "\n",
    "# Verificando se uma chave está no dicionário\n",
    "print('nome' in dicionario)  # Saída: True\n",
    "print('cidade' in dicionario)  # Saída: False\n",
    "\n",
    "# Iterando sobre chaves e valores\n",
    "for chave, valor in dicionario.items():\n",
    "    print(f'{chave}: {valor}')\n",
    "# Saída:\n",
    "# nome: Alice\n",
    "# idade: 26\n",
    "\n",
    "# Obtendo apenas as chaves\n",
    "print(dicionario.keys())  # Saída: dict_keys(['nome', 'idade'])\n",
    "\n",
    "# Obtendo apenas os valores\n",
    "print(dicionario.values())  # Saída: dict_values(['Alice', 26])\n",
    "\n",
    "# Obtendo apenas os itens (pares chave-valor)\n",
    "print(dicionario.items())  # Saída: dict_items([('nome', 'Alice'), ('idade', 26)])\n",
    "\n",
    "# Removendo e retornando um item\n",
    "idade = dicionario.pop('idade')\n",
    "print(idade)  # Saída: 26\n",
    "print(dicionario)  # Saída: {'nome': 'Alice'}\n",
    "\n",
    "# Limpando o dicionário\n",
    "dicionario.clear()\n",
    "print(dicionario)  # Saída: {}\n",
    "\n",
    "# Mesclando dois dicionários\n",
    "dicionario1 = {'a': 1, 'b': 2}\n",
    "dicionario2 = {'b': 3, 'c': 4}\n",
    "dicionario1.update(dicionario2)\n",
    "print(dicionario1)  # Saída: {'a': 1, 'b': 3, 'c': 4}\n",
    "\n",
    "# Criando um dicionário com chaves e valores padrão\n",
    "chaves = ['x', 'y', 'z']\n",
    "valores_padrao = 0\n",
    "novo_dicionario = dict.fromkeys(chaves, valores_padrao)\n",
    "print(novo_dicionario)  # Saída: {'x': 0, 'y': 0, 'z': 0}"
   ]
  },
  {
   "cell_type": "code",
   "execution_count": 31,
   "metadata": {},
   "outputs": [
    {
     "name": "stdout",
     "output_type": "stream",
     "text": [
      "x não é nem 1 nem 2\n"
     ]
    }
   ],
   "source": [
    "x = 3\n",
    "\n",
    "match x:\n",
    "    case 1:\n",
    "        print(\"x é 1\")\n",
    "    case 2:\n",
    "        print(\"x é 2\")\n",
    "    case _:\n",
    "        print(\"x não é nem 1 nem 2\")"
   ]
  },
  {
   "cell_type": "code",
   "execution_count": 4,
   "metadata": {},
   "outputs": [
    {
     "name": "stdout",
     "output_type": "stream",
     "text": [
      "Alice é adulto\n"
     ]
    }
   ],
   "source": [
    "user = {\"name\": \"Alice\", \"cidade\": \"Florianopólis\", \"age\": 30}\n",
    "\n",
    "match user:\n",
    "    case {\"name\": name, \"age\": age} if age >= 18: print(f\"{name} é adulto\")\n",
    "        \n",
    "    case {\"name\": name, \"age\": age}: print(f\"{name} é menor de idade\")"
   ]
  },
  {
   "cell_type": "code",
   "execution_count": null,
   "metadata": {},
   "outputs": [],
   "source": []
  },
  {
   "cell_type": "code",
   "execution_count": null,
   "metadata": {},
   "outputs": [
    {
     "name": "stdout",
     "output_type": "stream",
     "text": [
      "10\n",
      "3\n",
      "10\n",
      "6\n"
     ]
    }
   ],
   "source": [
    "valor = 10\n",
    "\n",
    "def func1():\n",
    "    print(valor)\n",
    "\n",
    "def func2():\n",
    "    valor = 3\n",
    "    print(valor)\n",
    "\n",
    "def func3():\n",
    "    global valor\n",
    "    valor = 6\n",
    "\n",
    "func1() # Mostra 10, por que a função usou a variável global\n",
    "func2() # Mostra 3, porque dentro da função foi definida uma variável local\n",
    "print(valor) # Mostra 10, porque a variável local da função 'func2' não altera a variável global\n",
    "\n",
    "func3() # Altera o valor da variável global e não local\n",
    "print(valor)"
   ]
  },
  {
   "cell_type": "markdown",
   "metadata": {},
   "source": [
    "___"
   ]
  },
  {
   "cell_type": "code",
   "execution_count": 1,
   "metadata": {},
   "outputs": [],
   "source": [
    "import pyautogui\n",
    "import time"
   ]
  },
  {
   "cell_type": "code",
   "execution_count": null,
   "metadata": {},
   "outputs": [],
   "source": [
    "# Movendo o mouse para uma posição específica (x, y)\n",
    "print(\"Movendo o mouse para a posição (500, 500)...\")\n",
    "pyautogui.moveTo(500, 500, duration=1)  # Move o mouse em 1 segundo para (500, 500)\n",
    "\n",
    "# Realizando um clique\n",
    "print(\"Realizando um clique na posição atual...\")\n",
    "pyautogui.click()\n",
    "\n",
    "# Movendo o mouse relativo à posição atual\n",
    "print(\"Movendo o mouse 100 pixels para a direita e 50 para baixo...\")\n",
    "pyautogui.move(100, 50, duration=1)\n",
    "\n",
    "# Realizando um duplo clique\n",
    "print(\"Realizando um duplo clique...\")\n",
    "pyautogui.doubleClick()\n",
    "\n",
    "# Realizando um clique com botão direito\n",
    "print(\"Realizando um clique com o botão direito...\")\n",
    "pyautogui.rightClick()"
   ]
  },
  {
   "cell_type": "code",
   "execution_count": 9,
   "metadata": {},
   "outputs": [
    {
     "name": "stdout",
     "output_type": "stream",
     "text": [
      "A posição atual do mouse é: Point(x=1698, y=818)\n"
     ]
    }
   ],
   "source": [
    "# Obtendo a posição atual do mouse\n",
    "current_position = pyautogui.position()\n",
    "print(f\"A posição atual do mouse é: {current_position}\")"
   ]
  },
  {
   "cell_type": "code",
   "execution_count": 5,
   "metadata": {},
   "outputs": [],
   "source": [
    "import pyautogui\n",
    "import time"
   ]
  },
  {
   "cell_type": "code",
   "execution_count": 7,
   "metadata": {},
   "outputs": [
    {
     "name": "stdout",
     "output_type": "stream",
     "text": [
      "A posição atual do mouse é: Point(x=1594, y=570)\n"
     ]
    }
   ],
   "source": [
    "# Obtendo a posição atual do mouse\n",
    "current_position = pyautogui.position()\n",
    "print(f\"A posição atual do mouse é: {current_position}\")"
   ]
  },
  {
   "cell_type": "code",
   "execution_count": null,
   "metadata": {},
   "outputs": [],
   "source": [
    "tempo = 20\n",
    "\n",
    "while True:\n",
    "# for _ in range(2):\n",
    "    pyautogui.moveTo(269, 553, duration=1)  # Move o mouse em 1 segundo para (500, 500)\n",
    "    time.sleep(tempo)\n",
    "    pyautogui.moveTo(1594, 570, duration=1)  # Move o mouse em 1 segundo para (500, 500)\n",
    "    time.sleep(tempo)"
   ]
  },
  {
   "cell_type": "markdown",
   "metadata": {},
   "source": [
    "___"
   ]
  },
  {
   "cell_type": "code",
   "execution_count": 5,
   "metadata": {},
   "outputs": [],
   "source": [
    "import time\n",
    "import numpy as np"
   ]
  },
  {
   "cell_type": "code",
   "execution_count": 26,
   "metadata": {},
   "outputs": [
    {
     "name": "stdout",
     "output_type": "stream",
     "text": [
      "[2 5 4]\n",
      "[0 1 3]\n"
     ]
    }
   ],
   "source": [
    "vetor_1 = np.random.randint(low = 0, high = 6, size = 3)\n",
    "vetor_2 = np.random.randint(low = 0, high = 6, size = 3)\n",
    "print(vetor_1)\n",
    "print(vetor_2)"
   ]
  },
  {
   "cell_type": "code",
   "execution_count": 27,
   "metadata": {},
   "outputs": [
    {
     "data": {
      "text/plain": [
       "np.int32(17)"
      ]
     },
     "execution_count": 27,
     "metadata": {},
     "output_type": "execute_result"
    }
   ],
   "source": [
    "vetor_1 @ vetor_2"
   ]
  },
  {
   "cell_type": "code",
   "execution_count": 28,
   "metadata": {},
   "outputs": [
    {
     "data": {
      "text/plain": [
       "np.int32(17)"
      ]
     },
     "execution_count": 28,
     "metadata": {},
     "output_type": "execute_result"
    }
   ],
   "source": [
    "np.dot(a = vetor_1, b = vetor_2)"
   ]
  },
  {
   "cell_type": "code",
   "execution_count": 29,
   "metadata": {},
   "outputs": [
    {
     "data": {
      "text/plain": [
       "np.int32(17)"
      ]
     },
     "execution_count": 29,
     "metadata": {},
     "output_type": "execute_result"
    }
   ],
   "source": [
    "np.matmul(vetor_1, vetor_2)"
   ]
  },
  {
   "cell_type": "code",
   "execution_count": null,
   "metadata": {},
   "outputs": [],
   "source": [
    "!pip install -u pandas"
   ]
  },
  {
   "cell_type": "code",
   "execution_count": null,
   "metadata": {},
   "outputs": [],
   "source": []
  },
  {
   "cell_type": "code",
   "execution_count": null,
   "metadata": {},
   "outputs": [],
   "source": []
  },
  {
   "cell_type": "code",
   "execution_count": 22,
   "metadata": {},
   "outputs": [
    {
     "data": {
      "text/plain": [
       "array([12, 12, 14, 12], dtype=int32)"
      ]
     },
     "execution_count": 22,
     "metadata": {},
     "output_type": "execute_result"
    }
   ],
   "source": [
    "vetor[(vetor > 10) & (vetor < 15)]"
   ]
  },
  {
   "cell_type": "code",
   "execution_count": 20,
   "metadata": {},
   "outputs": [
    {
     "data": {
      "text/plain": [
       "array([3, 0], dtype=int32)"
      ]
     },
     "execution_count": 20,
     "metadata": {},
     "output_type": "execute_result"
    }
   ],
   "source": [
    "vetor[[0, 1]]"
   ]
  },
  {
   "cell_type": "code",
   "execution_count": null,
   "metadata": {},
   "outputs": [],
   "source": []
  },
  {
   "cell_type": "code",
   "execution_count": null,
   "metadata": {},
   "outputs": [],
   "source": []
  },
  {
   "cell_type": "code",
   "execution_count": null,
   "metadata": {},
   "outputs": [],
   "source": []
  },
  {
   "cell_type": "code",
   "execution_count": null,
   "metadata": {},
   "outputs": [],
   "source": []
  }
 ],
 "metadata": {
  "kernelspec": {
   "display_name": "r_env",
   "language": "python",
   "name": "python3"
  },
  "language_info": {
   "codemirror_mode": {
    "name": "ipython",
    "version": 3
   },
   "file_extension": ".py",
   "mimetype": "text/x-python",
   "name": "python",
   "nbconvert_exporter": "python",
   "pygments_lexer": "ipython3",
   "version": "3.12.4"
  }
 },
 "nbformat": 4,
 "nbformat_minor": 2
}
