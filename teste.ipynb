{
 "cells": [
  {
   "cell_type": "code",
   "execution_count": 55,
   "metadata": {},
   "outputs": [
    {
     "name": "stdout",
     "output_type": "stream",
     "text": [
      "{5, 6, 7}\n"
     ]
    }
   ],
   "source": [
    "# Criando um conjunto\n",
    "conjunto = {5, 6, 7}\n",
    "print(conjunto)  # Saída: {5, 6, 7}"
   ]
  },
  {
   "cell_type": "code",
   "execution_count": 56,
   "metadata": {},
   "outputs": [
    {
     "name": "stdout",
     "output_type": "stream",
     "text": [
      "{8, 5, 6, 7}\n"
     ]
    }
   ],
   "source": [
    "# Adicionando elementos a um conjunto\n",
    "conjunto.add(8)\n",
    "print(conjunto)  # Saída: {5, 6, 7, 8}"
   ]
  },
  {
   "cell_type": "code",
   "execution_count": 57,
   "metadata": {},
   "outputs": [
    {
     "name": "stdout",
     "output_type": "stream",
     "text": [
      "{8, 5, 7}\n"
     ]
    }
   ],
   "source": [
    "# Removendo elementos de um conjunto\n",
    "conjunto.remove(6)\n",
    "print(conjunto)  # Saída: {5, 7, 8}"
   ]
  },
  {
   "cell_type": "code",
   "execution_count": 58,
   "metadata": {},
   "outputs": [
    {
     "name": "stdout",
     "output_type": "stream",
     "text": [
      "True\n",
      "False\n"
     ]
    }
   ],
   "source": [
    "# Verificando se um elemento está no conjunto\n",
    "print(5 in conjunto)  # Saída: True\n",
    "print(6 in conjunto)  # Saída: False"
   ]
  },
  {
   "cell_type": "code",
   "execution_count": 59,
   "metadata": {},
   "outputs": [
    {
     "name": "stdout",
     "output_type": "stream",
     "text": [
      "{1, 2, 3, 5, 7, 8}\n"
     ]
    }
   ],
   "source": [
    "# União de conjuntos\n",
    "conjunto2 = {1, 2, 3, 8}\n",
    "uniao = conjunto.union(conjunto2)\n",
    "print(uniao)  # Saída: {1, 2, 3, 5, 7, 8}"
   ]
  },
  {
   "cell_type": "code",
   "execution_count": 60,
   "metadata": {},
   "outputs": [
    {
     "name": "stdout",
     "output_type": "stream",
     "text": [
      "{8}\n"
     ]
    }
   ],
   "source": [
    "# Interseção de conjuntos\n",
    "intersecao = conjunto.intersection(conjunto2)\n",
    "print(intersecao)  # Saída: set()"
   ]
  },
  {
   "cell_type": "code",
   "execution_count": 61,
   "metadata": {},
   "outputs": [
    {
     "name": "stdout",
     "output_type": "stream",
     "text": [
      "{5, 7}\n"
     ]
    }
   ],
   "source": [
    "# Diferença de conjuntos\n",
    "diferenca = conjunto.difference(conjunto2)\n",
    "print(diferenca)  # Saída: {5, 7, 8}"
   ]
  },
  {
   "cell_type": "code",
   "execution_count": 62,
   "metadata": {},
   "outputs": [
    {
     "name": "stdout",
     "output_type": "stream",
     "text": [
      "{1, 2, 3, 5, 7}\n"
     ]
    }
   ],
   "source": [
    "# Diferença simétrica de conjuntos\n",
    "diferenca_simetrica = conjunto.symmetric_difference(conjunto2)\n",
    "print(diferenca_simetrica)  # Saída: {1, 2, 3, 5, 7, 8}"
   ]
  },
  {
   "cell_type": "code",
   "execution_count": null,
   "metadata": {},
   "outputs": [],
   "source": [
    "# Subconjunto e Superconjunto\n",
    "conjunto3 = {5, 7}\n",
    "print(conjunto3.issubset(conjunto))  # Saída: True\n",
    "print(conjunto.issuperset(conjunto3))  # Saída: True"
   ]
  },
  {
   "cell_type": "code",
   "execution_count": null,
   "metadata": {},
   "outputs": [],
   "source": [
    "# Conjuntos imutáveis (frozenset)\n",
    "conjunto_imutavel = frozenset(conjunto)\n",
    "print(conjunto_imutavel)  # Saída: frozenset({8, 5, 7})"
   ]
  },
  {
   "cell_type": "code",
   "execution_count": 63,
   "metadata": {},
   "outputs": [
    {
     "name": "stdout",
     "output_type": "stream",
     "text": [
      "{1, 2, 5, 6, 'aaa', 'elemento'}\n"
     ]
    }
   ],
   "source": [
    "# Convertendo lista para conjunto (removendo duplicatas)\n",
    "lista_2 = ['elemento', 6, 1, 2, 5, 6, 'aaa']\n",
    "conjunto_lista = set(lista_2)\n",
    "print(conjunto_lista)  # Saída: {1, 2, 5, 6, 'elemento', 'aaa'}"
   ]
  },
  {
   "cell_type": "code",
   "execution_count": 65,
   "metadata": {},
   "outputs": [
    {
     "name": "stdout",
     "output_type": "stream",
     "text": [
      "{1, 2}\n"
     ]
    }
   ],
   "source": [
    "# Convertendo tupla para conjunto\n",
    "tupla = (1, 2)\n",
    "conjunto_tupla = set(tupla)\n",
    "print(conjunto_tupla)  # Saída: {1, 2}"
   ]
  },
  {
   "cell_type": "code",
   "execution_count": 64,
   "metadata": {},
   "outputs": [
    {
     "data": {
      "text/plain": [
       "3"
      ]
     },
     "execution_count": 64,
     "metadata": {},
     "output_type": "execute_result"
    }
   ],
   "source": [
    "conjunto = {'x', 'y', 'z', 'z'}\n",
    "len(conjunto)"
   ]
  },
  {
   "cell_type": "markdown",
   "metadata": {},
   "source": [
    "___"
   ]
  },
  {
   "cell_type": "code",
   "execution_count": 31,
   "metadata": {},
   "outputs": [
    {
     "name": "stdout",
     "output_type": "stream",
     "text": [
      "x não é nem 1 nem 2\n"
     ]
    }
   ],
   "source": [
    "x = 3\n",
    "\n",
    "match x:\n",
    "    case 1:\n",
    "        print(\"x é 1\")\n",
    "    case 2:\n",
    "        print(\"x é 2\")\n",
    "    case _:\n",
    "        print(\"x não é nem 1 nem 2\")"
   ]
  },
  {
   "cell_type": "code",
   "execution_count": 4,
   "metadata": {},
   "outputs": [
    {
     "name": "stdout",
     "output_type": "stream",
     "text": [
      "Alice é adulto\n"
     ]
    }
   ],
   "source": [
    "user = {\"name\": \"Alice\", \"cidade\": \"Florianopólis\", \"age\": 30}\n",
    "\n",
    "match user:\n",
    "    case {\"name\": name, \"age\": age} if age >= 18: print(f\"{name} é adulto\")\n",
    "        \n",
    "    case {\"name\": name, \"age\": age}: print(f\"{name} é menor de idade\")"
   ]
  },
  {
   "cell_type": "markdown",
   "metadata": {},
   "source": [
    "___"
   ]
  },
  {
   "cell_type": "code",
   "execution_count": 1,
   "metadata": {},
   "outputs": [],
   "source": [
    "import pyautogui\n",
    "import time"
   ]
  },
  {
   "cell_type": "code",
   "execution_count": null,
   "metadata": {},
   "outputs": [],
   "source": [
    "# Movendo o mouse para uma posição específica (x, y)\n",
    "print(\"Movendo o mouse para a posição (500, 500)...\")\n",
    "pyautogui.moveTo(500, 500, duration=1)  # Move o mouse em 1 segundo para (500, 500)\n",
    "\n",
    "# Realizando um clique\n",
    "print(\"Realizando um clique na posição atual...\")\n",
    "pyautogui.click()\n",
    "\n",
    "# Movendo o mouse relativo à posição atual\n",
    "print(\"Movendo o mouse 100 pixels para a direita e 50 para baixo...\")\n",
    "pyautogui.move(100, 50, duration=1)\n",
    "\n",
    "# Realizando um duplo clique\n",
    "print(\"Realizando um duplo clique...\")\n",
    "pyautogui.doubleClick()\n",
    "\n",
    "# Realizando um clique com botão direito\n",
    "print(\"Realizando um clique com o botão direito...\")\n",
    "pyautogui.rightClick()"
   ]
  },
  {
   "cell_type": "code",
   "execution_count": 9,
   "metadata": {},
   "outputs": [
    {
     "name": "stdout",
     "output_type": "stream",
     "text": [
      "A posição atual do mouse é: Point(x=1698, y=818)\n"
     ]
    }
   ],
   "source": [
    "# Obtendo a posição atual do mouse\n",
    "current_position = pyautogui.position()\n",
    "print(f\"A posição atual do mouse é: {current_position}\")"
   ]
  },
  {
   "cell_type": "code",
   "execution_count": 5,
   "metadata": {},
   "outputs": [],
   "source": [
    "import pyautogui\n",
    "import time"
   ]
  },
  {
   "cell_type": "code",
   "execution_count": 7,
   "metadata": {},
   "outputs": [
    {
     "name": "stdout",
     "output_type": "stream",
     "text": [
      "A posição atual do mouse é: Point(x=1594, y=570)\n"
     ]
    }
   ],
   "source": [
    "# Obtendo a posição atual do mouse\n",
    "current_position = pyautogui.position()\n",
    "print(f\"A posição atual do mouse é: {current_position}\")"
   ]
  },
  {
   "cell_type": "code",
   "execution_count": null,
   "metadata": {},
   "outputs": [],
   "source": [
    "tempo = 20\n",
    "\n",
    "while True:\n",
    "# for _ in range(2):\n",
    "    pyautogui.moveTo(269, 553, duration=1)  # Move o mouse em 1 segundo para (500, 500)\n",
    "    time.sleep(tempo)\n",
    "    pyautogui.moveTo(1594, 570, duration=1)  # Move o mouse em 1 segundo para (500, 500)\n",
    "    time.sleep(tempo)"
   ]
  },
  {
   "cell_type": "markdown",
   "metadata": {},
   "source": [
    "___"
   ]
  },
  {
   "cell_type": "code",
   "execution_count": 2,
   "metadata": {},
   "outputs": [],
   "source": [
    "import kaggle\n",
    "import pandas as pd\n",
    "import numpy as np\n",
    "import matplotlib.pyplot as plt\n",
    "import time\n",
    "from datetime import datetime\n",
    "import random\n",
    "import shutil\n",
    "import os"
   ]
  },
  {
   "cell_type": "code",
   "execution_count": 3,
   "metadata": {},
   "outputs": [
    {
     "data": {
      "text/html": [
       "<div>\n",
       "<style scoped>\n",
       "    .dataframe tbody tr th:only-of-type {\n",
       "        vertical-align: middle;\n",
       "    }\n",
       "\n",
       "    .dataframe tbody tr th {\n",
       "        vertical-align: top;\n",
       "    }\n",
       "\n",
       "    .dataframe thead th {\n",
       "        text-align: right;\n",
       "    }\n",
       "</style>\n",
       "<table border=\"1\" class=\"dataframe\">\n",
       "  <thead>\n",
       "    <tr style=\"text-align: right;\">\n",
       "      <th></th>\n",
       "      <th>Age</th>\n",
       "      <th>Attrition</th>\n",
       "      <th>BusinessTravel</th>\n",
       "      <th>DailyRate</th>\n",
       "      <th>Department</th>\n",
       "      <th>DistanceFromHome</th>\n",
       "      <th>Education</th>\n",
       "      <th>EducationField</th>\n",
       "      <th>EmployeeCount</th>\n",
       "      <th>EmployeeNumber</th>\n",
       "      <th>...</th>\n",
       "      <th>RelationshipSatisfaction</th>\n",
       "      <th>StandardHours</th>\n",
       "      <th>StockOptionLevel</th>\n",
       "      <th>TotalWorkingYears</th>\n",
       "      <th>TrainingTimesLastYear</th>\n",
       "      <th>WorkLifeBalance</th>\n",
       "      <th>YearsAtCompany</th>\n",
       "      <th>YearsInCurrentRole</th>\n",
       "      <th>YearsSinceLastPromotion</th>\n",
       "      <th>YearsWithCurrManager</th>\n",
       "    </tr>\n",
       "  </thead>\n",
       "  <tbody>\n",
       "    <tr>\n",
       "      <th>0</th>\n",
       "      <td>41</td>\n",
       "      <td>Yes</td>\n",
       "      <td>Travel_Rarely</td>\n",
       "      <td>1102</td>\n",
       "      <td>Sales</td>\n",
       "      <td>1</td>\n",
       "      <td>2</td>\n",
       "      <td>Life Sciences</td>\n",
       "      <td>1</td>\n",
       "      <td>1</td>\n",
       "      <td>...</td>\n",
       "      <td>1</td>\n",
       "      <td>80</td>\n",
       "      <td>0</td>\n",
       "      <td>8</td>\n",
       "      <td>0</td>\n",
       "      <td>1</td>\n",
       "      <td>6</td>\n",
       "      <td>4</td>\n",
       "      <td>0</td>\n",
       "      <td>5</td>\n",
       "    </tr>\n",
       "    <tr>\n",
       "      <th>1</th>\n",
       "      <td>49</td>\n",
       "      <td>No</td>\n",
       "      <td>Travel_Frequently</td>\n",
       "      <td>279</td>\n",
       "      <td>Research &amp; Development</td>\n",
       "      <td>8</td>\n",
       "      <td>1</td>\n",
       "      <td>Life Sciences</td>\n",
       "      <td>1</td>\n",
       "      <td>2</td>\n",
       "      <td>...</td>\n",
       "      <td>4</td>\n",
       "      <td>80</td>\n",
       "      <td>1</td>\n",
       "      <td>10</td>\n",
       "      <td>3</td>\n",
       "      <td>3</td>\n",
       "      <td>10</td>\n",
       "      <td>7</td>\n",
       "      <td>1</td>\n",
       "      <td>7</td>\n",
       "    </tr>\n",
       "    <tr>\n",
       "      <th>2</th>\n",
       "      <td>37</td>\n",
       "      <td>Yes</td>\n",
       "      <td>Travel_Rarely</td>\n",
       "      <td>1373</td>\n",
       "      <td>Research &amp; Development</td>\n",
       "      <td>2</td>\n",
       "      <td>2</td>\n",
       "      <td>Other</td>\n",
       "      <td>1</td>\n",
       "      <td>4</td>\n",
       "      <td>...</td>\n",
       "      <td>2</td>\n",
       "      <td>80</td>\n",
       "      <td>0</td>\n",
       "      <td>7</td>\n",
       "      <td>3</td>\n",
       "      <td>3</td>\n",
       "      <td>0</td>\n",
       "      <td>0</td>\n",
       "      <td>0</td>\n",
       "      <td>0</td>\n",
       "    </tr>\n",
       "    <tr>\n",
       "      <th>3</th>\n",
       "      <td>33</td>\n",
       "      <td>No</td>\n",
       "      <td>Travel_Frequently</td>\n",
       "      <td>1392</td>\n",
       "      <td>Research &amp; Development</td>\n",
       "      <td>3</td>\n",
       "      <td>4</td>\n",
       "      <td>Life Sciences</td>\n",
       "      <td>1</td>\n",
       "      <td>5</td>\n",
       "      <td>...</td>\n",
       "      <td>3</td>\n",
       "      <td>80</td>\n",
       "      <td>0</td>\n",
       "      <td>8</td>\n",
       "      <td>3</td>\n",
       "      <td>3</td>\n",
       "      <td>8</td>\n",
       "      <td>7</td>\n",
       "      <td>3</td>\n",
       "      <td>0</td>\n",
       "    </tr>\n",
       "    <tr>\n",
       "      <th>4</th>\n",
       "      <td>27</td>\n",
       "      <td>No</td>\n",
       "      <td>Travel_Rarely</td>\n",
       "      <td>591</td>\n",
       "      <td>Research &amp; Development</td>\n",
       "      <td>2</td>\n",
       "      <td>1</td>\n",
       "      <td>Medical</td>\n",
       "      <td>1</td>\n",
       "      <td>7</td>\n",
       "      <td>...</td>\n",
       "      <td>4</td>\n",
       "      <td>80</td>\n",
       "      <td>1</td>\n",
       "      <td>6</td>\n",
       "      <td>3</td>\n",
       "      <td>3</td>\n",
       "      <td>2</td>\n",
       "      <td>2</td>\n",
       "      <td>2</td>\n",
       "      <td>2</td>\n",
       "    </tr>\n",
       "    <tr>\n",
       "      <th>...</th>\n",
       "      <td>...</td>\n",
       "      <td>...</td>\n",
       "      <td>...</td>\n",
       "      <td>...</td>\n",
       "      <td>...</td>\n",
       "      <td>...</td>\n",
       "      <td>...</td>\n",
       "      <td>...</td>\n",
       "      <td>...</td>\n",
       "      <td>...</td>\n",
       "      <td>...</td>\n",
       "      <td>...</td>\n",
       "      <td>...</td>\n",
       "      <td>...</td>\n",
       "      <td>...</td>\n",
       "      <td>...</td>\n",
       "      <td>...</td>\n",
       "      <td>...</td>\n",
       "      <td>...</td>\n",
       "      <td>...</td>\n",
       "      <td>...</td>\n",
       "    </tr>\n",
       "    <tr>\n",
       "      <th>1465</th>\n",
       "      <td>36</td>\n",
       "      <td>No</td>\n",
       "      <td>Travel_Frequently</td>\n",
       "      <td>884</td>\n",
       "      <td>Research &amp; Development</td>\n",
       "      <td>23</td>\n",
       "      <td>2</td>\n",
       "      <td>Medical</td>\n",
       "      <td>1</td>\n",
       "      <td>2061</td>\n",
       "      <td>...</td>\n",
       "      <td>3</td>\n",
       "      <td>80</td>\n",
       "      <td>1</td>\n",
       "      <td>17</td>\n",
       "      <td>3</td>\n",
       "      <td>3</td>\n",
       "      <td>5</td>\n",
       "      <td>2</td>\n",
       "      <td>0</td>\n",
       "      <td>3</td>\n",
       "    </tr>\n",
       "    <tr>\n",
       "      <th>1466</th>\n",
       "      <td>39</td>\n",
       "      <td>No</td>\n",
       "      <td>Travel_Rarely</td>\n",
       "      <td>613</td>\n",
       "      <td>Research &amp; Development</td>\n",
       "      <td>6</td>\n",
       "      <td>1</td>\n",
       "      <td>Medical</td>\n",
       "      <td>1</td>\n",
       "      <td>2062</td>\n",
       "      <td>...</td>\n",
       "      <td>1</td>\n",
       "      <td>80</td>\n",
       "      <td>1</td>\n",
       "      <td>9</td>\n",
       "      <td>5</td>\n",
       "      <td>3</td>\n",
       "      <td>7</td>\n",
       "      <td>7</td>\n",
       "      <td>1</td>\n",
       "      <td>7</td>\n",
       "    </tr>\n",
       "    <tr>\n",
       "      <th>1467</th>\n",
       "      <td>27</td>\n",
       "      <td>No</td>\n",
       "      <td>Travel_Rarely</td>\n",
       "      <td>155</td>\n",
       "      <td>Research &amp; Development</td>\n",
       "      <td>4</td>\n",
       "      <td>3</td>\n",
       "      <td>Life Sciences</td>\n",
       "      <td>1</td>\n",
       "      <td>2064</td>\n",
       "      <td>...</td>\n",
       "      <td>2</td>\n",
       "      <td>80</td>\n",
       "      <td>1</td>\n",
       "      <td>6</td>\n",
       "      <td>0</td>\n",
       "      <td>3</td>\n",
       "      <td>6</td>\n",
       "      <td>2</td>\n",
       "      <td>0</td>\n",
       "      <td>3</td>\n",
       "    </tr>\n",
       "    <tr>\n",
       "      <th>1468</th>\n",
       "      <td>49</td>\n",
       "      <td>No</td>\n",
       "      <td>Travel_Frequently</td>\n",
       "      <td>1023</td>\n",
       "      <td>Sales</td>\n",
       "      <td>2</td>\n",
       "      <td>3</td>\n",
       "      <td>Medical</td>\n",
       "      <td>1</td>\n",
       "      <td>2065</td>\n",
       "      <td>...</td>\n",
       "      <td>4</td>\n",
       "      <td>80</td>\n",
       "      <td>0</td>\n",
       "      <td>17</td>\n",
       "      <td>3</td>\n",
       "      <td>2</td>\n",
       "      <td>9</td>\n",
       "      <td>6</td>\n",
       "      <td>0</td>\n",
       "      <td>8</td>\n",
       "    </tr>\n",
       "    <tr>\n",
       "      <th>1469</th>\n",
       "      <td>34</td>\n",
       "      <td>No</td>\n",
       "      <td>Travel_Rarely</td>\n",
       "      <td>628</td>\n",
       "      <td>Research &amp; Development</td>\n",
       "      <td>8</td>\n",
       "      <td>3</td>\n",
       "      <td>Medical</td>\n",
       "      <td>1</td>\n",
       "      <td>2068</td>\n",
       "      <td>...</td>\n",
       "      <td>1</td>\n",
       "      <td>80</td>\n",
       "      <td>0</td>\n",
       "      <td>6</td>\n",
       "      <td>3</td>\n",
       "      <td>4</td>\n",
       "      <td>4</td>\n",
       "      <td>3</td>\n",
       "      <td>1</td>\n",
       "      <td>2</td>\n",
       "    </tr>\n",
       "  </tbody>\n",
       "</table>\n",
       "<p>1470 rows × 35 columns</p>\n",
       "</div>"
      ],
      "text/plain": [
       "      Age Attrition     BusinessTravel  DailyRate              Department  \\\n",
       "0      41       Yes      Travel_Rarely       1102                   Sales   \n",
       "1      49        No  Travel_Frequently        279  Research & Development   \n",
       "2      37       Yes      Travel_Rarely       1373  Research & Development   \n",
       "3      33        No  Travel_Frequently       1392  Research & Development   \n",
       "4      27        No      Travel_Rarely        591  Research & Development   \n",
       "...   ...       ...                ...        ...                     ...   \n",
       "1465   36        No  Travel_Frequently        884  Research & Development   \n",
       "1466   39        No      Travel_Rarely        613  Research & Development   \n",
       "1467   27        No      Travel_Rarely        155  Research & Development   \n",
       "1468   49        No  Travel_Frequently       1023                   Sales   \n",
       "1469   34        No      Travel_Rarely        628  Research & Development   \n",
       "\n",
       "      DistanceFromHome  Education EducationField  EmployeeCount  \\\n",
       "0                    1          2  Life Sciences              1   \n",
       "1                    8          1  Life Sciences              1   \n",
       "2                    2          2          Other              1   \n",
       "3                    3          4  Life Sciences              1   \n",
       "4                    2          1        Medical              1   \n",
       "...                ...        ...            ...            ...   \n",
       "1465                23          2        Medical              1   \n",
       "1466                 6          1        Medical              1   \n",
       "1467                 4          3  Life Sciences              1   \n",
       "1468                 2          3        Medical              1   \n",
       "1469                 8          3        Medical              1   \n",
       "\n",
       "      EmployeeNumber  ...  RelationshipSatisfaction StandardHours  \\\n",
       "0                  1  ...                         1            80   \n",
       "1                  2  ...                         4            80   \n",
       "2                  4  ...                         2            80   \n",
       "3                  5  ...                         3            80   \n",
       "4                  7  ...                         4            80   \n",
       "...              ...  ...                       ...           ...   \n",
       "1465            2061  ...                         3            80   \n",
       "1466            2062  ...                         1            80   \n",
       "1467            2064  ...                         2            80   \n",
       "1468            2065  ...                         4            80   \n",
       "1469            2068  ...                         1            80   \n",
       "\n",
       "      StockOptionLevel  TotalWorkingYears  TrainingTimesLastYear  \\\n",
       "0                    0                  8                      0   \n",
       "1                    1                 10                      3   \n",
       "2                    0                  7                      3   \n",
       "3                    0                  8                      3   \n",
       "4                    1                  6                      3   \n",
       "...                ...                ...                    ...   \n",
       "1465                 1                 17                      3   \n",
       "1466                 1                  9                      5   \n",
       "1467                 1                  6                      0   \n",
       "1468                 0                 17                      3   \n",
       "1469                 0                  6                      3   \n",
       "\n",
       "     WorkLifeBalance  YearsAtCompany YearsInCurrentRole  \\\n",
       "0                  1               6                  4   \n",
       "1                  3              10                  7   \n",
       "2                  3               0                  0   \n",
       "3                  3               8                  7   \n",
       "4                  3               2                  2   \n",
       "...              ...             ...                ...   \n",
       "1465               3               5                  2   \n",
       "1466               3               7                  7   \n",
       "1467               3               6                  2   \n",
       "1468               2               9                  6   \n",
       "1469               4               4                  3   \n",
       "\n",
       "      YearsSinceLastPromotion  YearsWithCurrManager  \n",
       "0                           0                     5  \n",
       "1                           1                     7  \n",
       "2                           0                     0  \n",
       "3                           3                     0  \n",
       "4                           2                     2  \n",
       "...                       ...                   ...  \n",
       "1465                        0                     3  \n",
       "1466                        1                     7  \n",
       "1467                        0                     3  \n",
       "1468                        0                     8  \n",
       "1469                        1                     2  \n",
       "\n",
       "[1470 rows x 35 columns]"
      ]
     },
     "metadata": {},
     "output_type": "display_data"
    }
   ],
   "source": [
    "caminhos = {\n",
    "    1: r\"kaggle/cereal.csv\",\n",
    "    2: r\"kaggle\\WA_Fn-UseC_-HR-Employee-Attrition.csv\"\n",
    "}\n",
    "\n",
    "df = pd.read_csv(filepath_or_buffer = caminhos[2])\n",
    "\n",
    "display(df)"
   ]
  },
  {
   "cell_type": "code",
   "execution_count": 4,
   "metadata": {},
   "outputs": [
    {
     "data": {
      "text/plain": [
       "Age                           43\n",
       "Attrition                      2\n",
       "BusinessTravel                 3\n",
       "DailyRate                    886\n",
       "Department                     3\n",
       "DistanceFromHome              29\n",
       "Education                      5\n",
       "EducationField                 6\n",
       "EmployeeCount                  1\n",
       "EmployeeNumber              1470\n",
       "EnvironmentSatisfaction        4\n",
       "Gender                         2\n",
       "HourlyRate                    71\n",
       "JobInvolvement                 4\n",
       "JobLevel                       5\n",
       "JobRole                        9\n",
       "JobSatisfaction                4\n",
       "MaritalStatus                  3\n",
       "MonthlyIncome               1349\n",
       "MonthlyRate                 1427\n",
       "NumCompaniesWorked            10\n",
       "Over18                         1\n",
       "OverTime                       2\n",
       "PercentSalaryHike             15\n",
       "PerformanceRating              2\n",
       "RelationshipSatisfaction       4\n",
       "StandardHours                  1\n",
       "StockOptionLevel               4\n",
       "TotalWorkingYears             40\n",
       "TrainingTimesLastYear          7\n",
       "WorkLifeBalance                4\n",
       "YearsAtCompany                37\n",
       "YearsInCurrentRole            19\n",
       "YearsSinceLastPromotion       16\n",
       "YearsWithCurrManager          18\n",
       "dtype: int64"
      ]
     },
     "execution_count": 4,
     "metadata": {},
     "output_type": "execute_result"
    }
   ],
   "source": [
    "df.nunique()"
   ]
  },
  {
   "cell_type": "code",
   "execution_count": 9,
   "metadata": {},
   "outputs": [
    {
     "data": {
      "text/html": [
       "<div>\n",
       "<style scoped>\n",
       "    .dataframe tbody tr th:only-of-type {\n",
       "        vertical-align: middle;\n",
       "    }\n",
       "\n",
       "    .dataframe tbody tr th {\n",
       "        vertical-align: top;\n",
       "    }\n",
       "\n",
       "    .dataframe thead th {\n",
       "        text-align: right;\n",
       "    }\n",
       "</style>\n",
       "<table border=\"1\" class=\"dataframe\">\n",
       "  <thead>\n",
       "    <tr style=\"text-align: right;\">\n",
       "      <th></th>\n",
       "      <th>Department</th>\n",
       "      <th>Human Resources</th>\n",
       "      <th>Research &amp; Development</th>\n",
       "      <th>Sales</th>\n",
       "    </tr>\n",
       "    <tr>\n",
       "      <th>Gender</th>\n",
       "      <th>Attrition</th>\n",
       "      <th></th>\n",
       "      <th></th>\n",
       "      <th></th>\n",
       "    </tr>\n",
       "  </thead>\n",
       "  <tbody>\n",
       "    <tr>\n",
       "      <th rowspan=\"2\" valign=\"top\">Female</th>\n",
       "      <th>No</th>\n",
       "      <td>14</td>\n",
       "      <td>336</td>\n",
       "      <td>151</td>\n",
       "    </tr>\n",
       "    <tr>\n",
       "      <th>Yes</th>\n",
       "      <td>6</td>\n",
       "      <td>43</td>\n",
       "      <td>38</td>\n",
       "    </tr>\n",
       "    <tr>\n",
       "      <th rowspan=\"2\" valign=\"top\">Male</th>\n",
       "      <th>No</th>\n",
       "      <td>37</td>\n",
       "      <td>492</td>\n",
       "      <td>203</td>\n",
       "    </tr>\n",
       "    <tr>\n",
       "      <th>Yes</th>\n",
       "      <td>6</td>\n",
       "      <td>90</td>\n",
       "      <td>54</td>\n",
       "    </tr>\n",
       "  </tbody>\n",
       "</table>\n",
       "</div>"
      ],
      "text/plain": [
       "Department        Human Resources  Research & Development  Sales\n",
       "Gender Attrition                                                \n",
       "Female No                      14                     336    151\n",
       "       Yes                      6                      43     38\n",
       "Male   No                      37                     492    203\n",
       "       Yes                      6                      90     54"
      ]
     },
     "execution_count": 9,
     "metadata": {},
     "output_type": "execute_result"
    }
   ],
   "source": [
    "pd.crosstab(index = [df.Gender, df.Attrition], columns = df.Department)"
   ]
  },
  {
   "cell_type": "code",
   "execution_count": 10,
   "metadata": {},
   "outputs": [
    {
     "data": {
      "text/html": [
       "<div>\n",
       "<style scoped>\n",
       "    .dataframe tbody tr th:only-of-type {\n",
       "        vertical-align: middle;\n",
       "    }\n",
       "\n",
       "    .dataframe tbody tr th {\n",
       "        vertical-align: top;\n",
       "    }\n",
       "\n",
       "    .dataframe thead th {\n",
       "        text-align: right;\n",
       "    }\n",
       "</style>\n",
       "<table border=\"1\" class=\"dataframe\">\n",
       "  <thead>\n",
       "    <tr style=\"text-align: right;\">\n",
       "      <th></th>\n",
       "      <th>Department</th>\n",
       "      <th>Human Resources</th>\n",
       "      <th>Research &amp; Development</th>\n",
       "      <th>Sales</th>\n",
       "      <th>Total</th>\n",
       "    </tr>\n",
       "    <tr>\n",
       "      <th>Gender</th>\n",
       "      <th>Attrition</th>\n",
       "      <th></th>\n",
       "      <th></th>\n",
       "      <th></th>\n",
       "      <th></th>\n",
       "    </tr>\n",
       "  </thead>\n",
       "  <tbody>\n",
       "    <tr>\n",
       "      <th rowspan=\"2\" valign=\"top\">Female</th>\n",
       "      <th>No</th>\n",
       "      <td>14</td>\n",
       "      <td>336</td>\n",
       "      <td>151</td>\n",
       "      <td>501</td>\n",
       "    </tr>\n",
       "    <tr>\n",
       "      <th>Yes</th>\n",
       "      <td>6</td>\n",
       "      <td>43</td>\n",
       "      <td>38</td>\n",
       "      <td>87</td>\n",
       "    </tr>\n",
       "    <tr>\n",
       "      <th rowspan=\"2\" valign=\"top\">Male</th>\n",
       "      <th>No</th>\n",
       "      <td>37</td>\n",
       "      <td>492</td>\n",
       "      <td>203</td>\n",
       "      <td>732</td>\n",
       "    </tr>\n",
       "    <tr>\n",
       "      <th>Yes</th>\n",
       "      <td>6</td>\n",
       "      <td>90</td>\n",
       "      <td>54</td>\n",
       "      <td>150</td>\n",
       "    </tr>\n",
       "    <tr>\n",
       "      <th>Total</th>\n",
       "      <th></th>\n",
       "      <td>63</td>\n",
       "      <td>961</td>\n",
       "      <td>446</td>\n",
       "      <td>1470</td>\n",
       "    </tr>\n",
       "  </tbody>\n",
       "</table>\n",
       "</div>"
      ],
      "text/plain": [
       "Department        Human Resources  Research & Development  Sales  Total\n",
       "Gender Attrition                                                       \n",
       "Female No                      14                     336    151    501\n",
       "       Yes                      6                      43     38     87\n",
       "Male   No                      37                     492    203    732\n",
       "       Yes                      6                      90     54    150\n",
       "Total                          63                     961    446   1470"
      ]
     },
     "execution_count": 10,
     "metadata": {},
     "output_type": "execute_result"
    }
   ],
   "source": [
    "pd.crosstab(index = [df.Gender, df.Attrition], columns = df.Department, margins = True, margins_name = \"Total\")"
   ]
  },
  {
   "cell_type": "code",
   "execution_count": 13,
   "metadata": {},
   "outputs": [
    {
     "data": {
      "text/html": [
       "<div>\n",
       "<style scoped>\n",
       "    .dataframe tbody tr th:only-of-type {\n",
       "        vertical-align: middle;\n",
       "    }\n",
       "\n",
       "    .dataframe tbody tr th {\n",
       "        vertical-align: top;\n",
       "    }\n",
       "\n",
       "    .dataframe thead th {\n",
       "        text-align: right;\n",
       "    }\n",
       "</style>\n",
       "<table border=\"1\" class=\"dataframe\">\n",
       "  <thead>\n",
       "    <tr style=\"text-align: right;\">\n",
       "      <th></th>\n",
       "      <th>Department</th>\n",
       "      <th>Human Resources</th>\n",
       "      <th>Research &amp; Development</th>\n",
       "      <th>Sales</th>\n",
       "    </tr>\n",
       "    <tr>\n",
       "      <th>Gender</th>\n",
       "      <th>Attrition</th>\n",
       "      <th></th>\n",
       "      <th></th>\n",
       "      <th></th>\n",
       "    </tr>\n",
       "  </thead>\n",
       "  <tbody>\n",
       "    <tr>\n",
       "      <th rowspan=\"2\" valign=\"top\">Female</th>\n",
       "      <th>No</th>\n",
       "      <td>2.79</td>\n",
       "      <td>67.07</td>\n",
       "      <td>30.14</td>\n",
       "    </tr>\n",
       "    <tr>\n",
       "      <th>Yes</th>\n",
       "      <td>6.90</td>\n",
       "      <td>49.43</td>\n",
       "      <td>43.68</td>\n",
       "    </tr>\n",
       "    <tr>\n",
       "      <th rowspan=\"2\" valign=\"top\">Male</th>\n",
       "      <th>No</th>\n",
       "      <td>5.05</td>\n",
       "      <td>67.21</td>\n",
       "      <td>27.73</td>\n",
       "    </tr>\n",
       "    <tr>\n",
       "      <th>Yes</th>\n",
       "      <td>4.00</td>\n",
       "      <td>60.00</td>\n",
       "      <td>36.00</td>\n",
       "    </tr>\n",
       "    <tr>\n",
       "      <th>Total</th>\n",
       "      <th></th>\n",
       "      <td>4.29</td>\n",
       "      <td>65.37</td>\n",
       "      <td>30.34</td>\n",
       "    </tr>\n",
       "  </tbody>\n",
       "</table>\n",
       "</div>"
      ],
      "text/plain": [
       "Department        Human Resources  Research & Development  Sales\n",
       "Gender Attrition                                                \n",
       "Female No                    2.79                   67.07  30.14\n",
       "       Yes                   6.90                   49.43  43.68\n",
       "Male   No                    5.05                   67.21  27.73\n",
       "       Yes                   4.00                   60.00  36.00\n",
       "Total                        4.29                   65.37  30.34"
      ]
     },
     "execution_count": 13,
     "metadata": {},
     "output_type": "execute_result"
    }
   ],
   "source": [
    "pd.crosstab(index = [df.Gender, df.Attrition], columns = df.Department, normalize = \"index\", margins = True, margins_name = \"Total\").mul(100).round(decimals = 2)"
   ]
  },
  {
   "cell_type": "code",
   "execution_count": null,
   "metadata": {},
   "outputs": [],
   "source": []
  },
  {
   "cell_type": "code",
   "execution_count": null,
   "metadata": {},
   "outputs": [],
   "source": []
  },
  {
   "cell_type": "code",
   "execution_count": 14,
   "metadata": {},
   "outputs": [
    {
     "data": {
      "text/html": [
       "<div>\n",
       "<style scoped>\n",
       "    .dataframe tbody tr th:only-of-type {\n",
       "        vertical-align: middle;\n",
       "    }\n",
       "\n",
       "    .dataframe tbody tr th {\n",
       "        vertical-align: top;\n",
       "    }\n",
       "\n",
       "    .dataframe thead th {\n",
       "        text-align: right;\n",
       "    }\n",
       "</style>\n",
       "<table border=\"1\" class=\"dataframe\">\n",
       "  <thead>\n",
       "    <tr style=\"text-align: right;\">\n",
       "      <th></th>\n",
       "      <th>data</th>\n",
       "      <th>cidade</th>\n",
       "      <th>emprego</th>\n",
       "      <th>qualidade</th>\n",
       "      <th>tipo</th>\n",
       "      <th>idade</th>\n",
       "      <th>salario</th>\n",
       "    </tr>\n",
       "  </thead>\n",
       "  <tbody>\n",
       "    <tr>\n",
       "      <th>0</th>\n",
       "      <td>2025-11-11 08:21:12</td>\n",
       "      <td>Belo Horizonte</td>\n",
       "      <td>Mercado</td>\n",
       "      <td>Neutro</td>\n",
       "      <td>Presencial</td>\n",
       "      <td>18</td>\n",
       "      <td>3673.80</td>\n",
       "    </tr>\n",
       "    <tr>\n",
       "      <th>1</th>\n",
       "      <td>2023-01-25 15:27:22</td>\n",
       "      <td>Recife</td>\n",
       "      <td>Loja de roupas</td>\n",
       "      <td>Neutro</td>\n",
       "      <td>Remoto</td>\n",
       "      <td>19</td>\n",
       "      <td>7722.41</td>\n",
       "    </tr>\n",
       "    <tr>\n",
       "      <th>2</th>\n",
       "      <td>2024-06-25 02:35:09</td>\n",
       "      <td>Rio de Janeiro</td>\n",
       "      <td>Indústria</td>\n",
       "      <td>Ruim</td>\n",
       "      <td>Hibrído</td>\n",
       "      <td>21</td>\n",
       "      <td>6680.39</td>\n",
       "    </tr>\n",
       "    <tr>\n",
       "      <th>3</th>\n",
       "      <td>2024-08-13 10:18:03</td>\n",
       "      <td>Garanhuns</td>\n",
       "      <td>Loja de roupas</td>\n",
       "      <td>Bom</td>\n",
       "      <td>Hibrído</td>\n",
       "      <td>19</td>\n",
       "      <td>5868.60</td>\n",
       "    </tr>\n",
       "    <tr>\n",
       "      <th>4</th>\n",
       "      <td>2023-02-26 01:13:06</td>\n",
       "      <td>Rio de Janeiro</td>\n",
       "      <td>Hospital</td>\n",
       "      <td>Ótimo</td>\n",
       "      <td>Remoto</td>\n",
       "      <td>21</td>\n",
       "      <td>7206.18</td>\n",
       "    </tr>\n",
       "  </tbody>\n",
       "</table>\n",
       "</div>"
      ],
      "text/plain": [
       "                 data          cidade         emprego qualidade        tipo  \\\n",
       "0 2025-11-11 08:21:12  Belo Horizonte         Mercado    Neutro  Presencial   \n",
       "1 2023-01-25 15:27:22          Recife  Loja de roupas    Neutro      Remoto   \n",
       "2 2024-06-25 02:35:09  Rio de Janeiro       Indústria      Ruim     Hibrído   \n",
       "3 2024-08-13 10:18:03       Garanhuns  Loja de roupas       Bom     Hibrído   \n",
       "4 2023-02-26 01:13:06  Rio de Janeiro        Hospital     Ótimo      Remoto   \n",
       "\n",
       "   idade  salario  \n",
       "0     18  3673.80  \n",
       "1     19  7722.41  \n",
       "2     21  6680.39  \n",
       "3     19  5868.60  \n",
       "4     21  7206.18  "
      ]
     },
     "metadata": {},
     "output_type": "display_data"
    },
    {
     "name": "stdout",
     "output_type": "stream",
     "text": [
      "(10000, 7)\n"
     ]
    }
   ],
   "source": [
    "quantidade = 10_000\n",
    "\n",
    "lista_cidades = [\"Florianopólis\", \"Recife\", \"Garanhuns\", \"Rio de Janeiro\", \"São Paulo\", \"Curitiba\", \"Porto Alegre\", \"Belo Horizonte\"]\n",
    "mapa_cidade = dict(enumerate([lista_cidades[random.randint(0, len(lista_cidades) - 1)] for _ in range(quantidade)]))\n",
    "\n",
    "lista_emprego = [\"Restaurante\", \"Mercado\", \"Loja de roupas\", \"Indústria\", \"Barbearia\", \"Hospital\"]\n",
    "mapa_emprego = dict(enumerate([lista_emprego[random.randint(0, len(lista_emprego) - 1)] for _ in range(quantidade)]))\n",
    "\n",
    "lista_qualidade = [\"Péssimo\", \"Ruim\", \"Neutro\", \"Bom\", \"Ótimo\"]\n",
    "mapa_qualidade = dict(enumerate([lista_qualidade[random.randint(0, len(lista_qualidade) - 1)] for _ in range(quantidade)]))\n",
    "\n",
    "lista_tipo_emprego = [\"Presencial\", \"Remoto\", \"Hibrído\"]\n",
    "mapa_tipo_emprego = dict(enumerate([lista_tipo_emprego[random.randint(0, len(lista_tipo_emprego) - 1)] for _ in range(quantidade)]))\n",
    "\n",
    "lista_idade = [random.randint(18, 21) for _ in range(quantidade)]\n",
    "mapa_idade = dict(enumerate(lista_idade))\n",
    "\n",
    "ano_minimo = 2023\n",
    "ano_maximo = 2025\n",
    "lista_data = [datetime(random.randint(ano_minimo, ano_maximo), random.randint(1, 12), random.randint(1, 28), random.randint(0, 23), random.randint(0, 59), random.randint(0, 59)) for _ in range(quantidade)]\n",
    "mapa_data = dict(enumerate(lista_data))\n",
    "\n",
    "media = 6000\n",
    "desvio_padrao = 1250\n",
    "casas_decimais = 2\n",
    "lista_salario = [float(np.round(a = np.random.standard_normal(1) * desvio_padrao + media, decimals = casas_decimais)[0]) for _ in range(quantidade)]\n",
    "mapa_salario = dict(enumerate(lista_salario))\n",
    "\n",
    "dados = {\n",
    "    \"data\": mapa_data.values(),\n",
    "    \"cidade\": mapa_cidade.values(),\n",
    "    \"emprego\": mapa_emprego.values(),\n",
    "    \"qualidade\": mapa_qualidade.values(),\n",
    "    \"tipo\": mapa_tipo_emprego.values(),\n",
    "    \"idade\": mapa_idade.values(),\n",
    "    \"salario\": mapa_salario.values(),\n",
    "}\n",
    "\n",
    "df = pd.DataFrame(data = dados)\n",
    "\n",
    "display(df.head())\n",
    "print(df.shape)"
   ]
  },
  {
   "cell_type": "code",
   "execution_count": 526,
   "metadata": {},
   "outputs": [
    {
     "data": {
      "image/png": "[encoded data removed]",
      "text/plain": [
       "<Figure size 1500x800 with 1 Axes>"
      ]
     },
     "metadata": {},
     "output_type": "display_data"
    }
   ],
   "source": [
    "rng = np.random.default_rng(seed = None)\n",
    "\n",
    "amostras = 1000\n",
    "valor_maximo = 100\n",
    "\n",
    "x = rng.uniform(low = 0, high = valor_maximo, size = amostras)\n",
    "\n",
    "# Uma função assintótica com uma variação que obedece a distribuição normal\n",
    "# y = 10 * (1 - np.exp(-0.2 * x)) + (rng.standard_normal(size = amostras) * 1.5)\n",
    "\n",
    "# Uma função assintótica com uma variação que obedece a distribuição normal, porém o descio padrão reduz de forma exponencial\n",
    "y = 10 * (1 - np.exp(-0.2 * x)) + (rng.standard_normal(size = amostras) * 2 * np.exp(-0.1 * x)) - (np.abs(rng.standard_normal(size = amostras) * 10) * np.exp(-0.1 * x))\n",
    "\n",
    "# Limita os valores para ficarem entre 0 e 10\n",
    "y = np.clip(a = y, a_min = 0, a_max = 10)\n",
    "\n",
    "coef = np.polyfit(x = x, y = y, deg = 2)\n",
    "polinomio = np.poly1d(coef)\n",
    "\n",
    "plt.figure(figsize = (15, 8))\n",
    "plt.scatter(x, y, s = 30, c = y, cmap = \"RdYlGn\", marker = \"o\", zorder = 2)\n",
    "plt.plot(np.linspace(0, valor_maximo, 500), polinomio(np.linspace(0, valor_maximo, 500)), color = \"red\", linestyle = \"--\", label = \"Estimativa\", zorder = 1)\n",
    "\n",
    "plt.axhspan(ymin = np.percentile(a = y, q = 15), \n",
    "            ymax = np.percentile(a = y, q = 100), \n",
    "            alpha = 0.1, \n",
    "            zorder = 0, \n",
    "            hatch = \"//\", \n",
    "            facecolor = \"r\", \n",
    "            edgecolor = \"b\", \n",
    "            label = r\"50% das amostras\")\n",
    "\n",
    "plt.axvspan(xmin = np.percentile(a = x, q = 25), \n",
    "            xmax = np.percentile(a = x, q = 75), \n",
    "            alpha = 0.1, \n",
    "            zorder = 0, \n",
    "            hatch = r\"\\\\\", \n",
    "            facecolor = \"g\", \n",
    "            edgecolor = \"b\", \n",
    "            label = r\"50% das amostras\")\n",
    "\n",
    "plt.axhline(y = 7, color = \"k\", alpha = 0.7)\n",
    "\n",
    "plt.grid(alpha = 0.2)\n",
    "\n",
    "plt.yticks(ticks = np.arange(0, 12, 0.5))\n",
    "plt.xticks(ticks = np.arange(0, valor_maximo + 0.1, 5))\n",
    "\n",
    "plt.ylim(0, 10.25)\n",
    "plt.xlim(left = 0)\n",
    "\n",
    "plt.ylabel(ylabel = \"Nota no exame\", fontsize = 12, fontweight = \"bold\")\n",
    "plt.xlabel(xlabel = \"Tempo de estudo (Horas)\", fontsize = 12, fontweight = \"bold\")\n",
    "\n",
    "plt.title(label = \"Nota dos estudantes em relação ao tempo de estudo\")\n",
    "\n",
    "plt.legend(loc = \"lower right\")\n",
    "\n",
    "plt.savefig(fname = \"imagem_10.png\", bbox_inches = \"tight\", dpi = 10)\n",
    "\n",
    "plt.show()"
   ]
  },
  {
   "cell_type": "markdown",
   "metadata": {},
   "source": [
    "Seria interassente você realizar algumas análise estatísticas considerando certas filtragens e observando esse estudo através de alterações no gráfico também."
   ]
  },
  {
   "cell_type": "code",
   "execution_count": 186,
   "metadata": {},
   "outputs": [
    {
     "data": {
      "text/html": [
       "<div>\n",
       "<style scoped>\n",
       "    .dataframe tbody tr th:only-of-type {\n",
       "        vertical-align: middle;\n",
       "    }\n",
       "\n",
       "    .dataframe tbody tr th {\n",
       "        vertical-align: top;\n",
       "    }\n",
       "\n",
       "    .dataframe thead th {\n",
       "        text-align: right;\n",
       "    }\n",
       "</style>\n",
       "<table border=\"1\" class=\"dataframe\">\n",
       "  <thead>\n",
       "    <tr style=\"text-align: right;\">\n",
       "      <th></th>\n",
       "      <th>Data</th>\n",
       "      <th>Horário</th>\n",
       "      <th>Mês</th>\n",
       "      <th>Ano</th>\n",
       "      <th>data_horario</th>\n",
       "      <th>data_horario_anterior</th>\n",
       "      <th>diferenca</th>\n",
       "      <th>segundos</th>\n",
       "      <th>minutos</th>\n",
       "      <th>horas</th>\n",
       "      <th>dias</th>\n",
       "    </tr>\n",
       "  </thead>\n",
       "  <tbody>\n",
       "    <tr>\n",
       "      <th>0</th>\n",
       "      <td>2023-07-02</td>\n",
       "      <td>21:00:00</td>\n",
       "      <td>Julho</td>\n",
       "      <td>2023</td>\n",
       "      <td>2023-07-02 21:00:00</td>\n",
       "      <td>2023-07-01 20:20:00</td>\n",
       "      <td>1 days 00:40:00</td>\n",
       "      <td>88800.0</td>\n",
       "      <td>1480.0</td>\n",
       "      <td>24.67</td>\n",
       "      <td>1.03</td>\n",
       "    </tr>\n",
       "    <tr>\n",
       "      <th>1</th>\n",
       "      <td>2023-07-03</td>\n",
       "      <td>02:25:00</td>\n",
       "      <td>Julho</td>\n",
       "      <td>2023</td>\n",
       "      <td>2023-07-03 02:25:00</td>\n",
       "      <td>2023-07-02 21:00:00</td>\n",
       "      <td>0 days 05:25:00</td>\n",
       "      <td>19500.0</td>\n",
       "      <td>325.0</td>\n",
       "      <td>5.42</td>\n",
       "      <td>0.23</td>\n",
       "    </tr>\n",
       "    <tr>\n",
       "      <th>2</th>\n",
       "      <td>2023-07-03</td>\n",
       "      <td>18:26:00</td>\n",
       "      <td>Julho</td>\n",
       "      <td>2023</td>\n",
       "      <td>2023-07-03 18:26:00</td>\n",
       "      <td>2023-07-03 02:25:00</td>\n",
       "      <td>0 days 16:01:00</td>\n",
       "      <td>57660.0</td>\n",
       "      <td>961.0</td>\n",
       "      <td>16.02</td>\n",
       "      <td>0.67</td>\n",
       "    </tr>\n",
       "    <tr>\n",
       "      <th>3</th>\n",
       "      <td>2023-07-03</td>\n",
       "      <td>20:50:00</td>\n",
       "      <td>Julho</td>\n",
       "      <td>2023</td>\n",
       "      <td>2023-07-03 20:50:00</td>\n",
       "      <td>2023-07-03 18:26:00</td>\n",
       "      <td>0 days 02:24:00</td>\n",
       "      <td>8640.0</td>\n",
       "      <td>144.0</td>\n",
       "      <td>2.40</td>\n",
       "      <td>0.10</td>\n",
       "    </tr>\n",
       "    <tr>\n",
       "      <th>4</th>\n",
       "      <td>2023-07-04</td>\n",
       "      <td>20:10:00</td>\n",
       "      <td>Julho</td>\n",
       "      <td>2023</td>\n",
       "      <td>2023-07-04 20:10:00</td>\n",
       "      <td>2023-07-03 20:50:00</td>\n",
       "      <td>0 days 23:20:00</td>\n",
       "      <td>84000.0</td>\n",
       "      <td>1400.0</td>\n",
       "      <td>23.33</td>\n",
       "      <td>0.97</td>\n",
       "    </tr>\n",
       "    <tr>\n",
       "      <th>...</th>\n",
       "      <td>...</td>\n",
       "      <td>...</td>\n",
       "      <td>...</td>\n",
       "      <td>...</td>\n",
       "      <td>...</td>\n",
       "      <td>...</td>\n",
       "      <td>...</td>\n",
       "      <td>...</td>\n",
       "      <td>...</td>\n",
       "      <td>...</td>\n",
       "      <td>...</td>\n",
       "    </tr>\n",
       "    <tr>\n",
       "      <th>815</th>\n",
       "      <td>2025-01-22</td>\n",
       "      <td>23:50:00</td>\n",
       "      <td>Janeiro</td>\n",
       "      <td>2025</td>\n",
       "      <td>2025-01-22 23:50:00</td>\n",
       "      <td>2025-01-22 21:30:00</td>\n",
       "      <td>0 days 02:20:00</td>\n",
       "      <td>8400.0</td>\n",
       "      <td>140.0</td>\n",
       "      <td>2.33</td>\n",
       "      <td>0.10</td>\n",
       "    </tr>\n",
       "    <tr>\n",
       "      <th>816</th>\n",
       "      <td>2025-01-23</td>\n",
       "      <td>22:45:00</td>\n",
       "      <td>Janeiro</td>\n",
       "      <td>2025</td>\n",
       "      <td>2025-01-23 22:45:00</td>\n",
       "      <td>2025-01-22 23:50:00</td>\n",
       "      <td>0 days 22:55:00</td>\n",
       "      <td>82500.0</td>\n",
       "      <td>1375.0</td>\n",
       "      <td>22.92</td>\n",
       "      <td>0.95</td>\n",
       "    </tr>\n",
       "    <tr>\n",
       "      <th>817</th>\n",
       "      <td>2025-01-24</td>\n",
       "      <td>00:50:00</td>\n",
       "      <td>Janeiro</td>\n",
       "      <td>2025</td>\n",
       "      <td>2025-01-24 00:50:00</td>\n",
       "      <td>2025-01-23 22:45:00</td>\n",
       "      <td>0 days 02:05:00</td>\n",
       "      <td>7500.0</td>\n",
       "      <td>125.0</td>\n",
       "      <td>2.08</td>\n",
       "      <td>0.09</td>\n",
       "    </tr>\n",
       "    <tr>\n",
       "      <th>818</th>\n",
       "      <td>2025-01-24</td>\n",
       "      <td>18:05:00</td>\n",
       "      <td>Janeiro</td>\n",
       "      <td>2025</td>\n",
       "      <td>2025-01-24 18:05:00</td>\n",
       "      <td>2025-01-24 00:50:00</td>\n",
       "      <td>0 days 17:15:00</td>\n",
       "      <td>62100.0</td>\n",
       "      <td>1035.0</td>\n",
       "      <td>17.25</td>\n",
       "      <td>0.72</td>\n",
       "    </tr>\n",
       "    <tr>\n",
       "      <th>819</th>\n",
       "      <td>2025-01-24</td>\n",
       "      <td>22:40:00</td>\n",
       "      <td>Janeiro</td>\n",
       "      <td>2025</td>\n",
       "      <td>2025-01-24 22:40:00</td>\n",
       "      <td>2025-01-24 18:05:00</td>\n",
       "      <td>0 days 04:35:00</td>\n",
       "      <td>16500.0</td>\n",
       "      <td>275.0</td>\n",
       "      <td>4.58</td>\n",
       "      <td>0.19</td>\n",
       "    </tr>\n",
       "  </tbody>\n",
       "</table>\n",
       "<p>820 rows × 11 columns</p>\n",
       "</div>"
      ],
      "text/plain": [
       "          Data   Horário      Mês   Ano        data_horario  \\\n",
       "0   2023-07-02  21:00:00    Julho  2023 2023-07-02 21:00:00   \n",
       "1   2023-07-03  02:25:00    Julho  2023 2023-07-03 02:25:00   \n",
       "2   2023-07-03  18:26:00    Julho  2023 2023-07-03 18:26:00   \n",
       "3   2023-07-03  20:50:00    Julho  2023 2023-07-03 20:50:00   \n",
       "4   2023-07-04  20:10:00    Julho  2023 2023-07-04 20:10:00   \n",
       "..         ...       ...      ...   ...                 ...   \n",
       "815 2025-01-22  23:50:00  Janeiro  2025 2025-01-22 23:50:00   \n",
       "816 2025-01-23  22:45:00  Janeiro  2025 2025-01-23 22:45:00   \n",
       "817 2025-01-24  00:50:00  Janeiro  2025 2025-01-24 00:50:00   \n",
       "818 2025-01-24  18:05:00  Janeiro  2025 2025-01-24 18:05:00   \n",
       "819 2025-01-24  22:40:00  Janeiro  2025 2025-01-24 22:40:00   \n",
       "\n",
       "    data_horario_anterior       diferenca  segundos  minutos  horas  dias  \n",
       "0     2023-07-01 20:20:00 1 days 00:40:00   88800.0   1480.0  24.67  1.03  \n",
       "1     2023-07-02 21:00:00 0 days 05:25:00   19500.0    325.0   5.42  0.23  \n",
       "2     2023-07-03 02:25:00 0 days 16:01:00   57660.0    961.0  16.02  0.67  \n",
       "3     2023-07-03 18:26:00 0 days 02:24:00    8640.0    144.0   2.40  0.10  \n",
       "4     2023-07-03 20:50:00 0 days 23:20:00   84000.0   1400.0  23.33  0.97  \n",
       "..                    ...             ...       ...      ...    ...   ...  \n",
       "815   2025-01-22 21:30:00 0 days 02:20:00    8400.0    140.0   2.33  0.10  \n",
       "816   2025-01-22 23:50:00 0 days 22:55:00   82500.0   1375.0  22.92  0.95  \n",
       "817   2025-01-23 22:45:00 0 days 02:05:00    7500.0    125.0   2.08  0.09  \n",
       "818   2025-01-24 00:50:00 0 days 17:15:00   62100.0   1035.0  17.25  0.72  \n",
       "819   2025-01-24 18:05:00 0 days 04:35:00   16500.0    275.0   4.58  0.19  \n",
       "\n",
       "[820 rows x 11 columns]"
      ]
     },
     "execution_count": 186,
     "metadata": {},
     "output_type": "execute_result"
    }
   ],
   "source": [
    "df = pd.read_excel(r\"kaggle/03 - Outros registros.xlsx\", sheet_name = \"Mast.\")\n",
    "\n",
    "df.loc[:, \"data_horario\"] = df[\"Data\"].astype(dtype = str) + \" \" + df[\"Horário\"].astype(dtype = str)\n",
    "df.drop(columns = [df.columns[0], df.columns[5], df.columns[6], df.columns[7], df.columns[8], df.columns[9]], inplace = True)\n",
    "\n",
    "df['data_horario'] = pd.to_datetime(df['data_horario'])\n",
    "\n",
    "df.loc[:, \"data_horario_anterior\"] = df['data_horario'].shift(periods = 1)\n",
    "\n",
    "df.dropna(inplace = True, how = \"any\")\n",
    "\n",
    "df['diferenca'] = df['data_horario'] - df['data_horario_anterior']\n",
    "df['segundos'] = df['diferenca'].dt.total_seconds()  # Diferença em segundos\n",
    "df['minutos'] = df['segundos'].div(60).round(decimals = 2)                 # Diferença em minutos\n",
    "df['horas'] = df['segundos'].div(3600).round(decimals = 2)                  # Diferença em horas\n",
    "df['dias'] = df['segundos'].div(3600 * 24).round(decimals = 2)\n",
    "\n",
    "df = df.query(\"dias >= 0\")\n",
    "\n",
    "df.reset_index(drop = True, inplace = True)\n",
    "\n",
    "df"
   ]
  },
  {
   "cell_type": "code",
   "execution_count": null,
   "metadata": {},
   "outputs": [],
   "source": []
  },
  {
   "cell_type": "code",
   "execution_count": null,
   "metadata": {},
   "outputs": [],
   "source": []
  },
  {
   "cell_type": "code",
   "execution_count": null,
   "metadata": {},
   "outputs": [],
   "source": []
  },
  {
   "cell_type": "code",
   "execution_count": null,
   "metadata": {},
   "outputs": [],
   "source": []
  },
  {
   "cell_type": "code",
   "execution_count": null,
   "metadata": {},
   "outputs": [],
   "source": []
  },
  {
   "cell_type": "code",
   "execution_count": null,
   "metadata": {},
   "outputs": [],
   "source": []
  },
  {
   "cell_type": "code",
   "execution_count": null,
   "metadata": {},
   "outputs": [],
   "source": []
  },
  {
   "cell_type": "code",
   "execution_count": null,
   "metadata": {},
   "outputs": [],
   "source": []
  },
  {
   "cell_type": "code",
   "execution_count": null,
   "metadata": {},
   "outputs": [],
   "source": []
  },
  {
   "cell_type": "code",
   "execution_count": null,
   "metadata": {},
   "outputs": [],
   "source": []
  },
  {
   "cell_type": "code",
   "execution_count": null,
   "metadata": {},
   "outputs": [],
   "source": []
  },
  {
   "cell_type": "code",
   "execution_count": null,
   "metadata": {},
   "outputs": [],
   "source": []
  },
  {
   "cell_type": "code",
   "execution_count": null,
   "metadata": {},
   "outputs": [],
   "source": []
  },
  {
   "cell_type": "markdown",
   "metadata": {},
   "source": [
    "___"
   ]
  },
  {
   "cell_type": "markdown",
   "metadata": {},
   "source": [
    "* [Annotations](https://matplotlib.org/stable/users/explain/text/annotations.html)\n",
    "* [Annotation arrow style reference](https://matplotlib.org/stable/gallery/text_labels_and_annotations/fancyarrow_demo.html)\n",
    "* [Annotate transform](https://matplotlib.org/stable/gallery/text_labels_and_annotations/annotate_transform.html#sphx-glr-gallery-text-labels-and-annotations-annotate-transform-py)\n",
    "\n",
    "<br>\n",
    "\n",
    "* [ConnectionStyle](https://matplotlib.org/stable/api/_as_gen/matplotlib.patches.ConnectionStyle.html#matplotlib.patches.ConnectionStyle)\n",
    "* [ArrowStyle](https://matplotlib.org/stable/api/_as_gen/matplotlib.patches.ArrowStyle.html#matplotlib.patches.ArrowStyle)\n",
    "\n",
    "<br>\n",
    "\n",
    "* [Drawing fancy boxes](https://matplotlib.org/stable/gallery/shapes_and_collections/fancybox_demo.html)\n",
    "* [BoxStyle](https://matplotlib.org/stable/api/_as_gen/matplotlib.patches.BoxStyle.html#matplotlib.patches.BoxStyle)"
   ]
  },
  {
   "cell_type": "code",
   "execution_count": null,
   "metadata": {},
   "outputs": [
    {
     "data": {
      "image/png": "[encoded data removed]",
      "text/plain": [
       "<Figure size 300x300 with 1 Axes>"
      ]
     },
     "metadata": {},
     "output_type": "display_data"
    }
   ],
   "source": [
    "fig, ax = plt.subplots(figsize=(3, 3))\n",
    "\n",
    "ann = ax.annotate(\"Test\",\n",
    "                  xy=(0.2, 0.2), xycoords='data',\n",
    "                  xytext=(0.8, 0.8), textcoords='data',\n",
    "                  size=20, va=\"center\", ha=\"center\",\n",
    "                  bbox=dict(boxstyle=\"round4\", fc=\"w\"),\n",
    "                  arrowprops=dict(arrowstyle=\"-|>\",\n",
    "                                  connectionstyle=\"arc3,rad=-0.1\",\n",
    "                                  fc=\"w\"))"
   ]
  },
  {
   "cell_type": "code",
   "execution_count": 93,
   "metadata": {},
   "outputs": [
    {
     "data": {
      "image/png": "[encoded data removed]",
      "text/plain": [
       "<Figure size 300x300 with 1 Axes>"
      ]
     },
     "metadata": {},
     "output_type": "display_data"
    }
   ],
   "source": [
    "fig, ax = plt.subplots(figsize=(3, 3))\n",
    "\n",
    "ann = ax.annotate(\"Test\",\n",
    "                  xy=(0.2, 0.2), xycoords='data',\n",
    "                  xytext=(0.8, 0.8), textcoords='data',\n",
    "                  size=20, va=\"center\", ha=\"center\",\n",
    "                  bbox=dict(boxstyle=\"round4\", fc=\"w\"),\n",
    "                  arrowprops=dict(arrowstyle=\"-|>\",\n",
    "                                  connectionstyle=\"angle3,angleA=15\",\n",
    "                                  fc=\"w\"))"
   ]
  },
  {
   "cell_type": "code",
   "execution_count": 596,
   "metadata": {},
   "outputs": [
    {
     "data": {
      "image/png": "[encoded data removed]",
      "text/plain": [
       "<Figure size 300x300 with 1 Axes>"
      ]
     },
     "metadata": {},
     "output_type": "display_data"
    }
   ],
   "source": [
    "fig, ax = plt.subplots(figsize=(3, 3))\n",
    "\n",
    "ann = ax.annotate(\"Test\",\n",
    "                  xy=(0.2, 0.2), xycoords='data',\n",
    "                  xytext=(0.8, 0.8), textcoords='data',\n",
    "                  size=20, va=\"center\", ha=\"center\",\n",
    "                  bbox=dict(boxstyle=\"round4\", fc=\"w\"),\n",
    "                  arrowprops=dict(arrowstyle=\"-|>\",\n",
    "                                  connectionstyle=\"arc,angleA=0,angleB=0,armA=0,armB=200,rad=90\",\n",
    "                                  fc=\"w\"))"
   ]
  },
  {
   "cell_type": "code",
   "execution_count": 573,
   "metadata": {},
   "outputs": [
    {
     "data": {
      "image/png": "[encoded data removed]",
      "text/plain": [
       "<Figure size 300x300 with 1 Axes>"
      ]
     },
     "metadata": {},
     "output_type": "display_data"
    }
   ],
   "source": [
    "fig, ax = plt.subplots(figsize=(3, 3))\n",
    "\n",
    "ann = ax.annotate(\"Test\",\n",
    "                  xy=(0.2, 0.2), xycoords='data',\n",
    "                  xytext=(0.8, 0.8), textcoords='data',\n",
    "                  size=20, va=\"center\", ha=\"center\",\n",
    "                  bbox=dict(boxstyle=\"round4\", fc=\"w\"),\n",
    "                  arrowprops=dict(arrowstyle=\"-|>\",\n",
    "                                  connectionstyle=\"arc,angleA=0,angleB=100,armA=10,armB=10,rad=0.0\",\n",
    "                                  fc=\"w\"))"
   ]
  },
  {
   "cell_type": "code",
   "execution_count": null,
   "metadata": {},
   "outputs": [],
   "source": []
  },
  {
   "cell_type": "code",
   "execution_count": null,
   "metadata": {},
   "outputs": [],
   "source": []
  },
  {
   "cell_type": "code",
   "execution_count": null,
   "metadata": {},
   "outputs": [],
   "source": []
  },
  {
   "cell_type": "code",
   "execution_count": null,
   "metadata": {},
   "outputs": [],
   "source": []
  },
  {
   "cell_type": "markdown",
   "metadata": {},
   "source": [
    "___"
   ]
  },
  {
   "cell_type": "markdown",
   "metadata": {},
   "source": [
    "$$ \\Large\n",
    "    \\sum_{\\substack{\n",
    "        0 \\ \\ < \\ \\ i \\ \\ < \\ \\ n \\\\ \n",
    "        1 \\ \\ < \\ \\ j \\ \\ < \\ \\ m}}^{\\substack{x \\ \\ < \\ \\ \\infty \\\\ y \\ \\ \\ge \\ \\ 0}} P(i,j) =\n",
    "    \\sum_{\n",
    "        \\begin{subarray}{c} \n",
    "            i \\ \\ \\in \\ \\ I \\\\\n",
    "            1 \\ \\ < \\ \\ j \\ \\ < \\ \\ m\n",
    "        \\end{subarray}}^{\\begin{subarray}{c} \n",
    "            i \\ \\ \\in \\ \\ I \\\\\n",
    "            1 \\ \\ < \\ \\ j \\ \\ < \\ \\ m\n",
    "        \\end{subarray}} Q(i,j)\n",
    "$$"
   ]
  },
  {
   "cell_type": "markdown",
   "metadata": {},
   "source": [
    "$$\n",
    "\n",
    "\\mathop{\\mathrm{corr}}(X,Y)=\n",
    "\\frac{\\displaystyle\n",
    "\\sum_{i=1}^n(x_i-\\overline x)\n",
    "(y_i-\\overline y)}\n",
    "{\\displaystyle\\biggl[\n",
    "\\sum_{i=1}^n(x_i-\\overline x)^2\n",
    "\\sum_{i=1}^n(y_i-\\overline y)^2\n",
    "\\biggr]^{1/2}}\n",
    "\n",
    "$$"
   ]
  }
 ],
 "metadata": {
  "kernelspec": {
   "display_name": "base",
   "language": "python",
   "name": "python3"
  },
  "language_info": {
   "codemirror_mode": {
    "name": "ipython",
    "version": 3
   },
   "file_extension": ".py",
   "mimetype": "text/x-python",
   "name": "python",
   "nbconvert_exporter": "python",
   "pygments_lexer": "ipython3",
   "version": "3.11.7"
  }
 },
 "nbformat": 4,
 "nbformat_minor": 2
}
