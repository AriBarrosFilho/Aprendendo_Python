{
 "cells": [
  {
   "cell_type": "code",
   "execution_count": 55,
   "metadata": {},
   "outputs": [
    {
     "name": "stdout",
     "output_type": "stream",
     "text": [
      "{5, 6, 7}\n"
     ]
    }
   ],
   "source": [
    "# Criando um conjunto\n",
    "conjunto = {5, 6, 7}\n",
    "print(conjunto)  # Saída: {5, 6, 7}"
   ]
  },
  {
   "cell_type": "code",
   "execution_count": 56,
   "metadata": {},
   "outputs": [
    {
     "name": "stdout",
     "output_type": "stream",
     "text": [
      "{8, 5, 6, 7}\n"
     ]
    }
   ],
   "source": [
    "# Adicionando elementos a um conjunto\n",
    "conjunto.add(8)\n",
    "print(conjunto)  # Saída: {5, 6, 7, 8}"
   ]
  },
  {
   "cell_type": "code",
   "execution_count": 57,
   "metadata": {},
   "outputs": [
    {
     "name": "stdout",
     "output_type": "stream",
     "text": [
      "{8, 5, 7}\n"
     ]
    }
   ],
   "source": [
    "# Removendo elementos de um conjunto\n",
    "conjunto.remove(6)\n",
    "print(conjunto)  # Saída: {5, 7, 8}"
   ]
  },
  {
   "cell_type": "code",
   "execution_count": 58,
   "metadata": {},
   "outputs": [
    {
     "name": "stdout",
     "output_type": "stream",
     "text": [
      "True\n",
      "False\n"
     ]
    }
   ],
   "source": [
    "# Verificando se um elemento está no conjunto\n",
    "print(5 in conjunto)  # Saída: True\n",
    "print(6 in conjunto)  # Saída: False"
   ]
  },
  {
   "cell_type": "code",
   "execution_count": 59,
   "metadata": {},
   "outputs": [
    {
     "name": "stdout",
     "output_type": "stream",
     "text": [
      "{1, 2, 3, 5, 7, 8}\n"
     ]
    }
   ],
   "source": [
    "# União de conjuntos\n",
    "conjunto2 = {1, 2, 3, 8}\n",
    "uniao = conjunto.union(conjunto2)\n",
    "print(uniao)  # Saída: {1, 2, 3, 5, 7, 8}"
   ]
  },
  {
   "cell_type": "code",
   "execution_count": 60,
   "metadata": {},
   "outputs": [
    {
     "name": "stdout",
     "output_type": "stream",
     "text": [
      "{8}\n"
     ]
    }
   ],
   "source": [
    "# Interseção de conjuntos\n",
    "intersecao = conjunto.intersection(conjunto2)\n",
    "print(intersecao)  # Saída: set()"
   ]
  },
  {
   "cell_type": "code",
   "execution_count": 61,
   "metadata": {},
   "outputs": [
    {
     "name": "stdout",
     "output_type": "stream",
     "text": [
      "{5, 7}\n"
     ]
    }
   ],
   "source": [
    "# Diferença de conjuntos\n",
    "diferenca = conjunto.difference(conjunto2)\n",
    "print(diferenca)  # Saída: {5, 7, 8}"
   ]
  },
  {
   "cell_type": "code",
   "execution_count": 62,
   "metadata": {},
   "outputs": [
    {
     "name": "stdout",
     "output_type": "stream",
     "text": [
      "{1, 2, 3, 5, 7}\n"
     ]
    }
   ],
   "source": [
    "# Diferença simétrica de conjuntos\n",
    "diferenca_simetrica = conjunto.symmetric_difference(conjunto2)\n",
    "print(diferenca_simetrica)  # Saída: {1, 2, 3, 5, 7, 8}"
   ]
  },
  {
   "cell_type": "code",
   "execution_count": null,
   "metadata": {},
   "outputs": [],
   "source": [
    "# Subconjunto e Superconjunto\n",
    "conjunto3 = {5, 7}\n",
    "print(conjunto3.issubset(conjunto))  # Saída: True\n",
    "print(conjunto.issuperset(conjunto3))  # Saída: True"
   ]
  },
  {
   "cell_type": "code",
   "execution_count": null,
   "metadata": {},
   "outputs": [],
   "source": [
    "# Conjuntos imutáveis (frozenset)\n",
    "conjunto_imutavel = frozenset(conjunto)\n",
    "print(conjunto_imutavel)  # Saída: frozenset({8, 5, 7})"
   ]
  },
  {
   "cell_type": "code",
   "execution_count": 63,
   "metadata": {},
   "outputs": [
    {
     "name": "stdout",
     "output_type": "stream",
     "text": [
      "{1, 2, 5, 6, 'aaa', 'elemento'}\n"
     ]
    }
   ],
   "source": [
    "# Convertendo lista para conjunto (removendo duplicatas)\n",
    "lista_2 = ['elemento', 6, 1, 2, 5, 6, 'aaa']\n",
    "conjunto_lista = set(lista_2)\n",
    "print(conjunto_lista)  # Saída: {1, 2, 5, 6, 'elemento', 'aaa'}"
   ]
  },
  {
   "cell_type": "code",
   "execution_count": 65,
   "metadata": {},
   "outputs": [
    {
     "name": "stdout",
     "output_type": "stream",
     "text": [
      "{1, 2}\n"
     ]
    }
   ],
   "source": [
    "# Convertendo tupla para conjunto\n",
    "tupla = (1, 2)\n",
    "conjunto_tupla = set(tupla)\n",
    "print(conjunto_tupla)  # Saída: {1, 2}"
   ]
  },
  {
   "cell_type": "code",
   "execution_count": 64,
   "metadata": {},
   "outputs": [
    {
     "data": {
      "text/plain": [
       "3"
      ]
     },
     "execution_count": 64,
     "metadata": {},
     "output_type": "execute_result"
    }
   ],
   "source": [
    "conjunto = {'x', 'y', 'z', 'z'}\n",
    "len(conjunto)"
   ]
  },
  {
   "cell_type": "markdown",
   "metadata": {},
   "source": [
    "___"
   ]
  },
  {
   "cell_type": "code",
   "execution_count": 31,
   "metadata": {},
   "outputs": [
    {
     "name": "stdout",
     "output_type": "stream",
     "text": [
      "x não é nem 1 nem 2\n"
     ]
    }
   ],
   "source": [
    "x = 3\n",
    "\n",
    "match x:\n",
    "    case 1:\n",
    "        print(\"x é 1\")\n",
    "    case 2:\n",
    "        print(\"x é 2\")\n",
    "    case _:\n",
    "        print(\"x não é nem 1 nem 2\")"
   ]
  },
  {
   "cell_type": "code",
   "execution_count": 4,
   "metadata": {},
   "outputs": [
    {
     "name": "stdout",
     "output_type": "stream",
     "text": [
      "Alice é adulto\n"
     ]
    }
   ],
   "source": [
    "user = {\"name\": \"Alice\", \"cidade\": \"Florianopólis\", \"age\": 30}\n",
    "\n",
    "match user:\n",
    "    case {\"name\": name, \"age\": age} if age >= 18: print(f\"{name} é adulto\")\n",
    "        \n",
    "    case {\"name\": name, \"age\": age}: print(f\"{name} é menor de idade\")"
   ]
  },
  {
   "cell_type": "markdown",
   "metadata": {},
   "source": [
    "___"
   ]
  },
  {
   "cell_type": "code",
   "execution_count": 1,
   "metadata": {},
   "outputs": [],
   "source": [
    "import pyautogui\n",
    "import time"
   ]
  },
  {
   "cell_type": "code",
   "execution_count": null,
   "metadata": {},
   "outputs": [],
   "source": [
    "# Movendo o mouse para uma posição específica (x, y)\n",
    "print(\"Movendo o mouse para a posição (500, 500)...\")\n",
    "pyautogui.moveTo(500, 500, duration=1)  # Move o mouse em 1 segundo para (500, 500)\n",
    "\n",
    "# Realizando um clique\n",
    "print(\"Realizando um clique na posição atual...\")\n",
    "pyautogui.click()\n",
    "\n",
    "# Movendo o mouse relativo à posição atual\n",
    "print(\"Movendo o mouse 100 pixels para a direita e 50 para baixo...\")\n",
    "pyautogui.move(100, 50, duration=1)\n",
    "\n",
    "# Realizando um duplo clique\n",
    "print(\"Realizando um duplo clique...\")\n",
    "pyautogui.doubleClick()\n",
    "\n",
    "# Realizando um clique com botão direito\n",
    "print(\"Realizando um clique com o botão direito...\")\n",
    "pyautogui.rightClick()"
   ]
  },
  {
   "cell_type": "code",
   "execution_count": 9,
   "metadata": {},
   "outputs": [
    {
     "name": "stdout",
     "output_type": "stream",
     "text": [
      "A posição atual do mouse é: Point(x=1698, y=818)\n"
     ]
    }
   ],
   "source": [
    "# Obtendo a posição atual do mouse\n",
    "current_position = pyautogui.position()\n",
    "print(f\"A posição atual do mouse é: {current_position}\")"
   ]
  },
  {
   "cell_type": "code",
   "execution_count": 5,
   "metadata": {},
   "outputs": [],
   "source": [
    "import pyautogui\n",
    "import time"
   ]
  },
  {
   "cell_type": "code",
   "execution_count": 7,
   "metadata": {},
   "outputs": [
    {
     "name": "stdout",
     "output_type": "stream",
     "text": [
      "A posição atual do mouse é: Point(x=1594, y=570)\n"
     ]
    }
   ],
   "source": [
    "# Obtendo a posição atual do mouse\n",
    "current_position = pyautogui.position()\n",
    "print(f\"A posição atual do mouse é: {current_position}\")"
   ]
  },
  {
   "cell_type": "code",
   "execution_count": null,
   "metadata": {},
   "outputs": [],
   "source": [
    "tempo = 20\n",
    "\n",
    "while True:\n",
    "# for _ in range(2):\n",
    "    pyautogui.moveTo(269, 553, duration=1)  # Move o mouse em 1 segundo para (500, 500)\n",
    "    time.sleep(tempo)\n",
    "    pyautogui.moveTo(1594, 570, duration=1)  # Move o mouse em 1 segundo para (500, 500)\n",
    "    time.sleep(tempo)"
   ]
  },
  {
   "cell_type": "markdown",
   "metadata": {},
   "source": [
    "___"
   ]
  },
  {
   "cell_type": "code",
   "execution_count": 1,
   "metadata": {},
   "outputs": [],
   "source": [
    "import kaggle\n",
    "import pandas as pd\n",
    "import numpy as np\n",
    "import matplotlib.pyplot as plt\n",
    "import time\n",
    "from datetime import datetime\n",
    "import random\n",
    "import os"
   ]
  },
  {
   "cell_type": "code",
   "execution_count": 4,
   "metadata": {},
   "outputs": [
    {
     "data": {
      "text/html": [
       "<div>\n",
       "<style scoped>\n",
       "    .dataframe tbody tr th:only-of-type {\n",
       "        vertical-align: middle;\n",
       "    }\n",
       "\n",
       "    .dataframe tbody tr th {\n",
       "        vertical-align: top;\n",
       "    }\n",
       "\n",
       "    .dataframe thead th {\n",
       "        text-align: right;\n",
       "    }\n",
       "</style>\n",
       "<table border=\"1\" class=\"dataframe\">\n",
       "  <thead>\n",
       "    <tr style=\"text-align: right;\">\n",
       "      <th></th>\n",
       "      <th>name</th>\n",
       "      <th>mfr</th>\n",
       "      <th>type</th>\n",
       "      <th>calories</th>\n",
       "      <th>protein</th>\n",
       "      <th>fat</th>\n",
       "      <th>sodium</th>\n",
       "      <th>fiber</th>\n",
       "      <th>carbo</th>\n",
       "      <th>sugars</th>\n",
       "      <th>potass</th>\n",
       "      <th>vitamins</th>\n",
       "      <th>shelf</th>\n",
       "      <th>weight</th>\n",
       "      <th>cups</th>\n",
       "      <th>rating</th>\n",
       "    </tr>\n",
       "  </thead>\n",
       "  <tbody>\n",
       "    <tr>\n",
       "      <th>0</th>\n",
       "      <td>100% Bran</td>\n",
       "      <td>N</td>\n",
       "      <td>C</td>\n",
       "      <td>70</td>\n",
       "      <td>4</td>\n",
       "      <td>1</td>\n",
       "      <td>130</td>\n",
       "      <td>10.0</td>\n",
       "      <td>5.0</td>\n",
       "      <td>6</td>\n",
       "      <td>280</td>\n",
       "      <td>25</td>\n",
       "      <td>3</td>\n",
       "      <td>1.0</td>\n",
       "      <td>0.33</td>\n",
       "      <td>68.402973</td>\n",
       "    </tr>\n",
       "    <tr>\n",
       "      <th>1</th>\n",
       "      <td>100% Natural Bran</td>\n",
       "      <td>Q</td>\n",
       "      <td>C</td>\n",
       "      <td>120</td>\n",
       "      <td>3</td>\n",
       "      <td>5</td>\n",
       "      <td>15</td>\n",
       "      <td>2.0</td>\n",
       "      <td>8.0</td>\n",
       "      <td>8</td>\n",
       "      <td>135</td>\n",
       "      <td>0</td>\n",
       "      <td>3</td>\n",
       "      <td>1.0</td>\n",
       "      <td>1.00</td>\n",
       "      <td>33.983679</td>\n",
       "    </tr>\n",
       "    <tr>\n",
       "      <th>2</th>\n",
       "      <td>All-Bran</td>\n",
       "      <td>K</td>\n",
       "      <td>C</td>\n",
       "      <td>70</td>\n",
       "      <td>4</td>\n",
       "      <td>1</td>\n",
       "      <td>260</td>\n",
       "      <td>9.0</td>\n",
       "      <td>7.0</td>\n",
       "      <td>5</td>\n",
       "      <td>320</td>\n",
       "      <td>25</td>\n",
       "      <td>3</td>\n",
       "      <td>1.0</td>\n",
       "      <td>0.33</td>\n",
       "      <td>59.425505</td>\n",
       "    </tr>\n",
       "    <tr>\n",
       "      <th>3</th>\n",
       "      <td>All-Bran with Extra Fiber</td>\n",
       "      <td>K</td>\n",
       "      <td>C</td>\n",
       "      <td>50</td>\n",
       "      <td>4</td>\n",
       "      <td>0</td>\n",
       "      <td>140</td>\n",
       "      <td>14.0</td>\n",
       "      <td>8.0</td>\n",
       "      <td>0</td>\n",
       "      <td>330</td>\n",
       "      <td>25</td>\n",
       "      <td>3</td>\n",
       "      <td>1.0</td>\n",
       "      <td>0.50</td>\n",
       "      <td>93.704912</td>\n",
       "    </tr>\n",
       "    <tr>\n",
       "      <th>4</th>\n",
       "      <td>Almond Delight</td>\n",
       "      <td>R</td>\n",
       "      <td>C</td>\n",
       "      <td>110</td>\n",
       "      <td>2</td>\n",
       "      <td>2</td>\n",
       "      <td>200</td>\n",
       "      <td>1.0</td>\n",
       "      <td>14.0</td>\n",
       "      <td>8</td>\n",
       "      <td>-1</td>\n",
       "      <td>25</td>\n",
       "      <td>3</td>\n",
       "      <td>1.0</td>\n",
       "      <td>0.75</td>\n",
       "      <td>34.384843</td>\n",
       "    </tr>\n",
       "    <tr>\n",
       "      <th>...</th>\n",
       "      <td>...</td>\n",
       "      <td>...</td>\n",
       "      <td>...</td>\n",
       "      <td>...</td>\n",
       "      <td>...</td>\n",
       "      <td>...</td>\n",
       "      <td>...</td>\n",
       "      <td>...</td>\n",
       "      <td>...</td>\n",
       "      <td>...</td>\n",
       "      <td>...</td>\n",
       "      <td>...</td>\n",
       "      <td>...</td>\n",
       "      <td>...</td>\n",
       "      <td>...</td>\n",
       "      <td>...</td>\n",
       "    </tr>\n",
       "    <tr>\n",
       "      <th>72</th>\n",
       "      <td>Triples</td>\n",
       "      <td>G</td>\n",
       "      <td>C</td>\n",
       "      <td>110</td>\n",
       "      <td>2</td>\n",
       "      <td>1</td>\n",
       "      <td>250</td>\n",
       "      <td>0.0</td>\n",
       "      <td>21.0</td>\n",
       "      <td>3</td>\n",
       "      <td>60</td>\n",
       "      <td>25</td>\n",
       "      <td>3</td>\n",
       "      <td>1.0</td>\n",
       "      <td>0.75</td>\n",
       "      <td>39.106174</td>\n",
       "    </tr>\n",
       "    <tr>\n",
       "      <th>73</th>\n",
       "      <td>Trix</td>\n",
       "      <td>G</td>\n",
       "      <td>C</td>\n",
       "      <td>110</td>\n",
       "      <td>1</td>\n",
       "      <td>1</td>\n",
       "      <td>140</td>\n",
       "      <td>0.0</td>\n",
       "      <td>13.0</td>\n",
       "      <td>12</td>\n",
       "      <td>25</td>\n",
       "      <td>25</td>\n",
       "      <td>2</td>\n",
       "      <td>1.0</td>\n",
       "      <td>1.00</td>\n",
       "      <td>27.753301</td>\n",
       "    </tr>\n",
       "    <tr>\n",
       "      <th>74</th>\n",
       "      <td>Wheat Chex</td>\n",
       "      <td>R</td>\n",
       "      <td>C</td>\n",
       "      <td>100</td>\n",
       "      <td>3</td>\n",
       "      <td>1</td>\n",
       "      <td>230</td>\n",
       "      <td>3.0</td>\n",
       "      <td>17.0</td>\n",
       "      <td>3</td>\n",
       "      <td>115</td>\n",
       "      <td>25</td>\n",
       "      <td>1</td>\n",
       "      <td>1.0</td>\n",
       "      <td>0.67</td>\n",
       "      <td>49.787445</td>\n",
       "    </tr>\n",
       "    <tr>\n",
       "      <th>75</th>\n",
       "      <td>Wheaties</td>\n",
       "      <td>G</td>\n",
       "      <td>C</td>\n",
       "      <td>100</td>\n",
       "      <td>3</td>\n",
       "      <td>1</td>\n",
       "      <td>200</td>\n",
       "      <td>3.0</td>\n",
       "      <td>17.0</td>\n",
       "      <td>3</td>\n",
       "      <td>110</td>\n",
       "      <td>25</td>\n",
       "      <td>1</td>\n",
       "      <td>1.0</td>\n",
       "      <td>1.00</td>\n",
       "      <td>51.592193</td>\n",
       "    </tr>\n",
       "    <tr>\n",
       "      <th>76</th>\n",
       "      <td>Wheaties Honey Gold</td>\n",
       "      <td>G</td>\n",
       "      <td>C</td>\n",
       "      <td>110</td>\n",
       "      <td>2</td>\n",
       "      <td>1</td>\n",
       "      <td>200</td>\n",
       "      <td>1.0</td>\n",
       "      <td>16.0</td>\n",
       "      <td>8</td>\n",
       "      <td>60</td>\n",
       "      <td>25</td>\n",
       "      <td>1</td>\n",
       "      <td>1.0</td>\n",
       "      <td>0.75</td>\n",
       "      <td>36.187559</td>\n",
       "    </tr>\n",
       "  </tbody>\n",
       "</table>\n",
       "<p>77 rows × 16 columns</p>\n",
       "</div>"
      ],
      "text/plain": [
       "                         name mfr type  calories  protein  fat  sodium  fiber  \\\n",
       "0                   100% Bran   N    C        70        4    1     130   10.0   \n",
       "1           100% Natural Bran   Q    C       120        3    5      15    2.0   \n",
       "2                    All-Bran   K    C        70        4    1     260    9.0   \n",
       "3   All-Bran with Extra Fiber   K    C        50        4    0     140   14.0   \n",
       "4              Almond Delight   R    C       110        2    2     200    1.0   \n",
       "..                        ...  ..  ...       ...      ...  ...     ...    ...   \n",
       "72                    Triples   G    C       110        2    1     250    0.0   \n",
       "73                       Trix   G    C       110        1    1     140    0.0   \n",
       "74                 Wheat Chex   R    C       100        3    1     230    3.0   \n",
       "75                   Wheaties   G    C       100        3    1     200    3.0   \n",
       "76        Wheaties Honey Gold   G    C       110        2    1     200    1.0   \n",
       "\n",
       "    carbo  sugars  potass  vitamins  shelf  weight  cups     rating  \n",
       "0     5.0       6     280        25      3     1.0  0.33  68.402973  \n",
       "1     8.0       8     135         0      3     1.0  1.00  33.983679  \n",
       "2     7.0       5     320        25      3     1.0  0.33  59.425505  \n",
       "3     8.0       0     330        25      3     1.0  0.50  93.704912  \n",
       "4    14.0       8      -1        25      3     1.0  0.75  34.384843  \n",
       "..    ...     ...     ...       ...    ...     ...   ...        ...  \n",
       "72   21.0       3      60        25      3     1.0  0.75  39.106174  \n",
       "73   13.0      12      25        25      2     1.0  1.00  27.753301  \n",
       "74   17.0       3     115        25      1     1.0  0.67  49.787445  \n",
       "75   17.0       3     110        25      1     1.0  1.00  51.592193  \n",
       "76   16.0       8      60        25      1     1.0  0.75  36.187559  \n",
       "\n",
       "[77 rows x 16 columns]"
      ]
     },
     "metadata": {},
     "output_type": "display_data"
    }
   ],
   "source": [
    "caminhos = {\n",
    "    1: r\"kaggle/cereal.csv\",\n",
    "    2: r\"kaggle\\WA_Fn-UseC_-HR-Employee-Attrition.csv\"\n",
    "}\n",
    "\n",
    "df = pd.read_csv(filepath_or_buffer = caminhos[1])\n",
    "\n",
    "display(df)"
   ]
  },
  {
   "cell_type": "code",
   "execution_count": 213,
   "metadata": {},
   "outputs": [
    {
     "data": {
      "text/html": [
       "<div>\n",
       "<style scoped>\n",
       "    .dataframe tbody tr th:only-of-type {\n",
       "        vertical-align: middle;\n",
       "    }\n",
       "\n",
       "    .dataframe tbody tr th {\n",
       "        vertical-align: top;\n",
       "    }\n",
       "\n",
       "    .dataframe thead th {\n",
       "        text-align: right;\n",
       "    }\n",
       "</style>\n",
       "<table border=\"1\" class=\"dataframe\">\n",
       "  <thead>\n",
       "    <tr style=\"text-align: right;\">\n",
       "      <th></th>\n",
       "      <th>data</th>\n",
       "      <th>cidade</th>\n",
       "      <th>emprego</th>\n",
       "      <th>qualidade</th>\n",
       "      <th>tipo</th>\n",
       "      <th>idade</th>\n",
       "      <th>salario</th>\n",
       "    </tr>\n",
       "  </thead>\n",
       "  <tbody>\n",
       "    <tr>\n",
       "      <th>0</th>\n",
       "      <td>2023-07-19</td>\n",
       "      <td>Rio de Janeiro</td>\n",
       "      <td>Hospital</td>\n",
       "      <td>Ótimo</td>\n",
       "      <td>Presencial</td>\n",
       "      <td>21</td>\n",
       "      <td>7,713.77</td>\n",
       "    </tr>\n",
       "    <tr>\n",
       "      <th>1</th>\n",
       "      <td>2024-02-11</td>\n",
       "      <td>Belo Horizonte</td>\n",
       "      <td>Hospital</td>\n",
       "      <td>Ruim</td>\n",
       "      <td>Remoto</td>\n",
       "      <td>20</td>\n",
       "      <td>7,374.19</td>\n",
       "    </tr>\n",
       "    <tr>\n",
       "      <th>2</th>\n",
       "      <td>2025-03-01</td>\n",
       "      <td>Curitiba</td>\n",
       "      <td>Indústria</td>\n",
       "      <td>Ótimo</td>\n",
       "      <td>Hibrído</td>\n",
       "      <td>18</td>\n",
       "      <td>7,712.64</td>\n",
       "    </tr>\n",
       "    <tr>\n",
       "      <th>3</th>\n",
       "      <td>2023-10-20</td>\n",
       "      <td>Porto Alegre</td>\n",
       "      <td>Restaurante</td>\n",
       "      <td>Bom</td>\n",
       "      <td>Remoto</td>\n",
       "      <td>19</td>\n",
       "      <td>8,070.83</td>\n",
       "    </tr>\n",
       "    <tr>\n",
       "      <th>4</th>\n",
       "      <td>2024-01-22</td>\n",
       "      <td>Curitiba</td>\n",
       "      <td>Indústria</td>\n",
       "      <td>Ruim</td>\n",
       "      <td>Presencial</td>\n",
       "      <td>18</td>\n",
       "      <td>5,959.65</td>\n",
       "    </tr>\n",
       "    <tr>\n",
       "      <th>...</th>\n",
       "      <td>...</td>\n",
       "      <td>...</td>\n",
       "      <td>...</td>\n",
       "      <td>...</td>\n",
       "      <td>...</td>\n",
       "      <td>...</td>\n",
       "      <td>...</td>\n",
       "    </tr>\n",
       "    <tr>\n",
       "      <th>9995</th>\n",
       "      <td>2025-05-05</td>\n",
       "      <td>Rio de Janeiro</td>\n",
       "      <td>Loja de roupas</td>\n",
       "      <td>Bom</td>\n",
       "      <td>Hibrído</td>\n",
       "      <td>18</td>\n",
       "      <td>8,073.9</td>\n",
       "    </tr>\n",
       "    <tr>\n",
       "      <th>9996</th>\n",
       "      <td>2025-07-12</td>\n",
       "      <td>Garanhuns</td>\n",
       "      <td>Indústria</td>\n",
       "      <td>Ruim</td>\n",
       "      <td>Presencial</td>\n",
       "      <td>19</td>\n",
       "      <td>4,276.38</td>\n",
       "    </tr>\n",
       "    <tr>\n",
       "      <th>9997</th>\n",
       "      <td>2024-11-22</td>\n",
       "      <td>Recife</td>\n",
       "      <td>Hospital</td>\n",
       "      <td>Péssimo</td>\n",
       "      <td>Remoto</td>\n",
       "      <td>19</td>\n",
       "      <td>6,059.5</td>\n",
       "    </tr>\n",
       "    <tr>\n",
       "      <th>9998</th>\n",
       "      <td>2025-03-15</td>\n",
       "      <td>Belo Horizonte</td>\n",
       "      <td>Loja de roupas</td>\n",
       "      <td>Neutro</td>\n",
       "      <td>Presencial</td>\n",
       "      <td>20</td>\n",
       "      <td>6,790.25</td>\n",
       "    </tr>\n",
       "    <tr>\n",
       "      <th>9999</th>\n",
       "      <td>2023-02-01</td>\n",
       "      <td>Curitiba</td>\n",
       "      <td>Restaurante</td>\n",
       "      <td>Ruim</td>\n",
       "      <td>Remoto</td>\n",
       "      <td>18</td>\n",
       "      <td>5,670.24</td>\n",
       "    </tr>\n",
       "  </tbody>\n",
       "</table>\n",
       "<p>10000 rows × 7 columns</p>\n",
       "</div>"
      ],
      "text/plain": [
       "           data          cidade         emprego qualidade        tipo  idade  \\\n",
       "0    2023-07-19  Rio de Janeiro        Hospital     Ótimo  Presencial     21   \n",
       "1    2024-02-11  Belo Horizonte        Hospital      Ruim      Remoto     20   \n",
       "2    2025-03-01        Curitiba       Indústria     Ótimo     Hibrído     18   \n",
       "3    2023-10-20    Porto Alegre     Restaurante       Bom      Remoto     19   \n",
       "4    2024-01-22        Curitiba       Indústria      Ruim  Presencial     18   \n",
       "...         ...             ...             ...       ...         ...    ...   \n",
       "9995 2025-05-05  Rio de Janeiro  Loja de roupas       Bom     Hibrído     18   \n",
       "9996 2025-07-12       Garanhuns       Indústria      Ruim  Presencial     19   \n",
       "9997 2024-11-22          Recife        Hospital   Péssimo      Remoto     19   \n",
       "9998 2025-03-15  Belo Horizonte  Loja de roupas    Neutro  Presencial     20   \n",
       "9999 2023-02-01        Curitiba     Restaurante      Ruim      Remoto     18   \n",
       "\n",
       "      salario  \n",
       "0    7,713.77  \n",
       "1    7,374.19  \n",
       "2    7,712.64  \n",
       "3    8,070.83  \n",
       "4    5,959.65  \n",
       "...       ...  \n",
       "9995  8,073.9  \n",
       "9996 4,276.38  \n",
       "9997  6,059.5  \n",
       "9998 6,790.25  \n",
       "9999 5,670.24  \n",
       "\n",
       "[10000 rows x 7 columns]"
      ]
     },
     "metadata": {},
     "output_type": "display_data"
    }
   ],
   "source": [
    "quantidade = 10_000\n",
    "\n",
    "lista_cidades = [\"Florianopólis\", \"Recife\", \"Garanhuns\", \"Rio de Janeiro\", \"São Paulo\", \"Curitiba\", \"Porto Alegre\", \"Belo Horizonte\"]\n",
    "mapa_cidade = dict(enumerate([lista_cidades[random.randint(0, len(lista_cidades) - 1)] for _ in range(quantidade)]))\n",
    "\n",
    "lista_emprego = [\"Restaurante\", \"Mercado\", \"Loja de roupas\", \"Indústria\", \"Barbearia\", \"Hospital\"]\n",
    "mapa_emprego = dict(enumerate([lista_emprego[random.randint(0, len(lista_emprego) - 1)] for _ in range(quantidade)]))\n",
    "\n",
    "lista_qualidade = [\"Péssimo\", \"Ruim\", \"Neutro\", \"Bom\", \"Ótimo\"]\n",
    "mapa_qualidade = dict(enumerate([lista_qualidade[random.randint(0, len(lista_qualidade) - 1)] for _ in range(quantidade)]))\n",
    "\n",
    "lista_tipo_emprego = [\"Presencial\", \"Remoto\", \"Hibrído\"]\n",
    "mapa_tipo_emprego = dict(enumerate([lista_tipo_emprego[random.randint(0, len(lista_tipo_emprego) - 1)] for _ in range(quantidade)]))\n",
    "\n",
    "lista_idade = [random.randint(18, 21) for _ in range(quantidade)]\n",
    "mapa_idade = dict(enumerate(lista_idade))\n",
    "\n",
    "ano_minimo = 2023\n",
    "ano_maximo = 2025\n",
    "lista_data = [datetime(random.randint(ano_minimo, ano_maximo), random.randint(1, 12), random.randint(1, 28)) for _ in range(quantidade)]\n",
    "mapa_data = dict(enumerate(lista_data))\n",
    "\n",
    "media = 6000\n",
    "desvio_padrao = 1250\n",
    "casas_decimais = 2\n",
    "lista_salario = [float(np.round(a = np.random.standard_normal(1) * desvio_padrao + media, decimals = casas_decimais)[0]) for _ in range(quantidade)]\n",
    "mapa_salario = dict(enumerate(lista_salario))\n",
    "\n",
    "dados = {\n",
    "    \"data\": mapa_data.values(),\n",
    "    \"cidade\": mapa_cidade.values(),\n",
    "    \"emprego\": mapa_emprego.values(),\n",
    "    \"qualidade\": mapa_qualidade.values(),\n",
    "    \"tipo\": mapa_tipo_emprego.values(),\n",
    "    \"idade\": mapa_idade.values(),\n",
    "    \"salario\": mapa_salario.values(),\n",
    "}\n",
    "\n",
    "df = pd.DataFrame(data = dados)\n",
    "\n",
    "display(df)"
   ]
  },
  {
   "cell_type": "code",
   "execution_count": null,
   "metadata": {},
   "outputs": [],
   "source": []
  },
  {
   "cell_type": "code",
   "execution_count": null,
   "metadata": {},
   "outputs": [],
   "source": []
  },
  {
   "cell_type": "code",
   "execution_count": null,
   "metadata": {},
   "outputs": [],
   "source": []
  },
  {
   "cell_type": "code",
   "execution_count": null,
   "metadata": {},
   "outputs": [],
   "source": []
  },
  {
   "cell_type": "code",
   "execution_count": null,
   "metadata": {},
   "outputs": [],
   "source": []
  },
  {
   "cell_type": "code",
   "execution_count": null,
   "metadata": {},
   "outputs": [],
   "source": []
  },
  {
   "cell_type": "code",
   "execution_count": null,
   "metadata": {},
   "outputs": [],
   "source": []
  },
  {
   "cell_type": "code",
   "execution_count": null,
   "metadata": {},
   "outputs": [],
   "source": []
  },
  {
   "cell_type": "markdown",
   "metadata": {},
   "source": [
    "___"
   ]
  },
  {
   "cell_type": "markdown",
   "metadata": {},
   "source": [
    "$$\n",
    "\n",
    "\\begin{array}{c}\n",
    "\n",
    "    f(x) = x^2 \\\\ \\\\ \\\\\n",
    "    f(x) = x^n + x^{(n - 1)} \\\\ \\\\ \\\\\n",
    "    f(x) = \\sqrt{a^2 + b^2} \\\\ \\\\ \\\\\n",
    "    f(x) = \\sqrt[3]{a^2 + b^2} \\\\ \\\\ \\\\\n",
    "    -10 \\le x \\le 10 \\\\ \\\\ \\\\\n",
    "    e^x = \\sum\\limits^\\infty_{n = 0} \\frac{x^n}{x!} \\\\ \\\\ \\\\\n",
    "    f^\\prime(x)\\ = \\lim\\limits_{\\Delta x\\to0}\\frac{f(x+\\Delta x)-f(x)}{\\Delta x} \\\\ \\\\ \\\\\n",
    "    \\Large f(x) = \\int\\limits^x_{- \\infty} e^{-t^2}dt \\\\ \\\\ \\\\\n",
    "    \\Large e^x = \\lim\\limits_{n \\to \\infty} \\left(1 + \\frac{-n}{x} \\right)^n \\\\ \\\\ \\\\\n",
    "\n",
    "\\end{array}\n",
    "\n",
    "$$"
   ]
  },
  {
   "cell_type": "markdown",
   "metadata": {},
   "source": [
    "$$ \\Large\n",
    "    \\sum_{\\substack{\n",
    "        0 \\ \\ < \\ \\ i \\ \\ < \\ \\ n \\\\ \n",
    "        1 \\ \\ < \\ \\ j \\ \\ < \\ \\ m}}^{\\substack{x \\ \\ < \\ \\ \\infty \\\\ y \\ \\ \\ge \\ \\ 0}} P(i,j) =\n",
    "    \\sum_{\n",
    "        \\begin{subarray}{c} \n",
    "            i \\ \\ \\in \\ \\ I \\\\\n",
    "            1 \\ \\ < \\ \\ j \\ \\ < \\ \\ m\n",
    "        \\end{subarray}}^{\\begin{subarray}{c} \n",
    "            i \\ \\ \\in \\ \\ I \\\\\n",
    "            1 \\ \\ < \\ \\ j \\ \\ < \\ \\ m\n",
    "        \\end{subarray}} Q(i,j)\n",
    "$$"
   ]
  },
  {
   "cell_type": "markdown",
   "metadata": {},
   "source": [
    "$$\n",
    "\n",
    "\\mathop{\\mathrm{corr}}(X,Y)=\n",
    "\\frac{\\displaystyle\n",
    "\\sum_{i=1}^n(x_i-\\overline x)\n",
    "(y_i-\\overline y)}\n",
    "{\\displaystyle\\biggl[\n",
    "\\sum_{i=1}^n(x_i-\\overline x)^2\n",
    "\\sum_{i=1}^n(y_i-\\overline y)^2\n",
    "\\biggr]^{1/2}}\n",
    "\n",
    "$$"
   ]
  }
 ],
 "metadata": {
  "kernelspec": {
   "display_name": "r_env",
   "language": "python",
   "name": "python3"
  },
  "language_info": {
   "codemirror_mode": {
    "name": "ipython",
    "version": 3
   },
   "file_extension": ".py",
   "mimetype": "text/x-python",
   "name": "python",
   "nbconvert_exporter": "python",
   "pygments_lexer": "ipython3",
   "version": "3.12.4"
  }
 },
 "nbformat": 4,
 "nbformat_minor": 2
}
