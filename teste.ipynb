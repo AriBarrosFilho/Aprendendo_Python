{
 "cells": [
  {
   "cell_type": "code",
   "execution_count": 83,
   "metadata": {},
   "outputs": [],
   "source": [
    "import numpy as np\n",
    "from datetime import datetime"
   ]
  },
  {
   "cell_type": "code",
   "execution_count": 162,
   "metadata": {},
   "outputs": [
    {
     "name": "stdout",
     "output_type": "stream",
     "text": [
      "[ 6 12 13  9 10 12  6] \n",
      "\n",
      "68\n"
     ]
    }
   ],
   "source": [
    "np.random.seed(1)\n",
    "\n",
    "vetor_1 = np.random.randint(1, 21, 7)\n",
    "print(vetor_1, '\\n')\n",
    "\n",
    "total_linha = np.sum(a = vetor_1)\n",
    "print(total_linha)"
   ]
  },
  {
   "cell_type": "code",
   "execution_count": 121,
   "metadata": {},
   "outputs": [
    {
     "name": "stdout",
     "output_type": "stream",
     "text": [
      "[[ 6 12 13  9 10 12  6]\n",
      " [16  1 17  2 13  8 14]\n",
      " [ 7 19  6 19 12 11 15]] \n",
      "\n",
      "[[68]\n",
      " [71]\n",
      " [89]] \n",
      "\n",
      "[[29 32 36 30 35 31 35]]\n"
     ]
    }
   ],
   "source": [
    "np.random.seed(1)\n",
    "\n",
    "vetor_1 = np.random.randint(1, 21, (3, 7))\n",
    "print(vetor_1, '\\n')\n",
    "\n",
    "total_linha = np.sum(a = vetor_1, axis = 1, keepdims = True)\n",
    "print(total_linha, '\\n')\n",
    "\n",
    "total_coluna = np.sum(a = vetor_1, axis = 0, keepdims = True)\n",
    "print(total_coluna)"
   ]
  },
  {
   "cell_type": "code",
   "execution_count": 188,
   "metadata": {},
   "outputs": [
    {
     "name": "stdout",
     "output_type": "stream",
     "text": [
      "[[[ 6 12 13  9 10 12  6]\n",
      "  [16  1 17  2 13  8 14]\n",
      "  [ 7 19  6 19 12 11 15]]\n",
      "\n",
      " [[19  5 10 18  1 14 10]\n",
      "  [10  8  2  1 18  9 14]\n",
      "  [20 16 11  9  8  4  7]]] \n",
      "\n",
      "[[[25 17 23 27 11 26 16]\n",
      "  [26  9 19  3 31 17 28]\n",
      "  [27 35 17 28 20 15 22]]] \n",
      "\n"
     ]
    }
   ],
   "source": [
    "np.random.seed(1)\n",
    "\n",
    "vetor_1 = np.random.randint(1, 21, (2, 3, 7))\n",
    "print(vetor_1, '\\n')\n",
    "\n",
    "total_linha = np.sum(a = vetor_1, axis = 0, keepdims = True)\n",
    "print(total_linha, '\\n')"
   ]
  },
  {
   "cell_type": "code",
   "execution_count": 198,
   "metadata": {},
   "outputs": [
    {
     "data": {
      "text/plain": [
       "array([26,  9, 19,  3, 31, 17, 28])"
      ]
     },
     "execution_count": 198,
     "metadata": {},
     "output_type": "execute_result"
    }
   ],
   "source": [
    "total_linha[0][1]"
   ]
  },
  {
   "cell_type": "code",
   "execution_count": 199,
   "metadata": {},
   "outputs": [
    {
     "name": "stdout",
     "output_type": "stream",
     "text": [
      "[[[[ 6 12 13  9 10 12  6]\n",
      "   [16  1 17  2 13  8 14]\n",
      "   [ 7 19  6 19 12 11 15]]\n",
      "\n",
      "  [[19  5 10 18  1 14 10]\n",
      "   [10  8  2  1 18  9 14]\n",
      "   [20 16 11  9  8  4  7]]]\n",
      "\n",
      "\n",
      " [[[18  4  5 18 12 13 17]\n",
      "   [14 20 10 19 16  1  5]\n",
      "   [16  3  8  9 10  4  8]]\n",
      "\n",
      "  [[ 5  6 20  7  9  1  3]\n",
      "   [11 16 16  8 20 11 15]\n",
      "   [ 1  2 18 14  4  1 14]]]\n",
      "\n",
      "\n",
      " [[[ 7  7  3 13 12  8 14]\n",
      "   [ 9 12 13 12  5  8  8]\n",
      "   [14  5 17 19  1 14 11]]\n",
      "\n",
      "  [[18  8 11  1 13  2 10]\n",
      "   [19 20  2  3 13  8  3]\n",
      "   [11  1 10 19  7  3  8]]]\n",
      "\n",
      "\n",
      " [[[ 8 17 16  6 18 11 17]\n",
      "   [ 6 14 18 19  2 11  1]\n",
      "   [ 8  1 20 18 15 14 12]]\n",
      "\n",
      "  [[ 7 14 16 10  3  8  6]\n",
      "   [ 5  6  9 14 18 18 16]\n",
      "   [14  9 15 14 17 11 14]]]] \n",
      "\n"
     ]
    }
   ],
   "source": [
    "np.random.seed(1)\n",
    "\n",
    "# 7: Os dias da semana\n",
    "# 3: Os tipos de produto\n",
    "# 2: Quantidade de funcionários\n",
    "# 4: Empresas\n",
    "vetor_4 = np.random.randint(1, 21, (4, 2, 3, 7))\n",
    "print(vetor_4, '\\n')"
   ]
  },
  {
   "cell_type": "code",
   "execution_count": 202,
   "metadata": {},
   "outputs": [
    {
     "data": {
      "text/plain": [
       "array([[[ 7,  7,  3, 13, 12,  8, 14],\n",
       "        [ 9, 12, 13, 12,  5,  8,  8],\n",
       "        [14,  5, 17, 19,  1, 14, 11]],\n",
       "\n",
       "       [[18,  8, 11,  1, 13,  2, 10],\n",
       "        [19, 20,  2,  3, 13,  8,  3],\n",
       "        [11,  1, 10, 19,  7,  3,  8]]])"
      ]
     },
     "execution_count": 202,
     "metadata": {},
     "output_type": "execute_result"
    }
   ],
   "source": [
    "# Dados da empresa 1\n",
    "vetor_4[2]"
   ]
  },
  {
   "cell_type": "code",
   "execution_count": null,
   "metadata": {},
   "outputs": [
    {
     "data": {
      "text/plain": [
       "array([[ 6, 12, 13,  9, 10, 12,  6],\n",
       "       [16,  1, 17,  2, 13,  8, 14],\n",
       "       [ 7, 19,  6, 19, 12, 11, 15]])"
      ]
     },
     "execution_count": 183,
     "metadata": {},
     "output_type": "execute_result"
    }
   ],
   "source": [
    "# Dados da empresa 1\n",
    "# Dados do funcionário 1\n",
    "vetor_4[0][0]"
   ]
  },
  {
   "cell_type": "code",
   "execution_count": null,
   "metadata": {},
   "outputs": [
    {
     "data": {
      "text/plain": [
       "array([ 6, 12, 13,  9, 10, 12,  6])"
      ]
     },
     "execution_count": 184,
     "metadata": {},
     "output_type": "execute_result"
    }
   ],
   "source": [
    "# Dados da empresa 1\n",
    "# Dados do funcionário 1\n",
    "# Dados do produto 1\n",
    "vetor_4[0][0][0]"
   ]
  },
  {
   "cell_type": "code",
   "execution_count": null,
   "metadata": {},
   "outputs": [
    {
     "data": {
      "text/plain": [
       "6"
      ]
     },
     "execution_count": 185,
     "metadata": {},
     "output_type": "execute_result"
    }
   ],
   "source": [
    "# Dados da empresa 1\n",
    "# Dados do funcionário 1\n",
    "# Dados do produto 1\n",
    "# Dados do primeiro dia da semana\n",
    "vetor_4[0][0][0][0]"
   ]
  },
  {
   "cell_type": "code",
   "execution_count": 187,
   "metadata": {},
   "outputs": [
    {
     "name": "stdout",
     "output_type": "stream",
     "text": [
      "[[[[39 40 37 46 52 44 54]\n",
      "   [45 47 58 52 36 28 28]\n",
      "   [45 28 51 65 38 43 46]]\n",
      "\n",
      "  [[49 33 57 36 26 25 29]\n",
      "   [45 50 29 26 69 46 48]\n",
      "   [46 28 54 56 36 19 43]]]] \n",
      "\n"
     ]
    }
   ],
   "source": [
    "total_linha = np.sum(a = vetor_4, axis = 0, keepdims = True)\n",
    "print(total_linha, '\\n')"
   ]
  },
  {
   "cell_type": "code",
   "execution_count": null,
   "metadata": {},
   "outputs": [],
   "source": []
  },
  {
   "cell_type": "code",
   "execution_count": null,
   "metadata": {},
   "outputs": [],
   "source": []
  },
  {
   "cell_type": "code",
   "execution_count": 151,
   "metadata": {},
   "outputs": [
    {
     "name": "stdout",
     "output_type": "stream",
     "text": [
      "[[2 4 3]]\n",
      "Vetor => (1, 3) \n",
      "\n",
      "[[2]\n",
      " [4]\n",
      " [3]]\n",
      "Vetor => (3, 1)\n"
     ]
    }
   ],
   "source": [
    "a = np.array([2, 4, 3])\n",
    "a = a.reshape(1,-1)\n",
    "at = a.T\n",
    "\n",
    "print(a)\n",
    "print('Vetor =>', a.shape, '\\n')\n",
    "\n",
    "print(at)\n",
    "print('Vetor =>', at.shape)"
   ]
  },
  {
   "cell_type": "code",
   "execution_count": 142,
   "metadata": {},
   "outputs": [
    {
     "data": {
      "text/plain": [
       "array([[ 4,  8,  6],\n",
       "       [ 8, 16, 12],\n",
       "       [ 6, 12,  9]])"
      ]
     },
     "execution_count": 142,
     "metadata": {},
     "output_type": "execute_result"
    }
   ],
   "source": [
    "at @ a"
   ]
  },
  {
   "cell_type": "code",
   "execution_count": 143,
   "metadata": {},
   "outputs": [
    {
     "data": {
      "text/plain": [
       "array([[29]])"
      ]
     },
     "execution_count": 143,
     "metadata": {},
     "output_type": "execute_result"
    }
   ],
   "source": [
    "a @ at"
   ]
  },
  {
   "cell_type": "code",
   "execution_count": null,
   "metadata": {},
   "outputs": [],
   "source": []
  },
  {
   "cell_type": "code",
   "execution_count": 3,
   "metadata": {},
   "outputs": [
    {
     "name": "stdout",
     "output_type": "stream",
     "text": [
      "[(1, 'a'), (2, 'b'), (3, 'c')]\n"
     ]
    }
   ],
   "source": [
    "# Exemplo 1: Unindo duas listas\n",
    "lista1 = [1, 2, 3]\n",
    "lista2 = ['a', 'b', 'c']\n",
    "zipado = zip(lista1, lista2)\n",
    "print(list(zipado))  # [(1, 'a'), (2, 'b'), (3, 'c')]"
   ]
  },
  {
   "cell_type": "code",
   "execution_count": 4,
   "metadata": {},
   "outputs": [
    {
     "name": "stdout",
     "output_type": "stream",
     "text": [
      "[(1, 'a'), (2, 'b')]\n"
     ]
    }
   ],
   "source": [
    "# Exemplo 2: Unindo listas de tamanhos diferentes\n",
    "lista3 = [1, 2, 3, 4]\n",
    "lista4 = ['a', 'b']\n",
    "zipado_dif = zip(lista3, lista4)\n",
    "print(list(zipado_dif))  # [(1, 'a'), (2, 'b')]"
   ]
  },
  {
   "cell_type": "code",
   "execution_count": 5,
   "metadata": {},
   "outputs": [
    {
     "name": "stdout",
     "output_type": "stream",
     "text": [
      "(1, 2, 3)\n",
      "('a', 'b', 'c')\n"
     ]
    }
   ],
   "source": [
    "# Exemplo 3: Descompactando com zip\n",
    "zipado = zip(lista1, lista2)\n",
    "lista1_unzip, lista2_unzip = zip(*zipado)\n",
    "print(lista1_unzip)  # (1, 2, 3)\n",
    "print(lista2_unzip)  # ('a', 'b', 'c')"
   ]
  },
  {
   "cell_type": "code",
   "execution_count": 6,
   "metadata": {},
   "outputs": [
    {
     "name": "stdout",
     "output_type": "stream",
     "text": [
      "Número: 1, Letra: a\n",
      "Número: 2, Letra: b\n",
      "Número: 3, Letra: c\n"
     ]
    }
   ],
   "source": [
    "# Exemplo 4: Iterando sobre múltiplas listas simultaneamente\n",
    "for num, letra in zip(lista1, lista2):\n",
    "    print(f'Número: {num}, Letra: {letra}')\n",
    "# Número: 1, Letra: a\n",
    "# Número: 2, Letra: b\n",
    "# Número: 3, Letra: c"
   ]
  },
  {
   "cell_type": "code",
   "execution_count": 7,
   "metadata": {},
   "outputs": [
    {
     "name": "stdout",
     "output_type": "stream",
     "text": [
      "[(('a', 1), ('c', 3)), (('b', 2), ('d', 4))]\n"
     ]
    }
   ],
   "source": [
    "# Exemplo 5: Usando zip com dicionários\n",
    "dict1 = {'a': 1, 'b': 2}\n",
    "dict2 = {'c': 3, 'd': 4}\n",
    "zip_dict = zip(dict1.items(), dict2.items())\n",
    "print(list(zip_dict))  # [(('a', 1), ('c', 3)), (('b', 2), ('d', 4))]"
   ]
  },
  {
   "cell_type": "code",
   "execution_count": 9,
   "metadata": {},
   "outputs": [
    {
     "name": "stdout",
     "output_type": "stream",
     "text": [
      "[(1, 10, 'z'), (2, 20, 'x'), (3, 30, 'y')]\n"
     ]
    }
   ],
   "source": [
    "# Exemplo 6: Usando zip com diferentes tipos de iteráveis\n",
    "lista1 = [1, 2, 3]\n",
    "tupla = (10, 20, 30)\n",
    "conjunto = {'x', 'y', 'z'}\n",
    "zip_mixed = zip(lista1, tupla, conjunto)\n",
    "print(list(zip_mixed))  # [(1, 10, 'x'), (2, 20, 'y'), (3, 30, 'z')]"
   ]
  },
  {
   "cell_type": "code",
   "execution_count": 13,
   "metadata": {},
   "outputs": [
    {
     "data": {
      "text/plain": [
       "3"
      ]
     },
     "execution_count": 13,
     "metadata": {},
     "output_type": "execute_result"
    }
   ],
   "source": [
    "conjunto = {'x', 'y', 'z', 'z'}\n",
    "len(conjunto)"
   ]
  },
  {
   "cell_type": "code",
   "execution_count": null,
   "metadata": {},
   "outputs": [],
   "source": []
  }
 ],
 "metadata": {
  "kernelspec": {
   "display_name": "base",
   "language": "python",
   "name": "python3"
  },
  "language_info": {
   "codemirror_mode": {
    "name": "ipython",
    "version": 3
   },
   "file_extension": ".py",
   "mimetype": "text/x-python",
   "name": "python",
   "nbconvert_exporter": "python",
   "pygments_lexer": "ipython3",
   "version": "3.11.7"
  }
 },
 "nbformat": 4,
 "nbformat_minor": 2
}
