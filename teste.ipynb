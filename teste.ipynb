{
 "cells": [
  {
   "cell_type": "code",
   "execution_count": 55,
   "metadata": {},
   "outputs": [
    {
     "name": "stdout",
     "output_type": "stream",
     "text": [
      "{5, 6, 7}\n"
     ]
    }
   ],
   "source": [
    "# Criando um conjunto\n",
    "conjunto = {5, 6, 7}\n",
    "print(conjunto)  # Saída: {5, 6, 7}"
   ]
  },
  {
   "cell_type": "code",
   "execution_count": 56,
   "metadata": {},
   "outputs": [
    {
     "name": "stdout",
     "output_type": "stream",
     "text": [
      "{8, 5, 6, 7}\n"
     ]
    }
   ],
   "source": [
    "# Adicionando elementos a um conjunto\n",
    "conjunto.add(8)\n",
    "print(conjunto)  # Saída: {5, 6, 7, 8}"
   ]
  },
  {
   "cell_type": "code",
   "execution_count": 57,
   "metadata": {},
   "outputs": [
    {
     "name": "stdout",
     "output_type": "stream",
     "text": [
      "{8, 5, 7}\n"
     ]
    }
   ],
   "source": [
    "# Removendo elementos de um conjunto\n",
    "conjunto.remove(6)\n",
    "print(conjunto)  # Saída: {5, 7, 8}"
   ]
  },
  {
   "cell_type": "code",
   "execution_count": 58,
   "metadata": {},
   "outputs": [
    {
     "name": "stdout",
     "output_type": "stream",
     "text": [
      "True\n",
      "False\n"
     ]
    }
   ],
   "source": [
    "# Verificando se um elemento está no conjunto\n",
    "print(5 in conjunto)  # Saída: True\n",
    "print(6 in conjunto)  # Saída: False"
   ]
  },
  {
   "cell_type": "code",
   "execution_count": 59,
   "metadata": {},
   "outputs": [
    {
     "name": "stdout",
     "output_type": "stream",
     "text": [
      "{1, 2, 3, 5, 7, 8}\n"
     ]
    }
   ],
   "source": [
    "# União de conjuntos\n",
    "conjunto2 = {1, 2, 3, 8}\n",
    "uniao = conjunto.union(conjunto2)\n",
    "print(uniao)  # Saída: {1, 2, 3, 5, 7, 8}"
   ]
  },
  {
   "cell_type": "code",
   "execution_count": 60,
   "metadata": {},
   "outputs": [
    {
     "name": "stdout",
     "output_type": "stream",
     "text": [
      "{8}\n"
     ]
    }
   ],
   "source": [
    "# Interseção de conjuntos\n",
    "intersecao = conjunto.intersection(conjunto2)\n",
    "print(intersecao)  # Saída: set()"
   ]
  },
  {
   "cell_type": "code",
   "execution_count": 61,
   "metadata": {},
   "outputs": [
    {
     "name": "stdout",
     "output_type": "stream",
     "text": [
      "{5, 7}\n"
     ]
    }
   ],
   "source": [
    "# Diferença de conjuntos\n",
    "diferenca = conjunto.difference(conjunto2)\n",
    "print(diferenca)  # Saída: {5, 7, 8}"
   ]
  },
  {
   "cell_type": "code",
   "execution_count": 62,
   "metadata": {},
   "outputs": [
    {
     "name": "stdout",
     "output_type": "stream",
     "text": [
      "{1, 2, 3, 5, 7}\n"
     ]
    }
   ],
   "source": [
    "# Diferença simétrica de conjuntos\n",
    "diferenca_simetrica = conjunto.symmetric_difference(conjunto2)\n",
    "print(diferenca_simetrica)  # Saída: {1, 2, 3, 5, 7, 8}"
   ]
  },
  {
   "cell_type": "code",
   "execution_count": null,
   "metadata": {},
   "outputs": [],
   "source": [
    "# Subconjunto e Superconjunto\n",
    "conjunto3 = {5, 7}\n",
    "print(conjunto3.issubset(conjunto))  # Saída: True\n",
    "print(conjunto.issuperset(conjunto3))  # Saída: True"
   ]
  },
  {
   "cell_type": "code",
   "execution_count": null,
   "metadata": {},
   "outputs": [],
   "source": [
    "# Conjuntos imutáveis (frozenset)\n",
    "conjunto_imutavel = frozenset(conjunto)\n",
    "print(conjunto_imutavel)  # Saída: frozenset({8, 5, 7})"
   ]
  },
  {
   "cell_type": "code",
   "execution_count": 63,
   "metadata": {},
   "outputs": [
    {
     "name": "stdout",
     "output_type": "stream",
     "text": [
      "{1, 2, 5, 6, 'aaa', 'elemento'}\n"
     ]
    }
   ],
   "source": [
    "# Convertendo lista para conjunto (removendo duplicatas)\n",
    "lista_2 = ['elemento', 6, 1, 2, 5, 6, 'aaa']\n",
    "conjunto_lista = set(lista_2)\n",
    "print(conjunto_lista)  # Saída: {1, 2, 5, 6, 'elemento', 'aaa'}"
   ]
  },
  {
   "cell_type": "code",
   "execution_count": 65,
   "metadata": {},
   "outputs": [
    {
     "name": "stdout",
     "output_type": "stream",
     "text": [
      "{1, 2}\n"
     ]
    }
   ],
   "source": [
    "# Convertendo tupla para conjunto\n",
    "tupla = (1, 2)\n",
    "conjunto_tupla = set(tupla)\n",
    "print(conjunto_tupla)  # Saída: {1, 2}"
   ]
  },
  {
   "cell_type": "code",
   "execution_count": 64,
   "metadata": {},
   "outputs": [
    {
     "data": {
      "text/plain": [
       "3"
      ]
     },
     "execution_count": 64,
     "metadata": {},
     "output_type": "execute_result"
    }
   ],
   "source": [
    "conjunto = {'x', 'y', 'z', 'z'}\n",
    "len(conjunto)"
   ]
  },
  {
   "cell_type": "markdown",
   "metadata": {},
   "source": [
    "___"
   ]
  },
  {
   "cell_type": "code",
   "execution_count": 31,
   "metadata": {},
   "outputs": [
    {
     "name": "stdout",
     "output_type": "stream",
     "text": [
      "x não é nem 1 nem 2\n"
     ]
    }
   ],
   "source": [
    "x = 3\n",
    "\n",
    "match x:\n",
    "    case 1:\n",
    "        print(\"x é 1\")\n",
    "    case 2:\n",
    "        print(\"x é 2\")\n",
    "    case _:\n",
    "        print(\"x não é nem 1 nem 2\")"
   ]
  },
  {
   "cell_type": "code",
   "execution_count": 4,
   "metadata": {},
   "outputs": [
    {
     "name": "stdout",
     "output_type": "stream",
     "text": [
      "Alice é adulto\n"
     ]
    }
   ],
   "source": [
    "user = {\"name\": \"Alice\", \"cidade\": \"Florianopólis\", \"age\": 30}\n",
    "\n",
    "match user:\n",
    "    case {\"name\": name, \"age\": age} if age >= 18: print(f\"{name} é adulto\")\n",
    "        \n",
    "    case {\"name\": name, \"age\": age}: print(f\"{name} é menor de idade\")"
   ]
  },
  {
   "cell_type": "markdown",
   "metadata": {},
   "source": [
    "___"
   ]
  },
  {
   "cell_type": "code",
   "execution_count": 1,
   "metadata": {},
   "outputs": [],
   "source": [
    "import pyautogui\n",
    "import time"
   ]
  },
  {
   "cell_type": "code",
   "execution_count": null,
   "metadata": {},
   "outputs": [],
   "source": [
    "# Movendo o mouse para uma posição específica (x, y)\n",
    "print(\"Movendo o mouse para a posição (500, 500)...\")\n",
    "pyautogui.moveTo(500, 500, duration=1)  # Move o mouse em 1 segundo para (500, 500)\n",
    "\n",
    "# Realizando um clique\n",
    "print(\"Realizando um clique na posição atual...\")\n",
    "pyautogui.click()\n",
    "\n",
    "# Movendo o mouse relativo à posição atual\n",
    "print(\"Movendo o mouse 100 pixels para a direita e 50 para baixo...\")\n",
    "pyautogui.move(100, 50, duration=1)\n",
    "\n",
    "# Realizando um duplo clique\n",
    "print(\"Realizando um duplo clique...\")\n",
    "pyautogui.doubleClick()\n",
    "\n",
    "# Realizando um clique com botão direito\n",
    "print(\"Realizando um clique com o botão direito...\")\n",
    "pyautogui.rightClick()"
   ]
  },
  {
   "cell_type": "code",
   "execution_count": 9,
   "metadata": {},
   "outputs": [
    {
     "name": "stdout",
     "output_type": "stream",
     "text": [
      "A posição atual do mouse é: Point(x=1698, y=818)\n"
     ]
    }
   ],
   "source": [
    "# Obtendo a posição atual do mouse\n",
    "current_position = pyautogui.position()\n",
    "print(f\"A posição atual do mouse é: {current_position}\")"
   ]
  },
  {
   "cell_type": "code",
   "execution_count": 5,
   "metadata": {},
   "outputs": [],
   "source": [
    "import pyautogui\n",
    "import time"
   ]
  },
  {
   "cell_type": "code",
   "execution_count": 7,
   "metadata": {},
   "outputs": [
    {
     "name": "stdout",
     "output_type": "stream",
     "text": [
      "A posição atual do mouse é: Point(x=1594, y=570)\n"
     ]
    }
   ],
   "source": [
    "# Obtendo a posição atual do mouse\n",
    "current_position = pyautogui.position()\n",
    "print(f\"A posição atual do mouse é: {current_position}\")"
   ]
  },
  {
   "cell_type": "code",
   "execution_count": null,
   "metadata": {},
   "outputs": [],
   "source": [
    "tempo = 20\n",
    "\n",
    "while True:\n",
    "# for _ in range(2):\n",
    "    pyautogui.moveTo(269, 553, duration=1)  # Move o mouse em 1 segundo para (500, 500)\n",
    "    time.sleep(tempo)\n",
    "    pyautogui.moveTo(1594, 570, duration=1)  # Move o mouse em 1 segundo para (500, 500)\n",
    "    time.sleep(tempo)"
   ]
  },
  {
   "cell_type": "markdown",
   "metadata": {},
   "source": [
    "___"
   ]
  },
  {
   "cell_type": "code",
   "execution_count": 2,
   "metadata": {},
   "outputs": [],
   "source": [
    "import kaggle\n",
    "import pandas as pd\n",
    "import numpy as np\n",
    "import matplotlib.pyplot as plt\n",
    "import time\n",
    "from datetime import datetime\n",
    "import random\n",
    "import os"
   ]
  },
  {
   "cell_type": "code",
   "execution_count": 154,
   "metadata": {},
   "outputs": [
    {
     "data": {
      "text/html": [
       "<div>\n",
       "<style scoped>\n",
       "    .dataframe tbody tr th:only-of-type {\n",
       "        vertical-align: middle;\n",
       "    }\n",
       "\n",
       "    .dataframe tbody tr th {\n",
       "        vertical-align: top;\n",
       "    }\n",
       "\n",
       "    .dataframe thead th {\n",
       "        text-align: right;\n",
       "    }\n",
       "</style>\n",
       "<table border=\"1\" class=\"dataframe\">\n",
       "  <thead>\n",
       "    <tr style=\"text-align: right;\">\n",
       "      <th></th>\n",
       "      <th>Age</th>\n",
       "      <th>Attrition</th>\n",
       "      <th>BusinessTravel</th>\n",
       "      <th>DailyRate</th>\n",
       "      <th>Department</th>\n",
       "      <th>DistanceFromHome</th>\n",
       "      <th>Education</th>\n",
       "      <th>EducationField</th>\n",
       "      <th>EmployeeCount</th>\n",
       "      <th>EmployeeNumber</th>\n",
       "      <th>...</th>\n",
       "      <th>RelationshipSatisfaction</th>\n",
       "      <th>StandardHours</th>\n",
       "      <th>StockOptionLevel</th>\n",
       "      <th>TotalWorkingYears</th>\n",
       "      <th>TrainingTimesLastYear</th>\n",
       "      <th>WorkLifeBalance</th>\n",
       "      <th>YearsAtCompany</th>\n",
       "      <th>YearsInCurrentRole</th>\n",
       "      <th>YearsSinceLastPromotion</th>\n",
       "      <th>YearsWithCurrManager</th>\n",
       "    </tr>\n",
       "  </thead>\n",
       "  <tbody>\n",
       "    <tr>\n",
       "      <th>0</th>\n",
       "      <td>41</td>\n",
       "      <td>Yes</td>\n",
       "      <td>Travel_Rarely</td>\n",
       "      <td>1102</td>\n",
       "      <td>Sales</td>\n",
       "      <td>1</td>\n",
       "      <td>2</td>\n",
       "      <td>Life Sciences</td>\n",
       "      <td>1</td>\n",
       "      <td>1</td>\n",
       "      <td>...</td>\n",
       "      <td>1</td>\n",
       "      <td>80</td>\n",
       "      <td>0</td>\n",
       "      <td>8</td>\n",
       "      <td>0</td>\n",
       "      <td>1</td>\n",
       "      <td>6</td>\n",
       "      <td>4</td>\n",
       "      <td>0</td>\n",
       "      <td>5</td>\n",
       "    </tr>\n",
       "    <tr>\n",
       "      <th>1</th>\n",
       "      <td>49</td>\n",
       "      <td>No</td>\n",
       "      <td>Travel_Frequently</td>\n",
       "      <td>279</td>\n",
       "      <td>Research &amp; Development</td>\n",
       "      <td>8</td>\n",
       "      <td>1</td>\n",
       "      <td>Life Sciences</td>\n",
       "      <td>1</td>\n",
       "      <td>2</td>\n",
       "      <td>...</td>\n",
       "      <td>4</td>\n",
       "      <td>80</td>\n",
       "      <td>1</td>\n",
       "      <td>10</td>\n",
       "      <td>3</td>\n",
       "      <td>3</td>\n",
       "      <td>10</td>\n",
       "      <td>7</td>\n",
       "      <td>1</td>\n",
       "      <td>7</td>\n",
       "    </tr>\n",
       "    <tr>\n",
       "      <th>2</th>\n",
       "      <td>37</td>\n",
       "      <td>Yes</td>\n",
       "      <td>Travel_Rarely</td>\n",
       "      <td>1373</td>\n",
       "      <td>Research &amp; Development</td>\n",
       "      <td>2</td>\n",
       "      <td>2</td>\n",
       "      <td>Other</td>\n",
       "      <td>1</td>\n",
       "      <td>4</td>\n",
       "      <td>...</td>\n",
       "      <td>2</td>\n",
       "      <td>80</td>\n",
       "      <td>0</td>\n",
       "      <td>7</td>\n",
       "      <td>3</td>\n",
       "      <td>3</td>\n",
       "      <td>0</td>\n",
       "      <td>0</td>\n",
       "      <td>0</td>\n",
       "      <td>0</td>\n",
       "    </tr>\n",
       "    <tr>\n",
       "      <th>3</th>\n",
       "      <td>33</td>\n",
       "      <td>No</td>\n",
       "      <td>Travel_Frequently</td>\n",
       "      <td>1392</td>\n",
       "      <td>Research &amp; Development</td>\n",
       "      <td>3</td>\n",
       "      <td>4</td>\n",
       "      <td>Life Sciences</td>\n",
       "      <td>1</td>\n",
       "      <td>5</td>\n",
       "      <td>...</td>\n",
       "      <td>3</td>\n",
       "      <td>80</td>\n",
       "      <td>0</td>\n",
       "      <td>8</td>\n",
       "      <td>3</td>\n",
       "      <td>3</td>\n",
       "      <td>8</td>\n",
       "      <td>7</td>\n",
       "      <td>3</td>\n",
       "      <td>0</td>\n",
       "    </tr>\n",
       "    <tr>\n",
       "      <th>4</th>\n",
       "      <td>27</td>\n",
       "      <td>No</td>\n",
       "      <td>Travel_Rarely</td>\n",
       "      <td>591</td>\n",
       "      <td>Research &amp; Development</td>\n",
       "      <td>2</td>\n",
       "      <td>1</td>\n",
       "      <td>Medical</td>\n",
       "      <td>1</td>\n",
       "      <td>7</td>\n",
       "      <td>...</td>\n",
       "      <td>4</td>\n",
       "      <td>80</td>\n",
       "      <td>1</td>\n",
       "      <td>6</td>\n",
       "      <td>3</td>\n",
       "      <td>3</td>\n",
       "      <td>2</td>\n",
       "      <td>2</td>\n",
       "      <td>2</td>\n",
       "      <td>2</td>\n",
       "    </tr>\n",
       "    <tr>\n",
       "      <th>...</th>\n",
       "      <td>...</td>\n",
       "      <td>...</td>\n",
       "      <td>...</td>\n",
       "      <td>...</td>\n",
       "      <td>...</td>\n",
       "      <td>...</td>\n",
       "      <td>...</td>\n",
       "      <td>...</td>\n",
       "      <td>...</td>\n",
       "      <td>...</td>\n",
       "      <td>...</td>\n",
       "      <td>...</td>\n",
       "      <td>...</td>\n",
       "      <td>...</td>\n",
       "      <td>...</td>\n",
       "      <td>...</td>\n",
       "      <td>...</td>\n",
       "      <td>...</td>\n",
       "      <td>...</td>\n",
       "      <td>...</td>\n",
       "      <td>...</td>\n",
       "    </tr>\n",
       "    <tr>\n",
       "      <th>1465</th>\n",
       "      <td>36</td>\n",
       "      <td>No</td>\n",
       "      <td>Travel_Frequently</td>\n",
       "      <td>884</td>\n",
       "      <td>Research &amp; Development</td>\n",
       "      <td>23</td>\n",
       "      <td>2</td>\n",
       "      <td>Medical</td>\n",
       "      <td>1</td>\n",
       "      <td>2061</td>\n",
       "      <td>...</td>\n",
       "      <td>3</td>\n",
       "      <td>80</td>\n",
       "      <td>1</td>\n",
       "      <td>17</td>\n",
       "      <td>3</td>\n",
       "      <td>3</td>\n",
       "      <td>5</td>\n",
       "      <td>2</td>\n",
       "      <td>0</td>\n",
       "      <td>3</td>\n",
       "    </tr>\n",
       "    <tr>\n",
       "      <th>1466</th>\n",
       "      <td>39</td>\n",
       "      <td>No</td>\n",
       "      <td>Travel_Rarely</td>\n",
       "      <td>613</td>\n",
       "      <td>Research &amp; Development</td>\n",
       "      <td>6</td>\n",
       "      <td>1</td>\n",
       "      <td>Medical</td>\n",
       "      <td>1</td>\n",
       "      <td>2062</td>\n",
       "      <td>...</td>\n",
       "      <td>1</td>\n",
       "      <td>80</td>\n",
       "      <td>1</td>\n",
       "      <td>9</td>\n",
       "      <td>5</td>\n",
       "      <td>3</td>\n",
       "      <td>7</td>\n",
       "      <td>7</td>\n",
       "      <td>1</td>\n",
       "      <td>7</td>\n",
       "    </tr>\n",
       "    <tr>\n",
       "      <th>1467</th>\n",
       "      <td>27</td>\n",
       "      <td>No</td>\n",
       "      <td>Travel_Rarely</td>\n",
       "      <td>155</td>\n",
       "      <td>Research &amp; Development</td>\n",
       "      <td>4</td>\n",
       "      <td>3</td>\n",
       "      <td>Life Sciences</td>\n",
       "      <td>1</td>\n",
       "      <td>2064</td>\n",
       "      <td>...</td>\n",
       "      <td>2</td>\n",
       "      <td>80</td>\n",
       "      <td>1</td>\n",
       "      <td>6</td>\n",
       "      <td>0</td>\n",
       "      <td>3</td>\n",
       "      <td>6</td>\n",
       "      <td>2</td>\n",
       "      <td>0</td>\n",
       "      <td>3</td>\n",
       "    </tr>\n",
       "    <tr>\n",
       "      <th>1468</th>\n",
       "      <td>49</td>\n",
       "      <td>No</td>\n",
       "      <td>Travel_Frequently</td>\n",
       "      <td>1023</td>\n",
       "      <td>Sales</td>\n",
       "      <td>2</td>\n",
       "      <td>3</td>\n",
       "      <td>Medical</td>\n",
       "      <td>1</td>\n",
       "      <td>2065</td>\n",
       "      <td>...</td>\n",
       "      <td>4</td>\n",
       "      <td>80</td>\n",
       "      <td>0</td>\n",
       "      <td>17</td>\n",
       "      <td>3</td>\n",
       "      <td>2</td>\n",
       "      <td>9</td>\n",
       "      <td>6</td>\n",
       "      <td>0</td>\n",
       "      <td>8</td>\n",
       "    </tr>\n",
       "    <tr>\n",
       "      <th>1469</th>\n",
       "      <td>34</td>\n",
       "      <td>No</td>\n",
       "      <td>Travel_Rarely</td>\n",
       "      <td>628</td>\n",
       "      <td>Research &amp; Development</td>\n",
       "      <td>8</td>\n",
       "      <td>3</td>\n",
       "      <td>Medical</td>\n",
       "      <td>1</td>\n",
       "      <td>2068</td>\n",
       "      <td>...</td>\n",
       "      <td>1</td>\n",
       "      <td>80</td>\n",
       "      <td>0</td>\n",
       "      <td>6</td>\n",
       "      <td>3</td>\n",
       "      <td>4</td>\n",
       "      <td>4</td>\n",
       "      <td>3</td>\n",
       "      <td>1</td>\n",
       "      <td>2</td>\n",
       "    </tr>\n",
       "  </tbody>\n",
       "</table>\n",
       "<p>1470 rows × 35 columns</p>\n",
       "</div>"
      ],
      "text/plain": [
       "      Age Attrition     BusinessTravel  DailyRate              Department  \\\n",
       "0      41       Yes      Travel_Rarely       1102                   Sales   \n",
       "1      49        No  Travel_Frequently        279  Research & Development   \n",
       "2      37       Yes      Travel_Rarely       1373  Research & Development   \n",
       "3      33        No  Travel_Frequently       1392  Research & Development   \n",
       "4      27        No      Travel_Rarely        591  Research & Development   \n",
       "...   ...       ...                ...        ...                     ...   \n",
       "1465   36        No  Travel_Frequently        884  Research & Development   \n",
       "1466   39        No      Travel_Rarely        613  Research & Development   \n",
       "1467   27        No      Travel_Rarely        155  Research & Development   \n",
       "1468   49        No  Travel_Frequently       1023                   Sales   \n",
       "1469   34        No      Travel_Rarely        628  Research & Development   \n",
       "\n",
       "      DistanceFromHome  Education EducationField  EmployeeCount  \\\n",
       "0                    1          2  Life Sciences              1   \n",
       "1                    8          1  Life Sciences              1   \n",
       "2                    2          2          Other              1   \n",
       "3                    3          4  Life Sciences              1   \n",
       "4                    2          1        Medical              1   \n",
       "...                ...        ...            ...            ...   \n",
       "1465                23          2        Medical              1   \n",
       "1466                 6          1        Medical              1   \n",
       "1467                 4          3  Life Sciences              1   \n",
       "1468                 2          3        Medical              1   \n",
       "1469                 8          3        Medical              1   \n",
       "\n",
       "      EmployeeNumber  ...  RelationshipSatisfaction StandardHours  \\\n",
       "0                  1  ...                         1            80   \n",
       "1                  2  ...                         4            80   \n",
       "2                  4  ...                         2            80   \n",
       "3                  5  ...                         3            80   \n",
       "4                  7  ...                         4            80   \n",
       "...              ...  ...                       ...           ...   \n",
       "1465            2061  ...                         3            80   \n",
       "1466            2062  ...                         1            80   \n",
       "1467            2064  ...                         2            80   \n",
       "1468            2065  ...                         4            80   \n",
       "1469            2068  ...                         1            80   \n",
       "\n",
       "      StockOptionLevel  TotalWorkingYears  TrainingTimesLastYear  \\\n",
       "0                    0                  8                      0   \n",
       "1                    1                 10                      3   \n",
       "2                    0                  7                      3   \n",
       "3                    0                  8                      3   \n",
       "4                    1                  6                      3   \n",
       "...                ...                ...                    ...   \n",
       "1465                 1                 17                      3   \n",
       "1466                 1                  9                      5   \n",
       "1467                 1                  6                      0   \n",
       "1468                 0                 17                      3   \n",
       "1469                 0                  6                      3   \n",
       "\n",
       "     WorkLifeBalance  YearsAtCompany YearsInCurrentRole  \\\n",
       "0                  1               6                  4   \n",
       "1                  3              10                  7   \n",
       "2                  3               0                  0   \n",
       "3                  3               8                  7   \n",
       "4                  3               2                  2   \n",
       "...              ...             ...                ...   \n",
       "1465               3               5                  2   \n",
       "1466               3               7                  7   \n",
       "1467               3               6                  2   \n",
       "1468               2               9                  6   \n",
       "1469               4               4                  3   \n",
       "\n",
       "      YearsSinceLastPromotion  YearsWithCurrManager  \n",
       "0                           0                     5  \n",
       "1                           1                     7  \n",
       "2                           0                     0  \n",
       "3                           3                     0  \n",
       "4                           2                     2  \n",
       "...                       ...                   ...  \n",
       "1465                        0                     3  \n",
       "1466                        1                     7  \n",
       "1467                        0                     3  \n",
       "1468                        0                     8  \n",
       "1469                        1                     2  \n",
       "\n",
       "[1470 rows x 35 columns]"
      ]
     },
     "metadata": {},
     "output_type": "display_data"
    }
   ],
   "source": [
    "caminhos = {\n",
    "    1: r\"kaggle/cereal.csv\",\n",
    "    2: r\"kaggle\\WA_Fn-UseC_-HR-Employee-Attrition.csv\"\n",
    "}\n",
    "\n",
    "df = pd.read_csv(filepath_or_buffer = caminhos[2])\n",
    "\n",
    "display(df)"
   ]
  },
  {
   "cell_type": "code",
   "execution_count": 156,
   "metadata": {},
   "outputs": [
    {
     "data": {
      "text/html": [
       "<div>\n",
       "<style scoped>\n",
       "    .dataframe tbody tr th:only-of-type {\n",
       "        vertical-align: middle;\n",
       "    }\n",
       "\n",
       "    .dataframe tbody tr th {\n",
       "        vertical-align: top;\n",
       "    }\n",
       "\n",
       "    .dataframe thead th {\n",
       "        text-align: right;\n",
       "    }\n",
       "</style>\n",
       "<table border=\"1\" class=\"dataframe\">\n",
       "  <thead>\n",
       "    <tr style=\"text-align: right;\">\n",
       "      <th></th>\n",
       "      <th>data</th>\n",
       "      <th>cidade</th>\n",
       "      <th>emprego</th>\n",
       "      <th>qualidade</th>\n",
       "      <th>tipo</th>\n",
       "      <th>idade</th>\n",
       "      <th>salario</th>\n",
       "    </tr>\n",
       "  </thead>\n",
       "  <tbody>\n",
       "    <tr>\n",
       "      <th>0</th>\n",
       "      <td>2024-02-14 14:49:17</td>\n",
       "      <td>Recife</td>\n",
       "      <td>Barbearia</td>\n",
       "      <td>Bom</td>\n",
       "      <td>Presencial</td>\n",
       "      <td>18</td>\n",
       "      <td>5932.62</td>\n",
       "    </tr>\n",
       "    <tr>\n",
       "      <th>1</th>\n",
       "      <td>2025-11-02 23:33:11</td>\n",
       "      <td>Florianopólis</td>\n",
       "      <td>Hospital</td>\n",
       "      <td>Neutro</td>\n",
       "      <td>Presencial</td>\n",
       "      <td>18</td>\n",
       "      <td>2998.87</td>\n",
       "    </tr>\n",
       "    <tr>\n",
       "      <th>2</th>\n",
       "      <td>2025-05-12 05:00:19</td>\n",
       "      <td>São Paulo</td>\n",
       "      <td>Restaurante</td>\n",
       "      <td>Péssimo</td>\n",
       "      <td>Remoto</td>\n",
       "      <td>20</td>\n",
       "      <td>6732.62</td>\n",
       "    </tr>\n",
       "    <tr>\n",
       "      <th>3</th>\n",
       "      <td>2023-11-18 01:44:31</td>\n",
       "      <td>Belo Horizonte</td>\n",
       "      <td>Indústria</td>\n",
       "      <td>Bom</td>\n",
       "      <td>Remoto</td>\n",
       "      <td>18</td>\n",
       "      <td>7330.93</td>\n",
       "    </tr>\n",
       "    <tr>\n",
       "      <th>4</th>\n",
       "      <td>2025-01-28 10:51:41</td>\n",
       "      <td>Porto Alegre</td>\n",
       "      <td>Loja de roupas</td>\n",
       "      <td>Ruim</td>\n",
       "      <td>Presencial</td>\n",
       "      <td>21</td>\n",
       "      <td>6320.45</td>\n",
       "    </tr>\n",
       "    <tr>\n",
       "      <th>...</th>\n",
       "      <td>...</td>\n",
       "      <td>...</td>\n",
       "      <td>...</td>\n",
       "      <td>...</td>\n",
       "      <td>...</td>\n",
       "      <td>...</td>\n",
       "      <td>...</td>\n",
       "    </tr>\n",
       "    <tr>\n",
       "      <th>4995</th>\n",
       "      <td>2024-08-03 02:19:55</td>\n",
       "      <td>Recife</td>\n",
       "      <td>Hospital</td>\n",
       "      <td>Neutro</td>\n",
       "      <td>Presencial</td>\n",
       "      <td>18</td>\n",
       "      <td>4611.56</td>\n",
       "    </tr>\n",
       "    <tr>\n",
       "      <th>4996</th>\n",
       "      <td>2024-12-20 07:48:18</td>\n",
       "      <td>Rio de Janeiro</td>\n",
       "      <td>Indústria</td>\n",
       "      <td>Péssimo</td>\n",
       "      <td>Presencial</td>\n",
       "      <td>19</td>\n",
       "      <td>4621.98</td>\n",
       "    </tr>\n",
       "    <tr>\n",
       "      <th>4997</th>\n",
       "      <td>2025-09-12 14:57:14</td>\n",
       "      <td>São Paulo</td>\n",
       "      <td>Barbearia</td>\n",
       "      <td>Ótimo</td>\n",
       "      <td>Presencial</td>\n",
       "      <td>19</td>\n",
       "      <td>6628.50</td>\n",
       "    </tr>\n",
       "    <tr>\n",
       "      <th>4998</th>\n",
       "      <td>2023-11-02 19:29:33</td>\n",
       "      <td>Curitiba</td>\n",
       "      <td>Hospital</td>\n",
       "      <td>Neutro</td>\n",
       "      <td>Hibrído</td>\n",
       "      <td>18</td>\n",
       "      <td>7820.14</td>\n",
       "    </tr>\n",
       "    <tr>\n",
       "      <th>4999</th>\n",
       "      <td>2023-08-24 03:57:47</td>\n",
       "      <td>Florianopólis</td>\n",
       "      <td>Barbearia</td>\n",
       "      <td>Neutro</td>\n",
       "      <td>Remoto</td>\n",
       "      <td>21</td>\n",
       "      <td>5738.52</td>\n",
       "    </tr>\n",
       "  </tbody>\n",
       "</table>\n",
       "<p>5000 rows × 7 columns</p>\n",
       "</div>"
      ],
      "text/plain": [
       "                    data          cidade         emprego qualidade  \\\n",
       "0    2024-02-14 14:49:17          Recife       Barbearia       Bom   \n",
       "1    2025-11-02 23:33:11   Florianopólis        Hospital    Neutro   \n",
       "2    2025-05-12 05:00:19       São Paulo     Restaurante   Péssimo   \n",
       "3    2023-11-18 01:44:31  Belo Horizonte       Indústria       Bom   \n",
       "4    2025-01-28 10:51:41    Porto Alegre  Loja de roupas      Ruim   \n",
       "...                  ...             ...             ...       ...   \n",
       "4995 2024-08-03 02:19:55          Recife        Hospital    Neutro   \n",
       "4996 2024-12-20 07:48:18  Rio de Janeiro       Indústria   Péssimo   \n",
       "4997 2025-09-12 14:57:14       São Paulo       Barbearia     Ótimo   \n",
       "4998 2023-11-02 19:29:33        Curitiba        Hospital    Neutro   \n",
       "4999 2023-08-24 03:57:47   Florianopólis       Barbearia    Neutro   \n",
       "\n",
       "            tipo  idade  salario  \n",
       "0     Presencial     18  5932.62  \n",
       "1     Presencial     18  2998.87  \n",
       "2         Remoto     20  6732.62  \n",
       "3         Remoto     18  7330.93  \n",
       "4     Presencial     21  6320.45  \n",
       "...          ...    ...      ...  \n",
       "4995  Presencial     18  4611.56  \n",
       "4996  Presencial     19  4621.98  \n",
       "4997  Presencial     19  6628.50  \n",
       "4998     Hibrído     18  7820.14  \n",
       "4999      Remoto     21  5738.52  \n",
       "\n",
       "[5000 rows x 7 columns]"
      ]
     },
     "metadata": {},
     "output_type": "display_data"
    }
   ],
   "source": [
    "quantidade = 5_000\n",
    "\n",
    "lista_cidades = [\"Florianopólis\", \"Recife\", \"Garanhuns\", \"Rio de Janeiro\", \"São Paulo\", \"Curitiba\", \"Porto Alegre\", \"Belo Horizonte\"]\n",
    "mapa_cidade = dict(enumerate([lista_cidades[random.randint(0, len(lista_cidades) - 1)] for _ in range(quantidade)]))\n",
    "\n",
    "lista_emprego = [\"Restaurante\", \"Mercado\", \"Loja de roupas\", \"Indústria\", \"Barbearia\", \"Hospital\"]\n",
    "mapa_emprego = dict(enumerate([lista_emprego[random.randint(0, len(lista_emprego) - 1)] for _ in range(quantidade)]))\n",
    "\n",
    "lista_qualidade = [\"Péssimo\", \"Ruim\", \"Neutro\", \"Bom\", \"Ótimo\"]\n",
    "mapa_qualidade = dict(enumerate([lista_qualidade[random.randint(0, len(lista_qualidade) - 1)] for _ in range(quantidade)]))\n",
    "\n",
    "lista_tipo_emprego = [\"Presencial\", \"Remoto\", \"Hibrído\"]\n",
    "mapa_tipo_emprego = dict(enumerate([lista_tipo_emprego[random.randint(0, len(lista_tipo_emprego) - 1)] for _ in range(quantidade)]))\n",
    "\n",
    "lista_idade = [random.randint(18, 21) for _ in range(quantidade)]\n",
    "mapa_idade = dict(enumerate(lista_idade))\n",
    "\n",
    "ano_minimo = 2023\n",
    "ano_maximo = 2025\n",
    "lista_data = [datetime(random.randint(ano_minimo, ano_maximo), random.randint(1, 12), random.randint(1, 28), random.randint(0, 23), random.randint(0, 59), random.randint(0, 59)) for _ in range(quantidade)]\n",
    "mapa_data = dict(enumerate(lista_data))\n",
    "\n",
    "media = 6000\n",
    "desvio_padrao = 1250\n",
    "casas_decimais = 2\n",
    "lista_salario = [float(np.round(a = np.random.standard_normal(1) * desvio_padrao + media, decimals = casas_decimais)[0]) for _ in range(quantidade)]\n",
    "mapa_salario = dict(enumerate(lista_salario))\n",
    "\n",
    "dados = {\n",
    "    \"data\": mapa_data.values(),\n",
    "    \"cidade\": mapa_cidade.values(),\n",
    "    \"emprego\": mapa_emprego.values(),\n",
    "    \"qualidade\": mapa_qualidade.values(),\n",
    "    \"tipo\": mapa_tipo_emprego.values(),\n",
    "    \"idade\": mapa_idade.values(),\n",
    "    \"salario\": mapa_salario.values(),\n",
    "}\n",
    "\n",
    "df = pd.DataFrame(data = dados)\n",
    "\n",
    "display(df)"
   ]
  },
  {
   "cell_type": "code",
   "execution_count": 159,
   "metadata": {},
   "outputs": [
    {
     "data": {
      "text/html": [
       "<div>\n",
       "<style scoped>\n",
       "    .dataframe tbody tr th:only-of-type {\n",
       "        vertical-align: middle;\n",
       "    }\n",
       "\n",
       "    .dataframe tbody tr th {\n",
       "        vertical-align: top;\n",
       "    }\n",
       "\n",
       "    .dataframe thead th {\n",
       "        text-align: right;\n",
       "    }\n",
       "</style>\n",
       "<table border=\"1\" class=\"dataframe\">\n",
       "  <thead>\n",
       "    <tr style=\"text-align: right;\">\n",
       "      <th></th>\n",
       "      <th>data</th>\n",
       "      <th>cidade</th>\n",
       "      <th>emprego</th>\n",
       "      <th>qualidade</th>\n",
       "      <th>tipo</th>\n",
       "      <th>idade</th>\n",
       "      <th>salario</th>\n",
       "      <th>salario_posterior</th>\n",
       "    </tr>\n",
       "  </thead>\n",
       "  <tbody>\n",
       "    <tr>\n",
       "      <th>0</th>\n",
       "      <td>2024-02-14 14:49:17</td>\n",
       "      <td>Recife</td>\n",
       "      <td>Barbearia</td>\n",
       "      <td>Bom</td>\n",
       "      <td>Presencial</td>\n",
       "      <td>18</td>\n",
       "      <td>5932.62</td>\n",
       "      <td>2998.87</td>\n",
       "    </tr>\n",
       "    <tr>\n",
       "      <th>1</th>\n",
       "      <td>2025-11-02 23:33:11</td>\n",
       "      <td>Florianopólis</td>\n",
       "      <td>Hospital</td>\n",
       "      <td>Neutro</td>\n",
       "      <td>Presencial</td>\n",
       "      <td>18</td>\n",
       "      <td>2998.87</td>\n",
       "      <td>6732.62</td>\n",
       "    </tr>\n",
       "    <tr>\n",
       "      <th>2</th>\n",
       "      <td>2025-05-12 05:00:19</td>\n",
       "      <td>São Paulo</td>\n",
       "      <td>Restaurante</td>\n",
       "      <td>Péssimo</td>\n",
       "      <td>Remoto</td>\n",
       "      <td>20</td>\n",
       "      <td>6732.62</td>\n",
       "      <td>7330.93</td>\n",
       "    </tr>\n",
       "    <tr>\n",
       "      <th>3</th>\n",
       "      <td>2023-11-18 01:44:31</td>\n",
       "      <td>Belo Horizonte</td>\n",
       "      <td>Indústria</td>\n",
       "      <td>Bom</td>\n",
       "      <td>Remoto</td>\n",
       "      <td>18</td>\n",
       "      <td>7330.93</td>\n",
       "      <td>6320.45</td>\n",
       "    </tr>\n",
       "    <tr>\n",
       "      <th>4</th>\n",
       "      <td>2025-01-28 10:51:41</td>\n",
       "      <td>Porto Alegre</td>\n",
       "      <td>Loja de roupas</td>\n",
       "      <td>Ruim</td>\n",
       "      <td>Presencial</td>\n",
       "      <td>21</td>\n",
       "      <td>6320.45</td>\n",
       "      <td>6424.35</td>\n",
       "    </tr>\n",
       "    <tr>\n",
       "      <th>...</th>\n",
       "      <td>...</td>\n",
       "      <td>...</td>\n",
       "      <td>...</td>\n",
       "      <td>...</td>\n",
       "      <td>...</td>\n",
       "      <td>...</td>\n",
       "      <td>...</td>\n",
       "      <td>...</td>\n",
       "    </tr>\n",
       "    <tr>\n",
       "      <th>4995</th>\n",
       "      <td>2024-08-03 02:19:55</td>\n",
       "      <td>Recife</td>\n",
       "      <td>Hospital</td>\n",
       "      <td>Neutro</td>\n",
       "      <td>Presencial</td>\n",
       "      <td>18</td>\n",
       "      <td>4611.56</td>\n",
       "      <td>4621.98</td>\n",
       "    </tr>\n",
       "    <tr>\n",
       "      <th>4996</th>\n",
       "      <td>2024-12-20 07:48:18</td>\n",
       "      <td>Rio de Janeiro</td>\n",
       "      <td>Indústria</td>\n",
       "      <td>Péssimo</td>\n",
       "      <td>Presencial</td>\n",
       "      <td>19</td>\n",
       "      <td>4621.98</td>\n",
       "      <td>6628.50</td>\n",
       "    </tr>\n",
       "    <tr>\n",
       "      <th>4997</th>\n",
       "      <td>2025-09-12 14:57:14</td>\n",
       "      <td>São Paulo</td>\n",
       "      <td>Barbearia</td>\n",
       "      <td>Ótimo</td>\n",
       "      <td>Presencial</td>\n",
       "      <td>19</td>\n",
       "      <td>6628.50</td>\n",
       "      <td>7820.14</td>\n",
       "    </tr>\n",
       "    <tr>\n",
       "      <th>4998</th>\n",
       "      <td>2023-11-02 19:29:33</td>\n",
       "      <td>Curitiba</td>\n",
       "      <td>Hospital</td>\n",
       "      <td>Neutro</td>\n",
       "      <td>Hibrído</td>\n",
       "      <td>18</td>\n",
       "      <td>7820.14</td>\n",
       "      <td>5738.52</td>\n",
       "    </tr>\n",
       "    <tr>\n",
       "      <th>4999</th>\n",
       "      <td>2023-08-24 03:57:47</td>\n",
       "      <td>Florianopólis</td>\n",
       "      <td>Barbearia</td>\n",
       "      <td>Neutro</td>\n",
       "      <td>Remoto</td>\n",
       "      <td>21</td>\n",
       "      <td>5738.52</td>\n",
       "      <td>NaN</td>\n",
       "    </tr>\n",
       "  </tbody>\n",
       "</table>\n",
       "<p>5000 rows × 8 columns</p>\n",
       "</div>"
      ],
      "text/plain": [
       "                    data          cidade         emprego qualidade  \\\n",
       "0    2024-02-14 14:49:17          Recife       Barbearia       Bom   \n",
       "1    2025-11-02 23:33:11   Florianopólis        Hospital    Neutro   \n",
       "2    2025-05-12 05:00:19       São Paulo     Restaurante   Péssimo   \n",
       "3    2023-11-18 01:44:31  Belo Horizonte       Indústria       Bom   \n",
       "4    2025-01-28 10:51:41    Porto Alegre  Loja de roupas      Ruim   \n",
       "...                  ...             ...             ...       ...   \n",
       "4995 2024-08-03 02:19:55          Recife        Hospital    Neutro   \n",
       "4996 2024-12-20 07:48:18  Rio de Janeiro       Indústria   Péssimo   \n",
       "4997 2025-09-12 14:57:14       São Paulo       Barbearia     Ótimo   \n",
       "4998 2023-11-02 19:29:33        Curitiba        Hospital    Neutro   \n",
       "4999 2023-08-24 03:57:47   Florianopólis       Barbearia    Neutro   \n",
       "\n",
       "            tipo  idade  salario  salario_posterior  \n",
       "0     Presencial     18  5932.62            2998.87  \n",
       "1     Presencial     18  2998.87            6732.62  \n",
       "2         Remoto     20  6732.62            7330.93  \n",
       "3         Remoto     18  7330.93            6320.45  \n",
       "4     Presencial     21  6320.45            6424.35  \n",
       "...          ...    ...      ...                ...  \n",
       "4995  Presencial     18  4611.56            4621.98  \n",
       "4996  Presencial     19  4621.98            6628.50  \n",
       "4997  Presencial     19  6628.50            7820.14  \n",
       "4998     Hibrído     18  7820.14            5738.52  \n",
       "4999      Remoto     21  5738.52                NaN  \n",
       "\n",
       "[5000 rows x 8 columns]"
      ]
     },
     "execution_count": 159,
     "metadata": {},
     "output_type": "execute_result"
    }
   ],
   "source": [
    "df.loc[:, \"salario_posterior\"] = df.salario.shift(periods = -1)\n",
    "df"
   ]
  },
  {
   "cell_type": "code",
   "execution_count": null,
   "metadata": {},
   "outputs": [],
   "source": []
  },
  {
   "cell_type": "code",
   "execution_count": null,
   "metadata": {},
   "outputs": [],
   "source": []
  },
  {
   "cell_type": "code",
   "execution_count": null,
   "metadata": {},
   "outputs": [],
   "source": []
  },
  {
   "cell_type": "code",
   "execution_count": null,
   "metadata": {},
   "outputs": [],
   "source": []
  },
  {
   "cell_type": "code",
   "execution_count": 128,
   "metadata": {},
   "outputs": [
    {
     "data": {
      "image/png": "[encoded data removed]",
      "text/plain": [
       "<Figure size 640x480 with 1 Axes>"
      ]
     },
     "metadata": {},
     "output_type": "display_data"
    }
   ],
   "source": [
    "rng = np.random.default_rng(seed = None)\n",
    "\n",
    "amostras = 200\n",
    "\n",
    "x = rng.uniform(low = 0, high = 25, size = amostras)\n",
    "y = 10 * (1 - np.exp(-0.2 * x)) + (rng.standard_normal(size = amostras) * 1.5)\n",
    "y = np.clip(a = y, a_min = 0, a_max = 10)\n",
    "\n",
    "coef = np.polyfit(x = x, y = y, deg = 6)\n",
    "polinomio = np.poly1d(coef)\n",
    "\n",
    "plt.scatter(x, y)\n",
    "\n",
    "# plt.plot(np.sort(x), np.sort(polinomio(x)), color = \"red\", linestyle = \"--\", label = \"Estimativa\")\n",
    "plt.plot(np.linspace(0, 25, 500), polinomio(np.linspace(0, 25, 500)), color = \"red\", linestyle = \"--\", label = \"Estimativa\")\n",
    "\n",
    "plt.axhline(y = 7, color = \"g\", alpha = 0.5)\n",
    "\n",
    "plt.grid(alpha = 0.2)\n",
    "\n",
    "plt.yticks(ticks = np.arange(0, 12, 1))\n",
    "plt.xticks(ticks = np.arange(0, 25.1, 2))\n",
    "\n",
    "plt.ylim(0, 10.5)\n",
    "plt.xlim(left = 0)\n",
    "\n",
    "plt.ylabel(ylabel = \"Nota no exame\", fontsize = 12, fontweight = \"bold\")\n",
    "plt.xlabel(xlabel = \"Tempo de estudo (Horas)\", fontsize = 12, fontweight = \"bold\")\n",
    "\n",
    "plt.legend(loc = \"lower right\")\n",
    "\n",
    "plt.show()"
   ]
  },
  {
   "cell_type": "code",
   "execution_count": null,
   "metadata": {},
   "outputs": [],
   "source": []
  },
  {
   "cell_type": "code",
   "execution_count": null,
   "metadata": {},
   "outputs": [],
   "source": []
  },
  {
   "cell_type": "code",
   "execution_count": null,
   "metadata": {},
   "outputs": [],
   "source": []
  },
  {
   "cell_type": "code",
   "execution_count": null,
   "metadata": {},
   "outputs": [],
   "source": []
  },
  {
   "cell_type": "code",
   "execution_count": null,
   "metadata": {},
   "outputs": [],
   "source": []
  },
  {
   "cell_type": "code",
   "execution_count": null,
   "metadata": {},
   "outputs": [],
   "source": []
  },
  {
   "cell_type": "code",
   "execution_count": null,
   "metadata": {},
   "outputs": [],
   "source": []
  },
  {
   "cell_type": "markdown",
   "metadata": {},
   "source": [
    "___"
   ]
  },
  {
   "cell_type": "markdown",
   "metadata": {},
   "source": [
    "$$ \\Large\n",
    "    \\sum_{\\substack{\n",
    "        0 \\ \\ < \\ \\ i \\ \\ < \\ \\ n \\\\ \n",
    "        1 \\ \\ < \\ \\ j \\ \\ < \\ \\ m}}^{\\substack{x \\ \\ < \\ \\ \\infty \\\\ y \\ \\ \\ge \\ \\ 0}} P(i,j) =\n",
    "    \\sum_{\n",
    "        \\begin{subarray}{c} \n",
    "            i \\ \\ \\in \\ \\ I \\\\\n",
    "            1 \\ \\ < \\ \\ j \\ \\ < \\ \\ m\n",
    "        \\end{subarray}}^{\\begin{subarray}{c} \n",
    "            i \\ \\ \\in \\ \\ I \\\\\n",
    "            1 \\ \\ < \\ \\ j \\ \\ < \\ \\ m\n",
    "        \\end{subarray}} Q(i,j)\n",
    "$$"
   ]
  },
  {
   "cell_type": "markdown",
   "metadata": {},
   "source": [
    "$$\n",
    "\n",
    "\\mathop{\\mathrm{corr}}(X,Y)=\n",
    "\\frac{\\displaystyle\n",
    "\\sum_{i=1}^n(x_i-\\overline x)\n",
    "(y_i-\\overline y)}\n",
    "{\\displaystyle\\biggl[\n",
    "\\sum_{i=1}^n(x_i-\\overline x)^2\n",
    "\\sum_{i=1}^n(y_i-\\overline y)^2\n",
    "\\biggr]^{1/2}}\n",
    "\n",
    "$$"
   ]
  }
 ],
 "metadata": {
  "kernelspec": {
   "display_name": "r_env",
   "language": "python",
   "name": "python3"
  },
  "language_info": {
   "codemirror_mode": {
    "name": "ipython",
    "version": 3
   },
   "file_extension": ".py",
   "mimetype": "text/x-python",
   "name": "python",
   "nbconvert_exporter": "python",
   "pygments_lexer": "ipython3",
   "version": "3.12.4"
  }
 },
 "nbformat": 4,
 "nbformat_minor": 2
}
