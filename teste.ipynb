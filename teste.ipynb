{
 "cells": [
  {
   "cell_type": "code",
   "execution_count": 7,
   "metadata": {},
   "outputs": [
    {
     "name": "stdout",
     "output_type": "stream",
     "text": [
      "8\n"
     ]
    }
   ],
   "source": [
    "from functools import reduce\n",
    "\n",
    "# Exemplo 1: Função lambda simples\n",
    "# Uma função lambda que soma dois números\n",
    "soma = lambda x, y: x + y\n",
    "print(soma(5, 3))  # Saída: 8"
   ]
  },
  {
   "cell_type": "markdown",
   "metadata": {},
   "source": [
    "___"
   ]
  },
  {
   "cell_type": "code",
   "execution_count": 5,
   "metadata": {},
   "outputs": [
    {
     "name": "stdout",
     "output_type": "stream",
     "text": [
      "[1, 4, 9, 16, 25]\n"
     ]
    }
   ],
   "source": [
    "# Exemplo 2: Função lambda com map\n",
    "# Usando lambda para elevar ao quadrado cada elemento de uma lista\n",
    "lista = [1, 2, 3, 4, 5]\n",
    "quadrados = list(map(lambda x: x ** 2, lista))\n",
    "print(quadrados)  # Saída: [1, 4, 9, 16, 25]"
   ]
  },
  {
   "cell_type": "code",
   "execution_count": 6,
   "metadata": {},
   "outputs": [
    {
     "name": "stdout",
     "output_type": "stream",
     "text": [
      "[2, 4]\n"
     ]
    }
   ],
   "source": [
    "# Exemplo 3: Função lambda com filter\n",
    "# Usando lambda para filtrar números pares de uma lista\n",
    "pares = list(filter(lambda x: x % 2 == 0, lista))\n",
    "print(pares)  # Saída: [2, 4]"
   ]
  },
  {
   "cell_type": "code",
   "execution_count": 11,
   "metadata": {},
   "outputs": [
    {
     "name": "stdout",
     "output_type": "stream",
     "text": [
      "120\n"
     ]
    }
   ],
   "source": [
    "# Exemplo 4: Função lambda com reduce\n",
    "# Usando lambda para calcular o produto de todos os elementos de uma lista\n",
    "produto = reduce(lambda x, y: x * y, lista)\n",
    "print(produto)  # Saída: 120"
   ]
  },
  {
   "cell_type": "code",
   "execution_count": null,
   "metadata": {},
   "outputs": [],
   "source": [
    "# Exemplo 5: Função lambda com sorted\n",
    "# Usando lambda para ordenar uma lista de tuplas pelo segundo elemento\n",
    "tuplas = [(1, 2), (3, 1), (5, 4), (2, 3)]\n",
    "ordenado = sorted(tuplas, key=lambda x: x[1])\n",
    "print(ordenado)  # Saída: [(3, 1), (1, 2), (2, 3), (5, 4)]\n",
    "\n",
    "# Exemplo 6: Função lambda com zip\n",
    "# Usando lambda para somar elementos de duas listas\n",
    "lista1 = [1, 2, 3]\n",
    "lista2 = [4, 5, 6]\n",
    "soma_listas = list(map(lambda x, y: x + y, lista1, lista2))\n",
    "print(soma_listas)  # Saída: [5, 7, 9]\n",
    "\n",
    "# Exemplo 7: Função lambda com list comprehension\n",
    "# Usando lambda dentro de uma list comprehension para transformar elementos\n",
    "transformada = [(lambda x: x * 2)(x) for x in lista]\n",
    "print(transformada)  # Saída: [2, 4, 6, 8, 10]\n",
    "\n",
    "# Exemplo 8: Função lambda com dicionários\n",
    "# Usando lambda para ordenar um dicionário por seus valores\n",
    "dicionario = {'a': 3, 'b': 1, 'c': 2}\n",
    "ordenado_por_valor = dict(sorted(dicionario.items(), key=lambda item: item[1]))\n",
    "print(ordenado_por_valor)  # Saída: {'b': 1, 'c': 2, 'a': 3}"
   ]
  },
  {
   "cell_type": "markdown",
   "metadata": {},
   "source": [
    "___"
   ]
  },
  {
   "cell_type": "code",
   "execution_count": null,
   "metadata": {},
   "outputs": [],
   "source": [
    "# Criando um conjunto\n",
    "conjunto = {5, 6, 7}\n",
    "print(conjunto)  # Saída: {5, 6, 7}\n",
    "\n",
    "# Adicionando elementos a um conjunto\n",
    "conjunto.add(8)\n",
    "print(conjunto)  # Saída: {5, 6, 7, 8}\n",
    "\n",
    "# Removendo elementos de um conjunto\n",
    "conjunto.remove(6)\n",
    "print(conjunto)  # Saída: {5, 7, 8}\n",
    "\n",
    "# Verificando se um elemento está no conjunto\n",
    "print(5 in conjunto)  # Saída: True\n",
    "print(6 in conjunto)  # Saída: False\n",
    "\n",
    "# União de conjuntos\n",
    "conjunto2 = {1, 2, 3}\n",
    "uniao = conjunto.union(conjunto2)\n",
    "print(uniao)  # Saída: {1, 2, 3, 5, 7, 8}\n",
    "\n",
    "# Interseção de conjuntos\n",
    "intersecao = conjunto.intersection(conjunto2)\n",
    "print(intersecao)  # Saída: set()\n",
    "\n",
    "# Diferença de conjuntos\n",
    "diferenca = conjunto.difference(conjunto2)\n",
    "print(diferenca)  # Saída: {5, 7, 8}\n",
    "\n",
    "# Diferença simétrica de conjuntos\n",
    "diferenca_simetrica = conjunto.symmetric_difference(conjunto2)\n",
    "print(diferenca_simetrica)  # Saída: {1, 2, 3, 5, 7, 8}\n",
    "\n",
    "# Subconjunto e Superconjunto\n",
    "conjunto3 = {5, 7}\n",
    "print(conjunto3.issubset(conjunto))  # Saída: True\n",
    "print(conjunto.issuperset(conjunto3))  # Saída: True\n",
    "\n",
    "# Conjuntos imutáveis (frozenset)\n",
    "conjunto_imutavel = frozenset(conjunto)\n",
    "print(conjunto_imutavel)  # Saída: frozenset({8, 5, 7})\n",
    "\n",
    "# Convertendo lista para conjunto (removendo duplicatas)\n",
    "lista_2 = ['elemento', 6, 1, 2, 5, 6, 'aaa']\n",
    "conjunto_lista = set(lista_2)\n",
    "print(conjunto_lista)  # Saída: {1, 2, 5, 6, 'elemento', 'aaa'}\n",
    "\n",
    "# Convertendo tupla para conjunto\n",
    "tupla = (1, 2)\n",
    "conjunto_tupla = set(tupla)\n",
    "print(conjunto_tupla)  # Saída: {1, 2}\n",
    "\n",
    "conjunto = {'x', 'y', 'z', 'z'}\n",
    "len(conjunto)"
   ]
  },
  {
   "cell_type": "markdown",
   "metadata": {},
   "source": [
    "___"
   ]
  },
  {
   "cell_type": "code",
   "execution_count": 71,
   "metadata": {},
   "outputs": [],
   "source": [
    "lista = [\"oi\", 2, \"tudo\", 19, \"bem\", 5.7, True]"
   ]
  },
  {
   "cell_type": "code",
   "execution_count": 72,
   "metadata": {},
   "outputs": [
    {
     "data": {
      "text/plain": [
       "['oi', 2, 'tudo', 19, 'bem', 5.7]"
      ]
     },
     "execution_count": 72,
     "metadata": {},
     "output_type": "execute_result"
    }
   ],
   "source": [
    "lista[0:-1:]"
   ]
  },
  {
   "cell_type": "code",
   "execution_count": null,
   "metadata": {},
   "outputs": [],
   "source": []
  },
  {
   "cell_type": "code",
   "execution_count": null,
   "metadata": {},
   "outputs": [],
   "source": []
  }
 ],
 "metadata": {
  "kernelspec": {
   "display_name": "base",
   "language": "python",
   "name": "python3"
  },
  "language_info": {
   "codemirror_mode": {
    "name": "ipython",
    "version": 3
   },
   "file_extension": ".py",
   "mimetype": "text/x-python",
   "name": "python",
   "nbconvert_exporter": "python",
   "pygments_lexer": "ipython3",
   "version": "3.11.7"
  }
 },
 "nbformat": 4,
 "nbformat_minor": 2
}
