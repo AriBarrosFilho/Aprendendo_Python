{
 "cells": [
  {
   "cell_type": "code",
   "execution_count": 3,
   "metadata": {},
   "outputs": [
    {
     "name": "stdout",
     "output_type": "stream",
     "text": [
      "[(1, 'a'), (2, 'b'), (3, 'c')]\n"
     ]
    }
   ],
   "source": [
    "# Exemplo 1: Unindo duas listas\n",
    "lista1 = [1, 2, 3]\n",
    "lista2 = ['a', 'b', 'c']\n",
    "zipado = zip(lista1, lista2)\n",
    "print(list(zipado))  # [(1, 'a'), (2, 'b'), (3, 'c')]"
   ]
  },
  {
   "cell_type": "code",
   "execution_count": 4,
   "metadata": {},
   "outputs": [
    {
     "name": "stdout",
     "output_type": "stream",
     "text": [
      "[(1, 'a'), (2, 'b')]\n"
     ]
    }
   ],
   "source": [
    "# Exemplo 2: Unindo listas de tamanhos diferentes\n",
    "lista3 = [1, 2, 3, 4]\n",
    "lista4 = ['a', 'b']\n",
    "zipado_dif = zip(lista3, lista4)\n",
    "print(list(zipado_dif))  # [(1, 'a'), (2, 'b')]"
   ]
  },
  {
   "cell_type": "code",
   "execution_count": 5,
   "metadata": {},
   "outputs": [
    {
     "name": "stdout",
     "output_type": "stream",
     "text": [
      "(1, 2, 3)\n",
      "('a', 'b', 'c')\n"
     ]
    }
   ],
   "source": [
    "# Exemplo 3: Descompactando com zip\n",
    "zipado = zip(lista1, lista2)\n",
    "lista1_unzip, lista2_unzip = zip(*zipado)\n",
    "print(lista1_unzip)  # (1, 2, 3)\n",
    "print(lista2_unzip)  # ('a', 'b', 'c')"
   ]
  },
  {
   "cell_type": "code",
   "execution_count": 6,
   "metadata": {},
   "outputs": [
    {
     "name": "stdout",
     "output_type": "stream",
     "text": [
      "Número: 1, Letra: a\n",
      "Número: 2, Letra: b\n",
      "Número: 3, Letra: c\n"
     ]
    }
   ],
   "source": [
    "# Exemplo 4: Iterando sobre múltiplas listas simultaneamente\n",
    "for num, letra in zip(lista1, lista2):\n",
    "    print(f'Número: {num}, Letra: {letra}')\n",
    "# Número: 1, Letra: a\n",
    "# Número: 2, Letra: b\n",
    "# Número: 3, Letra: c"
   ]
  },
  {
   "cell_type": "code",
   "execution_count": 7,
   "metadata": {},
   "outputs": [
    {
     "name": "stdout",
     "output_type": "stream",
     "text": [
      "[(('a', 1), ('c', 3)), (('b', 2), ('d', 4))]\n"
     ]
    }
   ],
   "source": [
    "# Exemplo 5: Usando zip com dicionários\n",
    "dict1 = {'a': 1, 'b': 2}\n",
    "dict2 = {'c': 3, 'd': 4}\n",
    "zip_dict = zip(dict1.items(), dict2.items())\n",
    "print(list(zip_dict))  # [(('a', 1), ('c', 3)), (('b', 2), ('d', 4))]"
   ]
  },
  {
   "cell_type": "code",
   "execution_count": 9,
   "metadata": {},
   "outputs": [
    {
     "name": "stdout",
     "output_type": "stream",
     "text": [
      "[(1, 10, 'z'), (2, 20, 'x'), (3, 30, 'y')]\n"
     ]
    }
   ],
   "source": [
    "# Exemplo 6: Usando zip com diferentes tipos de iteráveis\n",
    "lista1 = [1, 2, 3]\n",
    "tupla = (10, 20, 30)\n",
    "conjunto = {'x', 'y', 'z'}\n",
    "zip_mixed = zip(lista1, tupla, conjunto)\n",
    "print(list(zip_mixed))  # [(1, 10, 'x'), (2, 20, 'y'), (3, 30, 'z')]"
   ]
  },
  {
   "cell_type": "markdown",
   "metadata": {},
   "source": [
    "___"
   ]
  },
  {
   "cell_type": "code",
   "execution_count": 13,
   "metadata": {},
   "outputs": [
    {
     "data": {
      "text/plain": [
       "3"
      ]
     },
     "execution_count": 13,
     "metadata": {},
     "output_type": "execute_result"
    }
   ],
   "source": [
    "conjunto = {'x', 'y', 'z', 'z'}\n",
    "len(conjunto)"
   ]
  },
  {
   "cell_type": "markdown",
   "metadata": {},
   "source": [
    "___"
   ]
  },
  {
   "cell_type": "code",
   "execution_count": 7,
   "metadata": {},
   "outputs": [
    {
     "name": "stdout",
     "output_type": "stream",
     "text": [
      "8\n"
     ]
    }
   ],
   "source": [
    "from functools import reduce\n",
    "\n",
    "# Exemplo 1: Função lambda simples\n",
    "# Uma função lambda que soma dois números\n",
    "soma = lambda x, y: x + y\n",
    "print(soma(5, 3))  # Saída: 8"
   ]
  },
  {
   "cell_type": "code",
   "execution_count": 5,
   "metadata": {},
   "outputs": [
    {
     "name": "stdout",
     "output_type": "stream",
     "text": [
      "[1, 4, 9, 16, 25]\n"
     ]
    }
   ],
   "source": [
    "# Exemplo 2: Função lambda com map\n",
    "# Usando lambda para elevar ao quadrado cada elemento de uma lista\n",
    "lista = [1, 2, 3, 4, 5]\n",
    "quadrados = list(map(lambda x: x ** 2, lista))\n",
    "print(quadrados)  # Saída: [1, 4, 9, 16, 25]"
   ]
  },
  {
   "cell_type": "code",
   "execution_count": 6,
   "metadata": {},
   "outputs": [
    {
     "name": "stdout",
     "output_type": "stream",
     "text": [
      "[2, 4]\n"
     ]
    }
   ],
   "source": [
    "# Exemplo 3: Função lambda com filter\n",
    "# Usando lambda para filtrar números pares de uma lista\n",
    "pares = list(filter(lambda x: x % 2 == 0, lista))\n",
    "print(pares)  # Saída: [2, 4]"
   ]
  },
  {
   "cell_type": "code",
   "execution_count": 11,
   "metadata": {},
   "outputs": [
    {
     "name": "stdout",
     "output_type": "stream",
     "text": [
      "120\n"
     ]
    }
   ],
   "source": [
    "# Exemplo 4: Função lambda com reduce\n",
    "# Usando lambda para calcular o produto de todos os elementos de uma lista\n",
    "produto = reduce(lambda x, y: x * y, lista)\n",
    "print(produto)  # Saída: 120"
   ]
  },
  {
   "cell_type": "code",
   "execution_count": null,
   "metadata": {},
   "outputs": [],
   "source": [
    "# Exemplo 5: Função lambda com sorted\n",
    "# Usando lambda para ordenar uma lista de tuplas pelo segundo elemento\n",
    "tuplas = [(1, 2), (3, 1), (5, 4), (2, 3)]\n",
    "ordenado = sorted(tuplas, key=lambda x: x[1])\n",
    "print(ordenado)  # Saída: [(3, 1), (1, 2), (2, 3), (5, 4)]\n",
    "\n",
    "# Exemplo 6: Função lambda com zip\n",
    "# Usando lambda para somar elementos de duas listas\n",
    "lista1 = [1, 2, 3]\n",
    "lista2 = [4, 5, 6]\n",
    "soma_listas = list(map(lambda x, y: x + y, lista1, lista2))\n",
    "print(soma_listas)  # Saída: [5, 7, 9]\n",
    "\n",
    "# Exemplo 7: Função lambda com list comprehension\n",
    "# Usando lambda dentro de uma list comprehension para transformar elementos\n",
    "transformada = [(lambda x: x * 2)(x) for x in lista]\n",
    "print(transformada)  # Saída: [2, 4, 6, 8, 10]\n",
    "\n",
    "# Exemplo 8: Função lambda com dicionários\n",
    "# Usando lambda para ordenar um dicionário por seus valores\n",
    "dicionario = {'a': 3, 'b': 1, 'c': 2}\n",
    "ordenado_por_valor = dict(sorted(dicionario.items(), key=lambda item: item[1]))\n",
    "print(ordenado_por_valor)  # Saída: {'b': 1, 'c': 2, 'a': 3}"
   ]
  },
  {
   "cell_type": "markdown",
   "metadata": {},
   "source": [
    "___"
   ]
  },
  {
   "cell_type": "code",
   "execution_count": null,
   "metadata": {},
   "outputs": [],
   "source": []
  },
  {
   "cell_type": "code",
   "execution_count": 1,
   "metadata": {},
   "outputs": [],
   "source": [
    "import numpy as np"
   ]
  },
  {
   "cell_type": "code",
   "execution_count": 188,
   "metadata": {},
   "outputs": [
    {
     "name": "stdout",
     "output_type": "stream",
     "text": [
      "[81  8 18 23 18 80 87 58  3  9 33 43 62 48 26 16 69 74  3 11 45 39 89 52\n",
      " 42 43 67 59 17 74 76 96 79 28 32 65 65 70 87 29 94  0  7 98 95 30 14 31\n",
      "  4 90 66 59 24 47 19 78 47  3 25 71 52 37 25  9 61 66 52 94 93 20 61 63\n",
      " 25 30 49 74 29 72 66 22 39 83 85 66  0 68 22 82 92 43 96 76 32 88 38 10\n",
      " 59 85 66 39] \n",
      "\n",
      "Mediana:  50.5 \n",
      "\n",
      "2.94% dos elementos são menores ou iguais à:  2 \n",
      "\n",
      "Desvio padrão:  28.371244244833534 \n",
      "\n",
      "Variância:  804.9274999999999\n"
     ]
    }
   ],
   "source": [
    "rng = np.random.default_rng(seed = 3)\n",
    "\n",
    "aleatorio = rng.integers(low = 0, high = 101, size = 100)\n",
    "print(aleatorio, '\\n')\n",
    "\n",
    "mediana = np.median(a = aleatorio, axis = None)\n",
    "print('Mediana: ', mediana, '\\n')\n",
    "\n",
    "valor = 2\n",
    "percentil = np.percentile(a = aleatorio, q = valor, axis = None)\n",
    "print(f'{percentil}% dos elementos são menores ou iguais à: ', valor, '\\n')\n",
    "\n",
    "desvio_padrao = np.std(aleatorio)\n",
    "print('Desvio padrão: ', desvio_padrao, '\\n')\n",
    "\n",
    "variancia = np.var(aleatorio)\n",
    "print('Variância: ', variancia)"
   ]
  },
  {
   "cell_type": "code",
   "execution_count": 185,
   "metadata": {},
   "outputs": [
    {
     "data": {
      "text/plain": [
       "3.0"
      ]
     },
     "execution_count": 185,
     "metadata": {},
     "output_type": "execute_result"
    }
   ],
   "source": [
    "np.percentile(a = aleatorio, q = 3)"
   ]
  },
  {
   "cell_type": "code",
   "execution_count": 189,
   "metadata": {},
   "outputs": [
    {
     "data": {
      "text/plain": [
       "array([ 5,  8,  6,  2,  4,  8,  5,  6,  2,  3,  4,  7,  2,  3, 10,  7,  1,\n",
       "        6,  4,  6])"
      ]
     },
     "execution_count": 189,
     "metadata": {},
     "output_type": "execute_result"
    }
   ],
   "source": [
    "vetor = np.random.randint(1, 11, 20)\n",
    "vetor"
   ]
  },
  {
   "cell_type": "code",
   "execution_count": 192,
   "metadata": {},
   "outputs": [
    {
     "data": {
      "text/plain": [
       "array([[ 5,  8,  6,  2,  4,  8,  5,  6,  2,  3],\n",
       "       [ 4,  7,  2,  3, 10,  7,  1,  6,  4,  6]])"
      ]
     },
     "execution_count": 192,
     "metadata": {},
     "output_type": "execute_result"
    }
   ],
   "source": [
    "vetor.reshape(2, -1)"
   ]
  },
  {
   "cell_type": "code",
   "execution_count": 193,
   "metadata": {},
   "outputs": [
    {
     "data": {
      "text/plain": [
       "array([[ 5,  8,  6,  2,  4,  8,  5,  6,  2,  3],\n",
       "       [ 4,  7,  2,  3, 10,  7,  1,  6,  4,  6]])"
      ]
     },
     "execution_count": 193,
     "metadata": {},
     "output_type": "execute_result"
    }
   ],
   "source": [
    "np.reshape(a = vetor, newshape = (2, -1))"
   ]
  },
  {
   "cell_type": "code",
   "execution_count": 214,
   "metadata": {},
   "outputs": [
    {
     "data": {
      "text/plain": [
       "array([0., 4., 8.])"
      ]
     },
     "execution_count": 214,
     "metadata": {},
     "output_type": "execute_result"
    }
   ],
   "source": [
    "a = np.linspace(start = 0, stop = 8, num = 3, dtype = np.float64)\n",
    "\n",
    "a"
   ]
  },
  {
   "cell_type": "code",
   "execution_count": 219,
   "metadata": {},
   "outputs": [
    {
     "data": {
      "text/plain": [
       "array([[0, 0, 1, 0, 1],\n",
       "       [1, 0, 0, 0, 1],\n",
       "       [0, 0, 0, 1, 0],\n",
       "       [1, 2, 1, 0, 0],\n",
       "       [0, 0, 1, 1, 0]], dtype=int64)"
      ]
     },
     "execution_count": 219,
     "metadata": {},
     "output_type": "execute_result"
    }
   ],
   "source": [
    "rng = np.random.default_rng(seed = 2)\n",
    "\n",
    "matriz = rng.binomial(p = 0.1, n = 5, size = (5, 5))\n",
    "matriz"
   ]
  },
  {
   "cell_type": "code",
   "execution_count": 222,
   "metadata": {},
   "outputs": [
    {
     "data": {
      "text/plain": [
       "array([[0, 0, 0],\n",
       "       [0, 0, 0],\n",
       "       [0, 0, 0]])"
      ]
     },
     "execution_count": 222,
     "metadata": {},
     "output_type": "execute_result"
    }
   ],
   "source": [
    "np.zeros(shape = (3, 3), dtype = np.int32)"
   ]
  },
  {
   "cell_type": "code",
   "execution_count": 224,
   "metadata": {},
   "outputs": [
    {
     "data": {
      "text/plain": [
       "array([[0., 0., 0., 0., 0.],\n",
       "       [0., 0., 0., 0., 0.],\n",
       "       [0., 0., 0., 0., 0.],\n",
       "       [0., 0., 0., 0., 0.],\n",
       "       [0., 0., 0., 0., 0.]])"
      ]
     },
     "execution_count": 224,
     "metadata": {},
     "output_type": "execute_result"
    }
   ],
   "source": [
    "np.zeros_like(a = matriz, dtype = np.float64)"
   ]
  },
  {
   "cell_type": "code",
   "execution_count": 229,
   "metadata": {},
   "outputs": [
    {
     "data": {
      "text/plain": [
       "array([[1, 0, 0, 0],\n",
       "       [0, 1, 0, 0],\n",
       "       [0, 0, 1, 0],\n",
       "       [0, 0, 0, 1]])"
      ]
     },
     "execution_count": 229,
     "metadata": {},
     "output_type": "execute_result"
    }
   ],
   "source": [
    "np.eye(N = 4, M = 4, k=0, dtype = int)"
   ]
  },
  {
   "cell_type": "code",
   "execution_count": 231,
   "metadata": {},
   "outputs": [
    {
     "data": {
      "text/html": [
       "<div>\n",
       "<style scoped>\n",
       "    .dataframe tbody tr th:only-of-type {\n",
       "        vertical-align: middle;\n",
       "    }\n",
       "\n",
       "    .dataframe tbody tr th {\n",
       "        vertical-align: top;\n",
       "    }\n",
       "\n",
       "    .dataframe thead th {\n",
       "        text-align: right;\n",
       "    }\n",
       "</style>\n",
       "<table border=\"1\" class=\"dataframe\">\n",
       "  <thead>\n",
       "    <tr style=\"text-align: right;\">\n",
       "      <th></th>\n",
       "      <th>a</th>\n",
       "      <th>b</th>\n",
       "      <th>c</th>\n",
       "    </tr>\n",
       "  </thead>\n",
       "  <tbody>\n",
       "    <tr>\n",
       "      <th>0</th>\n",
       "      <td>60</td>\n",
       "      <td>79</td>\n",
       "      <td>49</td>\n",
       "    </tr>\n",
       "    <tr>\n",
       "      <th>1</th>\n",
       "      <td>65</td>\n",
       "      <td>60</td>\n",
       "      <td>90</td>\n",
       "    </tr>\n",
       "    <tr>\n",
       "      <th>2</th>\n",
       "      <td>46</td>\n",
       "      <td>48</td>\n",
       "      <td>45</td>\n",
       "    </tr>\n",
       "    <tr>\n",
       "      <th>3</th>\n",
       "      <td>41</td>\n",
       "      <td>87</td>\n",
       "      <td>62</td>\n",
       "    </tr>\n",
       "    <tr>\n",
       "      <th>4</th>\n",
       "      <td>60</td>\n",
       "      <td>22</td>\n",
       "      <td>8</td>\n",
       "    </tr>\n",
       "    <tr>\n",
       "      <th>5</th>\n",
       "      <td>52</td>\n",
       "      <td>44</td>\n",
       "      <td>83</td>\n",
       "    </tr>\n",
       "  </tbody>\n",
       "</table>\n",
       "</div>"
      ],
      "text/plain": [
       "    a   b   c\n",
       "0  60  79  49\n",
       "1  65  60  90\n",
       "2  46  48  45\n",
       "3  41  87  62\n",
       "4  60  22   8\n",
       "5  52  44  83"
      ]
     },
     "execution_count": 231,
     "metadata": {},
     "output_type": "execute_result"
    }
   ],
   "source": [
    "import pandas as pd\n",
    "\n",
    "dados = {\n",
    "        \"a\": rng.integers(1, 101, 6),\n",
    "        \"b\": rng.integers(1, 101, 6),\n",
    "        \"c\": rng.integers(1, 101, 6),\n",
    "}\n",
    "\n",
    "df = pd.DataFrame(dados)\n",
    "\n",
    "df"
   ]
  },
  {
   "cell_type": "code",
   "execution_count": 233,
   "metadata": {},
   "outputs": [],
   "source": [
    "df.at[2, \"b\"] = 0"
   ]
  },
  {
   "cell_type": "code",
   "execution_count": 234,
   "metadata": {},
   "outputs": [
    {
     "data": {
      "text/html": [
       "<div>\n",
       "<style scoped>\n",
       "    .dataframe tbody tr th:only-of-type {\n",
       "        vertical-align: middle;\n",
       "    }\n",
       "\n",
       "    .dataframe tbody tr th {\n",
       "        vertical-align: top;\n",
       "    }\n",
       "\n",
       "    .dataframe thead th {\n",
       "        text-align: right;\n",
       "    }\n",
       "</style>\n",
       "<table border=\"1\" class=\"dataframe\">\n",
       "  <thead>\n",
       "    <tr style=\"text-align: right;\">\n",
       "      <th></th>\n",
       "      <th>a</th>\n",
       "      <th>b</th>\n",
       "      <th>c</th>\n",
       "    </tr>\n",
       "  </thead>\n",
       "  <tbody>\n",
       "    <tr>\n",
       "      <th>0</th>\n",
       "      <td>60</td>\n",
       "      <td>79</td>\n",
       "      <td>49</td>\n",
       "    </tr>\n",
       "    <tr>\n",
       "      <th>1</th>\n",
       "      <td>65</td>\n",
       "      <td>60</td>\n",
       "      <td>90</td>\n",
       "    </tr>\n",
       "    <tr>\n",
       "      <th>2</th>\n",
       "      <td>46</td>\n",
       "      <td>0</td>\n",
       "      <td>45</td>\n",
       "    </tr>\n",
       "    <tr>\n",
       "      <th>3</th>\n",
       "      <td>41</td>\n",
       "      <td>87</td>\n",
       "      <td>62</td>\n",
       "    </tr>\n",
       "    <tr>\n",
       "      <th>4</th>\n",
       "      <td>60</td>\n",
       "      <td>22</td>\n",
       "      <td>8</td>\n",
       "    </tr>\n",
       "    <tr>\n",
       "      <th>5</th>\n",
       "      <td>52</td>\n",
       "      <td>44</td>\n",
       "      <td>83</td>\n",
       "    </tr>\n",
       "  </tbody>\n",
       "</table>\n",
       "</div>"
      ],
      "text/plain": [
       "    a   b   c\n",
       "0  60  79  49\n",
       "1  65  60  90\n",
       "2  46   0  45\n",
       "3  41  87  62\n",
       "4  60  22   8\n",
       "5  52  44  83"
      ]
     },
     "execution_count": 234,
     "metadata": {},
     "output_type": "execute_result"
    }
   ],
   "source": [
    "df"
   ]
  },
  {
   "cell_type": "code",
   "execution_count": null,
   "metadata": {},
   "outputs": [],
   "source": []
  },
  {
   "cell_type": "code",
   "execution_count": null,
   "metadata": {},
   "outputs": [],
   "source": []
  }
 ],
 "metadata": {
  "kernelspec": {
   "display_name": "base",
   "language": "python",
   "name": "python3"
  },
  "language_info": {
   "codemirror_mode": {
    "name": "ipython",
    "version": 3
   },
   "file_extension": ".py",
   "mimetype": "text/x-python",
   "name": "python",
   "nbconvert_exporter": "python",
   "pygments_lexer": "ipython3",
   "version": "3.11.7"
  }
 },
 "nbformat": 4,
 "nbformat_minor": 2
}
