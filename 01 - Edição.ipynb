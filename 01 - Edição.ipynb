{
 "cells": [
  {
   "cell_type": "markdown",
   "id": "086ad32b",
   "metadata": {},
   "source": [
    "# Links"
   ]
  },
  {
   "cell_type": "markdown",
   "id": "b621525e",
   "metadata": {},
   "source": [
    "* [Sintaxe básica de gravação e formatação no GitHub - GitHub Docs](https://docs.github.com/pt/get-started/writing-on-github/getting-started-with-writing-and-formatting-on-github/basic-writing-and-formatting-syntax)\n",
    "* [Guia básico de Markdown - Pipz Academy](https://docs.pipz.com/central-de-ajuda/learning-center/guia-basico-de-markdown#open)\n",
    "* Link para [Getting Started - Markdown Guide](https://www.markdownguide.org/getting-started/)\n",
    "* [Latex 1](https://pt.wikipedia.org/wiki/Ajuda:Guia_de_edi%C3%A7%C3%A3o/F%C3%B3rmulas_TeX)\n",
    "* [LaTex 2](https://carinercrs.blogspot.com/2010/07/acentos-no-modo-matematico-em-latex.html)"
   ]
  },
  {
   "cell_type": "markdown",
   "id": "9840bcf1",
   "metadata": {
    "vscode": {
     "languageId": "plaintext"
    }
   },
   "source": [
    "![](images_markdown\\numpy_image.png)"
   ]
  },
  {
   "cell_type": "markdown",
   "id": "d5e9bbbd",
   "metadata": {},
   "source": [
    "___"
   ]
  },
  {
   "cell_type": "markdown",
   "id": "c32e2105",
   "metadata": {
    "vscode": {
     "languageId": "plaintext"
    }
   },
   "source": [
    "[Paleta de cores 1](https://paletadecores.com/) <br>\n",
    "[Paleta de cores 2](https://coolors.co/palettes/trending)"
   ]
  },
  {
   "cell_type": "markdown",
   "id": "8f816bdd",
   "metadata": {},
   "source": [
    "<span style = 'color: red'> Cor vermelha </span>\n",
    "\n",
    "<span style = 'color: red'> **Cor vermelha** </span>\n",
    "\n",
    "<span style = 'color: blue'>Cor azul</span>\n",
    "\n",
    "<span style = 'color: blue'> **Cor azul** </span>\n",
    "\n",
    "<span style = 'color: yellow'> Cor amarela </span>\n",
    "\n",
    "<span style = 'color: yellow'> **Cor amarela** </span>\n",
    "\n",
    "<span style=\"color: yellow; font-size: 22px;\">Cor amarela</span>\n",
    "\n",
    "<span style = 'color: green'>Cor verde</span>\n",
    "\n",
    "<span style = 'color: green'> **Cor verde** </span>"
   ]
  },
  {
   "cell_type": "markdown",
   "id": "a39e6d43",
   "metadata": {},
   "source": [
    "**Combinando com o fundo**"
   ]
  },
  {
   "cell_type": "markdown",
   "id": "0293deb4",
   "metadata": {},
   "source": [
    "<span style=\"color: #4CAF50; font-size: 22px;\">Texto Verde Claro</span>\n",
    "\n",
    "<span style=\"color: #FFC107; font-size: 22px;\">Texto Amarelo Claro</span>\n",
    "\n",
    "<span style=\"color: #2196F3; font-size: 22px;\">Texto Azul</span>\n",
    "\n",
    "<span style=\"color: #009688; font-size: 22px;\">Texto Verde Azulado</span>\n",
    "\n",
    "<span style=\"color: #FFFFFF; font-size: 22px;\">Texto Branco</span>\n",
    "\n",
    "<span style=\"color: #B0BEC5; font-size: 22px;\">Texto Cinza Claro</span>"
   ]
  },
  {
   "cell_type": "markdown",
   "id": "63df86ec",
   "metadata": {},
   "source": [
    "___"
   ]
  },
  {
   "cell_type": "markdown",
   "id": "445c94ea",
   "metadata": {},
   "source": [
    "<div class = 'alert alert-block alert-success'>\n",
    "     <b>Sucesso</b>: Este bloco é verde.\n",
    "</div>"
   ]
  },
  {
   "cell_type": "markdown",
   "id": "ff4c29f9",
   "metadata": {},
   "source": [
    "<div class = 'alert alert-block alert-warning'>\n",
    "     <b>Aviso</b>: Este bloco é amarelo.\n",
    "</div>"
   ]
  },
  {
   "cell_type": "markdown",
   "id": "403af2e9",
   "metadata": {},
   "source": [
    "<div class = 'alert alert-block alert-danger'>\n",
    "     <b>Perigo</b>: Este bloco é vermelho.\n",
    "</div>"
   ]
  },
  {
   "cell_type": "markdown",
   "id": "be73aaeb",
   "metadata": {},
   "source": [
    "<div class = 'alert alert-block alert-info'>\n",
    "     <b>Informação</b>: Este bloco é azul.\n",
    "</div>"
   ]
  },
  {
   "cell_type": "markdown",
   "id": "fae430d9",
   "metadata": {},
   "source": [
    "___"
   ]
  },
  {
   "cell_type": "markdown",
   "id": "34d60fb0",
   "metadata": {},
   "source": [
    "# Título 1"
   ]
  },
  {
   "cell_type": "markdown",
   "id": "27ad046e",
   "metadata": {},
   "source": [
    "## Título 2"
   ]
  },
  {
   "cell_type": "markdown",
   "id": "c4c8e4b3",
   "metadata": {},
   "source": [
    "### Título 3"
   ]
  },
  {
   "cell_type": "markdown",
   "id": "e42d499c-26a8-473c-9e0a-65fb6011cf64",
   "metadata": {},
   "source": [
    "#### Título 4"
   ]
  },
  {
   "cell_type": "markdown",
   "id": "91126de7-dad0-44e9-bf40-742ca7a84f49",
   "metadata": {},
   "source": [
    "##### Título 5"
   ]
  },
  {
   "cell_type": "markdown",
   "id": "70ad0c76-1bd1-4443-9db4-752d7c81f7e8",
   "metadata": {},
   "source": [
    "###### Título 6"
   ]
  },
  {
   "cell_type": "markdown",
   "id": "d38c361d",
   "metadata": {},
   "source": [
    "___"
   ]
  },
  {
   "cell_type": "markdown",
   "id": "5652977e",
   "metadata": {},
   "source": [
    "**This is bold text**\n",
    "\n",
    "<u>Esse é um texto sublinhado</u>\n",
    "\n",
    "_This text is italicized_\n",
    "\n",
    "~~This was mistaken text~~\n",
    "\n",
    "This is a <sub>subscript</sub> text\n",
    "\n",
    "This is a <sup>superscript</sup> text\n",
    "\n",
    "`Você também pode usar a crase`"
   ]
  },
  {
   "cell_type": "markdown",
   "id": "e00bf6ce",
   "metadata": {},
   "source": [
    "___"
   ]
  },
  {
   "cell_type": "markdown",
   "id": "dd56ac35",
   "metadata": {},
   "source": [
    "Text that is not a quote\n",
    "\n",
    "> Text that is a quote"
   ]
  },
  {
   "cell_type": "markdown",
   "id": "7b8c40b0",
   "metadata": {},
   "source": [
    "___"
   ]
  },
  {
   "cell_type": "markdown",
   "id": "5d1b17fd",
   "metadata": {},
   "source": [
    "* 1º forma\n",
    "* 1º forma\n",
    "+ 2º forma\n",
    "+ 2º forma\n",
    "- 3º forma\n",
    "- 3º forma"
   ]
  },
  {
   "cell_type": "markdown",
   "id": "39ec4ab6",
   "metadata": {},
   "source": [
    "1. James Madison\n",
    "2. James Monroe\n",
    "3. John Quincy Adams"
   ]
  },
  {
   "cell_type": "markdown",
   "id": "a84a06ab",
   "metadata": {},
   "source": [
    "1. First list item\n",
    "   - First nested list item\n",
    "     - Second nested list item"
   ]
  },
  {
   "cell_type": "markdown",
   "id": "b76eccab",
   "metadata": {},
   "source": [
    "___"
   ]
  },
  {
   "cell_type": "markdown",
   "id": "23d94c55",
   "metadata": {},
   "source": [
    "- [x] #739\n",
    "- [ ] https://github.com/octo-org/octo-repo/issues/740\n",
    "- [ ] Add delight to the experience when all tasks are complete :tada:\n",
    "- [ ] \\(Optional) Open a followup issue"
   ]
  },
  {
   "cell_type": "markdown",
   "id": "d43b3f07",
   "metadata": {},
   "source": [
    "Você também pode usar equações em $\\LaTeX$, que podem ser inline ($f(x) = x_0 + x_1 x + x_2 x^2$) ou displayed:\n",
    "\n",
    "$$\n",
    "E = mc^2\n",
    "$$"
   ]
  },
  {
   "cell_type": "markdown",
   "id": "56e18dcf-b327-4b38-a418-f9100b37c9f4",
   "metadata": {},
   "source": [
    "Você pode pular linha\n",
    "\n",
    "desse jeito"
   ]
  },
  {
   "cell_type": "markdown",
   "id": "53df84c9-f22c-492a-89c7-6f251656993d",
   "metadata": {},
   "source": [
    "Ou você pode pular linha <br>\n",
    "desse jeito"
   ]
  }
 ],
 "metadata": {
  "kernelspec": {
   "display_name": "Python 3 (ipykernel)",
   "language": "python",
   "name": "python3"
  },
  "language_info": {
   "codemirror_mode": {
    "name": "ipython",
    "version": 3
   },
   "file_extension": ".py",
   "mimetype": "text/x-python",
   "name": "python",
   "nbconvert_exporter": "python",
   "pygments_lexer": "ipython3",
   "version": "3.11.7"
  }
 },
 "nbformat": 4,
 "nbformat_minor": 5
}
