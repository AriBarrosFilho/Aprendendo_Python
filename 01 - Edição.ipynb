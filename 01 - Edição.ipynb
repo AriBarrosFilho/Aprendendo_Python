{
 "cells": [
  {
   "cell_type": "markdown",
   "id": "086ad32b",
   "metadata": {},
   "source": [
    "# Links"
   ]
  },
  {
   "cell_type": "markdown",
   "id": "b621525e",
   "metadata": {},
   "source": [
    "* [Sintaxe básica de gravação e formatação no GitHub - GitHub Docs](https://docs.github.com/pt/get-started/writing-on-github/getting-started-with-writing-and-formatting-on-github/basic-writing-and-formatting-syntax)\n",
    "* [Guia básico de Markdown - Pipz Academy](https://docs.pipz.com/central-de-ajuda/learning-center/guia-basico-de-markdown#open)\n",
    "* Link para [Getting Started - Markdown Guide](https://www.markdownguide.org/getting-started/)\n",
    "* [Latex 1](https://pt.wikipedia.org/wiki/Ajuda:Guia_de_edi%C3%A7%C3%A3o/F%C3%B3rmulas_TeX)\n",
    "* [LaTex 2](https://carinercrs.blogspot.com/2010/07/acentos-no-modo-matematico-em-latex.html)"
   ]
  },
  {
   "cell_type": "markdown",
   "id": "d5e9bbbd",
   "metadata": {},
   "source": [
    "___"
   ]
  },
  {
   "cell_type": "markdown",
   "id": "8f816bdd",
   "metadata": {},
   "source": [
    "<span style = 'color: red'> Cor vermelha </span>\n",
    "\n",
    "<span style = 'color: red'> **Cor vermelha** </span>\n",
    "\n",
    "<span style = 'color: blue'>Cor azul</span>\n",
    "\n",
    "<span style = 'color: blue'> **Cor azul** </span>\n",
    "\n",
    "<span style = 'color: yellow'> Cor amarela </span>\n",
    "\n",
    "<span style = 'color: yellow'> **Cor amarela** </span>\n",
    "\n",
    "<span style=\"color: yellow; font-size: 22px;\">Cor amarela</span>\n",
    "\n",
    "<span style = 'color: green'>Cor verde</span>\n",
    "\n",
    "<span style = 'color: green'> **Cor verde** </span>"
   ]
  },
  {
   "cell_type": "markdown",
   "id": "63df86ec",
   "metadata": {},
   "source": [
    "___"
   ]
  },
  {
   "cell_type": "markdown",
   "id": "445c94ea",
   "metadata": {},
   "source": [
    "<div class = 'alert alert-block alert-success'>\n",
    "     <b>Sucesso</b>: Este bloco é verde.\n",
    "</div>"
   ]
  },
  {
   "cell_type": "markdown",
   "id": "ff4c29f9",
   "metadata": {},
   "source": [
    "<div class = 'alert alert-block alert-warning'>\n",
    "     <b>Aviso</b>: Este bloco é amarelo.\n",
    "</div>"
   ]
  },
  {
   "cell_type": "markdown",
   "id": "403af2e9",
   "metadata": {},
   "source": [
    "<div class = 'alert alert-block alert-danger'>\n",
    "     <b>Perigo</b>: Este bloco é vermelho.\n",
    "</div>"
   ]
  },
  {
   "cell_type": "markdown",
   "id": "be73aaeb",
   "metadata": {},
   "source": [
    "<div class = 'alert alert-block alert-info'>\n",
    "     <b>Informação</b>: Este bloco é azul.\n",
    "</div>"
   ]
  },
  {
   "cell_type": "markdown",
   "id": "fae430d9",
   "metadata": {},
   "source": [
    "___"
   ]
  },
  {
   "cell_type": "markdown",
   "id": "34d60fb0",
   "metadata": {},
   "source": [
    "# Título 1"
   ]
  },
  {
   "cell_type": "markdown",
   "id": "27ad046e",
   "metadata": {},
   "source": [
    "## Título 2"
   ]
  },
  {
   "cell_type": "markdown",
   "id": "c4c8e4b3",
   "metadata": {},
   "source": [
    "### Título 3"
   ]
  },
  {
   "cell_type": "markdown",
   "id": "e42d499c-26a8-473c-9e0a-65fb6011cf64",
   "metadata": {},
   "source": [
    "#### Título 4"
   ]
  },
  {
   "cell_type": "markdown",
   "id": "91126de7-dad0-44e9-bf40-742ca7a84f49",
   "metadata": {},
   "source": [
    "##### Título 5"
   ]
  },
  {
   "cell_type": "markdown",
   "id": "70ad0c76-1bd1-4443-9db4-752d7c81f7e8",
   "metadata": {},
   "source": [
    "###### Título 6"
   ]
  },
  {
   "cell_type": "markdown",
   "id": "d38c361d",
   "metadata": {},
   "source": [
    "___"
   ]
  },
  {
   "cell_type": "markdown",
   "id": "5652977e",
   "metadata": {},
   "source": [
    "**This is bold text**\n",
    "\n",
    "_This text is italicized_\n",
    "\n",
    "~~This was mistaken text~~\n",
    "\n",
    "This is a <sub>subscript</sub> text\n",
    "\n",
    "This is a <sup>superscript</sup> text\n",
    "\n",
    "`Você também pode usar a crase`"
   ]
  },
  {
   "cell_type": "markdown",
   "id": "e00bf6ce",
   "metadata": {},
   "source": [
    "___"
   ]
  },
  {
   "cell_type": "markdown",
   "id": "dd56ac35",
   "metadata": {},
   "source": [
    "Text that is not a quote\n",
    "\n",
    "> Text that is a quote"
   ]
  },
  {
   "cell_type": "markdown",
   "id": "7b8c40b0",
   "metadata": {},
   "source": [
    "___"
   ]
  },
  {
   "cell_type": "markdown",
   "id": "5d1b17fd",
   "metadata": {},
   "source": [
    "* 1º forma\n",
    "* 1º forma\n",
    "+ 2º forma\n",
    "+ 2º forma\n",
    "- 3º forma\n",
    "- 3º forma"
   ]
  },
  {
   "cell_type": "markdown",
   "id": "39ec4ab6",
   "metadata": {},
   "source": [
    "1. James Madison\n",
    "2. James Monroe\n",
    "3. John Quincy Adams"
   ]
  },
  {
   "cell_type": "markdown",
   "id": "a84a06ab",
   "metadata": {},
   "source": [
    "1. First list item\n",
    "   - First nested list item\n",
    "     - Second nested list item"
   ]
  },
  {
   "cell_type": "markdown",
   "id": "b76eccab",
   "metadata": {},
   "source": [
    "___"
   ]
  },
  {
   "cell_type": "markdown",
   "id": "23d94c55",
   "metadata": {},
   "source": [
    "- [x] #739\n",
    "- [ ] https://github.com/octo-org/octo-repo/issues/740\n",
    "- [ ] Add delight to the experience when all tasks are complete :tada:\n",
    "- [ ] \\(Optional) Open a followup issue"
   ]
  },
  {
   "cell_type": "markdown",
   "id": "d43b3f07",
   "metadata": {},
   "source": [
    "Você também pode usar equações em $\\LaTeX$, que podem ser inline ($f(x) = x_0 + x_1 x + x_2 x^2$) ou displayed:\n",
    "\n",
    "$$\n",
    "E = mc^2\n",
    "$$"
   ]
  },
  {
   "cell_type": "markdown",
   "id": "56e18dcf-b327-4b38-a418-f9100b37c9f4",
   "metadata": {},
   "source": [
    "Você pode pular linha\n",
    "\n",
    "desse jeito"
   ]
  },
  {
   "cell_type": "markdown",
   "id": "53df84c9-f22c-492a-89c7-6f251656993d",
   "metadata": {},
   "source": [
    "Ou você pode pular linha <br>\n",
    "desse jeito"
   ]
  },
  {
   "cell_type": "markdown",
   "id": "2d2a0882",
   "metadata": {},
   "source": [
    "# Instalação de bibliotecas no anaconda"
   ]
  },
  {
   "cell_type": "markdown",
   "id": "3bd4a7fd",
   "metadata": {},
   "source": [
    "Para possíveis erros\n",
    "* https://www.youtube.com/watch?v=OSDhc8PsEWE\n",
    "* https://www.youtube.com/watch?v=MvUMAvmviaE\n",
    "* https://www.educative.io/answers/how-to-resolve-normal-site-packages-is-not-writable-in-python"
   ]
  },
  {
   "cell_type": "code",
   "execution_count": null,
   "id": "d91ee322",
   "metadata": {},
   "outputs": [],
   "source": []
  },
  {
   "cell_type": "markdown",
   "id": "39ed9ef1",
   "metadata": {},
   "source": [
    "Anaconda Prompt pip install jupyterthemes\n",
    "\n",
    "Célula do Jupyter: !pip install jupyterthemes"
   ]
  },
  {
   "cell_type": "code",
   "execution_count": null,
   "id": "776404c4",
   "metadata": {},
   "outputs": [],
   "source": []
  },
  {
   "cell_type": "markdown",
   "id": "e09bfb9a",
   "metadata": {},
   "source": [
    "Alterar os temas do Jupyter\n",
    "* https://www.youtube.com/watch?v=cib6A-OR-Vk\n",
    "* Link para [Temas para o Jupyter Notebook](https://www.youtube.com/watch?v=KY2Bcgsfg8w)"
   ]
  },
  {
   "cell_type": "code",
   "execution_count": 1,
   "id": "054cf069",
   "metadata": {},
   "outputs": [],
   "source": [
    "# !pip install jupyterthemes"
   ]
  },
  {
   "cell_type": "code",
   "execution_count": 2,
   "id": "72dc1253",
   "metadata": {},
   "outputs": [],
   "source": [
    "# !pip install --upgrade jupyterthemes"
   ]
  },
  {
   "cell_type": "code",
   "execution_count": null,
   "id": "f5b349bd-5e99-4461-81d3-7d0da8141b14",
   "metadata": {},
   "outputs": [],
   "source": []
  },
  {
   "cell_type": "code",
   "execution_count": null,
   "id": "5103262f-e66b-48ab-821c-4798661504d2",
   "metadata": {},
   "outputs": [],
   "source": []
  },
  {
   "cell_type": "markdown",
   "id": "7107ad18-f15a-4fb4-80b1-80460a294ece",
   "metadata": {},
   "source": [
    "Adicionar extensões\n",
    "* https://www.youtube.com/watch?v=--QdqdzmE9g\n",
    "* https://www.youtube.com/watch?v=pDP6smEqrOM"
   ]
  },
  {
   "cell_type": "code",
   "execution_count": 3,
   "id": "40fa5bcf",
   "metadata": {},
   "outputs": [],
   "source": [
    "# !pip install jupyter_contrib_nbextensions"
   ]
  },
  {
   "cell_type": "code",
   "execution_count": 4,
   "id": "14b22736",
   "metadata": {},
   "outputs": [],
   "source": [
    "# !jupyter contrib nbextension install –user"
   ]
  },
  {
   "cell_type": "code",
   "execution_count": 6,
   "id": "9f7ba90c",
   "metadata": {},
   "outputs": [],
   "source": [
    "# !python --version"
   ]
  },
  {
   "cell_type": "code",
   "execution_count": null,
   "id": "f6e977c5",
   "metadata": {},
   "outputs": [],
   "source": []
  },
  {
   "cell_type": "code",
   "execution_count": null,
   "id": "98bd3384",
   "metadata": {},
   "outputs": [],
   "source": []
  },
  {
   "cell_type": "code",
   "execution_count": null,
   "id": "d6c529da",
   "metadata": {},
   "outputs": [],
   "source": []
  },
  {
   "cell_type": "code",
   "execution_count": null,
   "id": "facc841a",
   "metadata": {},
   "outputs": [],
   "source": []
  }
 ],
 "metadata": {
  "kernelspec": {
   "display_name": "Python 3 (ipykernel)",
   "language": "python",
   "name": "python3"
  },
  "language_info": {
   "codemirror_mode": {
    "name": "ipython",
    "version": 3
   },
   "file_extension": ".py",
   "mimetype": "text/x-python",
   "name": "python",
   "nbconvert_exporter": "python",
   "pygments_lexer": "ipython3",
   "version": "3.11.7"
  }
 },
 "nbformat": 4,
 "nbformat_minor": 5
}
