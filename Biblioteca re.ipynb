{
 "cells": [
  {
   "cell_type": "code",
   "execution_count": 1,
   "metadata": {},
   "outputs": [],
   "source": [
    "import re"
   ]
  },
  {
   "cell_type": "code",
   "execution_count": 2,
   "metadata": {},
   "outputs": [
    {
     "name": "stdout",
     "output_type": "stream",
     "text": [
      "['2', '3', '4', '5']\n"
     ]
    }
   ],
   "source": [
    "texto = \"Eu tenho 2 cachorros e 3 gatos. Meu amigo tem 4 cachorros e 5 gatos.\"\n",
    "\n",
    "# Encontrar todos os números\n",
    "padrao = r'\\d+'  \n",
    "\n",
    "ocorrencias = re.findall(padrao, texto)\n",
    "print(ocorrencias)  # Saída: ['2', '3', '4', '5']"
   ]
  },
  {
   "cell_type": "code",
   "execution_count": 4,
   "metadata": {},
   "outputs": [
    {
     "name": "stdout",
     "output_type": "stream",
     "text": [
      "O preço é R$ XXX. O desconto é R$ XXX. Mas podemos fazer por R$ XXX\n"
     ]
    }
   ],
   "source": [
    "texto = \"O preço é R$ 50. O desconto é R$ 10. Mas podemos fazer por R$ 8\"\n",
    "padrao = r'R\\$ \\d+'  # Encontrar preços\n",
    "\n",
    "texto_substituido = re.sub(padrao, 'R$ XXX', texto)\n",
    "\n",
    "# Saída: \"O preço é R$ XXX. O desconto é R$ XXX.\"\n",
    "print(texto_substituido)"
   ]
  },
  {
   "cell_type": "code",
   "execution_count": 5,
   "metadata": {},
   "outputs": [
    {
     "name": "stdout",
     "output_type": "stream",
     "text": [
      "['um', 'dois', 'tres', 'quatro']\n"
     ]
    }
   ],
   "source": [
    "texto = \"um;dois;tres;quatro\"\n",
    "padrao = r';'  # Dividir pelo ponto e vírgula\n",
    "\n",
    "partes = re.split(padrao, texto)\n",
    "print(partes)  # Saída: ['um', 'dois', 'tres', 'quatro']"
   ]
  },
  {
   "cell_type": "code",
   "execution_count": 6,
   "metadata": {},
   "outputs": [
    {
     "name": "stdout",
     "output_type": "stream",
     "text": [
      "E-mail encontrado: exemplo@dominio.com\n"
     ]
    }
   ],
   "source": [
    "texto = \"Meu e-mail é exemplo@dominio.com\"\n",
    "padrao = r'\\b\\w+@\\w+\\.\\w+\\b'  # Padrão para e-mail\n",
    "\n",
    "encontrado = re.search(padrao, texto)\n",
    "if encontrado:\n",
    "    print(\"E-mail encontrado:\", encontrado.group())  # Saída: \"E-mail encontrado: exemplo@dominio.com\"\n",
    "else:\n",
    "    print(\"E-mail não encontrado\")"
   ]
  },
  {
   "cell_type": "code",
   "execution_count": 7,
   "metadata": {},
   "outputs": [
    {
     "name": "stdout",
     "output_type": "stream",
     "text": [
      "['50', '10']\n"
     ]
    }
   ],
   "source": [
    "texto = \"O produto custa R$ 50 e o desconto é de R$ 10.\"\n",
    "padrao = r'R\\$ (\\d+)'  # Capturar o valor após R$\n",
    "\n",
    "resultados = re.findall(padrao, texto)\n",
    "print(resultados)  # Saída: ['50', '10']"
   ]
  },
  {
   "cell_type": "code",
   "execution_count": 8,
   "metadata": {},
   "outputs": [
    {
     "name": "stdout",
     "output_type": "stream",
     "text": [
      "Número de telefone válido\n"
     ]
    }
   ],
   "source": [
    "telefone = \"+55 1234-5678\"\n",
    "padrao = r'^\\+\\d{2} \\d{4}-\\d{4}$'  # Padrão para número de telefone\n",
    "\n",
    "if re.match(padrao, telefone):\n",
    "    print(\"Número de telefone válido\")\n",
    "else:\n",
    "    print(\"Número de telefone inválido\")"
   ]
  },
  {
   "cell_type": "code",
   "execution_count": 11,
   "metadata": {},
   "outputs": [
    {
     "name": "stdout",
     "output_type": "stream",
     "text": [
      "O preço do produto é R$ 20 e do produto é R$ 30.\n"
     ]
    }
   ],
   "source": [
    "texto = \"O preço do item1 é R$ 20 e do item2 é R$ 30.\"\n",
    "padrao = r'item\\d'\n",
    "substituto = r'produto'\n",
    "\n",
    "texto_substituido = re.sub(padrao, substituto, texto)\n",
    "print(texto_substituido)"
   ]
  },
  {
   "cell_type": "code",
   "execution_count": 12,
   "metadata": {},
   "outputs": [
    {
     "name": "stdout",
     "output_type": "stream",
     "text": [
      "['com conteúdo', 'outro exemplo', '64']\n"
     ]
    }
   ],
   "source": [
    "texto = \"Aqui está um exemplo (com conteúdo) dentro dos parênteses e (outro exemplo)(64).\"\n",
    "padrao = r'\\((.*?)\\)'  # Captura qualquer coisa entre parênteses\n",
    "\n",
    "# Encontra todas as ocorrências do padrão no texto\n",
    "conteudos = re.findall(padrao, texto)\n",
    "\n",
    "print(conteudos)\n"
   ]
  },
  {
   "cell_type": "code",
   "execution_count": null,
   "metadata": {},
   "outputs": [],
   "source": []
  },
  {
   "cell_type": "code",
   "execution_count": null,
   "metadata": {},
   "outputs": [],
   "source": []
  },
  {
   "cell_type": "code",
   "execution_count": null,
   "metadata": {},
   "outputs": [],
   "source": []
  },
  {
   "cell_type": "code",
   "execution_count": null,
   "metadata": {},
   "outputs": [],
   "source": []
  },
  {
   "cell_type": "code",
   "execution_count": null,
   "metadata": {
    "vscode": {
     "languageId": "ruby"
    }
   },
   "outputs": [],
   "source": [
    "import re\n",
    "\n",
    "# Importando a biblioteca re\n",
    "\n",
    "# Exemplo 1: Encontrar todas as ocorrências de um padrão\n",
    "texto = \"Eu tenho 2 cachorros e 3 gatos. Meu amigo tem 4 cachorros e 5 gatos.\"\n",
    "padrao = r'\\d+'  # Padrão para encontrar números\n",
    "ocorrencias = re.findall(padrao, texto)\n",
    "print(ocorrencias)  # Saída: ['2', '3', '4', '5']\n",
    "\n",
    "# Exemplo 2: Substituir todas as ocorrências de um padrão\n",
    "texto = \"O preço é R$ 50. O desconto é R$ 10. Mas podemos fazer por R$ 8\"\n",
    "padrao = r'R\\$ \\d+'  # Padrão para encontrar preços\n",
    "texto_substituido = re.sub(padrao, 'R$ XXX', texto)\n",
    "print(texto_substituido)  # Saída: \"O preço é R$ XXX. O desconto é R$ XXX. Mas podemos fazer por R$ XXX\"\n",
    "\n",
    "# Exemplo 3: Dividir uma string com base em um padrão\n",
    "texto = \"um;dois;tres;quatro\"\n",
    "padrao = r';'  # Padrão para dividir pelo ponto e vírgula\n",
    "partes = re.split(padrao, texto)\n",
    "print(partes)  # Saída: ['um', 'dois', 'tres', 'quatro']\n",
    "\n",
    "# Exemplo 4: Encontrar um padrão específico em uma string\n",
    "texto = \"Meu e-mail é exemplo@dominio.com\"\n",
    "padrao = r'\\b\\w+@\\w+\\.\\w+\\b'  # Padrão para e-mail\n",
    "encontrado = re.search(padrao, texto)\n",
    "if encontrado:\n",
    "    print(\"E-mail encontrado:\", encontrado.group())  # Saída: \"E-mail encontrado: exemplo@dominio.com\"\n",
    "else:\n",
    "    print(\"E-mail não encontrado\")\n",
    "\n",
    "# Exemplo 5: Capturar grupos específicos em um padrão\n",
    "texto = \"O produto custa R$ 50 e o desconto é de R$ 10.\"\n",
    "padrao = r'R\\$ (\\d+)'  # Capturar o valor após R$\n",
    "resultados = re.findall(padrao, texto)\n",
    "print(resultados)  # Saída: ['50', '10']\n",
    "\n",
    "# Exemplo 6: Verificar se uma string corresponde a um padrão\n",
    "telefone = \"+55 1234-5678\"\n",
    "padrao = r'^\\+\\d{2} \\d{4}-\\d{4}$'  # Padrão para número de telefone\n",
    "if re.match(padrao, telefone):\n",
    "    print(\"Número de telefone válido\")\n",
    "else:\n",
    "    print(\"Número de telefone inválido\")\n",
    "\n",
    "# Exemplo 7: Substituir partes de uma string com base em um padrão\n",
    "texto = \"O preço do item1 é R$ 20 e do item2 é R$ 30.\"\n",
    "padrao = r'item\\d'\n",
    "substituto = r'produto'\n",
    "texto_substituido = re.sub(padrao, substituto, texto)\n",
    "print(texto_substituido)  # Saída: \"O preço do produto é R$ 20 e do produto é R$ 30.\"\n",
    "\n",
    "# Exemplo 8: Capturar conteúdo entre parênteses\n",
    "texto = \"Aqui está um exemplo (com conteúdo) dentro dos parênteses e (outro exemplo)(64).\"\n",
    "padrao = r'\\((.*?)\\)'  # Captura qualquer coisa entre parênteses\n",
    "conteudos = re.findall(padrao, texto)\n",
    "print(conteudos)  # Saída: ['com conteúdo', 'outro exemplo', '64']"
   ]
  },
  {
   "cell_type": "code",
   "execution_count": null,
   "metadata": {
    "vscode": {
     "languageId": "ruby"
    }
   },
   "outputs": [],
   "source": []
  }
 ],
 "metadata": {
  "kernelspec": {
   "display_name": "r_env",
   "language": "python",
   "name": "python3"
  },
  "language_info": {
   "codemirror_mode": {
    "name": "ipython",
    "version": 3
   },
   "file_extension": ".py",
   "mimetype": "text/x-python",
   "name": "python",
   "nbconvert_exporter": "python",
   "pygments_lexer": "ipython3",
   "version": "3.12.4"
  }
 },
 "nbformat": 4,
 "nbformat_minor": 2
}
