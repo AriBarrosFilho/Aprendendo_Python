{
 "cells": [
  {
   "cell_type": "markdown",
   "metadata": {},
   "source": [
    "<span style=\"color: #FFC107; font-size: 22px;\">**Documentação e Referências**</span>\n",
    "\n",
    "[datetime — Basic date and time types](https://docs.python.org/3/library/datetime.html)"
   ]
  },
  {
   "cell_type": "code",
   "execution_count": 1,
   "metadata": {},
   "outputs": [],
   "source": [
    "from datetime import datetime"
   ]
  },
  {
   "cell_type": "markdown",
   "metadata": {},
   "source": [
    "<span style=\"color: #FFC107; font-size: 22px;\">**datetime.now()**</span>"
   ]
  },
  {
   "cell_type": "code",
   "execution_count": 3,
   "metadata": {},
   "outputs": [
    {
     "name": "stdout",
     "output_type": "stream",
     "text": [
      "2024-07-19 21:34:10.667686 \n",
      "\n",
      "A data é: \t2024-07-19\n",
      "O horário é: \t21:34:10.667686 \n",
      "\n",
      "Ano: \t\t2024\n",
      "Mês: \t\t7\n",
      "Dia: \t\t19\n",
      "Horas: \t\t21\n",
      "Minutos: \t34\n",
      "Segundos: \t10\n"
     ]
    }
   ],
   "source": [
    "agora = datetime.now()\n",
    "print(agora, '\\n')\n",
    "\n",
    "print(f'A data é: \\t{agora.date()}')\n",
    "print(f'O horário é: \\t{agora.time()}', '\\n')\n",
    "\n",
    "print(f'Ano: \\t\\t{agora.year}')\n",
    "print(f'Mês: \\t\\t{agora.month}')\n",
    "print(f'Dia: \\t\\t{agora.day}')\n",
    "print(f'Horas: \\t\\t{agora.hour}')\n",
    "print(f'Minutos: \\t{agora.minute}')\n",
    "print(f'Segundos: \\t{agora.second}')"
   ]
  },
  {
   "cell_type": "markdown",
   "metadata": {},
   "source": [
    "<span style=\"color: #FFC107; font-size: 22px;\">**date.today()**</span>"
   ]
  },
  {
   "cell_type": "code",
   "execution_count": 58,
   "metadata": {},
   "outputs": [
    {
     "name": "stdout",
     "output_type": "stream",
     "text": [
      "Data atual: 2024-07-14 \n",
      "\n",
      "Ano: 2024\n",
      "Mês: 7\n",
      "Dia: 14\n"
     ]
    }
   ],
   "source": [
    "from datetime import date\n",
    "\n",
    "agora = date.today()\n",
    "\n",
    "print(f'Data atual: {agora.today()}', '\\n')\n",
    "\n",
    "print(f'Ano: {agora.year}')\n",
    "print(f'Mês: {agora.month}')\n",
    "print(f'Dia: {agora.day}')"
   ]
  },
  {
   "cell_type": "markdown",
   "metadata": {},
   "source": [
    "<span style=\"color: #FFC107; font-size: 22px;\">**datetime.timedelta()**</span>"
   ]
  },
  {
   "cell_type": "code",
   "execution_count": 15,
   "metadata": {},
   "outputs": [
    {
     "name": "stdout",
     "output_type": "stream",
     "text": [
      "Data atual: 2024-07-19 21:40:50.360549 \n",
      "\n",
      "Data 10 dias no futuro: 2024-07-29 21:40:50.360549\n",
      "Data 10 dias no passado: 2024-07-09 21:40:50.360549 \n",
      "\n",
      "Data 5 horas no futuro: 2024-07-20 02:40:50.360549\n",
      "Data 5 horas no passado: 2024-07-19 16:40:50.360549 \n",
      "\n",
      "Data 2 dias, 4 horas, 18 minutos no futuro: 2024-07-22 01:58:50.360549\n",
      "Data 2 dias, 4 horas, 18 minutos no passado: 2024-07-17 17:22:50.360549\n"
     ]
    }
   ],
   "source": [
    "from datetime import datetime, timedelta\n",
    "\n",
    "data_atual = datetime.now()\n",
    "print(f\"Data atual: {data_atual}\", '\\n')\n",
    "\n",
    "#=====================================================================\n",
    "\n",
    "dias = 10\n",
    "\n",
    "data_futura = data_atual + timedelta(days = dias)\n",
    "print(f\"Data {dias} dias no futuro: {data_futura}\")\n",
    "\n",
    "data_passada = data_atual - timedelta(days = dias)\n",
    "print(f\"Data {dias} dias no passado: {data_passada}\", '\\n')\n",
    "\n",
    "#=====================================================================\n",
    "\n",
    "horas = 5\n",
    "\n",
    "data_futura = data_atual + timedelta(hours = horas)\n",
    "print(f\"Data {horas} horas no futuro: {data_futura}\")\n",
    "\n",
    "data_passada = data_atual - timedelta(hours = horas)\n",
    "print(f\"Data {horas} horas no passado: {data_passada}\", '\\n')\n",
    "\n",
    "#=====================================================================\n",
    "\n",
    "dias = 2\n",
    "horas = 4\n",
    "minutos = 18\n",
    "\n",
    "data_futura = data_atual + timedelta(days = dias) + timedelta(hours = horas) + timedelta(minutes = minutos)\n",
    "print(f\"Data {dias} dias, {horas} horas, {minutos} minutos no futuro: {data_futura}\")\n",
    "\n",
    "data_futura = data_atual - timedelta(days = dias) - timedelta(hours = horas) - timedelta(minutes = minutos)\n",
    "print(f\"Data {dias} dias, {horas} horas, {minutos} minutos no passado: {data_futura}\")"
   ]
  },
  {
   "cell_type": "code",
   "execution_count": 21,
   "metadata": {},
   "outputs": [
    {
     "name": "stdout",
     "output_type": "stream",
     "text": [
      "Data: 2023-12-20 08:30:20 \n",
      "\n",
      "Data: 2023-07-20 00:00:00 \n",
      "\n",
      "Data: 2023-07-20 08:30:20.537284\n"
     ]
    }
   ],
   "source": [
    "# Cria um objeto datetime com números\n",
    "# Ano, mês, dia, hora, minuto, segundo\n",
    "data = datetime(2023, 12, 20, 8, 30, 20)\n",
    "print(f\"Data: {data}\", '\\n')\n",
    "\n",
    "data = datetime(2023, 7, 20)\n",
    "print(f\"Data: {data}\", '\\n')\n",
    "\n",
    "data = datetime(2023, 7, 20, 8, 30, 20, 537284)\n",
    "print(f\"Data: {data}\")"
   ]
  },
  {
   "cell_type": "code",
   "execution_count": null,
   "metadata": {},
   "outputs": [],
   "source": [
    "# String para objeto datetime\n",
    "data_hora_iso = datetime.fromisoformat(\"2023-06-26 15:30:20\")\n",
    "print(f\"Data/hora: {data_hora_iso}\")"
   ]
  },
  {
   "cell_type": "code",
   "execution_count": 32,
   "metadata": {},
   "outputs": [
    {
     "name": "stdout",
     "output_type": "stream",
     "text": [
      "Dias de diferença: 2\n"
     ]
    }
   ],
   "source": [
    "data_1 = datetime(2023, 12, 20, 8, 30, 20)\n",
    "data_2 = datetime(2023, 12, 18, 8, 30, 20)\n",
    "\n",
    "dif = data_1 - data_2\n",
    "\n",
    "print(f'Dias de diferença: {dif.days}')"
   ]
  },
  {
   "cell_type": "code",
   "execution_count": 36,
   "metadata": {},
   "outputs": [
    {
     "name": "stdout",
     "output_type": "stream",
     "text": [
      "2019-07-28\n",
      "2022-06-10\n",
      "2023-01-13\n",
      "2024-05-09\n",
      "\n",
      "2024-05-09\n",
      "2023-01-13\n",
      "2022-06-10\n",
      "2019-07-28\n"
     ]
    }
   ],
   "source": [
    "datas = [\n",
    "    datetime(2023, 1, 13),\n",
    "    datetime(2024, 5, 9),\n",
    "    datetime(2019, 7, 28),\n",
    "    datetime(2022, 6, 10),\n",
    "]\n",
    "\n",
    "datas_ordenadas = sorted(datas)\n",
    "\n",
    "for data in datas_ordenadas:\n",
    "    print(data.date())\n",
    "\n",
    "print('')\n",
    "\n",
    "datas_ordenadas = sorted(datas, reverse = True)\n",
    "\n",
    "for data in datas_ordenadas:\n",
    "    print(data.date())"
   ]
  },
  {
   "cell_type": "code",
   "execution_count": null,
   "metadata": {},
   "outputs": [],
   "source": []
  },
  {
   "cell_type": "code",
   "execution_count": 38,
   "metadata": {},
   "outputs": [
    {
     "name": "stdout",
     "output_type": "stream",
     "text": [
      "Friday, 19 de July\n",
      "Data formatada: Friday, 19 de July de 2024, 21:34:10\n"
     ]
    }
   ],
   "source": [
    "agora = datetime.now()\n",
    "\n",
    "print(agora.strftime(\"%A, %d de %B\"))\n",
    "\n",
    "data_formatada = agora.strftime(\"%A, %d de %B de %Y, %H:%M:%S\")\n",
    "\n",
    "print(f\"Data formatada: {data_formatada}\")"
   ]
  },
  {
   "cell_type": "code",
   "execution_count": 44,
   "metadata": {},
   "outputs": [
    {
     "name": "stdout",
     "output_type": "stream",
     "text": [
      "Data formatada: sexta-feira, 19 de julho de 2024, 22:18:14\n"
     ]
    }
   ],
   "source": [
    "import locale\n",
    "from datetime import datetime\n",
    "\n",
    "# Definir a localização para português.\n",
    "locale.setlocale(locale.LC_TIME, 'pt_BR.UTF-8')\n",
    "\n",
    "agora = datetime.now()\n",
    "data_formatada = agora.strftime(\"%A, %d de %B de %Y, %H:%M:%S\")\n",
    "\n",
    "print(f\"Data formatada: {data_formatada}\")"
   ]
  },
  {
   "cell_type": "code",
   "execution_count": null,
   "metadata": {},
   "outputs": [],
   "source": []
  },
  {
   "cell_type": "code",
   "execution_count": 46,
   "metadata": {},
   "outputs": [
    {
     "name": "stdout",
     "output_type": "stream",
     "text": [
      "Data: 2023-06-30 15:30:20\n"
     ]
    }
   ],
   "source": [
    "string_data = \"30 Junho, 2023, 15:30:20\"\n",
    "formato = \"%d %B, %Y, %H:%M:%S\"\n",
    "\n",
    "data = datetime.strptime(string_data, formato)\n",
    "\n",
    "print(f\"Data: {data}\") "
   ]
  },
  {
   "cell_type": "code",
   "execution_count": 47,
   "metadata": {},
   "outputs": [
    {
     "name": "stdout",
     "output_type": "stream",
     "text": [
      "Data: 2023-06-09 15:30:20\n"
     ]
    }
   ],
   "source": [
    "# formato DD/MM/YYYY\n",
    "string_data = \"09/06/2023, 15:30:20\"\n",
    "formato = \"%d/%m/%Y, %H:%M:%S\"\n",
    "data = datetime.strptime(string_data, formato)\n",
    "\n",
    "print(f\"Data: {data}\")"
   ]
  },
  {
   "cell_type": "code",
   "execution_count": 48,
   "metadata": {},
   "outputs": [
    {
     "name": "stdout",
     "output_type": "stream",
     "text": [
      "Data: 2023-09-06 15:30:20\n"
     ]
    }
   ],
   "source": [
    "# formato MM/DD/YYYY\n",
    "string_data = \"09/06/2023, 15:30:20\"\n",
    "formato = \"%m/%d/%Y, %H:%M:%S\"\n",
    "data = datetime.strptime(string_data, formato)\n",
    "\n",
    "print(f\"Data: {data}\")"
   ]
  },
  {
   "cell_type": "code",
   "execution_count": null,
   "metadata": {},
   "outputs": [],
   "source": []
  },
  {
   "cell_type": "code",
   "execution_count": null,
   "metadata": {},
   "outputs": [],
   "source": []
  },
  {
   "cell_type": "code",
   "execution_count": null,
   "metadata": {},
   "outputs": [],
   "source": []
  }
 ],
 "metadata": {
  "kernelspec": {
   "display_name": "base",
   "language": "python",
   "name": "python3"
  },
  "language_info": {
   "codemirror_mode": {
    "name": "ipython",
    "version": 3
   },
   "file_extension": ".py",
   "mimetype": "text/x-python",
   "name": "python",
   "nbconvert_exporter": "python",
   "pygments_lexer": "ipython3",
   "version": "3.11.7"
  }
 },
 "nbformat": 4,
 "nbformat_minor": 2
}
