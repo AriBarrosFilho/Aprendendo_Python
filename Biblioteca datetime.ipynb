{
 "cells": [
  {
   "cell_type": "markdown",
   "metadata": {},
   "source": [
    "<span style=\"color: #FFC107; font-size: 22px;\">**Documentação e Referências**</span>\n",
    "\n",
    "[datetime — Basic date and time types](https://docs.python.org/3/library/datetime.html)"
   ]
  },
  {
   "cell_type": "code",
   "execution_count": 1,
   "metadata": {},
   "outputs": [],
   "source": [
    "from datetime import datetime"
   ]
  },
  {
   "cell_type": "markdown",
   "metadata": {},
   "source": [
    "<span style=\"color: #FFC107; font-size: 22px;\">**datetime.now()**</span>"
   ]
  },
  {
   "cell_type": "code",
   "execution_count": 7,
   "metadata": {},
   "outputs": [
    {
     "name": "stdout",
     "output_type": "stream",
     "text": [
      "2024-09-22 22:47:56.169395 \n",
      "\n",
      "A data é: \t2024-09-22\n",
      "O horário é: \t22:47:56.169395 \n",
      "\n",
      "Ano: \t\t2024\n",
      "Mês: \t\t9\n",
      "Dia: \t\t22\n",
      "Horas: \t\t22\n",
      "Minutos: \t47\n",
      "Segundos: \t56\n",
      "Microsegundos: \t169395\n"
     ]
    }
   ],
   "source": [
    "# Obtém e apresenta a data e hora atual\n",
    "agora = datetime.now()\n",
    "print(agora, '\\n')\n",
    "\n",
    "# Apresenta somente a data e a hora de forma separada\n",
    "print(f'A data é: \\t{agora.date()}')\n",
    "print(f'O horário é: \\t{agora.time()}', '\\n')\n",
    "\n",
    "# Apresenta cada elemento da data e hora separadamente\n",
    "print(f'Ano: \\t\\t{agora.year}')\n",
    "print(f'Mês: \\t\\t{agora.month}')\n",
    "print(f'Dia: \\t\\t{agora.day}')\n",
    "print(f'Horas: \\t\\t{agora.hour}')\n",
    "print(f'Minutos: \\t{agora.minute}')\n",
    "print(f'Segundos: \\t{agora.second}')\n",
    "print(f'Microsegundos: \\t{agora.microsecond}')"
   ]
  },
  {
   "cell_type": "markdown",
   "metadata": {},
   "source": [
    "<span style=\"color: #FFC107; font-size: 22px;\">**date.today()**</span>\n",
    "\n",
    "Semelhante ao datetime.now(), porém apresenta somente a data"
   ]
  },
  {
   "cell_type": "code",
   "execution_count": 12,
   "metadata": {},
   "outputs": [
    {
     "name": "stdout",
     "output_type": "stream",
     "text": [
      "Data atual: 2024-09-22 \n",
      "\n",
      "Ano: 2024\n",
      "Mês: 9\n",
      "Dia: 22\n"
     ]
    }
   ],
   "source": [
    "from datetime import date\n",
    "\n",
    "# Obtém a data atual\n",
    "agora = date.today()\n",
    "\n",
    "# Apresenta a data completa\n",
    "print(f'Data atual: {agora.today()}', '\\n')\n",
    "\n",
    "# Apresenta o ano, mês e dia de forma separada\n",
    "print(f'Ano: {agora.year}')\n",
    "print(f'Mês: {agora.month}')\n",
    "print(f'Dia: {agora.day}')"
   ]
  },
  {
   "cell_type": "markdown",
   "metadata": {},
   "source": [
    "<span style=\"color: #FFC107; font-size: 22px;\">**datetime.timedelta()**</span>"
   ]
  },
  {
   "cell_type": "code",
   "execution_count": 14,
   "metadata": {},
   "outputs": [
    {
     "name": "stdout",
     "output_type": "stream",
     "text": [
      "Data atual: 2024-09-22 23:00:27.978798 \n",
      "\n",
      "Data 10 dias no futuro: 2024-10-02 23:00:27.978798\n",
      "Data 10 dias no passado: 2024-09-12 23:00:27.978798 \n",
      "\n",
      "Data 5 horas no futuro: 2024-09-23 04:00:27.978798\n",
      "Data 5 horas no passado: 2024-09-22 18:00:27.978798 \n",
      "\n",
      "Data 2 dias, 4 horas, 18 minutos no futuro: 2024-09-25 03:18:27.978798\n",
      "Data 2 dias, 4 horas, 18 minutos no passado: 2024-09-20 18:42:27.978798\n"
     ]
    }
   ],
   "source": [
    "from datetime import datetime, timedelta\n",
    "\n",
    "data_atual = datetime.now()\n",
    "print(f\"Data atual: {data_atual}\", '\\n')\n",
    "\n",
    "#=====================================================================\n",
    "\n",
    "dias = 10\n",
    "\n",
    "data_futura = data_atual + timedelta(days = dias)\n",
    "print(f\"Data {dias} dias no futuro: {data_futura}\")\n",
    "\n",
    "data_passada = data_atual - timedelta(days = dias)\n",
    "print(f\"Data {dias} dias no passado: {data_passada}\", '\\n')\n",
    "\n",
    "#=====================================================================\n",
    "\n",
    "horas = 5\n",
    "\n",
    "data_futura = data_atual + timedelta(hours = horas)\n",
    "print(f\"Data {horas} horas no futuro: {data_futura}\")\n",
    "\n",
    "data_passada = data_atual - timedelta(hours = horas)\n",
    "print(f\"Data {horas} horas no passado: {data_passada}\", '\\n')\n",
    "\n",
    "#=====================================================================\n",
    "\n",
    "dias = 2\n",
    "horas = 4\n",
    "minutos = 18\n",
    "\n",
    "data_futura = data_atual + timedelta(days = dias) + timedelta(hours = horas) + timedelta(minutes = minutos)\n",
    "print(f\"Data {dias} dias, {horas} horas, {minutos} minutos no futuro: {data_futura}\")\n",
    "\n",
    "data_futura = data_atual - timedelta(days = dias) - timedelta(hours = horas) - timedelta(minutes = minutos)\n",
    "print(f\"Data {dias} dias, {horas} horas, {minutos} minutos no passado: {data_futura}\")"
   ]
  },
  {
   "cell_type": "markdown",
   "metadata": {},
   "source": [
    "<span style=\"color: #FFC107; font-size: 22px;\">**datetime(ano, mês, hora, minuto, segundo)**</span>"
   ]
  },
  {
   "cell_type": "code",
   "execution_count": 2,
   "metadata": {},
   "outputs": [
    {
     "name": "stdout",
     "output_type": "stream",
     "text": [
      "Data: 2023-12-20 08:30:20 \n",
      "\n",
      "Data: 2023-07-20 00:00:00 \n",
      "\n",
      "Data: 2023-07-20 08:30:20.537284\n"
     ]
    }
   ],
   "source": [
    "from datetime import datetime\n",
    "\n",
    "# Cria um objeto datetime com números\n",
    "# Ano, mês, dia, hora, minuto, segundo\n",
    "data = datetime(2023, 12, 20, 8, 30, 20)\n",
    "print(f\"Data: {data}\", '\\n')\n",
    "\n",
    "data = datetime(2023, 7, 20)\n",
    "print(f\"Data: {data}\", '\\n')\n",
    "\n",
    "data = datetime(2023, 7, 20, 8, 30, 20, 537284)\n",
    "print(f\"Data: {data}\")"
   ]
  },
  {
   "cell_type": "markdown",
   "metadata": {},
   "source": [
    "<span style=\"color: #FFC107; font-size: 22px;\">**datetime.fromisoformat()**</span>"
   ]
  },
  {
   "cell_type": "code",
   "execution_count": 3,
   "metadata": {},
   "outputs": [
    {
     "name": "stdout",
     "output_type": "stream",
     "text": [
      "Data/hora: 2023-06-26 15:30:20\n"
     ]
    }
   ],
   "source": [
    "# String para objeto datetime\n",
    "data_hora_iso = datetime.fromisoformat(\"2023-06-26 15:30:20\")\n",
    "print(f\"Data/hora: {data_hora_iso}\")"
   ]
  },
  {
   "cell_type": "code",
   "execution_count": 14,
   "metadata": {},
   "outputs": [
    {
     "name": "stdout",
     "output_type": "stream",
     "text": [
      "Dias de diferença: 368\n"
     ]
    }
   ],
   "source": [
    "data_1 = datetime(2024, 12, 20, 8, 30, 20)\n",
    "data_2 = datetime(2023, 12, 18, 8, 20, 9)\n",
    "\n",
    "dif = data_1 - data_2\n",
    "\n",
    "print(f'Dias de diferença: {dif.days}')"
   ]
  },
  {
   "cell_type": "code",
   "execution_count": 2,
   "metadata": {},
   "outputs": [
    {
     "name": "stdout",
     "output_type": "stream",
     "text": [
      "Anos: 1\n",
      "Meses: 0\n",
      "Dias: 2\n",
      "Horas: 0\n",
      "Minutos: 10\n",
      "Segundos: 11\n"
     ]
    }
   ],
   "source": [
    "from dateutil.relativedelta import relativedelta\n",
    "from datetime import datetime\n",
    "\n",
    "# Definindo duas datas\n",
    "data_1 = datetime(2024, 12, 20, 8, 30, 20)\n",
    "data_2 = datetime(2023, 12, 18, 8, 20, 9)\n",
    "\n",
    "# Calculando a diferença\n",
    "diferenca = relativedelta(data_1, data_2)\n",
    "\n",
    "# Apresentando a diferença\n",
    "print(f'Anos: {diferenca.years}')\n",
    "print(f'Meses: {diferenca.months}')\n",
    "print(f'Dias: {diferenca.days}')\n",
    "print(f'Horas: {diferenca.hours}')\n",
    "print(f'Minutos: {diferenca.minutes}')\n",
    "print(f'Segundos: {diferenca.seconds}')"
   ]
  },
  {
   "cell_type": "code",
   "execution_count": 36,
   "metadata": {},
   "outputs": [
    {
     "name": "stdout",
     "output_type": "stream",
     "text": [
      "2019-07-28\n",
      "2022-06-10\n",
      "2023-01-13\n",
      "2024-05-09\n",
      "\n",
      "2024-05-09\n",
      "2023-01-13\n",
      "2022-06-10\n",
      "2019-07-28\n"
     ]
    }
   ],
   "source": [
    "# Cria uma lista de datas\n",
    "datas = [\n",
    "    datetime(2023, 1, 13),\n",
    "    datetime(2024, 5, 9),\n",
    "    datetime(2019, 7, 28),\n",
    "    datetime(2022, 6, 10),\n",
    "]\n",
    "\n",
    "# Obtém as datas de forma crescente\n",
    "datas_ordenadas = sorted(datas)\n",
    "\n",
    "# Apresenta as datas\n",
    "for data in datas_ordenadas:\n",
    "    print(data.date())\n",
    "\n",
    "# Dá um espaço\n",
    "print('')\n",
    "\n",
    "# Obtém as datas ordenadas de forma decrescente\n",
    "datas_ordenadas = sorted(datas, reverse = True)\n",
    "\n",
    "# Apresenta as datas\n",
    "for data in datas_ordenadas:\n",
    "    print(data.date())"
   ]
  },
  {
   "cell_type": "code",
   "execution_count": null,
   "metadata": {},
   "outputs": [],
   "source": []
  },
  {
   "cell_type": "code",
   "execution_count": 21,
   "metadata": {},
   "outputs": [
    {
     "name": "stdout",
     "output_type": "stream",
     "text": [
      "domingo, 22 de setembro\n",
      "Data formatada: segunda-feira, 08 de outubro de 2012, 14:13:02\n"
     ]
    }
   ],
   "source": [
    "# Para deixar os dias da semana e os meses em português\n",
    "import locale\n",
    "locale.setlocale(locale.LC_TIME, 'pt_BR.UTF-8')\n",
    "\n",
    "# Obtém um objeto datetime com a data e hora atuais\n",
    "agora = datetime.now()\n",
    "\n",
    "# Apresenta o resultado datetime de forma personalizada\n",
    "print(agora.strftime(\"%A, %d de %B\"))\n",
    "\n",
    "# Cria uma data e hora específica\n",
    "data_horario = datetime(2012, 10, 8, 14, 13, 2)\n",
    "\n",
    "# Personaliza a apresentação da data e hora\n",
    "data_formatada = data_horario.strftime(\"%A, %d de %B de %Y, %H:%M:%S\")\n",
    "\n",
    "# Apresenta o resultado datetime de forma personalizada\n",
    "print(f\"Data formatada: {data_formatada}\")"
   ]
  },
  {
   "cell_type": "code",
   "execution_count": null,
   "metadata": {},
   "outputs": [],
   "source": []
  },
  {
   "cell_type": "code",
   "execution_count": 46,
   "metadata": {},
   "outputs": [
    {
     "name": "stdout",
     "output_type": "stream",
     "text": [
      "Data: 2023-06-30 15:30:20\n"
     ]
    }
   ],
   "source": [
    "string_data = \"30 Junho, 2023, 15:30:20\"\n",
    "formato = \"%d %B, %Y, %H:%M:%S\"\n",
    "\n",
    "data = datetime.strptime(string_data, formato)\n",
    "\n",
    "print(f\"Data: {data}\") "
   ]
  },
  {
   "cell_type": "code",
   "execution_count": 47,
   "metadata": {},
   "outputs": [
    {
     "name": "stdout",
     "output_type": "stream",
     "text": [
      "Data: 2023-06-09 15:30:20\n"
     ]
    }
   ],
   "source": [
    "# formato DD/MM/YYYY\n",
    "string_data = \"09/06/2023, 15:30:20\"\n",
    "formato = \"%d/%m/%Y, %H:%M:%S\"\n",
    "data = datetime.strptime(string_data, formato)\n",
    "\n",
    "print(f\"Data: {data}\")"
   ]
  },
  {
   "cell_type": "code",
   "execution_count": 48,
   "metadata": {},
   "outputs": [
    {
     "name": "stdout",
     "output_type": "stream",
     "text": [
      "Data: 2023-09-06 15:30:20\n"
     ]
    }
   ],
   "source": [
    "# formato MM/DD/YYYY\n",
    "string_data = \"09/06/2023, 15:30:20\"\n",
    "formato = \"%m/%d/%Y, %H:%M:%S\"\n",
    "data = datetime.strptime(string_data, formato)\n",
    "\n",
    "print(f\"Data: {data}\")"
   ]
  },
  {
   "cell_type": "code",
   "execution_count": null,
   "metadata": {},
   "outputs": [],
   "source": []
  },
  {
   "cell_type": "code",
   "execution_count": 5,
   "metadata": {},
   "outputs": [
    {
     "name": "stdout",
     "output_type": "stream",
     "text": [
      "Data e hora atual: 2024-10-26 01:41:02.765216\n",
      "Data específica: 2023-12-25 10:30:00\n",
      "Diferença entre datas: 1007 days, 0:10:11\n",
      "Data 10 dias no futuro: 2024-11-05 01:41:02.765216\n",
      "Data 10 dias no passado: 2024-10-16 01:41:02.765216\n",
      "Data formatada: 26/10/2024 01:41:02\n",
      "Data convertida: 2023-12-25 10:30:00\n",
      "Ano: 2024, Mês: 10, Dia: 26, Hora: 1, Minuto: 41, Segundo: 2\n",
      "data_1 é posterior a data_2\n"
     ]
    }
   ],
   "source": [
    "from datetime import datetime, timedelta\n",
    "\n",
    "# Exemplo 1: Obter a data e hora atual\n",
    "agora = datetime.now()\n",
    "print(f\"Data e hora atual: {agora}\")\n",
    "# Comentário: datetime.now() retorna a data e hora atual do sistema.\n",
    "\n",
    "# Exemplo 2: Criar um objeto datetime específico\n",
    "data_especifica = datetime(2023, 12, 25, 10, 30, 0)\n",
    "print(f\"Data específica: {data_especifica}\")\n",
    "# Comentário: Podemos criar um objeto datetime passando ano, mês, dia, hora, minuto e segundo.\n",
    "\n",
    "# Exemplo 3: Calcular a diferença entre duas datas\n",
    "data_1 = datetime(2024, 9, 20, 8, 30, 20)\n",
    "data_2 = datetime(2021, 12, 18, 8, 20, 9)\n",
    "diferenca = data_1 - data_2\n",
    "print(f\"Diferença entre datas: {diferenca}\")\n",
    "# Comentário: A diferença entre dois objetos datetime resulta em um objeto timedelta.\n",
    "\n",
    "# Exemplo 4: Adicionar e subtrair tempo usando timedelta\n",
    "data_futura = agora + timedelta(days=10)\n",
    "data_passada = agora - timedelta(days=10)\n",
    "print(f\"Data 10 dias no futuro: {data_futura}\")\n",
    "print(f\"Data 10 dias no passado: {data_passada}\")\n",
    "# Comentário: timedelta permite adicionar ou subtrair intervalos de tempo (dias, horas, minutos, etc.) a um objeto datetime.\n",
    "\n",
    "# Exemplo 5: Formatar uma data para uma string\n",
    "data_formatada = agora.strftime(\"%d/%m/%Y %H:%M:%S\")\n",
    "print(f\"Data formatada: {data_formatada}\")\n",
    "# Comentário: strftime() formata um objeto datetime para uma string de acordo com o formato especificado.\n",
    "\n",
    "# Exemplo 6: Converter uma string para um objeto datetime\n",
    "string_data = \"25/12/2023 10:30:00\"\n",
    "formato = \"%d/%m/%Y %H:%M:%S\"\n",
    "data_convertida = datetime.strptime(string_data, formato)\n",
    "print(f\"Data convertida: {data_convertida}\")\n",
    "# Comentário: strptime() converte uma string para um objeto datetime de acordo com o formato especificado.\n",
    "\n",
    "# Exemplo 7: Obter componentes individuais de uma data\n",
    "ano = agora.year\n",
    "mes = agora.month\n",
    "dia = agora.day\n",
    "hora = agora.hour\n",
    "minuto = agora.minute\n",
    "segundo = agora.second\n",
    "print(f\"Ano: {ano}, Mês: {mes}, Dia: {dia}, Hora: {hora}, Minuto: {minuto}, Segundo: {segundo}\")\n",
    "# Comentário: Podemos acessar componentes individuais de um objeto datetime usando suas propriedades.\n",
    "\n",
    "# Exemplo 8: Comparar duas datas\n",
    "if data_1 > data_2:\n",
    "    print(\"data_1 é posterior a data_2\")\n",
    "else:\n",
    "    print(\"data_1 é anterior ou igual a data_2\")\n",
    "# Comentário: Objetos datetime podem ser comparados diretamente usando operadores de comparação."
   ]
  },
  {
   "cell_type": "code",
   "execution_count": 25,
   "metadata": {},
   "outputs": [
    {
     "data": {
      "text/plain": [
       "'01 de outubro de 24'"
      ]
     },
     "execution_count": 25,
     "metadata": {},
     "output_type": "execute_result"
    }
   ],
   "source": [
    "from datetime import datetime\n",
    "from datetime import timedelta\n",
    "import locale\n",
    "\n",
    "locale.setlocale(locale.LC_TIME, \"pt-BR.UTF-8\")\n",
    "\n",
    "data_1 = datetime(2024, 10, 1, 21, 12, 10, 10)\n",
    "\n",
    "data_2 = data_1 + timedelta(milliseconds = 3)\n",
    "\n",
    "data_2.strftime(\"%d de %B de %y\")"
   ]
  },
  {
   "cell_type": "code",
   "execution_count": null,
   "metadata": {},
   "outputs": [],
   "source": []
  }
 ],
 "metadata": {
  "kernelspec": {
   "display_name": "base",
   "language": "python",
   "name": "python3"
  },
  "language_info": {
   "codemirror_mode": {
    "name": "ipython",
    "version": 3
   },
   "file_extension": ".py",
   "mimetype": "text/x-python",
   "name": "python",
   "nbconvert_exporter": "python",
   "pygments_lexer": "ipython3",
   "version": "3.11.7"
  }
 },
 "nbformat": 4,
 "nbformat_minor": 2
}
