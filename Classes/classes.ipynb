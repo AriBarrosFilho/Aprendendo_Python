{
 "cells": [
  {
   "cell_type": "markdown",
   "metadata": {},
   "source": [
    "### Classe Carro"
   ]
  },
  {
   "cell_type": "markdown",
   "metadata": {},
   "source": [
    "<span style=\"color: #FFC107; font-size: 22px;\">**Classe**</span>\n",
    "\n",
    "Uma classe é um modelo ou um molde para criar objetos. Ela define um conjunto de atributos e métodos que seus objetos podem ter. Em outras palavras, uma classe é uma estrutura que agrupa dados e funcionalidades relacionadas.\n",
    "\n",
    "<span style=\"color: #FFC107; font-size: 22px;\">**Objeto**</span>\n",
    "\n",
    "Um objeto é uma instância de uma classe. Quando você cria um objeto, você está criando uma nova instância da classe. Cada objeto pode ter valores diferentes para seus atributos, mas compartilha os métodos definidos pela classe.\n",
    "\n",
    "<span style=\"color: #FFC107; font-size: 22px;\">**Instância**</span>\n",
    "\n",
    "Instância é simplesmente um termo usado para se referir a um objeto criado a partir de uma classe. Portanto, quando você cria um objeto de uma classe, você está criando uma instância dessa classe."
   ]
  },
  {
   "cell_type": "code",
   "execution_count": 2,
   "metadata": {},
   "outputs": [
    {
     "name": "stdout",
     "output_type": "stream",
     "text": [
      "BMW\n",
      "2012\n",
      "A marca do carro é BMW e o ano é 2012\n",
      "<class '__main__.Carro'>\n"
     ]
    }
   ],
   "source": [
    "class Carro:\n",
    "\n",
    "    # __init__ também é chamado de dunderscore\n",
    "    def __init__(self, marca, ano):\n",
    "        \"\"\"\n",
    "        Inicializa uma nova instância da classe.\n",
    "\n",
    "        Parâmetros:\n",
    "        marca (str): A marca do objeto.\n",
    "        ano (int): O ano de fabricação do objeto.\n",
    "        \"\"\"\n",
    "        self.marca = marca\n",
    "        self.ano = ano\n",
    "\n",
    "    def exibir_info(self):\n",
    "        print(f\"A marca do carro é {self.marca} e o ano é {self.ano}\")\n",
    "\n",
    "\n",
    "# Cria uma instância da classe meu_carroro, e define seus atributos\n",
    "meu_carro = Carro('BMW', 2012)\n",
    "\n",
    "# Apresenta o atributo 'marca' da classe 'meu_carroro'\n",
    "print(meu_carro.marca)\n",
    "\n",
    "# Apresenta o atributo 'ano' da classe 'meu_carroro'\n",
    "print(meu_carro.ano)\n",
    "\n",
    "# Utiliza o método 'exibir_info()' da classe meu_carroros\n",
    "meu_carro.exibir_info()\n",
    "\n",
    "print(type(meu_carro))"
   ]
  },
  {
   "cell_type": "markdown",
   "metadata": {},
   "source": [
    "Aqui está o que está acontecendo:\n",
    "\n",
    "1. Classe ``Carro``: Define os atributos marca e modelo e um método exibir_info.\n",
    "2. Objeto ``meu_carro``: É uma instância da classe Carro. Foi criado usando o construtor __init__, que inicializa os atributos marca e modelo.\n",
    "3. Método ``exibir_info``: Pode ser chamado no objeto meu_carro para mostrar as informações do carro.\n",
    "\n",
    "Em resumo:\n",
    "\n",
    "**Classe**: O modelo ou molde (neste caso, Carro). <br>\n",
    "**Objeto/Instância**: Uma ocorrência específica da classe (neste caso, meu_carro)."
   ]
  },
  {
   "cell_type": "markdown",
   "metadata": {},
   "source": [
    "### Classe Venda"
   ]
  },
  {
   "cell_type": "code",
   "execution_count": 9,
   "metadata": {},
   "outputs": [
    {
     "name": "stdout",
     "output_type": "stream",
     "text": [
      "\n",
      "ID: 1, \n",
      "Produto: Camisa, \n",
      "Quantidade vendida: 2, \n",
      "Preço unitário: R$ 87.98,\n",
      "Preço total: R$ 175.96\n",
      "\n",
      "Help on class Venda in module utils:\n",
      "\n",
      "class Venda(builtins.object)\n",
      " |  Venda(id_produto: int, produto: str, quantidade: int, preco_unitario: float) -> None\n",
      " |  \n",
      " |  A classe Venda representa uma venda de um produto, contendo informações como ID do produto, \n",
      " |  nome do produto, quantidade vendida e preço unitário. A classe fornece métodos para calcular \n",
      " |  o valor total da venda e exibir as informações de forma formatada.\n",
      " |  \n",
      " |  Methods defined here:\n",
      " |  \n",
      " |  __init__(self, id_produto: int, produto: str, quantidade: int, preco_unitario: float) -> None\n",
      " |      Inicializa uma nova instância da classe Venda.\n",
      " |      \n",
      " |      Parâmetros:\n",
      " |      - id_produto (int): O identificador único do produto.\n",
      " |      - produto (str): O nome ou descrição do produto.\n",
      " |      - quantidade (int): A quantidade de itens vendidos.\n",
      " |      - preco_unitario (float): O preço unitário do produto.\n",
      " |      \n",
      " |      Exemplo:\n",
      " |      >>> venda = Venda(101, \"Notebook\", 2, 2500.00)\n",
      " |  \n",
      " |  calcular_total(self) -> float\n",
      " |      Calcula o valor total da venda com base na quantidade e no preço unitário.\n",
      " |      \n",
      " |      Retorna:\n",
      " |      - float: O valor total da venda.\n",
      " |      \n",
      " |      Exemplo:\n",
      " |      >>> venda = Venda(101, \"Notebook\", 2, 2500.00)\n",
      " |      >>> venda.calcular_total()\n",
      " |      5000.00\n",
      " |  \n",
      " |  exibir_info(self) -> None\n",
      " |      Exibe as informações da venda de forma formatada, incluindo ID do produto, nome do produto, \n",
      " |      quantidade, preço unitário e valor total da venda. A formatação do texto é ajustada para remover \n",
      " |      indentação desnecessária.\n",
      " |      \n",
      " |      O texto é impresso diretamente no console.\n",
      " |      \n",
      " |      Exemplo:\n",
      " |      >>> venda = Venda(101, \"Notebook\", 2, 2500.00)\n",
      " |      >>> venda.exibir_info()\n",
      " |      ID: 101, \n",
      " |      Produto: Notebook, \n",
      " |      Quantidade vendida: 2, \n",
      " |      Preço unitário: R$ 2500.00,\n",
      " |      Preço total: R$ 5000.00\n",
      " |  \n",
      " |  ----------------------------------------------------------------------\n",
      " |  Data descriptors defined here:\n",
      " |  \n",
      " |  __dict__\n",
      " |      dictionary for instance variables\n",
      " |  \n",
      " |  __weakref__\n",
      " |      list of weak references to the object\n",
      "\n"
     ]
    }
   ],
   "source": [
    "# from classe_venda import *\n",
    "from utils import Venda\n",
    "\n",
    "# Cria uma instância/objeto da classe Venda\n",
    "venda_hoje = Venda(1, 'Camisa', 2, 87.98)\n",
    "\n",
    "# Utiliza o método para exibir informações\n",
    "venda_hoje.exibir_info()\n",
    "\n",
    "# Apresenta informações detalhadas sobre a classe, seus atibutos e métodos\n",
    "help(Venda)"
   ]
  },
  {
   "cell_type": "markdown",
   "metadata": {},
   "source": [
    "### Classe Cliente"
   ]
  },
  {
   "cell_type": "code",
   "execution_count": 1,
   "metadata": {},
   "outputs": [
    {
     "data": {
      "text/plain": [
       "387"
      ]
     },
     "execution_count": 1,
     "metadata": {},
     "output_type": "execute_result"
    }
   ],
   "source": [
    "from utils import Cliente\n",
    "\n",
    "# Criação da instância da classe Cliente\n",
    "cliente_1 = Cliente('Ari', 'aribarrosfilho@gmail.com')\n",
    "\n",
    "# Realização de algumas compras\n",
    "cliente_1.adicionar_comprar(100)\n",
    "cliente_1.adicionar_comprar(200)\n",
    "cliente_1.adicionar_comprar(87)\n",
    "\n",
    "# Apresentação do total gasto\n",
    "cliente_1.total_gasto()"
   ]
  },
  {
   "cell_type": "markdown",
   "metadata": {},
   "source": [
    "### Classe ContaBancaria"
   ]
  },
  {
   "cell_type": "code",
   "execution_count": 11,
   "metadata": {},
   "outputs": [
    {
     "name": "stdout",
     "output_type": "stream",
     "text": [
      "Guilherme Márcio Monteiro\n",
      "4859820605347673\n",
      "{'_nome': 'Guilherme Márcio Monteiro', '_ContaBancaria__cpf': '038.130.641-07', 'data_nascimento': '03/04/1991', 'num_conta': '1255417-0', 'saldo': 0, 'historico': [], 'cartoes': [<__main__.CartaoCredito object at 0x0000019786FECB10>]}\n"
     ]
    }
   ],
   "source": [
    "from utils import ContaBancaria, CartaoCredito\n",
    "\n",
    "# Define os atributos de entrada obrigatórios para a instância/objeto da classe ContaBancaria\n",
    "nome = 'Guilherme Márcio Monteiro'\n",
    "data_nascimento = '03/04/1991'\n",
    "cpf = '038.130.641-07'\n",
    "num_conta = '1255417-0'\n",
    "\n",
    "# Cria uma instância/objeto da classe ContaBancaria\n",
    "cliente_01 = ContaBancaria(nome, cpf, data_nascimento, num_conta)\n",
    "\n",
    "# Cria uma instância/objeto da classe CartaoCredito\n",
    "cartao_credito_01 = CartaoCredito(nome, cliente_01)\n",
    "\n",
    "print(cliente_01.cartoes[0].titular)\n",
    "\n",
    "print(cartao_credito_01.numero)\n",
    "\n",
    "print(cliente_01.__dict__)"
   ]
  },
  {
   "cell_type": "code",
   "execution_count": 7,
   "metadata": {},
   "outputs": [
    {
     "name": "stdout",
     "output_type": "stream",
     "text": [
      "Seu saldo atual é R$ 50.00\n"
     ]
    }
   ],
   "source": [
    "cliente_01.depositar_dinheiro(10)\n",
    "cliente_01.sacar_dinheiro(8)\n",
    "cliente_01.depositar_dinheiro(23)\n",
    "\n",
    "cliente_01.consultar_saldo()"
   ]
  },
  {
   "cell_type": "code",
   "execution_count": 9,
   "metadata": {},
   "outputs": [
    {
     "name": "stdout",
     "output_type": "stream",
     "text": [
      "Seu saldo atual é R$ 0.00\n"
     ]
    }
   ],
   "source": [
    "# Define os atributos de entrada obrigatórios para a instância/objeto da classe ContaBancaria\n",
    "nome = 'Allana Camila Ayla Vieira'\n",
    "data_nascimento = '13/08/1964'\n",
    "cpf = '670.243.807-99'\n",
    "\n",
    "# Cria uma instância/objeto da classe ContaBancaria\n",
    "cliente_02 = ContaBancaria(nome, cpf, data_nascimento)\n",
    "\n",
    "cliente_02.consultar_saldo()"
   ]
  },
  {
   "cell_type": "code",
   "execution_count": 10,
   "metadata": {},
   "outputs": [],
   "source": [
    "cliente_01.transferir_dinheiro(13, cliente_02)\n",
    "\n",
    "cliente_01.consultar_saldo()"
   ]
  },
  {
   "cell_type": "markdown",
   "metadata": {},
   "source": [
    "### Classe Pessoa - @property (getter & setter)"
   ]
  },
  {
   "cell_type": "code",
   "execution_count": 1,
   "metadata": {},
   "outputs": [
    {
     "name": "stdout",
     "output_type": "stream",
     "text": [
      "Ari\n",
      "24\n",
      "Carlos\n",
      "30\n"
     ]
    }
   ],
   "source": [
    "from utils import Pessoa\n",
    "\n",
    "pessoa = Pessoa(\"Ari\", 24)\n",
    "\n",
    "# Acessando como se fossem atributos públicos\n",
    "print(pessoa.nome)\n",
    "print(pessoa.idade)\n",
    "\n",
    "# Modificando com setters implicitamente\n",
    "pessoa.nome = \"Carlos\"\n",
    "pessoa.idade = 30\n",
    "\n",
    "print(pessoa.nome)\n",
    "print(pessoa.idade)"
   ]
  },
  {
   "cell_type": "markdown",
   "metadata": {},
   "source": [
    "### Classe Agencia"
   ]
  },
  {
   "cell_type": "code",
   "execution_count": 1,
   "metadata": {},
   "outputs": [],
   "source": [
    "from utils import Agencia, AgenciaVirtual, AgenciaComum, AgenciaPremium\n",
    "\n",
    "agencia_1 = Agencia(\"(12) 2796-7096\", \"55.162.343/0001-44\", \"0001\")\n",
    "\n",
    "agencia_virtual_1 = AgenciaVirtual(\"(16) 3738-3937\", \"83.091.699/0001-70\", \"1001\")\n",
    "\n",
    "agencia_comum_1 = AgenciaComum(\"(11) 3862-9483\", \"78.705.775/0001-50\", \"2001\")\n",
    "\n",
    "agencia_premium_1 = AgenciaPremium(\"(11) 2943-8861\", \"04.859.277/0001-25\", \"3001\")"
   ]
  },
  {
   "cell_type": "markdown",
   "metadata": {},
   "source": [
    "### Classe Jogador21"
   ]
  },
  {
   "cell_type": "code",
   "execution_count": 73,
   "metadata": {},
   "outputs": [
    {
     "name": "stdout",
     "output_type": "stream",
     "text": [
      "Marcos possui: 6 pontos\n",
      "Lucas possui: 17 pontos\n",
      "Marta possui: 11 pontos\n",
      "Lucia possui: 2 pontos\n",
      "-------------------------------------------------- \n",
      "\n",
      "Marcos está com 16.\n",
      "-------------------------------------------------- \n",
      "\n",
      "Lucas está com 22 pontos e por isso perdeu o jogo.\n",
      "-------------------------------------------------- \n",
      "\n",
      "Marta está com 21 e por isso ganhou o jogo!!!\n",
      "-------------------------------------------------- \n",
      "\n"
     ]
    }
   ],
   "source": [
    "from random import choices\n",
    "from typing import List, Tuple\n",
    "\n",
    "\"\"\"\n",
    "REGRAS:\n",
    "\n",
    "- Jogadores recebem duas cartas inicialmente.\n",
    "- Depois de receber as duas cartas, o jogador só pode pedir uma carta por vez.\n",
    "- Jogadores têm apenas as opções de pedir mais cartas (hit) ou parar (stand) com as cartas que já tem.\n",
    "- Ganha o jogador que chegar em 21 primeiro.\n",
    "- Caso todos os jogadores resolvam para (stand), o jogador que possuir um número inferior e mais próximo de 21 ganha.\n",
    "\n",
    "Valor das cartas: \n",
    "    - Ás = 1\n",
    "    - Cartas de 2 a 10 têm o valor correspondente ao número da carta.\n",
    "    - Valetes (J), Damas (Q) e Reis (K) valem 10 pontos.\n",
    "\"\"\"\n",
    "\n",
    "class Cartas:\n",
    "    \"\"\"\n",
    "    Define as cartas de um baralho e seus respectivos valores em um jogo de 21.\n",
    "\n",
    "    Args:\n",
    "        naipe (List[str]): Os naipes das cartas de um baralho.\n",
    "        valor (List[str]): Valores das cartas de um baralho.\n",
    "    \"\"\"\n",
    "\n",
    "    def __init__(self) -> None:\n",
    "        self.naipe = [\"Paus\", \"Espadas\", \"Copas\", \"Ouros\"]\n",
    "        self.valor = [\"Ás\"] + [str(i) for i in range(2, 11)] + [\"Valete\", \"Dama\", \"Rei\"]\n",
    "\n",
    "    def todas_cartas(self) -> List[str]:\n",
    "        \"\"\"\n",
    "        Cria todas as possíveis combinações de carta de um baralho com base no naipe e no valor.\n",
    "        \"\"\"\n",
    "\n",
    "        # Lista que armazenará cada uma das cartas\n",
    "        lista_todas_cartas = []\n",
    "        for valor in self.valor:\n",
    "            for naipe in self.naipe:\n",
    "                lista_todas_cartas.append(valor + \" de \" + naipe)\n",
    "\n",
    "        return lista_todas_cartas\n",
    "    \n",
    "    def valor_cartas(self) -> List[Tuple[str, int]]:\n",
    "        \"\"\"\n",
    "        Atribui a cada uma das cartas um valor numérico segundo as regras do jogo 21.\n",
    "        \"\"\"\n",
    "\n",
    "        # Lista que armazenará os valores de cada uma das cartas\n",
    "        lista_valor_cartas = []\n",
    "        for i in self.todas_cartas():\n",
    "\n",
    "            # Caso o naipe da carta seja um: 'Ás'\n",
    "            if 'Ás' in i:\n",
    "                lista_valor_cartas.append(1)\n",
    "\n",
    "            # Caso o naipe da carta seja um: Valete, Dama ou Rei\n",
    "            elif ('Valete' in i) or ('Dama' in i) or ('Rei' in i):\n",
    "                lista_valor_cartas.append(10)\n",
    "\n",
    "            # Caso o valor da carta seja numérico (2 até 10)\n",
    "            else:\n",
    "                aux = i[:2]\n",
    "                aux = aux.strip()\n",
    "                aux = int(aux)\n",
    "                lista_valor_cartas.append(aux)\n",
    "\n",
    "        return list(zip(self.todas_cartas(), lista_valor_cartas))\n",
    "\n",
    "\n",
    "class Jogador21(Cartas):\n",
    "    \"\"\"\n",
    "    Define alguns atributos para um jogador de 21.\n",
    "\n",
    "    Args:\n",
    "        nome (str): Nome do jogador.\n",
    "        cartas_sorteadas (List): Lista que contém o histórico de cartas sorteadas para aquele jogador.\n",
    "        pontos (int): Quantos pontos o jogador realizou na partida atual.\n",
    "\n",
    "        baralho (List[Tuple[str, int]]): Naipe e valor de cada uma das cartas de um baralho e seu valor no jogo 21.\n",
    "    \"\"\"\n",
    "\n",
    "    cartas = Cartas()\n",
    "    baralho = cartas.valor_cartas()\n",
    "\n",
    "    def __init__(self, nome) -> None:\n",
    "        self.nome = nome\n",
    "        self.cartas_sorteadas = []\n",
    "        self.pontos = None\n",
    "        self.continuar_sorteio = []\n",
    "        self.baralho = Jogador21.baralho\n",
    "\n",
    "    def recebe_cartas(self, baralho: List[Tuple[str, int]], \n",
    "                      quantidade: int = 2) -> List[Tuple[str, int]] | None:\n",
    "        \"\"\"\n",
    "        Distribui as duas cartas iniciais para o jogador\n",
    "\n",
    "        Args:\n",
    "            baralho (List[Tuple[str, int]]): Baralho atual.\n",
    "            quantidade (int): Quantidade de cartas que serão retiradas do baralho.\n",
    "\n",
    "        Return:\n",
    "            List[Tuple[str, int]] | None: Retorna o baralho sem as cartas que foram retiradas pelo jogador.\n",
    "        \"\"\"\n",
    "\n",
    "        # Se ainda houver pelo menos 2 ou uma carta no baralho\n",
    "        if len(baralho) > (quantidade - 1):\n",
    "\n",
    "            # Seleciona 2 ou 1 carta aleatória do baralho\n",
    "            cartas_escolhidas = choices(baralho, k = quantidade)\n",
    "\n",
    "            for i in cartas_escolhidas:\n",
    "\n",
    "                # Seleciona a posição na lista com base no elemento\n",
    "                posicao = baralho.index(i)\n",
    "\n",
    "                # Retorna o elemento com base em sua posição e depois o remove da lista\n",
    "                carta = baralho.pop(posicao)\n",
    "                self.cartas_sorteadas.append(carta)\n",
    "\n",
    "            return baralho\n",
    "        \n",
    "        else:\n",
    "            None\n",
    "\n",
    "    def calcula_ponto(self) -> int:\n",
    "        \"\"\"\n",
    "        Calcula a quantidade total de pontos do jogador com base no seu histórico\n",
    "        \"\"\"\n",
    "        somatorio = 0\n",
    "        for i in self.cartas_sorteadas:\n",
    "            somatorio += i[1]\n",
    "        self.pontos = somatorio\n",
    "        return self.pontos\n",
    "\n",
    "\n",
    "class Jogo:\n",
    "    \"\"\"\n",
    "    Faz o jogo funcionar com base nas regras, jogadores, baralhos, mostrando \n",
    "    as pontuações dos jogadores e quando eles ganham e perdem.\n",
    "    \"\"\"\n",
    "\n",
    "    def __init__(self, baralho, *jogadores) -> None:\n",
    "        self.baralho = baralho\n",
    "        self.jogadores = jogadores\n",
    "        self.eliminados = [False for _ in range(len(jogadores))]\n",
    "\n",
    "    def verificador_pontos(self) -> None:\n",
    "        \"\"\"\n",
    "        Apresenta a pontuação de cada jogador\n",
    "        \"\"\"\n",
    "\n",
    "        for j, i in enumerate(self.jogadores):\n",
    "            if not self.eliminados[j]:\n",
    "                print(f\"{i.nome} possui: {i.calcula_ponto()} pontos\")\n",
    "        print('-' * 50, '\\n')\n",
    "        return\n",
    "\n",
    "    def jogo_funcionando(self):\n",
    "        \"\"\"\n",
    "        Executa o jogo.\n",
    "        \"\"\"\n",
    "\n",
    "        while True:\n",
    "\n",
    "            # O jogo só será encerrado caso não haja mais cartas no baralho\n",
    "            # ou todos os jogadores sejam elimidados\n",
    "            if (len(self.baralho) <= 0) or (not (False in self.eliminados)):\n",
    "                break\n",
    "\n",
    "            # Caso o jogo ainda não tenha iniciado\n",
    "            if len(self.baralho) == 52:\n",
    "\n",
    "                # Cada jogador receberá duas cartas\n",
    "                for i in self.jogadores:\n",
    "                    self.baralho = i.recebe_cartas(self.baralho, quantidade = 2)\n",
    "\n",
    "                # Apresenta a pontuação de cada jogador\n",
    "                self.verificador_pontos()\n",
    "\n",
    "            for j, i in enumerate(self.jogadores):\n",
    "                # O jogador i recebe uma carta\n",
    "                self.baralho = i.recebe_cartas(self.baralho, quantidade = 1)\n",
    "                if self.baralho == None:\n",
    "                    self.baralho = 0\n",
    "                    break\n",
    "\n",
    "                # É calculada a pontuação do jogador\n",
    "                pontos = i.calcula_ponto()\n",
    "\n",
    "                # Verifica se o jogador perdeu o jogo\n",
    "                if (pontos > 21) and (not self.eliminados[j]):\n",
    "                    print(f\"{i.nome} está com {i.calcula_ponto()} pontos e por isso perdeu o jogo.\")\n",
    "                    print('-' * 50, '\\n')\n",
    "                    self.eliminados[j] = True\n",
    "\n",
    "                # Verifica se o jogador ganhou o jogo\n",
    "                elif (pontos == 21) and (not self.eliminados[j]):\n",
    "                    print(f\"{i.nome} está com {i.calcula_ponto()} e por isso ganhou o jogo!!!\")\n",
    "                    print('-' * 50, '\\n')\n",
    "\n",
    "                    # Para o jogo ser encerrado\n",
    "                    self.eliminados = [True for _ in range(len(self.jogadores))]\n",
    "                    break\n",
    "\n",
    "                # Verifica se o jogador possui um valor de cartas inferior a 21\n",
    "                elif (pontos < 21) and (not self.eliminados[j]):\n",
    "                    print(f\"{i.nome} está com {i.calcula_ponto()}.\")\n",
    "                    print('-' * 50, '\\n')\n",
    "\n",
    "\n",
    "# Define a pessoa responsável pela entrega de cartas aos jogadores\n",
    "dealer = Jogador21(\"Dealer\")\n",
    "\n",
    "# Na classe Jogador21, todos os jogadores têm seus próprios baralhos\n",
    "# mas nessa caso iremos utilizar somente um baralho, que é a do dealer\n",
    "baralho = dealer.baralho\n",
    "\n",
    "# Cria uma instância para cada um jogador\n",
    "jogador_1 = Jogador21(\"Marcos\")\n",
    "jogador_2 = Jogador21(\"Lucas\")\n",
    "jogador_3 = Jogador21(\"Marta\")\n",
    "jogador_4 = Jogador21(\"Lucia\")\n",
    "\n",
    "# Faz o jogo acontecer com base no baralho e nos jogadores\n",
    "jogo = Jogo(baralho, jogador_1, jogador_2, jogador_3, jogador_4)\n",
    "jogo.jogo_funcionando()"
   ]
  },
  {
   "cell_type": "code",
   "execution_count": 31,
   "metadata": {},
   "outputs": [
    {
     "name": "stdout",
     "output_type": "stream",
     "text": [
      "Help on built-in function print in module builtins:\n",
      "\n",
      "print(*args, sep=' ', end='\\n', file=None, flush=False)\n",
      "    Prints the values to a stream, or to sys.stdout by default.\n",
      "    \n",
      "    sep\n",
      "      string inserted between values, default a space.\n",
      "    end\n",
      "      string appended after the last value, default a newline.\n",
      "    file\n",
      "      a file-like object (stream); defaults to the current sys.stdout.\n",
      "    flush\n",
      "      whether to forcibly flush the stream.\n",
      "\n"
     ]
    }
   ],
   "source": [
    "help(print)"
   ]
  },
  {
   "cell_type": "markdown",
   "metadata": {},
   "source": [
    "## Encapsulamento, Herança, Polimorgismo e Abstração"
   ]
  },
  {
   "cell_type": "markdown",
   "metadata": {},
   "source": [
    "### Encapsulamento"
   ]
  },
  {
   "cell_type": "markdown",
   "metadata": {},
   "source": [
    "Encapsulamento refere-se ao agrupamento de dados (atributos) e métodos (funções) que operam sobre esses dados dentro de uma classe. \n",
    "\n",
    "Também envolve o controle do acesso a esses dados para garantir que a implementação interna seja protegida e manipulada de maneira controlada."
   ]
  },
  {
   "cell_type": "code",
   "execution_count": 2,
   "metadata": {},
   "outputs": [
    {
     "name": "stdout",
     "output_type": "stream",
     "text": [
      "24\n",
      "25\n"
     ]
    }
   ],
   "source": [
    "class Pessoa:\n",
    "    def __init__(self, nome, idade):\n",
    "        self._nome = nome  # Atributo protegido (uso de _)\n",
    "        self.__idade = idade  # Atributo privado (uso de __)\n",
    "\n",
    "    def get_idade(self):\n",
    "        return self.__idade\n",
    "\n",
    "    def set_idade(self, idade):\n",
    "        if idade > 0:\n",
    "            self.__idade = idade\n",
    "        else:\n",
    "            print(\"Idade inválida\")\n",
    "\n",
    "\n",
    "# Exemplo de uso\n",
    "pessoa = Pessoa(\"Ari\", 24)\n",
    "print(pessoa.get_idade())  # Acessa a idade de forma controlada\n",
    "pessoa.set_idade(25)  # Modifica a idade de forma controlada\n",
    "print(pessoa.get_idade())"
   ]
  },
  {
   "cell_type": "markdown",
   "metadata": {},
   "source": [
    "### Herança"
   ]
  },
  {
   "cell_type": "markdown",
   "metadata": {},
   "source": [
    "Herança permite que uma classe herde atributos e métodos de outra classe, promovendo a reutilização de código."
   ]
  },
  {
   "cell_type": "code",
   "execution_count": 3,
   "metadata": {},
   "outputs": [
    {
     "name": "stdout",
     "output_type": "stream",
     "text": [
      "Latido\n",
      "Miau\n"
     ]
    }
   ],
   "source": [
    "class Animal:\n",
    "    def __init__(self, nome):\n",
    "        self.nome = nome\n",
    "\n",
    "    def fazer_som(self):\n",
    "        pass  # Método que será sobrescrito\n",
    "\n",
    "class Cachorro(Animal):\n",
    "    def fazer_som(self):\n",
    "        return \"Latido\"\n",
    "\n",
    "class Gato(Animal):\n",
    "    def fazer_som(self):\n",
    "        return \"Miau\"\n",
    "\n",
    "# Exemplo de uso\n",
    "cachorro = Cachorro(\"Rex\")\n",
    "gato = Gato(\"Mimi\")\n",
    "print(cachorro.fazer_som())  # Saída: Latido\n",
    "print(gato.fazer_som())  # Saída: Miau"
   ]
  },
  {
   "cell_type": "markdown",
   "metadata": {},
   "source": [
    "### Polimorfismo"
   ]
  },
  {
   "cell_type": "markdown",
   "metadata": {},
   "source": [
    "Polimorfismo permite que diferentes classes tenham métodos com o mesmo nome, mas comportamentos diferentes. \n",
    "\n",
    "Isso promove flexibilidade e uso de interfaces comuns."
   ]
  },
  {
   "cell_type": "code",
   "execution_count": 79,
   "metadata": {},
   "outputs": [],
   "source": [
    "class ClassError(Exception):\n",
    "    def __init__(self, message):\n",
    "        self.message = message\n",
    "        super().__init__(self.message)"
   ]
  },
  {
   "cell_type": "code",
   "execution_count": 76,
   "metadata": {},
   "outputs": [
    {
     "name": "stdout",
     "output_type": "stream",
     "text": [
      "Pinguins não voam\n",
      "Pardal voando rápido\n"
     ]
    },
    {
     "ename": "TypeError",
     "evalue": "object.__init__() takes exactly one argument (the instance to initialize)",
     "output_type": "error",
     "traceback": [
      "\u001b[1;31m---------------------------------------------------------------------------\u001b[0m",
      "\u001b[1;31mTypeError\u001b[0m                                 Traceback (most recent call last)",
      "Cell \u001b[1;32mIn[76], line 30\u001b[0m\n\u001b[0;32m     27\u001b[0m pardal \u001b[38;5;241m=\u001b[39m Pardal()\n\u001b[0;32m     28\u001b[0m fazer_voar(pardal)\n\u001b[1;32m---> 30\u001b[0m fazer_voar(\u001b[38;5;241m8\u001b[39m)\n",
      "Cell \u001b[1;32mIn[76], line 20\u001b[0m, in \u001b[0;36mfazer_voar\u001b[1;34m(ave)\u001b[0m\n\u001b[0;32m     18\u001b[0m     \u001b[38;5;28mprint\u001b[39m(ave\u001b[38;5;241m.\u001b[39mvoar())\n\u001b[0;32m     19\u001b[0m \u001b[38;5;28;01melse\u001b[39;00m:\n\u001b[1;32m---> 20\u001b[0m     \u001b[38;5;28;01mraise\u001b[39;00m ClassError(\u001b[38;5;124m\"\u001b[39m\u001b[38;5;124mA classe que você digitou não é válida.\u001b[39m\u001b[38;5;124m\"\u001b[39m)\n",
      "Cell \u001b[1;32mIn[75], line 5\u001b[0m, in \u001b[0;36mClassError.__init__\u001b[1;34m(self, message)\u001b[0m\n\u001b[0;32m      3\u001b[0m \u001b[38;5;28;01mdef\u001b[39;00m \u001b[38;5;21m__init__\u001b[39m(\u001b[38;5;28mself\u001b[39m, message):\n\u001b[0;32m      4\u001b[0m     \u001b[38;5;28mself\u001b[39m\u001b[38;5;241m.\u001b[39mmessage \u001b[38;5;241m=\u001b[39m message\n\u001b[1;32m----> 5\u001b[0m     \u001b[38;5;28msuper\u001b[39m()\u001b[38;5;241m.\u001b[39m\u001b[38;5;21m__init__\u001b[39m(\u001b[38;5;28mself\u001b[39m\u001b[38;5;241m.\u001b[39mmessage)\n",
      "\u001b[1;31mTypeError\u001b[0m: object.__init__() takes exactly one argument (the instance to initialize)"
     ]
    }
   ],
   "source": [
    "class Ave:\n",
    "    def voar(self):\n",
    "        return \"Ave voando\"\n",
    "\n",
    "\n",
    "class Pinguim(Ave):\n",
    "    def voar(self):\n",
    "        return \"Pinguins não voam\"\n",
    "\n",
    "\n",
    "class Pardal(Ave):\n",
    "    def voar(self):\n",
    "        return \"Pardal voando rápido\"\n",
    "\n",
    "\n",
    "def fazer_voar(ave: Ave):\n",
    "    if isinstance(ave, Ave):\n",
    "        print(ave.voar())\n",
    "    else:\n",
    "        raise ClassError(\"A classe que você digitou não é válida.\")\n",
    "\n",
    "\n",
    "# Exemplo de uso\n",
    "pinguim = Pinguim()\n",
    "fazer_voar(pinguim)\n",
    "\n",
    "pardal = Pardal()\n",
    "fazer_voar(pardal)\n",
    "\n",
    "fazer_voar(8)"
   ]
  },
  {
   "cell_type": "markdown",
   "metadata": {},
   "source": [
    "### Abstração"
   ]
  },
  {
   "cell_type": "markdown",
   "metadata": {},
   "source": [
    "Abstração refere-se ao processo de esconder detalhes complexos e mostrar apenas a funcionalidade essencial. \n",
    "\n",
    "Isso é alcançado usando classes abstratas e métodos abstratos."
   ]
  },
  {
   "cell_type": "code",
   "execution_count": 5,
   "metadata": {},
   "outputs": [
    {
     "name": "stdout",
     "output_type": "stream",
     "text": [
      "50\n",
      "153.86\n"
     ]
    }
   ],
   "source": [
    "from abc import ABC, abstractmethod\n",
    "\n",
    "class Forma(ABC):\n",
    "    @abstractmethod\n",
    "    def area(self):\n",
    "        pass\n",
    "\n",
    "class Retangulo(Forma):\n",
    "    def __init__(self, largura, altura):\n",
    "        self.largura = largura\n",
    "        self.altura = altura\n",
    "\n",
    "    def area(self):\n",
    "        return self.largura * self.altura\n",
    "\n",
    "class Circulo(Forma):\n",
    "    def __init__(self, raio):\n",
    "        self.raio = raio\n",
    "\n",
    "    def area(self):\n",
    "        return 3.14 * (self.raio ** 2)\n",
    "\n",
    "# Exemplo de uso\n",
    "retangulo = Retangulo(10, 5)\n",
    "circulo = Circulo(7)\n",
    "print(retangulo.area())  # Saída: 50\n",
    "print(circulo.area())    # Saída: 153.86"
   ]
  }
 ],
 "metadata": {
  "kernelspec": {
   "display_name": "base",
   "language": "python",
   "name": "python3"
  },
  "language_info": {
   "codemirror_mode": {
    "name": "ipython",
    "version": 3
   },
   "file_extension": ".py",
   "mimetype": "text/x-python",
   "name": "python",
   "nbconvert_exporter": "python",
   "pygments_lexer": "ipython3",
   "version": "3.11.7"
  }
 },
 "nbformat": 4,
 "nbformat_minor": 2
}
