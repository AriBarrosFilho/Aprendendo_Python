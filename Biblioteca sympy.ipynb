{
 "cells": [
  {
   "cell_type": "markdown",
   "id": "2083a63a-37fd-4c29-b826-75923886bf7d",
   "metadata": {},
   "source": [
    "<span style=\"color: #FFC107; font-size: 22px;\">Documentação e referências</span>\n",
    "\n",
    "* [sympy](https://docs.sympy.org/latest/index.html)\n",
    "* [Python Sympy Integrals](https://www.youtube.com/watch?v=GG6FrqeR1QM)\n",
    "* [Exact Areas and Definite Integral with Python](https://www.youtube.com/watch?v=KCNJsGjJ6ig)\n",
    "* [Python Integration, Interpolation, and Curve Fitting](https://www.youtube.com/watch?v=970im6yAmhE)\n",
    "* [Numerical Methods in Python | Numerical Integration | Trapezoidal Rule](https://www.youtube.com/watch?v=mCPWtXVyzFg)\n",
    "* [Solving Systems Of Equations Using Sympy And Numpy (Python)](https://www.youtube.com/watch?v=UbuBwHbZTU8)"
   ]
  },
  {
   "cell_type": "markdown",
   "id": "ff38a6b4",
   "metadata": {},
   "source": [
    "<span style=\"color: #FFC107; font-size: 18px;\">Importando as bibliotecas</span>"
   ]
  },
  {
   "cell_type": "code",
   "execution_count": 1,
   "id": "1aa33710-7ebe-471e-b567-28b7b303c713",
   "metadata": {},
   "outputs": [],
   "source": [
    "import sympy as sp\n",
    "from sympy import exp, log, E\n",
    "from sympy import re, im, I, E, symbols"
   ]
  },
  {
   "cell_type": "markdown",
   "id": "b3cd6e89",
   "metadata": {},
   "source": [
    "### Variáveis, pi, euler, infinito..."
   ]
  },
  {
   "cell_type": "markdown",
   "id": "47701735",
   "metadata": {},
   "source": [
    "<span style=\"color: #FFC107; font-size: 18px;\">Definindo variáveis (incógnitas)</span>"
   ]
  },
  {
   "cell_type": "code",
   "execution_count": 6,
   "id": "c1888b36-d9ed-4e28-b06e-05c96b21ff75",
   "metadata": {},
   "outputs": [],
   "source": [
    "x, y, w = symbols('x y w')"
   ]
  },
  {
   "cell_type": "markdown",
   "id": "6f2d15d8",
   "metadata": {},
   "source": [
    "<span style=\"color: #FFC107; font-size: 18px;\">pi</span>"
   ]
  },
  {
   "cell_type": "code",
   "execution_count": 7,
   "id": "51fc01aa",
   "metadata": {},
   "outputs": [
    {
     "data": {
      "text/latex": [
       "$\\displaystyle \\pi$"
      ],
      "text/plain": [
       "pi"
      ]
     },
     "execution_count": 7,
     "metadata": {},
     "output_type": "execute_result"
    }
   ],
   "source": [
    "sp.pi"
   ]
  },
  {
   "cell_type": "markdown",
   "id": "37f079e5",
   "metadata": {},
   "source": [
    "<span style=\"color: #FFC107; font-size: 18px;\">Número de Euler</span>"
   ]
  },
  {
   "cell_type": "code",
   "execution_count": 3,
   "id": "26088584",
   "metadata": {},
   "outputs": [
    {
     "data": {
      "text/latex": [
       "$\\displaystyle e$"
      ],
      "text/plain": [
       "E"
      ]
     },
     "execution_count": 3,
     "metadata": {},
     "output_type": "execute_result"
    }
   ],
   "source": [
    "E"
   ]
  },
  {
   "cell_type": "code",
   "execution_count": 14,
   "id": "3ae82815",
   "metadata": {},
   "outputs": [
    {
     "data": {
      "text/latex": [
       "$\\displaystyle e^{3}$"
      ],
      "text/plain": [
       "exp(3)"
      ]
     },
     "execution_count": 14,
     "metadata": {},
     "output_type": "execute_result"
    }
   ],
   "source": [
    "E ** 3"
   ]
  },
  {
   "cell_type": "markdown",
   "id": "3c0299dc",
   "metadata": {},
   "source": [
    "<span style=\"color: #FFC107; font-size: 18px;\">Infinito</span>"
   ]
  },
  {
   "cell_type": "code",
   "execution_count": 2,
   "id": "3865105c",
   "metadata": {},
   "outputs": [
    {
     "data": {
      "text/latex": [
       "$\\displaystyle \\infty$"
      ],
      "text/plain": [
       "oo"
      ]
     },
     "execution_count": 2,
     "metadata": {},
     "output_type": "execute_result"
    }
   ],
   "source": [
    "sp.oo"
   ]
  },
  {
   "cell_type": "markdown",
   "id": "4eb9f7e0",
   "metadata": {},
   "source": [
    "### Derivar"
   ]
  },
  {
   "cell_type": "markdown",
   "id": "8bb16047",
   "metadata": {},
   "source": [
    "<span style=\"color: #FFC107; font-size: 18px;\">1º método</span>"
   ]
  },
  {
   "cell_type": "code",
   "execution_count": 51,
   "id": "3ef2570c-077c-4dbe-8b82-b3fd3eb7b62a",
   "metadata": {},
   "outputs": [
    {
     "data": {
      "text/latex": [
       "$\\displaystyle x^{2}$"
      ],
      "text/plain": [
       "x**2"
      ]
     },
     "execution_count": 51,
     "metadata": {},
     "output_type": "execute_result"
    }
   ],
   "source": [
    "f = x**2\n",
    "f"
   ]
  },
  {
   "cell_type": "code",
   "execution_count": 52,
   "id": "cd6f69e0-4f57-4f01-b312-dbc57316cff7",
   "metadata": {},
   "outputs": [
    {
     "data": {
      "text/latex": [
       "$\\displaystyle 2 x$"
      ],
      "text/plain": [
       "2*x"
      ]
     },
     "execution_count": 52,
     "metadata": {},
     "output_type": "execute_result"
    }
   ],
   "source": [
    "dx = sp.Derivative(f)\n",
    "dx = dx.doit()\n",
    "dx"
   ]
  },
  {
   "cell_type": "markdown",
   "id": "65b4fa00",
   "metadata": {},
   "source": [
    "<span style=\"color: #FFC107; font-size: 18px;\">2º método</span>"
   ]
  },
  {
   "cell_type": "code",
   "execution_count": 7,
   "id": "0174ce7c",
   "metadata": {},
   "outputs": [
    {
     "data": {
      "text/latex": [
       "$\\displaystyle x^{2}$"
      ],
      "text/plain": [
       "x**2"
      ]
     },
     "execution_count": 7,
     "metadata": {},
     "output_type": "execute_result"
    }
   ],
   "source": [
    "f = x**2\n",
    "f"
   ]
  },
  {
   "cell_type": "code",
   "execution_count": 8,
   "id": "94d05575-f92f-4182-80e7-5590e6f23e65",
   "metadata": {},
   "outputs": [
    {
     "data": {
      "text/latex": [
       "$\\displaystyle 2 x$"
      ],
      "text/plain": [
       "2*x"
      ]
     },
     "execution_count": 8,
     "metadata": {},
     "output_type": "execute_result"
    }
   ],
   "source": [
    "sp.diff(f)"
   ]
  },
  {
   "cell_type": "code",
   "execution_count": 9,
   "id": "b89e2074-8e75-4cde-a482-307ac0a4dab1",
   "metadata": {},
   "outputs": [
    {
     "data": {
      "text/latex": [
       "$\\displaystyle 2 x$"
      ],
      "text/plain": [
       "2*x"
      ]
     },
     "execution_count": 9,
     "metadata": {},
     "output_type": "execute_result"
    }
   ],
   "source": [
    "sp.diff(f, x)"
   ]
  },
  {
   "cell_type": "markdown",
   "id": "77eb193f",
   "metadata": {},
   "source": [
    "<span style=\"color: #FFC107; font-size: 18px;\">Derivada parcial</span>"
   ]
  },
  {
   "cell_type": "code",
   "execution_count": 12,
   "id": "8126ef97",
   "metadata": {},
   "outputs": [
    {
     "data": {
      "text/latex": [
       "$\\displaystyle x^{4} + 3 y^{2}$"
      ],
      "text/plain": [
       "x**4 + 3*y**2"
      ]
     },
     "execution_count": 12,
     "metadata": {},
     "output_type": "execute_result"
    }
   ],
   "source": [
    "f = x**4 + 3 * y ** 2\n",
    "f"
   ]
  },
  {
   "cell_type": "code",
   "execution_count": 13,
   "id": "f2f3bf15",
   "metadata": {},
   "outputs": [
    {
     "data": {
      "text/latex": [
       "$\\displaystyle 6 y$"
      ],
      "text/plain": [
       "6*y"
      ]
     },
     "execution_count": 13,
     "metadata": {},
     "output_type": "execute_result"
    }
   ],
   "source": [
    "sp.diff(f, y)"
   ]
  },
  {
   "cell_type": "markdown",
   "id": "86fe46e9",
   "metadata": {},
   "source": [
    "### Integrar"
   ]
  },
  {
   "cell_type": "code",
   "execution_count": 55,
   "id": "1b4e59b5-51c3-4352-a961-e78882af61ba",
   "metadata": {},
   "outputs": [
    {
     "data": {
      "text/latex": [
       "$\\displaystyle x$"
      ],
      "text/plain": [
       "x"
      ]
     },
     "execution_count": 55,
     "metadata": {},
     "output_type": "execute_result"
    }
   ],
   "source": [
    "f = x\n",
    "f"
   ]
  },
  {
   "cell_type": "code",
   "execution_count": 24,
   "id": "940ce85f-fd21-424e-8d6e-4432651cd1b4",
   "metadata": {},
   "outputs": [
    {
     "data": {
      "text/latex": [
       "$\\displaystyle \\int x\\, dx$"
      ],
      "text/plain": [
       "Integral(x, x)"
      ]
     },
     "execution_count": 24,
     "metadata": {},
     "output_type": "execute_result"
    }
   ],
   "source": [
    "sp.Integral(f, x)"
   ]
  },
  {
   "cell_type": "code",
   "execution_count": 27,
   "id": "0cfa48aa-1b8d-4815-9b11-9430cb326300",
   "metadata": {},
   "outputs": [
    {
     "data": {
      "text/latex": [
       "$\\displaystyle \\int\\limits_{0}^{1} x\\, dx$"
      ],
      "text/plain": [
       "Integral(x, (x, 0, 1))"
      ]
     },
     "execution_count": 27,
     "metadata": {},
     "output_type": "execute_result"
    }
   ],
   "source": [
    "sp.Integral(f, (x,0,1))"
   ]
  },
  {
   "cell_type": "code",
   "execution_count": 22,
   "id": "65e0d554-f30b-485a-bf6d-1e80219ae8f9",
   "metadata": {},
   "outputs": [
    {
     "data": {
      "text/latex": [
       "$\\displaystyle \\frac{x^{2}}{2}$"
      ],
      "text/plain": [
       "x**2/2"
      ]
     },
     "execution_count": 22,
     "metadata": {},
     "output_type": "execute_result"
    }
   ],
   "source": [
    "sp.integrate(x)"
   ]
  },
  {
   "cell_type": "code",
   "execution_count": 23,
   "id": "807b46da-4c84-4775-b447-076890514c50",
   "metadata": {},
   "outputs": [
    {
     "data": {
      "text/latex": [
       "$\\displaystyle \\frac{x^{2}}{2}$"
      ],
      "text/plain": [
       "x**2/2"
      ]
     },
     "execution_count": 23,
     "metadata": {},
     "output_type": "execute_result"
    }
   ],
   "source": [
    "sp.integrate(f, x)"
   ]
  },
  {
   "cell_type": "code",
   "execution_count": 28,
   "id": "6e3bc902-ef3f-480d-8d93-50f4182cbca3",
   "metadata": {},
   "outputs": [
    {
     "data": {
      "text/latex": [
       "$\\displaystyle \\frac{1}{2}$"
      ],
      "text/plain": [
       "1/2"
      ]
     },
     "execution_count": 28,
     "metadata": {},
     "output_type": "execute_result"
    }
   ],
   "source": [
    "sp.integrate(f, (x,0,1))"
   ]
  },
  {
   "cell_type": "markdown",
   "id": "fd9a6405-5594-4e60-86a1-80ba2d054a62",
   "metadata": {},
   "source": [
    "**Infinito**"
   ]
  },
  {
   "cell_type": "code",
   "execution_count": 6,
   "id": "46a8077d-0deb-4cea-a15c-5ed28434d5b9",
   "metadata": {},
   "outputs": [
    {
     "data": {
      "text/latex": [
       "$\\displaystyle e^{- 2 x}$"
      ],
      "text/plain": [
       "exp(-2*x)"
      ]
     },
     "execution_count": 6,
     "metadata": {},
     "output_type": "execute_result"
    }
   ],
   "source": [
    "f = E**(-2*x)\n",
    "f"
   ]
  },
  {
   "cell_type": "code",
   "execution_count": 7,
   "id": "74a2bf24-b053-40d1-89c2-5be5d09bd0b9",
   "metadata": {},
   "outputs": [
    {
     "data": {
      "text/latex": [
       "$\\displaystyle \\int\\limits_{3}^{\\infty} e^{- 2 x}\\, dx$"
      ],
      "text/plain": [
       "Integral(exp(-2*x), (x, 3, oo))"
      ]
     },
     "execution_count": 7,
     "metadata": {},
     "output_type": "execute_result"
    }
   ],
   "source": [
    "sp.Integral(f, (x,3,sp.oo))"
   ]
  },
  {
   "cell_type": "code",
   "execution_count": 9,
   "id": "09af9e37-c49d-4fab-8795-1efeb6e48d9e",
   "metadata": {},
   "outputs": [
    {
     "data": {
      "text/latex": [
       "$\\displaystyle \\frac{1}{2 e^{6}}$"
      ],
      "text/plain": [
       "exp(-6)/2"
      ]
     },
     "execution_count": 9,
     "metadata": {},
     "output_type": "execute_result"
    }
   ],
   "source": [
    "sp.integrate(f, (x,3,sp.oo))"
   ]
  },
  {
   "cell_type": "markdown",
   "id": "d567ee67-092c-4284-803d-029e167ad77a",
   "metadata": {},
   "source": [
    "**Substituição das variáveis por valores**"
   ]
  },
  {
   "cell_type": "code",
   "execution_count": 3,
   "id": "dacdb4e9-5ff9-459e-afd8-b654f03b3478",
   "metadata": {},
   "outputs": [
    {
     "data": {
      "text/latex": [
       "$\\displaystyle \\frac{e \\left(x + y\\right)}{2}$"
      ],
      "text/plain": [
       "E*(x + y)/2"
      ]
     },
     "execution_count": 3,
     "metadata": {},
     "output_type": "execute_result"
    }
   ],
   "source": [
    "f = E*(x + y)/2\n",
    "f"
   ]
  },
  {
   "cell_type": "code",
   "execution_count": 4,
   "id": "d0c27971-97f6-4c7e-81f3-bceaed79e7d9",
   "metadata": {},
   "outputs": [
    {
     "data": {
      "text/latex": [
       "$\\displaystyle \\frac{3 e}{2}$"
      ],
      "text/plain": [
       "3*E/2"
      ]
     },
     "execution_count": 4,
     "metadata": {},
     "output_type": "execute_result"
    }
   ],
   "source": [
    "f_sub = f.subs([(x,1), (y, 2)])\n",
    "f_sub"
   ]
  },
  {
   "cell_type": "code",
   "execution_count": 45,
   "id": "969883db-f18a-4a1c-934a-7e388b7b108a",
   "metadata": {},
   "outputs": [
    {
     "data": {
      "text/latex": [
       "$\\displaystyle 4.07742274268857$"
      ],
      "text/plain": [
       "4.07742274268857"
      ]
     },
     "execution_count": 45,
     "metadata": {},
     "output_type": "execute_result"
    }
   ],
   "source": [
    "f_sub.evalf()"
   ]
  },
  {
   "cell_type": "code",
   "execution_count": 46,
   "id": "d404511f-617c-40d0-b18a-f498eeec0bf0",
   "metadata": {},
   "outputs": [
    {
     "data": {
      "text/plain": [
       "sympy.core.mul.Mul"
      ]
     },
     "execution_count": 46,
     "metadata": {},
     "output_type": "execute_result"
    }
   ],
   "source": [
    "type(f_sub)"
   ]
  },
  {
   "cell_type": "code",
   "execution_count": 49,
   "id": "18f35637-cbb2-4aaf-8817-00d5bf9b0575",
   "metadata": {},
   "outputs": [
    {
     "data": {
      "text/plain": [
       "4.077422742688568"
      ]
     },
     "execution_count": 49,
     "metadata": {},
     "output_type": "execute_result"
    }
   ],
   "source": [
    "float(f_sub)"
   ]
  },
  {
   "cell_type": "code",
   "execution_count": null,
   "id": "ca6e4711-8410-4ead-9f88-7d1bb38db13a",
   "metadata": {},
   "outputs": [],
   "source": []
  },
  {
   "cell_type": "code",
   "execution_count": null,
   "id": "d988ef26-aa93-43f5-a1e8-68ede2955f32",
   "metadata": {},
   "outputs": [],
   "source": []
  },
  {
   "cell_type": "code",
   "execution_count": null,
   "id": "0ac85eb0-b11a-45fa-8b1f-083761d12bee",
   "metadata": {},
   "outputs": [],
   "source": []
  },
  {
   "cell_type": "code",
   "execution_count": 3,
   "id": "1218a347-31e6-4ec4-9614-96b1dbe1d39e",
   "metadata": {},
   "outputs": [
    {
     "data": {
      "text/latex": [
       "$\\displaystyle e^{- \\frac{x^{3}}{2}}$"
      ],
      "text/plain": [
       "exp(-x**3/2)"
      ]
     },
     "execution_count": 3,
     "metadata": {},
     "output_type": "execute_result"
    }
   ],
   "source": [
    "f = E**(-x**3/2)\n",
    "f"
   ]
  },
  {
   "cell_type": "code",
   "execution_count": 4,
   "id": "28ad99f6-7443-4757-8676-dd01bc9de782",
   "metadata": {},
   "outputs": [
    {
     "data": {
      "text/latex": [
       "$\\displaystyle - \\frac{3 x^{2} e^{- \\frac{x^{3}}{2}}}{2}$"
      ],
      "text/plain": [
       "-3*x**2*exp(-x**3/2)/2"
      ]
     },
     "execution_count": 4,
     "metadata": {},
     "output_type": "execute_result"
    }
   ],
   "source": [
    "dx = sp.Derivative(f)\n",
    "dx = dx.doit()\n",
    "dx"
   ]
  },
  {
   "cell_type": "code",
   "execution_count": 5,
   "id": "bf8a6702-385f-4eb9-bff6-bff52e5abe74",
   "metadata": {},
   "outputs": [
    {
     "data": {
      "text/latex": [
       "$\\displaystyle - \\frac{3 x^{2} e^{- \\frac{x^{3}}{2}}}{2}$"
      ],
      "text/plain": [
       "-3*x**2*exp(-x**3/2)/2"
      ]
     },
     "execution_count": 5,
     "metadata": {},
     "output_type": "execute_result"
    }
   ],
   "source": [
    "sp.diff(f)"
   ]
  },
  {
   "cell_type": "code",
   "execution_count": 6,
   "id": "ee951f35-2fc0-4355-9be2-ab75782f6d07",
   "metadata": {},
   "outputs": [
    {
     "data": {
      "text/latex": [
       "$\\displaystyle - \\frac{3 x^{2} e^{- \\frac{x^{3}}{2}}}{2}$"
      ],
      "text/plain": [
       "-3*x**2*exp(-x**3/2)/2"
      ]
     },
     "execution_count": 6,
     "metadata": {},
     "output_type": "execute_result"
    }
   ],
   "source": [
    "sp.diff(f, x)"
   ]
  },
  {
   "cell_type": "code",
   "execution_count": 12,
   "id": "bcfb2193-0d52-4c95-8d3b-3146cc8af6e0",
   "metadata": {},
   "outputs": [
    {
     "data": {
      "text/latex": [
       "$\\displaystyle \\frac{x e^{- \\frac{\\left|{m - x}\\right|}{b}}}{2 b}$"
      ],
      "text/plain": [
       "x*exp(-Abs(m - x)/b)/(2*b)"
      ]
     },
     "execution_count": 12,
     "metadata": {},
     "output_type": "execute_result"
    }
   ],
   "source": [
    "f = (x/(2*b)) * E**(-abs(x - m)/b)\n",
    "f"
   ]
  },
  {
   "cell_type": "code",
   "execution_count": 13,
   "id": "0e0fa258-9e88-411c-945f-f34b8a6d6dbb",
   "metadata": {},
   "outputs": [
    {
     "data": {
      "text/latex": [
       "$\\displaystyle \\frac{\\int x e^{- \\frac{\\left|{m - x}\\right|}{b}}\\, dx}{2 b}$"
      ],
      "text/plain": [
       "Integral(x*exp(-Abs(m - x)/b), x)/(2*b)"
      ]
     },
     "execution_count": 13,
     "metadata": {},
     "output_type": "execute_result"
    }
   ],
   "source": [
    "sp.integrate(f, x)"
   ]
  },
  {
   "cell_type": "code",
   "execution_count": null,
   "id": "3a3083b7-6b87-402d-b2ce-7296e1c681f2",
   "metadata": {},
   "outputs": [],
   "source": []
  },
  {
   "cell_type": "code",
   "execution_count": 14,
   "id": "51d5fca1-aae9-41b2-a203-b37e95388c6d",
   "metadata": {},
   "outputs": [
    {
     "data": {
      "text/latex": [
       "$\\displaystyle \\frac{x e^{\\frac{- m + x}{b}}}{2 b} + \\frac{x e^{\\frac{m - x}{b}}}{2 b}$"
      ],
      "text/plain": [
       "x*exp((-m + x)/b)/(2*b) + x*exp((m - x)/b)/(2*b)"
      ]
     },
     "execution_count": 14,
     "metadata": {},
     "output_type": "execute_result"
    }
   ],
   "source": [
    "f = (x/(2*b)) * E**((x - m)/b) + (x/(2*b)) * E**((m - x)/b)\n",
    "f"
   ]
  },
  {
   "cell_type": "code",
   "execution_count": 15,
   "id": "d6cf4474-c0f3-4ccc-a357-32df195fc267",
   "metadata": {},
   "outputs": [
    {
     "data": {
      "text/latex": [
       "$\\displaystyle \\frac{\\left(- 2 b - 2 x\\right) e^{\\frac{m - x}{b}}}{4} + \\frac{\\left(- 2 b + 2 x\\right) e^{- \\frac{m - x}{b}}}{4}$"
      ],
      "text/plain": [
       "(-2*b - 2*x)*exp((m - x)/b)/4 + (-2*b + 2*x)*exp(-(m - x)/b)/4"
      ]
     },
     "execution_count": 15,
     "metadata": {},
     "output_type": "execute_result"
    }
   ],
   "source": [
    "sp.integrate(f, x)"
   ]
  },
  {
   "cell_type": "code",
   "execution_count": 16,
   "id": "c8f4f107-2491-418e-b7e7-22c66af71b6b",
   "metadata": {},
   "outputs": [
    {
     "data": {
      "text/latex": [
       "$\\displaystyle \\int \\left(\\frac{x e^{\\frac{- m + x}{b}}}{2 b} + \\frac{x e^{\\frac{m - x}{b}}}{2 b}\\right)\\, dx$"
      ],
      "text/plain": [
       "Integral(x*exp((-m + x)/b)/(2*b) + x*exp((m - x)/b)/(2*b), x)"
      ]
     },
     "execution_count": 16,
     "metadata": {},
     "output_type": "execute_result"
    }
   ],
   "source": [
    "sp.Integral(f, x)"
   ]
  },
  {
   "cell_type": "code",
   "execution_count": null,
   "id": "96fcbb16-f864-4509-937d-b4675962c08e",
   "metadata": {},
   "outputs": [],
   "source": []
  },
  {
   "cell_type": "code",
   "execution_count": 12,
   "id": "a8e4f9ca-64c2-420e-a8ae-2a1cbd63e549",
   "metadata": {},
   "outputs": [
    {
     "data": {
      "text/latex": [
       "$\\displaystyle \\frac{\\operatorname{atan}{\\left(\\frac{x}{b} \\right)} + \\pi}{2 \\pi}$"
      ],
      "text/plain": [
       "(atan(x/b) + pi)/(2*pi)"
      ]
     },
     "execution_count": 12,
     "metadata": {},
     "output_type": "execute_result"
    }
   ],
   "source": [
    "f = (sp.atan(x/b) + sp.pi)/(2*sp.pi)\n",
    "f"
   ]
  },
  {
   "cell_type": "code",
   "execution_count": 13,
   "id": "f0d9f3a9-b36f-411e-8ada-03533755d28c",
   "metadata": {},
   "outputs": [
    {
     "data": {
      "text/latex": [
       "$\\displaystyle \\frac{1}{2 \\pi b \\left(1 + \\frac{x^{2}}{b^{2}}\\right)}$"
      ],
      "text/plain": [
       "1/(2*pi*b*(1 + x**2/b**2))"
      ]
     },
     "execution_count": 13,
     "metadata": {},
     "output_type": "execute_result"
    }
   ],
   "source": [
    "sp.diff(f, x)"
   ]
  },
  {
   "cell_type": "code",
   "execution_count": null,
   "id": "904610e8-fcca-402f-a4a9-7988d1e0dbdc",
   "metadata": {},
   "outputs": [],
   "source": []
  },
  {
   "cell_type": "code",
   "execution_count": 14,
   "id": "b81ce87f-d211-4e50-8689-f25e7c621d7b",
   "metadata": {},
   "outputs": [
    {
     "data": {
      "text/plain": [
       "{-3/2 - sqrt(7)/2: 1, -3/2 + sqrt(7)/2: 1, 0: 1}"
      ]
     },
     "execution_count": 14,
     "metadata": {},
     "output_type": "execute_result"
    }
   ],
   "source": [
    "f = 2*x**3 + 6*x**2 + x\n",
    "sp.roots(f, x)"
   ]
  },
  {
   "cell_type": "code",
   "execution_count": 15,
   "id": "f030baf6-f6db-4bda-bfe3-a041610328a7",
   "metadata": {},
   "outputs": [
    {
     "data": {
      "text/plain": [
       "[0, -3/2 - sqrt(7)/2, -3/2 + sqrt(7)/2]"
      ]
     },
     "execution_count": 15,
     "metadata": {},
     "output_type": "execute_result"
    }
   ],
   "source": [
    "sp.solve(f,x)"
   ]
  },
  {
   "cell_type": "code",
   "execution_count": null,
   "id": "01598619-b061-4aad-8738-3e20ebde68a5",
   "metadata": {},
   "outputs": [],
   "source": []
  },
  {
   "cell_type": "code",
   "execution_count": 16,
   "id": "d4d8a65d-571c-4cf4-a1fd-6e8c8b9cbf96",
   "metadata": {},
   "outputs": [
    {
     "data": {
      "text/latex": [
       "$\\displaystyle 0$"
      ],
      "text/plain": [
       "0"
      ]
     },
     "execution_count": 16,
     "metadata": {},
     "output_type": "execute_result"
    }
   ],
   "source": [
    "from sympy import re, im, I, E, symbols\n",
    "x, y = symbols('x y', real=True)\n",
    "re(2*I)"
   ]
  },
  {
   "cell_type": "code",
   "execution_count": 17,
   "id": "50244ff3-f8d5-40d7-95bc-4dccbc2d6ac2",
   "metadata": {},
   "outputs": [
    {
     "data": {
      "text/latex": [
       "$\\displaystyle 2 i$"
      ],
      "text/plain": [
       "2*I"
      ]
     },
     "execution_count": 17,
     "metadata": {},
     "output_type": "execute_result"
    }
   ],
   "source": [
    "2*I"
   ]
  },
  {
   "cell_type": "code",
   "execution_count": null,
   "id": "938eab82-e1be-4111-a332-eea58410f051",
   "metadata": {},
   "outputs": [],
   "source": []
  },
  {
   "cell_type": "code",
   "execution_count": null,
   "id": "d7f5efcb-54df-4949-8901-480261972fab",
   "metadata": {},
   "outputs": [],
   "source": []
  },
  {
   "cell_type": "code",
   "execution_count": null,
   "id": "7878ba5a-648d-4955-94bf-c2f66356103c",
   "metadata": {},
   "outputs": [],
   "source": []
  },
  {
   "attachments": {
    "45bf2cdd-d349-4a3d-bdee-16bfc0da5629.png": {
     "image/png": "[encoded data removed]"
    }
   },
   "cell_type": "markdown",
   "id": "bea231c5-70a1-47c4-a764-b0fa1eacb98f",
   "metadata": {},
   "source": [
    "![image.png](attachment:45bf2cdd-d349-4a3d-bdee-16bfc0da5629.png)"
   ]
  },
  {
   "cell_type": "code",
   "execution_count": 160,
   "id": "c802f685-fb12-41df-b9cf-0d484cdb106b",
   "metadata": {},
   "outputs": [
    {
     "data": {
      "text/latex": [
       "$\\displaystyle i \\sin{\\left(y \\right)} + \\cos{\\left(x \\right)}$"
      ],
      "text/plain": [
       "I*sin(y) + cos(x)"
      ]
     },
     "execution_count": 160,
     "metadata": {},
     "output_type": "execute_result"
    }
   ],
   "source": [
    "seno_cosseno = sp.cos(x) + I*sp.sin(y)\n",
    "seno_cosseno"
   ]
  },
  {
   "cell_type": "code",
   "execution_count": 169,
   "id": "4e48e1c4-af85-4f37-bb37-d55719a648ca",
   "metadata": {},
   "outputs": [
    {
     "data": {
      "text/latex": [
       "$\\displaystyle \\int\\limits_{- \\pi}^{\\pi}\\int\\limits_{- \\pi}^{\\pi} x y \\left(i \\sin{\\left(y \\right)} + \\cos{\\left(x \\right)}\\right)\\, dx\\, dy$"
      ],
      "text/plain": [
       "Integral(x*y*(I*sin(y) + cos(x)), (x, -pi, pi), (y, -pi, pi))"
      ]
     },
     "execution_count": 169,
     "metadata": {},
     "output_type": "execute_result"
    }
   ],
   "source": [
    "sp.Integral(sp.Integral(seno_cosseno*x*y, (x,-sp.pi,sp.pi)), (y,-sp.pi,sp.pi))"
   ]
  },
  {
   "cell_type": "code",
   "execution_count": 170,
   "id": "dcd2b875-d797-481d-820a-40bff7c4cf4b",
   "metadata": {},
   "outputs": [
    {
     "data": {
      "text/latex": [
       "$\\displaystyle - \\frac{i x e^{i y}}{2} - \\frac{i x e^{- i y}}{2} + \\frac{y \\left(- i e^{2 i x} + i\\right) e^{- i x}}{2}$"
      ],
      "text/plain": [
       "-I*x*exp(I*y)/2 - I*x*exp(-I*y)/2 + y*(-I*exp(2*I*x) + I)*exp(-I*x)/2"
      ]
     },
     "execution_count": 170,
     "metadata": {},
     "output_type": "execute_result"
    }
   ],
   "source": [
    "sp.integrate(sp.integrate(seno_cosseno, x), y)"
   ]
  },
  {
   "cell_type": "code",
   "execution_count": 162,
   "id": "7c15a9d5-9d35-46f6-8b44-6ec1ab302f8c",
   "metadata": {},
   "outputs": [
    {
     "data": {
      "text/latex": [
       "$\\displaystyle 0$"
      ],
      "text/plain": [
       "0"
      ]
     },
     "execution_count": 162,
     "metadata": {},
     "output_type": "execute_result"
    }
   ],
   "source": [
    "sp.integrate(sp.integrate(seno_cosseno*x*y, (x,-sp.pi,sp.pi)), (y,-sp.pi,sp.pi))"
   ]
  },
  {
   "cell_type": "code",
   "execution_count": null,
   "id": "0c9c9479-7d02-4ae7-8585-f25a77936546",
   "metadata": {},
   "outputs": [],
   "source": []
  },
  {
   "cell_type": "code",
   "execution_count": 171,
   "id": "326f5f75-2d3a-44f9-acb5-709e225e0442",
   "metadata": {},
   "outputs": [
    {
     "data": {
      "text/latex": [
       "$\\displaystyle x^{2} y^{2} \\left(i \\sin{\\left(y \\right)} + \\cos{\\left(x \\right)}\\right)$"
      ],
      "text/plain": [
       "x**2*y**2*(I*sin(y) + cos(x))"
      ]
     },
     "execution_count": 171,
     "metadata": {},
     "output_type": "execute_result"
    }
   ],
   "source": [
    "seno_cosseno_2 = (sp.cos(x) + I*sp.sin(y))*(x**2)*(y**2)\n",
    "seno_cosseno_2"
   ]
  },
  {
   "cell_type": "code",
   "execution_count": 172,
   "id": "7a00b23d-7a6d-4e5b-8207-685f4892ad2f",
   "metadata": {},
   "outputs": [
    {
     "data": {
      "text/latex": [
       "$\\displaystyle \\int\\limits_{- \\pi}^{\\pi}\\int\\limits_{- \\pi}^{\\pi} x^{2} y^{2} \\left(i \\sin{\\left(y \\right)} + \\cos{\\left(x \\right)}\\right)\\, dx\\, dy$"
      ],
      "text/plain": [
       "Integral(x**2*y**2*(I*sin(y) + cos(x)), (x, -pi, pi), (y, -pi, pi))"
      ]
     },
     "execution_count": 172,
     "metadata": {},
     "output_type": "execute_result"
    }
   ],
   "source": [
    "sp.Integral(sp.Integral(seno_cosseno_2, (x,-sp.pi,sp.pi)), (y,-sp.pi,sp.pi))"
   ]
  },
  {
   "cell_type": "code",
   "execution_count": 173,
   "id": "b2921b1d-9759-4aa3-bb61-e9fb328d1a4a",
   "metadata": {},
   "outputs": [
    {
     "data": {
      "text/latex": [
       "$\\displaystyle y^{3} \\left(- \\frac{i x^{2} e^{i x}}{6} + \\frac{i x^{2} e^{- i x}}{6} + \\frac{x e^{i x}}{3} + \\frac{x e^{- i x}}{3} + \\frac{i e^{i x}}{3} - \\frac{i e^{- i x}}{3}\\right) + \\frac{\\left(- 6 i x^{3} y^{2} - 12 x^{3} y + 12 i x^{3}\\right) e^{- i y}}{36} + \\frac{\\left(- 6 i x^{3} y^{2} + 12 x^{3} y + 12 i x^{3}\\right) e^{i y}}{36}$"
      ],
      "text/plain": [
       "y**3*(-I*x**2*exp(I*x)/6 + I*x**2*exp(-I*x)/6 + x*exp(I*x)/3 + x*exp(-I*x)/3 + I*exp(I*x)/3 - I*exp(-I*x)/3) + (-6*I*x**3*y**2 - 12*x**3*y + 12*I*x**3)*exp(-I*y)/36 + (-6*I*x**3*y**2 + 12*x**3*y + 12*I*x**3)*exp(I*y)/36"
      ]
     },
     "execution_count": 173,
     "metadata": {},
     "output_type": "execute_result"
    }
   ],
   "source": [
    "sp.integrate(sp.integrate(seno_cosseno_2, x), y)"
   ]
  },
  {
   "cell_type": "code",
   "execution_count": 174,
   "id": "dfa5fe52-ff92-45b7-8d96-71f67117a879",
   "metadata": {},
   "outputs": [
    {
     "data": {
      "text/latex": [
       "$\\displaystyle - \\frac{8 \\pi^{4}}{3}$"
      ],
      "text/plain": [
       "-8*pi**4/3"
      ]
     },
     "execution_count": 174,
     "metadata": {},
     "output_type": "execute_result"
    }
   ],
   "source": [
    "sp.integrate(sp.integrate(seno_cosseno_2, (x,-sp.pi,sp.pi)), (y,-sp.pi,sp.pi))"
   ]
  },
  {
   "cell_type": "markdown",
   "id": "5da2e666-1b29-49f8-87c1-0afe5dab30d1",
   "metadata": {},
   "source": [
    "___"
   ]
  },
  {
   "cell_type": "code",
   "execution_count": 98,
   "id": "519f0bdd-6907-4b27-9a21-39884f25849b",
   "metadata": {},
   "outputs": [
    {
     "data": {
      "text/latex": [
       "$\\displaystyle \\cos{\\left(x \\right)}$"
      ],
      "text/plain": [
       "cos(x)"
      ]
     },
     "execution_count": 98,
     "metadata": {},
     "output_type": "execute_result"
    }
   ],
   "source": [
    "cosseno = sp.cos(x)\n",
    "cosseno"
   ]
  },
  {
   "cell_type": "code",
   "execution_count": 92,
   "id": "9dd42370-90d4-42c6-9da4-c18d3e174ea2",
   "metadata": {},
   "outputs": [
    {
     "data": {
      "text/latex": [
       "$\\displaystyle \\int\\limits_{- \\pi}^{\\pi} \\cos{\\left(x \\right)}\\, dx$"
      ],
      "text/plain": [
       "Integral(cos(x), (x, -pi, pi))"
      ]
     },
     "execution_count": 92,
     "metadata": {},
     "output_type": "execute_result"
    }
   ],
   "source": [
    "sp.Integral(cosseno, (x,-sp.pi,sp.pi))"
   ]
  },
  {
   "cell_type": "code",
   "execution_count": 100,
   "id": "27ca85f7-74f9-4129-8840-15aa1b9f4ca0",
   "metadata": {},
   "outputs": [
    {
     "data": {
      "text/latex": [
       "$\\displaystyle 0$"
      ],
      "text/plain": [
       "0"
      ]
     },
     "execution_count": 100,
     "metadata": {},
     "output_type": "execute_result"
    }
   ],
   "source": [
    "sp.integrate(cosseno, (x,-sp.pi,sp.pi))"
   ]
  },
  {
   "cell_type": "code",
   "execution_count": null,
   "id": "318d8a57-1dda-44be-b0c5-5fdba81584ce",
   "metadata": {},
   "outputs": [],
   "source": []
  },
  {
   "cell_type": "code",
   "execution_count": 156,
   "id": "05162e1c-63ff-4289-b886-e019c898878d",
   "metadata": {},
   "outputs": [
    {
     "data": {
      "text/latex": [
       "$\\displaystyle \\sin{\\left(y \\right)}$"
      ],
      "text/plain": [
       "sin(y)"
      ]
     },
     "execution_count": 156,
     "metadata": {},
     "output_type": "execute_result"
    }
   ],
   "source": [
    "seno = sp.sin(y)\n",
    "seno"
   ]
  },
  {
   "cell_type": "code",
   "execution_count": 157,
   "id": "387e3ea1-3393-47eb-810b-619e55e006ca",
   "metadata": {},
   "outputs": [
    {
     "data": {
      "text/latex": [
       "$\\displaystyle \\int\\limits_{- \\pi}^{\\pi} \\sin{\\left(y \\right)}\\, dy$"
      ],
      "text/plain": [
       "Integral(sin(y), (y, -pi, pi))"
      ]
     },
     "execution_count": 157,
     "metadata": {},
     "output_type": "execute_result"
    }
   ],
   "source": [
    "sp.Integral(seno, (y,-sp.pi,sp.pi))"
   ]
  },
  {
   "cell_type": "code",
   "execution_count": 158,
   "id": "f4ab7ca8-a208-4863-9ca5-b0241b1e2852",
   "metadata": {},
   "outputs": [
    {
     "data": {
      "text/latex": [
       "$\\displaystyle 0$"
      ],
      "text/plain": [
       "0"
      ]
     },
     "execution_count": 158,
     "metadata": {},
     "output_type": "execute_result"
    }
   ],
   "source": [
    "sp.integrate(seno, (y,-sp.pi,sp.pi))"
   ]
  },
  {
   "cell_type": "code",
   "execution_count": 159,
   "id": "ba313b5b-fb30-4bf4-85e8-93f0897b4791",
   "metadata": {},
   "outputs": [
    {
     "data": {
      "text/latex": [
       "$\\displaystyle - y \\cos{\\left(y \\right)} + \\sin{\\left(y \\right)}$"
      ],
      "text/plain": [
       "-y*cos(y) + sin(y)"
      ]
     },
     "execution_count": 159,
     "metadata": {},
     "output_type": "execute_result"
    }
   ],
   "source": [
    "sp.integrate(seno*y, y)"
   ]
  },
  {
   "cell_type": "markdown",
   "id": "67a3dc62-8cba-4e4c-9c91-c130252b27cb",
   "metadata": {},
   "source": [
    "___"
   ]
  },
  {
   "cell_type": "code",
   "execution_count": 8,
   "id": "177a4351-706d-4536-9a55-396f1b10f6d7",
   "metadata": {},
   "outputs": [
    {
     "data": {
      "text/latex": [
       "$\\displaystyle w^{2} \\cdot \\left(4 - \\frac{w^{2}}{9}\\right)$"
      ],
      "text/plain": [
       "w**2*(4 - w**2/9)"
      ]
     },
     "execution_count": 8,
     "metadata": {},
     "output_type": "execute_result"
    }
   ],
   "source": [
    "funcao = (w ** 2) * (4 - ((w ** 2) /9))\n",
    "funcao"
   ]
  },
  {
   "cell_type": "code",
   "execution_count": 9,
   "id": "119d48f5-901e-4200-b835-9e9e445175ff",
   "metadata": {},
   "outputs": [
    {
     "data": {
      "text/latex": [
       "$\\displaystyle \\int\\limits_{-6}^{6} w^{2} \\cdot \\left(4 - \\frac{w^{2}}{9}\\right)\\, dw$"
      ],
      "text/plain": [
       "Integral(w**2*(4 - w**2/9), (w, -6, 6))"
      ]
     },
     "execution_count": 9,
     "metadata": {},
     "output_type": "execute_result"
    }
   ],
   "source": [
    "sp.Integral(funcao, (w,-6,6))"
   ]
  },
  {
   "cell_type": "code",
   "execution_count": 10,
   "id": "a49d247d-bf9d-4c87-959b-66c8f8258a05",
   "metadata": {},
   "outputs": [
    {
     "data": {
      "text/latex": [
       "$\\displaystyle \\frac{1152}{5}$"
      ],
      "text/plain": [
       "1152/5"
      ]
     },
     "execution_count": 10,
     "metadata": {},
     "output_type": "execute_result"
    }
   ],
   "source": [
    "sp.integrate(funcao, (w,-6,6))"
   ]
  },
  {
   "cell_type": "code",
   "execution_count": null,
   "id": "9abfd3ff-30e8-4066-bc41-0a18ca8f2c63",
   "metadata": {},
   "outputs": [],
   "source": []
  },
  {
   "cell_type": "code",
   "execution_count": 14,
   "id": "6a458eb5",
   "metadata": {},
   "outputs": [
    {
     "data": {
      "text/latex": [
       "$\\displaystyle w^{4}$"
      ],
      "text/plain": [
       "w**4"
      ]
     },
     "execution_count": 14,
     "metadata": {},
     "output_type": "execute_result"
    }
   ],
   "source": [
    "funcao = (w ** 4)\n",
    "funcao"
   ]
  },
  {
   "cell_type": "code",
   "execution_count": 15,
   "id": "90009819",
   "metadata": {},
   "outputs": [
    {
     "data": {
      "text/latex": [
       "$\\displaystyle \\int\\limits_{-6}^{6} w^{4}\\, dw$"
      ],
      "text/plain": [
       "Integral(w**4, (w, -6, 6))"
      ]
     },
     "execution_count": 15,
     "metadata": {},
     "output_type": "execute_result"
    }
   ],
   "source": [
    "sp.Integral(funcao, (w,-6,6))"
   ]
  },
  {
   "cell_type": "code",
   "execution_count": 16,
   "id": "abeb6798",
   "metadata": {},
   "outputs": [
    {
     "data": {
      "text/latex": [
       "$\\displaystyle \\frac{15552}{5}$"
      ],
      "text/plain": [
       "15552/5"
      ]
     },
     "execution_count": 16,
     "metadata": {},
     "output_type": "execute_result"
    }
   ],
   "source": [
    "sp.integrate(funcao, (w,-6,6))"
   ]
  },
  {
   "cell_type": "code",
   "execution_count": null,
   "id": "99df851e-0f46-4ebb-91fb-03ab4f983aff",
   "metadata": {},
   "outputs": [],
   "source": []
  },
  {
   "cell_type": "code",
   "execution_count": 3,
   "id": "63691449",
   "metadata": {},
   "outputs": [
    {
     "data": {
      "text/latex": [
       "$\\displaystyle \\frac{w^{2}}{4} + 1$"
      ],
      "text/plain": [
       "w**2/4 + 1"
      ]
     },
     "execution_count": 3,
     "metadata": {},
     "output_type": "execute_result"
    }
   ],
   "source": [
    "eq_1 = 1 + (w / 2) ** 2\n",
    "eq_1"
   ]
  },
  {
   "cell_type": "code",
   "execution_count": 4,
   "id": "d1e6190f",
   "metadata": {},
   "outputs": [
    {
     "data": {
      "text/latex": [
       "$\\displaystyle \\left(w^{2} + 16\\right)^{2}$"
      ],
      "text/plain": [
       "(w**2 + 16)**2"
      ]
     },
     "execution_count": 4,
     "metadata": {},
     "output_type": "execute_result"
    }
   ],
   "source": [
    "eq_2 = (16 + w ** 2) ** 2\n",
    "eq_2"
   ]
  },
  {
   "cell_type": "code",
   "execution_count": 5,
   "id": "4aa3c8c7",
   "metadata": {},
   "outputs": [
    {
     "data": {
      "text/latex": [
       "$\\displaystyle \\left(\\frac{w^{2}}{4} + 1\\right) \\left(w^{2} + 16\\right)^{2}$"
      ],
      "text/plain": [
       "(w**2/4 + 1)*(w**2 + 16)**2"
      ]
     },
     "execution_count": 5,
     "metadata": {},
     "output_type": "execute_result"
    }
   ],
   "source": [
    "eq_1 * eq_2"
   ]
  },
  {
   "cell_type": "code",
   "execution_count": 4,
   "id": "090272d0",
   "metadata": {},
   "outputs": [],
   "source": [
    "from sympy import DiracDelta"
   ]
  },
  {
   "cell_type": "code",
   "execution_count": 13,
   "id": "d8a68d35",
   "metadata": {},
   "outputs": [
    {
     "data": {
      "text/latex": [
       "$\\displaystyle \\frac{1024 \\cdot \\left(50 \\pi \\delta\\left(w\\right) + \\frac{3}{\\frac{w^{2}}{4} + 1}\\right)}{\\left(w^{2} + 16\\right)^{2}}$"
      ],
      "text/plain": [
       "1024*(50*pi*DiracDelta(w) + 3/(w**2/4 + 1))/(w**2 + 16)**2"
      ]
     },
     "execution_count": 13,
     "metadata": {},
     "output_type": "execute_result"
    }
   ],
   "source": [
    "syy = (50 * (sp.pi) * DiracDelta(w) + 3 / (1 + (w / 2) ** 2)) * (1024 / ((16 + w ** 2) ** 2))\n",
    "syy"
   ]
  },
  {
   "attachments": {
    "image.png": {
     "image/png": "[encoded data removed]"
    }
   },
   "cell_type": "markdown",
   "id": "d825f9d1",
   "metadata": {},
   "source": [
    "![image.png](attachment:image.png)"
   ]
  },
  {
   "cell_type": "code",
   "execution_count": 17,
   "id": "6834772b",
   "metadata": {},
   "outputs": [
    {
     "data": {
      "text/latex": [
       "$\\displaystyle \\int\\limits_{-\\infty}^{\\infty} \\frac{1024 \\cdot \\left(50 \\pi \\delta\\left(w\\right) + \\frac{3}{\\frac{w^{2}}{4} + 1}\\right)}{\\left(w^{2} + 16\\right)^{2}}\\, dw$"
      ],
      "text/plain": [
       "Integral(1024*(50*pi*DiracDelta(w) + 3/(w**2/4 + 1))/(w**2 + 16)**2, (w, -oo, oo))"
      ]
     },
     "execution_count": 17,
     "metadata": {},
     "output_type": "execute_result"
    }
   ],
   "source": [
    "sp.Integral(syy, (w,-sp.oo, sp.oo))"
   ]
  },
  {
   "cell_type": "code",
   "execution_count": 18,
   "id": "b0326bc6",
   "metadata": {},
   "outputs": [
    {
     "data": {
      "text/latex": [
       "$\\displaystyle \\frac{640 \\pi}{3}$"
      ],
      "text/plain": [
       "640*pi/3"
      ]
     },
     "execution_count": 18,
     "metadata": {},
     "output_type": "execute_result"
    }
   ],
   "source": [
    "sp.integrate(syy, (w,-sp.oo, sp.oo))"
   ]
  },
  {
   "cell_type": "code",
   "execution_count": null,
   "id": "64010ee1",
   "metadata": {},
   "outputs": [],
   "source": []
  },
  {
   "cell_type": "code",
   "execution_count": 20,
   "id": "7034d9d8",
   "metadata": {},
   "outputs": [
    {
     "data": {
      "text/latex": [
       "$\\displaystyle \\frac{51200 \\pi \\delta\\left(w\\right)}{\\left(w^{2} + 16\\right)^{2}}$"
      ],
      "text/plain": [
       "51200*pi*DiracDelta(w)/(w**2 + 16)**2"
      ]
     },
     "execution_count": 20,
     "metadata": {},
     "output_type": "execute_result"
    }
   ],
   "source": [
    "syy_1 = (1024 / (16 + w ** 2) ** 2) * (50 * (sp.pi) * DiracDelta(w))\n",
    "syy_1"
   ]
  },
  {
   "cell_type": "code",
   "execution_count": 21,
   "id": "f0fd7bf0",
   "metadata": {},
   "outputs": [
    {
     "data": {
      "text/latex": [
       "$\\displaystyle 200 \\pi$"
      ],
      "text/plain": [
       "200*pi"
      ]
     },
     "execution_count": 21,
     "metadata": {},
     "output_type": "execute_result"
    }
   ],
   "source": [
    "sp.integrate(syy_1, (w,-sp.oo, sp.oo))"
   ]
  },
  {
   "cell_type": "code",
   "execution_count": null,
   "id": "e70c2aae",
   "metadata": {},
   "outputs": [],
   "source": []
  },
  {
   "cell_type": "code",
   "execution_count": 23,
   "id": "36ae12d8",
   "metadata": {},
   "outputs": [
    {
     "data": {
      "text/latex": [
       "$\\displaystyle \\frac{3072}{\\left(\\frac{w^{2}}{4} + 1\\right) \\left(w^{2} + 16\\right)^{2}}$"
      ],
      "text/plain": [
       "3072/((w**2/4 + 1)*(w**2 + 16)**2)"
      ]
     },
     "execution_count": 23,
     "metadata": {},
     "output_type": "execute_result"
    }
   ],
   "source": [
    "syy_2 = (1024 / (16 + w ** 2) ** 2) * (3 / (1 + (w / 2) ** 2))\n",
    "syy_2"
   ]
  },
  {
   "cell_type": "code",
   "execution_count": 24,
   "id": "b1a6bba7",
   "metadata": {},
   "outputs": [
    {
     "data": {
      "text/latex": [
       "$\\displaystyle \\frac{40 \\pi}{3}$"
      ],
      "text/plain": [
       "40*pi/3"
      ]
     },
     "execution_count": 24,
     "metadata": {},
     "output_type": "execute_result"
    }
   ],
   "source": [
    "sp.integrate(syy_2, (w,-sp.oo, sp.oo))"
   ]
  },
  {
   "cell_type": "code",
   "execution_count": null,
   "id": "2a45582b",
   "metadata": {},
   "outputs": [],
   "source": []
  },
  {
   "cell_type": "code",
   "execution_count": 8,
   "id": "2183904c",
   "metadata": {},
   "outputs": [
    {
     "data": {
      "text/latex": [
       "$\\displaystyle \\frac{i w}{3} + 1$"
      ],
      "text/plain": [
       "I*w/3 + 1"
      ]
     },
     "execution_count": 8,
     "metadata": {},
     "output_type": "execute_result"
    }
   ],
   "source": [
    "denominador = 1 + (I * w /3)\n",
    "denominador"
   ]
  },
  {
   "cell_type": "code",
   "execution_count": 9,
   "id": "474ae3e0",
   "metadata": {},
   "outputs": [
    {
     "data": {
      "text/latex": [
       "$\\displaystyle \\frac{2}{\\frac{i w}{3} + 1}$"
      ],
      "text/plain": [
       "2/(I*w/3 + 1)"
      ]
     },
     "execution_count": 9,
     "metadata": {},
     "output_type": "execute_result"
    }
   ],
   "source": [
    "Hjw = 2 / denominador\n",
    "Hjw"
   ]
  },
  {
   "cell_type": "code",
   "execution_count": 10,
   "id": "7586e9cf",
   "metadata": {},
   "outputs": [
    {
     "data": {
      "text/latex": [
       "$\\displaystyle \\frac{36}{\\left|{i w + 3}\\right|^{2}}$"
      ],
      "text/plain": [
       "36/Abs(I*w + 3)**2"
      ]
     },
     "execution_count": 10,
     "metadata": {},
     "output_type": "execute_result"
    }
   ],
   "source": [
    "abs(Hjw) ** 2"
   ]
  },
  {
   "cell_type": "code",
   "execution_count": 24,
   "id": "2df5b770",
   "metadata": {},
   "outputs": [
    {
     "data": {
      "text/latex": [
       "$\\displaystyle \\frac{2}{\\left|{\\frac{i w}{3} + 1}\\right|^{2}}$"
      ],
      "text/plain": [
       "2/Abs(I*w/3 + 1)**2"
      ]
     },
     "execution_count": 24,
     "metadata": {},
     "output_type": "execute_result"
    }
   ],
   "source": [
    "2 / abs(1 + I * w/3) ** 2"
   ]
  },
  {
   "cell_type": "code",
   "execution_count": 37,
   "id": "6b69e878",
   "metadata": {},
   "outputs": [
    {
     "data": {
      "text/latex": [
       "$\\displaystyle \\frac{360}{\\pi \\left(w^{2} + 1\\right) \\left|{i w + 3}\\right|^{2}}$"
      ],
      "text/plain": [
       "360/(pi*(w**2 + 1)*Abs(I*w + 3)**2)"
      ]
     },
     "execution_count": 37,
     "metadata": {},
     "output_type": "execute_result"
    }
   ],
   "source": [
    "py = (abs(Hjw) ** 2) * (20 / (1 + w ** 2)) * (1 / (2 * sp.pi))\n",
    "py"
   ]
  },
  {
   "cell_type": "code",
   "execution_count": 38,
   "id": "fa49040f",
   "metadata": {},
   "outputs": [
    {
     "data": {
      "text/latex": [
       "$\\displaystyle 30$"
      ],
      "text/plain": [
       "30"
      ]
     },
     "execution_count": 38,
     "metadata": {},
     "output_type": "execute_result"
    }
   ],
   "source": [
    "sp.integrate(py, (w,-sp.oo, sp.oo))"
   ]
  },
  {
   "cell_type": "code",
   "execution_count": null,
   "id": "46cc199d",
   "metadata": {},
   "outputs": [],
   "source": []
  },
  {
   "cell_type": "code",
   "execution_count": 5,
   "id": "b8c6414d",
   "metadata": {},
   "outputs": [
    {
     "data": {
      "text/latex": [
       "$\\displaystyle \\frac{0.018}{\\pi \\left|{i w + 3}\\right|^{2}}$"
      ],
      "text/plain": [
       "0.018/(pi*Abs(I*w + 3)**2)"
      ]
     },
     "execution_count": 5,
     "metadata": {},
     "output_type": "execute_result"
    }
   ],
   "source": [
    "snn = (0.036 / abs(3 + I * w) ** 2) * (1 / (2 * sp.pi))\n",
    "snn"
   ]
  },
  {
   "cell_type": "code",
   "execution_count": 6,
   "id": "a119018f",
   "metadata": {},
   "outputs": [
    {
     "data": {
      "text/latex": [
       "$\\displaystyle 0.006$"
      ],
      "text/plain": [
       "0.00600000000000000"
      ]
     },
     "execution_count": 6,
     "metadata": {},
     "output_type": "execute_result"
    }
   ],
   "source": [
    "sp.integrate(snn, (w,-sp.oo, sp.oo))"
   ]
  },
  {
   "cell_type": "code",
   "execution_count": null,
   "id": "849549da",
   "metadata": {},
   "outputs": [],
   "source": []
  },
  {
   "cell_type": "code",
   "execution_count": 28,
   "id": "2ae44e73",
   "metadata": {},
   "outputs": [
    {
     "data": {
      "text/latex": [
       "$\\displaystyle \\frac{1}{\\left(\\frac{w^{2}}{9} + 1\\right) \\left(w^{2} + 1\\right)}$"
      ],
      "text/plain": [
       "1/((w**2/9 + 1)*(w**2 + 1))"
      ]
     },
     "execution_count": 28,
     "metadata": {},
     "output_type": "execute_result"
    }
   ],
   "source": [
    "syy = 1 / ((1 + (w ** 2) / 9) * (1 + w ** 2)) * 1\n",
    "syy"
   ]
  },
  {
   "cell_type": "code",
   "execution_count": 29,
   "id": "778edca7",
   "metadata": {},
   "outputs": [
    {
     "data": {
      "text/latex": [
       "$\\displaystyle \\frac{3 \\pi}{4}$"
      ],
      "text/plain": [
       "3*pi/4"
      ]
     },
     "execution_count": 29,
     "metadata": {},
     "output_type": "execute_result"
    }
   ],
   "source": [
    "sp.integrate(syy, (w,-sp.oo, sp.oo))"
   ]
  },
  {
   "cell_type": "code",
   "execution_count": null,
   "id": "1f658100",
   "metadata": {},
   "outputs": [],
   "source": []
  },
  {
   "cell_type": "code",
   "execution_count": 11,
   "id": "2312041a",
   "metadata": {},
   "outputs": [
    {
     "data": {
      "text/latex": [
       "$\\displaystyle \\frac{16}{w^{4} + 256}$"
      ],
      "text/plain": [
       "16/(w**4 + 256)"
      ]
     },
     "execution_count": 11,
     "metadata": {},
     "output_type": "execute_result"
    }
   ],
   "source": [
    "syy = 16 / (256 + w ** 4)\n",
    "syy"
   ]
  },
  {
   "cell_type": "code",
   "execution_count": 12,
   "id": "94082f64",
   "metadata": {},
   "outputs": [
    {
     "data": {
      "text/latex": [
       "$\\displaystyle \\frac{\\sqrt{2} \\pi}{8}$"
      ],
      "text/plain": [
       "sqrt(2)*pi/8"
      ]
     },
     "execution_count": 12,
     "metadata": {},
     "output_type": "execute_result"
    }
   ],
   "source": [
    "sp.integrate(syy, (w,-sp.oo, sp.oo))"
   ]
  },
  {
   "cell_type": "code",
   "execution_count": null,
   "id": "e009aca2",
   "metadata": {},
   "outputs": [],
   "source": []
  },
  {
   "cell_type": "code",
   "execution_count": 15,
   "id": "41110bba",
   "metadata": {},
   "outputs": [
    {
     "data": {
      "text/latex": [
       "$\\displaystyle e^{- 2 x y}$"
      ],
      "text/plain": [
       "exp(-2*x*y)"
      ]
     },
     "execution_count": 15,
     "metadata": {},
     "output_type": "execute_result"
    }
   ],
   "source": [
    "funcao = E ** (-2 * x * y)\n",
    "funcao"
   ]
  },
  {
   "cell_type": "code",
   "execution_count": 16,
   "id": "6c569fb4",
   "metadata": {},
   "outputs": [
    {
     "data": {
      "text/latex": [
       "$\\displaystyle \\begin{cases} - \\frac{e^{- 2 x y}}{2 y} & \\text{for}\\: y \\neq 0 \\\\x & \\text{otherwise} \\end{cases}$"
      ],
      "text/plain": [
       "Piecewise((-exp(-2*x*y)/(2*y), Ne(y, 0)), (x, True))"
      ]
     },
     "execution_count": 16,
     "metadata": {},
     "output_type": "execute_result"
    }
   ],
   "source": [
    "sp.integrate(funcao, x)"
   ]
  },
  {
   "cell_type": "code",
   "execution_count": 18,
   "id": "8e720df0",
   "metadata": {},
   "outputs": [
    {
     "data": {
      "text/latex": [
       "$\\displaystyle \\int\\limits_{0}^{\\infty} e^{- 2 x y}\\, dx$"
      ],
      "text/plain": [
       "Integral(exp(-2*x*y), (x, 0, oo))"
      ]
     },
     "execution_count": 18,
     "metadata": {},
     "output_type": "execute_result"
    }
   ],
   "source": [
    "sp.Integral(funcao, (x, 0, sp.oo))"
   ]
  },
  {
   "cell_type": "code",
   "execution_count": 19,
   "id": "6852bad2",
   "metadata": {},
   "outputs": [
    {
     "data": {
      "text/latex": [
       "$\\displaystyle \\begin{cases} \\frac{1}{2 y} & \\text{for}\\: \\left|{\\arg{\\left(y \\right)}}\\right| < \\frac{\\pi}{2} \\\\\\int\\limits_{0}^{\\infty} e^{- 2 x y}\\, dx & \\text{otherwise} \\end{cases}$"
      ],
      "text/plain": [
       "Piecewise((1/(2*y), Abs(arg(y)) < pi/2), (Integral(exp(-2*x*y), (x, 0, oo)), True))"
      ]
     },
     "execution_count": 19,
     "metadata": {},
     "output_type": "execute_result"
    }
   ],
   "source": [
    "sp.integrate(funcao, (x, 0, sp.oo))"
   ]
  },
  {
   "cell_type": "code",
   "execution_count": null,
   "id": "1e184d0e",
   "metadata": {},
   "outputs": [],
   "source": []
  },
  {
   "cell_type": "code",
   "execution_count": null,
   "id": "29efc677",
   "metadata": {},
   "outputs": [],
   "source": []
  },
  {
   "cell_type": "code",
   "execution_count": null,
   "id": "965a9a46",
   "metadata": {},
   "outputs": [],
   "source": []
  }
 ],
 "metadata": {
  "kernelspec": {
   "display_name": "Python 3 (ipykernel)",
   "language": "python",
   "name": "python3"
  },
  "language_info": {
   "codemirror_mode": {
    "name": "ipython",
    "version": 3
   },
   "file_extension": ".py",
   "mimetype": "text/x-python",
   "name": "python",
   "nbconvert_exporter": "python",
   "pygments_lexer": "ipython3",
   "version": "3.11.7"
  }
 },
 "nbformat": 4,
 "nbformat_minor": 5
}
