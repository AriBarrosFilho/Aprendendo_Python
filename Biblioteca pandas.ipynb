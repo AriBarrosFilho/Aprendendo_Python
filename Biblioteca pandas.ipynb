{
 "cells": [
  {
   "cell_type": "code",
   "execution_count": null,
   "id": "0b16ceb9-44c9-47d9-be63-d2e4b0959ff9",
   "metadata": {},
   "outputs": [],
   "source": []
  },
  {
   "cell_type": "code",
   "execution_count": null,
   "id": "aaced2b7-27df-46d0-911c-354b4c1448bb",
   "metadata": {},
   "outputs": [],
   "source": [
    "import pandas as pd"
   ]
  },
  {
   "cell_type": "code",
   "execution_count": null,
   "id": "1449057b-96c4-45d5-af4e-d3b1382f4287",
   "metadata": {},
   "outputs": [],
   "source": []
  },
  {
   "cell_type": "code",
   "execution_count": null,
   "id": "4578398c-66bf-48b9-9d4f-e2d0739c9e78",
   "metadata": {},
   "outputs": [],
   "source": []
  },
  {
   "cell_type": "code",
   "execution_count": null,
   "id": "677aad6e-d13a-4ee1-9d22-b640258d318a",
   "metadata": {},
   "outputs": [],
   "source": [
    "df.select_dtypes(include = 'object').columns"
   ]
  },
  {
   "cell_type": "code",
   "execution_count": null,
   "id": "ce0c1dc8-b547-4c00-924b-814d2b9bcc4d",
   "metadata": {},
   "outputs": [],
   "source": [
    "df.select_dtypes(include = 'bool').columns"
   ]
  },
  {
   "cell_type": "code",
   "execution_count": null,
   "id": "aacb19ff-1be9-449c-8b83-9fdae5754291",
   "metadata": {},
   "outputs": [],
   "source": [
    "df.select_dtypes(include = 'int').columns"
   ]
  },
  {
   "cell_type": "code",
   "execution_count": null,
   "id": "70c351c6-0026-4ed0-8996-d8d66d6558b9",
   "metadata": {},
   "outputs": [],
   "source": [
    "df.select_dtypes(include = 'float').columns"
   ]
  },
  {
   "cell_type": "code",
   "execution_count": null,
   "id": "c0fa4548-0676-49a3-9bdf-93fb43d24dd5",
   "metadata": {},
   "outputs": [],
   "source": []
  },
  {
   "cell_type": "code",
   "execution_count": null,
   "id": "c890592a-a03f-4d4f-a1d4-2370d0bb715e",
   "metadata": {},
   "outputs": [],
   "source": []
  }
 ],
 "metadata": {
  "kernelspec": {
   "display_name": "Python 3 (ipykernel)",
   "language": "python",
   "name": "python3"
  },
  "language_info": {
   "codemirror_mode": {
    "name": "ipython",
    "version": 3
   },
   "file_extension": ".py",
   "mimetype": "text/x-python",
   "name": "python",
   "nbconvert_exporter": "python",
   "pygments_lexer": "ipython3",
   "version": "3.11.7"
  }
 },
 "nbformat": 4,
 "nbformat_minor": 5
}
