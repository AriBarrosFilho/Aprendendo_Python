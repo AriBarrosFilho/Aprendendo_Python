{
 "cells": [
  {
   "cell_type": "code",
   "execution_count": null,
   "id": "47de6163-dd57-4c35-9dd2-f47684e8de94",
   "metadata": {},
   "outputs": [],
   "source": []
  },
  {
   "cell_type": "markdown",
   "id": "cddc67b0-2071-4924-a946-65fd4a971af0",
   "metadata": {},
   "source": [
    "Importa a biblioteca math"
   ]
  },
  {
   "cell_type": "code",
   "execution_count": 1,
   "id": "187abb87-798f-4b34-b6df-4e2202b90b9b",
   "metadata": {},
   "outputs": [],
   "source": [
    "import math as mt"
   ]
  },
  {
   "cell_type": "markdown",
   "id": "8e309f04-ad93-468b-8bcd-a87ba3935c06",
   "metadata": {},
   "source": [
    "Documentação e materiais de consulta\n",
    "* [math](https://docs.python.org/3/library/math.html)\n",
    "* [Fórmulas TeX](https://pt.wikipedia.org/wiki/Ajuda:Guia_de_edi%C3%A7%C3%A3o/F%C3%B3rmulas_TeX)"
   ]
  },
  {
   "cell_type": "markdown",
   "id": "8eabe1ad-2ded-454f-b50c-46872e067894",
   "metadata": {},
   "source": [
    "## Number-theoretic and representation functions"
   ]
  },
  {
   "cell_type": "markdown",
   "id": "6dd2ef59-e217-497c-b6b0-651b4d610f8e",
   "metadata": {},
   "source": [
    "### math.ceil()"
   ]
  },
  {
   "cell_type": "markdown",
   "id": "f28d4e28-1c89-49e8-8190-bd44c0bd1e07",
   "metadata": {},
   "source": [
    "Retorna um valor inteiro arredondado para cima"
   ]
  },
  {
   "cell_type": "code",
   "execution_count": 52,
   "id": "ee1e6619-cd8e-4694-bdc4-ed8b69f63170",
   "metadata": {},
   "outputs": [
    {
     "data": {
      "text/plain": [
       "6"
      ]
     },
     "execution_count": 52,
     "metadata": {},
     "output_type": "execute_result"
    }
   ],
   "source": [
    "mt.ceil(5.1)"
   ]
  },
  {
   "cell_type": "markdown",
   "id": "1009038b-8e8c-4ad7-826b-0bc32522361d",
   "metadata": {},
   "source": [
    "Retorna um valor inteiro arredondado para baixo"
   ]
  },
  {
   "cell_type": "code",
   "execution_count": 5,
   "id": "8b9485ce-337b-4bf9-beca-98975499b463",
   "metadata": {},
   "outputs": [
    {
     "data": {
      "text/plain": [
       "5"
      ]
     },
     "execution_count": 5,
     "metadata": {},
     "output_type": "execute_result"
    }
   ],
   "source": [
    "mt.floor(5.1)"
   ]
  },
  {
   "cell_type": "markdown",
   "id": "739ae323-06bc-40d6-8aeb-3deda326088f",
   "metadata": {},
   "source": [
    "Uma combinação é uma forma de agrupar itens de uma coleção sem considerar a ordem em que eles são selecionados.\n",
    "\n",
    "\\begin{equation}\n",
    "C_k^n = \\frac{n!}{(n-k)!k!}\n",
    "\\end{equation}\n",
    "\n",
    "Onde\n",
    "\n",
    "\\begin{equation}\n",
    "n\\ge k\n",
    "\\end{equation}\n",
    "\n",
    "**Por exemplo**, suponha que tenhamos um conjunto de 5 letras: {A,B,C,D,E}\n",
    "\n",
    "Uma combinação de 3 letras desse conjunto seria:\n",
    "\n",
    "{A, B, C}, {A, B, D}, {A, B, E}, {A, C, D}, {A, C, E}, {A, D, E}, {B, C, D}, {B, C, E}, {B, D, E}, {C, D, E}.\n",
    "\n",
    "$mt.comb(n,k) = mt.comb(5,3) = C_3^5 = \\frac{5!}{2!3!} =  10$"
   ]
  },
  {
   "cell_type": "code",
   "execution_count": 51,
   "id": "703f2646-4a0e-477d-97cf-706f8b4feb59",
   "metadata": {},
   "outputs": [
    {
     "data": {
      "text/plain": [
       "10"
      ]
     },
     "execution_count": 51,
     "metadata": {},
     "output_type": "execute_result"
    }
   ],
   "source": [
    "mt.comb(5,3)"
   ]
  },
  {
   "cell_type": "markdown",
   "id": "d4972ae2-3062-4cf4-a857-733a547584ca",
   "metadata": {},
   "source": [
    "Retorna o fatorial de um número"
   ]
  },
  {
   "cell_type": "code",
   "execution_count": 24,
   "id": "8cf76abf-1cc0-4d5f-81b0-8c03e0219b23",
   "metadata": {},
   "outputs": [
    {
     "data": {
      "text/plain": [
       "120"
      ]
     },
     "execution_count": 24,
     "metadata": {},
     "output_type": "execute_result"
    }
   ],
   "source": [
    "mt.factorial(5)"
   ]
  },
  {
   "cell_type": "markdown",
   "id": "7d588802-3150-4aad-ba31-48d1aa210b73",
   "metadata": {},
   "source": [
    "Retorna a raíz cúbica"
   ]
  },
  {
   "cell_type": "markdown",
   "id": "cd9593a1-f19b-4bf0-856e-b2f1b041116d",
   "metadata": {},
   "source": [
    "## Power and logarithmic functions"
   ]
  },
  {
   "cell_type": "code",
   "execution_count": 32,
   "id": "768c30c3-b939-4a0d-88c6-45b95169140c",
   "metadata": {},
   "outputs": [
    {
     "data": {
      "text/plain": [
       "3.0"
      ]
     },
     "execution_count": 32,
     "metadata": {},
     "output_type": "execute_result"
    }
   ],
   "source": [
    "mt.cbrt(27)"
   ]
  },
  {
   "cell_type": "markdown",
   "id": "adc02aa3-0f1b-44cf-83c9-e830d6ef60a1",
   "metadata": {},
   "source": [
    "Retorna o valor do euler elevado a um número\n",
    "\n",
    "mt.exp(x) = $e^x$"
   ]
  },
  {
   "cell_type": "code",
   "execution_count": 35,
   "id": "12ac8c14-38f3-4e44-b65c-e22be0e0f873",
   "metadata": {},
   "outputs": [
    {
     "data": {
      "text/plain": [
       "2.718281828459045"
      ]
     },
     "execution_count": 35,
     "metadata": {},
     "output_type": "execute_result"
    }
   ],
   "source": [
    "mt.exp(1)"
   ]
  },
  {
   "cell_type": "markdown",
   "id": "cc88b858-b2a4-4067-a960-badc3629d7a1",
   "metadata": {},
   "source": [
    "Retorna o valor do 2 elevado a um número\n",
    "\n",
    "mt.exp2(x) = $2^x$"
   ]
  },
  {
   "cell_type": "code",
   "execution_count": 41,
   "id": "05ad543b-910b-4257-b2a4-171db3d5d63c",
   "metadata": {},
   "outputs": [
    {
     "data": {
      "text/plain": [
       "16.0"
      ]
     },
     "execution_count": 41,
     "metadata": {},
     "output_type": "execute_result"
    }
   ],
   "source": [
    "mt.exp2(4)"
   ]
  },
  {
   "cell_type": "markdown",
   "id": "65b34d3d-e918-4eb4-bbbd-67807d3bda30",
   "metadata": {},
   "source": [
    "Retorna o valor do euler elevado a um número\n",
    "\n",
    "mt.expm1(x) = $e^x$ - 1"
   ]
  },
  {
   "cell_type": "code",
   "execution_count": 47,
   "id": "05b96604-6c1a-4624-b2ba-391234c80fd8",
   "metadata": {},
   "outputs": [
    {
     "data": {
      "text/plain": [
       "1.718281828459045"
      ]
     },
     "execution_count": 47,
     "metadata": {},
     "output_type": "execute_result"
    }
   ],
   "source": [
    "mt.expm1(1)"
   ]
  },
  {
   "cell_type": "code",
   "execution_count": null,
   "id": "c5fa736b-c490-416b-b783-2b75a8d3b679",
   "metadata": {},
   "outputs": [],
   "source": []
  },
  {
   "cell_type": "code",
   "execution_count": null,
   "id": "1f7fce73-0686-4957-9d86-63a3d00b334e",
   "metadata": {},
   "outputs": [],
   "source": []
  },
  {
   "cell_type": "code",
   "execution_count": null,
   "id": "19e171cf-6cda-4262-b980-64f9cde1f722",
   "metadata": {},
   "outputs": [],
   "source": []
  },
  {
   "cell_type": "code",
   "execution_count": null,
   "id": "10d35d76-8bfa-48ae-9f94-8007e2ec664f",
   "metadata": {},
   "outputs": [],
   "source": []
  },
  {
   "cell_type": "code",
   "execution_count": null,
   "id": "ba45a7da-5ce1-4adf-93fd-a4d19887cb34",
   "metadata": {},
   "outputs": [],
   "source": []
  },
  {
   "cell_type": "code",
   "execution_count": null,
   "id": "efbf70b0-23c6-495c-8965-2409080d9bd8",
   "metadata": {},
   "outputs": [],
   "source": []
  }
 ],
 "metadata": {
  "kernelspec": {
   "display_name": "Python 3 (ipykernel)",
   "language": "python",
   "name": "python3"
  },
  "language_info": {
   "codemirror_mode": {
    "name": "ipython",
    "version": 3
   },
   "file_extension": ".py",
   "mimetype": "text/x-python",
   "name": "python",
   "nbconvert_exporter": "python",
   "pygments_lexer": "ipython3",
   "version": "3.11.7"
  }
 },
 "nbformat": 4,
 "nbformat_minor": 5
}
