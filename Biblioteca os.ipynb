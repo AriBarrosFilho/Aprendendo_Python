{
 "cells": [
  {
   "cell_type": "code",
   "execution_count": 1,
   "metadata": {},
   "outputs": [],
   "source": [
    "import os"
   ]
  },
  {
   "cell_type": "code",
   "execution_count": 2,
   "metadata": {},
   "outputs": [
    {
     "data": {
      "text/plain": [
       "'c:\\\\Users\\\\AriosvaldoBarros\\\\Downloads\\\\Python - Ari\\\\00 - Python\\\\01 - Aprendendo'"
      ]
     },
     "metadata": {},
     "output_type": "display_data"
    }
   ],
   "source": [
    "# Diretório atual do arquivo .ipynb\n",
    "diretorio_atual = os.getcwd()\n",
    "\n",
    "# Apresenta o diretório\n",
    "display(diretorio_atual)"
   ]
  },
  {
   "cell_type": "code",
   "execution_count": 4,
   "metadata": {},
   "outputs": [
    {
     "data": {
      "text/plain": [
       "'c:\\\\Users\\\\AriosvaldoBarros\\\\Downloads\\\\Python - Ari\\\\00 - Python\\\\01 - Aprendendo\\\\arquivos'"
      ]
     },
     "metadata": {},
     "output_type": "display_data"
    }
   ],
   "source": [
    "# Nome de uma pasta aleatória que está no mesmo local que o arquivo .ipynb\n",
    "nome_pasta = \"arquivos\"\n",
    "\n",
    "# Diretório final\n",
    "diretorio_pasta = os.path.join(diretorio_atual, nome_pasta)\n",
    "\n",
    "# Apresenta o diretório\n",
    "display(diretorio_pasta)"
   ]
  },
  {
   "cell_type": "code",
   "execution_count": 12,
   "metadata": {},
   "outputs": [
    {
     "name": "stdout",
     "output_type": "stream",
     "text": [
      ".git\n",
      "00 - Atalhos.ipynb\n",
      "01 - Edição.ipynb\n",
      "02 - TeX.ipynb\n",
      "Biblioteca datetime.ipynb\n",
      "Biblioteca math.ipynb\n",
      "Biblioteca numpy.ipynb\n",
      "Biblioteca os.ipynb\n",
      "Biblioteca pandas.ipynb\n",
      "Biblioteca sympy.ipynb\n",
      "Biblioteca time.ipynb\n",
      "Básico do Python.ipynb\n",
      "coin_Bitcoin.csv\n",
      "Formatação de números.ipynb\n"
     ]
    }
   ],
   "source": [
    "# Lista arquivos no diretório atual\n",
    "arquivos_no_diretorio_atual = os.listdir('.')\n",
    "\n",
    "for arquivos in arquivos_no_diretorio_atual:\n",
    "    print(arquivos)"
   ]
  },
  {
   "cell_type": "code",
   "execution_count": 14,
   "metadata": {},
   "outputs": [
    {
     "name": "stdout",
     "output_type": "stream",
     "text": [
      "audio.mp3\n",
      "main.py\n",
      "readme.md\n",
      "teste.ipynb\n",
      "texto.py\n",
      "__pycache__\n"
     ]
    }
   ],
   "source": [
    "# Lista arquivos no diretório atual\n",
    "caminho = r\"C:\\Users\\AriosvaldoBarros\\Downloads\\Python - EloGroup\\04.1 - Wiser\\03 - Text to speech\"\n",
    "\n",
    "arquivos_no_diretorio_atual = os.listdir(caminho)\n",
    "\n",
    "for arquivos in arquivos_no_diretorio_atual:\n",
    "    print(arquivos)"
   ]
  },
  {
   "cell_type": "code",
   "execution_count": 19,
   "metadata": {},
   "outputs": [],
   "source": [
    "# Cria uma pasta\n",
    "novo_diretorio = 'meu_diretorio'\n",
    "os.mkdir(novo_diretorio)"
   ]
  },
  {
   "cell_type": "code",
   "execution_count": 16,
   "metadata": {},
   "outputs": [
    {
     "name": "stdout",
     "output_type": "stream",
     "text": [
      "'meu_diretorio' existe.\n"
     ]
    }
   ],
   "source": [
    "caminho = 'meu_diretorio'\n",
    "\n",
    "# Verifica se o arquivo ou diretório existe\n",
    "if os.path.exists(caminho):\n",
    "    print(f\"'{caminho}' existe.\")\n",
    "else:\n",
    "    print(f\"'{caminho}' não existe.\")"
   ]
  },
  {
   "cell_type": "code",
   "execution_count": 20,
   "metadata": {},
   "outputs": [],
   "source": [
    "# Remove a pasta criado\n",
    "os.rmdir(novo_diretorio)"
   ]
  },
  {
   "cell_type": "code",
   "execution_count": 25,
   "metadata": {},
   "outputs": [
    {
     "name": "stdout",
     "output_type": "stream",
     "text": [
      "'coin_Bitcoin.csv' foi renomeado para 'Bitcoin_coin.csv'.\n"
     ]
    }
   ],
   "source": [
    "# Renomear um arquivo ou diretório\n",
    "nome_antigo = 'coin_Bitcoin.csv'\n",
    "nome_novo = 'Bitcoin_coin.csv'\n",
    "\n",
    "os.rename(nome_antigo, nome_novo)"
   ]
  },
  {
   "cell_type": "code",
   "execution_count": 26,
   "metadata": {},
   "outputs": [],
   "source": [
    "nome_antigo = 'Bitcoin_coin.csv'\n",
    "nome_novo = 'coin_Bitcoin.csv'\n",
    "\n",
    "os.rename(nome_antigo, nome_novo)"
   ]
  },
  {
   "cell_type": "code",
   "execution_count": 28,
   "metadata": {},
   "outputs": [
    {
     "data": {
      "text/plain": [
       "'c:\\\\Users\\\\AriosvaldoBarros\\\\Downloads\\\\Python - Ari\\\\00 - Python\\\\01 - Aprendendo\\\\coin_Bitcoin.csv'"
      ]
     },
     "metadata": {},
     "output_type": "display_data"
    }
   ],
   "source": [
    "# Obter o caminho absoluto de um arquivo\n",
    "caminho_relativo = 'coin_Bitcoin.csv'\n",
    "caminho_absoluto = os.path.abspath(caminho_relativo)\n",
    "display(caminho_absoluto)"
   ]
  },
  {
   "cell_type": "code",
   "execution_count": null,
   "metadata": {},
   "outputs": [],
   "source": []
  },
  {
   "cell_type": "code",
   "execution_count": 1,
   "metadata": {
    "vscode": {
     "languageId": "ruby"
    }
   },
   "outputs": [
    {
     "name": "stdout",
     "output_type": "stream",
     "text": [
      "Diretório atual: c:\\Users\\AriosvaldoBarros\\Desktop\\Python\\Aprendendo_Python\n",
      "Arquivos e diretórios no diretório atual: ['.git', '00 - Atalhos.ipynb', '01 - Edição.ipynb', '02 - TeX.ipynb', '03 - Básico do Python.ipynb', '1a-python.ipynb', '1b-exemplo.ipynb', 'Anki', 'Biblioteca datetime.ipynb', 'Biblioteca math.ipynb', 'Biblioteca numpy.ipynb', 'Biblioteca os', 'Biblioteca os.ipynb', 'Biblioteca pandas.ipynb', 'Biblioteca random.ipynb', 'Biblioteca re.ipynb', 'Biblioteca sympy.ipynb', 'Biblioteca time.ipynb', 'Classes', 'coin_Bitcoin.csv', 'Formatação de números.ipynb', 'images_markdown', 'ipywidgets', 'leiame.md', 'requirements.txt']\n",
      "Diretório 'novo_diretorio' criado.\n",
      "'novo_diretorio' existe: True\n",
      "Diretório 'novo_diretorio' renomeado para 'diretorio_renomeado'.\n",
      "Diretório 'diretorio_renomeado' removido.\n",
      "Caminho absoluto de 'teste.txt': c:\\Users\\AriosvaldoBarros\\Desktop\\Python\\Aprendendo_Python\\teste.txt\n",
      "Diretório: c:\\Users\\AriosvaldoBarros\\Desktop\\Python\\Aprendendo_Python, Arquivo: teste.txt\n",
      "Caminho junto: c:\\Users\\AriosvaldoBarros\\Desktop\\Python\\Aprendendo_Python\\teste.txt\n",
      "Tamanho do arquivo 'teste.txt': 12259 bytes\n"
     ]
    }
   ],
   "source": [
    "import os\n",
    "\n",
    "# Obtém o diretório de trabalho atual\n",
    "diretorio_atual = os.getcwd()\n",
    "print(f\"Diretório atual: {diretorio_atual}\")\n",
    "\n",
    "# Lista arquivos e diretórios no diretório atual\n",
    "arquivos_e_diretorios = os.listdir(diretorio_atual)\n",
    "print(f\"Arquivos e diretórios no diretório atual: {arquivos_e_diretorios}\")\n",
    "\n",
    "# Cria um novo diretório\n",
    "novo_diretorio = 'novo_diretorio'\n",
    "os.mkdir(novo_diretorio)\n",
    "print(f\"Diretório '{novo_diretorio}' criado.\")\n",
    "\n",
    "# Verifica se um arquivo ou diretório existe\n",
    "existe = os.path.exists(novo_diretorio)\n",
    "print(f\"'{novo_diretorio}' existe: {existe}\")\n",
    "\n",
    "# Renomeia um diretório\n",
    "nome_antigo = 'novo_diretorio'\n",
    "nome_novo = 'diretorio_renomeado'\n",
    "os.rename(nome_antigo, nome_novo)\n",
    "print(f\"Diretório '{nome_antigo}' renomeado para '{nome_novo}'.\")\n",
    "\n",
    "# Remove um diretório\n",
    "os.rmdir(nome_novo)\n",
    "print(f\"Diretório '{nome_novo}' removido.\")\n",
    "\n",
    "# Obtém o caminho absoluto de um arquivo\n",
    "caminho_relativo = 'teste.txt'\n",
    "caminho_absoluto = os.path.abspath(caminho_relativo)\n",
    "print(f\"Caminho absoluto de '{caminho_relativo}': {caminho_absoluto}\")\n",
    "\n",
    "# Divide o caminho em diretório e arquivo\n",
    "diretorio, arquivo = os.path.split(caminho_absoluto)\n",
    "print(f\"Diretório: {diretorio}, Arquivo: {arquivo}\")\n",
    "\n",
    "# Junta diretório e arquivo em um único caminho\n",
    "caminho_junto = os.path.join(diretorio, arquivo)\n",
    "print(f\"Caminho junto: {caminho_junto}\")\n",
    "\n",
    "# Obtém o tamanho de um arquivo\n",
    "tamanho_arquivo = os.path.getsize(\"requirements.txt\")\n",
    "print(f\"Tamanho do arquivo '{caminho_relativo}': {tamanho_arquivo} bytes\")"
   ]
  },
  {
   "cell_type": "code",
   "execution_count": 4,
   "metadata": {},
   "outputs": [
    {
     "name": "stdout",
     "output_type": "stream",
     "text": [
      "['.git', 'Anki', 'Biblioteca os', 'Classes', 'images_markdown', 'ipywidgets']\n"
     ]
    }
   ],
   "source": [
    "# Lista arquivos e diretórios no diretório atual\n",
    "arquivos_e_diretorios = os.listdir(os.getcwd())\n",
    "\n",
    "# Obtém os nomes das pastas no diretório atual\n",
    "pastas = [nome for nome in arquivos_e_diretorios if os.path.isdir(os.path.join(diretorio_atual, nome))]\n",
    "print(pastas)"
   ]
  },
  {
   "cell_type": "code",
   "execution_count": 7,
   "metadata": {},
   "outputs": [
    {
     "name": "stdout",
     "output_type": "stream",
     "text": [
      "'.git' é um diretório.\n",
      "'00 - Atalhos.ipynb' não é um diretório.\n",
      "'01 - Edição.ipynb' não é um diretório.\n",
      "'02 - TeX.ipynb' não é um diretório.\n",
      "'03 - Básico do Python.ipynb' não é um diretório.\n",
      "'1a-python.ipynb' não é um diretório.\n",
      "'1b-exemplo.ipynb' não é um diretório.\n",
      "'Anki' é um diretório.\n",
      "'Biblioteca datetime.ipynb' não é um diretório.\n",
      "'Biblioteca math.ipynb' não é um diretório.\n",
      "'Biblioteca numpy.ipynb' não é um diretório.\n",
      "'Biblioteca os' é um diretório.\n",
      "'Biblioteca os.ipynb' não é um diretório.\n",
      "'Biblioteca pandas.ipynb' não é um diretório.\n",
      "'Biblioteca random.ipynb' não é um diretório.\n",
      "'Biblioteca re.ipynb' não é um diretório.\n",
      "'Biblioteca sympy.ipynb' não é um diretório.\n",
      "'Biblioteca time.ipynb' não é um diretório.\n",
      "'Classes' é um diretório.\n",
      "'coin_Bitcoin.csv' não é um diretório.\n",
      "'Formatação de números.ipynb' não é um diretório.\n",
      "'images_markdown' é um diretório.\n",
      "'ipywidgets' é um diretório.\n",
      "'leiame.md' não é um diretório.\n",
      "'requirements.txt' não é um diretório.\n",
      "'.git' não é um arquivo.\n",
      "'00 - Atalhos.ipynb' é um arquivo.\n",
      "'01 - Edição.ipynb' é um arquivo.\n",
      "'02 - TeX.ipynb' é um arquivo.\n",
      "'03 - Básico do Python.ipynb' é um arquivo.\n",
      "'1a-python.ipynb' é um arquivo.\n",
      "'1b-exemplo.ipynb' é um arquivo.\n",
      "'Anki' não é um arquivo.\n",
      "'Biblioteca datetime.ipynb' é um arquivo.\n",
      "'Biblioteca math.ipynb' é um arquivo.\n",
      "'Biblioteca numpy.ipynb' é um arquivo.\n",
      "'Biblioteca os' não é um arquivo.\n",
      "'Biblioteca os.ipynb' é um arquivo.\n",
      "'Biblioteca pandas.ipynb' é um arquivo.\n",
      "'Biblioteca random.ipynb' é um arquivo.\n",
      "'Biblioteca re.ipynb' é um arquivo.\n",
      "'Biblioteca sympy.ipynb' é um arquivo.\n",
      "'Biblioteca time.ipynb' é um arquivo.\n",
      "'Classes' não é um arquivo.\n",
      "'coin_Bitcoin.csv' é um arquivo.\n",
      "'Formatação de números.ipynb' é um arquivo.\n",
      "'images_markdown' não é um arquivo.\n",
      "'ipywidgets' não é um arquivo.\n",
      "'leiame.md' é um arquivo.\n",
      "'requirements.txt' é um arquivo.\n",
      "'.git' não é um link simbólico.\n",
      "'00 - Atalhos.ipynb' não é um link simbólico.\n",
      "'01 - Edição.ipynb' não é um link simbólico.\n",
      "'02 - TeX.ipynb' não é um link simbólico.\n",
      "'03 - Básico do Python.ipynb' não é um link simbólico.\n",
      "'1a-python.ipynb' não é um link simbólico.\n",
      "'1b-exemplo.ipynb' não é um link simbólico.\n",
      "'Anki' não é um link simbólico.\n",
      "'Biblioteca datetime.ipynb' não é um link simbólico.\n",
      "'Biblioteca math.ipynb' não é um link simbólico.\n",
      "'Biblioteca numpy.ipynb' não é um link simbólico.\n",
      "'Biblioteca os' não é um link simbólico.\n",
      "'Biblioteca os.ipynb' não é um link simbólico.\n",
      "'Biblioteca pandas.ipynb' não é um link simbólico.\n",
      "'Biblioteca random.ipynb' não é um link simbólico.\n",
      "'Biblioteca re.ipynb' não é um link simbólico.\n",
      "'Biblioteca sympy.ipynb' não é um link simbólico.\n",
      "'Biblioteca time.ipynb' não é um link simbólico.\n",
      "'Classes' não é um link simbólico.\n",
      "'coin_Bitcoin.csv' não é um link simbólico.\n",
      "'Formatação de números.ipynb' não é um link simbólico.\n",
      "'images_markdown' não é um link simbólico.\n",
      "'ipywidgets' não é um link simbólico.\n",
      "'leiame.md' não é um link simbólico.\n",
      "'requirements.txt' não é um link simbólico.\n"
     ]
    }
   ],
   "source": [
    "# Verifica se os itens na lista arquivos_e_diretorios são diretórios\n",
    "for item in arquivos_e_diretorios:\n",
    "    caminho_item = os.path.join(diretorio_atual, item)\n",
    "    if os.path.isdir(caminho_item):\n",
    "        print(f\"'{item}' é um diretório.\")\n",
    "    else:\n",
    "        print(f\"'{item}' não é um diretório.\")\n",
    "\n",
    "\n",
    "# Verifica se os itens na lista arquivos_e_diretorios são arquivos\n",
    "for item in arquivos_e_diretorios:\n",
    "    caminho_item = os.path.join(diretorio_atual, item)\n",
    "    if os.path.isfile(caminho_item):\n",
    "        print(f\"'{item}' é um arquivo.\")\n",
    "    else:\n",
    "        print(f\"'{item}' não é um arquivo.\")\n",
    "\n",
    "# Verifica se os itens na lista arquivos_e_diretorios são links simbólicos\n",
    "for item in arquivos_e_diretorios:\n",
    "    caminho_item = os.path.join(diretorio_atual, item)\n",
    "    if os.path.islink(caminho_item):\n",
    "        print(f\"'{item}' é um link simbólico.\")\n",
    "    else:\n",
    "        print(f\"'{item}' não é um link simbólico.\")\n",
    "\n"
   ]
  },
  {
   "cell_type": "code",
   "execution_count": null,
   "metadata": {},
   "outputs": [],
   "source": []
  }
 ],
 "metadata": {
  "kernelspec": {
   "display_name": "r_env",
   "language": "python",
   "name": "python3"
  },
  "language_info": {
   "codemirror_mode": {
    "name": "ipython",
    "version": 3
   },
   "file_extension": ".py",
   "mimetype": "text/x-python",
   "name": "python",
   "nbconvert_exporter": "python",
   "pygments_lexer": "ipython3",
   "version": "3.12.4"
  }
 },
 "nbformat": 4,
 "nbformat_minor": 2
}
