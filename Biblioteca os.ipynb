{
 "cells": [
  {
   "cell_type": "code",
   "execution_count": 1,
   "metadata": {},
   "outputs": [],
   "source": [
    "import os"
   ]
  },
  {
   "cell_type": "code",
   "execution_count": 2,
   "metadata": {},
   "outputs": [
    {
     "data": {
      "text/plain": [
       "'c:\\\\Users\\\\AriosvaldoBarros\\\\Downloads\\\\Python - Ari\\\\00 - Python\\\\01 - Aprendendo'"
      ]
     },
     "metadata": {},
     "output_type": "display_data"
    }
   ],
   "source": [
    "# Diretório atual do arquivo .ipynb\n",
    "diretorio_atual = os.getcwd()\n",
    "\n",
    "# Apresenta o diretório\n",
    "display(diretorio_atual)"
   ]
  },
  {
   "cell_type": "code",
   "execution_count": 4,
   "metadata": {},
   "outputs": [
    {
     "data": {
      "text/plain": [
       "'c:\\\\Users\\\\AriosvaldoBarros\\\\Downloads\\\\Python - Ari\\\\00 - Python\\\\01 - Aprendendo\\\\arquivos'"
      ]
     },
     "metadata": {},
     "output_type": "display_data"
    }
   ],
   "source": [
    "# Nome de uma pasta aleatória que está no mesmo local que o arquivo .ipynb\n",
    "nome_pasta = \"arquivos\"\n",
    "\n",
    "# Diretório final\n",
    "diretorio_pasta = os.path.join(diretorio_atual, nome_pasta)\n",
    "\n",
    "# Apresenta o diretório\n",
    "display(diretorio_pasta)"
   ]
  },
  {
   "cell_type": "code",
   "execution_count": 12,
   "metadata": {},
   "outputs": [
    {
     "name": "stdout",
     "output_type": "stream",
     "text": [
      ".git\n",
      "00 - Atalhos.ipynb\n",
      "01 - Edição.ipynb\n",
      "02 - TeX.ipynb\n",
      "Biblioteca datetime.ipynb\n",
      "Biblioteca math.ipynb\n",
      "Biblioteca numpy.ipynb\n",
      "Biblioteca os.ipynb\n",
      "Biblioteca pandas.ipynb\n",
      "Biblioteca sympy.ipynb\n",
      "Biblioteca time.ipynb\n",
      "Básico do Python.ipynb\n",
      "coin_Bitcoin.csv\n",
      "Formatação de números.ipynb\n"
     ]
    }
   ],
   "source": [
    "# Lista arquivos no diretório atual\n",
    "arquivos_no_diretorio_atual = os.listdir('.')\n",
    "\n",
    "for arquivos in arquivos_no_diretorio_atual:\n",
    "    print(arquivos)"
   ]
  },
  {
   "cell_type": "code",
   "execution_count": 14,
   "metadata": {},
   "outputs": [
    {
     "name": "stdout",
     "output_type": "stream",
     "text": [
      "audio.mp3\n",
      "main.py\n",
      "readme.md\n",
      "teste.ipynb\n",
      "texto.py\n",
      "__pycache__\n"
     ]
    }
   ],
   "source": [
    "# Lista arquivos no diretório atual\n",
    "caminho = r\"C:\\Users\\AriosvaldoBarros\\Downloads\\Python - EloGroup\\04.1 - Wiser\\03 - Text to speech\"\n",
    "\n",
    "arquivos_no_diretorio_atual = os.listdir(caminho)\n",
    "\n",
    "for arquivos in arquivos_no_diretorio_atual:\n",
    "    print(arquivos)"
   ]
  },
  {
   "cell_type": "code",
   "execution_count": 19,
   "metadata": {},
   "outputs": [],
   "source": [
    "# Cria uma pasta\n",
    "novo_diretorio = 'meu_diretorio'\n",
    "os.mkdir(novo_diretorio)"
   ]
  },
  {
   "cell_type": "code",
   "execution_count": 16,
   "metadata": {},
   "outputs": [
    {
     "name": "stdout",
     "output_type": "stream",
     "text": [
      "'meu_diretorio' existe.\n"
     ]
    }
   ],
   "source": [
    "caminho = 'meu_diretorio'\n",
    "\n",
    "# Verifica se o arquivo ou diretório existe\n",
    "if os.path.exists(caminho):\n",
    "    print(f\"'{caminho}' existe.\")\n",
    "else:\n",
    "    print(f\"'{caminho}' não existe.\")"
   ]
  },
  {
   "cell_type": "code",
   "execution_count": 20,
   "metadata": {},
   "outputs": [],
   "source": [
    "# Remove a pasta criado\n",
    "os.rmdir(novo_diretorio)"
   ]
  },
  {
   "cell_type": "code",
   "execution_count": 25,
   "metadata": {},
   "outputs": [
    {
     "name": "stdout",
     "output_type": "stream",
     "text": [
      "'coin_Bitcoin.csv' foi renomeado para 'Bitcoin_coin.csv'.\n"
     ]
    }
   ],
   "source": [
    "# Renomear um arquivo ou diretório\n",
    "nome_antigo = 'coin_Bitcoin.csv'\n",
    "nome_novo = 'Bitcoin_coin.csv'\n",
    "\n",
    "os.rename(nome_antigo, nome_novo)"
   ]
  },
  {
   "cell_type": "code",
   "execution_count": 26,
   "metadata": {},
   "outputs": [],
   "source": [
    "nome_antigo = 'Bitcoin_coin.csv'\n",
    "nome_novo = 'coin_Bitcoin.csv'\n",
    "\n",
    "os.rename(nome_antigo, nome_novo)"
   ]
  },
  {
   "cell_type": "code",
   "execution_count": 28,
   "metadata": {},
   "outputs": [
    {
     "data": {
      "text/plain": [
       "'c:\\\\Users\\\\AriosvaldoBarros\\\\Downloads\\\\Python - Ari\\\\00 - Python\\\\01 - Aprendendo\\\\coin_Bitcoin.csv'"
      ]
     },
     "metadata": {},
     "output_type": "display_data"
    }
   ],
   "source": [
    "# Obter o caminho absoluto de um arquivo\n",
    "caminho_relativo = 'coin_Bitcoin.csv'\n",
    "caminho_absoluto = os.path.abspath(caminho_relativo)\n",
    "display(caminho_absoluto)"
   ]
  },
  {
   "cell_type": "code",
   "execution_count": null,
   "metadata": {},
   "outputs": [],
   "source": []
  },
  {
   "cell_type": "code",
   "execution_count": null,
   "metadata": {
    "vscode": {
     "languageId": "ruby"
    }
   },
   "outputs": [],
   "source": [
    "import os\n",
    "\n",
    "# Obtém o diretório de trabalho atual\n",
    "diretorio_atual = os.getcwd()\n",
    "print(f\"Diretório atual: {diretorio_atual}\")\n",
    "\n",
    "# Lista arquivos e diretórios no diretório atual\n",
    "arquivos_e_diretorios = os.listdir(diretorio_atual)\n",
    "print(f\"Arquivos e diretórios no diretório atual: {arquivos_e_diretorios}\")\n",
    "\n",
    "# Cria um novo diretório\n",
    "novo_diretorio = 'novo_diretorio'\n",
    "os.mkdir(novo_diretorio)\n",
    "print(f\"Diretório '{novo_diretorio}' criado.\")\n",
    "\n",
    "# Verifica se um arquivo ou diretório existe\n",
    "existe = os.path.exists(novo_diretorio)\n",
    "print(f\"'{novo_diretorio}' existe: {existe}\")\n",
    "\n",
    "# Renomeia um diretório\n",
    "nome_antigo = 'novo_diretorio'\n",
    "nome_novo = 'diretorio_renomeado'\n",
    "os.rename(nome_antigo, nome_novo)\n",
    "print(f\"Diretório '{nome_antigo}' renomeado para '{nome_novo}'.\")\n",
    "\n",
    "# Remove um diretório\n",
    "os.rmdir(nome_novo)\n",
    "print(f\"Diretório '{nome_novo}' removido.\")\n",
    "\n",
    "# Obtém o caminho absoluto de um arquivo\n",
    "caminho_relativo = 'teste.txt'\n",
    "caminho_absoluto = os.path.abspath(caminho_relativo)\n",
    "print(f\"Caminho absoluto de '{caminho_relativo}': {caminho_absoluto}\")\n",
    "\n",
    "# Divide o caminho em diretório e arquivo\n",
    "diretorio, arquivo = os.path.split(caminho_absoluto)\n",
    "print(f\"Diretório: {diretorio}, Arquivo: {arquivo}\")\n",
    "\n",
    "# Junta diretório e arquivo em um único caminho\n",
    "caminho_junto = os.path.join(diretorio, arquivo)\n",
    "print(f\"Caminho junto: {caminho_junto}\")\n",
    "\n",
    "# Obtém o tamanho de um arquivo\n",
    "tamanho_arquivo = os.path.getsize(caminho_relativo)\n",
    "print(f\"Tamanho do arquivo '{caminho_relativo}': {tamanho_arquivo} bytes\")"
   ]
  },
  {
   "cell_type": "code",
   "execution_count": 48,
   "metadata": {},
   "outputs": [],
   "source": []
  },
  {
   "cell_type": "code",
   "execution_count": null,
   "metadata": {},
   "outputs": [],
   "source": []
  }
 ],
 "metadata": {
  "kernelspec": {
   "display_name": "base",
   "language": "python",
   "name": "python3"
  },
  "language_info": {
   "codemirror_mode": {
    "name": "ipython",
    "version": 3
   },
   "file_extension": ".py",
   "mimetype": "text/x-python",
   "name": "python",
   "nbconvert_exporter": "python",
   "pygments_lexer": "ipython3",
   "version": "3.11.7"
  }
 },
 "nbformat": 4,
 "nbformat_minor": 2
}
