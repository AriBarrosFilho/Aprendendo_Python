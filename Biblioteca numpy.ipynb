{
 "cells": [
  {
   "cell_type": "markdown",
   "id": "fadb6514",
   "metadata": {},
   "source": [
    "<span style=\"color: #FFC107; font-size: 22px;\">Referências</span>\n",
    "\n",
    "1. [Documentação do Numpy](https://numpy.org/doc/stable/reference/generated/numpy.matmul.html)"
   ]
  },
  {
   "cell_type": "markdown",
   "id": "df38faa8",
   "metadata": {},
   "source": [
    "<span style=\"color: #FFC107; font-size: 22px;\">Importação das bibliotecas</span>"
   ]
  },
  {
   "cell_type": "code",
   "execution_count": 1,
   "id": "f275ce22-29ba-4c81-92a3-427c70a45b9f",
   "metadata": {},
   "outputs": [],
   "source": [
    "import numpy as np\n",
    "import time"
   ]
  },
  {
   "cell_type": "markdown",
   "id": "47abf606",
   "metadata": {},
   "source": [
    "<span style=\"color: #FFC107; font-size: 22px;\">**np.array()**</span> <br>\n",
    "\n",
    "<span style=\"color: #FFC107; font-size: 18px;\">No Numpy, todos os elementos de um `array` são do mesmo tipo.</span>\n",
    "\n",
    "<span style=\"color: #FFC107; font-size: 18px;\">Caso inicialmente eles sejam de tipos diferentes, o numpy altera para um formato mais genérico.</span>"
   ]
  },
  {
   "cell_type": "code",
   "execution_count": 5,
   "id": "4d5e3838",
   "metadata": {},
   "outputs": [
    {
     "name": "stdout",
     "output_type": "stream",
     "text": [
      "<class 'int'>\n",
      "<class 'str'>\n",
      "<class 'float'>\n",
      "\n",
      "<class 'numpy.str_'>\n",
      "<class 'numpy.str_'>\n",
      "<class 'numpy.str_'>\n",
      "\n",
      "<class 'int'>\n",
      "<class 'float'>\n",
      "<class 'int'>\n",
      "<class 'float'>\n",
      "<class 'bool'>\n",
      "<class 'bool'>\n",
      "\n",
      "<class 'numpy.float64'>\n",
      "<class 'numpy.float64'>\n",
      "<class 'numpy.float64'>\n",
      "<class 'numpy.float64'>\n",
      "<class 'numpy.float64'>\n",
      "<class 'numpy.float64'>\n"
     ]
    }
   ],
   "source": [
    "# Definindo os elementos da lista\n",
    "lista_elementos = [24, \"Bom dia\", 3.7]\n",
    "\n",
    "# Percorrendo todos os elementos do array e apresentando o tipo do elemento\n",
    "for elemento in lista_elementos: print(type(elemento))\n",
    "\n",
    "# Pulando uma linha\n",
    "print('')\n",
    "\n",
    "#==========================================================================\n",
    "\n",
    "# Definindo os elementos do array\n",
    "np_lista = np.array(lista_elementos)\n",
    "\n",
    "# Percorrendo todos os elementos do array e apresentando o tipo do elemento\n",
    "for elemento in np_lista: print(type(elemento))\n",
    "\n",
    "# Pulando uma linha\n",
    "print('')\n",
    "\n",
    "#==========================================================================\n",
    "\n",
    "# Definindo os elementos da lista\n",
    "lista_elementos = [24, 2.5 , 9, 3.7, True, False]\n",
    "\n",
    "# Percorrendo todos os elementos do array e apresentando o tipo do elemento\n",
    "for elemento in lista_elementos: print(type(elemento))\n",
    "    \n",
    "# Pulando uma linha\n",
    "print('')\n",
    "\n",
    "#==========================================================================\n",
    "\n",
    "# Definindo os elementos do array\n",
    "np_lista = np.array(lista_elementos)\n",
    "\n",
    "# Percorrendo todos os elementos do array e apresentando o tipo do elemento\n",
    "for elemento in np_lista: print(type(elemento))"
   ]
  },
  {
   "cell_type": "markdown",
   "id": "e2efe8d8",
   "metadata": {},
   "source": [
    "![Como funciona um array numpy](images_markdown\\numpy_image.png)"
   ]
  },
  {
   "cell_type": "markdown",
   "id": "1d33b0da",
   "metadata": {},
   "source": [
    "<span style=\"color: #FFC107; font-size: 18px;\">Na lista não é possível somar um número qualquer de forma direta.</span>\n",
    "\n",
    "<span style=\"color: #FFC107; font-size: 18px;\">Já em um array do Numpy isso é possível.</span>"
   ]
  },
  {
   "cell_type": "code",
   "execution_count": 42,
   "id": "8aff4ea9",
   "metadata": {},
   "outputs": [
    {
     "name": "stdout",
     "output_type": "stream",
     "text": [
      "lista_numeros =  [1, 2, 3, 4]\n",
      "lista_numeros + [1] =  [1, 2, 3, 4, 1] \n",
      "\n",
      "np_numeros =  [1 2 3 4 1]\n",
      "np_numeros + 1 =  [2 3 4 5 2]\n"
     ]
    }
   ],
   "source": [
    "# Cria uma lista de números\n",
    "lista_numeros = [1, 2, 3, 4]\n",
    "print(\"lista_numeros = \", lista_numeros)\n",
    "\n",
    "# Acrescenta o número 1 a lista\n",
    "lista_numeros = lista_numeros + [1]\n",
    "\n",
    "# Apresenta a lista de números com o acréscimo do número 2\n",
    "print(\"lista_numeros + [1] = \", lista_numeros, '\\n')\n",
    "\n",
    "#=====================================================================\n",
    "\n",
    "# Cria um array\n",
    "np_numeros = np.array(lista_numeros)\n",
    "print(\"np_numeros = \", np_numeros)\n",
    "\n",
    "# Soma o número 1 ao array\n",
    "np_numeros = np_numeros + 1\n",
    "\n",
    "# Apresenta a soma do número 1 ao array\n",
    "print(\"np_numeros + 1 = \", np_numeros)"
   ]
  },
  {
   "cell_type": "markdown",
   "id": "733ecfcc",
   "metadata": {},
   "source": [
    "<span style=\"color: #FFC107; font-size: 18px;\">O tempo de processamento de um variável Numpy é mais rápido.</span>"
   ]
  },
  {
   "cell_type": "code",
   "execution_count": null,
   "id": "e288297e",
   "metadata": {},
   "outputs": [
    {
     "name": "stdout",
     "output_type": "stream",
     "text": [
      "O tempo total para somar os elementos da lista foi de: 0.4567010 segundos\n",
      "O tempo total para somar os elementos do array foi de: 0.0000000 segundos\n"
     ]
    }
   ],
   "source": [
    "# Lista com números de 1 à 10.000.000\n",
    "lista = list(range(1, 20_000_000))\n",
    "\n",
    "# Tempo inicial\n",
    "inicio_lista = time.time()\n",
    "\n",
    "# Calcula todos os elementos da lista\n",
    "soma_lista = sum(lista)\n",
    "\n",
    "# Tempo final\n",
    "fim_lista = time.time()\n",
    "\n",
    "# Calcula o tempo necessário para calcular os elementos da lista\n",
    "duracao_lista = fim_lista - inicio_lista\n",
    "\n",
    "# Apresenta a duração para somar todos os números da lista\n",
    "print(f'O tempo total para somar os elementos da lista foi de: {duracao_lista:.7f} segundos')\n",
    "\n",
    "#================================================================================================\n",
    "\n",
    "# Array com números de 1 à 10.000.000\n",
    "array = np.array(range(1, 20_000_000))\n",
    "\n",
    "# Tempo inicial\n",
    "inicio_np = time.time()\n",
    "\n",
    "# Calcula todos os elementos da lista\n",
    "soma_lista = np.sum(array)\n",
    "\n",
    "# Tempo final\n",
    "fim_np = time.time()\n",
    "\n",
    "# Calcula o tempo necessário para calcular os elementos da lista\n",
    "duracao_np = fim_np - inicio_np\n",
    "\n",
    "# Apresenta a duração para somar todos os números do array\n",
    "print(f'O tempo total para somar os elementos do array foi de: {duracao_np:.7f} segundos')\n",
    "\n",
    "#================================================================================================\n",
    "\n",
    "if duracao_np != 00:\n",
    "    print(f'O array do Nympy é {(duracao_lista / duracao_np):.2f} vezes mais rápido.')"
   ]
  },
  {
   "cell_type": "markdown",
   "id": "55f92620",
   "metadata": {},
   "source": [
    "<span style=\"color: #FFC107; font-size: 22px;\">**.dtype**</span> <br>\n",
    "<span style=\"color: #FFC107; font-size: 22px;\">**.itemsize**</span> <br>\n",
    "<span style=\"color: #FFC107; font-size: 22px;\">**.size**</span> <br>\n",
    "<span style=\"color: #FFC107; font-size: 22px;\">**.ndim**</span> <br>\n",
    "<span style=\"color: #FFC107; font-size: 22px;\">**.shape**</span> <br>"
   ]
  },
  {
   "cell_type": "code",
   "execution_count": 43,
   "id": "c50ce15b",
   "metadata": {},
   "outputs": [
    {
     "name": "stdout",
     "output_type": "stream",
     "text": [
      "[1. 2. 3. 4. 5. 6.] \n",
      "\n",
      "[[1.+3.j 2.+1.j 3.+0.j]\n",
      " [4.+0.j 5.+0.j 6.+0.j]] \n",
      "\n",
      "[1 2 3 4 5 6] \n",
      "\n",
      "array_int32.dtype = dtype('int32')\n",
      "array_int32.itemsize = 4\n",
      "array_compex.size = 6\n",
      "array_compex.ndim = 2\n",
      "array_compex.shape = (2, 3)\n"
     ]
    }
   ],
   "source": [
    "# Definindo os elementos do array como float\n",
    "array_float = np.array([1, 2, 3, 4, 5, 6], dtype = float)\n",
    "print(array_float, '\\n')\n",
    "\n",
    "# Definindo os elementos do array como complex\n",
    "array_compex = np.array([[1 + 3j, 2 + 1j, 3], [4, 5, 6]], dtype = complex)\n",
    "print(array_compex, '\\n')\n",
    "\n",
    "# definindo os elementos do array como int32\n",
    "array_int32 = np.array([1, 2, 3, 4, 5, 6], dtype = np.int32)\n",
    "print(array_int32, '\\n')\n",
    "\n",
    "#=====================================================================================\n",
    "\n",
    "# Apresenta o tipo de dado\n",
    "print(f\"{array_int32.dtype = }\")\n",
    "\n",
    "# Apresenta o tamanho em bytes de cada elemento\n",
    "print(f\"{array_int32.itemsize = }\")\n",
    "\n",
    "# Apresenta a quantidade de elementos\n",
    "print(f\"{array_compex.size = }\")\n",
    "\n",
    "# Apresenta a quantidade de dimensões\n",
    "print(f\"{array_compex.ndim = }\")\n",
    "\n",
    "# Apresenta as dimensões\n",
    "print(f\"{array_compex.shape = }\")"
   ]
  },
  {
   "cell_type": "code",
   "execution_count": 58,
   "id": "0bbbe220",
   "metadata": {},
   "outputs": [
    {
     "name": "stdout",
     "output_type": "stream",
     "text": [
      "[ 7  5  3 16 39] \n",
      "\n",
      "[[6 4 2]\n",
      " [3 8 1]] \n",
      "\n",
      "[[52 63 74]\n",
      " [96  2 15]\n",
      " [28 13 47]] \n",
      "\n",
      "[[52 63 74]\n",
      " [96  2 15]\n",
      " [28 13 47]] \n",
      "\n",
      "[[[ 1  2  3  4]\n",
      "  [ 5  6  7  8]\n",
      "  [ 9 10 11 12]]\n",
      "\n",
      " [[13 14 15 16]\n",
      "  [17 18 19 20]\n",
      "  [21 22 23 24]]]\n"
     ]
    }
   ],
   "source": [
    "# 1 dimensão\n",
    "e = np.array([7,5,3,16,39])\n",
    "print(e, '\\n')\n",
    "\n",
    "# 2 dimensões\n",
    "f = np.array([(6,4,2),\n",
    "              (3,8,1)])\n",
    "\n",
    "print(f, '\\n')\n",
    "\n",
    "# 3 dimensões como tupla\n",
    "g = np.array([(52,63,74),\n",
    "              (96,2,15),\n",
    "              (28,13,47)])\n",
    "\n",
    "print(g, '\\n')\n",
    "\n",
    "# 3 dimensões como lista\n",
    "g = np.array([[52,63,74], \n",
    "              [96,2,15], \n",
    "              [28,13,47]])\n",
    "print(g, '\\n')\n",
    "\n",
    "h = np.array([\n",
    "    [\n",
    "        [1, 2, 3, 4],\n",
    "        [5, 6, 7, 8],\n",
    "        [9, 10, 11, 12]\n",
    "    ],\n",
    "    [\n",
    "        [13, 14, 15, 16],\n",
    "        [17, 18, 19, 20],\n",
    "        [21, 22, 23, 24]\n",
    "    ]\n",
    "])\n",
    "print(h)"
   ]
  },
  {
   "cell_type": "code",
   "execution_count": null,
   "id": "0063dace",
   "metadata": {},
   "outputs": [
    {
     "name": "stdout",
     "output_type": "stream",
     "text": [
      "M1 = array([[1, 2, 3],\n",
      "       [4, 5, 6],\n",
      "       [7, 8, 9]])\n",
      "M1[1, 2] = 6\n",
      "M1[1, :] = array([4, 5, 6])\n",
      "M1[1] = array([4, 5, 6])\n",
      "M1[:, 0] = array([1, 4, 7])\n",
      "M1[..., 0] = array([1, 4, 7])\n",
      "M1[1:, 1:] = array([[5, 6],\n",
      "       [8, 9]])\n"
     ]
    }
   ],
   "source": [
    "M1 = np.array([[1, 2, 3], [4, 5, 6], [7, 8, 9]])\n",
    "print(f'{M1 = }') # imprime matriz\n",
    "print(f'{M1[1, 2] = }') # imprime elemento com índices (1,2)\n",
    "print(f'{M1[1, :] = }') # imprime linha de índice 1\n",
    "print(f'{M1[1] = }') # mesmo que o de cima: imprime linha 1\n",
    "print(f'{M1[:, 0] = }') # imprime coluna de índice 0\n",
    "print(f'{M1[..., 0] = }') # mesmo que anterior: imprime coluna 0\n",
    "print(f'{M1[1:, 1:] = }') # imprime submatriz"
   ]
  },
  {
   "cell_type": "markdown",
   "id": "cc695d24",
   "metadata": {},
   "source": [
    "<span style=\"color: #FFC107; font-size: 22px;\">**np.sum()**</span> <br>"
   ]
  },
  {
   "cell_type": "code",
   "execution_count": 83,
   "id": "773b0626",
   "metadata": {},
   "outputs": [
    {
     "name": "stdout",
     "output_type": "stream",
     "text": [
      "Array:  [ 9  1 22  3 20 21 18]\n",
      "Soma:  94\n",
      "Soma:  94 \n",
      " ==================================================\n",
      "Outro array:\n",
      "[[[ 1  2  3  4]\n",
      "  [ 5  6  7  8]\n",
      "  [ 9 10 11 12]]\n",
      "\n",
      " [[13 14 15 16]\n",
      "  [17 18 19 20]\n",
      "  [21 22 23 24]]] \n",
      " ==================================================\n",
      "Soma os elementos de cada dimensão: \n",
      " [[14 16 18 20]\n",
      " [22 24 26 28]\n",
      " [30 32 34 36]] \n",
      "\n",
      "Soma os elementos de cada coluna: \n",
      " [[15 18 21 24]\n",
      " [51 54 57 60]] \n",
      "\n",
      "Soma os elementos de cada linha: \n",
      " [[10 26 42]\n",
      " [58 74 90]]\n"
     ]
    }
   ],
   "source": [
    "# Definição do array\n",
    "vetor = np.array([9, 1, 22, 3, 20, 21, 18])\n",
    "print('Array: ', vetor)\n",
    "\n",
    "# Soma os elementos do array\n",
    "soma_vetor = np.sum(vetor)\n",
    "print('Soma: ', soma_vetor)\n",
    "\n",
    "# Soma os elementos do array\n",
    "soma_vetor = vetor.sum()\n",
    "print('Soma: ', soma_vetor, '\\n', '=' * 50)\n",
    "\n",
    "print('Outro array:')\n",
    "h = np.array([\n",
    "    [\n",
    "        [1, 2, 3, 4],\n",
    "        [5, 6, 7, 8],\n",
    "        [9, 10, 11, 12]\n",
    "    ],\n",
    "    [\n",
    "        [13, 14, 15, 16],\n",
    "        [17, 18, 19, 20],\n",
    "        [21, 22, 23, 24]\n",
    "    ]\n",
    "])\n",
    "print(h, '\\n', '=' * 50)\n",
    "\n",
    "# Soma os elementos de cada dimensão\n",
    "soma_r_linha = h.sum(axis = 0)\n",
    "print('Soma os elementos de cada dimensão: \\n', soma_r_linha, '\\n')\n",
    "\n",
    "# Soma os elementos de cada linha\n",
    "\n",
    "soma_r_coluna = h.sum(axis = 1)\n",
    "print(\"Soma os elementos de cada coluna: \\n\", soma_r_coluna, '\\n')\n",
    "\n",
    "# Soma os elementos de cada linha\n",
    "soma_r_coluna = h.sum(axis = 2)\n",
    "print(\"Soma os elementos de cada linha: \\n\", soma_r_coluna)"
   ]
  },
  {
   "cell_type": "code",
   "execution_count": 98,
   "id": "93d80693",
   "metadata": {},
   "outputs": [
    {
     "name": "stdout",
     "output_type": "stream",
     "text": [
      "Soma total: 21\n",
      "Soma ao longo das linhas: [ 6 15]\n",
      "Soma ao longo das colunas: [5 7 9]\n",
      "Soma com dtype especificado: 21.0\n",
      "Soma com keepdims=True: [[ 6]\n",
      " [15]]\n"
     ]
    }
   ],
   "source": [
    "import numpy as np\n",
    "\n",
    "# Exemplo 1: Soma de todos os elementos do array\n",
    "array = np.array([[1, 2, 3], \n",
    "                  [4, 5, 6]])\n",
    "soma_total = np.sum(array)\n",
    "print(\"Soma total:\", soma_total)\n",
    "\n",
    "# Exemplo 2: Soma ao longo das linhas (axis=1)\n",
    "soma_linhas = np.sum(array, axis=1)\n",
    "print(\"Soma ao longo das linhas:\", soma_linhas)\n",
    "\n",
    "# Exemplo 3: Soma ao longo das colunas (axis=0)\n",
    "soma_colunas = np.sum(array, axis=0)\n",
    "print(\"Soma ao longo das colunas:\", soma_colunas)\n",
    "\n",
    "# Exemplo 4: Soma com dtype especificado\n",
    "soma_dtype = np.sum(array, dtype=np.float64)\n",
    "print(\"Soma com dtype especificado:\", soma_dtype)\n",
    "\n",
    "# Exemplo 5: Soma com keepdims=True\n",
    "soma_keepdims = np.sum(array, axis=1, keepdims=True)\n",
    "print(\"Soma com keepdims=True:\", soma_keepdims)"
   ]
  },
  {
   "cell_type": "code",
   "execution_count": 114,
   "id": "10945be3",
   "metadata": {},
   "outputs": [
    {
     "name": "stdout",
     "output_type": "stream",
     "text": [
      "[[1 2 3]\n",
      " [4 5 6]] \n",
      "\n",
      "Soma sem keepdims: \n",
      " [ 6 15] \n",
      "\n",
      "Shape sem keepdims: (2,) \n",
      " ==================================================\n",
      "Soma com keepdims=True: \n",
      " [[ 6]\n",
      " [15]]\n",
      "Shape com keepdims: (2, 1) \n",
      " ==================================================\n",
      "Soma sem keepdims: [5 7 9]\n",
      "Shape sem keepdims: (3,) \n",
      " ==================================================\n",
      "Soma com keepdims=True: \n",
      " [[5 7 9]]\n",
      "Shape com keepdims: (1, 3)\n"
     ]
    }
   ],
   "source": [
    "import numpy as np\n",
    "\n",
    "array = np.array([[1, 2, 3], \n",
    "                  [4, 5, 6]])\n",
    "\n",
    "print(array, '\\n')\n",
    "\n",
    "#==========================================================================\n",
    "\n",
    "# Soma ao longo do eixo 1 (linhas) sem keepdims\n",
    "soma_sem_keepdims = np.sum(array, axis=1)\n",
    "print(\"Soma sem keepdims: \\n\", soma_sem_keepdims, '\\n')\n",
    "print(\"Shape sem keepdims:\", soma_sem_keepdims.shape, '\\n', '=' * 50)\n",
    "\n",
    "# Soma ao longo do eixo 1 (linhas) com keepdims=True\n",
    "soma_keepdims = np.sum(array, axis=1, keepdims=True)\n",
    "print(\"Soma com keepdims=True: \\n\", soma_keepdims)\n",
    "print(\"Shape com keepdims:\", soma_keepdims.shape, '\\n', '=' * 50)\n",
    "\n",
    "#==========================================================================\n",
    "\n",
    "# Soma ao longo do eixo 1 (linhas) sem keepdims\n",
    "soma_sem_keepdims = np.sum(array, axis=0)\n",
    "print(\"Soma sem keepdims:\", soma_sem_keepdims)\n",
    "print(\"Shape sem keepdims:\", soma_sem_keepdims.shape, '\\n', '=' * 50)\n",
    "\n",
    "# Soma ao longo do eixo 1 (linhas) com keepdims=True\n",
    "soma_keepdims = np.sum(array, axis=0, keepdims=True)\n",
    "print(\"Soma com keepdims=True: \\n\", soma_keepdims)\n",
    "print(\"Shape com keepdims:\", soma_keepdims.shape)"
   ]
  },
  {
   "cell_type": "markdown",
   "id": "41c9e93a",
   "metadata": {},
   "source": [
    "<span style=\"color: #FFC107; font-size: 22px;\">**np.mean()**</span> <br>"
   ]
  },
  {
   "cell_type": "code",
   "execution_count": 94,
   "id": "aeeb134d",
   "metadata": {},
   "outputs": [
    {
     "name": "stdout",
     "output_type": "stream",
     "text": [
      "Array:  [ 9  1 22  3 20 21 18]\n",
      "Média:  13.428571428571429\n",
      "Média:  13.428571428571429 \n",
      "\n",
      "Array: \n",
      " [[ 9  1 22  3 20 21 18]\n",
      " [ 1  1  1  1  1  1  1]] \n",
      "\n",
      "Média de todos os elementos:  7.214285714285714\n",
      "Média de todos os elementos:  7.214285714285714\n",
      "Média de cada linha:  [13.42857143  1.        ]\n",
      "Média de cada coluna:  [ 5.   1.  11.5  2.  10.5 11.   9.5]\n"
     ]
    }
   ],
   "source": [
    "# Definição do array\n",
    "vetor = np.array([9, 1, 22, 3, 20, 21, 18])\n",
    "print('Array: ', vetor)\n",
    "\n",
    "# Faz a média dos elementos do array\n",
    "media_vetor = np.mean(vetor)\n",
    "print('Média: ', media_vetor)\n",
    "\n",
    "# Faz a média dos elementos do array\n",
    "media_vetor = vetor.mean()\n",
    "print('Média: ', media_vetor, '\\n')\n",
    "\n",
    "# Definição do array\n",
    "vetor = np.array([\n",
    "                [9, 1, 22, 3, 20, 21, 18], \n",
    "                [1, 1, 1, 1, 1, 1, 1]])\n",
    "\n",
    "print('Array: \\n', vetor, '\\n')\n",
    "\n",
    "# Faz a média dos elementos do array\n",
    "media_vetor = np.mean(vetor)\n",
    "print('Média de todos os elementos: ', media_vetor)\n",
    "\n",
    "# Faz a média de todos os elementos do array\n",
    "media_vetor = vetor.mean()\n",
    "print('Média de todos os elementos: ', media_vetor)\n",
    "\n",
    "# Faz a média de todos os elementos do array\n",
    "media_vetor = vetor.mean(axis = 1)\n",
    "print('Média de cada linha: ', media_vetor)\n",
    "\n",
    "# Faz a média de todos os elementos do array\n",
    "media_vetor = vetor.mean(axis = 0)\n",
    "print('Média de cada coluna: ', media_vetor)"
   ]
  },
  {
   "cell_type": "markdown",
   "id": "4cf19f67",
   "metadata": {},
   "source": [
    "<span style=\"color: #FFC107; font-size: 22px;\">**np.max()**</span> <br>"
   ]
  },
  {
   "cell_type": "code",
   "execution_count": 13,
   "id": "448f4e06",
   "metadata": {},
   "outputs": [
    {
     "name": "stdout",
     "output_type": "stream",
     "text": [
      "Array:  [ 9  1 22  3 20 21 18]\n",
      "Valor máximo:  22\n",
      "Valor máximo:  22\n"
     ]
    }
   ],
   "source": [
    "# Definição do array\n",
    "vetor = np.array([9, 1, 22, 3, 20, 21, 18])\n",
    "print('Array: ', vetor)\n",
    "\n",
    "# Retorna o valor máximo do array\n",
    "maximo_vetor = np.max(vetor)\n",
    "print('Valor máximo: ', maximo_vetor)\n",
    "\n",
    "# Retorna o valor máximo do array\n",
    "maximo_vetor = vetor.max()\n",
    "print('Valor máximo: ', maximo_vetor)"
   ]
  },
  {
   "cell_type": "markdown",
   "id": "05d1b8a4",
   "metadata": {},
   "source": [
    "<span style=\"color: #FFC107; font-size: 22px;\">**np.min()**</span>"
   ]
  },
  {
   "cell_type": "code",
   "execution_count": 14,
   "id": "facdc1f6",
   "metadata": {},
   "outputs": [
    {
     "name": "stdout",
     "output_type": "stream",
     "text": [
      "Array:  [ 9  1 22  3 20 21 18]\n",
      "Valor mínimo:  1\n",
      "Valor mínimo:  1\n"
     ]
    }
   ],
   "source": [
    "# Definição do array\n",
    "vetor = np.array([9, 1, 22, 3, 20, 21, 18])\n",
    "print('Array: ', vetor)\n",
    "\n",
    "# Retorna o valor mínimo do array\n",
    "minimo_vetor = np.min(vetor)\n",
    "print('Valor mínimo: ', minimo_vetor)\n",
    "\n",
    "# Retorna o valor mínimo do array\n",
    "minimo_vetor = vetor.min()\n",
    "print('Valor mínimo: ', minimo_vetor)"
   ]
  },
  {
   "cell_type": "markdown",
   "id": "f24e47e0",
   "metadata": {},
   "source": [
    "<span style=\"color: #FFC107; font-size: 22px;\">**np.sort()**</span>\n",
    "\n",
    "<span style=\"color: #FFC107; font-size: 18px;\">Ordena os elementos</span>"
   ]
  },
  {
   "cell_type": "code",
   "execution_count": 37,
   "id": "2dbb9dcd",
   "metadata": {},
   "outputs": [
    {
     "name": "stdout",
     "output_type": "stream",
     "text": [
      "Array original: [3 1 5 2 4]\n",
      "Array ordenado: [1 2 3 4 5] \n",
      "\n",
      "Array original: ['Hoje' 'amanhã' 'Bom dia' 'bom dia']\n",
      "Array ordenado: ['Bom dia' 'Hoje' 'amanhã' 'bom dia']\n"
     ]
    }
   ],
   "source": [
    "# Array unidimensional\n",
    "array = np.array([3, 1, 5, 2, 4])\n",
    "\n",
    "# Ordenando o array\n",
    "array_ordenado = np.sort(array)\n",
    "\n",
    "# Apresenta os arrays\n",
    "print(\"Array original:\", array)\n",
    "print(\"Array ordenado:\", array_ordenado, '\\n')\n",
    "\n",
    "#==============================================================================\n",
    "\n",
    "# Array unidimensional\n",
    "array = np.array([\"Hoje\", \"amanhã\", \"Bom dia\", \"bom dia\"])\n",
    "\n",
    "# Ordenando o array\n",
    "array_ordenado = np.sort(array)\n",
    "\n",
    "# Apresenta os arrays\n",
    "print(\"Array original:\", array)\n",
    "print(\"Array ordenado:\", array_ordenado)"
   ]
  },
  {
   "cell_type": "code",
   "execution_count": 35,
   "id": "f09f769b",
   "metadata": {},
   "outputs": [
    {
     "name": "stdout",
     "output_type": "stream",
     "text": [
      "Array original:\n",
      " [[3 1 5]\n",
      " [2 4 6]\n",
      " [7 0 9]] \n",
      "\n",
      "Array ordenado por linha:\n",
      " [[1 3 5]\n",
      " [2 4 6]\n",
      " [0 7 9]]\n"
     ]
    }
   ],
   "source": [
    "# Array bidimensional\n",
    "array = np.array([[3, 1, 5], [2, 4, 6], [7, 0, 9]])\n",
    "\n",
    "# Ordenando cada linha do array\n",
    "array_ordenado = np.sort(array, axis=1)\n",
    "\n",
    "# Apresenta os arrays\n",
    "print(\"Array original:\\n\", array, '\\n')\n",
    "print(\"Array ordenado por linha:\\n\", array_ordenado)"
   ]
  },
  {
   "cell_type": "code",
   "execution_count": 34,
   "id": "31139644",
   "metadata": {},
   "outputs": [
    {
     "name": "stdout",
     "output_type": "stream",
     "text": [
      "Array original:\n",
      " [[3 1 5]\n",
      " [2 4 6]\n",
      " [7 0 9]] \n",
      "\n",
      "Array ordenado por coluna:\n",
      " [[2 0 5]\n",
      " [3 1 6]\n",
      " [7 4 9]]\n"
     ]
    }
   ],
   "source": [
    "# Array bidimensional\n",
    "array = np.array([[3, 1, 5], [2, 4, 6], [7, 0, 9]])\n",
    "\n",
    "# Ordenando cada coluna do array\n",
    "array_ordenado = np.sort(array, axis=0)\n",
    "\n",
    "# Apresenta os arrays\n",
    "print(\"Array original:\\n\", array, '\\n')\n",
    "print(\"Array ordenado por coluna:\\n\", array_ordenado)"
   ]
  },
  {
   "cell_type": "markdown",
   "id": "de15e6a2",
   "metadata": {},
   "source": [
    "<span style=\"color: #FFC107; font-size: 22px;\">**np.dot()**</span>\n",
    "\n",
    "<span style=\"color: #FFC107; font-size: 18px;\">Calcula o produto escalar de duas matrizes</span>"
   ]
  },
  {
   "cell_type": "code",
   "execution_count": 38,
   "id": "73475f43",
   "metadata": {},
   "outputs": [
    {
     "name": "stdout",
     "output_type": "stream",
     "text": [
      "52\n",
      "52\n"
     ]
    }
   ],
   "source": [
    "# Vetor que representa a quantidade de itens vendidos\n",
    "quantidade = np.array([10, 2, 6, 9])\n",
    "\n",
    "# Vetor que representa o preço unitário de cada item\n",
    "preco_unitario = np.array([2, 1, 2, 2])\n",
    "\n",
    "# Calcula o ganho de cada item\n",
    "preco_quantidade = quantidade * preco_unitario\n",
    "\n",
    "# Calcula o ganho total\n",
    "soma_preco_quantidade = np.sum(preco_quantidade)\n",
    "\n",
    "# Apresenta o ganho total\n",
    "print(soma_preco_quantidade)\n",
    "\n",
    "#=========================================================================================\n",
    "\n",
    "# Calcula o produto escalar de dois vetores\n",
    "soma_preco_quantidade = np.dot(quantidade, preco_unitario)\n",
    "\n",
    "# Apresenta o ganho total\n",
    "print(soma_preco_quantidade)"
   ]
  },
  {
   "cell_type": "code",
   "execution_count": 44,
   "id": "7e974ea6",
   "metadata": {},
   "outputs": [
    {
     "name": "stdout",
     "output_type": "stream",
     "text": [
      "Matriz 1:\n",
      " [[1 2]\n",
      " [3 4]] \n",
      "\n",
      "Matriz 2:\n",
      " [[5 6]\n",
      " [7 8]] \n",
      "\n",
      "Produto das matrizes:\n",
      " [[19 22]\n",
      " [43 50]]\n"
     ]
    }
   ],
   "source": [
    "# Duas matrizes\n",
    "matriz1 = np.array([[1, 2], [3, 4]])\n",
    "matriz2 = np.array([[5, 6], [7, 8]])\n",
    "\n",
    "# Produto de matrizes\n",
    "produto_matrizes = np.dot(matriz1, matriz2)\n",
    "\n",
    "# Apresenta as matrizes\n",
    "print('Matriz 1:\\n', matriz1, '\\n')\n",
    "print('Matriz 2:\\n', matriz2, '\\n')\n",
    "print(\"Produto das matrizes:\\n\", produto_matrizes)"
   ]
  },
  {
   "cell_type": "code",
   "execution_count": null,
   "id": "6a2927e2",
   "metadata": {},
   "outputs": [],
   "source": []
  },
  {
   "cell_type": "code",
   "execution_count": 96,
   "id": "84e8d4c4",
   "metadata": {},
   "outputs": [
    {
     "name": "stdout",
     "output_type": "stream",
     "text": [
      "0.2638778466646875 \n",
      "\n",
      "[87.18689035 38.82067778 17.51187463 15.80738718 20.43146287] \n",
      "\n",
      "[43 33  2 53 77 15 47 79 10 60 53 37 27 67 90  3 91 37 77 52] \n",
      "\n"
     ]
    }
   ],
   "source": [
    "# Cria uma instância da classe 'default_rng()'\n",
    "rng = np.random.default_rng()\n",
    "\n",
    "# Gera um número aleatório e flutuante entre 0 e 1\n",
    "numero_aleatorio_1 = rng.random()\n",
    "print(numero_aleatorio_1, '\\n')\n",
    "\n",
    "# Gera 5 números aleatórios e flutuantes entre 0 e 100\n",
    "numero_aleatorio_2 = rng.random(5) * 100\n",
    "print(numero_aleatorio_2, '\\n')\n",
    "\n",
    "# Gera 20 números aleatórios inteiros entre 1 e 7\n",
    "numero_aleatorio_3 = rng.integers(low = 1, high = 101, size = 20)\n",
    "print(numero_aleatorio_3, '\\n')"
   ]
  },
  {
   "cell_type": "code",
   "execution_count": 117,
   "id": "ea5db59e",
   "metadata": {},
   "outputs": [
    {
     "name": "stdout",
     "output_type": "stream",
     "text": [
      "0.7739560485559633 \n",
      "\n",
      "[43.88784398 85.85979199 69.73680291  9.41773479 97.56223516] \n",
      "\n",
      "[74 77 72 79 52 13 84 46 51 38 19 93 79 65 41 83 55 45 46 23] \n",
      "\n",
      "O maior elemento está na posição:  11 \n",
      "\n",
      "O menor elemento está na posição:  5\n"
     ]
    }
   ],
   "source": [
    "# Cria uma instância da classe 'default_rng()'\n",
    "# Qualquer pessoa que usar a mesma 'seed' que esta, terá os mesmos resultados\n",
    "rng = np.random.default_rng(seed = 42)\n",
    "\n",
    "# Gera um número aleatório e flutuante entre 0 e 1\n",
    "numero_aleatorio_1 = rng.random()\n",
    "print(numero_aleatorio_1, '\\n')\n",
    "\n",
    "# Gera 5 números aleatórios e flutuantes entre 0 e 100\n",
    "numero_aleatorio_2 = rng.random(5) * 100\n",
    "print(numero_aleatorio_2, '\\n')\n",
    "\n",
    "# Gera 20 números aleatórios inteiros entre 1 e 7\n",
    "numero_aleatorio_3 = rng.integers(low = 1, high = 101, size = 20)\n",
    "print(numero_aleatorio_3, '\\n')\n",
    "\n",
    "# Apresenta a posição do maior elemento do array\n",
    "posicao_max = np.argmax(numero_aleatorio_3)\n",
    "print('O maior elemento está na posição: ', posicao_max, '\\n')\n",
    "\n",
    "# Apresenta a posição do menor elemento do array\n",
    "posicao_min = np.argmin(numero_aleatorio_3)\n",
    "print('O menor elemento está na posição: ', posicao_min)"
   ]
  },
  {
   "cell_type": "code",
   "execution_count": 137,
   "id": "f53cd18e",
   "metadata": {},
   "outputs": [
    {
     "name": "stdout",
     "output_type": "stream",
     "text": [
      "[257 421 253 119 464 194 140 349 193 444 277 101 481 306 205 371 312 111\n",
      " 404 260 380 459 344 369 202 195 266 441 310 239 412 442 461 219 384 336\n",
      " 280 259 145 210 320 455 447 175 372 134 370 237 280 387 270 423 313 500\n",
      " 355 218 410 263 314 154 147 330 174 500 443 381 394 338 124 257 298 467\n",
      " 188 299 237 153 141 246 133 126 240 180 322 107 221 281 486 354 453 237\n",
      " 280 268 455 484 485 401 301 316 493 214] \n",
      "\n",
      "Mediana:  300.0 \n",
      "\n",
      "1% dos elementos são menores ou iguais à:  106.94 \n",
      "\n",
      "Desvio padrão:  112.5178403632064 \n",
      "\n",
      "Variância:  12660.2644\n"
     ]
    }
   ],
   "source": [
    "numero_aleatorio_4 = rng.integers(low = 100, high = 501, size = 100)\n",
    "print(numero_aleatorio_4, '\\n')\n",
    "\n",
    "mediana = np.median(numero_aleatorio_4)\n",
    "print('Mediana: ', mediana, '\\n')\n",
    "\n",
    "n_percentil = 1\n",
    "percentil = np.percentile(numero_aleatorio_4, n_percentil)\n",
    "print(f'{n_percentil}% dos elementos são menores ou iguais à: ', percentil, '\\n')\n",
    "\n",
    "desvio_padrao = np.std(numero_aleatorio_4)\n",
    "print('Desvio padrão: ', desvio_padrao, '\\n')\n",
    "\n",
    "variancia = np.var(numero_aleatorio_4)\n",
    "print('Variância: ', variancia)"
   ]
  },
  {
   "cell_type": "code",
   "execution_count": 57,
   "id": "5910f29f",
   "metadata": {},
   "outputs": [
    {
     "name": "stdout",
     "output_type": "stream",
     "text": [
      "[[136 163 154 143 104]\n",
      " [128 160 141 106 142]\n",
      " [131 178 133 126 159]] \n",
      "\n"
     ]
    }
   ],
   "source": [
    "rng = np.random.default_rng()\n",
    "\n",
    "numero_aleatorio_4 = rng.integers(low = 100, high = 200, size = (3, 5))\n",
    "print(numero_aleatorio_4, '\\n')"
   ]
  },
  {
   "cell_type": "code",
   "execution_count": 65,
   "id": "bcccd53d",
   "metadata": {},
   "outputs": [
    {
     "name": "stdout",
     "output_type": "stream",
     "text": [
      "[[[95  9 46 94]\n",
      "  [95  6 67 22]\n",
      "  [14 85 94 40]\n",
      "  [ 6 24 41 59]\n",
      "  [74 86 31 86]]\n",
      "\n",
      " [[ 4 81 12 57]\n",
      "  [61 63 22 89]\n",
      "  [18 35 49 59]\n",
      "  [55 37 66 73]\n",
      "  [98 48  6 28]]\n",
      "\n",
      " [[73 92 34  6]\n",
      "  [14 28 95 28]\n",
      "  [10 52 82 65]\n",
      "  [82 77 33 31]\n",
      "  [97 14 71 45]]] \n",
      "\n"
     ]
    }
   ],
   "source": [
    "rng = np.random.default_rng()\n",
    "\n",
    "numero_aleatorio_4 = rng.integers(low = 1, high = 101, size = (3, 5, 4))\n",
    "print(numero_aleatorio_4, '\\n')"
   ]
  },
  {
   "cell_type": "markdown",
   "id": "11c4893b",
   "metadata": {},
   "source": [
    "<span style=\"color: #FFC107; font-size: 22px;\">**np.where()**</span> <br>"
   ]
  },
  {
   "cell_type": "code",
   "execution_count": 24,
   "id": "5aa791fb",
   "metadata": {},
   "outputs": [
    {
     "name": "stdout",
     "output_type": "stream",
     "text": [
      "[1 5 6 6 4 5 2 5 5 4]\n"
     ]
    },
    {
     "data": {
      "text/plain": [
       "(array([2, 3], dtype=int64),)"
      ]
     },
     "execution_count": 24,
     "metadata": {},
     "output_type": "execute_result"
    }
   ],
   "source": [
    "x = np.random.randint(1, 7, 10)\n",
    "print(x)\n",
    "\n",
    "x[np.where(x > 5)]\n",
    "\n",
    "np.where(x > 5)"
   ]
  },
  {
   "cell_type": "code",
   "execution_count": 25,
   "id": "e096e9c8",
   "metadata": {},
   "outputs": [
    {
     "data": {
      "text/plain": [
       "array([False, False,  True,  True, False, False, False, False, False,\n",
       "       False])"
      ]
     },
     "execution_count": 25,
     "metadata": {},
     "output_type": "execute_result"
    }
   ],
   "source": [
    "x > 5"
   ]
  },
  {
   "cell_type": "code",
   "execution_count": 37,
   "id": "cd0c70c5",
   "metadata": {},
   "outputs": [
    {
     "name": "stdout",
     "output_type": "stream",
     "text": [
      "Salários:  [ 990 4756 4100 2913 2881] \n",
      "\n",
      "Média salarial:  3128.0 \n",
      "\n",
      "Posição no array dos salários acima de 3128.0:  [1 2] \n",
      "\n",
      "Valor dos salários acima de 3128.0:  [4756 4100] \n",
      "\n",
      "[4756 4100]\n"
     ]
    }
   ],
   "source": [
    "# Define uma seed para valores aleatórios\n",
    "aleatorio = np.random.default_rng(seed = 42)\n",
    "\n",
    "# Define um conjunto de valores aleatórios\n",
    "salarios = aleatorio.integers(low = 500, high = 6000, size = 5)\n",
    "print('Salários: ', salarios, '\\n')\n",
    "\n",
    "# Apresenta a média salarial\n",
    "media_salarial = np.mean(salarios)\n",
    "print('Média salarial: ', media_salarial, '\\n')\n",
    "\n",
    "salarios_acima_media_1 = np.where(salarios > media_salarial)\n",
    "print(f'Posição no array dos salários acima de {media_salarial}: ', salarios_acima_media_1[0], '\\n')\n",
    "\n",
    "print(f'Valor dos salários acima de {media_salarial}: ', salarios[salarios_acima_media_1], '\\n')\n",
    "\n",
    "salarios_acima_media_2 = salarios[salarios > media_salarial]\n",
    "print(salarios_acima_media_2)"
   ]
  },
  {
   "cell_type": "code",
   "execution_count": 44,
   "id": "893cf76f",
   "metadata": {},
   "outputs": [
    {
     "name": "stdout",
     "output_type": "stream",
     "text": [
      "Salários:  [ 990 4756 4100 2913 2881] \n",
      "\n",
      "['Salários pequenos' 'True' 'True' 'Salários pequenos' 'Salários pequenos'] \n",
      "\n",
      "[ 990.  5231.6 4510.  2913.  2881. ]\n"
     ]
    }
   ],
   "source": [
    "# Define uma seed para valores aleatórios\n",
    "aleatorio = np.random.default_rng(seed = 42)\n",
    "\n",
    "# Define um conjunto de valores aleatórios\n",
    "salarios = aleatorio.integers(low = 500, high = 6000, size = 5)\n",
    "print('Salários: ', salarios, '\\n')\n",
    "\n",
    "salarios_modificado = np.where(salarios >= media_salarial, True, 'Salários pequenos')\n",
    "print(salarios_modificado, '\\n')\n",
    "\n",
    "salarios_modificado = np.where(salarios >= media_salarial, salarios * 1.1, salarios)\n",
    "print(salarios_modificado)"
   ]
  },
  {
   "cell_type": "code",
   "execution_count": 48,
   "id": "099cb9c7",
   "metadata": {},
   "outputs": [
    {
     "data": {
      "text/plain": [
       "array(['oi', 'True', 'True', 'True', 'oi'], dtype='<U5')"
      ]
     },
     "execution_count": 48,
     "metadata": {},
     "output_type": "execute_result"
    }
   ],
   "source": [
    "np.where((salarios >= 2900) & (salarios <= 5000))\n",
    "\n",
    "salarios[(salarios >= 2900) & (salarios <= 5000)]\n",
    "\n",
    "np.where((salarios >= 2900) & (salarios <= 5000), True, 'oi')"
   ]
  },
  {
   "cell_type": "code",
   "execution_count": 52,
   "id": "dd0e3e0e",
   "metadata": {},
   "outputs": [
    {
     "data": {
      "text/plain": [
       "array(['True', 'oi', 'oi', 'oi', 'True'], dtype='<U5')"
      ]
     },
     "execution_count": 52,
     "metadata": {},
     "output_type": "execute_result"
    }
   ],
   "source": [
    "np.where((salarios <= 2900) | (salarios >= 5000))\n",
    "\n",
    "salarios[(salarios <= 2900) | (salarios >= 5000)]\n",
    "\n",
    "np.where((salarios <= 2900) | (salarios >= 5000), True, 'oi')"
   ]
  },
  {
   "cell_type": "code",
   "execution_count": 41,
   "id": "f6b6a751",
   "metadata": {},
   "outputs": [
    {
     "name": "stdout",
     "output_type": "stream",
     "text": [
      "[345 200 490 479 125 175 179 171 333 240 293 192 481 368] \n",
      "\n",
      "A quantidade de dimensões é:  1 \n",
      "\n",
      "O formato do vetor/matriz é:  (14,)\n"
     ]
    }
   ],
   "source": [
    "# Define uma instância para a geração de números aleatórios\n",
    "aleatorio = np.random.default_rng(seed = 12)\n",
    "\n",
    "# Cria um array com valores aleatórios e inteiros\n",
    "valores = aleatorio.integers(low = 100, high = 501, size = 14)\n",
    "print(valores, '\\n')\n",
    "\n",
    "# Apresenta a quantidade de dimensões do vetor/matriz\n",
    "qtd_dimensoes = valores.ndim\n",
    "print('A quantidade de dimensões é: ', qtd_dimensoes, '\\n')\n",
    "\n",
    "# Apresenta o formato\n",
    "formato = valores.shape\n",
    "print('O formato do vetor/matriz é: ', formato)"
   ]
  },
  {
   "cell_type": "code",
   "execution_count": 90,
   "id": "c7096f8e",
   "metadata": {},
   "outputs": [
    {
     "name": "stdout",
     "output_type": "stream",
     "text": [
      "[[345 200 490 479 125 175 179]\n",
      " [171 333 240 293 192 481 368]] \n",
      "\n",
      "[[345 200 490 479 125 175 179]\n",
      " [171 333 240 293 192 481 368]] \n",
      "\n",
      "[[345 200 490 479 125 175 179]\n",
      " [171 333 240 293 192 481 368]] \n",
      "\n",
      "A quantidade de dimensões é:  2 \n",
      "\n",
      "O formato do vetor/matriz é:  (2, 7)\n"
     ]
    }
   ],
   "source": [
    "valores_reshaped_1 = np.reshape(valores, (2, 7))\n",
    "print(valores_reshaped_1, '\\n')\n",
    "\n",
    "valores_reshaped_2 = valores.reshape(2, 7)\n",
    "print(valores_reshaped_2, '\\n')\n",
    "\n",
    "# o '-1' serve para completar o formato\n",
    "valores_reshaped_3 = np.reshape(valores, (2, -1))\n",
    "print(valores_reshaped_3, '\\n')\n",
    "\n",
    "# Apresenta a quantidade de dimensões do vetor/matriz\n",
    "qtd_dimensoes = valores_reshaped_2.ndim\n",
    "print('A quantidade de dimensões é: ', qtd_dimensoes, '\\n')\n",
    "\n",
    "# Apresenta o formato\n",
    "formato = valores_reshaped_2.shape\n",
    "print('O formato do vetor/matriz é: ', formato)"
   ]
  },
  {
   "cell_type": "code",
   "execution_count": 50,
   "id": "e1784e61",
   "metadata": {},
   "outputs": [
    {
     "name": "stdout",
     "output_type": "stream",
     "text": [
      "Soma das colunas:  [516 533 730 772 317 656 547] \n",
      "\n",
      "Soma das linhas:  [1993 2078]\n"
     ]
    }
   ],
   "source": [
    "soma_colunas = valores_reshaped_2.sum(axis = 0)\n",
    "print('Soma das colunas: ', soma_colunas, '\\n')\n",
    "\n",
    "soma_linhas = valores_reshaped_2.sum(axis = 1)\n",
    "print('Soma das linhas: ', soma_linhas)"
   ]
  },
  {
   "cell_type": "code",
   "execution_count": 51,
   "id": "77b3f50c",
   "metadata": {},
   "outputs": [
    {
     "name": "stdout",
     "output_type": "stream",
     "text": [
      "Soma das colunas:  [258.  266.5 365.  386.  158.5 328.  273.5] \n",
      "\n",
      "Soma das linhas:  [284.71428571 296.85714286]\n"
     ]
    }
   ],
   "source": [
    "soma_colunas = valores_reshaped_2.mean(axis = 0)\n",
    "print('Soma das colunas: ', soma_colunas, '\\n')\n",
    "\n",
    "soma_linhas = valores_reshaped_2.mean(axis = 1)\n",
    "print('Soma das linhas: ', soma_linhas)"
   ]
  },
  {
   "cell_type": "code",
   "execution_count": 52,
   "id": "c11807e7",
   "metadata": {},
   "outputs": [
    {
     "name": "stdout",
     "output_type": "stream",
     "text": [
      "Soma das colunas:  [345 333 490 479 192 481 368] \n",
      "\n",
      "Soma das linhas:  [490 481]\n"
     ]
    }
   ],
   "source": [
    "soma_colunas = valores_reshaped_2.max(axis = 0)\n",
    "print('Soma das colunas: ', soma_colunas, '\\n')\n",
    "\n",
    "soma_linhas = valores_reshaped_2.max(axis = 1)\n",
    "print('Soma das linhas: ', soma_linhas)"
   ]
  },
  {
   "cell_type": "code",
   "execution_count": 53,
   "id": "7e995b3a",
   "metadata": {},
   "outputs": [
    {
     "name": "stdout",
     "output_type": "stream",
     "text": [
      "Soma das colunas:  [171 200 240 293 125 175 179] \n",
      "\n",
      "Soma das linhas:  [125 171]\n"
     ]
    }
   ],
   "source": [
    "soma_colunas = valores_reshaped_2.min(axis = 0)\n",
    "print('Soma das colunas: ', soma_colunas, '\\n')\n",
    "\n",
    "soma_linhas = valores_reshaped_2.min(axis = 1)\n",
    "print('Soma das linhas: ', soma_linhas)"
   ]
  },
  {
   "cell_type": "markdown",
   "id": "9436b969",
   "metadata": {},
   "source": [
    "<span style=\"color: #FFC107; font-size: 22px;\">**np.arange()**</span>"
   ]
  },
  {
   "cell_type": "code",
   "execution_count": 72,
   "id": "e595ce0a",
   "metadata": {},
   "outputs": [
    {
     "name": "stdout",
     "output_type": "stream",
     "text": [
      "[ 0  1  2  3  4  5  6  7  8  9 10 11 12 13 14] \n",
      "\n",
      "[ 8  9 10 11 12 13 14 15 16 17 18 19 20 21] \n",
      "\n",
      "[ 5.   5.3  5.6  5.9  6.2  6.5  6.8  7.1  7.4  7.7  8.   8.3  8.6  8.9\n",
      "  9.2  9.5  9.8 10.1 10.4 10.7 11.  11.3 11.6 11.9 12.2 12.5 12.8 13.1\n",
      " 13.4 13.7 14.  14.3 14.6 14.9]\n"
     ]
    }
   ],
   "source": [
    "a = np.arange(15)\n",
    "print(a, '\\n')\n",
    "\n",
    "b = np.arange(8, 22)\n",
    "print(b, '\\n')\n",
    "\n",
    "c = np.arange(5, 15, 0.3)\n",
    "print(c)"
   ]
  },
  {
   "cell_type": "markdown",
   "id": "40e43092",
   "metadata": {},
   "source": [
    "<span style=\"color: #FFC107; font-size: 22px;\">**np.linspace()**</span>"
   ]
  },
  {
   "cell_type": "code",
   "execution_count": 99,
   "id": "8ae9bd3f",
   "metadata": {},
   "outputs": [
    {
     "name": "stdout",
     "output_type": "stream",
     "text": [
      "[0. 4. 8.] \n",
      "\n",
      "Tamanho:  3 \n",
      " --------------------------------------------------------------------------------\n",
      "[0.         0.88888889 1.77777778 2.66666667 3.55555556 4.44444444\n",
      " 5.33333333 6.22222222 7.11111111 8.        ] \n",
      "\n",
      "Tamanho:  10 \n",
      " --------------------------------------------------------------------------------\n",
      "[0.         0.27586207 0.55172414 0.82758621 1.10344828 1.37931034\n",
      " 1.65517241 1.93103448 2.20689655 2.48275862 2.75862069 3.03448276\n",
      " 3.31034483 3.5862069  3.86206897 4.13793103 4.4137931  4.68965517\n",
      " 4.96551724 5.24137931 5.51724138 5.79310345 6.06896552 6.34482759\n",
      " 6.62068966 6.89655172 7.17241379 7.44827586 7.72413793 8.        ] \n",
      "\n",
      "Tamanho:  30 \n",
      "\n"
     ]
    }
   ],
   "source": [
    "a = np.linspace(0,8,3)\n",
    "print(a, '\\n')\n",
    "\n",
    "tamanho_a = a.size\n",
    "print('Tamanho: ', tamanho_a, '\\n', '-' * 80)\n",
    "\n",
    "b = np.linspace(0,8,10)\n",
    "print(b, '\\n')\n",
    "\n",
    "tamanho_b = b.size\n",
    "print('Tamanho: ', tamanho_b, '\\n', '-' * 80)\n",
    "\n",
    "c = np.linspace(0,8,30)\n",
    "print(c, '\\n')\n",
    "\n",
    "tamanho_c = c.size\n",
    "print('Tamanho: ', tamanho_c, '\\n')"
   ]
  },
  {
   "cell_type": "markdown",
   "id": "18e98737",
   "metadata": {},
   "source": [
    "<span style=\"color: #FFC107; font-size: 22px;\">**np.arange()**</span> <br>\n",
    "\n",
    "<span style=\"color: #FFC107; font-size: 22px;\">**np.reshape()**</span> <br>\n",
    "\n",
    "<span style=\"color: #FFC107; font-size: 22px;\">**shape**</span> <br>\n",
    "\n",
    "<span style=\"color: #FFC107; font-size: 22px;\">**.ndim**</span> <br>\n",
    "\n",
    "<span style=\"color: #FFC107; font-size: 22px;\">**.size**</span> <br>"
   ]
  },
  {
   "cell_type": "code",
   "execution_count": 15,
   "id": "947dca1f",
   "metadata": {},
   "outputs": [
    {
     "name": "stdout",
     "output_type": "stream",
     "text": [
      "np.arange(24):  [ 0  1  2  3  4  5  6  7  8  9 10 11 12 13 14 15 16 17 18 19 20 21 22 23] \n",
      "\n",
      ".reshape(4,-1,2): \n",
      "\n",
      " [[[ 0  1]\n",
      "  [ 2  3]\n",
      "  [ 4  5]]\n",
      "\n",
      " [[ 6  7]\n",
      "  [ 8  9]\n",
      "  [10 11]]\n",
      "\n",
      " [[12 13]\n",
      "  [14 15]\n",
      "  [16 17]]\n",
      "\n",
      " [[18 19]\n",
      "  [20 21]\n",
      "  [22 23]]] \n",
      "\n",
      ".shape:  (4, 3, 2) \n",
      "\n",
      ".ndim_:  3 \n",
      "\n",
      ".size_:  24 \n",
      "\n"
     ]
    }
   ],
   "source": [
    "arange_ = np.arange(24)\n",
    "print(\"np.arange(24): \", arange_, '\\n')\n",
    "\n",
    "reshape_ = arange_.reshape(4,-1,2)\n",
    "print(\".reshape(4,-1,2): \\n\\n\", reshape_, '\\n')\n",
    "\n",
    "shape_ = reshape_.shape\n",
    "print('.shape: ', shape_, '\\n')\n",
    "\n",
    "ndim_ = reshape_.ndim\n",
    "print('.ndim_: ', ndim_, '\\n')\n",
    "\n",
    "size_ = reshape_.size\n",
    "print('.size_: ', size_, '\\n')"
   ]
  },
  {
   "cell_type": "markdown",
   "id": "609f79bf",
   "metadata": {},
   "source": [
    "<span style=\"color: #FFC107; font-size: 22px;\">**np.zeros()**</span> <br>"
   ]
  },
  {
   "cell_type": "code",
   "execution_count": 17,
   "id": "6ec71836",
   "metadata": {},
   "outputs": [
    {
     "name": "stdout",
     "output_type": "stream",
     "text": [
      "[[0. 0.]\n",
      " [0. 0.]] \n",
      "\n",
      "[[0 0 0]\n",
      " [0 0 0]\n",
      " [0 0 0]]\n"
     ]
    }
   ],
   "source": [
    "a = np.zeros((2,2))\n",
    "print(a, '\\n')\n",
    "\n",
    "b = np.zeros((3,3), dtype = int)\n",
    "print(b)"
   ]
  },
  {
   "cell_type": "markdown",
   "id": "a5d1e841",
   "metadata": {},
   "source": [
    "<span style=\"color: #FFC107; font-size: 22px;\">**np.ones()**</span> <br>"
   ]
  },
  {
   "cell_type": "code",
   "execution_count": 18,
   "id": "9e48dc13",
   "metadata": {},
   "outputs": [
    {
     "name": "stdout",
     "output_type": "stream",
     "text": [
      "[[1. 1.]\n",
      " [1. 1.]] \n",
      "\n",
      "[[1 1 1]\n",
      " [1 1 1]\n",
      " [1 1 1]]\n"
     ]
    }
   ],
   "source": [
    "a = np.ones((2,2))\n",
    "print(a, '\\n')\n",
    "\n",
    "b = np.ones((3,3), dtype = int)\n",
    "print(b)"
   ]
  },
  {
   "cell_type": "markdown",
   "id": "4ac8687d",
   "metadata": {},
   "source": [
    "<span style=\"color: #FFC107; font-size: 22px;\">**np.eye()**</span> <br>"
   ]
  },
  {
   "cell_type": "code",
   "execution_count": 19,
   "id": "c1e3e877",
   "metadata": {},
   "outputs": [
    {
     "name": "stdout",
     "output_type": "stream",
     "text": [
      "[[1. 0.]\n",
      " [0. 1.]] \n",
      "\n",
      "[[1 0 0]\n",
      " [0 1 0]\n",
      " [0 0 1]] \n",
      "\n",
      "[[0 0 0 0]\n",
      " [0 0 0 0]\n",
      " [1 0 0 0]\n",
      " [0 1 0 0]] \n",
      "\n"
     ]
    }
   ],
   "source": [
    "matriz_identidade_1 = np.eye(2)\n",
    "print(matriz_identidade_1, '\\n')\n",
    "\n",
    "matriz_identidade_2 = np.eye(3, dtype=int)\n",
    "print(matriz_identidade_2, '\\n')\n",
    "\n",
    "matriz_identidade_3 = np.eye(4, k=-2, dtype=int)\n",
    "print(matriz_identidade_3, '\\n')"
   ]
  },
  {
   "cell_type": "markdown",
   "id": "25c9be8b",
   "metadata": {},
   "source": [
    "<span style=\"color: #FFC107; font-size: 22px;\">**np.empty()**</span> <br>\n",
    "\n",
    "<span style=\"color: #00b4d8; font-size: 18px;\">Cria um array sem inicializar seus elementos. Isso significa que os valores que ocupam a memória do array não são definidos explicitamente e podem ser qualquer coisa que já estava na memória. Ele é útil quando você vai preencher o array posteriormente, pois evita o tempo gasto inicializando os valores.</span> <br>\n",
    "\n",
    "<span style=\"color: #ff0054; font-size: 18px;\">Cria um array sem inicializar seus elementos. Isso significa que os valores que ocupam a memória do array não são definidos explicitamente e podem ser qualquer coisa que já estava na memória. Ele é útil quando você vai preencher o array posteriormente, pois evita o tempo gasto inicializando os valores.</span> <br>\n",
    "\n",
    "<span style=\"color: #9d4edd; font-size: 18px;\">Cria um array sem inicializar seus elementos. Isso significa que os valores que ocupam a memória do array não são definidos explicitamente e podem ser qualquer coisa que já estava na memória. Ele é útil quando você vai preencher o array posteriormente, pois evita o tempo gasto inicializando os valores.</span> <br>"
   ]
  },
  {
   "cell_type": "code",
   "execution_count": 171,
   "id": "bc40bcfd",
   "metadata": {},
   "outputs": [
    {
     "data": {
      "text/plain": [
       "array([[0.5507979 , 0.70814782, 0.29090474],\n",
       "       [0.51082761, 0.89294695, 0.89629309],\n",
       "       [0.12558531, 0.20724288, 0.0514672 ]])"
      ]
     },
     "execution_count": 171,
     "metadata": {},
     "output_type": "execute_result"
    }
   ],
   "source": [
    "m2 = np.empty((3,3))\n",
    "m2"
   ]
  },
  {
   "cell_type": "markdown",
   "id": "2a767155",
   "metadata": {},
   "source": [
    "<span style=\"color: #FFC107; font-size: 22px;\">**np.diag()**</span> <br>"
   ]
  },
  {
   "cell_type": "code",
   "execution_count": 21,
   "id": "bf7a1769",
   "metadata": {},
   "outputs": [
    {
     "name": "stdout",
     "output_type": "stream",
     "text": [
      "[[10  0  0]\n",
      " [ 0  5  0]\n",
      " [ 0  0 16]] \n",
      "\n",
      "[[0 0 0 0 0]\n",
      " [0 1 0 0 0]\n",
      " [0 0 2 0 0]\n",
      " [0 0 0 3 0]\n",
      " [0 0 0 0 4]]\n"
     ]
    }
   ],
   "source": [
    "a = np.diag([10,5,16])\n",
    "print(a, '\\n')\n",
    "\n",
    "b = np.diag(np.arange(5))\n",
    "print(b)"
   ]
  },
  {
   "cell_type": "markdown",
   "id": "8b8500aa",
   "metadata": {},
   "source": [
    "<span style=\"color: #FFC107; font-size: 22px;\">**np.full()**</span> <br>"
   ]
  },
  {
   "cell_type": "code",
   "execution_count": 23,
   "id": "7f50ee1e",
   "metadata": {},
   "outputs": [
    {
     "name": "stdout",
     "output_type": "stream",
     "text": [
      "[[10 10]\n",
      " [10 10]] \n",
      "\n",
      "[[2 4 6]\n",
      " [2 4 6]] \n",
      "\n",
      "[[2 4 6]\n",
      " [2 4 6]\n",
      " [2 4 6]]\n"
     ]
    }
   ],
   "source": [
    "j = np.full((2, 2), 10)\n",
    "print(j, '\\n')\n",
    "\n",
    "k = np.full((2, 3), [2,4,6])\n",
    "print(k, '\\n')\n",
    "\n",
    "l = np.full((3, 3), [2,4,6])\n",
    "print(l)"
   ]
  },
  {
   "cell_type": "markdown",
   "id": "4bfb89f0",
   "metadata": {},
   "source": [
    "<span style=\"color: #FFC107; font-size: 22px;\">**np.c_[]**</span> <br>"
   ]
  },
  {
   "cell_type": "code",
   "execution_count": null,
   "id": "f22a3dd2",
   "metadata": {},
   "outputs": [],
   "source": [
    "a = np.array([1,2,3])\n",
    "b = np.array([4,5,6])\n",
    "\n",
    "print(np.c_[a, b])\n",
    "print(np.c_[a, b].shape, '\\n')\n",
    "\n",
    "c = np.array([[1,2,3]])\n",
    "d = np.array([[4,5,6]])\n",
    "\n",
    "print(np.c_[c, 0, 0, d])\n",
    "print(np.c_[c, 0, 0, d].shape, '\\n')\n",
    "\n",
    "e = np.array([1])\n",
    "f = np.array([[4,5,6]])\n",
    "\n",
    "print(np.c_[e, f])\n",
    "print(np.c_[e, f].shape)"
   ]
  },
  {
   "cell_type": "markdown",
   "id": "0866f2ce",
   "metadata": {},
   "source": [
    "<span style=\"color: #FFC107; font-size: 22px;\">**np.allclose()**</span> <br>"
   ]
  },
  {
   "cell_type": "code",
   "execution_count": 24,
   "id": "59adc9b1",
   "metadata": {},
   "outputs": [
    {
     "name": "stdout",
     "output_type": "stream",
     "text": [
      "True\n",
      "True\n",
      "True\n",
      "False\n",
      "True\n"
     ]
    }
   ],
   "source": [
    "print(np.allclose(1, 1))\n",
    "\n",
    "print(np.allclose([3, 17], [3, 17]))\n",
    "\n",
    "print(np.allclose([1e10,1e-8], [1.00001e10,1e-9]))\n",
    "\n",
    "print(np.allclose([1.0, np.nan], [1.0, np.nan]))\n",
    "\n",
    "print(np.allclose([1.0, np.nan], [1.0, np.nan], equal_nan=True))"
   ]
  },
  {
   "cell_type": "markdown",
   "id": "030e0cb3",
   "metadata": {},
   "source": [
    "<span style=\"color: #FFC107; font-size: 22px;\">**np.linalg.inv()**</span> <br>"
   ]
  },
  {
   "cell_type": "markdown",
   "id": "346328a7",
   "metadata": {},
   "source": [
    "Calcula a inversa de uma matriz.\n",
    "\n",
    "Dada uma matriz quadrada ``A``, retorne a matriz inversa que satisfaça ``A @ ainv = ainv @ A = np.eye(A.shape[0])``"
   ]
  },
  {
   "cell_type": "code",
   "execution_count": 25,
   "id": "6b1aa814",
   "metadata": {},
   "outputs": [
    {
     "name": "stdout",
     "output_type": "stream",
     "text": [
      "[[1. 2.]\n",
      " [3. 4.]] \n",
      "\n",
      "[[-2.   1. ]\n",
      " [ 1.5 -0.5]] \n",
      "\n",
      "[[1.0000000e+00 0.0000000e+00]\n",
      " [8.8817842e-16 1.0000000e+00]]\n"
     ]
    }
   ],
   "source": [
    "a = np.array([[1., 2.], [3., 4.]])\n",
    "print(a, '\\n')\n",
    "\n",
    "inversa = np.linalg.inv(a)\n",
    "print(inversa, '\\n')\n",
    "\n",
    "multiplicacao_matricial = a @ inversa\n",
    "print(multiplicacao_matricial)"
   ]
  },
  {
   "cell_type": "markdown",
   "id": "87757866",
   "metadata": {},
   "source": [
    "<span style=\"color: #FFC107; font-size: 22px;\">**np.linalg.det()**</span> <br>"
   ]
  },
  {
   "cell_type": "code",
   "execution_count": 3,
   "id": "cd0a0abe",
   "metadata": {},
   "outputs": [
    {
     "name": "stdout",
     "output_type": "stream",
     "text": [
      "[[1. 2.]\n",
      " [3. 4.]] \n",
      "\n",
      "-2.0000000000000004 \n",
      "\n"
     ]
    }
   ],
   "source": [
    "a = np.array([[1., 2.], [3., 4.]])\n",
    "print(a, '\\n')\n",
    "\n",
    "determinante = np.linalg.det(a)\n",
    "print(determinante, '\\n')"
   ]
  },
  {
   "cell_type": "markdown",
   "id": "829a6390",
   "metadata": {},
   "source": [
    "<span style=\"color: #FFC107; font-size: 22px;\">**np.linalg.solve()**</span> <br>"
   ]
  },
  {
   "cell_type": "code",
   "execution_count": 13,
   "id": "185e888c",
   "metadata": {},
   "outputs": [
    {
     "name": "stdout",
     "output_type": "stream",
     "text": [
      "[[10 20]\n",
      " [30 40]] \n",
      "\n",
      "[ 50 110] \n",
      "\n",
      "[1. 2.]\n"
     ]
    }
   ],
   "source": [
    "# Ax = b\n",
    "\n",
    "A = np.array([10, 20, 30, 40]).reshape(2,2)\n",
    "print(A, '\\n')\n",
    "\n",
    "b = np.array([50,110])\n",
    "print(b, '\\n')\n",
    "\n",
    "x = np.linalg.solve(A, b)\n",
    "print(x)"
   ]
  },
  {
   "cell_type": "markdown",
   "id": "619549b4",
   "metadata": {},
   "source": [
    "<span style=\"color: #FFC107; font-size: 22px;\">**np.full()**</span> <br>"
   ]
  },
  {
   "cell_type": "code",
   "execution_count": 28,
   "id": "706758c5",
   "metadata": {},
   "outputs": [
    {
     "name": "stdout",
     "output_type": "stream",
     "text": [
      "5º percentil: 3.23\n",
      "10º percentil: 5.30\n",
      "50º percentil: 16.64\n",
      "90º percentil: 34.33\n",
      "95º percentil: 37.56\n"
     ]
    }
   ],
   "source": [
    "# Cria uma instância para um gerador de números aleatórios\n",
    "rng = np.random.default_rng(seed = 65)\n",
    "\n",
    "# Define um gerador de distribuição normal\n",
    "dados = (rng.standard_normal(100) * 10) + 17\n",
    "\n",
    "# Define os percentis desejados para análise\n",
    "vetor_percentil = [5, 10, 50, 90, 95]\n",
    "\n",
    "# Percorre todos os percentis definidos\n",
    "for i in vetor_percentil:\n",
    "    percentil = np.percentile(dados, i)\n",
    "    print(f\"{i}º percentil: {percentil:.2f}\")"
   ]
  },
  {
   "cell_type": "markdown",
   "id": "ae9564db",
   "metadata": {},
   "source": [
    "<span style=\"color: #FFC107; font-size: 22px;\">**np.concatenate()**</span> <br>"
   ]
  },
  {
   "cell_type": "code",
   "execution_count": 38,
   "id": "6e3063a4",
   "metadata": {},
   "outputs": [
    {
     "name": "stdout",
     "output_type": "stream",
     "text": [
      "[19 98 89 86 81] \n",
      "\n",
      "[134 126 151] \n",
      "\n",
      "[ 19  98  89  86  81 134 126 151]\n"
     ]
    }
   ],
   "source": [
    "a = np.random.randint(1, 100, 5)\n",
    "print(a, '\\n')\n",
    "\n",
    "b = np.random.randint(110, 160, 3)\n",
    "print(b, '\\n')\n",
    "\n",
    "c = np.concatenate((a, b))\n",
    "print(c)"
   ]
  },
  {
   "cell_type": "markdown",
   "id": "0a2914c7",
   "metadata": {},
   "source": [
    "<span style=\"color: #FFC107; font-size: 22px;\">**np.full()**</span> <br>"
   ]
  },
  {
   "cell_type": "code",
   "execution_count": 50,
   "id": "0f249e35",
   "metadata": {},
   "outputs": [
    {
     "name": "stdout",
     "output_type": "stream",
     "text": [
      "[[0.5507979  0.70814782 0.29090474]\n",
      " [0.51082761 0.89294695 0.89629309]\n",
      " [0.12558531 0.20724288 0.0514672 ]] \n",
      "\n",
      "[[1 5 8]\n",
      " [9 2 7]\n",
      " [3 3 2]]\n"
     ]
    }
   ],
   "source": [
    "# Pseudo números aleatórios\n",
    "np.random.seed(3)\n",
    "\n",
    "a = np.random.random(4)\n",
    "print(a)\n",
    "\n",
    "a = np.random.rand(3,3)\n",
    "print(a, '\\n')\n",
    "\n",
    "# Colocando o seed eu consigo compartilhar meu notebook que os valores aleatórios de quem for testar serão os mesmos\n",
    "b = np.random.randint(low = 1, high = 11, size=(3, 3))\n",
    "print(b)\n",
    "\n",
    "b = np.random.randn(100)*100\n",
    "\n",
    "c = np.random.rayleigh(1, 100)"
   ]
  },
  {
   "cell_type": "markdown",
   "id": "b712185e",
   "metadata": {},
   "source": [
    "<span style=\"color: #FFC107; font-size: 22px;\">**np.transpose()**</span> <br>\n",
    "<span style=\"color: #FFC107; font-size: 22px;\">**.T**</span> <br>"
   ]
  },
  {
   "cell_type": "code",
   "execution_count": 54,
   "id": "0578a4bd",
   "metadata": {},
   "outputs": [
    {
     "name": "stdout",
     "output_type": "stream",
     "text": [
      "[[1 2]\n",
      " [3 4]\n",
      " [5 6]] \n",
      "\n",
      "[[1 3 5]\n",
      " [2 4 6]] \n",
      "\n",
      "[[1 3 5]\n",
      " [2 4 6]]\n"
     ]
    }
   ],
   "source": [
    "# Criando uma matriz\n",
    "matriz = np.array([[1, 2], [3, 4], [5, 6]])\n",
    "print(matriz, '\\n')\n",
    "\n",
    "# Transpondo a matriz usando numpy.transpose()\n",
    "matriz_transposta_1 = np.transpose(matriz)\n",
    "print(matriz_transposta_1, '\\n')\n",
    "\n",
    "matriz_transposta_2 = matriz.T\n",
    "print(matriz_transposta_2)"
   ]
  },
  {
   "cell_type": "markdown",
   "id": "1a20508e",
   "metadata": {},
   "source": [
    "<span style=\"color: #FFC107; font-size: 22px;\">**np.ravel()**</span> <br>"
   ]
  },
  {
   "cell_type": "code",
   "execution_count": 56,
   "id": "180d30a6",
   "metadata": {},
   "outputs": [
    {
     "name": "stdout",
     "output_type": "stream",
     "text": [
      "[[1 2 3]\n",
      " [4 5 6]]\n",
      "[1 2 3 4 5 6]\n"
     ]
    }
   ],
   "source": [
    "import numpy as np\n",
    "\n",
    "# Criando uma matriz 2x3\n",
    "matriz = np.array([[1, 2, 3], [4, 5, 6]])\n",
    "print(matriz)\n",
    "\n",
    "# Aplicando ravel\n",
    "matriz_achatada = np.ravel(matriz)\n",
    "\n",
    "print(matriz_achatada)"
   ]
  },
  {
   "cell_type": "code",
   "execution_count": 70,
   "id": "d8a16197",
   "metadata": {},
   "outputs": [
    {
     "name": "stdout",
     "output_type": "stream",
     "text": [
      "[[[25  4 57 73]\n",
      "  [ 1 22 20 75]]\n",
      "\n",
      " [[42 11 22 39]\n",
      "  [97 21 45 94]]\n",
      "\n",
      " [[40 15 27 82]\n",
      "  [91 23 67  3]]] \n",
      "\n",
      "[25  4 57 73  1 22 20 75 42 11 22 39 97 21 45 94 40 15 27 82 91 23 67  3]\n"
     ]
    }
   ],
   "source": [
    "# Pseudo números aleatórios\n",
    "np.random.seed(3)\n",
    "\n",
    "matriz = np.random.randint(low = 1, high = 101, size = (3,2,4))\n",
    "print(matriz, '\\n')\n",
    "\n",
    "# Aplicando ravel\n",
    "matriz_achatada = np.ravel(matriz)\n",
    "print(matriz_achatada)"
   ]
  },
  {
   "cell_type": "markdown",
   "id": "69ca7579",
   "metadata": {},
   "source": [
    "<span style=\"color: #FFC107; font-size: 22px;\">**np.full()**</span> <br>"
   ]
  },
  {
   "cell_type": "code",
   "execution_count": 81,
   "id": "e0f13ed1",
   "metadata": {},
   "outputs": [
    {
     "name": "stdout",
     "output_type": "stream",
     "text": [
      "3.141592653589793\n",
      "nan\n",
      "2.718281828459045\n",
      "inf\n",
      "-inf\n"
     ]
    }
   ],
   "source": [
    "pi = np.pi\n",
    "print(pi)\n",
    "\n",
    "nan = np.nan\n",
    "print(nan)\n",
    "\n",
    "euler = np.e\n",
    "print(euler)\n",
    "\n",
    "infinito_positivo = np.inf\n",
    "print(infinito_positivo)\n",
    "\n",
    "infinito_negativo = -np.inf\n",
    "print(infinito_negativo)"
   ]
  },
  {
   "cell_type": "markdown",
   "id": "d7ee59de",
   "metadata": {},
   "source": [
    "<span style=\"color: #FFC107; font-size: 22px;\">**np.full()**</span> <br>"
   ]
  },
  {
   "cell_type": "code",
   "execution_count": 84,
   "id": "53c0a4c5",
   "metadata": {},
   "outputs": [
    {
     "data": {
      "text/plain": [
       "-3.380515006246586"
      ]
     },
     "execution_count": 84,
     "metadata": {},
     "output_type": "execute_result"
    }
   ],
   "source": [
    "np.cos(5)\n",
    "np.sin(5)\n",
    "np.tan(5)"
   ]
  },
  {
   "cell_type": "markdown",
   "id": "6dd565a7",
   "metadata": {},
   "source": [
    "<span style=\"color: #FFC107; font-size: 22px;\">**np.unique()**</span> <br>"
   ]
  },
  {
   "cell_type": "code",
   "execution_count": 88,
   "id": "fe655b70",
   "metadata": {},
   "outputs": [
    {
     "name": "stdout",
     "output_type": "stream",
     "text": [
      "[ 2 10 11 13]\n",
      "[ 2 10 11 13]\n",
      "[0 2 3 4]\n"
     ]
    }
   ],
   "source": [
    "a = np.array([2, 2, 10, 11, 13, 13])\n",
    "\n",
    "valor = np.unique(a)\n",
    "print(valor)\n",
    "\n",
    "valor, posicao = np.unique(a, return_index = True)\n",
    "print(valor)\n",
    "\n",
    "# Apresenta a posição da primeira ocorrência\n",
    "print(posicao)"
   ]
  },
  {
   "cell_type": "markdown",
   "id": "a4b2c395",
   "metadata": {},
   "source": [
    "<span style=\"color: #FFC107; font-size: 22px;\">**np.full()**</span> <br>"
   ]
  },
  {
   "cell_type": "code",
   "execution_count": 96,
   "id": "c8567b0d",
   "metadata": {},
   "outputs": [
    {
     "name": "stdout",
     "output_type": "stream",
     "text": [
      "[[1 2]\n",
      " [3 4]] \n",
      "\n",
      "[[5 6]\n",
      " [7 8]] \n",
      "\n",
      "[[ 5 12]\n",
      " [21 32]] \n",
      "\n",
      "[[19 22]\n",
      " [43 50]] \n",
      "\n",
      "[[19 22]\n",
      " [43 50]] \n",
      "\n",
      "[[19 22]\n",
      " [43 50]] \n",
      "\n"
     ]
    }
   ],
   "source": [
    "import numpy as np\n",
    "\n",
    "# Criando duas matrizes de exemplo\n",
    "A = np.array([[1, 2], [3, 4]])\n",
    "B = np.array([[5, 6], [7, 8]])\n",
    "\n",
    "print(A, '\\n')\n",
    "print(B, '\\n')\n",
    "\n",
    "# Multiplicação elemento a elemento\n",
    "result = A * B\n",
    "print(result, '\\n')\n",
    "\n",
    "result = A @ B\n",
    "print(result, '\\n')\n",
    "\n",
    "result = np.matmul(A, B)\n",
    "print(result, '\\n')\n",
    "\n",
    "result = np.dot(A, B)\n",
    "print(result, '\\n')"
   ]
  },
  {
   "cell_type": "markdown",
   "id": "b44b1ade",
   "metadata": {},
   "source": [
    "<span style=\"color: #FFC107; font-size: 22px;\">**np.full()**</span> <br>"
   ]
  },
  {
   "cell_type": "code",
   "execution_count": 103,
   "id": "257ae77a",
   "metadata": {},
   "outputs": [
    {
     "data": {
      "text/plain": [
       "array([ 8,  6,  0,  6,  4,  8, 10,  2,  7, 10])"
      ]
     },
     "execution_count": 103,
     "metadata": {},
     "output_type": "execute_result"
    }
   ],
   "source": [
    "np.random.seed(13)\n",
    "a = np.random.randint(-10, 11, 10)\n",
    "\n",
    "np.abs(a)"
   ]
  },
  {
   "cell_type": "code",
   "execution_count": null,
   "id": "92889f82",
   "metadata": {},
   "outputs": [],
   "source": [
    "# Forma que o professor utilizou, o random_state faz com que os valores sejam sempre os mesmos para a mesma semente\n",
    "rng = np.random.RandomState(random_state)\n",
    "\n",
    "# Forma recomendada pelo Numpy, o random_state faz com que os valores sejam sempre os mesmos para a mesma semente\n",
    "rng = np.random.default_rng(random_state)\n",
    "\n",
    "# Gera uma distribuição uniforme\n",
    "x = rng.uniform(low = 2, high = 12, size = n_samples)\n",
    "\n",
    "# Gera uma distribuição normal\n",
    "y = 70 + (8 * x) + (10 * rng.standard_normal(size = n_samples))"
   ]
  },
  {
   "cell_type": "code",
   "execution_count": 105,
   "id": "7bdf7a1f",
   "metadata": {},
   "outputs": [
    {
     "data": {
      "text/plain": [
       "array([1, 2, 3, 4])"
      ]
     },
     "execution_count": 105,
     "metadata": {},
     "output_type": "execute_result"
    }
   ],
   "source": [
    "a = np.array([1, 2, 3, 4])\n",
    "a = a.astype(float)\n",
    "\n",
    "b = np.array([1.9, 2.1, 3.0, 4])\n",
    "b = b.astype(int)\n",
    "b"
   ]
  },
  {
   "cell_type": "markdown",
   "id": "bda72956",
   "metadata": {},
   "source": [
    "<span style=\"color: #FFC107; font-size: 22px;\">**np.full()**</span> <br>"
   ]
  },
  {
   "cell_type": "code",
   "execution_count": 135,
   "id": "fe3795b2",
   "metadata": {},
   "outputs": [
    {
     "name": "stdout",
     "output_type": "stream",
     "text": [
      "[[[  1   2   3   4]\n",
      "  [  5   6   7   8]]\n",
      "\n",
      " [[ 11  12  13  14]\n",
      "  [ 15  16  17  18]]\n",
      "\n",
      " [[101 102 103 104]\n",
      "  [105 106 107 108]]] \n",
      "\n",
      "[[  1   2   3   4]\n",
      " [  5   6   7   8]\n",
      " [ 11  12  13  14]\n",
      " [ 15  16  17  18]\n",
      " [101 102 103 104]\n",
      " [105 106 107 108]] \n",
      "\n",
      "[[  1   2   3   4  11  12  13  14 101 102 103 104]\n",
      " [  5   6   7   8  15  16  17  18 105 106 107 108]]\n"
     ]
    }
   ],
   "source": [
    "a = np.arange(1, 9)\n",
    "x = a.reshape(2, -1)\n",
    "\n",
    "b = np.array([x, x + 10, x + 100])\n",
    "\n",
    "print(b, '\\n')\n",
    "\n",
    "vetor_r = np.r_[x, x + 10, x + 100]\n",
    "print(vetor_r, '\\n')\n",
    "\n",
    "vetor_c = np.c_[x, x + 10, x + 100]\n",
    "print(vetor_c)"
   ]
  },
  {
   "cell_type": "markdown",
   "id": "f6c377bf",
   "metadata": {},
   "source": [
    "<span style=\"color: #FFC107; font-size: 22px;\">**np.full()**</span> <br>"
   ]
  },
  {
   "cell_type": "code",
   "execution_count": 146,
   "id": "1d72c276",
   "metadata": {},
   "outputs": [
    {
     "name": "stdout",
     "output_type": "stream",
     "text": [
      "[[ 1  2  3  4  5]\n",
      " [ 6  7  8  9 10]\n",
      " [11 12 13 14 15]] \n",
      "\n"
     ]
    },
    {
     "data": {
      "text/plain": [
       "array([[ 2,  3,  1,  1,  1,  3],\n",
       "       [ 7,  8,  6,  6,  6,  8],\n",
       "       [12, 13, 11, 11, 11, 13]])"
      ]
     },
     "execution_count": 146,
     "metadata": {},
     "output_type": "execute_result"
    }
   ],
   "source": [
    "a = np.arange(1, 16)\n",
    "a = a.reshape(3, -1)\n",
    "print(a, '\\n')\n",
    "\n",
    "a[0,:]\n",
    "a[:,0]\n",
    "a[:,[1,2,0,0,0,2]]\n",
    "# a[[1,0,1],:]\n",
    "x[:,[0]]"
   ]
  },
  {
   "cell_type": "markdown",
   "id": "d4919208",
   "metadata": {},
   "source": [
    "<span style=\"color: #FFC107; font-size: 22px;\">**np.full()**</span> <br>"
   ]
  },
  {
   "cell_type": "code",
   "execution_count": 161,
   "id": "f40a9be8",
   "metadata": {},
   "outputs": [
    {
     "data": {
      "text/plain": [
       "33.6875"
      ]
     },
     "execution_count": 161,
     "metadata": {},
     "output_type": "execute_result"
    }
   ],
   "source": [
    "a = np.array([2, 15, 13, 3])\n",
    "\n",
    "np.std(a)\n",
    "\n",
    "somatorio = np.sum(a)\n",
    "tamanho = a.size\n",
    "media = somatorio / tamanho\n",
    "\n",
    "np.sqrt(np.sum(((a - media) ** 2)) / tamanho)\n",
    "np.var(a)\n",
    "np.sum(((a - media) ** 2)) / tamanho + 0"
   ]
  },
  {
   "cell_type": "markdown",
   "id": "f6c774ff",
   "metadata": {},
   "source": [
    "<span style=\"color: #FFC107; font-size: 22px;\">**Broadcasting**</span> <br>\n",
    "\n",
    "\n",
    "<span style=\"color: #00b4d8; font-size: 18px;\">O broadcasting no NumPy é uma funcionalidade poderosa que permite realizar operações em arrays de diferentes formas (dimensões) de maneira eficiente, sem a necessidade de copiar dados ou ajustar explicitamente o tamanho dos arrays. Ele é aplicado automaticamente quando se realiza operações entre arrays de formas diferentes, permitindo que o NumPy \"alargue\" (ou \"transmita\", de onde vem o termo broadcast) o menor array para que ele tenha uma forma compatível com o maior array.</span> <br>\n",
    "\n",
    "<span style=\"color: #7abf66; font-size: 18px;\">O broadcasting no NumPy é uma funcionalidade poderosa que permite realizar operações em arrays de diferentes formas (dimensões) de maneira eficiente, sem a necessidade de copiar dados ou ajustar explicitamente o tamanho dos arrays. Ele é aplicado automaticamente quando se realiza operações entre arrays de formas diferentes, permitindo que o NumPy \"alargue\" (ou \"transmita\", de onde vem o termo broadcast) o menor array para que ele tenha uma forma compatível com o maior array.</span> <br>"
   ]
  },
  {
   "cell_type": "code",
   "execution_count": 172,
   "id": "47e50ef6",
   "metadata": {},
   "outputs": [
    {
     "name": "stdout",
     "output_type": "stream",
     "text": [
      "[[11 21 31 41]\n",
      " [12 22 32 42]\n",
      " [13 23 33 43]]\n"
     ]
    }
   ],
   "source": [
    "import numpy as np\n",
    "\n",
    "# Array 1: forma (3, 1)\n",
    "a = np.array([[1], [2], [3]])\n",
    "\n",
    "# Array 2: forma (1, 4)\n",
    "b = np.array([10, 20, 30, 40])\n",
    "\n",
    "# Operação: soma de 'a' e 'b'\n",
    "result = a + b\n",
    "print(result)"
   ]
  },
  {
   "cell_type": "code",
   "execution_count": 173,
   "id": "d8892a7e",
   "metadata": {},
   "outputs": [
    {
     "name": "stdout",
     "output_type": "stream",
     "text": [
      "[[10 20 30]\n",
      " [20 40 60]\n",
      " [30 60 90]]\n"
     ]
    }
   ],
   "source": [
    "a = np.array([1, 2, 3])      # forma (3,)\n",
    "b = np.array([[10], [20], [30]])  # forma (3, 1)\n",
    "\n",
    "# Operação: multiplicação\n",
    "result = a * b\n",
    "print(result)"
   ]
  },
  {
   "cell_type": "code",
   "execution_count": null,
   "id": "81d57a91",
   "metadata": {},
   "outputs": [],
   "source": [
    "a = np.array([[1, 2, 3], [4, 5, 6]])  # Forma (2, 3)\n",
    "b = np.array([10, 20, 30])            # Forma (3,)\n",
    "result = a + b\n",
    "print(result)"
   ]
  },
  {
   "cell_type": "code",
   "execution_count": null,
   "id": "7794512f",
   "metadata": {},
   "outputs": [],
   "source": [
    "a = np.array([[1], [2], [3]])  # Forma (3, 1)\n",
    "b = np.array([10, 20, 30])     # Forma (3,)\n",
    "result = a * b\n",
    "print(result)"
   ]
  },
  {
   "cell_type": "code",
   "execution_count": null,
   "id": "f2af72fc",
   "metadata": {},
   "outputs": [],
   "source": []
  },
  {
   "cell_type": "code",
   "execution_count": null,
   "id": "bc0797ab",
   "metadata": {},
   "outputs": [],
   "source": []
  },
  {
   "cell_type": "markdown",
   "id": "05a32c32",
   "metadata": {},
   "source": [
    "<span style=\"color: #FFC107; font-size: 22px;\">**Trigonometric Functions**</span> <br>"
   ]
  },
  {
   "cell_type": "code",
   "execution_count": 187,
   "id": "aaff5f10",
   "metadata": {},
   "outputs": [
    {
     "name": "stdout",
     "output_type": "stream",
     "text": [
      "np.sin: 1.0\n",
      "np.cos: -1.0\n",
      "np.tan: 0.9999999999999999\n",
      "np.arcsin: 1.5707963267948966\n",
      "np.arccos: 0.0\n",
      "np.arctan: 0.7853981633974483\n",
      "np.hypot: 5.0\n",
      "np.arctan2: 0.7853981633974483\n",
      "np.degrees: 180.0\n",
      "np.degrees: np.degrees(x) = 180.0\n",
      "np.radians: 3.141592653589793\n",
      "np.unwrap: [0.         3.14159265 6.28318531 9.42477796]\n",
      "np.deg2rad: 3.141592653589793\n",
      "np.rad2deg: 180.0\n"
     ]
    }
   ],
   "source": [
    "import numpy as np\n",
    "\n",
    "# Exemplo para np.sin\n",
    "# Calcula o seno de um ângulo (em radianos).\n",
    "x = np.pi / 2\n",
    "print(\"np.sin:\", np.sin(x))  # Saída: 1.0\n",
    "\n",
    "# Exemplo para np.cos\n",
    "# Calcula o cosseno de um ângulo (em radianos).\n",
    "x = np.pi\n",
    "print(\"np.cos:\", np.cos(x))  # Saída: -1.0\n",
    "\n",
    "# Exemplo para np.tan\n",
    "# Calcula a tangente de um ângulo (em radianos).\n",
    "x = np.pi / 4\n",
    "print(\"np.tan:\", np.tan(x))  # Saída: 1.0\n",
    "\n",
    "# Exemplo para np.arcsin\n",
    "# Calcula o arco seno (inverso do seno) de um valor, retornando o ângulo em radianos.\n",
    "x = 1\n",
    "print(\"np.arcsin:\", np.arcsin(x))  # Saída: 1.5707963267948966 (π/2)\n",
    "\n",
    "# Exemplo para np.arccos\n",
    "# Calcula o arco cosseno (inverso do cosseno) de um valor, retornando o ângulo em radianos.\n",
    "x = 1\n",
    "print(\"np.arccos:\", np.arccos(x))  # Saída: 0.0\n",
    "\n",
    "# Exemplo para np.arctan\n",
    "# Calcula o arco tangente (inverso da tangente) de um valor, retornando o ângulo em radianos.\n",
    "x = 1\n",
    "print(\"np.arctan:\", np.arctan(x))  # Saída: 0.7853981633974483 (π/4)\n",
    "\n",
    "# Exemplo para np.hypot\n",
    "# Calcula a hipotenusa de um triângulo retângulo com lados x e y.\n",
    "x, y = 3, 4\n",
    "print(\"np.hypot:\", np.hypot(x, y))  # Saída: 5.0\n",
    "\n",
    "# Exemplo para np.arctan2\n",
    "# Calcula o arco tangente do quociente de seus argumentos, retornando o ângulo em radianos.\n",
    "y, x = 1, 1\n",
    "print(\"np.arctan2:\", np.arctan2(y, x))  # Saída: 0.7853981633974483 (π/4)\n",
    "\n",
    "# Exemplo para np.degrees\n",
    "# Converte um ângulo de radianos para graus.\n",
    "x = np.pi\n",
    "print(\"np.degrees:\", np.degrees(x))  # Saída: 180.0\n",
    "print(f\"np.degrees: {np.degrees(x) = }\")\n",
    "\n",
    "# Exemplo para np.radians\n",
    "# Converte um ângulo de graus para radianos.\n",
    "x = 180\n",
    "print(\"np.radians:\", np.radians(x))  # Saída: 3.141592653589793 (π)\n",
    "\n",
    "# Exemplo para np.unwrap\n",
    "# Desfaz saltos de 2π em um array de ângulos.\n",
    "x = np.array([0, np.pi, 2*np.pi, 3*np.pi])\n",
    "print(\"np.unwrap:\", np.unwrap(x))  # Saída: [0.         3.14159265 6.28318531 9.42477796]\n",
    "\n",
    "# Exemplo para np.deg2rad\n",
    "# Converte um ângulo de graus para radianos.\n",
    "x = 180\n",
    "print(\"np.deg2rad:\", np.deg2rad(x))  # Saída: 3.141592653589793 (π)\n",
    "\n",
    "# Exemplo para np.rad2deg\n",
    "# Converte um ângulo de radianos para graus.\n",
    "x = np.pi\n",
    "print(\"np.rad2deg:\", np.rad2deg(x))  # Saída: 180.0"
   ]
  },
  {
   "cell_type": "markdown",
   "id": "62908cbd",
   "metadata": {},
   "source": [
    "<span style=\"color: #FFC107; font-size: 22px;\">**Hyperbolic Functions**</span> <br>"
   ]
  },
  {
   "cell_type": "code",
   "execution_count": 185,
   "id": "89cf2501",
   "metadata": {},
   "outputs": [
    {
     "name": "stdout",
     "output_type": "stream",
     "text": [
      "np.sinh: 1.1752011936438014\n",
      "np.cosh: 1.5430806348152437\n",
      "np.tanh: 0.7615941559557649\n",
      "np.arcsinh: 0.881373587019543\n",
      "np.arccosh: 1.3169578969248166\n",
      "np.arctanh: 0.5493061443340549\n"
     ]
    }
   ],
   "source": [
    "# Exemplo para np.sinh\n",
    "x = 1\n",
    "print(\"np.sinh:\", np.sinh(x))\n",
    "\n",
    "# Exemplo para np.cosh\n",
    "x = 1\n",
    "print(\"np.cosh:\", np.cosh(x))\n",
    "\n",
    "# Exemplo para np.tanh\n",
    "x = 1\n",
    "print(\"np.tanh:\", np.tanh(x))\n",
    "\n",
    "# Exemplo para np.arcsinh\n",
    "x = 1\n",
    "print(\"np.arcsinh:\", np.arcsinh(x))\n",
    "\n",
    "# Exemplo para np.arccosh\n",
    "x = 2\n",
    "print(\"np.arccosh:\", np.arccosh(x))\n",
    "\n",
    "# Exemplo para np.arctanh\n",
    "x = 0.5\n",
    "print(\"np.arctanh:\", np.arctanh(x))"
   ]
  },
  {
   "cell_type": "markdown",
   "id": "216c4e23",
   "metadata": {},
   "source": [
    "<span style=\"color: #FFC107; font-size: 22px;\">**Rounding**</span> <br>"
   ]
  },
  {
   "cell_type": "code",
   "execution_count": null,
   "id": "137d8798",
   "metadata": {},
   "outputs": [],
   "source": [
    "# np.round: Arredonda para o inteiro mais próximo. Pode especificar o número de decimais.\n",
    "x = 3.567\n",
    "print(\"np.round:\", np.round(x, 2))  # Arredonda para 2 casas decimais\n",
    "\n",
    "# np.around: Funciona de forma idêntica ao np.round.\n",
    "x = 3.567\n",
    "print(\"np.around:\", np.around(x, 2))  # Arredonda para 2 casas decimais\n",
    "\n",
    "# np.rint: Arredonda para o inteiro mais próximo, mas retorna um float.\n",
    "x = 3.567\n",
    "print(\"np.rint:\", np.rint(x))  # Arredonda para o inteiro mais próximo\n",
    "\n",
    "# np.fix: Arredonda para o inteiro mais próximo em direção a zero.\n",
    "x = 3.567\n",
    "print(\"np.fix:\", np.fix(x))  # Arredonda para 3\n",
    "x = -3.567\n",
    "print(\"np.fix (negativo):\", np.fix(x))  # Arredonda para -3\n",
    "\n",
    "# np.floor: Arredonda para o menor inteiro mais próximo (para baixo).\n",
    "x = 3.567\n",
    "print(\"np.floor:\", np.floor(x))  # Arredonda para 3\n",
    "x = -3.567\n",
    "print(\"np.floor (negativo):\", np.floor(x))  # Arredonda para -4\n",
    "\n",
    "# np.ceil: Arredonda para o maior inteiro mais próximo (para cima).\n",
    "x = 3.567\n",
    "print(\"np.ceil:\", np.ceil(x))  # Arredonda para 4\n",
    "x = -3.567\n",
    "print(\"np.ceil (negativo):\", np.ceil(x))  # Arredonda para -3\n",
    "\n",
    "# np.trunc: Trunca o valor, removendo a parte decimal.\n",
    "x = 3.567\n",
    "print(\"np.trunc:\", np.trunc(x))  # Trunca para 3\n",
    "x = -3.567\n",
    "print(\"np.trunc (negativo):\", np.trunc(x))  # Trunca para -3"
   ]
  },
  {
   "cell_type": "markdown",
   "id": "4558a38e",
   "metadata": {},
   "source": [
    "<span style=\"color: #FFC107; font-size: 22px;\">**Sums, products, differences**</span> <br>"
   ]
  },
  {
   "cell_type": "code",
   "execution_count": 188,
   "id": "dc3a7e69",
   "metadata": {},
   "outputs": [
    {
     "name": "stdout",
     "output_type": "stream",
     "text": [
      "np.prod: 24\n",
      "np.sum: 10\n",
      "np.nanprod: 8.0\n",
      "np.nansum: 7.0\n",
      "np.cumsum: [ 1  3  6 10]\n",
      "np.cumprod: [ 1  2  6 24]\n",
      "np.nancumprod: [1. 2. 2. 8.]\n",
      "np.nancumsum: [1. 3. 3. 7.]\n",
      "np.diff: [1 2 3]\n",
      "np.ediff1d: [1 2 3]\n",
      "np.gradient: [1.  1.5 2.5 3. ]\n",
      "np.cross: [-3  6 -3]\n",
      "np.trapezoid: 4.0\n"
     ]
    }
   ],
   "source": [
    "import numpy as np\n",
    "\n",
    "# Exemplo para np.prod\n",
    "# Calcula o produto de todos os elementos de um array.\n",
    "arr = np.array([1, 2, 3, 4])\n",
    "print(\"np.prod:\", np.prod(arr))  # Saída: 24\n",
    "\n",
    "# Exemplo para np.sum\n",
    "# Calcula a soma de todos os elementos de um array.\n",
    "arr = np.array([1, 2, 3, 4])\n",
    "print(\"np.sum:\", np.sum(arr))  # Saída: 10\n",
    "\n",
    "# Exemplo para np.nanprod\n",
    "# Calcula o produto de todos os elementos de um array, tratando NaNs como 1.\n",
    "arr = np.array([1, 2, np.nan, 4])\n",
    "print(\"np.nanprod:\", np.nanprod(arr))  # Saída: 8.0\n",
    "\n",
    "# Exemplo para np.nansum\n",
    "# Calcula a soma de todos os elementos de um array, tratando NaNs como 0.\n",
    "arr = np.array([1, 2, np.nan, 4])\n",
    "print(\"np.nansum:\", np.nansum(arr))  # Saída: 7.0\n",
    "\n",
    "# Exemplo para np.cumsum\n",
    "# Calcula a soma cumulativa dos elementos de um array.\n",
    "arr = np.array([1, 2, 3, 4])\n",
    "print(\"np.cumsum:\", np.cumsum(arr))  # Saída: [ 1  3  6 10]\n",
    "\n",
    "# Exemplo para np.cumprod\n",
    "# Calcula o produto cumulativo dos elementos de um array.\n",
    "arr = np.array([1, 2, 3, 4])\n",
    "print(\"np.cumprod:\", np.cumprod(arr))  # Saída: [ 1  2  6 24]\n",
    "\n",
    "# Exemplo para np.nancumprod\n",
    "# Calcula o produto cumulativo dos elementos de um array, tratando NaNs como 1.\n",
    "arr = np.array([1, 2, np.nan, 4])\n",
    "print(\"np.nancumprod:\", np.nancumprod(arr))  # Saída: [ 1.  2.  2.  8.]\n",
    "\n",
    "# Exemplo para np.nancumsum\n",
    "# Calcula a soma cumulativa dos elementos de um array, tratando NaNs como 0.\n",
    "arr = np.array([1, 2, np.nan, 4])\n",
    "print(\"np.nancumsum:\", np.nancumsum(arr))  # Saída: [ 1.  3.  3.  7.]\n",
    "\n",
    "# Exemplo para np.diff\n",
    "# Calcula a diferença entre elementos consecutivos de um array.\n",
    "arr = np.array([1, 2, 4, 7])\n",
    "print(\"np.diff:\", np.diff(arr))  # Saída: [1 2 3]\n",
    "\n",
    "# Exemplo para np.ediff1d\n",
    "# Calcula a diferença entre elementos consecutivos de um array, retornando um array 1D.\n",
    "arr = np.array([1, 2, 4, 7])\n",
    "print(\"np.ediff1d:\", np.ediff1d(arr))  # Saída: [1 2 3]\n",
    "\n",
    "# Exemplo para np.gradient\n",
    "# Calcula o gradiente de um array.\n",
    "arr = np.array([1, 2, 4, 7])\n",
    "print(\"np.gradient:\", np.gradient(arr))  # Saída: [1.  1.5 2.5 3. ]\n",
    "\n",
    "# Exemplo para np.cross\n",
    "# Calcula o produto vetorial de dois arrays.\n",
    "a = np.array([1, 2, 3])\n",
    "b = np.array([4, 5, 6])\n",
    "print(\"np.cross:\", np.cross(a, b))  # Saída: [-3  6 -3]\n",
    "\n",
    "# Exemplo para np.trapezoid\n",
    "# Calcula a integral de um array usando a regra do trapézio.\n",
    "y = np.array([1, 2, 3])\n",
    "print(\"np.trapezoid:\", np.trapz(y))  # Saída: 4.0"
   ]
  },
  {
   "cell_type": "markdown",
   "id": "8029d314",
   "metadata": {},
   "source": [
    "<span style=\"color: #FFC107; font-size: 22px;\">**Exponents and logarithms**</span> <br>"
   ]
  },
  {
   "cell_type": "code",
   "execution_count": null,
   "id": "e089652b",
   "metadata": {},
   "outputs": [],
   "source": [
    "import numpy as np\n",
    "\n",
    "# Exemplo para np.exp\n",
    "# Calcula a exponencial de todos os elementos do array.\n",
    "x = np.array([1, 2, 3])\n",
    "print(\"np.exp:\", np.exp(x))  # Saída: [ 2.71828183  7.3890561  20.08553692]\n",
    "\n",
    "# Exemplo para np.expm1\n",
    "# Calcula a exponencial de todos os elementos do array, subtraindo 1.\n",
    "x = np.array([1, 2, 3])\n",
    "print(\"np.expm1:\", np.expm1(x))  # Saída: [ 1.71828183  6.3890561  19.08553692]\n",
    "\n",
    "# Exemplo para np.exp2\n",
    "# Calcula 2 elevado à potência de todos os elementos do array.\n",
    "x = np.array([1, 2, 3])\n",
    "print(\"np.exp2:\", np.exp2(x))  # Saída: [2. 4. 8.]\n",
    "\n",
    "# Exemplo para np.log\n",
    "# Calcula o logaritmo natural (base e) de todos os elementos do array.\n",
    "x = np.array([1, np.e, np.e**2])\n",
    "print(\"np.log:\", np.log(x))  # Saída: [0. 1. 2.]\n",
    "\n",
    "# Exemplo para np.log10\n",
    "# Calcula o logaritmo na base 10 de todos os elementos do array.\n",
    "x = np.array([1, 10, 100])\n",
    "print(\"np.log10:\", np.log10(x))  # Saída: [0. 1. 2.]\n",
    "\n",
    "# Exemplo para np.log2\n",
    "# Calcula o logaritmo na base 2 de todos os elementos do array.\n",
    "x = np.array([1, 2, 4])\n",
    "print(\"np.log2:\", np.log2(x))  # Saída: [0. 1. 2.]\n",
    "\n",
    "# Exemplo para np.log1p\n",
    "# Calcula o logaritmo natural (base e) de (1 + todos os elementos do array).\n",
    "x = np.array([1, np.e-1, np.e**2-1])\n",
    "print(\"np.log1p:\", np.log1p(x))  # Saída: [1. 1. 2.]\n",
    "\n",
    "# Exemplo para np.logaddexp\n",
    "# Calcula o logaritmo da soma das exponenciais de entrada.\n",
    "a = np.array([1, 2, 3])\n",
    "b = np.array([2, 3, 4])\n",
    "print(\"np.logaddexp:\", np.logaddexp(a, b))  # Saída: [2.31326169 3.31326169 4.31326169]\n",
    "\n",
    "# Exemplo para np.logaddexp2\n",
    "# Calcula o logaritmo da soma das exponenciais de entrada na base 2.\n",
    "a = np.array([1, 2, 3])\n",
    "b = np.array([2, 3, 4])\n",
    "print(\"np.logaddexp2:\", np.logaddexp2(a, b))  # Saída: [2.5849625 3.5849625 4.5849625]"
   ]
  },
  {
   "cell_type": "markdown",
   "id": "05b84372",
   "metadata": {},
   "source": [
    "<span style=\"color: #FFC107; font-size: 22px;\">**Other special functions**</span> <br>"
   ]
  },
  {
   "cell_type": "code",
   "execution_count": 189,
   "id": "8fae24ed",
   "metadata": {},
   "outputs": [
    {
     "name": "stdout",
     "output_type": "stream",
     "text": [
      "np.i0: [1.         1.26606588 2.2795853  4.88079259]\n",
      "np.sinc: [ 1.00000000e+00  3.89817183e-17 -3.89817183e-17  3.89817183e-17]\n"
     ]
    }
   ],
   "source": [
    "import numpy as np\n",
    "\n",
    "# Exemplo para np.i0\n",
    "# Calcula a função de Bessel modificada de primeira espécie de ordem zero para todos os elementos do array.\n",
    "x = np.array([0, 1, 2, 3])\n",
    "print(\"np.i0:\", np.i0(x))  # Saída: [1.         1.26606588 2.2795853  4.88079259]\n",
    "\n",
    "# Exemplo para np.sinc\n",
    "# Calcula a função sinc normalizada (sin(πx)/(πx)) para todos os elementos do array.\n",
    "x = np.array([0, 1, 2, 3])\n",
    "print(\"np.sinc:\", np.sinc(x))  # Saída: [ 1.00000000e+00  3.89817183e-17 -3.89817183e-17  3.89817183e-17]"
   ]
  },
  {
   "cell_type": "markdown",
   "id": "6c5e2c1a",
   "metadata": {},
   "source": [
    "<span style=\"color: #FFC107; font-size: 22px;\">**Floating point routines**</span> <br>"
   ]
  },
  {
   "cell_type": "code",
   "execution_count": 195,
   "id": "bf224df5",
   "metadata": {},
   "outputs": [
    {
     "name": "stdout",
     "output_type": "stream",
     "text": [
      "np.signbit: [ True False False]\n",
      "np.copysign: -2.0\n",
      "np.frexp: 0.5 4\n",
      "np.ldexp: 8.0\n",
      "np.nextafter: 1.0000000000000002\n",
      "np.spacing: 2.220446049250313e-16\n"
     ]
    }
   ],
   "source": [
    "import numpy as np\n",
    "\n",
    "# Exemplo para np.signbit\n",
    "# Retorna True onde o sinal do número é negativo.\n",
    "x = np.array([-1, 0, 1])\n",
    "print(\"np.signbit:\", np.signbit(x))  # Saída: [ True False False]\n",
    "\n",
    "# Exemplo para np.copysign\n",
    "# Copia o sinal de um número para outro.\n",
    "x = -1\n",
    "y = 2\n",
    "print(\"np.copysign:\", np.copysign(y, x))  # Saída: -2.0\n",
    "\n",
    "# Exemplo para np.frexp\n",
    "# Decompõe o número em sua mantissa e expoente.\n",
    "x = 8\n",
    "mantissa, exponent = np.frexp(x)\n",
    "print(\"np.frexp:\", mantissa, exponent)  # Saída: 0.5 4\n",
    "\n",
    "# Exemplo para np.ldexp\n",
    "# Calcula x * (2**exp).\n",
    "mantissa = 0.5\n",
    "exponent = 4\n",
    "print(\"np.ldexp:\", np.ldexp(mantissa, exponent))  # Saída: 8.0\n",
    "\n",
    "# Exemplo para np.nextafter\n",
    "# Retorna o próximo valor de ponto flutuante após x na direção de y.\n",
    "x = 1.0\n",
    "y = 2.0\n",
    "print(\"np.nextafter:\", np.nextafter(x, y))  # Saída: 1.0000000000000002\n",
    "\n",
    "# Exemplo para np.spacing\n",
    "# Retorna a distância entre x e o próximo valor representável.\n",
    "x = 1.0\n",
    "print(\"np.spacing:\", np.spacing(x))  # Saída: 2.220446049250313e-16"
   ]
  },
  {
   "cell_type": "markdown",
   "id": "fda35fe5",
   "metadata": {},
   "source": [
    "<span style=\"color: #FFC107; font-size: 22px;\">**Rational routines**</span> <br>"
   ]
  },
  {
   "cell_type": "code",
   "execution_count": 196,
   "id": "8c39ca52",
   "metadata": {},
   "outputs": [
    {
     "name": "stdout",
     "output_type": "stream",
     "text": [
      "np.lcm: 60\n",
      "np.gcd: 3\n"
     ]
    }
   ],
   "source": [
    "import numpy as np\n",
    "\n",
    "# Exemplo para np.lcm\n",
    "# Calcula o mínimo múltiplo comum (MMC) de dois números ou arrays.\n",
    "x = 12\n",
    "y = 15\n",
    "print(\"np.lcm:\", np.lcm(x, y))  # Saída: 60\n",
    "\n",
    "# Exemplo para np.gcd\n",
    "# Calcula o maior divisor comum (MDC) de dois números ou arrays.\n",
    "x = 12\n",
    "y = 15\n",
    "print(\"np.gcd:\", np.gcd(x, y))  # Saída: 3"
   ]
  },
  {
   "cell_type": "markdown",
   "id": "9c1fb320",
   "metadata": {},
   "source": [
    "<span style=\"color: #FFC107; font-size: 22px;\">**Arithmetic operations**</span> <br>"
   ]
  },
  {
   "cell_type": "code",
   "execution_count": 198,
   "id": "611dd254",
   "metadata": {},
   "outputs": [
    {
     "name": "stdout",
     "output_type": "stream",
     "text": [
      "np.add: [5 7 9]\n",
      "np.reciprocal: [1 0 0]\n",
      "np.positive: [-1 -2  3]\n",
      "np.negative: [-1  2 -3]\n",
      "np.multiply: [ 4 10 18]\n",
      "np.divide: [0.25 0.4  0.5 ]\n",
      "np.power: [  1  32 729]\n",
      "np.subtract: [-3 -3 -3]\n",
      "np.true_divide: [0.25 0.4  0.5 ]\n",
      "np.floor_divide: [0 0 0]\n",
      "np.float_power: [  1.  32. 729.]\n",
      "np.fmod: [1 2 3]\n",
      "np.mod: [1 2 3]\n",
      "np.modf: [0.5 0.5 0.5] [1. 2. 3.]\n",
      "np.remainder: [1 2 3]\n",
      "np.divmod: [0 0 0] [1 2 3]\n"
     ]
    }
   ],
   "source": [
    "import numpy as np\n",
    "\n",
    "# Exemplo para np.add\n",
    "# Soma os elementos de dois arrays.\n",
    "a = np.array([1, 2, 3])\n",
    "b = np.array([4, 5, 6])\n",
    "print(\"np.add:\", np.add(a, b))  # Saída: [5 7 9]\n",
    "\n",
    "# Exemplo para np.reciprocal\n",
    "# Calcula o recíproco (1/x) de cada elemento do array.\n",
    "a = np.array([1, 2, 4])\n",
    "print(\"np.reciprocal:\", np.reciprocal(a))  # Saída: [1 0 0] (inteiros)\n",
    "\n",
    "# Exemplo para np.positive\n",
    "# Retorna o valor positivo de cada elemento do array.\n",
    "a = np.array([-1, -2, 3])\n",
    "print(\"np.positive:\", np.positive(a))  # Saída: [-1 -2  3]\n",
    "\n",
    "# Exemplo para np.negative\n",
    "# Retorna o valor negativo de cada elemento do array.\n",
    "a = np.array([1, -2, 3])\n",
    "print(\"np.negative:\", np.negative(a))  # Saída: [-1  2 -3]\n",
    "\n",
    "# Exemplo para np.multiply\n",
    "# Multiplica os elementos de dois arrays.\n",
    "a = np.array([1, 2, 3])\n",
    "b = np.array([4, 5, 6])\n",
    "print(\"np.multiply:\", np.multiply(a, b))  # Saída: [ 4 10 18]\n",
    "\n",
    "# Exemplo para np.divide\n",
    "# Divide os elementos de dois arrays.\n",
    "a = np.array([1, 2, 3])\n",
    "b = np.array([4, 5, 6])\n",
    "print(\"np.divide:\", np.divide(a, b))  # Saída: [0.25 0.4  0.5 ]\n",
    "\n",
    "# Exemplo para np.power\n",
    "# Eleva os elementos de um array à potência dos elementos de outro array.\n",
    "a = np.array([1, 2, 3])\n",
    "b = np.array([4, 5, 6])\n",
    "print(\"np.power:\", np.power(a, b))  # Saída: [  1  32 729]\n",
    "\n",
    "# Exemplo para np.subtract\n",
    "# Subtrai os elementos de dois arrays.\n",
    "a = np.array([1, 2, 3])\n",
    "b = np.array([4, 5, 6])\n",
    "print(\"np.subtract:\", np.subtract(a, b))  # Saída: [-3 -3 -3]\n",
    "\n",
    "# Exemplo para np.true_divide\n",
    "# Divide os elementos de dois arrays, retornando um resultado de ponto flutuante.\n",
    "a = np.array([1, 2, 3])\n",
    "b = np.array([4, 5, 6])\n",
    "print(\"np.true_divide:\", np.true_divide(a, b))  # Saída: [0.25 0.4  0.5 ]\n",
    "\n",
    "# Exemplo para np.floor_divide\n",
    "# Divide os elementos de dois arrays, retornando o maior inteiro menor ou igual ao resultado.\n",
    "a = np.array([1, 2, 3])\n",
    "b = np.array([4, 5, 6])\n",
    "print(\"np.floor_divide:\", np.floor_divide(a, b))  # Saída: [0 0 0]\n",
    "\n",
    "# Exemplo para np.float_power\n",
    "# Eleva os elementos de um array à potência dos elementos de outro array, retornando um resultado de ponto flutuante.\n",
    "a = np.array([1, 2, 3])\n",
    "b = np.array([4, 5, 6])\n",
    "print(\"np.float_power:\", np.float_power(a, b))  # Saída: [  1.  32. 729.]\n",
    "\n",
    "# Exemplo para np.fmod\n",
    "# Calcula o resto da divisão dos elementos de dois arrays.\n",
    "a = np.array([1, 2, 3])\n",
    "b = np.array([4, 5, 6])\n",
    "print(\"np.fmod:\", np.fmod(a, b))  # Saída: [1 2 3]\n",
    "\n",
    "# Exemplo para np.mod\n",
    "# Calcula o resto da divisão dos elementos de dois arrays (mesma função que np.fmod).\n",
    "a = np.array([1, 2, 3])\n",
    "b = np.array([4, 5, 6])\n",
    "print(\"np.mod:\", np.mod(a, b))  # Saída: [1 2 3]\n",
    "\n",
    "# Exemplo para np.modf\n",
    "# Decompõe os elementos de um array em suas partes inteira e fracionária.\n",
    "a = np.array([1.5, 2.5, 3.5])\n",
    "frac, whole = np.modf(a)\n",
    "print(\"np.modf:\", frac, whole)  # Saída: [0.5 0.5 0.5] [1. 2. 3.]\n",
    "\n",
    "# Exemplo para np.remainder\n",
    "# Calcula o resto da divisão dos elementos de dois arrays (mesma função que np.mod).\n",
    "a = np.array([1, 2, 3])\n",
    "b = np.array([4, 5, 6])\n",
    "print(\"np.remainder:\", np.remainder(a, b))  # Saída: [1 2 3]\n",
    "\n",
    "# Exemplo para np.divmod\n",
    "# Calcula o quociente e o resto da divisão dos elementos de dois arrays.\n",
    "a = np.array([1, 2, 3])\n",
    "b = np.array([4, 5, 6])\n",
    "quotient, remainder = np.divmod(a, b)\n",
    "print(\"np.divmod:\", quotient, remainder)  # Saída: [0 0 0] [1 2 3]"
   ]
  },
  {
   "cell_type": "markdown",
   "id": "b2fbc295",
   "metadata": {},
   "source": [
    "<span style=\"color: #FFC107; font-size: 22px;\">**Handling complex numbers**</span> <br>"
   ]
  },
  {
   "cell_type": "code",
   "execution_count": 199,
   "id": "ff357b6d",
   "metadata": {},
   "outputs": [
    {
     "name": "stdout",
     "output_type": "stream",
     "text": [
      "np.angle: [ 0.78539816 -0.78539816  2.35619449 -2.35619449]\n",
      "np.real: [ 1.  1. -1. -1.]\n",
      "np.imag: [ 1. -1.  1. -1.]\n",
      "np.conj: [ 1.-1.j  1.+1.j -1.-1.j -1.+1.j]\n",
      "np.conjugate: [ 1.-1.j  1.+1.j -1.-1.j -1.+1.j]\n"
     ]
    }
   ],
   "source": [
    "import numpy as np\n",
    "\n",
    "# Exemplo para np.angle\n",
    "# Retorna o ângulo (fase) de números complexos em radianos.\n",
    "z = np.array([1+1j, 1-1j, -1+1j, -1-1j])\n",
    "print(\"np.angle:\", np.angle(z))  # Saída: [ 0.78539816 -0.78539816  2.35619449 -2.35619449]\n",
    "\n",
    "# Exemplo para np.real\n",
    "# Retorna a parte real de números complexos.\n",
    "z = np.array([1+1j, 1-1j, -1+1j, -1-1j])\n",
    "print(\"np.real:\", np.real(z))  # Saída: [ 1.  1. -1. -1.]\n",
    "\n",
    "# Exemplo para np.imag\n",
    "# Retorna a parte imaginária de números complexos.\n",
    "z = np.array([1+1j, 1-1j, -1+1j, -1-1j])\n",
    "print(\"np.imag:\", np.imag(z))  # Saída: [ 1. -1.  1. -1.]\n",
    "\n",
    "# Exemplo para np.conj\n",
    "# Retorna o conjugado complexo de números complexos.\n",
    "z = np.array([1+1j, 1-1j, -1+1j, -1-1j])\n",
    "print(\"np.conj:\", np.conj(z))  # Saída: [ 1.-1.j  1.+1.j -1.-1.j -1.+1.j]\n",
    "\n",
    "# Exemplo para np.conjugate\n",
    "# Retorna o conjugado complexo de números complexos (mesma função que np.conj).\n",
    "z = np.array([1+1j, 1-1j, -1+1j, -1-1j])\n",
    "print(\"np.conjugate:\", np.conjugate(z))  # Saída: [ 1.-1.j  1.+1.j -1.-1.j -1.+1.j]"
   ]
  },
  {
   "cell_type": "markdown",
   "id": "95c17fb1",
   "metadata": {},
   "source": [
    "<span style=\"color: #FFC107; font-size: 22px;\">**Extrema finding**</span> <br>"
   ]
  },
  {
   "cell_type": "code",
   "execution_count": 200,
   "id": "7cf0cd87",
   "metadata": {},
   "outputs": [
    {
     "name": "stdout",
     "output_type": "stream",
     "text": [
      "np.max: 5\n",
      "np.amax: 5\n",
      "np.fmax: [5. 4. 3. 4. 5.]\n",
      "np.nanmax: 5.0\n",
      "np.minimum: [1 2 3 2 1]\n",
      "np.min: 1\n",
      "np.amin: 1\n",
      "np.fmin: [1. 2. 3. 2. 1.]\n",
      "np.nanmin: 1.0\n",
      "np.max: 5\n",
      "np.amax: 5\n",
      "np.fmax: [5. 4. 3. 4. 5.]\n",
      "np.nanmax: 5.0\n",
      "np.minimum: [1 2 3 2 1]\n",
      "np.min: 1\n",
      "np.amin: 1\n",
      "np.fmin: [1. 2. 3. 2. 1.]\n",
      "np.nanmin: 1.0\n"
     ]
    }
   ],
   "source": [
    "import numpy as np\n",
    "\n",
    "# Exemplo para np.max\n",
    "# Retorna o valor máximo de um array.\n",
    "arr = np.array([1, 2, 3, 4, 5])\n",
    "print(\"np.max:\", np.max(arr))  # Saída: 5\n",
    "\n",
    "# Exemplo para np.amax\n",
    "# Funciona de forma idêntica ao np.max.\n",
    "arr = np.array([1, 2, 3, 4, 5])\n",
    "print(\"np.amax:\", np.amax(arr))  # Saída: 5\n",
    "\n",
    "# Exemplo para np.fmax\n",
    "# Retorna o valor máximo, elemento a elemento, comparando dois arrays, ignorando NaNs.\n",
    "arr1 = np.array([1, 2, np.nan, 4, 5])\n",
    "arr2 = np.array([5, 4, 3, 2, 1])\n",
    "print(\"np.fmax:\", np.fmax(arr1, arr2))  # Saída: [5. 4. 3. 4. 5.]\n",
    "\n",
    "# Exemplo para np.nanmax\n",
    "# Retorna o valor máximo de um array, ignorando NaNs.\n",
    "arr = np.array([1, 2, np.nan, 4, 5])\n",
    "print(\"np.nanmax:\", np.nanmax(arr))  # Saída: 5.0\n",
    "\n",
    "# Exemplo para np.minimum\n",
    "# Retorna o valor mínimo, elemento a elemento, comparando dois arrays.\n",
    "arr1 = np.array([1, 2, 3, 4, 5])\n",
    "arr2 = np.array([5, 4, 3, 2, 1])\n",
    "print(\"np.minimum:\", np.minimum(arr1, arr2))  # Saída: [1 2 3 2 1]\n",
    "\n",
    "# Exemplo para np.min\n",
    "# Retorna o valor mínimo de um array.\n",
    "arr = np.array([1, 2, 3, 4, 5])\n",
    "print(\"np.min:\", np.min(arr))  # Saída: 1\n",
    "\n",
    "# Exemplo para np.amin\n",
    "# Funciona de forma idêntica ao np.min.\n",
    "arr = np.array([1, 2, 3, 4, 5])\n",
    "print(\"np.amin:\", np.amin(arr))  # Saída: 1\n",
    "\n",
    "# Exemplo para np.fmin\n",
    "# Retorna o valor mínimo, elemento a elemento, comparando dois arrays, ignorando NaNs.\n",
    "arr1 = np.array([1, 2, np.nan, 4, 5])\n",
    "arr2 = np.array([5, 4, 3, 2, 1])\n",
    "print(\"np.fmin:\", np.fmin(arr1, arr2))  # Saída: [1. 2. 3. 2. 1.]\n",
    "\n",
    "# Exemplo para np.nanmin\n",
    "# Retorna o valor mínimo de um array, ignorando NaNs.\n",
    "arr = np.array([1, 2, np.nan, 4, 5])\n",
    "print(\"np.nanmin:\", np.nanmin(arr))  # Saída: 1.0import numpy as np\n",
    "\n",
    "# Exemplo para np.max\n",
    "# Retorna o valor máximo de um array.\n",
    "arr = np.array([1, 2, 3, 4, 5])\n",
    "print(\"np.max:\", np.max(arr))  # Saída: 5\n",
    "\n",
    "# Exemplo para np.amax\n",
    "# Funciona de forma idêntica ao np.max.\n",
    "arr = np.array([1, 2, 3, 4, 5])\n",
    "print(\"np.amax:\", np.amax(arr))  # Saída: 5\n",
    "\n",
    "# Exemplo para np.fmax\n",
    "# Retorna o valor máximo, elemento a elemento, comparando dois arrays, ignorando NaNs.\n",
    "arr1 = np.array([1, 2, np.nan, 4, 5])\n",
    "arr2 = np.array([5, 4, 3, 2, 1])\n",
    "print(\"np.fmax:\", np.fmax(arr1, arr2))  # Saída: [5. 4. 3. 4. 5.]\n",
    "\n",
    "# Exemplo para np.nanmax\n",
    "# Retorna o valor máximo de um array, ignorando NaNs.\n",
    "arr = np.array([1, 2, np.nan, 4, 5])\n",
    "print(\"np.nanmax:\", np.nanmax(arr))  # Saída: 5.0\n",
    "\n",
    "# Exemplo para np.minimum\n",
    "# Retorna o valor mínimo, elemento a elemento, comparando dois arrays.\n",
    "arr1 = np.array([1, 2, 3, 4, 5])\n",
    "arr2 = np.array([5, 4, 3, 2, 1])\n",
    "print(\"np.minimum:\", np.minimum(arr1, arr2))  # Saída: [1 2 3 2 1]\n",
    "\n",
    "# Exemplo para np.min\n",
    "# Retorna o valor mínimo de um array.\n",
    "arr = np.array([1, 2, 3, 4, 5])\n",
    "print(\"np.min:\", np.min(arr))  # Saída: 1\n",
    "\n",
    "# Exemplo para np.amin\n",
    "# Funciona de forma idêntica ao np.min.\n",
    "arr = np.array([1, 2, 3, 4, 5])\n",
    "print(\"np.amin:\", np.amin(arr))  # Saída: 1\n",
    "\n",
    "# Exemplo para np.fmin\n",
    "# Retorna o valor mínimo, elemento a elemento, comparando dois arrays, ignorando NaNs.\n",
    "arr1 = np.array([1, 2, np.nan, 4, 5])\n",
    "arr2 = np.array([5, 4, 3, 2, 1])\n",
    "print(\"np.fmin:\", np.fmin(arr1, arr2))  # Saída: [1. 2. 3. 2. 1.]\n",
    "\n",
    "# Exemplo para np.nanmin\n",
    "# Retorna o valor mínimo de um array, ignorando NaNs.\n",
    "arr = np.array([1, 2, np.nan, 4, 5])\n",
    "print(\"np.nanmin:\", np.nanmin(arr))  # Saída: 1.0"
   ]
  },
  {
   "cell_type": "markdown",
   "id": "1cb668d8",
   "metadata": {},
   "source": [
    "<span style=\"color: #FFC107; font-size: 22px;\">**Miscellaneous**</span> <br>"
   ]
  },
  {
   "cell_type": "code",
   "execution_count": 202,
   "id": "b7970c3c",
   "metadata": {},
   "outputs": [
    {
     "name": "stdout",
     "output_type": "stream",
     "text": [
      "np.convolve: [0.  1.  2.5 4.  1.5]\n",
      "np.clip: [2 2 3 4 4]\n",
      "np.sqrt: [1. 2. 3. 4.]\n",
      "np.cbrt: [1. 2. 3. 4.]\n",
      "np.square: [ 1  4  9 16]\n",
      "np.absolute: [1 2 3 4]\n",
      "np.fabs: [1. 2. 3. 4.]\n",
      "np.sign: [-1 -1  0  1  1]\n",
      "np.heaviside: [0.  0.5 1. ]\n",
      "np.nan_to_num: [ 1.00000000e+000  2.00000000e+000  0.00000000e+000  1.79769313e+308\n",
      " -1.79769313e+308]\n",
      "np.nan: nan\n",
      "np.real_if_close: [1.+1.e-10j 1.+1.e+00j]\n",
      "np.interp: [0. 1. 4.]\n",
      "np.bitwise_count: [0 0 0 0 0 0 0 0 0 0 0 0 0 0 0 1 0 0 0 0 0 0 1 0 0 0 0 0 0 0 1 1]\n"
     ]
    }
   ],
   "source": [
    "import numpy as np\n",
    "\n",
    "# Exemplo para np.convolve\n",
    "# Realiza a convolução de dois arrays.\n",
    "a = np.array([1, 2, 3])\n",
    "b = np.array([0, 1, 0.5])\n",
    "print(\"np.convolve:\", np.convolve(a, b))  # Saída: [0.  1.  2.5 4.  1.5]\n",
    "\n",
    "# Exemplo para np.clip\n",
    "# Limita os valores de um array a um intervalo especificado.\n",
    "a = np.array([1, 2, 3, 4, 5])\n",
    "print(\"np.clip:\", np.clip(a, 2, 4))  # Saída: [2 2 3 4 4]\n",
    "\n",
    "# Exemplo para np.sqrt\n",
    "# Calcula a raiz quadrada de cada elemento do array.\n",
    "a = np.array([1, 4, 9, 16])\n",
    "print(\"np.sqrt:\", np.sqrt(a))  # Saída: [1. 2. 3. 4.]\n",
    "\n",
    "# Exemplo para np.cbrt\n",
    "# Calcula a raiz cúbica de cada elemento do array.\n",
    "a = np.array([1, 8, 27, 64])\n",
    "print(\"np.cbrt:\", np.cbrt(a))  # Saída: [1. 2. 3. 4.]\n",
    "\n",
    "# Exemplo para np.square\n",
    "# Calcula o quadrado de cada elemento do array.\n",
    "a = np.array([1, 2, 3, 4])\n",
    "print(\"np.square:\", np.square(a))  # Saída: [ 1  4  9 16]\n",
    "\n",
    "# Exemplo para np.absolute\n",
    "# Calcula o valor absoluto de cada elemento do array.\n",
    "a = np.array([-1, -2, 3, -4])\n",
    "print(\"np.absolute:\", np.absolute(a))  # Saída: [1 2 3 4]\n",
    "\n",
    "# Exemplo para np.fabs\n",
    "# Calcula o valor absoluto de cada elemento do array (mesma função que np.absolute).\n",
    "a = np.array([-1, -2, 3, -4])\n",
    "print(\"np.fabs:\", np.fabs(a))  # Saída: [1. 2. 3. 4.]\n",
    "\n",
    "# Exemplo para np.sign\n",
    "# Retorna um array com os sinais dos elementos do array original.\n",
    "a = np.array([-2, -1, 0, 1, 2])\n",
    "print(\"np.sign:\", np.sign(a))  # Saída: [-1 -1  0  1  1]\n",
    "\n",
    "# Exemplo para np.heaviside\n",
    "# Calcula a função de Heaviside para cada elemento do array.\n",
    "a = np.array([-1, 0, 2])\n",
    "print(\"np.heaviside:\", np.heaviside(a, 0.5))  # Saída: [0.  0.5 1. ]\n",
    "\n",
    "# Exemplo para np.nan_to_num\n",
    "# Substitui NaNs por zero e infinitos por valores finitos grandes.\n",
    "a = np.array([1, 2, np.nan, np.inf, -np.inf])\n",
    "print(\"np.nan_to_num:\", np.nan_to_num(a))  # Saída: [ 1.00000000e+000  2.00000000e+000  0.00000000e+000  1.79769313e+308 -1.79769313e+308]\n",
    "\n",
    "# Exemplo para np.nan\n",
    "# Representa um valor NaN (Not a Number).\n",
    "print(\"np.nan:\", np.nan)  # Saída: nan\n",
    "\n",
    "# Exemplo para np.real_if_close\n",
    "# Retorna a parte real de um número complexo se a parte imaginária for pequena.\n",
    "a = np.array([1+1e-10j, 1+1j])\n",
    "print(\"np.real_if_close:\", np.real_if_close(a, tol=1000))  # Saída: [1.+0.j 1.+1.j]\n",
    "\n",
    "# Exemplo para np.interp\n",
    "# Realiza a interpolação linear de um conjunto de pontos.\n",
    "x = np.array([0, 1, 2])\n",
    "xp = np.array([0, 1, 2])\n",
    "fp = np.array([0, 1, 4])\n",
    "print(\"np.interp:\", np.interp(x, xp, fp))  # Saída: [0. 1. 4.]\n",
    "\n",
    "# Exemplo para np.bitwise_count\n",
    "# Conta o número de bits definidos em cada elemento do array.\n",
    "a = np.array([0, 1, 2, 3])\n",
    "print(\"np.bitwise_count:\", np.unpackbits(a.astype(np.uint8)))  # Saída: [0 0 0 0 0 0 0 0 0 0 0 0 0 0 0 1 0 0 0 0 0 0 1 0 0 0 0 0 0 0 1 1]"
   ]
  }
 ],
 "metadata": {
  "kernelspec": {
   "display_name": "base",
   "language": "python",
   "name": "python3"
  },
  "language_info": {
   "codemirror_mode": {
    "name": "ipython",
    "version": 3
   },
   "file_extension": ".py",
   "mimetype": "text/x-python",
   "name": "python",
   "nbconvert_exporter": "python",
   "pygments_lexer": "ipython3",
   "version": "3.11.7"
  }
 },
 "nbformat": 4,
 "nbformat_minor": 5
}
