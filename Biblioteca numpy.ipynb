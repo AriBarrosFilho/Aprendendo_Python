{
 "cells": [
  {
   "cell_type": "markdown",
   "id": "fadb6514",
   "metadata": {},
   "source": [
    "<span style=\"color: #FFC107; font-size: 22px;\">Referências</span>\n",
    "\n",
    "1. [Documentação do Numpy](https://numpy.org/doc/stable/reference/generated/numpy.matmul.html)"
   ]
  },
  {
   "cell_type": "markdown",
   "id": "df38faa8",
   "metadata": {},
   "source": [
    "<span style=\"color: #FFC107; font-size: 22px;\">Importação das bibliotecas</span>"
   ]
  },
  {
   "cell_type": "code",
   "execution_count": 10,
   "id": "f275ce22-29ba-4c81-92a3-427c70a45b9f",
   "metadata": {},
   "outputs": [],
   "source": [
    "import numpy as np\n",
    "import time"
   ]
  },
  {
   "cell_type": "markdown",
   "id": "47abf606",
   "metadata": {},
   "source": [
    "<span style=\"color: #FFC107; font-size: 18px;\">No Numpy, todos os elementos de um `array` são do mesmo tipo.</span>\n",
    "\n",
    "<span style=\"color: #FFC107; font-size: 18px;\">Caso inicialmente eles sejam de tipos diferentes, o numpy altera para o formato mais genérico.</span>"
   ]
  },
  {
   "cell_type": "code",
   "execution_count": 9,
   "id": "4d5e3838",
   "metadata": {},
   "outputs": [
    {
     "name": "stdout",
     "output_type": "stream",
     "text": [
      "<class 'int'>\n",
      "<class 'str'>\n",
      "<class 'float'>\n",
      "\n",
      "<class 'numpy.str_'>\n",
      "<class 'numpy.str_'>\n",
      "<class 'numpy.str_'>\n",
      "\n",
      "<class 'int'>\n",
      "<class 'float'>\n",
      "<class 'int'>\n",
      "<class 'float'>\n",
      "\n",
      "<class 'numpy.float64'>\n",
      "<class 'numpy.float64'>\n",
      "<class 'numpy.float64'>\n",
      "<class 'numpy.float64'>\n"
     ]
    }
   ],
   "source": [
    "# Definindo os elementos da lista\n",
    "lista_elementos = [24, \"Bom dia\", 3.7]\n",
    "\n",
    "# Percorrendo todos os elementos da lista\n",
    "for elemento in lista_elementos:\n",
    "\n",
    "    # Apresentando o tipo do elemento\n",
    "    print(type(elemento))\n",
    "\n",
    "# Pulando uma linha\n",
    "print('')\n",
    "\n",
    "#==========================================================================\n",
    "\n",
    "# Definindo os elementos do array\n",
    "np_lista = np.array(lista_elementos)\n",
    "\n",
    "# Percorrendo todos os elementos do array\n",
    "for elemento in np_lista:\n",
    "\n",
    "    # Apresentando o tipo do elemento\n",
    "    print(type(elemento))\n",
    "\n",
    "# Pulando uma linha\n",
    "print('')\n",
    "\n",
    "#==========================================================================\n",
    "\n",
    "# Definindo os elementos da lista\n",
    "lista_elementos = [24, 2.5 , 9, 3.7]\n",
    "\n",
    "# Percorrendo todos os elementos da lista\n",
    "for elemento in lista_elementos:\n",
    "\n",
    "    # Apresentando o tipo do elemento\n",
    "    print(type(elemento))\n",
    "\n",
    "# Pulando uma linha\n",
    "print('')\n",
    "\n",
    "#==========================================================================\n",
    "\n",
    "# Definindo os elementos do array\n",
    "np_lista = np.array(lista_elementos)\n",
    "\n",
    "# Percorrendo todos os elementos do array\n",
    "for elemento in np_lista:\n",
    "\n",
    "    # Apresentando o tipo do elemento\n",
    "    print(type(elemento))"
   ]
  },
  {
   "cell_type": "markdown",
   "id": "675f2217",
   "metadata": {},
   "source": [
    "<span style=\"color: #FFC107; font-size: 18px;\">Na lista não é possível somar um número qualquer de forma direta.</span>\n",
    "\n",
    "<span style=\"color: #FFC107; font-size: 18px;\">Já em um array do Numpy isso é possível.</span>"
   ]
  },
  {
   "cell_type": "code",
   "execution_count": 20,
   "id": "48a938ee",
   "metadata": {},
   "outputs": [
    {
     "name": "stdout",
     "output_type": "stream",
     "text": [
      "[1, 2, 3, 4, 1]\n",
      "[2 3 4 5 2]\n"
     ]
    }
   ],
   "source": [
    "# Cria uma lista de números\n",
    "lista_numeros = [1, 2, 3, 4]\n",
    "\n",
    "# Acrescenta o número 1 a lista\n",
    "lista_numeros = lista_numeros + [1]\n",
    "\n",
    "# Apresenta a lista de números com o acréscimo do número 2\n",
    "print(lista_numeros)\n",
    "\n",
    "#=====================================================================\n",
    "\n",
    "# Cria um array\n",
    "np_numeros = np.array(lista_numeros)\n",
    "\n",
    "# Soma o número 1 ao array\n",
    "np_numeros = np_numeros + 1\n",
    "\n",
    "# Apresenta a soma do número 1 ao array\n",
    "print(np_numeros)"
   ]
  },
  {
   "cell_type": "code",
   "execution_count": 24,
   "id": "a8f049c3",
   "metadata": {},
   "outputs": [
    {
     "name": "stdout",
     "output_type": "stream",
     "text": [
      "O tempo total para somar os elementos da lista foi de: 0.1981029510498047 segundos\n",
      "O tempo total para somar os elementos do array foi de: 0.003912687301635742 segundos\n"
     ]
    }
   ],
   "source": [
    "# Lista com números de 1 à 10.000.000\n",
    "lista = list(range(1, 10_000_000))\n",
    "\n",
    "# Tempo inicial\n",
    "inicio_lista = time.time()\n",
    "\n",
    "# Calcula todos os elementos da lista\n",
    "soma_lista = sum(lista)\n",
    "\n",
    "# Tempo final\n",
    "fim_lista = time.time()\n",
    "\n",
    "# Calcula o tempo necessário para calcular os elementos da lista\n",
    "duracao = fim_lista - inicio_lista\n",
    "\n",
    "# Apresenta a duração para somar todos os números da lista\n",
    "print(f'O tempo total para somar os elementos da lista foi de: {duracao} segundos')\n",
    "\n",
    "#================================================================================================\n",
    "\n",
    "# Array com números de 1 à 10.000.000\n",
    "array = np.array(range(1, 10_000_000))\n",
    "\n",
    "# Tempo inicial\n",
    "inicio_np = time.time()\n",
    "\n",
    "# Calcula todos os elementos da lista\n",
    "soma_lista = np.sum(array)\n",
    "\n",
    "# Tempo final\n",
    "fim_np = time.time()\n",
    "\n",
    "# Calcula o tempo necessário para calcular os elementos da lista\n",
    "duracao = fim_np - inicio_np\n",
    "\n",
    "# Apresenta a duração para somar todos os números do array\n",
    "print(f'O tempo total para somar os elementos do array foi de: {duracao} segundos')"
   ]
  },
  {
   "cell_type": "code",
   "execution_count": null,
   "id": "54f77e6d",
   "metadata": {},
   "outputs": [],
   "source": []
  },
  {
   "cell_type": "code",
   "execution_count": null,
   "id": "37a9742f-6a3e-4c34-a03d-ffa5f29d1d42",
   "metadata": {},
   "outputs": [],
   "source": []
  },
  {
   "cell_type": "code",
   "execution_count": null,
   "id": "3eae20ea",
   "metadata": {},
   "outputs": [
    {
     "name": "stdout",
     "output_type": "stream",
     "text": [
      "[[0 1 2]\n",
      " [3 4 5]]\n",
      "\n",
      "(2, 3)\n"
     ]
    }
   ],
   "source": [
    "A = np.array([[0,1,2],[3,4,5]])\n",
    "print(A)\n",
    "print('')\n",
    "print(A.shape)"
   ]
  },
  {
   "cell_type": "code",
   "execution_count": null,
   "id": "40880adb",
   "metadata": {},
   "outputs": [
    {
     "name": "stdout",
     "output_type": "stream",
     "text": [
      "[1 2 3]\n",
      "\n",
      "(3,)\n"
     ]
    }
   ],
   "source": [
    "B = np.array([1,2,3])\n",
    "print(B)\n",
    "print('')\n",
    "print(b.shape)"
   ]
  },
  {
   "cell_type": "code",
   "execution_count": null,
   "id": "db366c0e",
   "metadata": {},
   "outputs": [
    {
     "data": {
      "text/plain": [
       "array([ 8, 26])"
      ]
     },
     "metadata": {},
     "output_type": "display_data"
    }
   ],
   "source": [
    "np.matmul(A, B)"
   ]
  },
  {
   "cell_type": "markdown",
   "id": "95888371",
   "metadata": {},
   "source": [
    "O seu funcionamento é\n",
    "\n",
    "(n,k),(k,m) $\\rightarrow$ (n,m)\n",
    "\n",
    "Sabendo que:\n",
    "* A = (2,3) \n",
    "* B = (3, 1)\n",
    "\n",
    "Logo:\n",
    "* n = 2\n",
    "* k = 3\n",
    "* m = 1\n",
    "\n",
    "Com isso:\n",
    "* (<span style = 'color: blue'>2</span>,**3**),(**3**,<span style = 'color: red'>1</span>) $\\rightarrow$ (<span style = 'color: blue'>2</span>,<span style = 'color: red'>1</span>)\n",
    "\n",
    "Fazendo o produto matricial da matriz, obtêm-se:\n",
    "\n",
    "1. \n",
    "  \\begin{vmatrix} \n",
    "  0(1) + 1(2) + 2(3) & 3(1) + 4(2) + 5(3)\\\\ \n",
    "  \\end{vmatrix}\n",
    "\n",
    "2. \n",
    "  \\begin{vmatrix} \n",
    "  0 + 2 + 6 & 3 + 8 + 15\\\\ \n",
    "  \\end{vmatrix}\n",
    "\n",
    "3. \n",
    "  \\begin{vmatrix} \n",
    "  8 & 26\\\\ \n",
    "  \\end{vmatrix}"
   ]
  },
  {
   "cell_type": "markdown",
   "id": "1e10256d",
   "metadata": {},
   "source": [
    "### A forma curta de np.matmul(x1, x2) e x1 @ x2"
   ]
  },
  {
   "cell_type": "code",
   "execution_count": null,
   "id": "e61a35e5",
   "metadata": {},
   "outputs": [
    {
     "data": {
      "text/plain": [
       "array([ 8, 26])"
      ]
     },
     "metadata": {},
     "output_type": "display_data"
    }
   ],
   "source": [
    "A @ B"
   ]
  },
  {
   "cell_type": "code",
   "execution_count": null,
   "id": "9ef8b0f6",
   "metadata": {},
   "outputs": [
    {
     "ename": "ValueError",
     "evalue": "matmul: Input operand 1 has a mismatch in its core dimension 0, with gufunc signature (n?,k),(k,m?)->(n?,m?) (size 2 is different from 3)",
     "output_type": "error",
     "traceback": [
      "\u001b[1;31m---------------------------------------------------------------------------\u001b[0m\n",
      "\u001b[1;31mValueError\u001b[0m                                Traceback (most recent call last)\n",
      "Cell \u001b[1;32mIn[99], line 1\u001b[0m\n",
      "\u001b[1;32m----> 1\u001b[0m B \u001b[38;5;241m@\u001b[39m A\n",
      "\n",
      "\u001b[1;31mValueError\u001b[0m: matmul: Input operand 1 has a mismatch in its core dimension 0, with gufunc signature (n?,k),(k,m?)->(n?,m?) (size 2 is different from 3)"
     ]
    }
   ],
   "source": [
    "B @ A"
   ]
  }
 ],
 "metadata": {
  "kernelspec": {
   "display_name": "Python 3 (ipykernel)",
   "language": "python",
   "name": "python3"
  },
  "language_info": {
   "codemirror_mode": {
    "name": "ipython",
    "version": 3
   },
   "file_extension": ".py",
   "mimetype": "text/x-python",
   "name": "python",
   "nbconvert_exporter": "python",
   "pygments_lexer": "ipython3",
   "version": "3.11.7"
  }
 },
 "nbformat": 4,
 "nbformat_minor": 5
}
