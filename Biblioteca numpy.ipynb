{
 "cells": [
  {
   "cell_type": "markdown",
   "id": "fadb6514",
   "metadata": {},
   "source": [
    "<span style=\"color: #FFC107; font-size: 22px;\">Referências</span>\n",
    "\n",
    "1. [Documentação do Numpy](https://numpy.org/doc/stable/reference/generated/numpy.matmul.html)"
   ]
  },
  {
   "cell_type": "markdown",
   "id": "df38faa8",
   "metadata": {},
   "source": [
    "<span style=\"color: #FFC107; font-size: 22px;\">Importação das bibliotecas</span>"
   ]
  },
  {
   "cell_type": "code",
   "execution_count": 2,
   "id": "f275ce22-29ba-4c81-92a3-427c70a45b9f",
   "metadata": {},
   "outputs": [],
   "source": [
    "import numpy as np\n",
    "import time"
   ]
  },
  {
   "cell_type": "markdown",
   "id": "47abf606",
   "metadata": {},
   "source": [
    "<span style=\"color: #FFC107; font-size: 22px;\">**np.array()**</span> <br>\n",
    "\n",
    "<span style=\"color: #FFC107; font-size: 18px;\">No Numpy, todos os elementos de um `array` são do mesmo tipo.</span>\n",
    "\n",
    "<span style=\"color: #FFC107; font-size: 18px;\">Caso inicialmente eles sejam de tipos diferentes, o numpy altera para um formato mais genérico.</span>"
   ]
  },
  {
   "cell_type": "code",
   "execution_count": 6,
   "id": "4d5e3838",
   "metadata": {},
   "outputs": [
    {
     "name": "stdout",
     "output_type": "stream",
     "text": [
      "<class 'int'>\n",
      "<class 'str'>\n",
      "<class 'float'>\n",
      "\n",
      "<class 'numpy.str_'>\n",
      "<class 'numpy.str_'>\n",
      "<class 'numpy.str_'>\n",
      "\n",
      "<class 'int'>\n",
      "<class 'float'>\n",
      "<class 'int'>\n",
      "<class 'float'>\n",
      "\n",
      "<class 'numpy.float64'>\n",
      "<class 'numpy.float64'>\n",
      "<class 'numpy.float64'>\n",
      "<class 'numpy.float64'>\n"
     ]
    }
   ],
   "source": [
    "# Definindo os elementos da lista\n",
    "lista_elementos = [24, \"Bom dia\", 3.7]\n",
    "\n",
    "# Percorrendo todos os elementos da lista\n",
    "for elemento in lista_elementos:\n",
    "\n",
    "    # Apresentando o tipo do elemento\n",
    "    print(type(elemento))\n",
    "\n",
    "# Pulando uma linha\n",
    "print('')\n",
    "\n",
    "#==========================================================================\n",
    "\n",
    "# Definindo os elementos do array\n",
    "np_lista = np.array(lista_elementos)\n",
    "\n",
    "# Percorrendo todos os elementos do array\n",
    "for elemento in np_lista:\n",
    "\n",
    "    # Apresentando o tipo do elemento\n",
    "    print(type(elemento))\n",
    "\n",
    "# Pulando uma linha\n",
    "print('')\n",
    "\n",
    "#==========================================================================\n",
    "\n",
    "# Definindo os elementos da lista\n",
    "lista_elementos = [24, 2.5 , 9, 3.7]\n",
    "\n",
    "# Percorrendo todos os elementos da lista\n",
    "for elemento in lista_elementos:\n",
    "\n",
    "    # Apresentando o tipo do elemento\n",
    "    print(type(elemento))\n",
    "\n",
    "# Pulando uma linha\n",
    "print('')\n",
    "\n",
    "#==========================================================================\n",
    "\n",
    "# Definindo os elementos do array\n",
    "np_lista = np.array(lista_elementos)\n",
    "\n",
    "# Percorrendo todos os elementos do array\n",
    "for elemento in np_lista:\n",
    "\n",
    "    # Apresentando o tipo do elemento\n",
    "    print(type(elemento))"
   ]
  },
  {
   "cell_type": "markdown",
   "id": "675f2217",
   "metadata": {},
   "source": [
    "<span style=\"color: #FFC107; font-size: 18px;\">Na lista não é possível somar um número qualquer de forma direta.</span>\n",
    "\n",
    "<span style=\"color: #FFC107; font-size: 18px;\">Já em um array do Numpy isso é possível.</span>"
   ]
  },
  {
   "cell_type": "code",
   "execution_count": 20,
   "id": "48a938ee",
   "metadata": {},
   "outputs": [
    {
     "name": "stdout",
     "output_type": "stream",
     "text": [
      "[1, 2, 3, 4, 1]\n",
      "[2 3 4 5 2]\n"
     ]
    }
   ],
   "source": [
    "# Cria uma lista de números\n",
    "lista_numeros = [1, 2, 3, 4]\n",
    "\n",
    "# Acrescenta o número 1 a lista\n",
    "lista_numeros = lista_numeros + [1]\n",
    "\n",
    "# Apresenta a lista de números com o acréscimo do número 2\n",
    "print(lista_numeros)\n",
    "\n",
    "#=====================================================================\n",
    "\n",
    "# Cria um array\n",
    "np_numeros = np.array(lista_numeros)\n",
    "\n",
    "# Soma o número 1 ao array\n",
    "np_numeros = np_numeros + 1\n",
    "\n",
    "# Apresenta a soma do número 1 ao array\n",
    "print(np_numeros)"
   ]
  },
  {
   "cell_type": "code",
   "execution_count": 102,
   "id": "0bbbe220",
   "metadata": {},
   "outputs": [
    {
     "name": "stdout",
     "output_type": "stream",
     "text": [
      "[ 7  5  3 16 39]\n",
      "[[6 4 2]\n",
      " [3 8 1]]\n",
      "[[52 63 74]\n",
      " [96  2 15]\n",
      " [28 13 47]]\n",
      "[[52 63 74]\n",
      " [96  2 15]\n",
      " [28 13 47]]\n"
     ]
    }
   ],
   "source": [
    "# 1 dimensão\n",
    "e = np.array([7,5,3,16,39])\n",
    "print(e)\n",
    "\n",
    "# 2 dimensões\n",
    "f = np.array([(6,4,2),(3,8,1)])\n",
    "print(f)\n",
    "\n",
    "# 3 dimensões\n",
    "g = np.array([(52,63,74),(96,2,15),(28,13,47)])\n",
    "print(g)\n",
    "\n",
    "g = np.array([[52,63,74], [96,2,15], [28,13,47]])\n",
    "print(g)"
   ]
  },
  {
   "cell_type": "markdown",
   "id": "0f322f42",
   "metadata": {},
   "source": [
    "<span style=\"color: #FFC107; font-size: 18px;\">O tempo de processamento de um variável Numpy é mais rápido.</span>"
   ]
  },
  {
   "cell_type": "code",
   "execution_count": 12,
   "id": "a8f049c3",
   "metadata": {},
   "outputs": [
    {
     "name": "stdout",
     "output_type": "stream",
     "text": [
      "O tempo total para somar os elementos da lista foi de: 0.4567010 segundos\n",
      "O tempo total para somar os elementos do array foi de: 0.0000000 segundos\n"
     ]
    }
   ],
   "source": [
    "# Lista com números de 1 à 10.000.000\n",
    "lista = list(range(1, 20_000_000))\n",
    "\n",
    "# Tempo inicial\n",
    "inicio_lista = time.time()\n",
    "\n",
    "# Calcula todos os elementos da lista\n",
    "soma_lista = sum(lista)\n",
    "\n",
    "# Tempo final\n",
    "fim_lista = time.time()\n",
    "\n",
    "# Calcula o tempo necessário para calcular os elementos da lista\n",
    "duracao_lista = fim_lista - inicio_lista\n",
    "\n",
    "# Apresenta a duração para somar todos os números da lista\n",
    "print(f'O tempo total para somar os elementos da lista foi de: {duracao_lista:.7f} segundos')\n",
    "\n",
    "#================================================================================================\n",
    "\n",
    "# Array com números de 1 à 10.000.000\n",
    "array = np.array(range(1, 20_000_000))\n",
    "\n",
    "# Tempo inicial\n",
    "inicio_np = time.time()\n",
    "\n",
    "# Calcula todos os elementos da lista\n",
    "soma_lista = np.sum(array)\n",
    "\n",
    "# Tempo final\n",
    "fim_np = time.time()\n",
    "\n",
    "# Calcula o tempo necessário para calcular os elementos da lista\n",
    "duracao_np = fim_np - inicio_np\n",
    "\n",
    "# Apresenta a duração para somar todos os números do array\n",
    "print(f'O tempo total para somar os elementos do array foi de: {duracao_np:.7f} segundos')\n",
    "\n",
    "#================================================================================================\n",
    "\n",
    "if duracao_np != 00:\n",
    "    print(f'O array do Nympy é {(duracao_lista / duracao_np):.2f} vezes mais rápido.')"
   ]
  },
  {
   "cell_type": "markdown",
   "id": "cc695d24",
   "metadata": {},
   "source": [
    "<span style=\"color: #FFC107; font-size: 22px;\">**np.sum()**</span> <br>"
   ]
  },
  {
   "cell_type": "code",
   "execution_count": 8,
   "id": "773b0626",
   "metadata": {},
   "outputs": [
    {
     "name": "stdout",
     "output_type": "stream",
     "text": [
      "Array:  [ 9  1 22  3 20 21 18]\n",
      "Soma:  94\n",
      "Soma:  94\n"
     ]
    }
   ],
   "source": [
    "# Definição do array\n",
    "vetor = np.array([9, 1, 22, 3, 20, 21, 18])\n",
    "print('Array: ', vetor)\n",
    "\n",
    "# Soma os elementos do array\n",
    "soma_vetor = np.sum(vetor)\n",
    "print('Soma: ', soma_vetor)\n",
    "\n",
    "# Soma os elementos do array\n",
    "soma_vetor = vetor.sum()\n",
    "print('Soma: ', soma_vetor)"
   ]
  },
  {
   "cell_type": "markdown",
   "id": "41c9e93a",
   "metadata": {},
   "source": [
    "<span style=\"color: #FFC107; font-size: 22px;\">**np.mean()**</span> <br>"
   ]
  },
  {
   "cell_type": "code",
   "execution_count": 12,
   "id": "aeeb134d",
   "metadata": {},
   "outputs": [
    {
     "name": "stdout",
     "output_type": "stream",
     "text": [
      "Array:  [ 9  1 22  3 20 21 18]\n",
      "Média:  13.428571428571429\n",
      "Média:  13.428571428571429\n"
     ]
    }
   ],
   "source": [
    "# Definição do array\n",
    "vetor = np.array([9, 1, 22, 3, 20, 21, 18])\n",
    "print('Array: ', vetor)\n",
    "\n",
    "# Faz a média dos elementos do array\n",
    "media_vetor = np.mean(vetor)\n",
    "print('Média: ', media_vetor)\n",
    "\n",
    "# Faz a média dos elementos do array\n",
    "media_vetor = vetor.mean()\n",
    "print('Média: ', media_vetor)\n"
   ]
  },
  {
   "cell_type": "markdown",
   "id": "4cf19f67",
   "metadata": {},
   "source": [
    "<span style=\"color: #FFC107; font-size: 22px;\">**np.max()**</span> <br>"
   ]
  },
  {
   "cell_type": "code",
   "execution_count": 13,
   "id": "448f4e06",
   "metadata": {},
   "outputs": [
    {
     "name": "stdout",
     "output_type": "stream",
     "text": [
      "Array:  [ 9  1 22  3 20 21 18]\n",
      "Valor máximo:  22\n",
      "Valor máximo:  22\n"
     ]
    }
   ],
   "source": [
    "# Definição do array\n",
    "vetor = np.array([9, 1, 22, 3, 20, 21, 18])\n",
    "print('Array: ', vetor)\n",
    "\n",
    "# Retorna o valor máximo do array\n",
    "maximo_vetor = np.max(vetor)\n",
    "print('Valor máximo: ', maximo_vetor)\n",
    "\n",
    "# Retorna o valor máximo do array\n",
    "maximo_vetor = vetor.max()\n",
    "print('Valor máximo: ', maximo_vetor)"
   ]
  },
  {
   "cell_type": "markdown",
   "id": "05d1b8a4",
   "metadata": {},
   "source": [
    "<span style=\"color: #FFC107; font-size: 22px;\">**np.min()**</span>"
   ]
  },
  {
   "cell_type": "code",
   "execution_count": 14,
   "id": "facdc1f6",
   "metadata": {},
   "outputs": [
    {
     "name": "stdout",
     "output_type": "stream",
     "text": [
      "Array:  [ 9  1 22  3 20 21 18]\n",
      "Valor mínimo:  1\n",
      "Valor mínimo:  1\n"
     ]
    }
   ],
   "source": [
    "# Definição do array\n",
    "vetor = np.array([9, 1, 22, 3, 20, 21, 18])\n",
    "print('Array: ', vetor)\n",
    "\n",
    "# Retorna o valor mínimo do array\n",
    "minimo_vetor = np.min(vetor)\n",
    "print('Valor mínimo: ', minimo_vetor)\n",
    "\n",
    "# Retorna o valor mínimo do array\n",
    "minimo_vetor = vetor.min()\n",
    "print('Valor mínimo: ', minimo_vetor)"
   ]
  },
  {
   "cell_type": "markdown",
   "id": "f24e47e0",
   "metadata": {},
   "source": [
    "<span style=\"color: #FFC107; font-size: 22px;\">**np.sort()**</span>\n",
    "\n",
    "<span style=\"color: #FFC107; font-size: 18px;\">Ordena os elementos</span>"
   ]
  },
  {
   "cell_type": "code",
   "execution_count": 37,
   "id": "2dbb9dcd",
   "metadata": {},
   "outputs": [
    {
     "name": "stdout",
     "output_type": "stream",
     "text": [
      "Array original: [3 1 5 2 4]\n",
      "Array ordenado: [1 2 3 4 5] \n",
      "\n",
      "Array original: ['Hoje' 'amanhã' 'Bom dia' 'bom dia']\n",
      "Array ordenado: ['Bom dia' 'Hoje' 'amanhã' 'bom dia']\n"
     ]
    }
   ],
   "source": [
    "# Array unidimensional\n",
    "array = np.array([3, 1, 5, 2, 4])\n",
    "\n",
    "# Ordenando o array\n",
    "array_ordenado = np.sort(array)\n",
    "\n",
    "# Apresenta os arrays\n",
    "print(\"Array original:\", array)\n",
    "print(\"Array ordenado:\", array_ordenado, '\\n')\n",
    "\n",
    "#==============================================================================\n",
    "\n",
    "# Array unidimensional\n",
    "array = np.array([\"Hoje\", \"amanhã\", \"Bom dia\", \"bom dia\"])\n",
    "\n",
    "# Ordenando o array\n",
    "array_ordenado = np.sort(array)\n",
    "\n",
    "# Apresenta os arrays\n",
    "print(\"Array original:\", array)\n",
    "print(\"Array ordenado:\", array_ordenado)"
   ]
  },
  {
   "cell_type": "code",
   "execution_count": 35,
   "id": "f09f769b",
   "metadata": {},
   "outputs": [
    {
     "name": "stdout",
     "output_type": "stream",
     "text": [
      "Array original:\n",
      " [[3 1 5]\n",
      " [2 4 6]\n",
      " [7 0 9]] \n",
      "\n",
      "Array ordenado por linha:\n",
      " [[1 3 5]\n",
      " [2 4 6]\n",
      " [0 7 9]]\n"
     ]
    }
   ],
   "source": [
    "# Array bidimensional\n",
    "array = np.array([[3, 1, 5], [2, 4, 6], [7, 0, 9]])\n",
    "\n",
    "# Ordenando cada linha do array\n",
    "array_ordenado = np.sort(array, axis=1)\n",
    "\n",
    "# Apresenta os arrays\n",
    "print(\"Array original:\\n\", array, '\\n')\n",
    "print(\"Array ordenado por linha:\\n\", array_ordenado)"
   ]
  },
  {
   "cell_type": "code",
   "execution_count": 34,
   "id": "31139644",
   "metadata": {},
   "outputs": [
    {
     "name": "stdout",
     "output_type": "stream",
     "text": [
      "Array original:\n",
      " [[3 1 5]\n",
      " [2 4 6]\n",
      " [7 0 9]] \n",
      "\n",
      "Array ordenado por coluna:\n",
      " [[2 0 5]\n",
      " [3 1 6]\n",
      " [7 4 9]]\n"
     ]
    }
   ],
   "source": [
    "# Array bidimensional\n",
    "array = np.array([[3, 1, 5], [2, 4, 6], [7, 0, 9]])\n",
    "\n",
    "# Ordenando cada coluna do array\n",
    "array_ordenado = np.sort(array, axis=0)\n",
    "\n",
    "# Apresenta os arrays\n",
    "print(\"Array original:\\n\", array, '\\n')\n",
    "print(\"Array ordenado por coluna:\\n\", array_ordenado)"
   ]
  },
  {
   "cell_type": "markdown",
   "id": "de15e6a2",
   "metadata": {},
   "source": [
    "<span style=\"color: #FFC107; font-size: 22px;\">**np.dot()**</span>\n",
    "\n",
    "<span style=\"color: #FFC107; font-size: 18px;\">Calcula o produto escalar de duas matrizes</span>"
   ]
  },
  {
   "cell_type": "code",
   "execution_count": 38,
   "id": "73475f43",
   "metadata": {},
   "outputs": [
    {
     "name": "stdout",
     "output_type": "stream",
     "text": [
      "52\n",
      "52\n"
     ]
    }
   ],
   "source": [
    "# Vetor que representa a quantidade de itens vendidos\n",
    "quantidade = np.array([10, 2, 6, 9])\n",
    "\n",
    "# Vetor que representa o preço unitário de cada item\n",
    "preco_unitario = np.array([2, 1, 2, 2])\n",
    "\n",
    "# Calcula o ganho de cada item\n",
    "preco_quantidade = quantidade * preco_unitario\n",
    "\n",
    "# Calcula o ganho total\n",
    "soma_preco_quantidade = np.sum(preco_quantidade)\n",
    "\n",
    "# Apresenta o ganho total\n",
    "print(soma_preco_quantidade)\n",
    "\n",
    "#=========================================================================================\n",
    "\n",
    "# Calcula o produto escalar de dois vetores\n",
    "soma_preco_quantidade = np.dot(quantidade, preco_unitario)\n",
    "\n",
    "# Apresenta o ganho total\n",
    "print(soma_preco_quantidade)"
   ]
  },
  {
   "cell_type": "code",
   "execution_count": 44,
   "id": "7e974ea6",
   "metadata": {},
   "outputs": [
    {
     "name": "stdout",
     "output_type": "stream",
     "text": [
      "Matriz 1:\n",
      " [[1 2]\n",
      " [3 4]] \n",
      "\n",
      "Matriz 2:\n",
      " [[5 6]\n",
      " [7 8]] \n",
      "\n",
      "Produto das matrizes:\n",
      " [[19 22]\n",
      " [43 50]]\n"
     ]
    }
   ],
   "source": [
    "# Duas matrizes\n",
    "matriz1 = np.array([[1, 2], [3, 4]])\n",
    "matriz2 = np.array([[5, 6], [7, 8]])\n",
    "\n",
    "# Produto de matrizes\n",
    "produto_matrizes = np.dot(matriz1, matriz2)\n",
    "\n",
    "# Apresenta as matrizes\n",
    "print('Matriz 1:\\n', matriz1, '\\n')\n",
    "print('Matriz 2:\\n', matriz2, '\\n')\n",
    "print(\"Produto das matrizes:\\n\", produto_matrizes)"
   ]
  },
  {
   "cell_type": "code",
   "execution_count": null,
   "id": "6a2927e2",
   "metadata": {},
   "outputs": [],
   "source": []
  },
  {
   "cell_type": "code",
   "execution_count": 96,
   "id": "84e8d4c4",
   "metadata": {},
   "outputs": [
    {
     "name": "stdout",
     "output_type": "stream",
     "text": [
      "0.2638778466646875 \n",
      "\n",
      "[87.18689035 38.82067778 17.51187463 15.80738718 20.43146287] \n",
      "\n",
      "[43 33  2 53 77 15 47 79 10 60 53 37 27 67 90  3 91 37 77 52] \n",
      "\n"
     ]
    }
   ],
   "source": [
    "# Cria uma instância da classe 'default_rng()'\n",
    "rng = np.random.default_rng()\n",
    "\n",
    "# Gera um número aleatório e flutuante entre 0 e 1\n",
    "numero_aleatorio_1 = rng.random()\n",
    "print(numero_aleatorio_1, '\\n')\n",
    "\n",
    "# Gera 5 números aleatórios e flutuantes entre 0 e 100\n",
    "numero_aleatorio_2 = rng.random(5) * 100\n",
    "print(numero_aleatorio_2, '\\n')\n",
    "\n",
    "# Gera 20 números aleatórios inteiros entre 1 e 7\n",
    "numero_aleatorio_3 = rng.integers(low = 1, high = 101, size = 20)\n",
    "print(numero_aleatorio_3, '\\n')"
   ]
  },
  {
   "cell_type": "code",
   "execution_count": 117,
   "id": "ea5db59e",
   "metadata": {},
   "outputs": [
    {
     "name": "stdout",
     "output_type": "stream",
     "text": [
      "0.7739560485559633 \n",
      "\n",
      "[43.88784398 85.85979199 69.73680291  9.41773479 97.56223516] \n",
      "\n",
      "[74 77 72 79 52 13 84 46 51 38 19 93 79 65 41 83 55 45 46 23] \n",
      "\n",
      "O maior elemento está na posição:  11 \n",
      "\n",
      "O menor elemento está na posição:  5\n"
     ]
    }
   ],
   "source": [
    "# Cria uma instância da classe 'default_rng()'\n",
    "# Qualquer pessoa que usar a mesma 'seed' que esta, terá os mesmos resultados\n",
    "rng = np.random.default_rng(seed = 42)\n",
    "\n",
    "# Gera um número aleatório e flutuante entre 0 e 1\n",
    "numero_aleatorio_1 = rng.random()\n",
    "print(numero_aleatorio_1, '\\n')\n",
    "\n",
    "# Gera 5 números aleatórios e flutuantes entre 0 e 100\n",
    "numero_aleatorio_2 = rng.random(5) * 100\n",
    "print(numero_aleatorio_2, '\\n')\n",
    "\n",
    "# Gera 20 números aleatórios inteiros entre 1 e 7\n",
    "numero_aleatorio_3 = rng.integers(low = 1, high = 101, size = 20)\n",
    "print(numero_aleatorio_3, '\\n')\n",
    "\n",
    "# Apresenta a posição do maior elemento do array\n",
    "posicao_max = np.argmax(numero_aleatorio_3)\n",
    "print('O maior elemento está na posição: ', posicao_max, '\\n')\n",
    "\n",
    "# Apresenta a posição do menor elemento do array\n",
    "posicao_min = np.argmin(numero_aleatorio_3)\n",
    "print('O menor elemento está na posição: ', posicao_min)"
   ]
  },
  {
   "cell_type": "code",
   "execution_count": 137,
   "id": "f53cd18e",
   "metadata": {},
   "outputs": [
    {
     "name": "stdout",
     "output_type": "stream",
     "text": [
      "[257 421 253 119 464 194 140 349 193 444 277 101 481 306 205 371 312 111\n",
      " 404 260 380 459 344 369 202 195 266 441 310 239 412 442 461 219 384 336\n",
      " 280 259 145 210 320 455 447 175 372 134 370 237 280 387 270 423 313 500\n",
      " 355 218 410 263 314 154 147 330 174 500 443 381 394 338 124 257 298 467\n",
      " 188 299 237 153 141 246 133 126 240 180 322 107 221 281 486 354 453 237\n",
      " 280 268 455 484 485 401 301 316 493 214] \n",
      "\n",
      "Mediana:  300.0 \n",
      "\n",
      "1% dos elementos são menores ou iguais à:  106.94 \n",
      "\n",
      "Desvio padrão:  112.5178403632064 \n",
      "\n",
      "Variância:  12660.2644\n"
     ]
    }
   ],
   "source": [
    "numero_aleatorio_4 = rng.integers(low = 100, high = 501, size = 100)\n",
    "print(numero_aleatorio_4, '\\n')\n",
    "\n",
    "mediana = np.median(numero_aleatorio_4)\n",
    "print('Mediana: ', mediana, '\\n')\n",
    "\n",
    "n_percentil = 1\n",
    "percentil = np.percentile(numero_aleatorio_4, n_percentil)\n",
    "print(f'{n_percentil}% dos elementos são menores ou iguais à: ', percentil, '\\n')\n",
    "\n",
    "desvio_padrao = np.std(numero_aleatorio_4)\n",
    "print('Desvio padrão: ', desvio_padrao, '\\n')\n",
    "\n",
    "variancia = np.var(numero_aleatorio_4)\n",
    "print('Variância: ', variancia)"
   ]
  },
  {
   "cell_type": "code",
   "execution_count": 57,
   "id": "5910f29f",
   "metadata": {},
   "outputs": [
    {
     "name": "stdout",
     "output_type": "stream",
     "text": [
      "[[136 163 154 143 104]\n",
      " [128 160 141 106 142]\n",
      " [131 178 133 126 159]] \n",
      "\n"
     ]
    }
   ],
   "source": [
    "rng = np.random.default_rng()\n",
    "\n",
    "numero_aleatorio_4 = rng.integers(low = 100, high = 200, size = (3, 5))\n",
    "print(numero_aleatorio_4, '\\n')"
   ]
  },
  {
   "cell_type": "code",
   "execution_count": 65,
   "id": "bcccd53d",
   "metadata": {},
   "outputs": [
    {
     "name": "stdout",
     "output_type": "stream",
     "text": [
      "[[[95  9 46 94]\n",
      "  [95  6 67 22]\n",
      "  [14 85 94 40]\n",
      "  [ 6 24 41 59]\n",
      "  [74 86 31 86]]\n",
      "\n",
      " [[ 4 81 12 57]\n",
      "  [61 63 22 89]\n",
      "  [18 35 49 59]\n",
      "  [55 37 66 73]\n",
      "  [98 48  6 28]]\n",
      "\n",
      " [[73 92 34  6]\n",
      "  [14 28 95 28]\n",
      "  [10 52 82 65]\n",
      "  [82 77 33 31]\n",
      "  [97 14 71 45]]] \n",
      "\n"
     ]
    }
   ],
   "source": [
    "rng = np.random.default_rng()\n",
    "\n",
    "numero_aleatorio_4 = rng.integers(low = 1, high = 101, size = (3, 5, 4))\n",
    "print(numero_aleatorio_4, '\\n')"
   ]
  },
  {
   "cell_type": "markdown",
   "id": "11c4893b",
   "metadata": {},
   "source": [
    "<span style=\"color: #FFC107; font-size: 22px;\">**np.where()**</span> <br>"
   ]
  },
  {
   "cell_type": "code",
   "execution_count": 37,
   "id": "cd0c70c5",
   "metadata": {},
   "outputs": [
    {
     "name": "stdout",
     "output_type": "stream",
     "text": [
      "Salários:  [ 990 4756 4100 2913 2881] \n",
      "\n",
      "Média salarial:  3128.0 \n",
      "\n",
      "Posição no array dos salários acima de 3128.0:  [1 2] \n",
      "\n",
      "Valor dos salários acima de 3128.0:  [4756 4100] \n",
      "\n",
      "[4756 4100]\n"
     ]
    }
   ],
   "source": [
    "# Define uma seed para valores aleatórios\n",
    "aleatorio = np.random.default_rng(seed = 42)\n",
    "\n",
    "# Define um conjunto de valores aleatórios\n",
    "salarios = aleatorio.integers(low = 500, high = 6000, size = 5)\n",
    "print('Salários: ', salarios, '\\n')\n",
    "\n",
    "# Apresenta a média salarial\n",
    "media_salarial = np.mean(salarios)\n",
    "print('Média salarial: ', media_salarial, '\\n')\n",
    "\n",
    "salarios_acima_media_1 = np.where(salarios > media_salarial)\n",
    "print(f'Posição no array dos salários acima de {media_salarial}: ', salarios_acima_media_1[0], '\\n')\n",
    "\n",
    "print(f'Valor dos salários acima de {media_salarial}: ', salarios[salarios_acima_media_1], '\\n')\n",
    "\n",
    "salarios_acima_media_2 = salarios[salarios > media_salarial]\n",
    "print(salarios_acima_media_2)"
   ]
  },
  {
   "cell_type": "code",
   "execution_count": 44,
   "id": "893cf76f",
   "metadata": {},
   "outputs": [
    {
     "name": "stdout",
     "output_type": "stream",
     "text": [
      "Salários:  [ 990 4756 4100 2913 2881] \n",
      "\n",
      "['Salários pequenos' 'True' 'True' 'Salários pequenos' 'Salários pequenos'] \n",
      "\n",
      "[ 990.  5231.6 4510.  2913.  2881. ]\n"
     ]
    }
   ],
   "source": [
    "# Define uma seed para valores aleatórios\n",
    "aleatorio = np.random.default_rng(seed = 42)\n",
    "\n",
    "# Define um conjunto de valores aleatórios\n",
    "salarios = aleatorio.integers(low = 500, high = 6000, size = 5)\n",
    "print('Salários: ', salarios, '\\n')\n",
    "\n",
    "salarios_modificado = np.where(salarios >= media_salarial, True, 'Salários pequenos')\n",
    "print(salarios_modificado, '\\n')\n",
    "\n",
    "salarios_modificado = np.where(salarios >= media_salarial, salarios * 1.1, salarios)\n",
    "print(salarios_modificado)"
   ]
  },
  {
   "cell_type": "code",
   "execution_count": 48,
   "id": "099cb9c7",
   "metadata": {},
   "outputs": [
    {
     "data": {
      "text/plain": [
       "array(['oi', 'True', 'True', 'True', 'oi'], dtype='<U5')"
      ]
     },
     "execution_count": 48,
     "metadata": {},
     "output_type": "execute_result"
    }
   ],
   "source": [
    "np.where((salarios >= 2900) & (salarios <= 5000))\n",
    "\n",
    "salarios[(salarios >= 2900) & (salarios <= 5000)]\n",
    "\n",
    "np.where((salarios >= 2900) & (salarios <= 5000), True, 'oi')"
   ]
  },
  {
   "cell_type": "code",
   "execution_count": 52,
   "id": "dd0e3e0e",
   "metadata": {},
   "outputs": [
    {
     "data": {
      "text/plain": [
       "array(['True', 'oi', 'oi', 'oi', 'True'], dtype='<U5')"
      ]
     },
     "execution_count": 52,
     "metadata": {},
     "output_type": "execute_result"
    }
   ],
   "source": [
    "np.where((salarios <= 2900) | (salarios >= 5000))\n",
    "\n",
    "salarios[(salarios <= 2900) | (salarios >= 5000)]\n",
    "\n",
    "np.where((salarios <= 2900) | (salarios >= 5000), True, 'oi')"
   ]
  },
  {
   "cell_type": "code",
   "execution_count": 41,
   "id": "f6b6a751",
   "metadata": {},
   "outputs": [
    {
     "name": "stdout",
     "output_type": "stream",
     "text": [
      "[345 200 490 479 125 175 179 171 333 240 293 192 481 368] \n",
      "\n",
      "A quantidade de dimensões é:  1 \n",
      "\n",
      "O formato do vetor/matriz é:  (14,)\n"
     ]
    }
   ],
   "source": [
    "# Define uma instância para a geração de números aleatórios\n",
    "aleatorio = np.random.default_rng(seed = 12)\n",
    "\n",
    "# Cria um array com valores aleatórios e inteiros\n",
    "valores = aleatorio.integers(low = 100, high = 501, size = 14)\n",
    "print(valores, '\\n')\n",
    "\n",
    "# Apresenta a quantidade de dimensões do vetor/matriz\n",
    "qtd_dimensoes = valores.ndim\n",
    "print('A quantidade de dimensões é: ', qtd_dimensoes, '\\n')\n",
    "\n",
    "# Apresenta o formato\n",
    "formato = valores.shape\n",
    "print('O formato do vetor/matriz é: ', formato)"
   ]
  },
  {
   "cell_type": "code",
   "execution_count": 90,
   "id": "c7096f8e",
   "metadata": {},
   "outputs": [
    {
     "name": "stdout",
     "output_type": "stream",
     "text": [
      "[[345 200 490 479 125 175 179]\n",
      " [171 333 240 293 192 481 368]] \n",
      "\n",
      "[[345 200 490 479 125 175 179]\n",
      " [171 333 240 293 192 481 368]] \n",
      "\n",
      "[[345 200 490 479 125 175 179]\n",
      " [171 333 240 293 192 481 368]] \n",
      "\n",
      "A quantidade de dimensões é:  2 \n",
      "\n",
      "O formato do vetor/matriz é:  (2, 7)\n"
     ]
    }
   ],
   "source": [
    "valores_reshaped_1 = np.reshape(valores, (2, 7))\n",
    "print(valores_reshaped_1, '\\n')\n",
    "\n",
    "valores_reshaped_2 = valores.reshape(2, 7)\n",
    "print(valores_reshaped_2, '\\n')\n",
    "\n",
    "# o '-1' serve para completar o formato\n",
    "valores_reshaped_3 = np.reshape(valores, (2, -1))\n",
    "print(valores_reshaped_3, '\\n')\n",
    "\n",
    "# Apresenta a quantidade de dimensões do vetor/matriz\n",
    "qtd_dimensoes = valores_reshaped_2.ndim\n",
    "print('A quantidade de dimensões é: ', qtd_dimensoes, '\\n')\n",
    "\n",
    "# Apresenta o formato\n",
    "formato = valores_reshaped_2.shape\n",
    "print('O formato do vetor/matriz é: ', formato)"
   ]
  },
  {
   "cell_type": "code",
   "execution_count": 50,
   "id": "e1784e61",
   "metadata": {},
   "outputs": [
    {
     "name": "stdout",
     "output_type": "stream",
     "text": [
      "Soma das colunas:  [516 533 730 772 317 656 547] \n",
      "\n",
      "Soma das linhas:  [1993 2078]\n"
     ]
    }
   ],
   "source": [
    "soma_colunas = valores_reshaped_2.sum(axis = 0)\n",
    "print('Soma das colunas: ', soma_colunas, '\\n')\n",
    "\n",
    "soma_linhas = valores_reshaped_2.sum(axis = 1)\n",
    "print('Soma das linhas: ', soma_linhas)"
   ]
  },
  {
   "cell_type": "code",
   "execution_count": 51,
   "id": "77b3f50c",
   "metadata": {},
   "outputs": [
    {
     "name": "stdout",
     "output_type": "stream",
     "text": [
      "Soma das colunas:  [258.  266.5 365.  386.  158.5 328.  273.5] \n",
      "\n",
      "Soma das linhas:  [284.71428571 296.85714286]\n"
     ]
    }
   ],
   "source": [
    "soma_colunas = valores_reshaped_2.mean(axis = 0)\n",
    "print('Soma das colunas: ', soma_colunas, '\\n')\n",
    "\n",
    "soma_linhas = valores_reshaped_2.mean(axis = 1)\n",
    "print('Soma das linhas: ', soma_linhas)"
   ]
  },
  {
   "cell_type": "code",
   "execution_count": 52,
   "id": "c11807e7",
   "metadata": {},
   "outputs": [
    {
     "name": "stdout",
     "output_type": "stream",
     "text": [
      "Soma das colunas:  [345 333 490 479 192 481 368] \n",
      "\n",
      "Soma das linhas:  [490 481]\n"
     ]
    }
   ],
   "source": [
    "soma_colunas = valores_reshaped_2.max(axis = 0)\n",
    "print('Soma das colunas: ', soma_colunas, '\\n')\n",
    "\n",
    "soma_linhas = valores_reshaped_2.max(axis = 1)\n",
    "print('Soma das linhas: ', soma_linhas)"
   ]
  },
  {
   "cell_type": "code",
   "execution_count": 53,
   "id": "7e995b3a",
   "metadata": {},
   "outputs": [
    {
     "name": "stdout",
     "output_type": "stream",
     "text": [
      "Soma das colunas:  [171 200 240 293 125 175 179] \n",
      "\n",
      "Soma das linhas:  [125 171]\n"
     ]
    }
   ],
   "source": [
    "soma_colunas = valores_reshaped_2.min(axis = 0)\n",
    "print('Soma das colunas: ', soma_colunas, '\\n')\n",
    "\n",
    "soma_linhas = valores_reshaped_2.min(axis = 1)\n",
    "print('Soma das linhas: ', soma_linhas)"
   ]
  },
  {
   "cell_type": "markdown",
   "id": "9436b969",
   "metadata": {},
   "source": [
    "<span style=\"color: #FFC107; font-size: 22px;\">**np.arange()**</span>"
   ]
  },
  {
   "cell_type": "code",
   "execution_count": 72,
   "id": "e595ce0a",
   "metadata": {},
   "outputs": [
    {
     "name": "stdout",
     "output_type": "stream",
     "text": [
      "[ 0  1  2  3  4  5  6  7  8  9 10 11 12 13 14] \n",
      "\n",
      "[ 8  9 10 11 12 13 14 15 16 17 18 19 20 21] \n",
      "\n",
      "[ 5.   5.3  5.6  5.9  6.2  6.5  6.8  7.1  7.4  7.7  8.   8.3  8.6  8.9\n",
      "  9.2  9.5  9.8 10.1 10.4 10.7 11.  11.3 11.6 11.9 12.2 12.5 12.8 13.1\n",
      " 13.4 13.7 14.  14.3 14.6 14.9]\n"
     ]
    }
   ],
   "source": [
    "a = np.arange(15)\n",
    "print(a, '\\n')\n",
    "\n",
    "b = np.arange(8, 22)\n",
    "print(b, '\\n')\n",
    "\n",
    "c = np.arange(5, 15, 0.3)\n",
    "print(c)"
   ]
  },
  {
   "cell_type": "markdown",
   "id": "40e43092",
   "metadata": {},
   "source": [
    "<span style=\"color: #FFC107; font-size: 22px;\">**np.linspace()**</span>"
   ]
  },
  {
   "cell_type": "code",
   "execution_count": 99,
   "id": "8ae9bd3f",
   "metadata": {},
   "outputs": [
    {
     "name": "stdout",
     "output_type": "stream",
     "text": [
      "[0. 4. 8.] \n",
      "\n",
      "Tamanho:  3 \n",
      " --------------------------------------------------------------------------------\n",
      "[0.         0.88888889 1.77777778 2.66666667 3.55555556 4.44444444\n",
      " 5.33333333 6.22222222 7.11111111 8.        ] \n",
      "\n",
      "Tamanho:  10 \n",
      " --------------------------------------------------------------------------------\n",
      "[0.         0.27586207 0.55172414 0.82758621 1.10344828 1.37931034\n",
      " 1.65517241 1.93103448 2.20689655 2.48275862 2.75862069 3.03448276\n",
      " 3.31034483 3.5862069  3.86206897 4.13793103 4.4137931  4.68965517\n",
      " 4.96551724 5.24137931 5.51724138 5.79310345 6.06896552 6.34482759\n",
      " 6.62068966 6.89655172 7.17241379 7.44827586 7.72413793 8.        ] \n",
      "\n",
      "Tamanho:  30 \n",
      "\n"
     ]
    }
   ],
   "source": [
    "a = np.linspace(0,8,3)\n",
    "print(a, '\\n')\n",
    "\n",
    "tamanho_a = a.size\n",
    "print('Tamanho: ', tamanho_a, '\\n', '-' * 80)\n",
    "\n",
    "b = np.linspace(0,8,10)\n",
    "print(b, '\\n')\n",
    "\n",
    "tamanho_b = b.size\n",
    "print('Tamanho: ', tamanho_b, '\\n', '-' * 80)\n",
    "\n",
    "c = np.linspace(0,8,30)\n",
    "print(c, '\\n')\n",
    "\n",
    "tamanho_c = c.size\n",
    "print('Tamanho: ', tamanho_c, '\\n')"
   ]
  },
  {
   "cell_type": "code",
   "execution_count": 92,
   "id": "70eb26b3",
   "metadata": {},
   "outputs": [
    {
     "data": {
      "text/plain": [
       "3"
      ]
     },
     "execution_count": 92,
     "metadata": {},
     "output_type": "execute_result"
    }
   ],
   "source": [
    "a.size"
   ]
  },
  {
   "cell_type": "code",
   "execution_count": null,
   "id": "947dca1f",
   "metadata": {},
   "outputs": [],
   "source": []
  },
  {
   "cell_type": "code",
   "execution_count": null,
   "id": "d2442993",
   "metadata": {},
   "outputs": [],
   "source": []
  },
  {
   "cell_type": "code",
   "execution_count": null,
   "id": "39398751",
   "metadata": {},
   "outputs": [],
   "source": []
  },
  {
   "cell_type": "code",
   "execution_count": null,
   "id": "3eae20ea",
   "metadata": {},
   "outputs": [
    {
     "name": "stdout",
     "output_type": "stream",
     "text": [
      "[[0 1 2]\n",
      " [3 4 5]]\n",
      "\n",
      "(2, 3)\n"
     ]
    }
   ],
   "source": [
    "A = np.array([[0,1,2],[3,4,5]])\n",
    "print(A)\n",
    "print('')\n",
    "print(A.shape)"
   ]
  },
  {
   "cell_type": "code",
   "execution_count": null,
   "id": "40880adb",
   "metadata": {},
   "outputs": [
    {
     "name": "stdout",
     "output_type": "stream",
     "text": [
      "[1 2 3]\n",
      "\n",
      "(3,)\n"
     ]
    }
   ],
   "source": [
    "B = np.array([1,2,3])\n",
    "print(B)\n",
    "print('')\n",
    "print(b.shape)"
   ]
  },
  {
   "cell_type": "code",
   "execution_count": null,
   "id": "db366c0e",
   "metadata": {},
   "outputs": [
    {
     "data": {
      "text/plain": [
       "array([ 8, 26])"
      ]
     },
     "metadata": {},
     "output_type": "display_data"
    }
   ],
   "source": [
    "np.matmul(A, B)"
   ]
  },
  {
   "cell_type": "markdown",
   "id": "95888371",
   "metadata": {},
   "source": [
    "O seu funcionamento é\n",
    "\n",
    "(n,k),(k,m) $\\rightarrow$ (n,m)\n",
    "\n",
    "Sabendo que:\n",
    "* A = (2,3) \n",
    "* B = (3, 1)\n",
    "\n",
    "Logo:\n",
    "* n = 2\n",
    "* k = 3\n",
    "* m = 1\n",
    "\n",
    "Com isso:\n",
    "* (<span style = 'color: blue'>2</span>,**3**),(**3**,<span style = 'color: red'>1</span>) $\\rightarrow$ (<span style = 'color: blue'>2</span>,<span style = 'color: red'>1</span>)\n",
    "\n",
    "Fazendo o produto matricial da matriz, obtêm-se:\n",
    "\n",
    "1. \n",
    "  \\begin{vmatrix} \n",
    "  0(1) + 1(2) + 2(3) & 3(1) + 4(2) + 5(3)\\\\ \n",
    "  \\end{vmatrix}\n",
    "\n",
    "2. \n",
    "  \\begin{vmatrix} \n",
    "  0 + 2 + 6 & 3 + 8 + 15\\\\ \n",
    "  \\end{vmatrix}\n",
    "\n",
    "3. \n",
    "  \\begin{vmatrix} \n",
    "  8 & 26\\\\ \n",
    "  \\end{vmatrix}"
   ]
  },
  {
   "cell_type": "markdown",
   "id": "1e10256d",
   "metadata": {},
   "source": [
    "### A forma curta de np.matmul(x1, x2) e x1 @ x2"
   ]
  },
  {
   "cell_type": "code",
   "execution_count": null,
   "id": "e61a35e5",
   "metadata": {},
   "outputs": [
    {
     "data": {
      "text/plain": [
       "array([ 8, 26])"
      ]
     },
     "metadata": {},
     "output_type": "display_data"
    }
   ],
   "source": [
    "A @ B"
   ]
  },
  {
   "cell_type": "code",
   "execution_count": null,
   "id": "9ef8b0f6",
   "metadata": {},
   "outputs": [
    {
     "ename": "ValueError",
     "evalue": "matmul: Input operand 1 has a mismatch in its core dimension 0, with gufunc signature (n?,k),(k,m?)->(n?,m?) (size 2 is different from 3)",
     "output_type": "error",
     "traceback": [
      "\u001b[1;31m---------------------------------------------------------------------------\u001b[0m\n",
      "\u001b[1;31mValueError\u001b[0m                                Traceback (most recent call last)\n",
      "Cell \u001b[1;32mIn[99], line 1\u001b[0m\n",
      "\u001b[1;32m----> 1\u001b[0m B \u001b[38;5;241m@\u001b[39m A\n",
      "\n",
      "\u001b[1;31mValueError\u001b[0m: matmul: Input operand 1 has a mismatch in its core dimension 0, with gufunc signature (n?,k),(k,m?)->(n?,m?) (size 2 is different from 3)"
     ]
    }
   ],
   "source": [
    "B @ A"
   ]
  }
 ],
 "metadata": {
  "kernelspec": {
   "display_name": "Python 3 (ipykernel)",
   "language": "python",
   "name": "python3"
  },
  "language_info": {
   "codemirror_mode": {
    "name": "ipython",
    "version": 3
   },
   "file_extension": ".py",
   "mimetype": "text/x-python",
   "name": "python",
   "nbconvert_exporter": "python",
   "pygments_lexer": "ipython3",
   "version": "3.11.7"
  }
 },
 "nbformat": 4,
 "nbformat_minor": 5
}
