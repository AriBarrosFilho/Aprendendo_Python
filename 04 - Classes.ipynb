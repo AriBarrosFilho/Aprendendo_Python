{
 "cells": [
  {
   "cell_type": "markdown",
   "metadata": {},
   "source": [
    "[O que é instância e objeto](https://chatgpt.com/share/c7df5491-c174-4425-b551-a1e3952091ff)"
   ]
  },
  {
   "cell_type": "markdown",
   "metadata": {},
   "source": [
    "### Classe Carro"
   ]
  },
  {
   "cell_type": "code",
   "execution_count": 1,
   "metadata": {},
   "outputs": [],
   "source": [
    "class Carro:\n",
    "\n",
    "    # __init__ também é chamado de dunderscore\n",
    "    def __init__(self, marca, ano):\n",
    "        self.marca = marca\n",
    "        self.ano = ano\n",
    "\n",
    "    def exibir_info(self):\n",
    "        print(f\"A marca do carro é {self.marca} e o ano é {self.ano}\")"
   ]
  },
  {
   "cell_type": "code",
   "execution_count": 3,
   "metadata": {},
   "outputs": [
    {
     "name": "stdout",
     "output_type": "stream",
     "text": [
      "BMW\n",
      "2012\n",
      "A marca do carro é BMW e o ano é 2012\n",
      "<class '__main__.Carro'>\n"
     ]
    }
   ],
   "source": [
    "# Cria uma instância da classe carro, e define seus atributos\n",
    "car = Carro('BMW', 2012)\n",
    "\n",
    "# Apresenta o atributo 'marca' da classe 'Carro'\n",
    "print(car.marca)\n",
    "\n",
    "# Apresenta o atributo 'ano' da classe 'Carro'\n",
    "print(car.ano)\n",
    "\n",
    "# Utiliza o método 'exibir_info()' da classe Carros\n",
    "car.exibir_info()\n",
    "\n",
    "print(type(car))"
   ]
  },
  {
   "cell_type": "markdown",
   "metadata": {},
   "source": [
    "### Classe Venda"
   ]
  },
  {
   "cell_type": "code",
   "execution_count": null,
   "metadata": {},
   "outputs": [],
   "source": [
    "# Biblioteca para remover identação\n",
    "import textwrap\n",
    "\n",
    "class Venda:\n",
    "    \"\"\"\n",
    "    Inicializa uma venda\n",
    "\n",
    "    Args:\n",
    "        id_produto (int): Identificador de venda\n",
    "    \"\"\"\n",
    "\n",
    "    def __init__(self, id_produto, produto, quantidade, preco_unitario):\n",
    "        self.id_produto = id_produto\n",
    "        self.produto = produto\n",
    "        self.quantidade = quantidade\n",
    "        self.preco_unitario = preco_unitario\n",
    "\n",
    "    def calcular_total(self):\n",
    "\n",
    "        \"\"\"\n",
    "        Calcula o total da venda.\n",
    "        \"\"\"\n",
    "\n",
    "        return self.quantidade * self.preco_unitario\n",
    "    \n",
    "    def exibir_info(self):\n",
    "\n",
    "        \"\"\"\n",
    "        Exibe as informações sobre a venda.\n",
    "        \"\"\"\n",
    "\n",
    "        total = self.calcular_total()\n",
    "\n",
    "        texto = f\"\"\"\n",
    "        ID: {self.id_produto}, \n",
    "        Produto: {self.produto}, \n",
    "        Quantidade vendida: {self.quantidade}, \n",
    "        Preço unitário: R$ {self.preco_unitario:.2f},\n",
    "        Preço total: R$ {total:.2f}\n",
    "        \"\"\"\n",
    "\n",
    "        # Remove a identação do texto\n",
    "        texto_sem_indentacao = textwrap.dedent(texto)\n",
    "\n",
    "        # Apresenta o texto\n",
    "        print(texto_sem_indentacao)"
   ]
  },
  {
   "cell_type": "code",
   "execution_count": null,
   "metadata": {},
   "outputs": [
    {
     "name": "stdout",
     "output_type": "stream",
     "text": [
      "\n",
      "ID: 1, \n",
      "Produto: Camisa, \n",
      "Quantidade vendida: 2, \n",
      "Preço unitário: R$ 87.98,\n",
      "Preço total: R$ 175.96\n",
      "\n"
     ]
    }
   ],
   "source": [
    "venda_hoje = Venda(1, 'Camisa', 2, 87.98)\n",
    "\n",
    "venda_hoje.exibir_info()"
   ]
  },
  {
   "cell_type": "code",
   "execution_count": null,
   "metadata": {},
   "outputs": [
    {
     "name": "stdout",
     "output_type": "stream",
     "text": [
      "Help on Venda in module __main__ object:\n",
      "\n",
      "class Venda(builtins.object)\n",
      " |  Venda(id_produto, produto, quantidade, preco_unitario)\n",
      " |  \n",
      " |  Methods defined here:\n",
      " |  \n",
      " |  __init__(self, id_produto, produto, quantidade, preco_unitario)\n",
      " |  \n",
      " |  calcular_total(self)\n",
      " |  \n",
      " |  exibir_info(self)\n",
      " |  \n",
      " |  ----------------------------------------------------------------------\n",
      " |  Data descriptors defined here:\n",
      " |  \n",
      " |  __dict__\n",
      " |      dictionary for instance variables\n",
      " |  \n",
      " |  __weakref__\n",
      " |      list of weak references to the object\n",
      "\n"
     ]
    }
   ],
   "source": [
    "help(venda_hoje)"
   ]
  },
  {
   "cell_type": "markdown",
   "metadata": {},
   "source": [
    "### Classe Cliente"
   ]
  },
  {
   "cell_type": "code",
   "execution_count": null,
   "metadata": {},
   "outputs": [],
   "source": [
    "class Cliente:\n",
    "\n",
    "    def __init__(self, nome, email) -> None:\n",
    "        self.nome = nome\n",
    "        self.email = email\n",
    "        self.compras = []\n",
    "\n",
    "    def adicionar_comprar(self, valor):\n",
    "        self.compras.append(valor)\n",
    "        \n",
    "    def total_gasto(self):\n",
    "        total = 0\n",
    "        for compra in self.compras:\n",
    "            total += compra\n",
    "        return total"
   ]
  },
  {
   "cell_type": "code",
   "execution_count": null,
   "metadata": {},
   "outputs": [],
   "source": [
    "cliente_1 = Cliente('Ari', 'aribarrosfilho@gmail.com')\n",
    "\n",
    "cliente_1.adicionar_comprar(100)\n",
    "cliente_1.adicionar_comprar(200)\n",
    "cliente_1.adicionar_comprar(87)"
   ]
  },
  {
   "cell_type": "code",
   "execution_count": null,
   "metadata": {},
   "outputs": [
    {
     "data": {
      "text/plain": [
       "387"
      ]
     },
     "metadata": {},
     "output_type": "display_data"
    }
   ],
   "source": [
    "cliente_1.total_gasto()"
   ]
  },
  {
   "cell_type": "markdown",
   "metadata": {},
   "source": [
    "### Classe AnaliseVendas"
   ]
  },
  {
   "cell_type": "code",
   "execution_count": null,
   "metadata": {},
   "outputs": [],
   "source": [
    "class AnaliseVendas:\n",
    "\n",
    "    def __init__(self) -> None:\n",
    "        self.mes = []\n",
    "        self.venda = []\n",
    "\n",
    "    def adicionar_vendas(self, mes, valor):\n",
    "        self.mes.append(mes)\n",
    "        self.venda.append(valor)\n",
    "\n",
    "    def calcular_media_vendas(self):\n",
    "        quantidade = len(self.venda)\n",
    "        print(sum(self.venda))\n",
    "        soma = sum(self.venda)\n",
    "        return soma / quantidade\n",
    "    \n",
    "    def encontrar_melhor_mes(self):\n",
    "\n",
    "        # Apresenta o valor máximo da lista\n",
    "        venda_maxima = max(self.venda)\n",
    "\n",
    "        # Conta quantos elementos que são iguais ao valor máximo da lista\n",
    "        quantidade_venda_maxima = self.venda.count(venda_maxima)\n",
    "\n",
    "        # Caso não tenha nenhum elemento registrado na lista\n",
    "        if len(self.venda) == 0:\n",
    "            return None, None\n",
    "        \n",
    "        # Caso tenha algum elemento registrado na lista\n",
    "        else:\n",
    "\n",
    "            # Lista que armazenará o(s) melhor(es) meses de venda\n",
    "            lista_meses = []\n",
    "\n",
    "            # Faz uma cópia da lista de meses original\n",
    "            lista_meses_copia = self.mes[:]\n",
    "\n",
    "            for _ in range(quantidade_venda_maxima):\n",
    "\n",
    "                # Encontra o índice do mês com a maior venda\n",
    "                indice_mes = lista_meses_copia.index(venda_maxima)\n",
    "\n",
    "                # Com base no índice, encontra o mês correspondente\n",
    "                melhor_mes = lista_meses_copia(indice_mes)\n",
    "\n",
    "                # Acrescenta um dos meses com a melhor venda\n",
    "                lista_meses.append(melhor_mes)\n",
    "\n",
    "                # Remove o primeiro mês com a melhor venda\n",
    "                lista_meses_copia.remove(venda_maxima)\n",
    "\n",
    "            return venda_maxima, lista_meses_copia"
   ]
  },
  {
   "cell_type": "code",
   "execution_count": null,
   "metadata": {},
   "outputs": [],
   "source": [
    "vendas = AnaliseVendas()"
   ]
  },
  {
   "cell_type": "code",
   "execution_count": null,
   "metadata": {},
   "outputs": [],
   "source": [
    "meses_vendas = ['Janeiro', 'Fevereiro', 'Março', 'Abril', 'Maio', 'Junho']\n",
    "valor_vendas = [1000, 2500, 3500, 600, 980, 780]"
   ]
  },
  {
   "cell_type": "code",
   "execution_count": null,
   "metadata": {},
   "outputs": [],
   "source": [
    "vendas.adicionar_vendas(meses_vendas, valor_vendas)"
   ]
  },
  {
   "cell_type": "code",
   "execution_count": null,
   "metadata": {},
   "outputs": [
    {
     "ename": "ValueError",
     "evalue": "[1000, 2500, 3500, 600, 980, 780] is not in list",
     "output_type": "error",
     "traceback": [
      "\u001b[1;31m---------------------------------------------------------------------------\u001b[0m\n",
      "\u001b[1;31mValueError\u001b[0m                                Traceback (most recent call last)\n",
      "Cell \u001b[1;32mIn[44], line 1\u001b[0m\n",
      "\u001b[1;32m----> 1\u001b[0m vendas\u001b[38;5;241m.\u001b[39mencontrar_melhor_mes()\n",
      "\n",
      "Cell \u001b[1;32mIn[34], line 41\u001b[0m, in \u001b[0;36mAnaliseVendas.encontrar_melhor_mes\u001b[1;34m(self)\u001b[0m\n",
      "\u001b[0;32m     36\u001b[0m lista_meses_copia \u001b[38;5;241m=\u001b[39m \u001b[38;5;28mself\u001b[39m\u001b[38;5;241m.\u001b[39mmes[:]\n",
      "\u001b[0;32m     38\u001b[0m \u001b[38;5;28;01mfor\u001b[39;00m _ \u001b[38;5;129;01min\u001b[39;00m \u001b[38;5;28mrange\u001b[39m(quantidade_venda_maxima):\n",
      "\u001b[0;32m     39\u001b[0m \n",
      "\u001b[0;32m     40\u001b[0m     \u001b[38;5;66;03m# Encontra o índice do mês com a maior venda\u001b[39;00m\n",
      "\u001b[1;32m---> 41\u001b[0m     indice_mes \u001b[38;5;241m=\u001b[39m lista_meses_copia\u001b[38;5;241m.\u001b[39mindex(venda_maxima)\n",
      "\u001b[0;32m     43\u001b[0m     \u001b[38;5;66;03m# Com base no índice, encontra o mês correspondente\u001b[39;00m\n",
      "\u001b[0;32m     44\u001b[0m     melhor_mes \u001b[38;5;241m=\u001b[39m lista_meses_copia(indice_mes)\n",
      "\n",
      "\u001b[1;31mValueError\u001b[0m: [1000, 2500, 3500, 600, 980, 780] is not in list"
     ]
    }
   ],
   "source": [
    "vendas.encontrar_melhor_mes()"
   ]
  },
  {
   "cell_type": "markdown",
   "metadata": {},
   "source": [
    "### Classe Calculos"
   ]
  },
  {
   "cell_type": "code",
   "execution_count": 41,
   "metadata": {},
   "outputs": [
    {
     "name": "stdout",
     "output_type": "stream",
     "text": [
      "12\n",
      "-6\n"
     ]
    }
   ],
   "source": [
    "class Calculos:\n",
    "\n",
    "    def __init__(self, valor_1, valor_2) -> None:\n",
    "        self.valor_1 = valor_1\n",
    "        self.valor_2 = valor_2\n",
    "    \n",
    "    def somar(self):\n",
    "        return self.valor_1 + self.valor_2\n",
    "    \n",
    "    def subtrair(self):\n",
    "        return self.valor_1 - self.valor_2\n",
    "\n",
    "\n",
    "calculo = Calculos(3, 9)\n",
    "\n",
    "print(calculo.somar())\n",
    "print(calculo.subtrair())"
   ]
  },
  {
   "cell_type": "code",
   "execution_count": 11,
   "metadata": {},
   "outputs": [
    {
     "name": "stdout",
     "output_type": "stream",
     "text": [
      "13\n",
      "-5\n",
      "22\n",
      "4\n"
     ]
    }
   ],
   "source": [
    "class Calculos:\n",
    "\n",
    "    valor_fixo = 1\n",
    "\n",
    "    def __init__(self, valor_1, valor_2) -> None:\n",
    "        self.valor_1 = valor_1\n",
    "        self.valor_2 = valor_2\n",
    "    \n",
    "    def somar(self):\n",
    "        return self.valor_1 + self.valor_2 + self.valor_fixo\n",
    "    \n",
    "    def subtrair(self):\n",
    "        return self.valor_1 - self.valor_2 + self.valor_fixo\n",
    "\n",
    "\n",
    "calculo = Calculos(3, 9)\n",
    "\n",
    "print(calculo.somar())\n",
    "print(calculo.subtrair())\n",
    "\n",
    "calculo.valor_fixo = 10\n",
    "\n",
    "print(calculo.somar())\n",
    "print(calculo.subtrair())"
   ]
  },
  {
   "cell_type": "markdown",
   "metadata": {},
   "source": [
    "### Classe ContaBancaria"
   ]
  },
  {
   "cell_type": "code",
   "execution_count": 48,
   "metadata": {},
   "outputs": [],
   "source": [
    "from datetime import datetime\n",
    "import pytz\n",
    "from random import randint\n",
    "\n",
    "class ContaBancaria:\n",
    "\n",
    "    # Usa-se _ para inidicar que aquele atributo ou método não deveria ser acessado pelo usuário\n",
    "    # Usa-se __ para bloquear que aquele atributo ou método para usuário\n",
    "\n",
    "    # Esse é um exemplo de atributo de classe\n",
    "    # Atributo estático\n",
    "    # Variável global\n",
    "    percentual_cheque_especial = 0.1\n",
    "\n",
    "    # Exemplo de um método estático\n",
    "    @staticmethod\n",
    "    def _data_hora():\n",
    "        fuso_br = pytz.timezone('Brazil/East')\n",
    "        agora = datetime.now(fuso_br)\n",
    "        agora = agora.strftime('%d/%m/%Y %H:%M:%S')\n",
    "        return agora\n",
    "\n",
    "    def __init__(self, nome: str, cpf: str, data_nascimento: str, num_conta: str) -> None:\n",
    "        self._nome = nome\n",
    "        self.__cpf = cpf\n",
    "        self.data_nascimento = data_nascimento\n",
    "        self.num_conta = num_conta\n",
    "        self.saldo = 0\n",
    "        self.historico = []\n",
    "        self.cartoes = []\n",
    "\n",
    "    def consultar_saldo(self):\n",
    "        print(f'Seu saldo atual é R$ {self.saldo:.2f}')\n",
    "\n",
    "    def consultar_historico(self):\n",
    "        for historico in self.historico:\n",
    "            print('Entrada/saída: R$', historico[0])\n",
    "            print('Saldo final: R$', historico[1])\n",
    "            print('Data e horário da transação: ', historico[2], '\\n')\n",
    "\n",
    "    def depositar_dinheiro(self, valor: float):\n",
    "        self.saldo += valor\n",
    "        self.historico.append((valor, self.saldo, ContaBancaria._data_hora()))\n",
    "\n",
    "    def sacar_dinheiro(self, valor: float):\n",
    "        if valor <= self.saldo + (self.saldo * self.percentual_cheque_especial):\n",
    "            self.saldo -= valor\n",
    "            self.historico.append((-valor, self.saldo, ContaBancaria._data_hora()))\n",
    "\n",
    "        else:\n",
    "            print(f'Você não pode sacar R$ {valor:.2f}')\n",
    "            self.consultar_saldo()\n",
    "            print(f'Você só pode sacar {(self.saldo * self.percentual_cheque_especial):.2f}')\n",
    "\n",
    "    def transferir_dinheiro(self, valor, outra_conta):\n",
    "        self.saldo -= valor\n",
    "        self.historico.append((valor, self.saldo, ContaBancaria._data_hora()))\n",
    "        outra_conta.saldo += valor\n",
    "        outra_conta.historico.append((valor, outra_conta.saldo, ContaBancaria._data_hora()))\n",
    "\n",
    "\n",
    "class CartaoCredito:\n",
    "        \n",
    "    @staticmethod\n",
    "    def _data_hora():\n",
    "        fuso_br = pytz.timezone('Brazil/East')\n",
    "        agora = datetime.now(fuso_br)\n",
    "        return agora\n",
    "\n",
    "    def __init__(self, titular, conta_corrente) -> None:\n",
    "        self.numero = randint(1000_0000_0000_0000, 9999_9999_9999_9999)\n",
    "        self.titular = titular\n",
    "        self.validade = f'{CartaoCredito._data_hora().month}/{CartaoCredito._data_hora().year + 4}'\n",
    "        self.codigo_seguranca = f'{randint(0,9)}{randint(0,9)}{randint(0,9)}'\n",
    "        self.limite = 1000\n",
    "        self.conta_corrente = conta_corrente\n",
    "        conta_corrente.cartoes.append(self)"
   ]
  },
  {
   "cell_type": "code",
   "execution_count": 47,
   "metadata": {},
   "outputs": [
    {
     "name": "stdout",
     "output_type": "stream",
     "text": [
      "Guilherme Márcio Monteiro\n",
      "7102979533400345\n"
     ]
    }
   ],
   "source": [
    "# Define os atributos de entrada obrigatórios para a instância/objeto da classe ContaBancaria\n",
    "nome = 'Guilherme Márcio Monteiro'\n",
    "data_nascimento = '03/04/1991'\n",
    "cpf = '038.130.641-07'\n",
    "num_conta = '1255417-0'\n",
    "\n",
    "# Cria uma instância/objeto da classe ContaBancaria\n",
    "cliente_01 = ContaBancaria(nome, cpf, data_nascimento, num_conta)\n",
    "\n",
    "# Cria uma instância/objeto da classe CartaoCredito\n",
    "cartao_credito_01 = CartaoCredito(nome, cliente_01)\n",
    "\n",
    "print(cliente_01.cartoes[0].titular)\n",
    "\n",
    "print(cartao_credito_01.numero)"
   ]
  },
  {
   "cell_type": "code",
   "execution_count": 7,
   "metadata": {},
   "outputs": [
    {
     "name": "stdout",
     "output_type": "stream",
     "text": [
      "Seu saldo atual é R$ 50.00\n"
     ]
    }
   ],
   "source": [
    "cliente_01.depositar_dinheiro(10)\n",
    "cliente_01.sacar_dinheiro(8)\n",
    "cliente_01.depositar_dinheiro(23)\n",
    "\n",
    "cliente_01.consultar_saldo()"
   ]
  },
  {
   "cell_type": "code",
   "execution_count": 9,
   "metadata": {},
   "outputs": [
    {
     "name": "stdout",
     "output_type": "stream",
     "text": [
      "Seu saldo atual é R$ 0.00\n"
     ]
    }
   ],
   "source": [
    "# Define os atributos de entrada obrigatórios para a instância/objeto da classe ContaBancaria\n",
    "nome = 'Allana Camila Ayla Vieira'\n",
    "data_nascimento = '13/08/1964'\n",
    "cpf = '670.243.807-99'\n",
    "\n",
    "# Cria uma instância/objeto da classe ContaBancaria\n",
    "cliente_02 = ContaBancaria(nome, cpf, data_nascimento)\n",
    "\n",
    "cliente_02.consultar_saldo()"
   ]
  },
  {
   "cell_type": "code",
   "execution_count": 10,
   "metadata": {},
   "outputs": [],
   "source": [
    "cliente_01.transferir_dinheiro(13, cliente_02)\n",
    "\n",
    "cliente_01.consultar_saldo()"
   ]
  },
  {
   "cell_type": "code",
   "execution_count": null,
   "metadata": {},
   "outputs": [],
   "source": []
  },
  {
   "cell_type": "markdown",
   "metadata": {},
   "source": [
    "## Encapsulamento, Herança, Polimorgismo e Abstração"
   ]
  },
  {
   "cell_type": "markdown",
   "metadata": {},
   "source": [
    "### Encapsulamento"
   ]
  },
  {
   "cell_type": "markdown",
   "metadata": {},
   "source": [
    "Encapsulamento refere-se ao agrupamento de dados (atributos) e métodos (funções) que operam sobre esses dados dentro de uma classe. \n",
    "\n",
    "Também envolve o controle do acesso a esses dados para garantir que a implementação interna seja protegida e manipulada de maneira controlada."
   ]
  },
  {
   "cell_type": "code",
   "execution_count": 2,
   "metadata": {},
   "outputs": [
    {
     "name": "stdout",
     "output_type": "stream",
     "text": [
      "24\n",
      "25\n"
     ]
    }
   ],
   "source": [
    "class Pessoa:\n",
    "    def __init__(self, nome, idade):\n",
    "        self._nome = nome  # Atributo protegido (uso de _)\n",
    "        self.__idade = idade  # Atributo privado (uso de __)\n",
    "\n",
    "    def get_idade(self):\n",
    "        return self.__idade\n",
    "\n",
    "    def set_idade(self, idade):\n",
    "        if idade > 0:\n",
    "            self.__idade = idade\n",
    "        else:\n",
    "            print(\"Idade inválida\")\n",
    "\n",
    "# Exemplo de uso\n",
    "pessoa = Pessoa(\"Ari\", 24)\n",
    "print(pessoa.get_idade())  # Acessa a idade de forma controlada\n",
    "pessoa.set_idade(25)  # Modifica a idade de forma controlada\n",
    "print(pessoa.get_idade())"
   ]
  },
  {
   "cell_type": "markdown",
   "metadata": {},
   "source": [
    "### Herança"
   ]
  },
  {
   "cell_type": "markdown",
   "metadata": {},
   "source": [
    "Herança permite que uma classe herde atributos e métodos de outra classe, promovendo a reutilização de código."
   ]
  },
  {
   "cell_type": "code",
   "execution_count": 3,
   "metadata": {},
   "outputs": [
    {
     "name": "stdout",
     "output_type": "stream",
     "text": [
      "Latido\n",
      "Miau\n"
     ]
    }
   ],
   "source": [
    "class Animal:\n",
    "    def __init__(self, nome):\n",
    "        self.nome = nome\n",
    "\n",
    "    def fazer_som(self):\n",
    "        pass  # Método que será sobrescrito\n",
    "\n",
    "class Cachorro(Animal):\n",
    "    def fazer_som(self):\n",
    "        return \"Latido\"\n",
    "\n",
    "class Gato(Animal):\n",
    "    def fazer_som(self):\n",
    "        return \"Miau\"\n",
    "\n",
    "# Exemplo de uso\n",
    "cachorro = Cachorro(\"Rex\")\n",
    "gato = Gato(\"Mimi\")\n",
    "print(cachorro.fazer_som())  # Saída: Latido\n",
    "print(gato.fazer_som())  # Saída: Miau"
   ]
  },
  {
   "cell_type": "markdown",
   "metadata": {},
   "source": [
    "### Polimorfismo"
   ]
  },
  {
   "cell_type": "markdown",
   "metadata": {},
   "source": [
    "Polimorfismo permite que diferentes classes tenham métodos com o mesmo nome, mas comportamentos diferentes. \n",
    "\n",
    "Isso promove flexibilidade e uso de interfaces comuns."
   ]
  },
  {
   "cell_type": "code",
   "execution_count": 4,
   "metadata": {},
   "outputs": [
    {
     "name": "stdout",
     "output_type": "stream",
     "text": [
      "Pinguins não voam\n",
      "Pardal voando rápido\n"
     ]
    }
   ],
   "source": [
    "class Ave:\n",
    "    def voar(self):\n",
    "        return \"Ave voando\"\n",
    "\n",
    "class Pinguim(Ave):\n",
    "    def voar(self):\n",
    "        return \"Pinguins não voam\"\n",
    "\n",
    "class Pardal(Ave):\n",
    "    def voar(self):\n",
    "        return \"Pardal voando rápido\"\n",
    "\n",
    "def fazer_voar(ave):\n",
    "    print(ave.voar())\n",
    "\n",
    "# Exemplo de uso\n",
    "pinguim = Pinguim()\n",
    "pardal = Pardal()\n",
    "fazer_voar(pinguim)  # Saída: Pinguins não voam\n",
    "fazer_voar(pardal)   # Saída: Pardal voando rápido"
   ]
  },
  {
   "cell_type": "markdown",
   "metadata": {},
   "source": [
    "### Abstração"
   ]
  },
  {
   "cell_type": "markdown",
   "metadata": {},
   "source": [
    "Abstração refere-se ao processo de esconder detalhes complexos e mostrar apenas a funcionalidade essencial. \n",
    "\n",
    "Isso é alcançado usando classes abstratas e métodos abstratos."
   ]
  },
  {
   "cell_type": "code",
   "execution_count": 5,
   "metadata": {},
   "outputs": [
    {
     "name": "stdout",
     "output_type": "stream",
     "text": [
      "50\n",
      "153.86\n"
     ]
    }
   ],
   "source": [
    "from abc import ABC, abstractmethod\n",
    "\n",
    "class Forma(ABC):\n",
    "    @abstractmethod\n",
    "    def area(self):\n",
    "        pass\n",
    "\n",
    "class Retangulo(Forma):\n",
    "    def __init__(self, largura, altura):\n",
    "        self.largura = largura\n",
    "        self.altura = altura\n",
    "\n",
    "    def area(self):\n",
    "        return self.largura * self.altura\n",
    "\n",
    "class Circulo(Forma):\n",
    "    def __init__(self, raio):\n",
    "        self.raio = raio\n",
    "\n",
    "    def area(self):\n",
    "        return 3.14 * (self.raio ** 2)\n",
    "\n",
    "# Exemplo de uso\n",
    "retangulo = Retangulo(10, 5)\n",
    "circulo = Circulo(7)\n",
    "print(retangulo.area())  # Saída: 50\n",
    "print(circulo.area())    # Saída: 153.86"
   ]
  },
  {
   "cell_type": "code",
   "execution_count": null,
   "metadata": {},
   "outputs": [],
   "source": []
  },
  {
   "cell_type": "code",
   "execution_count": null,
   "metadata": {},
   "outputs": [],
   "source": []
  }
 ],
 "metadata": {
  "kernelspec": {
   "display_name": "base",
   "language": "python",
   "name": "python3"
  },
  "language_info": {
   "codemirror_mode": {
    "name": "ipython",
    "version": 3
   },
   "file_extension": ".py",
   "mimetype": "text/x-python",
   "name": "python",
   "nbconvert_exporter": "python",
   "pygments_lexer": "ipython3",
   "version": "3.11.7"
  }
 },
 "nbformat": 4,
 "nbformat_minor": 2
}
