{
 "cells": [
  {
   "cell_type": "markdown",
   "id": "82174dd6",
   "metadata": {},
   "source": [
    "# Numpy\n",
    "\n",
    "**Site oficial** -> https://numpy.org/\n",
    "\n",
    "**Guia** -> https://numpy.org/doc/stable/user/quickstart.html"
   ]
  },
  {
   "cell_type": "code",
   "execution_count": 1,
   "id": "0ad49d77",
   "metadata": {},
   "outputs": [],
   "source": [
    "import numpy as np\n",
    "import pandas as pd\n",
    "\n",
    "import seaborn as sns\n",
    "import matplotlib.pyplot as plt\n",
    "\n",
    "import time\n",
    "\n",
    "import seaborn as sns\n",
    "sns.set_theme(style=\"darkgrid\")\n",
    "\n",
    "#========================================================\n",
    "\n",
    "def separador(caractere = '-', numero = 100):\n",
    "    print('')\n",
    "    print(caractere*numero)\n",
    "    print('')"
   ]
  },
  {
   "cell_type": "markdown",
   "id": "03ad3dc0",
   "metadata": {},
   "source": [
    "## np.arange()\n",
    "\n",
    "https://numpy.org/doc/stable/reference/generated/numpy.arange.html"
   ]
  },
  {
   "cell_type": "code",
   "execution_count": 98,
   "id": "f5c93127",
   "metadata": {},
   "outputs": [
    {
     "name": "stdout",
     "output_type": "stream",
     "text": [
      "[ 0  1  2  3  4  5  6  7  8  9 10 11 12 13 14]\n"
     ]
    }
   ],
   "source": [
    "a = np.arange(15)\n",
    "print(a)"
   ]
  },
  {
   "cell_type": "code",
   "execution_count": 99,
   "id": "8be22c09",
   "metadata": {},
   "outputs": [
    {
     "name": "stdout",
     "output_type": "stream",
     "text": [
      "[2 3 4 5 6 7]\n"
     ]
    }
   ],
   "source": [
    "x = np.arange(2,8)\n",
    "print(x)"
   ]
  },
  {
   "cell_type": "code",
   "execution_count": 100,
   "id": "f44e075c",
   "metadata": {},
   "outputs": [
    {
     "name": "stdout",
     "output_type": "stream",
     "text": [
      "[2.  2.5 3.  3.5 4.  4.5 5.  5.5 6.  6.5 7.  7.5]\n"
     ]
    }
   ],
   "source": [
    "y = np.arange(2,8,0.5)\n",
    "print(y)"
   ]
  },
  {
   "cell_type": "markdown",
   "id": "b1f4eeef",
   "metadata": {},
   "source": [
    "## np.linspace\n",
    "\n",
    "https://numpy.org/doc/stable/reference/generated/numpy.linspace.html"
   ]
  },
  {
   "cell_type": "code",
   "execution_count": 101,
   "id": "97c64e99",
   "metadata": {},
   "outputs": [
    {
     "name": "stdout",
     "output_type": "stream",
     "text": [
      "[0.  0.8 1.6 2.4 3.2 4.  4.8 5.6 6.4 7.2 8. ]\n"
     ]
    }
   ],
   "source": [
    "z = np.linspace(0,8,11)\n",
    "print(z)"
   ]
  },
  {
   "cell_type": "markdown",
   "id": "2039e9b5",
   "metadata": {},
   "source": [
    "## .reshape()\n",
    "\n",
    "https://numpy.org/doc/stable/reference/generated/numpy.reshape.html"
   ]
  },
  {
   "cell_type": "code",
   "execution_count": 102,
   "id": "7d8ee7fb",
   "metadata": {},
   "outputs": [
    {
     "name": "stdout",
     "output_type": "stream",
     "text": [
      "[[ 0  1  2  3  4]\n",
      " [ 5  6  7  8  9]\n",
      " [10 11 12 13 14]]\n",
      "\n",
      "----------------------------------------------------------------------------------------------------\n",
      "\n",
      "[[ 0  1  2]\n",
      " [ 3  4  5]\n",
      " [ 6  7  8]\n",
      " [ 9 10 11]\n",
      " [12 13 14]]\n"
     ]
    }
   ],
   "source": [
    "b = a.reshape(3,5) # A multiplicação dos elemtos deve ser igual ao número de elementos utilizados\n",
    "print(b)\n",
    "\n",
    "separador()\n",
    "\n",
    "c = a.reshape(5,3)\n",
    "print(c)"
   ]
  },
  {
   "cell_type": "markdown",
   "id": "aae5592c",
   "metadata": {},
   "source": [
    "## .shape\n",
    "\n",
    "https://numpy.org/doc/stable/reference/generated/numpy.shape.html"
   ]
  },
  {
   "cell_type": "code",
   "execution_count": 103,
   "id": "6f96ec4e",
   "metadata": {},
   "outputs": [
    {
     "data": {
      "text/plain": [
       "(3, 5)"
      ]
     },
     "execution_count": 103,
     "metadata": {},
     "output_type": "execute_result"
    }
   ],
   "source": [
    "b.shape"
   ]
  },
  {
   "cell_type": "code",
   "execution_count": 104,
   "id": "586bdb9d",
   "metadata": {},
   "outputs": [
    {
     "data": {
      "text/plain": [
       "(5, 3)"
      ]
     },
     "execution_count": 104,
     "metadata": {},
     "output_type": "execute_result"
    }
   ],
   "source": [
    "c.shape"
   ]
  },
  {
   "cell_type": "code",
   "execution_count": 105,
   "id": "2cfb0ddb",
   "metadata": {
    "scrolled": true
   },
   "outputs": [
    {
     "name": "stdout",
     "output_type": "stream",
     "text": [
      "[[[ 0  1]\n",
      "  [ 2  3]\n",
      "  [ 4  5]]\n",
      "\n",
      " [[ 6  7]\n",
      "  [ 8  9]\n",
      "  [10 11]]\n",
      "\n",
      " [[12 13]\n",
      "  [14 15]\n",
      "  [16 17]]\n",
      "\n",
      " [[18 19]\n",
      "  [20 21]\n",
      "  [22 23]]]\n"
     ]
    }
   ],
   "source": [
    "x = np.arange(24)\n",
    "z = x.reshape(4,3,2)\n",
    "\n",
    "print(z)"
   ]
  },
  {
   "cell_type": "markdown",
   "id": "aea20bd0",
   "metadata": {},
   "source": [
    "### .ndim\n",
    "\n",
    "https://numpy.org/doc/stable/reference/generated/numpy.ndarray.ndim.html"
   ]
  },
  {
   "cell_type": "code",
   "execution_count": 106,
   "id": "4b9d67be",
   "metadata": {},
   "outputs": [
    {
     "data": {
      "text/plain": [
       "3"
      ]
     },
     "execution_count": 106,
     "metadata": {},
     "output_type": "execute_result"
    }
   ],
   "source": [
    "z.ndim"
   ]
  },
  {
   "cell_type": "markdown",
   "id": "97121c24",
   "metadata": {},
   "source": [
    "### .size\n",
    "\n",
    "https://numpy.org/doc/stable/reference/generated/numpy.ndarray.size.html"
   ]
  },
  {
   "cell_type": "code",
   "execution_count": 107,
   "id": "e98cfac6",
   "metadata": {},
   "outputs": [
    {
     "data": {
      "text/plain": [
       "24"
      ]
     },
     "execution_count": 107,
     "metadata": {},
     "output_type": "execute_result"
    }
   ],
   "source": [
    "z.size"
   ]
  },
  {
   "cell_type": "markdown",
   "id": "1a7a5fea",
   "metadata": {},
   "source": [
    "## np.array()\n",
    "\n",
    "https://numpy.org/doc/stable/reference/generated/numpy.array.html"
   ]
  },
  {
   "cell_type": "markdown",
   "id": "ef5d72e5",
   "metadata": {},
   "source": [
    "### Lista para array Numpy"
   ]
  },
  {
   "cell_type": "code",
   "execution_count": 108,
   "id": "6031e7d4",
   "metadata": {},
   "outputs": [
    {
     "name": "stdout",
     "output_type": "stream",
     "text": [
      "[2, 9, 6]\n",
      "\n",
      "----------------------------------------------------------------------------------------------------\n",
      "\n",
      "[2 9 6]\n",
      "\n",
      "----------------------------------------------------------------------------------------------------\n",
      "\n",
      "(3,)\n"
     ]
    }
   ],
   "source": [
    "lista = [2,9,6]\n",
    "d = np.array(lista)\n",
    "\n",
    "print(lista)\n",
    "separador()\n",
    "\n",
    "print(d)\n",
    "separador()\n",
    "\n",
    "print(d.shape)"
   ]
  },
  {
   "cell_type": "markdown",
   "id": "dd53f06d",
   "metadata": {},
   "source": [
    "### Criação de arrays de diferentes dimensões"
   ]
  },
  {
   "cell_type": "code",
   "execution_count": 109,
   "id": "a9bdc68f",
   "metadata": {},
   "outputs": [
    {
     "name": "stdout",
     "output_type": "stream",
     "text": [
      "[ 7  5  3 16 39]\n",
      "\n",
      "----------------------------------------------------------------------------------------------------\n",
      "\n",
      "[[6 4 2]\n",
      " [3 8 1]]\n",
      "\n",
      "----------------------------------------------------------------------------------------------------\n",
      "\n",
      "[[52 63 74]\n",
      " [96  2 15]\n",
      " [28 13 47]]\n"
     ]
    }
   ],
   "source": [
    "# 1 dimensão\n",
    "e = np.array([7,5,3,16,39])\n",
    "print(e)\n",
    "separador()\n",
    "\n",
    "# 2 dimensões\n",
    "f = np.array([(6,4,2),(3,8,1)])\n",
    "print(f)\n",
    "separador()\n",
    "\n",
    "# 3 dimensões\n",
    "g = np.array([(52,63,74),(96,2,15),(28,13,47)])\n",
    "print(g)"
   ]
  },
  {
   "cell_type": "markdown",
   "id": "61809fb4",
   "metadata": {},
   "source": [
    "## type()"
   ]
  },
  {
   "cell_type": "code",
   "execution_count": 110,
   "id": "d7ac2d79",
   "metadata": {},
   "outputs": [
    {
     "name": "stdout",
     "output_type": "stream",
     "text": [
      "<class 'numpy.ndarray'>\n",
      "<class 'numpy.ndarray'>\n",
      "<class 'numpy.ndarray'>\n",
      "<class 'numpy.ndarray'>\n",
      "<class 'numpy.ndarray'>\n",
      "<class 'numpy.ndarray'>\n",
      "<class 'numpy.ndarray'>\n"
     ]
    }
   ],
   "source": [
    "print(type(a))\n",
    "print(type(b))\n",
    "print(type(c))\n",
    "print(type(d))\n",
    "print(type(e))\n",
    "print(type(f))\n",
    "print(type(g))"
   ]
  },
  {
   "cell_type": "markdown",
   "id": "94d39dfc",
   "metadata": {},
   "source": [
    "## np.zeros()\n",
    "\n",
    "https://numpy.org/doc/stable/reference/generated/numpy.zeros.html"
   ]
  },
  {
   "cell_type": "code",
   "execution_count": 111,
   "id": "3d9a242b",
   "metadata": {},
   "outputs": [
    {
     "name": "stdout",
     "output_type": "stream",
     "text": [
      "[[0. 0.]\n",
      " [0. 0.]]\n",
      "\n",
      "----------------------------------------------------------------------------------------------------\n",
      "\n",
      "[[0 0 0]\n",
      " [0 0 0]\n",
      " [0 0 0]]\n"
     ]
    }
   ],
   "source": [
    "h = np.zeros((2,2))\n",
    "print(h)\n",
    "separador()\n",
    "\n",
    "i = np.zeros((3,3), dtype = int)\n",
    "print(i)"
   ]
  },
  {
   "cell_type": "markdown",
   "id": "7f413f13",
   "metadata": {},
   "source": [
    "## np.ones()\n",
    "\n",
    "https://numpy.org/doc/stable/reference/generated/numpy.ones.html"
   ]
  },
  {
   "cell_type": "code",
   "execution_count": 112,
   "id": "ac37fe6b",
   "metadata": {},
   "outputs": [
    {
     "name": "stdout",
     "output_type": "stream",
     "text": [
      "[[1. 1.]\n",
      " [1. 1.]]\n",
      "\n",
      "----------------------------------------------------------------------------------------------------\n",
      "\n",
      "[[1 1 1]\n",
      " [1 1 1]\n",
      " [1 1 1]]\n"
     ]
    }
   ],
   "source": [
    "h = np.ones((2,2))\n",
    "print(h)\n",
    "separador()\n",
    "\n",
    "i = np.ones((3,3), dtype = int)\n",
    "print(i)"
   ]
  },
  {
   "cell_type": "markdown",
   "id": "3f9a5a6a",
   "metadata": {},
   "source": [
    "## np.eye()\n",
    "\n",
    "https://numpy.org/devdocs/reference/generated/numpy.eye.html"
   ]
  },
  {
   "cell_type": "code",
   "execution_count": 113,
   "id": "a674bf19",
   "metadata": {},
   "outputs": [
    {
     "name": "stdout",
     "output_type": "stream",
     "text": [
      "[[1 0 0]\n",
      " [0 1 0]\n",
      " [0 0 1]]\n"
     ]
    }
   ],
   "source": [
    "x = np.eye(3, dtype = int)\n",
    "print(x)"
   ]
  },
  {
   "cell_type": "markdown",
   "id": "126b6f8a",
   "metadata": {},
   "source": [
    "## np.diag()\n",
    "\n",
    "https://numpy.org/doc/stable/reference/generated/numpy.diag.html"
   ]
  },
  {
   "cell_type": "code",
   "execution_count": 114,
   "id": "7c634258",
   "metadata": {},
   "outputs": [
    {
     "name": "stdout",
     "output_type": "stream",
     "text": [
      "[[10  0  0]\n",
      " [ 0  5  0]\n",
      " [ 0  0 16]]\n"
     ]
    }
   ],
   "source": [
    "f = np.diag([10,5,16])\n",
    "print(f)"
   ]
  },
  {
   "cell_type": "code",
   "execution_count": 115,
   "id": "74e74d3e",
   "metadata": {},
   "outputs": [
    {
     "name": "stdout",
     "output_type": "stream",
     "text": [
      "[[0 0 0 0 0]\n",
      " [0 1 0 0 0]\n",
      " [0 0 2 0 0]\n",
      " [0 0 0 3 0]\n",
      " [0 0 0 0 4]]\n"
     ]
    }
   ],
   "source": [
    "e = np.diag(np.arange(5))\n",
    "print(e)"
   ]
  },
  {
   "cell_type": "markdown",
   "id": "68d5e663",
   "metadata": {},
   "source": [
    "## np.full()\n",
    "\n",
    "https://numpy.org/doc/stable/reference/generated/numpy.full.html#numpy.full"
   ]
  },
  {
   "cell_type": "code",
   "execution_count": 116,
   "id": "24f4b4f2",
   "metadata": {},
   "outputs": [
    {
     "name": "stdout",
     "output_type": "stream",
     "text": [
      "[[10 10]\n",
      " [10 10]]\n",
      "\n",
      "----------------------------------------------------------------------------------------------------\n",
      "\n",
      "[[2 4 6]\n",
      " [2 4 6]]\n",
      "\n",
      "----------------------------------------------------------------------------------------------------\n",
      "\n",
      "[[2 4 6]\n",
      " [2 4 6]\n",
      " [2 4 6]]\n"
     ]
    }
   ],
   "source": [
    "j = np.full((2, 2), 10)\n",
    "print(j)\n",
    "separador()\n",
    "\n",
    "k = np.full((2, 3), [2,4,6])\n",
    "print(k)\n",
    "separador()\n",
    "\n",
    "l = np.full((3, 3), [2,4,6])\n",
    "print(l)"
   ]
  },
  {
   "cell_type": "markdown",
   "id": "c558944e",
   "metadata": {},
   "source": [
    "## Operações e condições com o Numpy"
   ]
  },
  {
   "cell_type": "markdown",
   "id": "c4e86696",
   "metadata": {},
   "source": [
    "### Soma"
   ]
  },
  {
   "cell_type": "code",
   "execution_count": 117,
   "id": "8f3ce9e4",
   "metadata": {},
   "outputs": [
    {
     "name": "stdout",
     "output_type": "stream",
     "text": [
      "[11  7 14]\n"
     ]
    }
   ],
   "source": [
    "a = np.array([2,4,6])\n",
    "b = np.array([9,3,8])\n",
    "\n",
    "c = a + b\n",
    "print(c)"
   ]
  },
  {
   "cell_type": "markdown",
   "id": "b3f24751",
   "metadata": {},
   "source": [
    "### Subtração"
   ]
  },
  {
   "cell_type": "code",
   "execution_count": 118,
   "id": "b2696501",
   "metadata": {},
   "outputs": [
    {
     "name": "stdout",
     "output_type": "stream",
     "text": [
      "[-7  1 -2]\n"
     ]
    }
   ],
   "source": [
    "d = a - b\n",
    "print(d)"
   ]
  },
  {
   "cell_type": "markdown",
   "id": "32a8ac84",
   "metadata": {},
   "source": [
    "### Multiplicação"
   ]
  },
  {
   "cell_type": "code",
   "execution_count": 119,
   "id": "de0b43fb",
   "metadata": {},
   "outputs": [
    {
     "name": "stdout",
     "output_type": "stream",
     "text": [
      "[18 12 48]\n"
     ]
    }
   ],
   "source": [
    "e = a * b\n",
    "print(e)"
   ]
  },
  {
   "cell_type": "markdown",
   "id": "c97c3ee2",
   "metadata": {},
   "source": [
    "### Divisão"
   ]
  },
  {
   "cell_type": "code",
   "execution_count": 120,
   "id": "7fb0e1f5",
   "metadata": {},
   "outputs": [
    {
     "name": "stdout",
     "output_type": "stream",
     "text": [
      "[0.22222222 1.33333333 0.75      ]\n"
     ]
    }
   ],
   "source": [
    "f = a / b\n",
    "print(f)"
   ]
  },
  {
   "cell_type": "markdown",
   "id": "61e3c9b0",
   "metadata": {},
   "source": [
    "### Exponenciação"
   ]
  },
  {
   "cell_type": "code",
   "execution_count": 121,
   "id": "2a31f974",
   "metadata": {},
   "outputs": [
    {
     "name": "stdout",
     "output_type": "stream",
     "text": [
      "[    512      64 1679616]\n"
     ]
    }
   ],
   "source": [
    "g = a ** b\n",
    "print(g)"
   ]
  },
  {
   "cell_type": "markdown",
   "id": "eed9aa10",
   "metadata": {},
   "source": [
    "### Lógica"
   ]
  },
  {
   "cell_type": "code",
   "execution_count": 122,
   "id": "8cc3e85f",
   "metadata": {},
   "outputs": [
    {
     "name": "stdout",
     "output_type": "stream",
     "text": [
      "[2 4 6]\n",
      "\n",
      "----------------------------------------------------------------------------------------------------\n",
      "\n",
      "[False False  True]\n",
      "\n",
      "----------------------------------------------------------------------------------------------------\n",
      "\n"
     ]
    },
    {
     "data": {
      "text/plain": [
       "array([6])"
      ]
     },
     "execution_count": 122,
     "metadata": {},
     "output_type": "execute_result"
    }
   ],
   "source": [
    "print(a)\n",
    "\n",
    "separador()\n",
    "\n",
    "print(a >= 6)\n",
    "\n",
    "separador()\n",
    "\n",
    "a[a >= 6]"
   ]
  },
  {
   "cell_type": "markdown",
   "id": "4803c664",
   "metadata": {},
   "source": [
    "## Métodos auxiliares"
   ]
  },
  {
   "cell_type": "markdown",
   "id": "feaee197",
   "metadata": {},
   "source": [
    "### Soma, máximo e mínimo"
   ]
  },
  {
   "cell_type": "code",
   "execution_count": 123,
   "id": "7849ee97",
   "metadata": {},
   "outputs": [
    {
     "name": "stdout",
     "output_type": "stream",
     "text": [
      "[2 4 6]\n",
      "\n",
      "----------------------------------------------------------------------------------------------------\n",
      "\n",
      "12\n",
      "\n",
      "----------------------------------------------------------------------------------------------------\n",
      "\n",
      "6\n",
      "\n",
      "----------------------------------------------------------------------------------------------------\n",
      "\n",
      "2\n"
     ]
    }
   ],
   "source": [
    "print(a)\n",
    "separador()\n",
    "\n",
    "soma_a = a.sum()\n",
    "print(soma_a)\n",
    "separador()\n",
    "\n",
    "maximo_a = a.max()\n",
    "print(maximo_a)\n",
    "separador()\n",
    "\n",
    "minimo_a = a.min()\n",
    "print(minimo_a)"
   ]
  },
  {
   "cell_type": "markdown",
   "id": "bc5d2d91",
   "metadata": {},
   "source": [
    "### Soma das linhas e das colunas"
   ]
  },
  {
   "cell_type": "code",
   "execution_count": 124,
   "id": "6e4ea35e",
   "metadata": {},
   "outputs": [
    {
     "name": "stdout",
     "output_type": "stream",
     "text": [
      "[[1 2 3]\n",
      " [4 5 6]\n",
      " [7 8 9]]\n",
      "\n",
      "----------------------------------------------------------------------------------------------------\n",
      "\n",
      "[12 15 18]\n",
      "\n",
      "----------------------------------------------------------------------------------------------------\n",
      "\n",
      "[ 6 15 24]\n"
     ]
    }
   ],
   "source": [
    "r = np.array([(1,2,3),(4,5,6),(7,8,9)])\n",
    "print(r)\n",
    "separador()\n",
    "\n",
    "soma_r_linha = r.sum(axis = 0)\n",
    "print(soma_r_linha)\n",
    "separador()\n",
    "\n",
    "soma_r_coluna = r.sum(axis = 1)\n",
    "print(soma_r_coluna)"
   ]
  },
  {
   "cell_type": "code",
   "execution_count": 125,
   "id": "d9e8f598",
   "metadata": {},
   "outputs": [
    {
     "name": "stdout",
     "output_type": "stream",
     "text": [
      "[[[ 0  1]\n",
      "  [ 2  3]\n",
      "  [ 4  5]]\n",
      "\n",
      " [[ 6  7]\n",
      "  [ 8  9]\n",
      "  [10 11]]\n",
      "\n",
      " [[12 13]\n",
      "  [14 15]\n",
      "  [16 17]]\n",
      "\n",
      " [[18 19]\n",
      "  [20 21]\n",
      "  [22 23]]]\n",
      "\n",
      "----------------------------------------------------------------------------------------------------\n",
      "\n",
      "[[36 40]\n",
      " [44 48]\n",
      " [52 56]]\n",
      "\n",
      "----------------------------------------------------------------------------------------------------\n",
      "\n",
      "[[ 6  9]\n",
      " [24 27]\n",
      " [42 45]\n",
      " [60 63]]\n"
     ]
    }
   ],
   "source": [
    "print(z)\n",
    "separador()\n",
    "\n",
    "soma_z_linha = z.sum(axis = 0)\n",
    "print(soma_z_linha)\n",
    "separador()\n",
    "\n",
    "soma_z_coluna = z.sum(axis = 1)\n",
    "print(soma_z_coluna)"
   ]
  },
  {
   "cell_type": "markdown",
   "id": "77fd832d",
   "metadata": {},
   "source": [
    "### Contando valores\n",
    "\n",
    "https://numpy.org/doc/stable/reference/generated/numpy.unique.html"
   ]
  },
  {
   "cell_type": "code",
   "execution_count": 126,
   "id": "997d24a3",
   "metadata": {
    "scrolled": true
   },
   "outputs": [
    {
     "name": "stdout",
     "output_type": "stream",
     "text": [
      "[2 4 6]\n",
      "\n",
      "----------------------------------------------------------------------------------------------------\n",
      "\n"
     ]
    },
    {
     "data": {
      "text/plain": [
       "array([2, 4, 6])"
      ]
     },
     "execution_count": 126,
     "metadata": {},
     "output_type": "execute_result"
    }
   ],
   "source": [
    "print(a)\n",
    "\n",
    "separador()\n",
    "\n",
    "np.unique(a)"
   ]
  },
  {
   "cell_type": "code",
   "execution_count": 127,
   "id": "24efcfc4",
   "metadata": {},
   "outputs": [
    {
     "name": "stdout",
     "output_type": "stream",
     "text": [
      "[2 4 6]\n",
      "\n",
      "----------------------------------------------------------------------------------------------------\n",
      "\n",
      "[0 1 2]\n"
     ]
    }
   ],
   "source": [
    "valor, posicao = np.unique(a, return_index = True)\n",
    "\n",
    "print(valor)\n",
    "\n",
    "separador()\n",
    "\n",
    "print(posicao)"
   ]
  },
  {
   "cell_type": "markdown",
   "id": "f98c8fc4",
   "metadata": {},
   "source": [
    "### Média\n",
    "\n",
    "https://numpy.org/doc/stable/reference/generated/numpy.mean.html"
   ]
  },
  {
   "cell_type": "code",
   "execution_count": 128,
   "id": "a9a5ed94",
   "metadata": {},
   "outputs": [
    {
     "name": "stdout",
     "output_type": "stream",
     "text": [
      "[2 4 6]\n",
      "\n",
      "----------------------------------------------------------------------------------------------------\n",
      "\n",
      "4.0\n"
     ]
    }
   ],
   "source": [
    "print(a)\n",
    "\n",
    "separador()\n",
    "\n",
    "media_a = np.mean(a)\n",
    "\n",
    "print(media_a)"
   ]
  },
  {
   "cell_type": "markdown",
   "id": "8e386b3b",
   "metadata": {},
   "source": [
    "### np.pi    Constantes (Pi, euler, infinito, ...)\n",
    "\n",
    "https://numpy.org/doc/stable/reference/constants.html"
   ]
  },
  {
   "cell_type": "code",
   "execution_count": 129,
   "id": "9f38656a",
   "metadata": {},
   "outputs": [
    {
     "name": "stdout",
     "output_type": "stream",
     "text": [
      "O valor de pi é: 3.141592653589793\n",
      "\n",
      "----------------------------------------------------------------------------------------------------\n",
      "\n",
      "O valor de euler é: 2.718281828459045\n",
      "\n",
      "----------------------------------------------------------------------------------------------------\n",
      "\n",
      "O valor de infinito é: inf\n"
     ]
    }
   ],
   "source": [
    "pi = np.pi\n",
    "euler = np.e\n",
    "infinito = np.Inf\n",
    "\n",
    "print(f'O valor de pi é: {pi}')\n",
    "separador()\n",
    "print(f'O valor de euler é: {euler}')\n",
    "separador()\n",
    "print(f'O valor de infinito é: {infinito}')"
   ]
  },
  {
   "cell_type": "markdown",
   "id": "7f77c62f",
   "metadata": {},
   "source": [
    "### np.sin()    Seno\n",
    "\n",
    "https://numpy.org/doc/stable/reference/generated/numpy.sin.html"
   ]
  },
  {
   "cell_type": "code",
   "execution_count": 130,
   "id": "c8aaca55",
   "metadata": {},
   "outputs": [
    {
     "data": {
      "text/plain": [
       "1.0"
      ]
     },
     "execution_count": 130,
     "metadata": {},
     "output_type": "execute_result"
    }
   ],
   "source": [
    "angulo_grau = 90\n",
    "angulo_radiano = (np.pi * angulo_grau)/180\n",
    "\n",
    "np.sin(angulo_radiano)"
   ]
  },
  {
   "cell_type": "markdown",
   "id": "34079cae",
   "metadata": {},
   "source": [
    "### np.cos()    Cosseno\n",
    "\n",
    "https://numpy.org/doc/stable/reference/generated/numpy.cos.html"
   ]
  },
  {
   "cell_type": "code",
   "execution_count": 131,
   "id": "045fb7ef",
   "metadata": {},
   "outputs": [
    {
     "data": {
      "text/plain": [
       "6.123233995736766e-17"
      ]
     },
     "execution_count": 131,
     "metadata": {},
     "output_type": "execute_result"
    }
   ],
   "source": [
    "angulo_grau = 90\n",
    "angulo_radiano = (np.pi * angulo_grau)/180\n",
    "\n",
    "np.cos(angulo_radiano)"
   ]
  },
  {
   "cell_type": "markdown",
   "id": "151f9a64",
   "metadata": {},
   "source": [
    "### np.tan()    Tangente\n",
    "\n",
    "https://numpy.org/doc/stable/reference/generated/numpy.tan.html"
   ]
  },
  {
   "cell_type": "code",
   "execution_count": 132,
   "id": "4fec87db",
   "metadata": {},
   "outputs": [
    {
     "data": {
      "text/plain": [
       "1.633123935319537e+16"
      ]
     },
     "execution_count": 132,
     "metadata": {},
     "output_type": "execute_result"
    }
   ],
   "source": [
    "angulo_grau = 90\n",
    "angulo_radiano = (np.pi * angulo_grau)/180\n",
    "\n",
    "np.tan(angulo_radiano)"
   ]
  },
  {
   "cell_type": "markdown",
   "id": "22ad72a4",
   "metadata": {},
   "source": [
    "### Gráfico"
   ]
  },
  {
   "cell_type": "code",
   "execution_count": 133,
   "id": "40161690",
   "metadata": {},
   "outputs": [
    {
     "data": {
      "image/png": "[encoded data removed]",
      "text/plain": [
       "<Figure size 432x288 with 1 Axes>"
      ]
     },
     "metadata": {},
     "output_type": "display_data"
    }
   ],
   "source": [
    "import matplotlib.pylab as plt\n",
    "\n",
    "x = np.linspace(-np.pi, np.pi, 20) # Quanto maior o 3º número, maior será a resolução\n",
    "\n",
    "plt.plot(x, np.sin(x))\n",
    "plt.xlabel('Angle [rad]')\n",
    "plt.ylabel('sin(x)')\n",
    "plt.axis('tight')\n",
    "plt.show()"
   ]
  },
  {
   "cell_type": "markdown",
   "id": "e523346a",
   "metadata": {},
   "source": [
    "## Média, desvio padrão e variância"
   ]
  },
  {
   "cell_type": "code",
   "execution_count": 134,
   "id": "0078ed23",
   "metadata": {},
   "outputs": [
    {
     "data": {
      "text/plain": [
       "array([6, 4, 8, 2, 1, 5, 9, 8, 6, 1, 1, 9, 8, 5, 8, 5, 3, 4, 8, 7, 8, 9,\n",
       "       9, 3, 4, 9, 9, 4, 2, 1])"
      ]
     },
     "execution_count": 134,
     "metadata": {},
     "output_type": "execute_result"
    }
   ],
   "source": [
    "a = np.random.randint(1,10,30)\n",
    "a"
   ]
  },
  {
   "cell_type": "markdown",
   "id": "14595621",
   "metadata": {},
   "source": [
    "### np.mean()    Média\n",
    "\n",
    "https://numpy.org/doc/stable/reference/generated/numpy.mean.html"
   ]
  },
  {
   "cell_type": "code",
   "execution_count": 135,
   "id": "d86b80f1",
   "metadata": {},
   "outputs": [
    {
     "data": {
      "text/plain": [
       "5.533333333333333"
      ]
     },
     "execution_count": 135,
     "metadata": {},
     "output_type": "execute_result"
    }
   ],
   "source": [
    "np.mean(a)"
   ]
  },
  {
   "cell_type": "markdown",
   "id": "8444f51b",
   "metadata": {},
   "source": [
    "### np.std()    Desvio padrão\n",
    "\n",
    "https://numpy.org/doc/stable/reference/generated/numpy.std.html"
   ]
  },
  {
   "cell_type": "code",
   "execution_count": 136,
   "id": "2f92af65",
   "metadata": {},
   "outputs": [
    {
     "data": {
      "text/plain": [
       "2.8370563774604287"
      ]
     },
     "execution_count": 136,
     "metadata": {},
     "output_type": "execute_result"
    }
   ],
   "source": [
    "np.std(a)"
   ]
  },
  {
   "cell_type": "markdown",
   "id": "fde0cbfe",
   "metadata": {},
   "source": [
    "### np.var()    Variância\n",
    "\n",
    "https://numpy.org/doc/stable/reference/generated/numpy.var.html"
   ]
  },
  {
   "cell_type": "code",
   "execution_count": 137,
   "id": "2b8973c3",
   "metadata": {},
   "outputs": [
    {
     "data": {
      "text/plain": [
       "8.04888888888889"
      ]
     },
     "execution_count": 137,
     "metadata": {},
     "output_type": "execute_result"
    }
   ],
   "source": [
    "np.var(a)"
   ]
  },
  {
   "cell_type": "markdown",
   "id": "4b6d3238",
   "metadata": {},
   "source": [
    "## Pegando elementos específicos"
   ]
  },
  {
   "cell_type": "code",
   "execution_count": 138,
   "id": "2d88f000",
   "metadata": {},
   "outputs": [
    {
     "name": "stdout",
     "output_type": "stream",
     "text": [
      "[  0   1   4   9  16  25  36  49  64  81 100 121 144 169 196]\n"
     ]
    }
   ],
   "source": [
    "a = np.arange(15)**2\n",
    "print(a)"
   ]
  },
  {
   "cell_type": "code",
   "execution_count": 139,
   "id": "1908dea3",
   "metadata": {},
   "outputs": [
    {
     "name": "stdout",
     "output_type": "stream",
     "text": [
      "4\n"
     ]
    }
   ],
   "source": [
    "print(a[2])"
   ]
  },
  {
   "cell_type": "code",
   "execution_count": 140,
   "id": "ce556f59",
   "metadata": {},
   "outputs": [
    {
     "name": "stdout",
     "output_type": "stream",
     "text": [
      "[  9  16  25  36  49  64  81 100]\n"
     ]
    }
   ],
   "source": [
    "# Pega todos os valores\n",
    "print(a[3:-4])"
   ]
  },
  {
   "cell_type": "code",
   "execution_count": 141,
   "id": "331d1c09",
   "metadata": {},
   "outputs": [
    {
     "name": "stdout",
     "output_type": "stream",
     "text": [
      "[  4   9  16  25  36  49  64  81 100 121 144 169 196]\n"
     ]
    }
   ],
   "source": [
    "# Ignora os 2 primeiros valores\n",
    "print(a[2:])"
   ]
  },
  {
   "cell_type": "code",
   "execution_count": 142,
   "id": "d46cfb29",
   "metadata": {},
   "outputs": [
    {
     "name": "stdout",
     "output_type": "stream",
     "text": [
      "[169 196]\n"
     ]
    }
   ],
   "source": [
    "# Pega os 2 últimos valores\n",
    "print(a[-2:])"
   ]
  },
  {
   "cell_type": "code",
   "execution_count": 143,
   "id": "49a5e0de",
   "metadata": {},
   "outputs": [
    {
     "name": "stdout",
     "output_type": "stream",
     "text": [
      "[0 1 4]\n"
     ]
    }
   ],
   "source": [
    "# Pega apenas os 3 primeiros valores\n",
    "print(a[:3])"
   ]
  },
  {
   "cell_type": "code",
   "execution_count": 144,
   "id": "f50e7fdd",
   "metadata": {},
   "outputs": [
    {
     "name": "stdout",
     "output_type": "stream",
     "text": [
      "[  0   1   4   9  16  25  36  49  64  81 100 121]\n"
     ]
    }
   ],
   "source": [
    "# Ignora os 3 últimos valores\n",
    "print(a[:-3])"
   ]
  },
  {
   "cell_type": "code",
   "execution_count": 145,
   "id": "895b0a5e",
   "metadata": {},
   "outputs": [
    {
     "name": "stdout",
     "output_type": "stream",
     "text": [
      "[[[ 0  1]\n",
      "  [ 2  3]\n",
      "  [ 4  5]]\n",
      "\n",
      " [[ 6  7]\n",
      "  [ 8  9]\n",
      "  [10 11]]\n",
      "\n",
      " [[12 13]\n",
      "  [14 15]\n",
      "  [16 17]]\n",
      "\n",
      " [[18 19]\n",
      "  [20 21]\n",
      "  [22 23]]]\n",
      "\n",
      "----------------------------------------------------------------------------------------------------\n",
      "\n",
      "[[0 1]\n",
      " [2 3]\n",
      " [4 5]]\n",
      "\n",
      "----------------------------------------------------------------------------------------------------\n",
      "\n",
      "[2 3]\n",
      "\n",
      "----------------------------------------------------------------------------------------------------\n",
      "\n",
      "2\n"
     ]
    }
   ],
   "source": [
    "print(z)\n",
    "separador()\n",
    "\n",
    "print(z[0])\n",
    "separador()\n",
    "\n",
    "print(z[0][1])\n",
    "separador()\n",
    "\n",
    "print(z[0][1][0])"
   ]
  },
  {
   "cell_type": "markdown",
   "id": "055d87a2",
   "metadata": {},
   "source": [
    "## .ravel()"
   ]
  },
  {
   "cell_type": "code",
   "execution_count": 146,
   "id": "87b53d91",
   "metadata": {
    "scrolled": true
   },
   "outputs": [
    {
     "name": "stdout",
     "output_type": "stream",
     "text": [
      "[[[ 0  1]\n",
      "  [ 2  3]\n",
      "  [ 4  5]]\n",
      "\n",
      " [[ 6  7]\n",
      "  [ 8  9]\n",
      "  [10 11]]\n",
      "\n",
      " [[12 13]\n",
      "  [14 15]\n",
      "  [16 17]]\n",
      "\n",
      " [[18 19]\n",
      "  [20 21]\n",
      "  [22 23]]]\n",
      "\n",
      "----------------------------------------------------------------------------------------------------\n",
      "\n",
      "[ 0  1  2  3  4  5  6  7  8  9 10 11 12 13 14 15 16 17 18 19 20 21 22 23]\n"
     ]
    }
   ],
   "source": [
    "print(z)\n",
    "separador()\n",
    "\n",
    "z_original = z.ravel()\n",
    "print(z_original)"
   ]
  },
  {
   "cell_type": "code",
   "execution_count": 147,
   "id": "ac519b6a",
   "metadata": {},
   "outputs": [
    {
     "name": "stdout",
     "output_type": "stream",
     "text": [
      "[[ 0  1]\n",
      " [ 2  3]\n",
      " [ 4  5]\n",
      " [ 6  7]\n",
      " [ 8  9]\n",
      " [10 11]\n",
      " [12 13]\n",
      " [14 15]\n",
      " [16 17]\n",
      " [18 19]\n",
      " [20 21]\n",
      " [22 23]]\n"
     ]
    }
   ],
   "source": [
    "novo_z = z.reshape(12,2)\n",
    "print(novo_z)"
   ]
  },
  {
   "cell_type": "markdown",
   "id": "23306c76",
   "metadata": {},
   "source": [
    "## Transposta"
   ]
  },
  {
   "cell_type": "code",
   "execution_count": 148,
   "id": "c942c93f",
   "metadata": {},
   "outputs": [
    {
     "name": "stdout",
     "output_type": "stream",
     "text": [
      "[[ 0  2  4  6  8 10 12 14 16 18 20 22]\n",
      " [ 1  3  5  7  9 11 13 15 17 19 21 23]]\n"
     ]
    }
   ],
   "source": [
    "# Linha vira coluna e coluna vira linha\n",
    "transposta_z = novo_z.T\n",
    "print(transposta_z)"
   ]
  },
  {
   "cell_type": "code",
   "execution_count": 149,
   "id": "59a05e5e",
   "metadata": {},
   "outputs": [
    {
     "data": {
      "text/plain": [
       "array([[ 0,  1,  2,  3,  4,  5],\n",
       "       [ 6,  7,  8,  9, 10, 11],\n",
       "       [12, 13, 14, 15, 16, 17],\n",
       "       [18, 19, 20, 21, 22, 23]])"
      ]
     },
     "execution_count": 149,
     "metadata": {},
     "output_type": "execute_result"
    }
   ],
   "source": [
    "# Se colocar -1, ele completa o resto\n",
    "novo_z.reshape(4,-1)"
   ]
  },
  {
   "cell_type": "markdown",
   "id": "bdf493f7",
   "metadata": {},
   "source": [
    "## np.random.random()\n",
    "\n",
    "https://numpy.org/doc/stable/reference/random/generated/numpy.random.random.html"
   ]
  },
  {
   "cell_type": "code",
   "execution_count": 150,
   "id": "96084f1a",
   "metadata": {},
   "outputs": [
    {
     "name": "stdout",
     "output_type": "stream",
     "text": [
      "[0.29395883 0.8174869  0.12543538 0.00126659]\n",
      "\n",
      "----------------------------------------------------------------------------------------------------\n",
      "\n",
      "[7.76759778 8.52595815 7.08310934 7.35787729 6.79877535]\n"
     ]
    }
   ],
   "source": [
    "# Retorna valores aleatórios entre 0 e 1\n",
    "a = np.random.random(4)\n",
    "print(a)\n",
    "\n",
    "separador()\n",
    "\n",
    "b = np.random.random(5)*10\n",
    "print(b)"
   ]
  },
  {
   "cell_type": "markdown",
   "id": "01998fc3",
   "metadata": {},
   "source": [
    "## np.random.rand()\n",
    "\n",
    "https://numpy.org/doc/stable/reference/random/generated/numpy.random.rand.html"
   ]
  },
  {
   "cell_type": "code",
   "execution_count": 151,
   "id": "0c49f65c",
   "metadata": {},
   "outputs": [
    {
     "name": "stdout",
     "output_type": "stream",
     "text": [
      "[[0.6942489  0.26005    0.24739903]\n",
      " [0.52214593 0.16166764 0.37574901]\n",
      " [0.17244657 0.75164602 0.26011379]]\n"
     ]
    }
   ],
   "source": [
    "c = np.random.rand(3,3)\n",
    "print(c)"
   ]
  },
  {
   "cell_type": "markdown",
   "id": "9835ab4e",
   "metadata": {},
   "source": [
    "## np.random.randint\n",
    "\n",
    "https://numpy.org/doc/stable/reference/random/generated/numpy.random.randint.html"
   ]
  },
  {
   "cell_type": "code",
   "execution_count": 152,
   "id": "3efa1c24",
   "metadata": {
    "scrolled": true
   },
   "outputs": [
    {
     "name": "stdout",
     "output_type": "stream",
     "text": [
      "[[5 1 7 4 9]\n",
      " [7 0 5 4 3]\n",
      " [7 6 8 4 8]\n",
      " [2 8 9 9 6]\n",
      " [7 6 2 7 8]]\n"
     ]
    }
   ],
   "source": [
    "# Retorna valores aleatórios e inteiros\n",
    "valores_aleatorios = np.random.randint(10, size = (5,5))\n",
    "\n",
    "print(valores_aleatorios)"
   ]
  },
  {
   "cell_type": "code",
   "execution_count": 153,
   "id": "95b220ff",
   "metadata": {},
   "outputs": [
    {
     "name": "stdout",
     "output_type": "stream",
     "text": [
      "[ 5  9  6  9  5  3  6 10  1 10  6  2  1  5  4  9  5  6  9 10]\n"
     ]
    }
   ],
   "source": [
    "# Número mínimo, número máximo -1, quantidade de itens\n",
    "a = np.random.randint(1, 11, 20)\n",
    "\n",
    "print(a)"
   ]
  },
  {
   "cell_type": "markdown",
   "id": "1a48fff9",
   "metadata": {},
   "source": [
    "## np.random.randn\n",
    "\n",
    "https://numpy.org/doc/stable/reference/random/generated/numpy.random.randn.html"
   ]
  },
  {
   "cell_type": "code",
   "execution_count": 154,
   "id": "54fca863",
   "metadata": {},
   "outputs": [],
   "source": [
    "# Array com números aleatórios (Distribuição Normal - Gaussiana)\n",
    "# Média de 0 e desvio padrão de 1\n",
    "y = np.random.randn(1000000)*100\n",
    "\n",
    "# print(y)"
   ]
  },
  {
   "cell_type": "code",
   "execution_count": 155,
   "id": "3465d6fb",
   "metadata": {},
   "outputs": [
    {
     "data": {
      "image/png": "[encoded data removed]",
      "text/plain": [
       "<Figure size 432x288 with 1 Axes>"
      ]
     },
     "metadata": {},
     "output_type": "display_data"
    }
   ],
   "source": [
    "figura = sns.histplot(data = y, binwidth= 1)\n",
    "plt.show(figura)"
   ]
  },
  {
   "cell_type": "markdown",
   "id": "1ddd920f",
   "metadata": {},
   "source": [
    "## np.random.seed()\n",
    "\n",
    "https://numpy.org/doc/stable/reference/random/generated/numpy.random.seed.html"
   ]
  },
  {
   "cell_type": "code",
   "execution_count": 156,
   "id": "2f2a21f3",
   "metadata": {},
   "outputs": [
    {
     "data": {
      "text/plain": [
       "array([[10, 24,  3],\n",
       "       [24,  8,  0],\n",
       "       [21, 19, 10]])"
      ]
     },
     "execution_count": 156,
     "metadata": {},
     "output_type": "execute_result"
    }
   ],
   "source": [
    "# Pseudo números aleatórios\n",
    "np.random.seed(3) \n",
    "\n",
    "# colocando o seed eu consigo compartilhar meu notebook que os valores aleatórios de quem for testar serão os mesmos\n",
    "np.random.randint(25, size=(3, 3))"
   ]
  },
  {
   "cell_type": "markdown",
   "id": "7654dbc8",
   "metadata": {},
   "source": [
    "## .sort\n",
    "\n",
    "https://numpy.org/doc/stable/reference/generated/numpy.sort.html"
   ]
  },
  {
   "cell_type": "code",
   "execution_count": 157,
   "id": "8e45dae8",
   "metadata": {},
   "outputs": [
    {
     "data": {
      "text/plain": [
       "array([[1, 4, 5, 7, 9],\n",
       "       [0, 3, 4, 5, 7],\n",
       "       [4, 6, 7, 8, 8],\n",
       "       [2, 6, 8, 9, 9],\n",
       "       [2, 6, 7, 7, 8]])"
      ]
     },
     "execution_count": 157,
     "metadata": {},
     "output_type": "execute_result"
    }
   ],
   "source": [
    "# Coloca os valores em ordem crescente\n",
    "np.sort(valores_aleatorios)"
   ]
  },
  {
   "cell_type": "code",
   "execution_count": 158,
   "id": "b2385c95",
   "metadata": {
    "scrolled": true
   },
   "outputs": [
    {
     "data": {
      "text/plain": [
       "array([[4, 2, 2, 3, 6, 1],\n",
       "       [5, 5, 6, 1, 3, 2],\n",
       "       [3, 3, 3, 5, 2, 4],\n",
       "       [3, 6, 1, 2, 6, 3],\n",
       "       [1, 4, 1, 4, 2, 4],\n",
       "       [1, 6, 5, 2, 6, 5]])"
      ]
     },
     "execution_count": 158,
     "metadata": {},
     "output_type": "execute_result"
    }
   ],
   "source": [
    "x = np.random.randint(low = 1, high = 7, size = (6,6))\n",
    "x"
   ]
  },
  {
   "cell_type": "markdown",
   "id": "92618929",
   "metadata": {},
   "source": [
    "## .max()\n",
    "\n",
    "https://numpy.org/doc/stable/reference/generated/numpy.ndarray.max.html"
   ]
  },
  {
   "cell_type": "code",
   "execution_count": 159,
   "id": "68444fa5",
   "metadata": {},
   "outputs": [
    {
     "name": "stdout",
     "output_type": "stream",
     "text": [
      "[[ 8  7  1  1 10]\n",
      " [ 3  5  6  9  9]\n",
      " [ 8  6  2  2  2]\n",
      " [ 6  6  8  5  4]\n",
      " [ 1  1  1  1  3]]\n",
      "O maior número é: 10\n",
      "Está localizado na posição: 4\n"
     ]
    }
   ],
   "source": [
    "x = np.random.randint(low = 1, high = 11, size = (5,5))\n",
    "\n",
    "print(x)\n",
    "\n",
    "# Para pegar o maior número dentro de um Array\n",
    "print(f'O maior número é: {x.max()}\\nEstá localizado na posição: {x.argmax()}')"
   ]
  },
  {
   "cell_type": "markdown",
   "id": "a4d063ba",
   "metadata": {},
   "source": [
    "## .min()\n",
    "\n",
    "https://numpy.org/doc/stable/reference/generated/numpy.ndarray.min.html"
   ]
  },
  {
   "cell_type": "code",
   "execution_count": 160,
   "id": "0454eb18",
   "metadata": {},
   "outputs": [
    {
     "name": "stdout",
     "output_type": "stream",
     "text": [
      "[[ 3  8  1  6  1]\n",
      " [ 2  5  2  3  3]\n",
      " [ 5  9  1  7  1]\n",
      " [ 5  2  6  2  9]\n",
      " [ 9  8  1  1 10]]\n",
      "O maior número é: 1\n",
      "Está localizado na posição: 2\n"
     ]
    }
   ],
   "source": [
    "x = np.random.randint(low = 1, high = 11, size = (5,5))\n",
    "\n",
    "print(x)\n",
    "\n",
    "# Para pegar o maior número dentro de um Array\n",
    "print(f'O maior número é: {x.min()}\\nEstá localizado na posição: {x.argmin()}')"
   ]
  },
  {
   "cell_type": "markdown",
   "id": "8ad0e934",
   "metadata": {},
   "source": [
    "## np.concatenate (.append)\n",
    "\n",
    "https://numpy.org/doc/stable/reference/generated/numpy.concatenate.html"
   ]
  },
  {
   "cell_type": "code",
   "execution_count": 161,
   "id": "c667edef",
   "metadata": {},
   "outputs": [
    {
     "name": "stdout",
     "output_type": "stream",
     "text": [
      "[1 2 3 4]\n",
      "\n",
      "----------------------------------------------------------------------------------------------------\n",
      "\n",
      "[ 5  6  9 14 21 30 41]\n"
     ]
    }
   ],
   "source": [
    "a = np.arange(4) + 1\n",
    "print(a)\n",
    "\n",
    "separador()\n",
    "\n",
    "b = np.arange(7)**2 + 5\n",
    "print(b)"
   ]
  },
  {
   "cell_type": "code",
   "execution_count": 162,
   "id": "e15271ac",
   "metadata": {},
   "outputs": [
    {
     "name": "stdout",
     "output_type": "stream",
     "text": [
      "[ 1  2  3  4  5  6  9 14 21 30 41]\n"
     ]
    }
   ],
   "source": [
    "c = np.concatenate((a,b))\n",
    "print(c)"
   ]
  },
  {
   "cell_type": "markdown",
   "id": "c628d075",
   "metadata": {},
   "source": [
    "## Recebendo um valor"
   ]
  },
  {
   "cell_type": "code",
   "execution_count": 163,
   "id": "281c3a8b",
   "metadata": {},
   "outputs": [
    {
     "data": {
      "text/plain": [
       "array([ 1,  2,  3,  4,  5,  6,  7,  8,  9, 10, 11, 12, 13, 14, 15, 16, 17,\n",
       "       18, 19, 20])"
      ]
     },
     "execution_count": 163,
     "metadata": {},
     "output_type": "execute_result"
    }
   ],
   "source": [
    "x = np.arange(1,21)\n",
    "x"
   ]
  },
  {
   "cell_type": "code",
   "execution_count": 164,
   "id": "42a19a43",
   "metadata": {},
   "outputs": [
    {
     "name": "stdout",
     "output_type": "stream",
     "text": [
      "[ 1  2  3  4  5  6  7  8  9 10]\n",
      "[ 1  2  3  4  5  6  7  8  9 10 11 12 13 14 15 16 17 18 19 20]\n"
     ]
    }
   ],
   "source": [
    "y = x[:10]\n",
    "print(y)\n",
    "print(x)"
   ]
  },
  {
   "cell_type": "markdown",
   "id": "08d0503b",
   "metadata": {},
   "source": [
    "## Probabilidade das moedas"
   ]
  },
  {
   "cell_type": "code",
   "execution_count": 69,
   "id": "c214b821",
   "metadata": {},
   "outputs": [
    {
     "name": "stdout",
     "output_type": "stream",
     "text": [
      "0.22 segundos\n"
     ]
    }
   ],
   "source": [
    "amostras = 10000 # Número de vezes que o experimento será realizado\n",
    "jogadas_moeda = 100 # Número de vezes que a moeda será jogada\n",
    "\n",
    "lista = []\n",
    "\n",
    "tempo_inicial = time.time()\n",
    "\n",
    "#==========================================================\n",
    "\n",
    "for a in range(amostras):\n",
    "    \n",
    "    contador = 0\n",
    "    \n",
    "    for b in range(jogadas_moeda):\n",
    "        \n",
    "        valor_aleatorio = np.random.randint(2)\n",
    "        \n",
    "        if valor_aleatorio == 1:\n",
    "            contador = contador + 1\n",
    "            \n",
    "    lista.append(contador)\n",
    "\n",
    "#==========================================================            \n",
    "\n",
    "tempo_total = time.time() - tempo_inicial\n",
    "\n",
    "print(f'{tempo_total:.2f} segundos')\n",
    "\n",
    "# print(lista)"
   ]
  },
  {
   "cell_type": "markdown",
   "id": "be301f38",
   "metadata": {},
   "source": [
    "# PROBABILIDADE DAS AMOSTRAS"
   ]
  },
  {
   "cell_type": "code",
   "execution_count": 7,
   "id": "30d83053",
   "metadata": {},
   "outputs": [
    {
     "name": "stdout",
     "output_type": "stream",
     "text": [
      "1 jogadas: 0.000%\n",
      "\n",
      "2 jogadas: 3.770%\n",
      "\n",
      "3 jogadas: 10.480%\n",
      "\n",
      "4 jogadas: 18.070%\n",
      "\n",
      "5 jogadas: 26.450%\n",
      "\n",
      "6 jogadas: 34.800%\n",
      "\n",
      "7 jogadas: 41.670%\n",
      "\n",
      "8 jogadas: 50.140%\n",
      "\n",
      "9 jogadas: 56.910%\n",
      "\n",
      "10 jogadas: 62.880%\n",
      "\n",
      "1.28 segundos\n"
     ]
    }
   ],
   "source": [
    "amostras = 10000 # Número de vezes que o experimento será realizado\n",
    "n_elementos = 5 # Quantidade de elementos, exemplo: 1 moeda (2 elementos), 1 dado (6 elementos)\n",
    "\n",
    "n_jogadas = np.arange(1,11,1) # Número de vezes que a moeda será jogada\n",
    "n_vezes = 2 # Quantidade de elementos daquele que quero em minhas amostra: 1 em 20, 2 em 20,...\n",
    "\n",
    "tempo_inicial = time.time()\n",
    "\n",
    "#==========================================================\n",
    "\n",
    "for linha in n_jogadas:\n",
    "    \n",
    "    lista = []\n",
    "\n",
    "    for a in range(amostras):\n",
    "\n",
    "        contador = 0\n",
    "        ctd = 0\n",
    "\n",
    "        for b in range(linha):\n",
    "\n",
    "            valor_aleatorio = np.random.randint(n_elementos)\n",
    "\n",
    "            if valor_aleatorio == 0:\n",
    "                ctd = ctd + 1\n",
    "\n",
    "            if ctd == n_vezes:\n",
    "                contador = contador + 1\n",
    "\n",
    "        lista.append(contador)\n",
    "\n",
    "    #==========================================================            \n",
    "\n",
    "    tamanho = 1\n",
    "    nome_coluna = 'valores'\n",
    "\n",
    "    dados = {'valores': lista}\n",
    "    tabela = pd.DataFrame(dados)\n",
    "\n",
    "    #========================================================================================\n",
    "\n",
    "    tamanho_total = tabela[nome_coluna].size # Tanto faz a coluna\n",
    "\n",
    "    df_auxiliar = tabela.copy()\n",
    "\n",
    "    df_auxiliar = df_auxiliar[df_auxiliar[nome_coluna] < tamanho]\n",
    "\n",
    "    tamanho_especifico = df_auxiliar[nome_coluna].size\n",
    "\n",
    "    percentual = (tamanho_especifico/tamanho_total)*100\n",
    "\n",
    "    #========================================================================================\n",
    "\n",
    "    print(f'{linha} jogadas: {(100 - percentual):.3f}%')\n",
    "    print('')\n",
    "\n",
    "#==========================================================\n",
    "\n",
    "tempo_total = time.time() - tempo_inicial\n",
    "\n",
    "print(f'{tempo_total:.2f} segundos')"
   ]
  },
  {
   "cell_type": "markdown",
   "id": "ec870e81",
   "metadata": {},
   "source": [
    "### Dados estatísticos"
   ]
  },
  {
   "cell_type": "code",
   "execution_count": 3,
   "id": "55e19a4f",
   "metadata": {},
   "outputs": [
    {
     "name": "stdout",
     "output_type": "stream",
     "text": [
      "Valores maiores ou iguais a 1: 62.040%\n",
      "\n",
      "Valores menores do que 1: 37.960%\n"
     ]
    }
   ],
   "source": [
    "tamanho = 1\n",
    "nome_coluna = 'valores'\n",
    "\n",
    "#========================================================================================\n",
    "\n",
    "dados = {'valores': lista}\n",
    "tabela = pd.DataFrame(dados)\n",
    "\n",
    "#========================================================================================\n",
    "\n",
    "tamanho_total = tabela[nome_coluna].size # Tanto faz a coluna\n",
    "\n",
    "df_auxiliar = tabela.copy()\n",
    "\n",
    "df_auxiliar = df_auxiliar[df_auxiliar[nome_coluna] < tamanho]\n",
    "\n",
    "tamanho_especifico = df_auxiliar[nome_coluna].size\n",
    "\n",
    "percentual = (tamanho_especifico/tamanho_total)*100\n",
    "\n",
    "#========================================================================================\n",
    "\n",
    "print(f'Valores maiores ou iguais a {tamanho}: {(100 - percentual):.3f}%')\n",
    "print('')\n",
    "print(f'Valores menores do que {tamanho}: {percentual:.3f}%')"
   ]
  },
  {
   "cell_type": "markdown",
   "id": "ed3aed97",
   "metadata": {},
   "source": [
    "### Histograma"
   ]
  },
  {
   "cell_type": "code",
   "execution_count": 186,
   "id": "f1a39fe8",
   "metadata": {},
   "outputs": [
    {
     "data": {
      "image/png": "[encoded data removed]",
      "text/plain": [
       "<Figure size 432x288 with 1 Axes>"
      ]
     },
     "metadata": {},
     "output_type": "display_data"
    }
   ],
   "source": [
    "figura = sns.histplot(data = lista, binwidth= 1)\n",
    "plt.show(figura)"
   ]
  },
  {
   "cell_type": "markdown",
   "id": "72ce9fb3",
   "metadata": {},
   "source": [
    "### Gráfico de caixa (BoxPlot)"
   ]
  },
  {
   "cell_type": "code",
   "execution_count": 25,
   "id": "81bae7e5",
   "metadata": {},
   "outputs": [
    {
     "data": {
      "image/png": "[encoded data removed]",
      "text/plain": [
       "<Figure size 432x360 with 1 Axes>"
      ]
     },
     "metadata": {},
     "output_type": "display_data"
    }
   ],
   "source": [
    "ax = tabela.plot.box(figsize=(6, 5))"
   ]
  },
  {
   "cell_type": "markdown",
   "id": "f1f36f2c",
   "metadata": {},
   "source": [
    "## O caminhar do bêbado"
   ]
  },
  {
   "cell_type": "code",
   "execution_count": 72,
   "id": "fa5786ba",
   "metadata": {},
   "outputs": [
    {
     "data": {
      "text/plain": [
       "<AxesSubplot:xlabel='x', ylabel='y'>"
      ]
     },
     "execution_count": 72,
     "metadata": {},
     "output_type": "execute_result"
    },
    {
     "data": {
      "image/png": "[encoded data removed]",
      "text/plain": [
       "<Figure size 432x288 with 1 Axes>"
      ]
     },
     "metadata": {},
     "output_type": "display_data"
    }
   ],
   "source": [
    "contador = 0\n",
    "\n",
    "lista_x = []\n",
    "lista_y = []\n",
    "\n",
    "for linha in range(100):\n",
    "    \n",
    "    valor = np.random.randint(16)\n",
    "    \n",
    "    if valor == 0:\n",
    "        contador = contador - 365\n",
    "        lista_y.append(contador)\n",
    "            \n",
    "#     if valor == 1:\n",
    "    else:\n",
    "        contador = contador + 85\n",
    "        lista_y.append(contador)\n",
    "\n",
    "    lista_x.append(linha + 1)\n",
    "    \n",
    "#==========================================================\n",
    "    \n",
    "dados = {'x': lista_x, 'y': lista_y}\n",
    "tabela = pd.DataFrame(dados)\n",
    "# display(tabela)\n",
    "\n",
    "#==========================================================\n",
    "\n",
    "sns.lineplot(x = \"x\", y = \"y\", data = tabela)"
   ]
  },
  {
   "cell_type": "markdown",
   "id": "8b549252",
   "metadata": {},
   "source": [
    "## Comparação do tempo Python x Numpy"
   ]
  },
  {
   "cell_type": "code",
   "execution_count": 172,
   "id": "5da16316",
   "metadata": {},
   "outputs": [
    {
     "name": "stdout",
     "output_type": "stream",
     "text": [
      "[0, 1, 2, 3, 4, 5, 6, 7, 8, 9]\n",
      "\n",
      "----------------------------------------------------------------------------------------------------\n",
      "\n",
      "[9999990, 9999991, 9999992, 9999993, 9999994, 9999995, 9999996, 9999997, 9999998, 9999999]\n"
     ]
    }
   ],
   "source": [
    "tamanho = 10000000\n",
    "\n",
    "lista = [x for x in range(tamanho)]\n",
    "\n",
    "print(lista[:10])\n",
    "separador()\n",
    "print(lista[-10:])"
   ]
  },
  {
   "cell_type": "markdown",
   "id": "5c50bd23",
   "metadata": {},
   "source": [
    "### Python"
   ]
  },
  {
   "cell_type": "code",
   "execution_count": 173,
   "id": "d756deaf",
   "metadata": {},
   "outputs": [
    {
     "name": "stdout",
     "output_type": "stream",
     "text": [
      "[0, 99, 198, 297, 396, 495, 594, 693, 792, 891]\n",
      "\n",
      "----------------------------------------------------------------------------------------------------\n",
      "\n",
      "[989999010, 989999109, 989999208, 989999307, 989999406, 989999505, 989999604, 989999703, 989999802, 989999901]\n",
      "\n",
      "----------------------------------------------------------------------------------------------------\n",
      "\n",
      "0.7219321727752686\n"
     ]
    }
   ],
   "source": [
    "tempo_inicial_python = time.time()\n",
    "\n",
    "lista_python_mult = [x * 99 for x in lista]\n",
    "\n",
    "print(lista_python_mult[:10])\n",
    "separador()\n",
    "print(lista_python_mult[-10:])\n",
    "separador()\n",
    "\n",
    "tempo_final_python = time.time() - tempo_inicial_python\n",
    "print(tempo_final_python)"
   ]
  },
  {
   "cell_type": "markdown",
   "id": "9aa0e7c2",
   "metadata": {},
   "source": [
    "### Numpy"
   ]
  },
  {
   "cell_type": "code",
   "execution_count": 174,
   "id": "b54ebbd5",
   "metadata": {},
   "outputs": [
    {
     "name": "stdout",
     "output_type": "stream",
     "text": [
      "[0 1 2 3 4 5 6 7 8 9]\n",
      "\n",
      "----------------------------------------------------------------------------------------------------\n",
      "\n",
      "[9999990 9999991 9999992 9999993 9999994 9999995 9999996 9999997 9999998\n",
      " 9999999]\n"
     ]
    }
   ],
   "source": [
    "vetor_numpy = np.array(lista)\n",
    "\n",
    "print(vetor_numpy[:10])\n",
    "separador()\n",
    "print(vetor_numpy[-10:])"
   ]
  },
  {
   "cell_type": "code",
   "execution_count": 175,
   "id": "b60871aa",
   "metadata": {},
   "outputs": [
    {
     "name": "stdout",
     "output_type": "stream",
     "text": [
      "[  0  99 198 297 396 495 594 693 792 891]\n",
      "\n",
      "----------------------------------------------------------------------------------------------------\n",
      "\n",
      "[989999010 989999109 989999208 989999307 989999406 989999505 989999604\n",
      " 989999703 989999802 989999901]\n",
      "\n",
      "----------------------------------------------------------------------------------------------------\n",
      "\n",
      "0.014920473098754883\n"
     ]
    }
   ],
   "source": [
    "tempo_inicial_numpy = time.time()\n",
    "\n",
    "lista_numpy_mult = vetor_numpy * 99\n",
    "\n",
    "print(lista_numpy_mult[:10])\n",
    "separador()\n",
    "print(lista_numpy_mult[-10:])\n",
    "separador()\n",
    "\n",
    "tempo_final_numpy = time.time() - tempo_inicial_numpy\n",
    "print(tempo_final_numpy)"
   ]
  },
  {
   "cell_type": "markdown",
   "id": "371ba52f",
   "metadata": {},
   "source": [
    "### Comparação final"
   ]
  },
  {
   "cell_type": "code",
   "execution_count": 176,
   "id": "cf82dc32",
   "metadata": {},
   "outputs": [
    {
     "name": "stdout",
     "output_type": "stream",
     "text": [
      "Com o numpy, o tempo é 48.39x mais rápido\n"
     ]
    }
   ],
   "source": [
    "print(f'Com o numpy, o tempo é {(tempo_final_python/tempo_final_numpy):.2f}x mais rápido')"
   ]
  },
  {
   "cell_type": "markdown",
   "id": "ec9ba64c",
   "metadata": {},
   "source": [
    "## Álgebra linear"
   ]
  },
  {
   "cell_type": "markdown",
   "id": "0fab2ed2",
   "metadata": {},
   "source": [
    "### Solução de sistemas lineares"
   ]
  },
  {
   "cell_type": "code",
   "execution_count": 177,
   "id": "f1bc0fae",
   "metadata": {},
   "outputs": [
    {
     "name": "stdout",
     "output_type": "stream",
     "text": [
      "[[10 20]\n",
      " [30 40]]\n",
      "\n",
      "----------------------------------------------------------------------------------------------------\n",
      "\n",
      "[ 5 10]\n"
     ]
    }
   ],
   "source": [
    "# Ax = b\n",
    "\n",
    "A = np.array([10, 20, 30, 40]).reshape(2,2)\n",
    "b = np.array([5,10])\n",
    "\n",
    "print(A)\n",
    "separador()\n",
    "print(b)"
   ]
  },
  {
   "cell_type": "code",
   "execution_count": 178,
   "id": "216c532e",
   "metadata": {},
   "outputs": [
    {
     "name": "stdout",
     "output_type": "stream",
     "text": [
      "[0.   0.25]\n"
     ]
    }
   ],
   "source": [
    "x = np.linalg.solve(A, b)\n",
    "print(x)"
   ]
  },
  {
   "cell_type": "markdown",
   "id": "8f643530",
   "metadata": {},
   "source": [
    "### Matriz inversa"
   ]
  },
  {
   "cell_type": "code",
   "execution_count": 179,
   "id": "5a3e12f7",
   "metadata": {},
   "outputs": [
    {
     "name": "stdout",
     "output_type": "stream",
     "text": [
      "[[10 20]\n",
      " [30 40]]\n",
      "\n",
      "----------------------------------------------------------------------------------------------------\n",
      "\n",
      "[[-0.2   0.1 ]\n",
      " [ 0.15 -0.05]]\n"
     ]
    }
   ],
   "source": [
    "A = np.array([10, 20, 30, 40]).reshape(2,2)\n",
    "inv_A = np.linalg.inv(A)\n",
    "\n",
    "print(A)\n",
    "separador()\n",
    "print(inv_A)"
   ]
  },
  {
   "cell_type": "markdown",
   "id": "ef13945c",
   "metadata": {},
   "source": [
    "### Determinante"
   ]
  },
  {
   "cell_type": "code",
   "execution_count": 180,
   "id": "dc2f0a0f",
   "metadata": {},
   "outputs": [
    {
     "name": "stdout",
     "output_type": "stream",
     "text": [
      "Determinante de A = -200.00\n"
     ]
    }
   ],
   "source": [
    "det_A = np.linalg.det(A)\n",
    "print(\"Determinante de A = %.2f\" % det_A)"
   ]
  },
  {
   "cell_type": "markdown",
   "id": "0fda4b04",
   "metadata": {},
   "source": [
    "## Utilizando Numpy no lugar de lista"
   ]
  },
  {
   "cell_type": "markdown",
   "id": "4c86230e",
   "metadata": {},
   "source": [
    "### 1º forma"
   ]
  },
  {
   "cell_type": "code",
   "execution_count": 181,
   "id": "a48cfd92",
   "metadata": {},
   "outputs": [
    {
     "name": "stdout",
     "output_type": "stream",
     "text": [
      "[5]\n"
     ]
    }
   ],
   "source": [
    "a = np.array(5)\n",
    "\n",
    "a = np.ravel(a, order='C') # Torna o sistema em uma dimensão\n",
    "\n",
    "print(a)"
   ]
  },
  {
   "cell_type": "code",
   "execution_count": 182,
   "id": "6c492713",
   "metadata": {},
   "outputs": [
    {
     "name": "stdout",
     "output_type": "stream",
     "text": [
      "[18]\n"
     ]
    }
   ],
   "source": [
    "b = np.array(18)\n",
    "\n",
    "b = np.ravel(b, order='C') # Torna o sistema em uma dimensão\n",
    "\n",
    "print(b)"
   ]
  },
  {
   "cell_type": "code",
   "execution_count": 183,
   "id": "5ddd7ba4",
   "metadata": {},
   "outputs": [
    {
     "name": "stdout",
     "output_type": "stream",
     "text": [
      "[ 5 18]\n"
     ]
    }
   ],
   "source": [
    "a = np.concatenate((a,b))\n",
    "\n",
    "print(a)"
   ]
  },
  {
   "cell_type": "markdown",
   "id": "9a5d384b",
   "metadata": {},
   "source": [
    "### 2º forma"
   ]
  },
  {
   "cell_type": "code",
   "execution_count": 184,
   "id": "2e8d20ac",
   "metadata": {},
   "outputs": [
    {
     "name": "stdout",
     "output_type": "stream",
     "text": [
      "[5]\n"
     ]
    }
   ],
   "source": [
    "a = np.array([5])\n",
    "\n",
    "print(a)"
   ]
  },
  {
   "cell_type": "code",
   "execution_count": 185,
   "id": "4efce160",
   "metadata": {},
   "outputs": [
    {
     "name": "stdout",
     "output_type": "stream",
     "text": [
      "[18]\n"
     ]
    }
   ],
   "source": [
    "b = np.array([18])\n",
    "\n",
    "print(b)"
   ]
  },
  {
   "cell_type": "code",
   "execution_count": 186,
   "id": "21ba014b",
   "metadata": {},
   "outputs": [
    {
     "name": "stdout",
     "output_type": "stream",
     "text": [
      "[ 5 18]\n"
     ]
    }
   ],
   "source": [
    "a = np.concatenate((a,b))\n",
    "\n",
    "print(a)"
   ]
  },
  {
   "cell_type": "code",
   "execution_count": 187,
   "id": "859473b4",
   "metadata": {},
   "outputs": [
    {
     "data": {
      "text/html": [
       "<div>\n",
       "<style scoped>\n",
       "    .dataframe tbody tr th:only-of-type {\n",
       "        vertical-align: middle;\n",
       "    }\n",
       "\n",
       "    .dataframe tbody tr th {\n",
       "        vertical-align: top;\n",
       "    }\n",
       "\n",
       "    .dataframe thead th {\n",
       "        text-align: right;\n",
       "    }\n",
       "</style>\n",
       "<table border=\"1\" class=\"dataframe\">\n",
       "  <thead>\n",
       "    <tr style=\"text-align: right;\">\n",
       "      <th></th>\n",
       "      <th>valores</th>\n",
       "    </tr>\n",
       "  </thead>\n",
       "  <tbody>\n",
       "    <tr>\n",
       "      <th>0</th>\n",
       "      <td>5</td>\n",
       "    </tr>\n",
       "    <tr>\n",
       "      <th>1</th>\n",
       "      <td>18</td>\n",
       "    </tr>\n",
       "  </tbody>\n",
       "</table>\n",
       "</div>"
      ],
      "text/plain": [
       "   valores\n",
       "0        5\n",
       "1       18"
      ]
     },
     "metadata": {},
     "output_type": "display_data"
    }
   ],
   "source": [
    "dados = {'valores': a}\n",
    "\n",
    "df = pd.DataFrame(dados)\n",
    "\n",
    "display(df)"
   ]
  },
  {
   "cell_type": "code",
   "execution_count": null,
   "id": "dbd24f72",
   "metadata": {},
   "outputs": [],
   "source": []
  },
  {
   "cell_type": "code",
   "execution_count": 190,
   "id": "83096945",
   "metadata": {},
   "outputs": [
    {
     "name": "stdout",
     "output_type": "stream",
     "text": [
      "2.14 segundos\n"
     ]
    }
   ],
   "source": [
    "amostras = 10000 # Número de vezes que o experimento será realizado\n",
    "jogadas_moeda = 100 # Número de vezes que a moeda será jogada\n",
    "\n",
    "lista = []\n",
    "\n",
    "tempo_inicial = time.time()\n",
    "\n",
    "#==========================================================\n",
    "\n",
    "for a in range(amostras):\n",
    "    \n",
    "    contador = 0\n",
    "    \n",
    "    for b in range(jogadas_moeda):\n",
    "        \n",
    "        valor_aleatorio = np.random.randint(2)\n",
    "        \n",
    "        if valor_aleatorio == 1:\n",
    "            contador = contador + 1\n",
    "            \n",
    "    lista.append(contador)\n",
    "\n",
    "#==========================================================            \n",
    "\n",
    "tempo_total = time.time() - tempo_inicial\n",
    "\n",
    "print(f'{tempo_total:.2f} segundos')\n",
    "\n",
    "# print(lista)"
   ]
  },
  {
   "cell_type": "code",
   "execution_count": 191,
   "id": "a57ebda7",
   "metadata": {},
   "outputs": [
    {
     "name": "stdout",
     "output_type": "stream",
     "text": [
      "2.79 segundos\n"
     ]
    }
   ],
   "source": [
    "amostras = 10000 # Número de vezes que o experimento será realizado\n",
    "jogadas_moeda = 100 # Número de vezes que a moeda será jogada\n",
    "\n",
    "lista = np.array([])\n",
    "\n",
    "tempo_inicial = time.time()\n",
    "\n",
    "#==========================================================\n",
    "\n",
    "for a in range(amostras):\n",
    "    \n",
    "    contador = 0\n",
    "    \n",
    "    for b in range(jogadas_moeda):\n",
    "        \n",
    "        valor_aleatorio = np.random.randint(2)\n",
    "        \n",
    "        if valor_aleatorio == 1:\n",
    "            contador = contador + 1\n",
    "            \n",
    "    lista = np.concatenate((lista,[contador]))\n",
    "\n",
    "#==========================================================            \n",
    "\n",
    "tempo_total = time.time() - tempo_inicial\n",
    "\n",
    "print(f'{tempo_total:.2f} segundos')\n",
    "\n",
    "# print(lista)"
   ]
  },
  {
   "cell_type": "code",
   "execution_count": null,
   "id": "19e14b41",
   "metadata": {},
   "outputs": [],
   "source": []
  },
  {
   "cell_type": "code",
   "execution_count": null,
   "id": "ac38ebaf",
   "metadata": {},
   "outputs": [],
   "source": []
  },
  {
   "cell_type": "code",
   "execution_count": null,
   "id": "c18b1a3c",
   "metadata": {},
   "outputs": [],
   "source": []
  },
  {
   "cell_type": "code",
   "execution_count": null,
   "id": "d5362b5b",
   "metadata": {},
   "outputs": [],
   "source": []
  }
 ],
 "metadata": {
  "kernelspec": {
   "display_name": "Python 3 (ipykernel)",
   "language": "python",
   "name": "python3"
  },
  "language_info": {
   "codemirror_mode": {
    "name": "ipython",
    "version": 3
   },
   "file_extension": ".py",
   "mimetype": "text/x-python",
   "name": "python",
   "nbconvert_exporter": "python",
   "pygments_lexer": "ipython3",
   "version": "3.11.7"
  }
 },
 "nbformat": 4,
 "nbformat_minor": 5
}
