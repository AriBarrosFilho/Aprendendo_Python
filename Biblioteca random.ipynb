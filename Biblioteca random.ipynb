{
 "cells": [
  {
   "cell_type": "markdown",
   "metadata": {},
   "source": [
    "[random — Gera números pseudoaleatórios](https://docs.python.org/pt-br/3/library/random.html)"
   ]
  },
  {
   "cell_type": "code",
   "execution_count": null,
   "metadata": {},
   "outputs": [],
   "source": [
    "import random\n",
    "\n",
    "# Gera um número aleatório entre 0 e 1\n",
    "random_float = random.random()\n",
    "print(f\"random.random(): {random_float} - Gera um número de ponto flutuante aleatório entre 0 e 1\")\n",
    "\n",
    "# Gera um número inteiro aleatório entre dois valores especificados (inclusive)\n",
    "random_int = random.randint(1, 10)\n",
    "print(f\"random.randint(1, 10): {random_int} - Gera um número inteiro aleatório entre 1 e 10 (inclusive)\")\n",
    "\n",
    "# Gera um número inteiro aleatório entre dois valores especificados (exclusive do limite superior)\n",
    "random_range = random.randrange(1, 10)\n",
    "print(f\"random.randrange(1, 10): {random_range} - Gera um número inteiro aleatório entre 1 e 9 (exclusive do limite superior)\")\n",
    "\n",
    "# Escolhe um elemento aleatório de uma lista\n",
    "random_choice = random.choice(['maçã', 'banana', 'laranja'])\n",
    "print(f\"random.choice(['maçã', 'banana', 'laranja']): {random_choice} - Escolhe um elemento aleatório de uma lista\")\n",
    "\n",
    "# Embaralha os elementos de uma lista\n",
    "frutas = ['maçã', 'banana', 'laranja']\n",
    "random.shuffle(frutas)\n",
    "print(f\"random.shuffle(['maçã', 'banana', 'laranja']): {frutas} - Embaralha os elementos de uma lista\")\n",
    "\n",
    "# Gera uma amostra aleatória de elementos de uma lista\n",
    "random_sample = random.sample(['maçã', 'banana', 'laranja', 'uva', 'pera'], 3)\n",
    "print(f\"random.sample(['maçã', 'banana', 'laranja', 'uva', 'pera'], 3): {random_sample} - Gera uma amostra aleatória de 3 elementos de uma lista\")\n",
    "\n",
    "# Gera um número de ponto flutuante aleatório entre dois valores especificados\n",
    "random_uniform = random.uniform(1.5, 5.5)\n",
    "print(f\"random.uniform(1.5, 5.5): {random_uniform} - Gera um número de ponto flutuante aleatório entre 1.5 e 5.5\")\n",
    "\n",
    "# Gera um número de ponto flutuante aleatório com distribuição normal\n",
    "random_gauss = random.gauss(0, 1)\n",
    "print(f\"random.gauss(0, 1): {random_gauss} - Gera um número de ponto flutuante aleatório com distribuição normal (média=0, desvio padrão=1)\")\n",
    "\n",
    "# Gera um número de ponto flutuante aleatório com distribuição exponencial\n",
    "random_expovariate = random.expovariate(1/5)\n",
    "print(f\"random.expovariate(1/5): {random_expovariate} - Gera um número de ponto flutuante aleatório com distribuição exponencial (lambda=1/5)\")\n",
    "\n",
    "# Gera um número de ponto flutuante aleatório com distribuição beta\n",
    "random_betavariate = random.betavariate(2, 5)\n",
    "print(f\"random.betavariate(2, 5): {random_betavariate} - Gera um número de ponto flutuante aleatório com distribuição beta (alpha=2, beta=5)\")\n",
    "\n",
    "# Gera um número de ponto flutuante aleatório com distribuição gamma\n",
    "random_gammavariate = random.gammavariate(2, 2)\n",
    "print(f\"random.gammavariate(2, 2): {random_gammavariate} - Gera um número de ponto flutuante aleatório com distribuição gamma (alpha=2, beta=2)\")"
   ]
  },
  {
   "cell_type": "code",
   "execution_count": null,
   "metadata": {},
   "outputs": [],
   "source": []
  }
 ],
 "metadata": {
  "kernelspec": {
   "display_name": "base",
   "language": "python",
   "name": "python3"
  },
  "language_info": {
   "name": "python",
   "version": "3.11.7"
  }
 },
 "nbformat": 4,
 "nbformat_minor": 2
}
