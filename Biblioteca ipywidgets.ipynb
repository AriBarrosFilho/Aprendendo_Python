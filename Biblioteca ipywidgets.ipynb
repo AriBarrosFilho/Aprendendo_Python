{
 "cells": [
  {
   "cell_type": "markdown",
   "metadata": {
    "vscode": {
     "languageId": "plaintext"
    }
   },
   "source": [
    "[Jupyter Widgets](https://ipywidgets.readthedocs.io/en/stable/)"
   ]
  },
  {
   "cell_type": "code",
   "execution_count": 3,
   "metadata": {},
   "outputs": [],
   "source": [
    "import ipywidgets as widgets\n",
    "from IPython.display import display"
   ]
  },
  {
   "cell_type": "code",
   "execution_count": 22,
   "metadata": {},
   "outputs": [
    {
     "data": {
      "application/vnd.jupyter.widget-view+json": {
       "model_id": "c728e9af6d51450e8060d6ea8c129abe",
       "version_major": 2,
       "version_minor": 0
      },
      "text/plain": [
       "IntSlider(value=7, description='Int Slider:', max=10)"
      ]
     },
     "metadata": {},
     "output_type": "display_data"
    }
   ],
   "source": [
    "# Cria um slider de inteiro\n",
    "int_slider = widgets.IntSlider(value=7, min=0, max=10, step=1, description='Int Slider:')\n",
    "display(int_slider)"
   ]
  },
  {
   "cell_type": "code",
   "execution_count": 7,
   "metadata": {},
   "outputs": [
    {
     "name": "stdout",
     "output_type": "stream",
     "text": [
      "4\n"
     ]
    }
   ],
   "source": [
    "print(int_slider.value)"
   ]
  },
  {
   "cell_type": "code",
   "execution_count": 9,
   "metadata": {},
   "outputs": [
    {
     "data": {
      "application/vnd.jupyter.widget-view+json": {
       "model_id": "d9bf2b42b246447fb882cb65e3278b9e",
       "version_major": 2,
       "version_minor": 0
      },
      "text/plain": [
       "FloatSlider(value=1.5, description='Float Slider:', max=10.0)"
      ]
     },
     "metadata": {},
     "output_type": "display_data"
    }
   ],
   "source": [
    "# Cria um slider de float\n",
    "float_slider = widgets.FloatSlider(value=1.5, min=0, max=10, step=0.1, description='Float Slider:')\n",
    "display(float_slider)"
   ]
  },
  {
   "cell_type": "code",
   "execution_count": 11,
   "metadata": {},
   "outputs": [
    {
     "data": {
      "application/vnd.jupyter.widget-view+json": {
       "model_id": "4d511b893dad4635a29b7c75faa15f0e",
       "version_major": 2,
       "version_minor": 0
      },
      "text/plain": [
       "IntRangeSlider(value=(2, 8), description='Range Slider:', max=10)"
      ]
     },
     "metadata": {},
     "output_type": "display_data"
    }
   ],
   "source": [
    "# Cria um seletor de intervalo\n",
    "int_range_slider = widgets.IntRangeSlider(value=[2, 8], min=0, max=10, step=1, description='Range Slider:')\n",
    "display(int_range_slider)"
   ]
  },
  {
   "cell_type": "code",
   "execution_count": 12,
   "metadata": {},
   "outputs": [
    {
     "data": {
      "application/vnd.jupyter.widget-view+json": {
       "model_id": "39a1d113864e4cbc914bc8b2a9a1ab2c",
       "version_major": 2,
       "version_minor": 0
      },
      "text/plain": [
       "Dropdown(description='Dropdown:', options=('Option 1', 'Option 2', 'Option 3'), value='Option 1')"
      ]
     },
     "metadata": {},
     "output_type": "display_data"
    }
   ],
   "source": [
    "# Cria um seletor de dropdown\n",
    "dropdown = widgets.Dropdown(options=['Option 1', 'Option 2', 'Option 3'], value='Option 1', description='Dropdown:')\n",
    "display(dropdown)"
   ]
  },
  {
   "cell_type": "code",
   "execution_count": 14,
   "metadata": {},
   "outputs": [
    {
     "data": {
      "application/vnd.jupyter.widget-view+json": {
       "model_id": "9f038dc0ad4340f193e82aab731c0b0b",
       "version_major": 2,
       "version_minor": 0
      },
      "text/plain": [
       "Button(description='Click Me!', style=ButtonStyle())"
      ]
     },
     "metadata": {},
     "output_type": "display_data"
    },
    {
     "name": "stdout",
     "output_type": "stream",
     "text": [
      "Button clicked!\n"
     ]
    }
   ],
   "source": [
    "# Cria um botão\n",
    "button = widgets.Button(description='Click Me!')\n",
    "display(button)\n",
    "\n",
    "# Adiciona uma função de callback ao botão\n",
    "def on_button_click(b):\n",
    "    print(\"Button clicked!\")\n",
    "\n",
    "button.on_click(on_button_click)"
   ]
  },
  {
   "cell_type": "code",
   "execution_count": 15,
   "metadata": {},
   "outputs": [
    {
     "data": {
      "application/vnd.jupyter.widget-view+json": {
       "model_id": "ed605676303c4a27a802357a1ffdfd19",
       "version_major": 2,
       "version_minor": 0
      },
      "text/plain": [
       "Text(value='Hello World', description='Text:')"
      ]
     },
     "metadata": {},
     "output_type": "display_data"
    }
   ],
   "source": [
    "# Cria uma caixa de texto\n",
    "text = widgets.Text(value='Hello World', description='Text:')\n",
    "display(text)"
   ]
  },
  {
   "cell_type": "code",
   "execution_count": 16,
   "metadata": {},
   "outputs": [
    {
     "data": {
      "application/vnd.jupyter.widget-view+json": {
       "model_id": "6b46d477bf0f442388182369bae4762f",
       "version_major": 2,
       "version_minor": 0
      },
      "text/plain": [
       "Checkbox(value=False, description='Check me')"
      ]
     },
     "metadata": {},
     "output_type": "display_data"
    }
   ],
   "source": [
    "# Cria um checkbox\n",
    "checkbox = widgets.Checkbox(value=False, description='Check me')\n",
    "display(checkbox)"
   ]
  },
  {
   "cell_type": "code",
   "execution_count": 17,
   "metadata": {},
   "outputs": [
    {
     "data": {
      "application/vnd.jupyter.widget-view+json": {
       "model_id": "35b5ee189779442294f001d67847262f",
       "version_major": 2,
       "version_minor": 0
      },
      "text/plain": [
       "ColorPicker(value='blue', description='Pick a color:')"
      ]
     },
     "metadata": {},
     "output_type": "display_data"
    }
   ],
   "source": [
    "# Cria um seletor de cores\n",
    "color_picker = widgets.ColorPicker(value='blue', description='Pick a color:')\n",
    "display(color_picker)"
   ]
  },
  {
   "cell_type": "code",
   "execution_count": 18,
   "metadata": {},
   "outputs": [
    {
     "data": {
      "application/vnd.jupyter.widget-view+json": {
       "model_id": "69c08632828c41d48029e33b6df04de1",
       "version_major": 2,
       "version_minor": 0
      },
      "text/plain": [
       "FileUpload(value=(), description='Upload File')"
      ]
     },
     "metadata": {},
     "output_type": "display_data"
    }
   ],
   "source": [
    "# Cria um seletor de arquivos\n",
    "file_upload = widgets.FileUpload(description='Upload File')\n",
    "display(file_upload)"
   ]
  },
  {
   "cell_type": "code",
   "execution_count": 19,
   "metadata": {},
   "outputs": [
    {
     "data": {
      "application/vnd.jupyter.widget-view+json": {
       "model_id": "867c924b3619408bb9b8c0e5ac14b949",
       "version_major": 2,
       "version_minor": 0
      },
      "text/plain": [
       "Tab(children=(IntSlider(value=7, description='Int Slider:', max=10), FloatSlider(value=5.3, description='Float…"
      ]
     },
     "metadata": {},
     "output_type": "display_data"
    }
   ],
   "source": [
    "# Cria um container de abas\n",
    "tab = widgets.Tab()\n",
    "tab.children = [int_slider, float_slider, int_range_slider, dropdown, button, text, checkbox, color_picker, file_upload]\n",
    "tab.set_title(0, 'Int Slider')\n",
    "tab.set_title(1, 'Float Slider')\n",
    "tab.set_title(2, 'Range Slider')\n",
    "tab.set_title(3, 'Dropdown')\n",
    "tab.set_title(4, 'Button')\n",
    "tab.set_title(5, 'Text')\n",
    "tab.set_title(6, 'Checkbox')\n",
    "tab.set_title(7, 'Color Picker')\n",
    "tab.set_title(8, 'File Upload')\n",
    "display(tab)"
   ]
  },
  {
   "cell_type": "code",
   "execution_count": null,
   "metadata": {},
   "outputs": [],
   "source": []
  },
  {
   "cell_type": "code",
   "execution_count": 20,
   "metadata": {},
   "outputs": [
    {
     "data": {
      "application/vnd.jupyter.widget-view+json": {
       "model_id": "96f170f556c54b28bb92086bbf32ed75",
       "version_major": 2,
       "version_minor": 0
      },
      "text/plain": [
       "Tab(children=(IntSlider(value=4, description='Int Slider:', max=10), FloatSlider(value=8.4, description='Float…"
      ]
     },
     "metadata": {},
     "output_type": "display_data"
    }
   ],
   "source": [
    "# Cria um container de abas\n",
    "tab = widgets.Tab()\n",
    "tab.children = [int_slider, float_slider, int_range_slider, dropdown, button, text, checkbox, color_picker, file_upload]\n",
    "tab.set_title(0, 'Int Slider')\n",
    "tab.set_title(1, 'Float Slider')\n",
    "tab.set_title(2, 'Range Slider')\n",
    "tab.set_title(3, 'Dropdown')\n",
    "tab.set_title(4, 'Button')\n",
    "tab.set_title(5, 'Text')\n",
    "tab.set_title(6, 'Checkbox')\n",
    "tab.set_title(7, 'Color Picker')\n",
    "tab.set_title(8, 'File Upload')\n",
    "display(tab)"
   ]
  },
  {
   "cell_type": "code",
   "execution_count": null,
   "metadata": {},
   "outputs": [],
   "source": []
  },
  {
   "cell_type": "code",
   "execution_count": 1,
   "metadata": {},
   "outputs": [
    {
     "data": {
      "application/vnd.jupyter.widget-view+json": {
       "model_id": "df6ea8ce1fc74626a9926e60b7c743db",
       "version_major": 2,
       "version_minor": 0
      },
      "text/plain": [
       "Tab(children=(Output(), Output(), Output()), selected_index=0, titles=('DataFrame 1', 'DataFrame 2', 'DataFram…"
      ]
     },
     "metadata": {},
     "output_type": "display_data"
    }
   ],
   "source": [
    "import pandas as pd\n",
    "import ipywidgets as widgets\n",
    "from IPython.display import display\n",
    "\n",
    "# Exemplo de DataFrames\n",
    "df1 = pd.DataFrame({\n",
    "    'A': [1, 2, 3],\n",
    "    'B': [4, 5, 6]\n",
    "})\n",
    "\n",
    "df2 = pd.DataFrame({\n",
    "    'X': ['a', 'b', 'c'],\n",
    "    'Y': ['d', 'e', 'f']\n",
    "})\n",
    "\n",
    "df3 = pd.DataFrame({\n",
    "    'M': [7, 8, 9],\n",
    "    'N': [10, 11, 12]\n",
    "})\n",
    "\n",
    "# Função para exibir DataFrames nas abas\n",
    "def show_dataframe(dataframe):\n",
    "    return widgets.Output(layout={'border': '1px solid black'})\n",
    "\n",
    "# Criando widgets Output para cada DataFrame\n",
    "output_df1 = widgets.Output()\n",
    "with output_df1:\n",
    "    display(df1)\n",
    "\n",
    "output_df2 = widgets.Output()\n",
    "with output_df2:\n",
    "    display(df2)\n",
    "\n",
    "output_df3 = widgets.Output()\n",
    "with output_df3:\n",
    "    display(df3)\n",
    "\n",
    "# Criando abas\n",
    "tab = widgets.Tab(children=[output_df1, output_df2, output_df3])\n",
    "tab.set_title(0, 'DataFrame 1')\n",
    "tab.set_title(1, 'DataFrame 2')\n",
    "tab.set_title(2, 'DataFrame 3')\n",
    "\n",
    "# Exibindo as abas\n",
    "display(tab)"
   ]
  },
  {
   "cell_type": "code",
   "execution_count": null,
   "metadata": {},
   "outputs": [],
   "source": []
  },
  {
   "cell_type": "code",
   "execution_count": null,
   "metadata": {},
   "outputs": [],
   "source": []
  },
  {
   "cell_type": "code",
   "execution_count": null,
   "metadata": {},
   "outputs": [],
   "source": []
  },
  {
   "cell_type": "code",
   "execution_count": null,
   "metadata": {},
   "outputs": [],
   "source": []
  },
  {
   "cell_type": "code",
   "execution_count": null,
   "metadata": {},
   "outputs": [],
   "source": []
  },
  {
   "cell_type": "code",
   "execution_count": null,
   "metadata": {},
   "outputs": [],
   "source": []
  }
 ],
 "metadata": {
  "kernelspec": {
   "display_name": "base",
   "language": "python",
   "name": "python3"
  },
  "language_info": {
   "codemirror_mode": {
    "name": "ipython",
    "version": 3
   },
   "file_extension": ".py",
   "mimetype": "text/x-python",
   "name": "python",
   "nbconvert_exporter": "python",
   "pygments_lexer": "ipython3",
   "version": "3.11.7"
  }
 },
 "nbformat": 4,
 "nbformat_minor": 2
}
