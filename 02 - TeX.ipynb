{
 "cells": [
  {
   "cell_type": "markdown",
   "id": "3f15e1df-7ef2-4b16-9205-1a321bc4020e",
   "metadata": {},
   "source": [
    "* [Latex 1](https://pt.wikipedia.org/wiki/Ajuda:Guia_de_edi%C3%A7%C3%A3o/F%C3%B3rmulas_TeX)\n",
    "* [LaTex 2](https://carinercrs.blogspot.com/2010/07/acentos-no-modo-matematico-em-latex.html)\n",
    "\n",
    "https://www.youtube.com/watch?v=-F4WS8o-G2A\n",
    "\n",
    "https://www.youtube.com/watch?v=ZOgoMbt26BU"
   ]
  },
  {
   "cell_type": "code",
   "execution_count": null,
   "id": "bfb17f76-0cca-457b-a517-7920c10789f1",
   "metadata": {},
   "outputs": [],
   "source": []
  },
  {
   "cell_type": "code",
   "execution_count": null,
   "id": "fcd22030-263f-4002-9fa5-610c89926ff8",
   "metadata": {},
   "outputs": [],
   "source": []
  }
 ],
 "metadata": {
  "kernelspec": {
   "display_name": "Python 3 (ipykernel)",
   "language": "python",
   "name": "python3"
  },
  "language_info": {
   "codemirror_mode": {
    "name": "ipython",
    "version": 3
   },
   "file_extension": ".py",
   "mimetype": "text/x-python",
   "name": "python",
   "nbconvert_exporter": "python",
   "pygments_lexer": "ipython3",
   "version": "3.11.7"
  }
 },
 "nbformat": 4,
 "nbformat_minor": 5
}
