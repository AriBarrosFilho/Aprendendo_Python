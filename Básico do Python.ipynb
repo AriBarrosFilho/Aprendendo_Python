{
 "cells": [
  {
   "cell_type": "markdown",
   "id": "32b4ce4f",
   "metadata": {},
   "source": [
    "## O básico de Python e variáveis"
   ]
  },
  {
   "cell_type": "markdown",
   "id": "cac9976c",
   "metadata": {},
   "source": [
    "**Print**"
   ]
  },
  {
   "cell_type": "code",
   "execution_count": 9,
   "id": "c0c2e7a7-911c-4b6c-b281-d738ae1c92a6",
   "metadata": {},
   "outputs": [
    {
     "name": "stdout",
     "output_type": "stream",
     "text": [
      "Bom dia\n",
      "Como você está?\n"
     ]
    }
   ],
   "source": [
    "# Você pode usar aspas duplas\n",
    "print(\"Bom dia\")\n",
    "\n",
    "\"\"\"\n",
    "\n",
    "Caso você deseje fazer um comentário mais extenso,\n",
    "também é possível comentar utilizando 3 aspas simples ou duplas\n",
    "antes e depois do comentário\n",
    "\n",
    "\"\"\"\n",
    "\n",
    "# Assim como você pode usar aspas simples também\n",
    "print('Como você está?')"
   ]
  },
  {
   "cell_type": "code",
   "execution_count": 5,
   "id": "9898409b-d420-4682-a323-4cbf70245e67",
   "metadata": {},
   "outputs": [
    {
     "name": "stdout",
     "output_type": "stream",
     "text": [
      "Bom dia\n",
      "Como você está\n"
     ]
    }
   ],
   "source": [
    "# \\n é utilizado para pular linha\n",
    "print(\"Bom dia\\nComo você está\")"
   ]
  },
  {
   "cell_type": "markdown",
   "id": "e1958913",
   "metadata": {},
   "source": [
    "**Tipos de variáveis**"
   ]
  },
  {
   "cell_type": "code",
   "execution_count": 109,
   "id": "c6d6cc65-ce71-4293-b012-f10f050a2448",
   "metadata": {},
   "outputs": [
    {
     "name": "stdout",
     "output_type": "stream",
     "text": [
      "<class 'int'>   : 1\n",
      "<class 'float'> : 1.0\n",
      "<class 'bool'>  : True\n",
      "<class 'str'>   : one\n",
      "<class 'list'>  : [1, 2.0, '3']\n",
      "<class 'tuple'> : (1, 2.0, '3')\n",
      "<class 'dict'>  : {'apple': 5, 'orange': 'six'}\n"
     ]
    }
   ],
   "source": [
    "A = [1, 1.0, True, 'one', [1, 2.0, '3'], (1, 2.0, '3'), {'apple': 5, 'orange': 'six'}]\n",
    "for a in A:\n",
    "    print(f'{str(type(a)):16}: {a}')"
   ]
  },
  {
   "cell_type": "code",
   "execution_count": 111,
   "id": "9e91d5cf-8886-4e5e-8e02-3a64e4551bd9",
   "metadata": {},
   "outputs": [],
   "source": [
    "a = 1\n",
    "b = 2.3\n",
    "c = False\n",
    "d = True\n",
    "e = 'Bom dia'\n",
    "f = \"ola\"\n",
    "g = [1,2,3]\n",
    "h = (1,2,3)\n",
    "i = {'Valor': [50,20,30]}"
   ]
  },
  {
   "cell_type": "code",
   "execution_count": 112,
   "id": "af93fee1-a063-47fb-92c5-079591a8fa1c",
   "metadata": {},
   "outputs": [
    {
     "name": "stdout",
     "output_type": "stream",
     "text": [
      "<class 'int'>\n",
      "<class 'float'>\n",
      "<class 'bool'>\n",
      "<class 'bool'>\n",
      "<class 'str'>\n",
      "<class 'str'>\n",
      "<class 'list'>\n",
      "<class 'tuple'>\n",
      "<class 'dict'>\n"
     ]
    }
   ],
   "source": [
    "print(type(a))\n",
    "print(type(b))\n",
    "print(type(c))\n",
    "print(type(d))\n",
    "print(type(e))\n",
    "print(type(f))\n",
    "print(type(g))\n",
    "print(type(h))\n",
    "print(type(i))"
   ]
  },
  {
   "cell_type": "markdown",
   "id": "b0b8373f-f876-4183-8762-1a5c7d24e221",
   "metadata": {},
   "source": [
    "**Operações aritméticas**"
   ]
  },
  {
   "cell_type": "code",
   "execution_count": 45,
   "id": "affef192-5c0d-4030-843d-1caf2a9f257e",
   "metadata": {},
   "outputs": [
    {
     "data": {
      "text/plain": [
       "3"
      ]
     },
     "execution_count": 45,
     "metadata": {},
     "output_type": "execute_result"
    }
   ],
   "source": [
    "1 + 2"
   ]
  },
  {
   "cell_type": "code",
   "execution_count": 46,
   "id": "63a152bf-7fd4-484a-aac6-0f9ae808f083",
   "metadata": {},
   "outputs": [
    {
     "data": {
      "text/plain": [
       "-7"
      ]
     },
     "execution_count": 46,
     "metadata": {},
     "output_type": "execute_result"
    }
   ],
   "source": [
    "5 - 12"
   ]
  },
  {
   "cell_type": "code",
   "execution_count": 47,
   "id": "4c7d11bf-62cb-401c-b9c2-6c51c7758583",
   "metadata": {},
   "outputs": [
    {
     "data": {
      "text/plain": [
       "24"
      ]
     },
     "execution_count": 47,
     "metadata": {},
     "output_type": "execute_result"
    }
   ],
   "source": [
    "3 * 8"
   ]
  },
  {
   "cell_type": "code",
   "execution_count": 49,
   "id": "3bf63a93-60a6-4d1a-8f29-40c8cb3272b2",
   "metadata": {},
   "outputs": [
    {
     "data": {
      "text/plain": [
       "5.5"
      ]
     },
     "execution_count": 49,
     "metadata": {},
     "output_type": "execute_result"
    }
   ],
   "source": [
    "11 / 2"
   ]
  },
  {
   "cell_type": "code",
   "execution_count": 39,
   "id": "2bd82d56",
   "metadata": {},
   "outputs": [
    {
     "data": {
      "text/plain": [
       "5"
      ]
     },
     "execution_count": 39,
     "metadata": {},
     "output_type": "execute_result"
    }
   ],
   "source": [
    "11 // 2"
   ]
  },
  {
   "cell_type": "code",
   "execution_count": 48,
   "id": "582bdf39-9b05-45b2-bd92-e78a244828a3",
   "metadata": {},
   "outputs": [
    {
     "data": {
      "text/plain": [
       "32"
      ]
     },
     "execution_count": 48,
     "metadata": {},
     "output_type": "execute_result"
    }
   ],
   "source": [
    "# Retorna a potência\n",
    "2 ** 5"
   ]
  },
  {
   "cell_type": "code",
   "execution_count": 40,
   "id": "8dbf5b98",
   "metadata": {},
   "outputs": [
    {
     "data": {
      "text/plain": [
       "1.2e+20"
      ]
     },
     "execution_count": 40,
     "metadata": {},
     "output_type": "execute_result"
    }
   ],
   "source": [
    "# 1.2 * (10 ** 20)\n",
    "1.2e20"
   ]
  },
  {
   "cell_type": "code",
   "execution_count": 41,
   "id": "3de7d07d",
   "metadata": {},
   "outputs": [
    {
     "data": {
      "text/plain": [
       "1.2e+20"
      ]
     },
     "execution_count": 41,
     "metadata": {},
     "output_type": "execute_result"
    }
   ],
   "source": [
    "# 1.2 * (10 ** 20)\n",
    "1.2E20"
   ]
  },
  {
   "cell_type": "code",
   "execution_count": 42,
   "id": "0e96738c",
   "metadata": {},
   "outputs": [
    {
     "data": {
      "text/plain": [
       "1.2e-20"
      ]
     },
     "execution_count": 42,
     "metadata": {},
     "output_type": "execute_result"
    }
   ],
   "source": [
    "# 1.2 * (10 ** (-20))\n",
    "1.2e-20"
   ]
  },
  {
   "cell_type": "code",
   "execution_count": 44,
   "id": "c699e5a1",
   "metadata": {},
   "outputs": [
    {
     "data": {
      "text/plain": [
       "1.2e-20"
      ]
     },
     "execution_count": 44,
     "metadata": {},
     "output_type": "execute_result"
    }
   ],
   "source": [
    "# 1.2 * (10 ** (-20))\n",
    "1.2E-20"
   ]
  },
  {
   "cell_type": "code",
   "execution_count": 40,
   "id": "2d1c0140",
   "metadata": {},
   "outputs": [
    {
     "data": {
      "text/plain": [
       "1000000"
      ]
     },
     "execution_count": 40,
     "metadata": {},
     "output_type": "execute_result"
    }
   ],
   "source": [
    "# Facilita a visualização de qual número estamos nos referindo\n",
    "1_000_000"
   ]
  },
  {
   "cell_type": "code",
   "execution_count": 50,
   "id": "4fe9135b-fbaf-4dc7-9caa-03fdcd38dd6a",
   "metadata": {},
   "outputs": [
    {
     "data": {
      "text/plain": [
       "1"
      ]
     },
     "execution_count": 50,
     "metadata": {},
     "output_type": "execute_result"
    }
   ],
   "source": [
    "# Retorna o resto da divisão\n",
    "7 % 2"
   ]
  },
  {
   "cell_type": "code",
   "execution_count": 51,
   "id": "caa64b5f-ef8d-4cd1-a012-a5bd05ce4721",
   "metadata": {},
   "outputs": [
    {
     "data": {
      "text/plain": [
       "1"
      ]
     },
     "execution_count": 51,
     "metadata": {},
     "output_type": "execute_result"
    }
   ],
   "source": [
    "7 % 3"
   ]
  },
  {
   "cell_type": "code",
   "execution_count": 52,
   "id": "071aa2f5-43d8-4a7c-95aa-4202c1f35914",
   "metadata": {},
   "outputs": [
    {
     "data": {
      "text/plain": [
       "3"
      ]
     },
     "execution_count": 52,
     "metadata": {},
     "output_type": "execute_result"
    }
   ],
   "source": [
    "7 % 4"
   ]
  },
  {
   "cell_type": "markdown",
   "id": "7f60d2cb-6652-4db4-9554-cb79d6e83134",
   "metadata": {},
   "source": [
    "**Operações lógicas**"
   ]
  },
  {
   "cell_type": "code",
   "execution_count": 45,
   "id": "bf90a96f-a174-476a-823f-760a5a70aa25",
   "metadata": {},
   "outputs": [
    {
     "data": {
      "text/plain": [
       "False"
      ]
     },
     "execution_count": 45,
     "metadata": {},
     "output_type": "execute_result"
    }
   ],
   "source": [
    "# Tem 'bom' em 'bom dia'?\n",
    "'bom dia' in 'bom'"
   ]
  },
  {
   "cell_type": "code",
   "execution_count": 44,
   "id": "0f48132e-3ab7-408f-9fe0-7afb5853176f",
   "metadata": {},
   "outputs": [
    {
     "data": {
      "text/plain": [
       "True"
      ]
     },
     "execution_count": 44,
     "metadata": {},
     "output_type": "execute_result"
    }
   ],
   "source": [
    "# Tem 'bom' em 'bom dia'?\n",
    "'bom' in 'bom dia'"
   ]
  },
  {
   "cell_type": "code",
   "execution_count": 43,
   "id": "38068132",
   "metadata": {},
   "outputs": [
    {
     "data": {
      "text/plain": [
       "True"
      ]
     },
     "execution_count": 43,
     "metadata": {},
     "output_type": "execute_result"
    }
   ],
   "source": [
    "# Não tem 'cavalo' em 'bom dia'?\n",
    "not 'cavalo' in 'bom dia'"
   ]
  },
  {
   "cell_type": "code",
   "execution_count": 37,
   "id": "be1b79e7-ac65-4b6a-8c21-b5c126e92556",
   "metadata": {},
   "outputs": [
    {
     "data": {
      "text/plain": [
       "False"
      ]
     },
     "execution_count": 37,
     "metadata": {},
     "output_type": "execute_result"
    }
   ],
   "source": [
    "# a é maior que b?\n",
    "2 > 5"
   ]
  },
  {
   "cell_type": "code",
   "execution_count": 38,
   "id": "d24979e9-1934-4d29-adeb-d1dcc8780c59",
   "metadata": {},
   "outputs": [
    {
     "data": {
      "text/plain": [
       "True"
      ]
     },
     "execution_count": 38,
     "metadata": {},
     "output_type": "execute_result"
    }
   ],
   "source": [
    "# a é menor que b?\n",
    "2 < 5"
   ]
  },
  {
   "cell_type": "code",
   "execution_count": 39,
   "id": "0d711764-7f0d-45c4-a7ff-12362241976b",
   "metadata": {},
   "outputs": [
    {
     "data": {
      "text/plain": [
       "False"
      ]
     },
     "execution_count": 39,
     "metadata": {},
     "output_type": "execute_result"
    }
   ],
   "source": [
    "# a é maior ou igual a b?\n",
    "2 >= 5"
   ]
  },
  {
   "cell_type": "code",
   "execution_count": 31,
   "id": "6ea498a9-2cbf-457f-82a1-8656909b594d",
   "metadata": {},
   "outputs": [
    {
     "data": {
      "text/plain": [
       "True"
      ]
     },
     "execution_count": 31,
     "metadata": {},
     "output_type": "execute_result"
    }
   ],
   "source": [
    "# a é menor ou igual a b?\n",
    "2 <= 5"
   ]
  },
  {
   "cell_type": "code",
   "execution_count": 40,
   "id": "09a1d639-4528-43a1-91ae-ae703dda2aaa",
   "metadata": {},
   "outputs": [
    {
     "data": {
      "text/plain": [
       "True"
      ]
     },
     "execution_count": 40,
     "metadata": {},
     "output_type": "execute_result"
    }
   ],
   "source": [
    "# a é diferente de b?\n",
    "2 != 5"
   ]
  },
  {
   "cell_type": "code",
   "execution_count": 22,
   "id": "2bb927c6-5691-4e93-939c-06503f2204e4",
   "metadata": {},
   "outputs": [
    {
     "data": {
      "text/plain": [
       "False"
      ]
     },
     "execution_count": 22,
     "metadata": {},
     "output_type": "execute_result"
    }
   ],
   "source": [
    "# 'a' é igual 'b'? (Comparação)\n",
    "2 == 5"
   ]
  },
  {
   "cell_type": "markdown",
   "id": "c4f2420f-42a1-4152-a831-cbb6a7961633",
   "metadata": {},
   "source": [
    "**a** é igual **b**! ('a' recebe o valor de 'b') <br>\n",
    "a = b\n",
    "\n",
    "**a** é igual **b**? (Comparação) <br>\n",
    "a == b"
   ]
  },
  {
   "cell_type": "markdown",
   "id": "2f2864d7",
   "metadata": {},
   "source": [
    "**Alterações incrementasi de variáveis**\n",
    "\n",
    "+= <br>\n",
    "-= <br>\n",
    "*= <br>\n",
    "/= <br>"
   ]
  },
  {
   "cell_type": "code",
   "execution_count": 2,
   "id": "23d81174",
   "metadata": {},
   "outputs": [
    {
     "name": "stdout",
     "output_type": "stream",
     "text": [
      "500 \n",
      "\n",
      "800\n"
     ]
    }
   ],
   "source": [
    "valor = 500\n",
    "print(valor, '\\n')\n",
    "\n",
    "valor = valor + 300\n",
    "print(valor)"
   ]
  },
  {
   "cell_type": "code",
   "execution_count": 3,
   "id": "a3bd0bf6",
   "metadata": {},
   "outputs": [
    {
     "name": "stdout",
     "output_type": "stream",
     "text": [
      "500\n",
      "800\n"
     ]
    }
   ],
   "source": [
    "valor = 500\n",
    "print(valor, '\\n')\n",
    "\n",
    "valor += 300\n",
    "print(valor)"
   ]
  },
  {
   "cell_type": "markdown",
   "id": "c16541f8",
   "metadata": {},
   "source": [
    "## Funções built-in"
   ]
  },
  {
   "cell_type": "code",
   "execution_count": 1,
   "id": "1c3586c3",
   "metadata": {},
   "outputs": [
    {
     "name": "stdout",
     "output_type": "stream",
     "text": [
      "Help on built-in function print in module builtins:\n",
      "\n",
      "print(*args, sep=' ', end='\\n', file=None, flush=False)\n",
      "    Prints the values to a stream, or to sys.stdout by default.\n",
      "    \n",
      "    sep\n",
      "      string inserted between values, default a space.\n",
      "    end\n",
      "      string appended after the last value, default a newline.\n",
      "    file\n",
      "      a file-like object (stream); defaults to the current sys.stdout.\n",
      "    flush\n",
      "      whether to forcibly flush the stream.\n",
      "\n"
     ]
    }
   ],
   "source": [
    "help(print)"
   ]
  },
  {
   "cell_type": "code",
   "execution_count": 37,
   "id": "cc9854e7",
   "metadata": {},
   "outputs": [
    {
     "name": "stdout",
     "output_type": "stream",
     "text": [
      "Help on built-in function abs in module builtins:\n",
      "\n",
      "abs(x, /)\n",
      "    Return the absolute value of the argument.\n",
      "\n"
     ]
    }
   ],
   "source": [
    "help(abs)"
   ]
  },
  {
   "cell_type": "code",
   "execution_count": 38,
   "id": "c5c4febc",
   "metadata": {},
   "outputs": [
    {
     "data": {
      "text/plain": [
       "10"
      ]
     },
     "execution_count": 38,
     "metadata": {},
     "output_type": "execute_result"
    }
   ],
   "source": [
    "abs(-10)"
   ]
  },
  {
   "cell_type": "code",
   "execution_count": 49,
   "id": "5813e7ff",
   "metadata": {},
   "outputs": [
    {
     "data": {
      "text/plain": [
       "1.433"
      ]
     },
     "execution_count": 49,
     "metadata": {},
     "output_type": "execute_result"
    }
   ],
   "source": [
    "round(1.4329584, 3)"
   ]
  },
  {
   "cell_type": "code",
   "execution_count": 51,
   "id": "7c8f86d8",
   "metadata": {},
   "outputs": [
    {
     "data": {
      "text/plain": [
       "32"
      ]
     },
     "execution_count": 51,
     "metadata": {},
     "output_type": "execute_result"
    }
   ],
   "source": [
    "pow(2, 5)"
   ]
  },
  {
   "cell_type": "code",
   "execution_count": null,
   "id": "e7fb6974",
   "metadata": {},
   "outputs": [],
   "source": []
  },
  {
   "cell_type": "code",
   "execution_count": null,
   "id": "55355bdf",
   "metadata": {},
   "outputs": [],
   "source": []
  },
  {
   "cell_type": "markdown",
   "id": "db45fa22",
   "metadata": {},
   "source": [
    "# Convertendo variáveis"
   ]
  },
  {
   "cell_type": "code",
   "execution_count": null,
   "id": "81d026ed",
   "metadata": {},
   "outputs": [
    {
     "name": "stdout",
     "output_type": "stream",
     "text": [
      "2\n"
     ]
    },
    {
     "data": {
      "text/plain": [
       "int"
      ]
     },
     "metadata": {},
     "output_type": "display_data"
    }
   ],
   "source": [
    "a = 2.656598484\n",
    "variavel_inteira = int(b)\n",
    "\n",
    "# É possível apresentar o valor da variável sem colocar o print\n",
    "# Contudo, se for feito mais de uma vez, apenas será mostrado a última variável\n",
    "print(variavel_inteira)\n",
    "type(variavel_inteira)"
   ]
  },
  {
   "cell_type": "code",
   "execution_count": null,
   "id": "fa535522",
   "metadata": {},
   "outputs": [
    {
     "name": "stdout",
     "output_type": "stream",
     "text": [
      "1.0\n"
     ]
    },
    {
     "data": {
      "text/plain": [
       "float"
      ]
     },
     "metadata": {},
     "output_type": "display_data"
    }
   ],
   "source": [
    "a = 1\n",
    "variavel_float = float(a)\n",
    "\n",
    "print(variavel_float)\n",
    "type(variavel_float)"
   ]
  },
  {
   "cell_type": "code",
   "execution_count": null,
   "id": "c04ad5dd",
   "metadata": {},
   "outputs": [
    {
     "name": "stdout",
     "output_type": "stream",
     "text": [
      "False\n"
     ]
    },
    {
     "data": {
      "text/plain": [
       "str"
      ]
     },
     "metadata": {},
     "output_type": "display_data"
    }
   ],
   "source": [
    "a = False\n",
    "variavel_string = str(a)\n",
    "\n",
    "print(variavel_string)\n",
    "type(variavel_string)"
   ]
  },
  {
   "cell_type": "code",
   "execution_count": null,
   "id": "36839d35",
   "metadata": {},
   "outputs": [
    {
     "name": "stdout",
     "output_type": "stream",
     "text": [
      "5\n"
     ]
    },
    {
     "data": {
      "text/plain": [
       "str"
      ]
     },
     "metadata": {},
     "output_type": "display_data"
    }
   ],
   "source": [
    "a = 5\n",
    "variavel_string = str(a)\n",
    "\n",
    "print(variavel_string)\n",
    "type(variavel_string)"
   ]
  },
  {
   "cell_type": "code",
   "execution_count": null,
   "id": "f53c1300",
   "metadata": {},
   "outputs": [
    {
     "name": "stdout",
     "output_type": "stream",
     "text": [
      "16.65723732\n"
     ]
    },
    {
     "data": {
      "text/plain": [
       "str"
      ]
     },
     "metadata": {},
     "output_type": "display_data"
    }
   ],
   "source": [
    "a = 16.65723732\n",
    "variavel_string = str(a)\n",
    "\n",
    "print(variavel_string)\n",
    "type(variavel_string)"
   ]
  },
  {
   "cell_type": "code",
   "execution_count": null,
   "id": "e623d9eb",
   "metadata": {},
   "outputs": [
    {
     "name": "stdout",
     "output_type": "stream",
     "text": [
      "100000.0\n"
     ]
    }
   ],
   "source": [
    "texto = '100.000,00'\n",
    "\n",
    "texto = texto.replace('.','')\n",
    "\n",
    "texto = texto.replace(',','.')\n",
    "\n",
    "texto = float(texto)\n",
    "\n",
    "print(texto)"
   ]
  },
  {
   "cell_type": "markdown",
   "id": "d8426306-03b3-4484-bc71-bbad9b924d52",
   "metadata": {},
   "source": [
    "## Convertendo variáveis"
   ]
  },
  {
   "cell_type": "code",
   "execution_count": 81,
   "id": "7734e34c-c5f3-4494-a758-5c0c4033c4e7",
   "metadata": {},
   "outputs": [
    {
     "name": "stdout",
     "output_type": "stream",
     "text": [
      "2\n"
     ]
    },
    {
     "data": {
      "text/plain": [
       "int"
      ]
     },
     "execution_count": 81,
     "metadata": {},
     "output_type": "execute_result"
    }
   ],
   "source": [
    "a = 2.656598484\n",
    "variavel_inteira = int(b)\n",
    "\n",
    "# É possível apresentar o valor da variável sem colocar o print\n",
    "# Contudo, se for feito mais de uma vez, apenas será mostrado a última variável\n",
    "print(variavel_inteira)\n",
    "type(variavel_inteira)"
   ]
  },
  {
   "cell_type": "code",
   "execution_count": 82,
   "id": "52e388c9-ca40-486c-860b-c90207bc9a78",
   "metadata": {},
   "outputs": [
    {
     "name": "stdout",
     "output_type": "stream",
     "text": [
      "1.0\n"
     ]
    },
    {
     "data": {
      "text/plain": [
       "float"
      ]
     },
     "execution_count": 82,
     "metadata": {},
     "output_type": "execute_result"
    }
   ],
   "source": [
    "a = 1\n",
    "variavel_float = float(a)\n",
    "\n",
    "print(variavel_float)\n",
    "type(variavel_float)"
   ]
  },
  {
   "cell_type": "code",
   "execution_count": 83,
   "id": "1f027f73-7228-4d86-84cf-72b5749f72c0",
   "metadata": {},
   "outputs": [
    {
     "name": "stdout",
     "output_type": "stream",
     "text": [
      "False\n"
     ]
    },
    {
     "data": {
      "text/plain": [
       "str"
      ]
     },
     "execution_count": 83,
     "metadata": {},
     "output_type": "execute_result"
    }
   ],
   "source": [
    "a = False\n",
    "variavel_string = str(a)\n",
    "\n",
    "print(variavel_string)\n",
    "type(variavel_string)"
   ]
  },
  {
   "cell_type": "code",
   "execution_count": 84,
   "id": "7f298a38-3ed1-4d65-8acd-e05267efe4cc",
   "metadata": {},
   "outputs": [
    {
     "name": "stdout",
     "output_type": "stream",
     "text": [
      "5\n"
     ]
    },
    {
     "data": {
      "text/plain": [
       "str"
      ]
     },
     "execution_count": 84,
     "metadata": {},
     "output_type": "execute_result"
    }
   ],
   "source": [
    "a = 5\n",
    "variavel_string = str(a)\n",
    "\n",
    "print(variavel_string)\n",
    "type(variavel_string)"
   ]
  },
  {
   "cell_type": "code",
   "execution_count": 85,
   "id": "97197ca8-2fd8-49e7-b041-9b5b7043b886",
   "metadata": {},
   "outputs": [
    {
     "name": "stdout",
     "output_type": "stream",
     "text": [
      "16.65723732\n"
     ]
    },
    {
     "data": {
      "text/plain": [
       "str"
      ]
     },
     "execution_count": 85,
     "metadata": {},
     "output_type": "execute_result"
    }
   ],
   "source": [
    "a = 16.65723732\n",
    "variavel_string = str(a)\n",
    "\n",
    "print(variavel_string)\n",
    "type(variavel_string)"
   ]
  },
  {
   "cell_type": "code",
   "execution_count": 43,
   "id": "b681dc4a",
   "metadata": {},
   "outputs": [
    {
     "name": "stdout",
     "output_type": "stream",
     "text": [
      "100000.0\n"
     ]
    }
   ],
   "source": [
    "texto = '100.000,00'\n",
    "\n",
    "texto = texto.replace('.','')\n",
    "\n",
    "texto = texto.replace(',','.')\n",
    "\n",
    "texto = float(texto)\n",
    "\n",
    "print(texto)"
   ]
  },
  {
   "cell_type": "markdown",
   "id": "3b910822-f84c-4f18-8494-e7041a38d71a",
   "metadata": {},
   "source": [
    "# Entrada de valores (Input)"
   ]
  },
  {
   "cell_type": "code",
   "execution_count": 25,
   "id": "bed7d9ad-ef13-4090-92f5-c40fc4d3cfba",
   "metadata": {},
   "outputs": [
    {
     "name": "stdout",
     "output_type": "stream",
     "text": [
      "9\n"
     ]
    }
   ],
   "source": [
    "x = input(\"Digite um valor: \")\n",
    "print(x)"
   ]
  },
  {
   "cell_type": "code",
   "execution_count": 26,
   "id": "162e8527-021f-4e54-bddf-2cee481e92a2",
   "metadata": {},
   "outputs": [
    {
     "name": "stdout",
     "output_type": "stream",
     "text": [
      "Bem vindo Ari!\n"
     ]
    }
   ],
   "source": [
    "nome = input(\"Digite o seu nome: \")\n",
    "print(f\"Bem vindo {nome}!\")"
   ]
  },
  {
   "cell_type": "code",
   "execution_count": 23,
   "id": "c08251c7-8af6-4168-8785-87d524974ef8",
   "metadata": {},
   "outputs": [
    {
     "name": "stdout",
     "output_type": "stream",
     "text": [
      "8\n"
     ]
    }
   ],
   "source": [
    "valor_1 = int(input(\"Digite o primeiro valor: \"))\n",
    "valor_2 = int(input(\"Digite o segundo valor: \"))\n",
    "print(valor_1 + valor_2)"
   ]
  },
  {
   "cell_type": "code",
   "execution_count": 78,
   "id": "bb5b590b-faa6-4390-b7e5-af1e8d232bb3",
   "metadata": {},
   "outputs": [
    {
     "name": "stdout",
     "output_type": "stream",
     "text": [
      "O faturamento é: 1000\n"
     ]
    }
   ],
   "source": [
    "faturamento = 1000\n",
    "print('O faturamento é: ' + str(faturamento))"
   ]
  },
  {
   "cell_type": "markdown",
   "id": "c1c2c961-2219-43e8-9a6a-7dd31b222f4a",
   "metadata": {},
   "source": [
    "# Condições"
   ]
  },
  {
   "cell_type": "code",
   "execution_count": 29,
   "id": "b0ed6368-a21b-4c65-a9d1-d2ac361d6228",
   "metadata": {},
   "outputs": [],
   "source": [
    "a = 1\n",
    "b = 2\n",
    "c = 2\n",
    "d = 3"
   ]
  },
  {
   "cell_type": "code",
   "execution_count": 30,
   "id": "34e1fbec-a334-432a-b23b-a0425f8d6559",
   "metadata": {},
   "outputs": [
    {
     "name": "stdout",
     "output_type": "stream",
     "text": [
      "if\n"
     ]
    }
   ],
   "source": [
    "if b > a:\n",
    "    print(\"if\")\n",
    "\n",
    "else:\n",
    "    print(\"else\")"
   ]
  },
  {
   "cell_type": "code",
   "execution_count": 31,
   "id": "6dbced16",
   "metadata": {},
   "outputs": [
    {
     "name": "stdout",
     "output_type": "stream",
     "text": [
      "else\n"
     ]
    }
   ],
   "source": [
    "if b < a:\n",
    "    print(\"if\")\n",
    "\n",
    "else:\n",
    "    print(\"else\")"
   ]
  },
  {
   "cell_type": "code",
   "execution_count": 33,
   "id": "5778d6be",
   "metadata": {},
   "outputs": [
    {
     "name": "stdout",
     "output_type": "stream",
     "text": [
      "elif\n"
     ]
    }
   ],
   "source": [
    "if b < a:\n",
    "    print(\"if\")\n",
    "\n",
    "elif (b == c):\n",
    "    print('elif')\n",
    "\n",
    "else:\n",
    "    print(\"else\")"
   ]
  },
  {
   "cell_type": "code",
   "execution_count": 34,
   "id": "5e1cd0e1",
   "metadata": {},
   "outputs": [
    {
     "name": "stdout",
     "output_type": "stream",
     "text": [
      "if\n"
     ]
    }
   ],
   "source": [
    "# Mesmo o 'if' e o 'elif' sendo verdadeiros, nessa estrutura quando ocorre o primeiro, os demais são ignorados\n",
    "\n",
    "if b > a:\n",
    "    print(\"if\")\n",
    "\n",
    "elif (b == c):\n",
    "    print('elif')\n",
    "\n",
    "else:\n",
    "    print(\"else\")"
   ]
  },
  {
   "cell_type": "code",
   "execution_count": 35,
   "id": "6bd7e0fa",
   "metadata": {},
   "outputs": [
    {
     "name": "stdout",
     "output_type": "stream",
     "text": [
      "if\n",
      "elif\n"
     ]
    }
   ],
   "source": [
    "if b > a:\n",
    "    print(\"if\")\n",
    "\n",
    "if (b == c):\n",
    "    print('elif')"
   ]
  },
  {
   "cell_type": "markdown",
   "id": "08cc8e9d",
   "metadata": {},
   "source": [
    "**pass**"
   ]
  },
  {
   "cell_type": "code",
   "execution_count": null,
   "id": "4f7438fd",
   "metadata": {},
   "outputs": [],
   "source": [
    "valor = 0\n",
    "\n",
    "if valor == 0:\n",
    "    print(\"O valor não pode ser igual a zero!\")\n",
    "\n",
    "# Não faz nada\n",
    "# É utilizado o 'pass' visto que é obrigatório utilizar algum comando dentro de uma condição, e o 'pass' não faz nada\n",
    "else:\n",
    "    pass"
   ]
  },
  {
   "cell_type": "code",
   "execution_count": 49,
   "id": "e8f5ee58",
   "metadata": {},
   "outputs": [
    {
     "name": "stdout",
     "output_type": "stream",
     "text": [
      "A variável NÃO apareceu\n"
     ]
    }
   ],
   "source": [
    "a = ''\n",
    "\n",
    "if a:\n",
    "    print(\"A variável APARECEU\")\n",
    "\n",
    "else:\n",
    "    print(\"A variável NÃO apareceu\")"
   ]
  },
  {
   "cell_type": "code",
   "execution_count": 50,
   "id": "de16a596",
   "metadata": {},
   "outputs": [
    {
     "name": "stdout",
     "output_type": "stream",
     "text": [
      "A variável APARECEU\n"
     ]
    }
   ],
   "source": [
    "b = 'd'\n",
    "\n",
    "if b:\n",
    "    print(\"A variável APARECEU\")\n",
    "\n",
    "else:\n",
    "    print(\"A variável NÃO apareceu\")"
   ]
  },
  {
   "cell_type": "code",
   "execution_count": 1,
   "id": "6b56fb7c",
   "metadata": {},
   "outputs": [
    {
     "name": "stdout",
     "output_type": "stream",
     "text": [
      "False\n"
     ]
    }
   ],
   "source": [
    "a = True\n",
    "b = False\n",
    "\n",
    "if a and b:\n",
    "    print(\"True\")\n",
    "\n",
    "else:\n",
    "    print('False')"
   ]
  },
  {
   "cell_type": "code",
   "execution_count": 2,
   "id": "368c01a8",
   "metadata": {},
   "outputs": [
    {
     "name": "stdout",
     "output_type": "stream",
     "text": [
      "True\n"
     ]
    }
   ],
   "source": [
    "a = True\n",
    "b = False\n",
    "\n",
    "if a or b:\n",
    "    print(\"True\")\n",
    "\n",
    "else:\n",
    "    print('False')"
   ]
  },
  {
   "cell_type": "markdown",
   "id": "a9331604",
   "metadata": {},
   "source": [
    "# Strings"
   ]
  },
  {
   "cell_type": "markdown",
   "id": "b63aa3ff",
   "metadata": {},
   "source": [
    "**Fatiamento de strings e listas**"
   ]
  },
  {
   "cell_type": "code",
   "execution_count": null,
   "id": "0142af65",
   "metadata": {},
   "outputs": [
    {
     "data": {
      "text/plain": [
       "'Se porventura o texto que você escrever estiver muito grande, uma alternativa é quebrá-lo em várias partes e com isso você conseguirá visualizar ele de forma mais clara'"
      ]
     },
     "metadata": {},
     "output_type": "display_data"
    }
   ],
   "source": [
    "texto = \"Se porventura o texto que você escrever estiver muito grande\"\n",
    "texto += \", uma alternativa é quebrá-lo em várias partes\"\n",
    "texto += \" e com isso você conseguirá visualizar ele de forma mais clara\"\n",
    "\n",
    "texto"
   ]
  },
  {
   "cell_type": "code",
   "execution_count": null,
   "id": "356a1afa",
   "metadata": {},
   "outputs": [
    {
     "name": "stdout",
     "output_type": "stream",
     "text": [
      "Talvez você não saiba, mas \n",
      " é um caractere especial\n"
     ]
    }
   ],
   "source": [
    "print('Talvez você não saiba, mas \\n é um caractere especial')"
   ]
  },
  {
   "cell_type": "code",
   "execution_count": null,
   "id": "e56bca3e",
   "metadata": {},
   "outputs": [
    {
     "name": "stdout",
     "output_type": "stream",
     "text": [
      "Talvez você não saiba, mas \\n é um caractere especial\n"
     ]
    }
   ],
   "source": [
    "print('Talvez você não saiba, mas \\\\n é um caractere especial')"
   ]
  },
  {
   "cell_type": "code",
   "execution_count": null,
   "id": "7b6b2ef2",
   "metadata": {},
   "outputs": [
    {
     "name": "stdout",
     "output_type": "stream",
     "text": [
      "Você também pode utilizar \t tabulação\n"
     ]
    }
   ],
   "source": [
    "print('Você também pode utilizar \\t tabulação')"
   ]
  },
  {
   "cell_type": "code",
   "execution_count": null,
   "id": "173a0993",
   "metadata": {},
   "outputs": [
    {
     "name": "stdout",
     "output_type": "stream",
     "text": [
      "9\n",
      "\n",
      "A\n",
      "\n",
      "ABCDEFGHI\n",
      "\n",
      "BCDEFGH\n",
      "\n",
      "C\n"
     ]
    }
   ],
   "source": [
    "x = \"ABCDEFGHI\"\n",
    "\n",
    "# Apresenta o tamanho da string\n",
    "print(str(len(x)) + '\\n')\n",
    "\n",
    "# Começa na primeira 1º e vai até a primeira 1º (A 2º posição (1) não conta)\n",
    "# [0,1) Fechado na posição zero (está contido) e aberto na posição 1 (não está contido)\n",
    "print(x[0:1] + '\\n') \n",
    "\n",
    "print(x[0:9] + '\\n')\n",
    "\n",
    "print(x[1:8] + '\\n')\n",
    "\n",
    "# Apresenta o 3° elemento da string\n",
    "print(x[2])"
   ]
  },
  {
   "cell_type": "code",
   "execution_count": null,
   "id": "ef56f9c3",
   "metadata": {},
   "outputs": [
    {
     "name": "stdout",
     "output_type": "stream",
     "text": [
      "ABCDE\n",
      "CDEFGHI\n"
     ]
    }
   ],
   "source": [
    "# Só coloca os 5 primeiros itens\n",
    "print(x[:5]) \n",
    "\n",
    "# Ignora os 2 primeiros itens\n",
    "print(x[2:])"
   ]
  },
  {
   "cell_type": "code",
   "execution_count": null,
   "id": "2e1da3aa",
   "metadata": {},
   "outputs": [
    {
     "name": "stdout",
     "output_type": "stream",
     "text": [
      "EFGHI\n",
      "ABCDEFG\n"
     ]
    }
   ],
   "source": [
    "# Só coloca os 5 últimos itens\n",
    "print(x[-5:]) \n",
    "\n",
    "# Ignora os dois últimos itens\n",
    "print(x[:-2]) "
   ]
  },
  {
   "cell_type": "code",
   "execution_count": null,
   "id": "46a0e55e",
   "metadata": {},
   "outputs": [
    {
     "name": "stdout",
     "output_type": "stream",
     "text": [
      "ABCDEFGHI\n"
     ]
    }
   ],
   "source": [
    "# Começa na primeira posição e vai até a última\n",
    "print(x[:])"
   ]
  },
  {
   "cell_type": "code",
   "execution_count": null,
   "id": "8e7f1aff",
   "metadata": {},
   "outputs": [
    {
     "name": "stdout",
     "output_type": "stream",
     "text": [
      "H\n",
      "GH\n",
      "FGH\n",
      "FG\n",
      "EFG\n"
     ]
    }
   ],
   "source": [
    "# Coloca apenas os itens (-y: - x) da direita para a esquerda, ignora os y últimos\n",
    "print(x[-2:-1])\n",
    "\n",
    "print(x[-3:-1])\n",
    "\n",
    "print(x[-4:-1])\n",
    "\n",
    "print(x[-4:-2])\n",
    "\n",
    "# 5 - 2 = 3 -> Coloca apenas os itens 1, 2 e 3 da posição da direita para a esquerda\n",
    "print(x[-5:-2]) "
   ]
  },
  {
   "cell_type": "code",
   "execution_count": 10,
   "id": "52e0074e",
   "metadata": {},
   "outputs": [
    {
     "name": "stdout",
     "output_type": "stream",
     "text": [
      "x\n",
      "x[:]\n",
      "[0, 1, 2, 3, 4, 5, 6, 7, 8, 9] \n",
      "\n",
      "x[::2]\n",
      "[0, 2, 4, 6, 8] \n",
      "\n",
      "x[0:-1:2]\n",
      "[0, 2, 4, 6, 8] \n",
      "\n",
      "x[2::]\n",
      "[2, 3, 4, 5, 6, 7, 8, 9] \n",
      "\n",
      "x[0:-1:2]\n",
      "[0, 2, 4, 6, 8] \n",
      "\n",
      "x[2:-1:1]\n",
      "[2, 3, 4, 5, 6, 7, 8] \n",
      "\n",
      "x[::-2]\n",
      "[9, 7, 5, 3, 1] \n",
      "\n",
      "x[-1:0:-2]\n",
      "[9, 7, 5, 3, 1] \n",
      "\n",
      "x[-2::]\n",
      "[8, 9] \n",
      "\n",
      "x[-2::1]\n",
      "[8, 9] \n",
      "\n"
     ]
    }
   ],
   "source": [
    "x = list(range(10))\n",
    "print('x')\n",
    "print('x[:]')\n",
    "print(x,'\\n')\n",
    "\n",
    "print('x[::2]')\n",
    "print(x[::2],'\\n')\n",
    "\n",
    "print('x[0:-1:2]')\n",
    "print(x[0:-1:2], '\\n')\n",
    "\n",
    "print('x[2::]')\n",
    "print(x[2::], '\\n')\n",
    "\n",
    "print('x[0:-1:2]')\n",
    "print(x[0:-1:2], '\\n')\n",
    "\n",
    "print('x[2:-1:1]')\n",
    "print(x[2:-1:1], '\\n')\n",
    "\n",
    "print('x[::-2]')\n",
    "print(x[::-2], '\\n')\n",
    "\n",
    "print('x[-1:0:-2]')\n",
    "print(x[-1:0:-2], '\\n')\n",
    "\n",
    "print('x[-2::]')\n",
    "print(x[-2::], '\\n')\n",
    "\n",
    "print('x[-2::1]')\n",
    "print(x[-2::1], '\\n')"
   ]
  },
  {
   "cell_type": "code",
   "execution_count": null,
   "id": "76eb5a16",
   "metadata": {},
   "outputs": [
    {
     "name": "stdout",
     "output_type": "stream",
     "text": [
      "João de Oliveira Sampaio Júnior tem 22 anos e R$ 51.345248 no bolso.\n",
      "\n",
      "João de Oliveira Sampaio Júnior tem 22 anos e R$ 51.345 no bolso.\n",
      "\n",
      "João de Oliveira Sampaio Júnior tem 22 anos e R$ 51.34524752 no bolso.\n",
      "\n",
      "João de Oliveira Sampaio Júnior tem 22 anos e R$ 51.34524752 no bolso.\n",
      "\n",
      "João de Oliveira Sampaio Júnior tem 22 anos e R$ 51.34524752 no bolso.\n",
      "\n",
      "João de Oliveira Sampaio Júnior tem 22 anos e R$ 51.35 no bolso.\n"
     ]
    }
   ],
   "source": [
    "nome = \"João de Oliveira Sampaio Júnior\"\n",
    "idade = 22\n",
    "grana = 51.34524752\n",
    "\n",
    "#===================================================================================\n",
    "\n",
    "print(\"%s tem %d anos e R$ %f no bolso.\\n\" % (nome, idade, grana))\n",
    "print(\"%5s tem %02d anos e R$ %06.3f no bolso.\\n\" % (nome, idade, grana))\n",
    "\n",
    "print(\"{} tem {} anos e R$ {} no bolso.\\n\".format(nome, idade, grana))\n",
    "print(\"{} tem {} anos e R$ {} no bolso.\\n\".format(nome, idade, grana))\n",
    "\n",
    "print(f\"{nome} tem {idade} anos e R$ {grana} no bolso.\\n\")\n",
    "print(f\"{nome} tem {idade} anos e R$ {grana:.2f} no bolso.\")"
   ]
  },
  {
   "cell_type": "code",
   "execution_count": null,
   "id": "461ac1ec",
   "metadata": {},
   "outputs": [
    {
     "name": "stdout",
     "output_type": "stream",
     "text": [
      "Os valors são: 3 e 2\n",
      "Os valors são: 3 e 2\n"
     ]
    }
   ],
   "source": [
    "a = 3\n",
    "b = 2\n",
    "\n",
    "print('Os valors são: ' + str(a) + ' e ' + str(b))\n",
    "print('Os valors são:', a, 'e', b)"
   ]
  },
  {
   "cell_type": "code",
   "execution_count": null,
   "id": "c2e74b16",
   "metadata": {},
   "outputs": [
    {
     "name": "stdout",
     "output_type": "stream",
     "text": [
      "Oi Ari, como você está?\n"
     ]
    }
   ],
   "source": [
    "a = \"Oi\"\n",
    "b = \" Ari\"\n",
    "c = \", como você está?\"\n",
    "print(a + b + c)"
   ]
  },
  {
   "cell_type": "code",
   "execution_count": null,
   "id": "ff5b028f",
   "metadata": {},
   "outputs": [
    {
     "name": "stdout",
     "output_type": "stream",
     "text": [
      "Eu te vi hoje.\n",
      "\n",
      "Sério?! Onde?\n"
     ]
    }
   ],
   "source": [
    "string_1 = \"Eu te vi hoje.\"\n",
    "string_2 = \"Sério?! Onde?\"\n",
    "\n",
    "print(string_1 + '\\n')\n",
    "print(string_2)"
   ]
  },
  {
   "cell_type": "code",
   "execution_count": null,
   "id": "d274a757",
   "metadata": {},
   "outputs": [
    {
     "name": "stdout",
     "output_type": "stream",
     "text": [
      "\n",
      "Caso você deseje fazer textos maiores no print,\n",
      "essa é uma ótima opção 3 e 5.\n",
      "      \n"
     ]
    }
   ],
   "source": [
    "a = 3\n",
    "b = 5\n",
    "\n",
    "print(f\"\"\"\n",
    "Caso você deseje fazer textos maiores no print,\n",
    "essa é uma ótima opção {a} e {b}.\n",
    "      \"\"\")"
   ]
  },
  {
   "cell_type": "code",
   "execution_count": null,
   "id": "1760dd1e",
   "metadata": {},
   "outputs": [
    {
     "name": "stdout",
     "output_type": "stream",
     "text": [
      "==================================================\n"
     ]
    }
   ],
   "source": [
    "print('=' * 50)"
   ]
  },
  {
   "cell_type": "code",
   "execution_count": null,
   "id": "4adadb06",
   "metadata": {},
   "outputs": [
    {
     "name": "stdout",
     "output_type": "stream",
     "text": [
      "O faturamento foi de R$ 1000.\n"
     ]
    }
   ],
   "source": [
    "faturamento = 1000\n",
    "\n",
    "texto = 'O faturamento foi de R$ {}.'\n",
    "\n",
    "print(texto.format(faturamento))"
   ]
  },
  {
   "cell_type": "code",
   "execution_count": null,
   "id": "2b747eab",
   "metadata": {},
   "outputs": [
    {
     "data": {
      "text/plain": [
       "'Ari'"
      ]
     },
     "metadata": {},
     "output_type": "display_data"
    }
   ],
   "source": [
    "texto = 'ari'\n",
    "texto.capitalize()"
   ]
  },
  {
   "cell_type": "code",
   "execution_count": null,
   "id": "c6fec05f",
   "metadata": {},
   "outputs": [
    {
     "data": {
      "text/plain": [
       "'ari'"
      ]
     },
     "metadata": {},
     "output_type": "display_data"
    }
   ],
   "source": [
    "texto = 'ARI'\n",
    "texto.casefold()"
   ]
  },
  {
   "cell_type": "code",
   "execution_count": null,
   "id": "d7520fb7",
   "metadata": {},
   "outputs": [
    {
     "data": {
      "text/plain": [
       "4"
      ]
     },
     "metadata": {},
     "output_type": "display_data"
    }
   ],
   "source": [
    "texto = 'Ariosvaldo Zacarias'\n",
    "texto.count('a')"
   ]
  },
  {
   "cell_type": "code",
   "execution_count": null,
   "id": "deedc2e6",
   "metadata": {},
   "outputs": [
    {
     "data": {
      "text/plain": [
       "5"
      ]
     },
     "metadata": {},
     "output_type": "display_data"
    }
   ],
   "source": [
    "texto = 'Ariosvaldo Zacarias'\n",
    "texto = texto.casefold()\n",
    "texto.count('a')"
   ]
  },
  {
   "cell_type": "code",
   "execution_count": null,
   "id": "f132a048",
   "metadata": {},
   "outputs": [
    {
     "data": {
      "text/plain": [
       "True"
      ]
     },
     "metadata": {},
     "output_type": "display_data"
    }
   ],
   "source": [
    "texto = 'aribarrosfilho@gmail.com'\n",
    "texto.endswith('@gmail.com')"
   ]
  },
  {
   "cell_type": "code",
   "execution_count": null,
   "id": "e7fa3947",
   "metadata": {},
   "outputs": [
    {
     "data": {
      "text/plain": [
       "True"
      ]
     },
     "metadata": {},
     "output_type": "display_data"
    }
   ],
   "source": [
    "texto = 'aribarrosfilho@gmail.com'\n",
    "texto.startswith('ari')"
   ]
  },
  {
   "cell_type": "code",
   "execution_count": null,
   "id": "317d8e12",
   "metadata": {},
   "outputs": [
    {
     "data": {
      "text/plain": [
       "6"
      ]
     },
     "metadata": {},
     "output_type": "display_data"
    }
   ],
   "source": [
    "# Retorna a primeira posição do valor encontrado\n",
    "texto = 'Ariosvaldo Zacarias'\n",
    "texto.find('a')"
   ]
  },
  {
   "cell_type": "code",
   "execution_count": null,
   "id": "bf2ea1d7",
   "metadata": {},
   "outputs": [
    {
     "data": {
      "text/plain": [
       "True"
      ]
     },
     "metadata": {},
     "output_type": "display_data"
    }
   ],
   "source": [
    "# Verifica se o texto apresenta apenas letras e números\n",
    "texto = \"Ari12ç3\"\n",
    "texto.isalnum()"
   ]
  },
  {
   "cell_type": "code",
   "execution_count": null,
   "id": "343eedc7",
   "metadata": {},
   "outputs": [
    {
     "data": {
      "text/plain": [
       "False"
      ]
     },
     "metadata": {},
     "output_type": "display_data"
    }
   ],
   "source": [
    "# Verifica se o texto apresenta apenas letras\n",
    "texto = \"Ari12ç3\"\n",
    "texto.isalpha()"
   ]
  },
  {
   "cell_type": "code",
   "execution_count": null,
   "id": "5ba89fde",
   "metadata": {},
   "outputs": [
    {
     "data": {
      "text/plain": [
       "False"
      ]
     },
     "metadata": {},
     "output_type": "display_data"
    }
   ],
   "source": [
    "# Verifica se o texto apresenta apenas números\n",
    "texto = \"Ari12ç3\"\n",
    "texto.isnumeric()"
   ]
  },
  {
   "cell_type": "code",
   "execution_count": null,
   "id": "7c698b0a",
   "metadata": {},
   "outputs": [
    {
     "data": {
      "text/plain": [
       "'1000.00'"
      ]
     },
     "metadata": {},
     "output_type": "display_data"
    }
   ],
   "source": [
    "texto = '1000,00'\n",
    "texto.replace(',','.')"
   ]
  },
  {
   "cell_type": "code",
   "execution_count": null,
   "id": "bf284c39",
   "metadata": {},
   "outputs": [
    {
     "data": {
      "text/plain": [
       "['aribarrosfilho', 'gmail.com']"
      ]
     },
     "metadata": {},
     "output_type": "display_data"
    }
   ],
   "source": [
    "texto = 'aribarrosfilho@gmail.com'\n",
    "texto.split('@')"
   ]
  },
  {
   "cell_type": "code",
   "execution_count": null,
   "id": "20ae7cfa",
   "metadata": {},
   "outputs": [
    {
     "name": "stdout",
     "output_type": "stream",
     "text": [
      "['Bom dia, tudo bem?', 'Eu gostaria de saber se a viagem para amanhã ainda está de pé.', 'Soube que choverá muito pela tarde']\n"
     ]
    }
   ],
   "source": [
    "texto = \"\"\"Bom dia, tudo bem?\n",
    "Eu gostaria de saber se a viagem para amanhã ainda está de pé.\n",
    "Soube que choverá muito pela tarde\n",
    "\"\"\"\n",
    "\n",
    "print(texto.splitlines())"
   ]
  },
  {
   "cell_type": "code",
   "execution_count": null,
   "id": "a956dd39",
   "metadata": {},
   "outputs": [
    {
     "data": {
      "text/plain": [
       "'ari para sempre'"
      ]
     },
     "metadata": {},
     "output_type": "display_data"
    }
   ],
   "source": [
    "texto = ' ari para sempre '\n",
    "texto.strip()"
   ]
  },
  {
   "cell_type": "code",
   "execution_count": null,
   "id": "95d5439e",
   "metadata": {},
   "outputs": [
    {
     "data": {
      "text/plain": [
       "' Ari Para Sempre '"
      ]
     },
     "metadata": {},
     "output_type": "display_data"
    }
   ],
   "source": [
    "texto = ' ari para sempre '\n",
    "texto.title()"
   ]
  },
  {
   "cell_type": "code",
   "execution_count": null,
   "id": "f8ab6821",
   "metadata": {},
   "outputs": [
    {
     "data": {
      "text/plain": [
       "' ARI PARA SEMPRE '"
      ]
     },
     "metadata": {},
     "output_type": "display_data"
    }
   ],
   "source": [
    "texto = ' ari para sempre '\n",
    "texto.upper()"
   ]
  },
  {
   "cell_type": "code",
   "execution_count": null,
   "id": "0fba94c4",
   "metadata": {},
   "outputs": [],
   "source": []
  },
  {
   "cell_type": "markdown",
   "id": "066b2db6",
   "metadata": {},
   "source": [
    ":<\t\tAlinha o texto à esquerda (se tiver espaço na tela para isso) <br>\n",
    ":>\t\tAlinha o texto à direita (se tiver espaço na tela para isso) <br>\n",
    ":^\t\tAlinha o texto ao centro (se tiver espaço na tela para isso) <br>\n",
    ":+\t\tColoca o sinal sempre na frente do número (independente se é positivo ou negativo) <br>\n",
    ":,\t\tColoca a vírgula como separador de milhar <br>\n",
    ":_\t\tColoca o _ como separador de milhar <br>\n",
    ":e\t\tFormato Científico <br>\n",
    ":f\t\tNúmero com quantidade fixa de casas decimais <br>\n",
    ":x\t\tFormato HEX minúscula (para cores) <br>\n",
    ":X\t\tFormato HEX maiúscula (para cores) <br>\n",
    ":%\t\tFormato Percentual <br>"
   ]
  },
  {
   "cell_type": "markdown",
   "id": "ed978074",
   "metadata": {},
   "source": [
    "- Exemplo de Alinhamento"
   ]
  },
  {
   "cell_type": "code",
   "execution_count": null,
   "id": "dfc606b9",
   "metadata": {},
   "outputs": [
    {
     "name": "stdout",
     "output_type": "stream",
     "text": [
      "Meu e-mail não é lira@gmail.com                , show?\n"
     ]
    }
   ],
   "source": [
    "email = 'lira@gmail.com'\n",
    "print('Meu e-mail não é {:<30}, show?'.format(email))"
   ]
  },
  {
   "cell_type": "markdown",
   "id": "726ef6c7",
   "metadata": {},
   "source": [
    "- Exemplo de Edição de Sinal"
   ]
  },
  {
   "cell_type": "code",
   "execution_count": null,
   "id": "abda203f",
   "metadata": {},
   "outputs": [
    {
     "name": "stdout",
     "output_type": "stream",
     "text": [
      "Faturamento foi +270 e lucro foi -230\n"
     ]
    }
   ],
   "source": [
    "custo = 500\n",
    "faturamento = 270\n",
    "lucro = faturamento - custo\n",
    "print('Faturamento foi {:+} e lucro foi {:+}'.format(faturamento, lucro))"
   ]
  },
  {
   "cell_type": "markdown",
   "id": "8cb748ee",
   "metadata": {},
   "source": [
    "- Exemplo de Separador de Milhar"
   ]
  },
  {
   "cell_type": "code",
   "execution_count": null,
   "id": "0bb823dd",
   "metadata": {},
   "outputs": [
    {
     "name": "stdout",
     "output_type": "stream",
     "text": [
      "Faturamento foi +270 e lucro foi -230\n"
     ]
    }
   ],
   "source": [
    "custo = 500\n",
    "faturamento = 270\n",
    "lucro = faturamento - custo\n",
    "print('Faturamento foi {:+} e lucro foi {:+}'.format(faturamento, lucro))"
   ]
  },
  {
   "cell_type": "markdown",
   "id": "0850acb5",
   "metadata": {},
   "source": [
    "- Formato com casas Decimais fixas"
   ]
  },
  {
   "cell_type": "code",
   "execution_count": null,
   "id": "6125d7e2",
   "metadata": {},
   "outputs": [
    {
     "name": "stdout",
     "output_type": "stream",
     "text": [
      "Faturamento foi 270.00 e lucro foi -230.000000\n"
     ]
    }
   ],
   "source": [
    "custo = 500\n",
    "faturamento = 270\n",
    "lucro = faturamento - custo\n",
    "print('Faturamento foi {:.2f} e lucro foi {:2f}'.format(faturamento, lucro))"
   ]
  },
  {
   "cell_type": "markdown",
   "id": "2be89815",
   "metadata": {},
   "source": [
    "- Formato Percentual"
   ]
  },
  {
   "cell_type": "code",
   "execution_count": null,
   "id": "6900dbba",
   "metadata": {},
   "outputs": [
    {
     "name": "stdout",
     "output_type": "stream",
     "text": [
      "Margem de lucro foi de 61.54%\n"
     ]
    }
   ],
   "source": [
    "custo = 500\n",
    "faturamento = 1300\n",
    "lucro = faturamento - custo\n",
    "margem = lucro / faturamento\n",
    "print('Margem de lucro foi de {:.2%}'.format(margem))"
   ]
  },
  {
   "cell_type": "markdown",
   "id": "44c790b5",
   "metadata": {},
   "source": [
    "- Formato Moeda -> Combinação de Formatos\n",
    "\n",
    "Existem módulos/bibliotecas que vão facilitar isso, caso a gente queira, mas vamos ver como usar módulos mais a frente do curso. Por enquanto, se você precisar, pode fazer substituições em string"
   ]
  },
  {
   "cell_type": "code",
   "execution_count": null,
   "id": "f0404c1f",
   "metadata": {},
   "outputs": [
    {
     "name": "stdout",
     "output_type": "stream",
     "text": [
      "Faturamento foi R$27,000.00 e lucro foi R$22,000.00\n",
      "R$22.000,00\n"
     ]
    }
   ],
   "source": [
    "custo = 5000\n",
    "faturamento = 27000\n",
    "lucro = faturamento - custo\n",
    "print('Faturamento foi R${:,.2f} e lucro foi R${:,.2f}'.format(faturamento, lucro))\n",
    "\n",
    "#transformando no formato brasileiro\n",
    "lucro_texto = 'R${:_.2f}'.format(lucro)\n",
    "print(lucro_texto.replace('.', ',').replace('_', '.'))"
   ]
  },
  {
   "cell_type": "markdown",
   "id": "f32862e5",
   "metadata": {},
   "source": [
    "- Função round() para arredondar números, caso seja necessário"
   ]
  },
  {
   "cell_type": "code",
   "execution_count": null,
   "id": "d770fce6",
   "metadata": {},
   "outputs": [
    {
     "name": "stdout",
     "output_type": "stream",
     "text": [
      "Imposto sobre o preço é de 15.8\n"
     ]
    }
   ],
   "source": [
    "imposto = 0.15758\n",
    "preco = 100\n",
    "valor_imposto = round(preco * imposto, 1)\n",
    "print('Imposto sobre o preço é de {}'.format(valor_imposto))"
   ]
  },
  {
   "cell_type": "code",
   "execution_count": null,
   "id": "1d7b8b2b",
   "metadata": {},
   "outputs": [],
   "source": []
  },
  {
   "cell_type": "markdown",
   "id": "e382158f",
   "metadata": {},
   "source": [
    "# Lista"
   ]
  },
  {
   "cell_type": "markdown",
   "id": "a62c2e07",
   "metadata": {},
   "source": [
    "[Python - Listas](https://docs.python.org/3/tutorial/datastructures.html)"
   ]
  },
  {
   "cell_type": "code",
   "execution_count": 21,
   "id": "da08366d",
   "metadata": {},
   "outputs": [
    {
     "name": "stdout",
     "output_type": "stream",
     "text": [
      "[0, 1, 2, 3, 4, 5, 6, 7, 8, 9]\n",
      "10\n"
     ]
    }
   ],
   "source": [
    "lista_1 = list(range(10))\n",
    "\n",
    "# Apresenta a lista\n",
    "print(lista_1)\n",
    "\n",
    "# Retorna o tamanho da lista, ou seja, a quantidade total de elementos\n",
    "print(len(lista_1))"
   ]
  },
  {
   "cell_type": "code",
   "execution_count": 22,
   "id": "f66cdb1f",
   "metadata": {},
   "outputs": [
    {
     "name": "stdout",
     "output_type": "stream",
     "text": [
      "[2, 3, 4, 5, 6, 7, 8, 9]\n",
      "8\n"
     ]
    }
   ],
   "source": [
    "lista_2 = list(range(2, 10))\n",
    "\n",
    "# Apresenta a lista\n",
    "print(lista_2)\n",
    "\n",
    "# Retorna o tamanho da lista, ou seja, a quantidade total de elementos\n",
    "print(len(lista_2))"
   ]
  },
  {
   "cell_type": "code",
   "execution_count": 24,
   "id": "67f0b22b",
   "metadata": {},
   "outputs": [
    {
     "name": "stdout",
     "output_type": "stream",
     "text": [
      "[3, 5, 7, 9]\n",
      "4\n"
     ]
    }
   ],
   "source": [
    "lista_3 = list(range(3, 10, 2))\n",
    "\n",
    "# Apresenta a lista\n",
    "print(lista_3)\n",
    "\n",
    "# Retorna o tamanho da lista, ou seja, a quantidade total de elementos\n",
    "print(len(lista_3))"
   ]
  },
  {
   "cell_type": "code",
   "execution_count": 25,
   "id": "7ec17778",
   "metadata": {},
   "outputs": [
    {
     "data": {
      "text/plain": [
       "3"
      ]
     },
     "execution_count": 25,
     "metadata": {},
     "output_type": "execute_result"
    }
   ],
   "source": [
    "lista_3[0]"
   ]
  },
  {
   "cell_type": "code",
   "execution_count": null,
   "id": "7ae81b8c",
   "metadata": {},
   "outputs": [
    {
     "data": {
      "text/plain": [
       "5"
      ]
     },
     "metadata": {},
     "output_type": "display_data"
    }
   ],
   "source": [
    "lista_3[0] # Não será apresentado\n",
    "lista_3[1]"
   ]
  },
  {
   "cell_type": "code",
   "execution_count": null,
   "id": "1401ad16",
   "metadata": {},
   "outputs": [
    {
     "name": "stdout",
     "output_type": "stream",
     "text": [
      "3\n",
      "5\n"
     ]
    }
   ],
   "source": [
    "# Apresenta o 1° item\n",
    "print(lista_3[0])\n",
    "\n",
    "# Apresenta o 2° item\n",
    "print(lista_3[1])"
   ]
  },
  {
   "cell_type": "code",
   "execution_count": null,
   "id": "677958ab",
   "metadata": {},
   "outputs": [],
   "source": []
  },
  {
   "cell_type": "code",
   "execution_count": null,
   "id": "52e95094",
   "metadata": {},
   "outputs": [
    {
     "data": {
      "text/plain": [
       "[0, 1, 2, 3, 4, 5, 6, 7, 8, 9]"
      ]
     },
     "metadata": {},
     "output_type": "display_data"
    }
   ],
   "source": [
    "lista_a = list(range(10))\n",
    "lista_a"
   ]
  },
  {
   "cell_type": "code",
   "execution_count": null,
   "id": "6b53269b",
   "metadata": {},
   "outputs": [
    {
     "data": {
      "text/plain": [
       "[0, 2, 4, 6, 8]"
      ]
     },
     "metadata": {},
     "output_type": "display_data"
    }
   ],
   "source": [
    "lista_b = list(range(0, 10, 2))\n",
    "lista_b"
   ]
  },
  {
   "cell_type": "code",
   "execution_count": null,
   "id": "1aa17964",
   "metadata": {},
   "outputs": [
    {
     "data": {
      "text/plain": [
       "False"
      ]
     },
     "metadata": {},
     "output_type": "display_data"
    }
   ],
   "source": [
    "lista_b in lista_a"
   ]
  },
  {
   "cell_type": "code",
   "execution_count": null,
   "id": "8e8a5a7d",
   "metadata": {},
   "outputs": [
    {
     "data": {
      "text/plain": [
       "False"
      ]
     },
     "metadata": {},
     "output_type": "display_data"
    }
   ],
   "source": [
    "lista_a in lista_b"
   ]
  },
  {
   "cell_type": "code",
   "execution_count": null,
   "id": "c4c63ff7",
   "metadata": {},
   "outputs": [
    {
     "data": {
      "text/plain": [
       "True"
      ]
     },
     "metadata": {},
     "output_type": "display_data"
    }
   ],
   "source": [
    "lista_b[0] in lista_a"
   ]
  },
  {
   "cell_type": "code",
   "execution_count": null,
   "id": "5ce3f394",
   "metadata": {},
   "outputs": [
    {
     "data": {
      "text/plain": [
       "True"
      ]
     },
     "metadata": {},
     "output_type": "display_data"
    }
   ],
   "source": [
    "lista_a[0] in lista_b"
   ]
  },
  {
   "cell_type": "markdown",
   "id": "1fc8baa6",
   "metadata": {},
   "source": [
    "**Modificação de elementos da lista**"
   ]
  },
  {
   "cell_type": "code",
   "execution_count": null,
   "id": "2afd0863",
   "metadata": {},
   "outputs": [
    {
     "name": "stdout",
     "output_type": "stream",
     "text": [
      "[10, 20, 30, 40, 50]\n",
      "[10, 20, 300, 40, 50] \n",
      "\n",
      "============================================================ \n",
      "\n",
      " [10, 20, 30, 40, 50]\n",
      "[10, 1000, 30, 40, 50]\n"
     ]
    }
   ],
   "source": [
    "# Em uma lista é possível alterar o valor de determinado item, contudo em uma string isso não é possível! <br>\n",
    "# A única alteração que é possível de ser realizada é a utilização do replace()\n",
    "\n",
    "lista_a = [10, 20, 30, 40, 50]\n",
    "print(lista_a)\n",
    "\n",
    "lista_a[2] = 300\n",
    "print(lista_a, '\\n')\n",
    "\n",
    "#==================================================================================\n",
    "\n",
    "lista_b = list(range(10,51,10))\n",
    "print('=' * 60, '\\n\\n', lista_b)\n",
    "\n",
    "lista_b[1] = 1000\n",
    "print(lista_b)"
   ]
  },
  {
   "cell_type": "markdown",
   "id": "d2dd91a7",
   "metadata": {},
   "source": [
    "**Índice**"
   ]
  },
  {
   "cell_type": "code",
   "execution_count": null,
   "id": "2d754824",
   "metadata": {},
   "outputs": [
    {
     "name": "stdout",
     "output_type": "stream",
     "text": [
      "5\n",
      "5\n"
     ]
    }
   ],
   "source": [
    "itens = ['Geladeira', 'Celular', 'Tablet', 'Notebook', 'Fones de ouvido']\n",
    "preco = [2000, 800, 600, 3200, 150]\n",
    "\n",
    "print(len(itens))\n",
    "print(len(preco))"
   ]
  },
  {
   "cell_type": "code",
   "execution_count": null,
   "id": "addc481d",
   "metadata": {},
   "outputs": [
    {
     "name": "stdout",
     "output_type": "stream",
     "text": [
      "3\n",
      "Notebook\n",
      "3200\n"
     ]
    }
   ],
   "source": [
    "indice = itens.index('Notebook')\n",
    "print(indice)\n",
    "\n",
    "print(itens[indice])\n",
    "\n",
    "print(preco[indice])"
   ]
  },
  {
   "cell_type": "code",
   "execution_count": null,
   "id": "f3707aa2",
   "metadata": {},
   "outputs": [
    {
     "name": "stdout",
     "output_type": "stream",
     "text": [
      "False\n",
      "True\n",
      "True\n"
     ]
    }
   ],
   "source": [
    "item_procurado = 'Geladeira'\n",
    "\n",
    "print(item_procurado in itens)\n",
    "\n",
    "#==================================================================================\n",
    "\n",
    "item_procurado = 'geladeira'\n",
    "\n",
    "print(item_procurado in itens)\n",
    "\n",
    "#==================================================================================\n",
    "\n",
    "item_procurado = 'geladeira'\n",
    "\n",
    "item_procurado = item_procurado.casefold() # Torna todas as letras minúsculas\n",
    "item_procurado = item_procurado.capitalize() # Torna apenas a primeira letra maiúscula\n",
    "\n",
    "print(item_procurado in itens)\n",
    "\n",
    "#==================================================================================\n",
    "\n",
    "item_procurado = 'GELADEIRA'\n",
    "\n",
    "item_procurado = item_procurado.casefold() # Torna todas as letras minúsculas\n",
    "item_procurado = item_procurado.capitalize() # Torna apenas a primeira letra maiúscula\n",
    "\n",
    "print(item_procurado in itens)"
   ]
  },
  {
   "cell_type": "code",
   "execution_count": null,
   "id": "229f6095",
   "metadata": {},
   "outputs": [],
   "source": []
  },
  {
   "cell_type": "code",
   "execution_count": null,
   "id": "71f4bd9e",
   "metadata": {},
   "outputs": [
    {
     "name": "stdout",
     "output_type": "stream",
     "text": [
      "[2, 4, 6, 8, 10]\n"
     ]
    }
   ],
   "source": [
    "lista = list(range(2,11,2))\n",
    "print(lista)"
   ]
  },
  {
   "cell_type": "code",
   "execution_count": null,
   "id": "203eea6c",
   "metadata": {},
   "outputs": [
    {
     "name": "stdout",
     "output_type": "stream",
     "text": [
      "[2, 4, 6, 8, 10, 33]\n"
     ]
    }
   ],
   "source": [
    "# Adiciona 33 na última posição da lista\n",
    "lista.append(33)\n",
    "print(lista)"
   ]
  },
  {
   "cell_type": "code",
   "execution_count": null,
   "id": "c7f37d63",
   "metadata": {},
   "outputs": [
    {
     "name": "stdout",
     "output_type": "stream",
     "text": [
      "[2, 4, 6, 10, 33]\n"
     ]
    }
   ],
   "source": [
    "# Remove o elemento 8\n",
    "lista.remove(8)\n",
    "print(lista)"
   ]
  },
  {
   "cell_type": "code",
   "execution_count": null,
   "id": "6c1a8d42",
   "metadata": {},
   "outputs": [
    {
     "name": "stdout",
     "output_type": "stream",
     "text": [
      "[2, 4, 10, 33]\n"
     ]
    }
   ],
   "source": [
    "# Removo o item de índice igual a 2\n",
    "indice = 2\n",
    "lista.pop(indice)\n",
    "print(lista)"
   ]
  },
  {
   "cell_type": "code",
   "execution_count": null,
   "id": "7a78e817",
   "metadata": {},
   "outputs": [
    {
     "name": "stdout",
     "output_type": "stream",
     "text": [
      "33\n",
      "[2, 4, 10]\n"
     ]
    }
   ],
   "source": [
    "item_removido = lista.pop(3)\n",
    "print(item_removido)\n",
    "print(lista)"
   ]
  },
  {
   "cell_type": "code",
   "execution_count": null,
   "id": "96f2a75f",
   "metadata": {},
   "outputs": [
    {
     "name": "stdout",
     "output_type": "stream",
     "text": [
      "11 Não existe na lista.\n"
     ]
    }
   ],
   "source": [
    "item_remocao = 11\n",
    "\n",
    "# Tente fazer isso\n",
    "try:\n",
    "    lista.remove(item_remocao)\n",
    "\n",
    "# Se não der certo, rode o except\n",
    "except:\n",
    "    #pass # caso eu não queira fazer nada\n",
    "    print(f'{item_remocao} Não existe na lista.')"
   ]
  },
  {
   "cell_type": "code",
   "execution_count": null,
   "id": "da466d26",
   "metadata": {},
   "outputs": [],
   "source": []
  },
  {
   "cell_type": "code",
   "execution_count": null,
   "id": "b04d9cb9",
   "metadata": {},
   "outputs": [
    {
     "name": "stdout",
     "output_type": "stream",
     "text": [
      "[2, 4, 6, 8, 10]\n",
      "\n",
      "Valor máximo\n",
      "10 \n",
      "\n",
      "Valor mínimo\n",
      "2\n"
     ]
    }
   ],
   "source": [
    "lista = list(range(2,11,2))\n",
    "print(lista)\n",
    "\n",
    "#=====================================================\n",
    "\n",
    "print('\\n' + 'Valor máximo')\n",
    "\n",
    "valor_maximo = max(lista)\n",
    "\n",
    "print(valor_maximo, '\\n')\n",
    "\n",
    "#=====================================================\n",
    "\n",
    "valor_minimo = min(lista)\n",
    "\n",
    "print('Valor mínimo')\n",
    "print(valor_minimo)"
   ]
  },
  {
   "cell_type": "code",
   "execution_count": null,
   "id": "c8d19bde",
   "metadata": {},
   "outputs": [
    {
     "name": "stdout",
     "output_type": "stream",
     "text": [
      "Índice do valor máximo\n",
      "4 \n",
      "\n",
      "Índice do valor mínimo\n",
      "0\n"
     ]
    }
   ],
   "source": [
    "indice_valor_maximo = lista.index(valor_maximo)\n",
    "\n",
    "print('Índice do valor máximo')\n",
    "print(indice_valor_maximo,'\\n')\n",
    "\n",
    "#=======================================================================\n",
    "\n",
    "indice_valor_minimo = lista.index(valor_minimo)\n",
    "\n",
    "print('Índice do valor mínimo')\n",
    "print(indice_valor_minimo)"
   ]
  },
  {
   "cell_type": "code",
   "execution_count": null,
   "id": "e284dd5a",
   "metadata": {},
   "outputs": [
    {
     "name": "stdout",
     "output_type": "stream",
     "text": [
      "Lista_1\n",
      "[1, 3, 5, 7, 9] \n",
      "\n",
      "Lista_2\n",
      "[0, 2, 4, 6, 8] \n",
      "\n",
      "Lista_1 recebe lista_2\n",
      "[1, 3, 5, 7, 9, [0, 2, 4, 6, 8]]\n"
     ]
    }
   ],
   "source": [
    "lista_1 = list(range(1,10,2))\n",
    "print('Lista_1')\n",
    "print(lista_1, '\\n')\n",
    "\n",
    "lista_2 = list(range(0,10,2))\n",
    "print('Lista_2')\n",
    "print(lista_2, '\\n')\n",
    "\n",
    "lista_1.append(lista_2)\n",
    "print('Lista_1 recebe a lista_2')\n",
    "print(lista_1)"
   ]
  },
  {
   "cell_type": "code",
   "execution_count": null,
   "id": "c6b39722",
   "metadata": {},
   "outputs": [
    {
     "name": "stdout",
     "output_type": "stream",
     "text": [
      "Lista_1\n",
      "[1, 3, 5, 7, 9] \n",
      "\n",
      "Lista_2\n",
      "[0, 2, 4, 6, 8] \n",
      "\n",
      "Lista_1 recebe os itens da lista_2\n",
      "[1, 3, 5, 7, 9, 0, 2, 4, 6, 8]\n"
     ]
    }
   ],
   "source": [
    "lista_1 = list(range(1,10,2))\n",
    "print('Lista_1')\n",
    "print(lista_1, '\\n')\n",
    "\n",
    "lista_2 = list(range(0,10,2))\n",
    "print('Lista_2')\n",
    "print(lista_2, '\\n')\n",
    "\n",
    "lista_1.extend(lista_2)\n",
    "print('Lista_1 recebe os itens da lista_2')\n",
    "print(lista_1)"
   ]
  },
  {
   "cell_type": "code",
   "execution_count": null,
   "id": "ea9d2965",
   "metadata": {},
   "outputs": [
    {
     "name": "stdout",
     "output_type": "stream",
     "text": [
      "Lista_1\n",
      "[1, 3, 5, 7, 9] \n",
      "\n",
      "Lista_2\n",
      "[0, 2, 4, 6, 8] \n",
      "\n",
      "lista_3 = Lista_1 + lista_2\n",
      "[1, 3, 5, 7, 9, 0, 2, 4, 6, 8]\n"
     ]
    }
   ],
   "source": [
    "lista_1 = list(range(1,10,2))\n",
    "print('Lista_1')\n",
    "print(lista_1, '\\n')\n",
    "\n",
    "lista_2 = list(range(0,10,2))\n",
    "print('Lista_2')\n",
    "print(lista_2, '\\n')\n",
    "\n",
    "lista_3 = lista_1 + lista_2\n",
    "print('lista_3 = Lista_1 + lista_2')\n",
    "print(lista_3)"
   ]
  },
  {
   "cell_type": "markdown",
   "id": "977fe1e9",
   "metadata": {},
   "source": [
    "<div class = 'alert alert-block alert-info'>\n",
    "     <b>Assunto</b>: sort()\n",
    "</div>"
   ]
  },
  {
   "cell_type": "code",
   "execution_count": null,
   "id": "34aa4268",
   "metadata": {},
   "outputs": [
    {
     "name": "stdout",
     "output_type": "stream",
     "text": [
      "[0, 1, 2, 3, 4, 5, 6, 7, 8, 9]\n"
     ]
    }
   ],
   "source": [
    "lista_3.sort()\n",
    "print(lista_3)\n",
    "\n",
    "lista_3.sort(reverse = True)\n",
    "print(lista_3)"
   ]
  },
  {
   "cell_type": "code",
   "execution_count": null,
   "id": "6559206a",
   "metadata": {},
   "outputs": [
    {
     "name": "stdout",
     "output_type": "stream",
     "text": [
      "Lista original\n",
      "['casa', 'Fogão', 'Geladeira', 'panela', 'Itinerário', 'ganhador'] \n",
      "\n",
      "Lista ordenada\n",
      "['Fogão', 'Geladeira', 'Itinerário', 'casa', 'ganhador', 'panela']\n"
     ]
    }
   ],
   "source": [
    "lista = ['casa', 'Fogão', 'Geladeira', 'panela', 'Itinerário', 'ganhador']\n",
    "print('Lista original')\n",
    "print(lista, '\\n')\n",
    "\n",
    "lista.sort()\n",
    "print('Lista ordenada')\n",
    "print(lista)"
   ]
  },
  {
   "cell_type": "markdown",
   "id": "8a647698",
   "metadata": {},
   "source": [
    "<div class = 'alert alert-block alert-info'>\n",
    "     <b>Assunto</b>: join()\n",
    "</div>"
   ]
  },
  {
   "cell_type": "code",
   "execution_count": null,
   "id": "d506be38",
   "metadata": {},
   "outputs": [
    {
     "name": "stdout",
     "output_type": "stream",
     "text": [
      "['casa', 'fogão', 'ganhador', 'geladeira', 'itinerário', 'panela']\n",
      "\n",
      "casa\n",
      "fogão\n",
      "ganhador\n",
      "geladeira\n",
      "itinerário\n",
      "panela\n"
     ]
    }
   ],
   "source": [
    "nova_lista = []\n",
    "\n",
    "for i in lista:\n",
    "    i = i.casefold()\n",
    "    nova_lista.append(i)\n",
    "\n",
    "nova_lista.sort()\n",
    "print(nova_lista)\n",
    "\n",
    "print('')\n",
    "print('\\n' .join(nova_lista))"
   ]
  },
  {
   "cell_type": "code",
   "execution_count": null,
   "id": "d0158755",
   "metadata": {},
   "outputs": [],
   "source": []
  },
  {
   "cell_type": "code",
   "execution_count": null,
   "id": "0261887b",
   "metadata": {},
   "outputs": [
    {
     "data": {
      "text/plain": [
       "['casa', 'fogão', 'ganhador', 'geladeira', 'itinerário', 'panela']"
      ]
     },
     "metadata": {},
     "output_type": "display_data"
    }
   ],
   "source": [
    "produtos = 'casa, fogão, ganhador, geladeira, itinerário, panela'\n",
    "lista_produtos = produtos.split(', ')\n",
    "lista_produtos"
   ]
  },
  {
   "cell_type": "markdown",
   "id": "c08ea6c7",
   "metadata": {},
   "source": [
    "<div class = 'alert alert-block alert-info'>\n",
    "     <b>Assunto</b>: Cópia de listas.\n",
    "</div>"
   ]
  },
  {
   "cell_type": "code",
   "execution_count": null,
   "id": "f1015452",
   "metadata": {},
   "outputs": [
    {
     "name": "stdout",
     "output_type": "stream",
     "text": [
      "['apartamento', 'madeira', 'verde', 'cantar']\n",
      "['casa', 'madeira', 'verde', 'cantar']\n"
     ]
    }
   ],
   "source": [
    "lista_1 = ['casa', 'madeira', 'verde', 'cantar']\n",
    "\n",
    "# Cria uma nova lista sendo a cópia da lista_1\n",
    "lista_2 = lista_1.copy()\n",
    "\n",
    "# Modifica o primeiro elemento da lista_1\n",
    "lista_1[0] = 'apartamento'\n",
    "\n",
    "print(lista_1)\n",
    "print(lista_2)"
   ]
  },
  {
   "cell_type": "code",
   "execution_count": null,
   "id": "16655edd",
   "metadata": {},
   "outputs": [
    {
     "name": "stdout",
     "output_type": "stream",
     "text": [
      "['apartamento', 'madeira', 'verde', 'cantar']\n",
      "['casa', 'madeira', 'verde', 'cantar']\n"
     ]
    }
   ],
   "source": [
    "lista_1 = ['casa', 'madeira', 'verde', 'cantar']\n",
    "\n",
    "# Cria uma nova lista sendo a cópia da lista_1\n",
    "lista_2 = lista_1[:]\n",
    "\n",
    "# Modifica o primeiro elemento da lista_1\n",
    "lista_1[0] = 'apartamento'\n",
    "\n",
    "print(lista_1)\n",
    "print(lista_2)"
   ]
  },
  {
   "cell_type": "markdown",
   "id": "e33d2d0c",
   "metadata": {},
   "source": [
    "<div class = 'alert alert-block alert-info'>\n",
    "     <b>Assunto</b>: Listas de listas.\n",
    "</div>"
   ]
  },
  {
   "cell_type": "code",
   "execution_count": null,
   "id": "8216def5",
   "metadata": {},
   "outputs": [
    {
     "name": "stdout",
     "output_type": "stream",
     "text": [
      "Lista completa\n",
      "[[10, 10, 20], [40, 60, 80, 200, 100], [1, 3, 2]] \n",
      "\n",
      "Elemento da lista completa no índice 1\n",
      "[40, 60, 80, 200, 100] \n",
      "\n",
      "Elemento da lista completa no índice 1, sub-elemento no índice 3\n",
      "200\n"
     ]
    }
   ],
   "source": [
    "lista_1 = [\n",
    "    [10, 10, 20],\n",
    "    [40, 60, 80, 200, 100],\n",
    "    [1, 3, 2]\n",
    "]\n",
    "\n",
    "print('Lista completa')\n",
    "print(lista_1, '\\n')\n",
    "\n",
    "print('Elemento da lista completa no índice 1')\n",
    "print(lista_1[1], '\\n')\n",
    "\n",
    "print('Elemento da lista completa no índice 1, sub-elemento no índice 3')\n",
    "print(lista_1[1][3])"
   ]
  },
  {
   "cell_type": "code",
   "execution_count": null,
   "id": "30700297",
   "metadata": {},
   "outputs": [],
   "source": []
  },
  {
   "cell_type": "markdown",
   "id": "555811a1",
   "metadata": {},
   "source": [
    "# Estrutura de petição"
   ]
  },
  {
   "cell_type": "markdown",
   "id": "b0664287",
   "metadata": {},
   "source": [
    "## for"
   ]
  },
  {
   "cell_type": "code",
   "execution_count": 20,
   "id": "ea979654",
   "metadata": {},
   "outputs": [
    {
     "name": "stdout",
     "output_type": "stream",
     "text": [
      "Ari\n",
      "Ari\n",
      "Ari\n",
      "Ari\n",
      "Ari\n"
     ]
    }
   ],
   "source": [
    "for i in range(5):\n",
    "    print('Ari')"
   ]
  },
  {
   "cell_type": "code",
   "execution_count": 28,
   "id": "e974a634",
   "metadata": {},
   "outputs": [
    {
     "name": "stdout",
     "output_type": "stream",
     "text": [
      "0\n",
      "1\n",
      "2\n",
      "3\n",
      "4\n"
     ]
    }
   ],
   "source": [
    "for i in range(5):\n",
    "    print(i)"
   ]
  },
  {
   "cell_type": "code",
   "execution_count": 30,
   "id": "e2307fdf",
   "metadata": {},
   "outputs": [
    {
     "name": "stdout",
     "output_type": "stream",
     "text": [
      "Engenharia Elétrica\n",
      "Economia\n",
      "Direito\n",
      "Administração\n"
     ]
    }
   ],
   "source": [
    "lista = ['Engenharia Elétrica', 'Economia', 'Direito', 'Administração']\n",
    "tamanho_lista = len(lista)\n",
    "\n",
    "for i in range(tamanho_lista):\n",
    "    print(lista[i])"
   ]
  },
  {
   "cell_type": "code",
   "execution_count": 29,
   "id": "4e0648ce",
   "metadata": {},
   "outputs": [
    {
     "name": "stdout",
     "output_type": "stream",
     "text": [
      "Engenharia Elétrica\n",
      "Economia\n",
      "Direito\n",
      "Administração\n"
     ]
    }
   ],
   "source": [
    "lista = ['Engenharia Elétrica', 'Economia', 'Direito', 'Administração']\n",
    "\n",
    "for i in lista:\n",
    "    print(i)"
   ]
  },
  {
   "cell_type": "code",
   "execution_count": null,
   "id": "1812d46b",
   "metadata": {},
   "outputs": [],
   "source": []
  },
  {
   "cell_type": "code",
   "execution_count": 34,
   "id": "ae3f8509",
   "metadata": {},
   "outputs": [
    {
     "name": "stdout",
     "output_type": "stream",
     "text": [
      "0 Engenharia Elétrica\n",
      "\n",
      "1 Economia\n",
      "\n",
      "2 Direito\n",
      "\n",
      "3 Administração\n",
      "\n"
     ]
    }
   ],
   "source": [
    "i = 0\n",
    "\n",
    "for curso in lista:\n",
    "    print(f'{i} {curso}\\n')\n",
    "    i += 1"
   ]
  },
  {
   "cell_type": "code",
   "execution_count": 33,
   "id": "16dcc785",
   "metadata": {},
   "outputs": [
    {
     "name": "stdout",
     "output_type": "stream",
     "text": [
      "0 Engenharia Elétrica\n",
      "\n",
      "1 Economia\n",
      "\n",
      "2 Direito\n",
      "\n",
      "3 Administração\n",
      "\n"
     ]
    }
   ],
   "source": [
    "for i, curso in enumerate(lista):\n",
    "    print(f'{i} {curso}\\n')"
   ]
  },
  {
   "cell_type": "markdown",
   "id": "4fd04eab",
   "metadata": {},
   "source": [
    "<div class = 'alert alert-block alert-info'>\n",
    "     <b>Assunto</b>: Break.\n",
    "</div>"
   ]
  },
  {
   "cell_type": "markdown",
   "id": "df19c1c4",
   "metadata": {},
   "source": [
    "O **break** cancela a iteração atual e as próximas também para aquele laço de repetição"
   ]
  },
  {
   "cell_type": "code",
   "execution_count": 12,
   "id": "52ea77e9",
   "metadata": {},
   "outputs": [
    {
     "name": "stdout",
     "output_type": "stream",
     "text": [
      "20\n",
      "30\n",
      "40\n"
     ]
    }
   ],
   "source": [
    "lista = [20, 30, 40, 50, 25, 10]\n",
    "\n",
    "for i in lista:\n",
    "\n",
    "    if i >= 45:\n",
    "        break\n",
    "    \n",
    "    print(i)"
   ]
  },
  {
   "cell_type": "code",
   "execution_count": 16,
   "id": "270b7ed6",
   "metadata": {},
   "outputs": [
    {
     "name": "stdout",
     "output_type": "stream",
     "text": [
      "20\n",
      "30\n",
      "40\n",
      "-----------------------------------------------------------------\n",
      "15\n",
      "28\n",
      "-----------------------------------------------------------------\n"
     ]
    }
   ],
   "source": [
    "lista = [\n",
    "    [20, 30, 40, 50, 25, 10, 12, 54, 35],\n",
    "    [15, 28, 60, 2, 59, 3]\n",
    "]\n",
    "\n",
    "for i in lista:\n",
    "\n",
    "    # Caso o break seja ativado, apenas esse for abaixo será cancelado\n",
    "    for j in i:\n",
    "\n",
    "        if j >= 45:\n",
    "            break\n",
    "\n",
    "        print(j)\n",
    "    \n",
    "    print('-' * 65)"
   ]
  },
  {
   "cell_type": "markdown",
   "id": "dac16fde",
   "metadata": {},
   "source": [
    "<div class = 'alert alert-block alert-info'>\n",
    "     <b>Assunto</b>: Listas de listas.\n",
    "</div>"
   ]
  },
  {
   "cell_type": "code",
   "execution_count": 17,
   "id": "5c0f2765",
   "metadata": {},
   "outputs": [
    {
     "name": "stdout",
     "output_type": "stream",
     "text": [
      "20\n",
      "30\n",
      "40\n",
      "25\n",
      "10\n"
     ]
    }
   ],
   "source": [
    "lista = [20, 30, 40, 50, 25, 10]\n",
    "\n",
    "for i in lista:\n",
    "\n",
    "    if i >= 45:\n",
    "        continue\n",
    "    \n",
    "    print(i)"
   ]
  },
  {
   "cell_type": "code",
   "execution_count": 18,
   "id": "f5ccd28b",
   "metadata": {},
   "outputs": [
    {
     "name": "stdout",
     "output_type": "stream",
     "text": [
      "20\n",
      "30\n",
      "40\n",
      "25\n",
      "10\n",
      "12\n",
      "35\n",
      "-----------------------------------------------------------------\n",
      "15\n",
      "28\n",
      "2\n",
      "3\n",
      "-----------------------------------------------------------------\n"
     ]
    }
   ],
   "source": [
    "lista = [\n",
    "    [20, 30, 40, 50, 25, 10, 12, 54, 35],\n",
    "    [15, 28, 60, 2, 59, 3]\n",
    "]\n",
    "\n",
    "for i in lista:\n",
    "\n",
    "    # Caso o continue seja ativado, apenas esse for abaixo será cancelado nesse momento\n",
    "    for j in i:\n",
    "\n",
    "        if j >= 45:\n",
    "            continue\n",
    "\n",
    "        print(j)\n",
    "    \n",
    "    print('-' * 65)"
   ]
  },
  {
   "cell_type": "markdown",
   "id": "f3efd68d",
   "metadata": {},
   "source": [
    "## while"
   ]
  },
  {
   "cell_type": "markdown",
   "id": "be3b47a6",
   "metadata": {},
   "source": [
    "<div class = 'alert alert-block alert-info'>\n",
    "     <b>Assunto</b>: Listas de listas.\n",
    "</div>"
   ]
  },
  {
   "cell_type": "code",
   "execution_count": 19,
   "id": "3457d603",
   "metadata": {},
   "outputs": [
    {
     "name": "stdout",
     "output_type": "stream",
     "text": [
      "0\n",
      "1\n",
      "2\n",
      "3\n",
      "4\n",
      "5\n",
      "6\n",
      "7\n"
     ]
    }
   ],
   "source": [
    "contador = 0\n",
    "\n",
    "while contador < 8:\n",
    "    print(contador)\n",
    "    contador += 1"
   ]
  },
  {
   "cell_type": "code",
   "execution_count": 21,
   "id": "0e202dff",
   "metadata": {},
   "outputs": [
    {
     "name": "stdout",
     "output_type": "stream",
     "text": [
      "0\n",
      "1\n",
      "2\n",
      "3\n",
      "4\n",
      "5\n",
      "6\n",
      "7\n"
     ]
    }
   ],
   "source": [
    "contador = 0\n",
    "\n",
    "while True:\n",
    "\n",
    "    if contador == 8:\n",
    "        break\n",
    "\n",
    "    print(contador)\n",
    "\n",
    "    contador += 1"
   ]
  },
  {
   "cell_type": "markdown",
   "id": "00200d9d",
   "metadata": {},
   "source": [
    "# Tuplas"
   ]
  },
  {
   "cell_type": "markdown",
   "id": "68edc118",
   "metadata": {},
   "source": [
    "* Semelhantes as listas, porém são imutáveis (não se pode alterar seus valores uma vez criada)\n",
    "* Apresentam uma performance mais elevada"
   ]
  },
  {
   "cell_type": "code",
   "execution_count": 15,
   "id": "2bb33284",
   "metadata": {},
   "outputs": [
    {
     "name": "stdout",
     "output_type": "stream",
     "text": [
      "('Ari', 24, 56.8) \n",
      "\n",
      "('Ari', 24, 56.8)\n"
     ]
    }
   ],
   "source": [
    "# Podemos criar dessa maneira\n",
    "dados = 'Ari', 24, 56.8\n",
    "print(dados,'\\n')\n",
    "\n",
    "# Porém essa maneira é a mais indicada\n",
    "dados = ('Ari', 24, 56.8)\n",
    "print(dados)"
   ]
  },
  {
   "cell_type": "code",
   "execution_count": 17,
   "id": "89fbe3f5",
   "metadata": {},
   "outputs": [
    {
     "name": "stdout",
     "output_type": "stream",
     "text": [
      "Ari 24 56.8\n"
     ]
    }
   ],
   "source": [
    "nome = dados[0]\n",
    "idade = dados[1]\n",
    "peso = dados[2]\n",
    "\n",
    "print(nome, idade, peso)"
   ]
  },
  {
   "cell_type": "code",
   "execution_count": 19,
   "id": "3b0226b6",
   "metadata": {},
   "outputs": [],
   "source": [
    "# # Haverá um erro se você tentar fazer a alteração de qualquer item de uma tupla\n",
    "# dados[0] = 'Pedro'"
   ]
  },
  {
   "cell_type": "markdown",
   "id": "0880bdac",
   "metadata": {},
   "source": [
    "<div class = 'alert alert-block alert-info'>\n",
    "     <b>Assunto</b>: Unpacking.\n",
    "</div>"
   ]
  },
  {
   "cell_type": "code",
   "execution_count": 27,
   "id": "4340715f",
   "metadata": {},
   "outputs": [
    {
     "name": "stdout",
     "output_type": "stream",
     "text": [
      "Ari 24 1.7 56.8 Cientista de Dados\n"
     ]
    }
   ],
   "source": [
    "info = ('Ari', 24, 1.7, 56.8, 'Cientista de Dados')\n",
    "\n",
    "nome, idade, altura, peso, profissao = info\n",
    "\n",
    "print(nome, idade, altura, peso, profissao)"
   ]
  },
  {
   "cell_type": "code",
   "execution_count": 40,
   "id": "59586dbc",
   "metadata": {},
   "outputs": [
    {
     "name": "stdout",
     "output_type": "stream",
     "text": [
      "[1, 3, 5, 4, 2, 7, 8]\n",
      "(1, 3, 5, 4, 2, 7, 8)\n"
     ]
    }
   ],
   "source": [
    "lista = [1, 3, 5, 4, 2, 7, 8]\n",
    "print(lista)\n",
    "\n",
    "tupla_lista = tuple(lista)\n",
    "\n",
    "print(tupla_lista)"
   ]
  },
  {
   "cell_type": "markdown",
   "id": "60d02e51",
   "metadata": {},
   "source": [
    "# Dicionários"
   ]
  },
  {
   "cell_type": "code",
   "execution_count": 1,
   "id": "2f406d51",
   "metadata": {},
   "outputs": [],
   "source": [
    "dicionario = {\n",
    "    'nome': 'Ari',\n",
    "    'idade': 24,\n",
    "    'peso': 56.8\n",
    "}"
   ]
  },
  {
   "cell_type": "code",
   "execution_count": 42,
   "id": "cf0ff60e",
   "metadata": {},
   "outputs": [
    {
     "data": {
      "text/plain": [
       "{'nome': 'Ari', 'idade': 24, 'peso': 56.8}"
      ]
     },
     "execution_count": 42,
     "metadata": {},
     "output_type": "execute_result"
    }
   ],
   "source": [
    "dicionario"
   ]
  },
  {
   "cell_type": "code",
   "execution_count": 27,
   "id": "dec3e6c7",
   "metadata": {},
   "outputs": [
    {
     "name": "stdout",
     "output_type": "stream",
     "text": [
      "nome\n",
      "idade\n",
      "peso\n",
      "\n",
      "Ari\n",
      "24\n",
      "56.8\n"
     ]
    }
   ],
   "source": [
    "for i in dicionario:\n",
    "    print(i)\n",
    "\n",
    "print('')\n",
    "\n",
    "for i in dicionario:\n",
    "    print(dicionario[i])"
   ]
  },
  {
   "cell_type": "code",
   "execution_count": 30,
   "id": "f0936efe",
   "metadata": {},
   "outputs": [
    {
     "name": "stdout",
     "output_type": "stream",
     "text": [
      "True\n",
      "False\n"
     ]
    }
   ],
   "source": [
    "print('nome' in dicionario)\n",
    "print('origem' in dicionario)"
   ]
  },
  {
   "cell_type": "code",
   "execution_count": 33,
   "id": "3b833442",
   "metadata": {},
   "outputs": [
    {
     "name": "stdout",
     "output_type": "stream",
     "text": [
      "O valor da chave \"nome\" no dicionário é:\n",
      "Ari \n",
      "\n",
      "O valor da chave \"Habilidade\" no dicionário é:\n",
      "None \n",
      "\n",
      "O valor da chave \"Habilidade\" no dicionário é:\n",
      "None 36\n"
     ]
    }
   ],
   "source": [
    "resultado = dicionario.get('nome')\n",
    "print('O valor da chave \"nome\" no dicionário é:')\n",
    "print(resultado,'\\n')\n",
    "\n",
    "resultado = dicionario.get('Habilidade')\n",
    "print('O valor da chave \"Habilidade\" no dicionário é:')\n",
    "print(resultado,'\\n')\n",
    "\n",
    "resultado = dicionario.get('Habilidade')\n",
    "print('O valor da chave \"Habilidade\" no dicionário é:')\n",
    "print(resultado, 36)"
   ]
  },
  {
   "cell_type": "markdown",
   "id": "4860cb09",
   "metadata": {},
   "source": [
    "<div class = 'alert alert-block alert-info'>\n",
    "     <b>Assunto</b>: Adição de elementos em um dicionário vazio.\n",
    "</div>"
   ]
  },
  {
   "cell_type": "code",
   "execution_count": 24,
   "id": "34d2f56f",
   "metadata": {},
   "outputs": [
    {
     "name": "stdout",
     "output_type": "stream",
     "text": [
      "{'Nome': 'Erlon Finardi'} \n",
      "\n",
      "{'Nome': 'Erlon Finardi', 'Peso': 68.4, 'Altura': 1.73}\n",
      "{'Nome': 'Erlon Finardi', 'Peso': 68.4, 'Altura': 1.73, 'nome': 'Ari', 'idade': 24, 'peso': 56.8}\n",
      "{'Nome': 'Erlon Finardi', 'Peso': 68.4, 'Altura': 1.73, 'nome': 'Ari', 'idade': 25, 'peso': 56.8}\n"
     ]
    }
   ],
   "source": [
    "dicionario_vazio = {}\n",
    "\n",
    "dicionario_vazio['Nome'] = 'Erlon Finardi'\n",
    "\n",
    "print(dicionario_vazio,'\\n')\n",
    "\n",
    "\n",
    "dicionario_vazio.update({\n",
    "    'Peso': 68.4,\n",
    "    'Altura': 1.73\n",
    "})\n",
    "\n",
    "print(dicionario_vazio)\n",
    "\n",
    "dicionario_vazio.update(dicionario)\n",
    "\n",
    "print(dicionario_vazio)\n",
    "\n",
    "# Como alterar o valor de uma determinada chave\n",
    "dicionario_vazio['idade'] = 25\n",
    "\n",
    "print(dicionario_vazio)"
   ]
  },
  {
   "cell_type": "code",
   "execution_count": 25,
   "id": "b72dfefd",
   "metadata": {},
   "outputs": [
    {
     "name": "stdout",
     "output_type": "stream",
     "text": [
      "{'Peso': 68.4, 'Altura': 1.73, 'nome': 'Ari', 'idade': 25, 'peso': 56.8}\n",
      "{'Altura': 1.73, 'nome': 'Ari', 'idade': 25, 'peso': 56.8}\n",
      "68.4\n"
     ]
    }
   ],
   "source": [
    "del dicionario_vazio['Nome']\n",
    "print(dicionario_vazio)\n",
    "\n",
    "Peso = dicionario_vazio.pop('Peso')\n",
    "print(dicionario_vazio)\n",
    "\n",
    "print(Peso)"
   ]
  },
  {
   "cell_type": "code",
   "execution_count": 26,
   "id": "80509c0f",
   "metadata": {},
   "outputs": [
    {
     "name": "stdout",
     "output_type": "stream",
     "text": [
      "{}\n"
     ]
    }
   ],
   "source": [
    "dicionario_vazio.clear()\n",
    "print(dicionario_vazio)"
   ]
  },
  {
   "cell_type": "code",
   "execution_count": null,
   "id": "41292c3a",
   "metadata": {},
   "outputs": [],
   "source": []
  },
  {
   "cell_type": "code",
   "execution_count": 34,
   "id": "ddc923e5",
   "metadata": {},
   "outputs": [
    {
     "name": "stdout",
     "output_type": "stream",
     "text": [
      "[(1, 'a'), (2, 'b'), (3, 'c')]\n"
     ]
    }
   ],
   "source": [
    "lista1 = [1, 2, 3]\n",
    "lista2 = ['a', 'b', 'c']\n",
    "\n",
    "combinado = zip(lista1, lista2)\n",
    "print(list(combinado))"
   ]
  },
  {
   "cell_type": "code",
   "execution_count": 35,
   "id": "846b7624",
   "metadata": {},
   "outputs": [
    {
     "name": "stdout",
     "output_type": "stream",
     "text": [
      "[(1, 'a', 10.5), (2, 'b', 20.5), (3, 'c', 30.5)]\n"
     ]
    }
   ],
   "source": [
    "lista1 = [1, 2, 3]\n",
    "lista2 = ['a', 'b', 'c']\n",
    "lista3 = [10.5, 20.5, 30.5]\n",
    "\n",
    "combinado = zip(lista1, lista2, lista3)\n",
    "print(list(combinado))"
   ]
  },
  {
   "cell_type": "code",
   "execution_count": 45,
   "id": "dab97ad4",
   "metadata": {},
   "outputs": [
    {
     "name": "stdout",
     "output_type": "stream",
     "text": [
      "<zip object at 0x000001D58E045740>\n",
      "[(1, 'a', 10.5), (2, 'b', 20.5), (3, 'c', 30.5)]\n",
      "(1, 2, 3)\n",
      "('a', 'b', 'c')\n",
      "(10.5, 20.5, 30.5)\n"
     ]
    }
   ],
   "source": [
    "# Definindo as listas originais\n",
    "lista1 = [1, 2, 3]\n",
    "lista2 = ['a', 'b', 'c']\n",
    "lista3 = [10.5, 20.5, 30.5]\n",
    "\n",
    "# Combinando as listas usando zip\n",
    "combinado = zip(lista1, lista2, lista3)\n",
    "print(combinado)\n",
    "\n",
    "# Convertendo combinado para uma lista de tuplas\n",
    "combinado_list = list(combinado)\n",
    "print(combinado_list)\n",
    "\n",
    "# Desempacotando combinado para x1, x2 e x3\n",
    "x1, x2, x3 = zip(*combinado_list)\n",
    "print(x1)\n",
    "print(x2)\n",
    "print(x3)"
   ]
  },
  {
   "cell_type": "code",
   "execution_count": null,
   "id": "7f225ac7",
   "metadata": {},
   "outputs": [],
   "source": []
  },
  {
   "cell_type": "code",
   "execution_count": 46,
   "id": "2ffb0ed1",
   "metadata": {},
   "outputs": [
    {
     "name": "stdout",
     "output_type": "stream",
     "text": [
      "[1, 4, 9, 16, 25]\n"
     ]
    }
   ],
   "source": [
    "def quadrado(x):\n",
    "    return x ** 2\n",
    "\n",
    "numeros = [1, 2, 3, 4, 5]\n",
    "resultado = map(quadrado, numeros)\n",
    "print(list(resultado))\n"
   ]
  },
  {
   "cell_type": "code",
   "execution_count": 47,
   "id": "e3bf3940",
   "metadata": {},
   "outputs": [
    {
     "name": "stdout",
     "output_type": "stream",
     "text": [
      "[1, 4, 9, 16, 25]\n"
     ]
    }
   ],
   "source": [
    "numeros = [1, 2, 3, 4, 5]\n",
    "resultado = map(lambda x: x ** 2, numeros)\n",
    "print(list(resultado))\n"
   ]
  },
  {
   "cell_type": "code",
   "execution_count": null,
   "id": "9e291438",
   "metadata": {},
   "outputs": [],
   "source": []
  },
  {
   "cell_type": "code",
   "execution_count": 17,
   "id": "aeb7d53a",
   "metadata": {},
   "outputs": [
    {
     "name": "stdout",
     "output_type": "stream",
     "text": [
      "dict_items([('altura', 170), ('peso', 50.6), ('idade', [68, 72]), ('salario', 1543.68), ('nome', 'Marcos')]) \n",
      "\n",
      "('altura', 170)\n",
      "('peso', 50.6)\n",
      "('idade', [68, 72])\n",
      "('salario', 1543.68)\n",
      "('nome', 'Marcos')\n",
      "\n",
      "('altura', 170)\n",
      "('peso', 50.6)\n",
      "('idade', [68, 72])\n",
      "('salario', 1543.68)\n",
      "('nome', 'Marcos')\n",
      "\n",
      "Chave: altura \t Valor: 170\n",
      "Chave: peso \t Valor: 50.6\n",
      "Chave: idade \t Valor: [68, 72]\n",
      "Chave: salario \t Valor: 1543.68\n",
      "Chave: nome \t Valor: Marcos\n"
     ]
    }
   ],
   "source": [
    "dicionario = {\n",
    "    'altura': 170,\n",
    "    'peso': 50.6,\n",
    "    'idade': [68, 72],\n",
    "    'salario': 1543.68,\n",
    "    'nome': 'Marcos'\n",
    "              }\n",
    "\n",
    "#==========================================================================\n",
    "\n",
    "itens_dicionario = dicionario.items()\n",
    "\n",
    "print(itens_dicionario,'\\n')\n",
    "\n",
    "for item in itens_dicionario:\n",
    "    print(item)\n",
    "\n",
    "print('')\n",
    "\n",
    "for item in dicionario.items():\n",
    "    print(item)\n",
    "\n",
    "print('')\n",
    "\n",
    "for chave, valor in dicionario.items():\n",
    "    print(f'Chave: {chave} \\t Valor: {valor}')"
   ]
  },
  {
   "cell_type": "code",
   "execution_count": 20,
   "id": "279a66b5",
   "metadata": {},
   "outputs": [
    {
     "name": "stdout",
     "output_type": "stream",
     "text": [
      "altura\n",
      "peso\n",
      "idade\n",
      "salario\n",
      "nome\n",
      "\n",
      "170\n",
      "50.6\n",
      "[68, 72]\n",
      "1543.68\n",
      "Marcos\n"
     ]
    }
   ],
   "source": [
    "for i in dicionario.keys():\n",
    "    print(i)\n",
    "\n",
    "print('')\n",
    "\n",
    "for i in dicionario.values():\n",
    "    print(i)"
   ]
  },
  {
   "cell_type": "code",
   "execution_count": 21,
   "id": "f8cfbe6e",
   "metadata": {},
   "outputs": [
    {
     "name": "stdout",
     "output_type": "stream",
     "text": [
      "{'info_1': 0, 'info_2': 0, 'info_3': 0, 'info_4': 0, 'info_5': 0, 'info_6': 0}\n"
     ]
    }
   ],
   "source": [
    "info = ['info_1', 'info_2', 'info_3', 'info_4', 'info_5', 'info_6']\n",
    "resultado = ['teste', 87, 0.1346, (3, 9), [2, 4, 67], 'oi']\n",
    "\n",
    "novo_dicionario = dict.fromkeys(info, 0)\n",
    "\n",
    "print(novo_dicionario)"
   ]
  },
  {
   "cell_type": "code",
   "execution_count": 29,
   "id": "d4ef7ec3",
   "metadata": {},
   "outputs": [
    {
     "name": "stdout",
     "output_type": "stream",
     "text": [
      "<zip object at 0x0000017446AC43C0>\n",
      "\n",
      "('info_1', 'teste')\n",
      "('info_2', 87)\n",
      "('info_3', 0.1346)\n",
      "('info_4', (3, 9))\n",
      "('info_5', [2, 4, 67])\n",
      "('info_6', 'oi')\n"
     ]
    }
   ],
   "source": [
    "lista_tuplas = zip(info, resultado)\n",
    "print(lista_tuplas)\n",
    "\n",
    "print('')\n",
    "\n",
    "for item in lista_tuplas:\n",
    "    print(item)"
   ]
  },
  {
   "cell_type": "code",
   "execution_count": 31,
   "id": "148ea8c8",
   "metadata": {},
   "outputs": [
    {
     "name": "stdout",
     "output_type": "stream",
     "text": [
      "{'info_1': 'teste', 'info_2': 87, 'info_3': 0.1346, 'info_4': (3, 9), 'info_5': [2, 4, 67], 'info_6': 'oi'}\n"
     ]
    }
   ],
   "source": [
    "# Cria uma lista de tuplas com \"info\" = Chaves e \"resultados\" = Valores\n",
    "lista_tuplas = zip(info, resultado)\n",
    "\n",
    "# Cria um dicionário com base na lista de tuplas\n",
    "dicionario_info = dict(lista_tuplas)\n",
    "\n",
    "# Apresenta o dicionário\n",
    "print(dicionario_info)"
   ]
  },
  {
   "cell_type": "code",
   "execution_count": null,
   "id": "fdc0164e",
   "metadata": {},
   "outputs": [],
   "source": []
  },
  {
   "cell_type": "code",
   "execution_count": 37,
   "id": "aa5ea368",
   "metadata": {},
   "outputs": [
    {
     "data": {
      "text/plain": [
       "{'1': 3, '2': 6, '3': 9, '4': 12, '5': 15}"
      ]
     },
     "execution_count": 37,
     "metadata": {},
     "output_type": "execute_result"
    }
   ],
   "source": [
    "dicionario_teste = {}\n",
    "\n",
    "for i in range(5):\n",
    "    dicionario_teste[f'{i + 1}'] = (i + 1) * 3\n",
    "\n",
    "dicionario_teste"
   ]
  },
  {
   "cell_type": "markdown",
   "id": "86d864cf",
   "metadata": {},
   "source": [
    "<div class = 'alert alert-block alert-info'>\n",
    "     <b>Assunto</b>: set\n",
    "</div>"
   ]
  },
  {
   "cell_type": "code",
   "execution_count": 38,
   "id": "a303ecdd",
   "metadata": {},
   "outputs": [
    {
     "name": "stdout",
     "output_type": "stream",
     "text": [
      "{'feijão', 'carne', 'arroz'}\n"
     ]
    }
   ],
   "source": [
    "# Criação de um dicionário\n",
    "set_1 = {}\n",
    "\n",
    "# Criação de um set (Um set não repete os itens)\n",
    "set_2 = {'arroz', 'feijão', 'carne', 'arroz'}\n",
    "\n",
    "print(set_2)"
   ]
  },
  {
   "cell_type": "code",
   "execution_count": 41,
   "id": "96043976",
   "metadata": {},
   "outputs": [
    {
     "name": "stdout",
     "output_type": "stream",
     "text": [
      "4\n",
      "3\n",
      "['feijão', 'carne', 'arroz']\n"
     ]
    }
   ],
   "source": [
    "lista = ['arroz', 'feijão', 'carne', 'arroz']\n",
    "print(len(lista))\n",
    "\n",
    "lista_set = set(lista)\n",
    "print(len(lista_set))\n",
    "\n",
    "nova_lista = list(lista_set)\n",
    "print(nova_lista)"
   ]
  },
  {
   "cell_type": "markdown",
   "id": "79eb75d7",
   "metadata": {},
   "source": [
    "# Funções"
   ]
  },
  {
   "cell_type": "code",
   "execution_count": 2,
   "id": "36c8a11d",
   "metadata": {},
   "outputs": [],
   "source": [
    "def operacoes(num1, num2):\n",
    "    soma = num1 + num2\n",
    "    sub = num1 - num2\n",
    "    mult = num1 * num2\n",
    "    div = num1 / num2\n",
    "\n",
    "    return (soma, sub, mult, div)"
   ]
  },
  {
   "cell_type": "code",
   "execution_count": 4,
   "id": "8cadb689",
   "metadata": {},
   "outputs": [
    {
     "name": "stdout",
     "output_type": "stream",
     "text": [
      "15\n",
      "5\n",
      "50\n",
      "2.0\n"
     ]
    }
   ],
   "source": [
    "soma, subtracao, multiplicacao, divisao = operacoes(10, 5)\n",
    "\n",
    "print(soma)\n",
    "print(subtracao)\n",
    "print(multiplicacao)\n",
    "print(divisao)"
   ]
  },
  {
   "cell_type": "markdown",
   "id": "0e3ab580",
   "metadata": {},
   "source": [
    "<div class = 'alert alert-block alert-info'>\n",
    "     <b>Assunto</b>: Docstring.\n",
    "</div>"
   ]
  },
  {
   "cell_type": "code",
   "execution_count": 5,
   "id": "a4d70491",
   "metadata": {},
   "outputs": [],
   "source": [
    "def operacoes_1(num1, num2):\n",
    "\n",
    "    ''' Realiza as operações básicas de adição, subtração, multiplicação e \n",
    "    divisão com num1 e num2\n",
    "\n",
    "    Parameters:\n",
    "        num1 (float): Primeiro número da operação\n",
    "        num2 (float): Segundo número da operação\n",
    "\n",
    "    Return:\n",
    "        resultados (float): Os 4 valores das operações básicas\n",
    "    \n",
    "    '''\n",
    "    soma = num1 + num2\n",
    "    sub = num1 - num2\n",
    "    mult = num1 * num2\n",
    "    div = num1 / num2\n",
    "\n",
    "    return (soma, sub, mult, div)"
   ]
  },
  {
   "cell_type": "code",
   "execution_count": 6,
   "id": "0d2aa465",
   "metadata": {},
   "outputs": [
    {
     "data": {
      "text/plain": [
       "(5, -1, 6, 0.6666666666666666)"
      ]
     },
     "execution_count": 6,
     "metadata": {},
     "output_type": "execute_result"
    }
   ],
   "source": [
    "operacoes_1()"
   ]
  },
  {
   "cell_type": "markdown",
   "id": "24eb7b3a",
   "metadata": {},
   "source": [
    "<div class = 'alert alert-block alert-info'>\n",
    "     <b>Assunto</b>: Annotation.\n",
    "</div>"
   ]
  },
  {
   "cell_type": "code",
   "execution_count": 10,
   "id": "a4e088c5",
   "metadata": {},
   "outputs": [],
   "source": [
    "def operacoes_2(num1: float, num2: float = 2.3) -> float:\n",
    "\n",
    "    soma = num1 + num2\n",
    "    sub = num1 - num2\n",
    "    mult = num1 * num2\n",
    "    div = num1 / num2\n",
    "\n",
    "    return (soma, sub, mult, div)"
   ]
  },
  {
   "cell_type": "code",
   "execution_count": 12,
   "id": "18602d14",
   "metadata": {},
   "outputs": [
    {
     "data": {
      "text/plain": [
       "(3.3, -1.2999999999999998, 2.3, 0.4347826086956522)"
      ]
     },
     "execution_count": 12,
     "metadata": {},
     "output_type": "execute_result"
    }
   ],
   "source": [
    "operacoes_2(1)"
   ]
  },
  {
   "cell_type": "markdown",
   "id": "bd1ad0ad",
   "metadata": {},
   "source": [
    "<div class = 'alert alert-block alert-info'>\n",
    "     <b>Assunto</b>: Raise Error.\n",
    "</div>"
   ]
  },
  {
   "cell_type": "code",
   "execution_count": 13,
   "id": "e90d3fd1",
   "metadata": {},
   "outputs": [],
   "source": [
    "def operacoes_3(num1, num2):\n",
    "\n",
    "    if num2 == 0:\n",
    "        raise ZeroDivisionError(\"num2 não pode ser igual a zero\")\n",
    "    \n",
    "    else:\n",
    "        soma = num1 + num2\n",
    "        sub = num1 - num2\n",
    "        mult = num1 * num2\n",
    "        div = num1 / num2\n",
    "\n",
    "        return (soma, sub, mult, div)\n"
   ]
  },
  {
   "cell_type": "code",
   "execution_count": 15,
   "id": "ace2c5bc",
   "metadata": {},
   "outputs": [
    {
     "ename": "ZeroDivisionError",
     "evalue": "num2 não pode ser igual a zero",
     "output_type": "error",
     "traceback": [
      "\u001b[1;31m---------------------------------------------------------------------------\u001b[0m",
      "\u001b[1;31mZeroDivisionError\u001b[0m                         Traceback (most recent call last)",
      "Cell \u001b[1;32mIn[15], line 1\u001b[0m\n\u001b[1;32m----> 1\u001b[0m operacoes_3(\u001b[38;5;241m2\u001b[39m,\u001b[38;5;241m0\u001b[39m)\n",
      "Cell \u001b[1;32mIn[13], line 4\u001b[0m, in \u001b[0;36moperacoes_3\u001b[1;34m(num1, num2)\u001b[0m\n\u001b[0;32m      1\u001b[0m \u001b[38;5;28;01mdef\u001b[39;00m \u001b[38;5;21moperacoes_3\u001b[39m(num1, num2):\n\u001b[0;32m      3\u001b[0m     \u001b[38;5;28;01mif\u001b[39;00m num2 \u001b[38;5;241m==\u001b[39m \u001b[38;5;241m0\u001b[39m:\n\u001b[1;32m----> 4\u001b[0m         \u001b[38;5;28;01mraise\u001b[39;00m \u001b[38;5;167;01mZeroDivisionError\u001b[39;00m(\u001b[38;5;124m\"\u001b[39m\u001b[38;5;124mnum2 não pode ser igual a zero\u001b[39m\u001b[38;5;124m\"\u001b[39m)\n\u001b[0;32m      6\u001b[0m     \u001b[38;5;28;01melse\u001b[39;00m:\n\u001b[0;32m      7\u001b[0m         soma \u001b[38;5;241m=\u001b[39m num1 \u001b[38;5;241m+\u001b[39m num2\n",
      "\u001b[1;31mZeroDivisionError\u001b[0m: num2 não pode ser igual a zero"
     ]
    }
   ],
   "source": [
    "operacoes_3(2,0)"
   ]
  },
  {
   "cell_type": "markdown",
   "id": "dbfe776a",
   "metadata": {},
   "source": [
    "<div class = 'alert alert-block alert-info'>\n",
    "     <b>Assunto</b>: Quantidade indefinida de argumentos.\n",
    "</div>"
   ]
  },
  {
   "cell_type": "code",
   "execution_count": 16,
   "id": "ec604d4a",
   "metadata": {},
   "outputs": [],
   "source": [
    "def soma(*numeros):\n",
    "    total = 0\n",
    "\n",
    "    for numero in numeros:\n",
    "        total += numero\n",
    "\n",
    "    return(total)"
   ]
  },
  {
   "cell_type": "code",
   "execution_count": 20,
   "id": "91a85b45",
   "metadata": {},
   "outputs": [
    {
     "data": {
      "text/plain": [
       "9"
      ]
     },
     "execution_count": 20,
     "metadata": {},
     "output_type": "execute_result"
    }
   ],
   "source": [
    "soma(2, 7)"
   ]
  },
  {
   "cell_type": "code",
   "execution_count": 19,
   "id": "e18ad97f",
   "metadata": {},
   "outputs": [
    {
     "data": {
      "text/plain": [
       "18"
      ]
     },
     "execution_count": 19,
     "metadata": {},
     "output_type": "execute_result"
    }
   ],
   "source": [
    "soma(1, 2, 5, 10)"
   ]
  },
  {
   "cell_type": "markdown",
   "id": "93699880",
   "metadata": {},
   "source": [
    "<div class = 'alert alert-block alert-info'>\n",
    "     <b>Assunto</b>: **kwargs\n",
    "</div>"
   ]
  },
  {
   "cell_type": "code",
   "execution_count": 33,
   "id": "e301aabe",
   "metadata": {},
   "outputs": [],
   "source": [
    "def desconto(valor, **impostos):\n",
    "\n",
    "    if 'IPVA' in impostos:\n",
    "        valor = valor - (valor * impostos['IPVA'])\n",
    "\n",
    "    if 'IPTU' in impostos:\n",
    "        valor = valor - (valor * impostos['IPTU'])\n",
    "\n",
    "    return valor"
   ]
  },
  {
   "cell_type": "code",
   "execution_count": 34,
   "id": "47a09163",
   "metadata": {},
   "outputs": [
    {
     "data": {
      "text/plain": [
       "758.4"
      ]
     },
     "execution_count": 34,
     "metadata": {},
     "output_type": "execute_result"
    }
   ],
   "source": [
    "desconto(1000, IPVA = 0.21, IPTU = 0.04)"
   ]
  },
  {
   "cell_type": "code",
   "execution_count": 36,
   "id": "b15be4eb",
   "metadata": {},
   "outputs": [
    {
     "data": {
      "text/plain": [
       "758.4"
      ]
     },
     "execution_count": 36,
     "metadata": {},
     "output_type": "execute_result"
    }
   ],
   "source": [
    "desconto(1000, IPVA = 0.21, IPTU = 0.04, outro_imposto = 0.1)"
   ]
  },
  {
   "cell_type": "markdown",
   "id": "feabdbb8",
   "metadata": {},
   "source": [
    "<div class = 'alert alert-block alert-info'>\n",
    "     <b>Assunto</b>: Ordem dos Argumentos\n",
    "</div>"
   ]
  },
  {
   "cell_type": "markdown",
   "id": "0fda80f7",
   "metadata": {},
   "source": [
    "- Sempre os positional arguments vêm antes e depois os keywords arguments.\n",
    "- Sempre os argumentos individuais vêm antes e depois os \"múltiplos\""
   ]
  },
  {
   "cell_type": "code",
   "execution_count": null,
   "id": "faaaff37",
   "metadata": {},
   "outputs": [],
   "source": [
    "def minha_funcao(arg1, arg2, arg3, arg4, *args, k = kwarg1, k2 = kwarg2, k3 = kwarg3, **kwargs):\n",
    "    ..."
   ]
  },
  {
   "cell_type": "markdown",
   "id": "88eab24f",
   "metadata": {},
   "source": [
    "# List Comprehension"
   ]
  },
  {
   "cell_type": "code",
   "execution_count": 3,
   "id": "07c66c39",
   "metadata": {},
   "outputs": [
    {
     "name": "stdout",
     "output_type": "stream",
     "text": [
      "[15.0, 13.5, 22.5, 30.0, 1.5]\n",
      "[15.0, 13.5, 22.5, 30.0, 1.5]\n"
     ]
    }
   ],
   "source": [
    "valor_itens = [100, 90, 150, 200, 10]\n",
    "\n",
    "lista_imposto = []\n",
    "\n",
    "for valor in valor_itens:\n",
    "    lista_imposto.append(valor * 0.15)\n",
    "\n",
    "print(lista_imposto)\n",
    "\n",
    "# Usando List Comprehension\n",
    "lista_imposto_2 = [imposto * 0.15 for imposto in valor_itens]\n",
    "print(lista_imposto_2)"
   ]
  },
  {
   "cell_type": "code",
   "execution_count": 4,
   "id": "6985e5e0",
   "metadata": {},
   "outputs": [
    {
     "name": "stdout",
     "output_type": "stream",
     "text": [
      "[15.0, 13.5, 22.5, 30.0, 1.5]\n"
     ]
    }
   ],
   "source": [
    "def calcular_imposto(preco, imposto):\n",
    "    return preco * imposto\n",
    "\n",
    "lista_imposto_3 = [calcular_imposto(preco, 0.15) for preco in valor_itens]\n",
    "print(lista_imposto_3)"
   ]
  },
  {
   "cell_type": "code",
   "execution_count": null,
   "id": "eacb922a",
   "metadata": {},
   "outputs": [],
   "source": []
  },
  {
   "cell_type": "code",
   "execution_count": 9,
   "id": "65b73769",
   "metadata": {},
   "outputs": [
    {
     "name": "stdout",
     "output_type": "stream",
     "text": [
      "[(2100, 'microondas'), (1950, 'iphone'), (1500, 'vinho'), (150, 'cafeteira')]\n",
      "['microondas', 'iphone', 'vinho', 'cafeteira']\n"
     ]
    }
   ],
   "source": [
    "vendas_produtos = [1500, 150, 2100, 1950]\n",
    "produtos = ['vinho', 'cafeteira', 'microondas', 'iphone']\n",
    "\n",
    "# Junta as duas listas em uma lista de tuplas\n",
    "lista_aux = list(zip(vendas_produtos, produtos))\n",
    "\n",
    "# Ordena com base nos elementos da primeira posição da tupla (Deixa os valores na ordem decrescente)\n",
    "lista_aux.sort(reverse = True)\n",
    "\n",
    "# Cria uma nova lista apenas com os produtos\n",
    "lista_produtos = [produto for vendas, produto in lista_aux]\n",
    "\n",
    "# Apresenta a lista auxiliar completa\n",
    "print(lista_aux)\n",
    "\n",
    "# Apresenta a lista com apenas os nomes das mercadorias\n",
    "print(lista_produtos)"
   ]
  },
  {
   "cell_type": "code",
   "execution_count": null,
   "id": "4dfeff88",
   "metadata": {},
   "outputs": [],
   "source": []
  },
  {
   "cell_type": "code",
   "execution_count": 15,
   "id": "c83e80a7",
   "metadata": {},
   "outputs": [
    {
     "name": "stdout",
     "output_type": "stream",
     "text": [
      "['microondas', 'iphone']\n",
      "['microondas', 'iphone']\n"
     ]
    }
   ],
   "source": [
    "meta = 1800\n",
    "vendas_produtos = [1500, 150, 2100, 1950]\n",
    "produtos = ['vinho', 'cafeteira', 'microondas', 'iphone']\n",
    "\n",
    "lista_produtos = []\n",
    "\n",
    "for i, venda_produto in enumerate(vendas_produtos):\n",
    "    if venda_produto >= meta:\n",
    "        lista_produtos.append(produtos[i])\n",
    "\n",
    "print(lista_produtos)\n",
    "\n",
    "\n",
    "lista_produtos_2 = [produto for i, produto in enumerate(produtos) if vendas_produtos[i] >= meta]\n",
    "print(lista_produtos_2)"
   ]
  },
  {
   "cell_type": "code",
   "execution_count": null,
   "id": "cfd263e5",
   "metadata": {},
   "outputs": [],
   "source": []
  },
  {
   "cell_type": "code",
   "execution_count": 16,
   "id": "438444ea",
   "metadata": {},
   "outputs": [
    {
     "name": "stdout",
     "output_type": "stream",
     "text": [
      "[120.0, 0, 0, 150.0, 190.0, 275.0, 0, 0, 0, 0, 0, 0, 110.0, 0, 0, 0, 0, 0, 111.10000000000001, 0, 0, 0, 0]\n",
      "[120.0, 0, 0, 150.0, 190.0, 275.0, 0, 0, 0, 0, 0, 0, 110.0, 0, 0, 0, 0, 0, 111.10000000000001, 0, 0, 0, 0]\n"
     ]
    }
   ],
   "source": [
    "vendedores_dic = {'Maria': 1200, 'José': 300, 'Antônio': 800, 'João': 1500, \n",
    "                  'Francisco': 1900, 'Ana': 2750, 'Luiz': 400, 'Paulo': 20, 'Carlos': 23, \n",
    "                  'Manoel': 70, 'Pedro': 90, 'Francisca': 80, 'Marcos': 1100, 'Raimundo': 999, \n",
    "                  'Sebastião': 900, 'Antônia': 880, 'Marcelo': 870, 'Jorge': 50, 'Márcia': 1111, \n",
    "                  'Geraldo': 120, 'Adriana': 300, 'Sandra': 450, 'Luis': 800}\n",
    "meta = 1000\n",
    "\n",
    "lista_bonus = []\n",
    "for vendedor in vendedores_dic:\n",
    "    if vendedores_dic[vendedor] >= meta:\n",
    "        bonus = vendedores_dic[vendedor] * 0.1\n",
    "    else:\n",
    "        bonus = 0\n",
    "    lista_bonus.append(bonus)\n",
    "print(lista_bonus)\n",
    "\n",
    "\n",
    "lista_bonus_2 = [vendedores_dic[vendedor] * 0.1 if vendedores_dic[vendedor] >= meta else 0 for vendedor in vendedores_dic]\n",
    "print(lista_bonus_2)"
   ]
  },
  {
   "cell_type": "code",
   "execution_count": null,
   "id": "2d095f55",
   "metadata": {},
   "outputs": [],
   "source": []
  },
  {
   "cell_type": "code",
   "execution_count": null,
   "id": "18fe004a",
   "metadata": {},
   "outputs": [],
   "source": [
    "produtos = ['coca', 'pepsi', 'guarana', 'skol', 'brahma', 'agua', 'del valle', 'dolly', 'red bull', 'cachaça', 'vinho tinto', 'vodka', 'vinho branco', 'tequila', 'champagne', 'gin', 'guaracamp', 'matte', 'leite de castanha', 'leite', 'jurupinga', 'sprite', 'fanta']\n",
    "vendas = [1200, 300, 800, 1500, 1900, 2750, 400, 20, 23, 70, 90, 80, 1100, 999, 900, 880, 870, 50, 1111, 120, 300, 450, 800]\n",
    "top5 = ['agua', 'brahma', 'skol', 'coca', 'leite de castanha']"
   ]
  },
  {
   "cell_type": "markdown",
   "id": "0b98db90",
   "metadata": {},
   "source": [
    "- Fazendo por for"
   ]
  },
  {
   "cell_type": "code",
   "execution_count": null,
   "id": "5940cfba",
   "metadata": {},
   "outputs": [
    {
     "name": "stdout",
     "output_type": "stream",
     "text": [
      "8461\n",
      "Top 5 representou 50.6% das vendas\n"
     ]
    }
   ],
   "source": [
    "total_top5 = 0\n",
    "for i, produto in enumerate(produtos):\n",
    "    if produto in top5:\n",
    "        total_top5 += vendas[i]\n",
    "\n",
    "print(total_top5)\n",
    "print('Top 5 representou {:0.1%} das vendas'.format(total_top5/sum(vendas)))"
   ]
  },
  {
   "cell_type": "markdown",
   "id": "5ccda2db",
   "metadata": {},
   "source": [
    "- Fazendo por list comprehension"
   ]
  },
  {
   "cell_type": "code",
   "execution_count": null,
   "id": "4fdac528",
   "metadata": {},
   "outputs": [
    {
     "name": "stdout",
     "output_type": "stream",
     "text": [
      "8461\n",
      "Top 5 representou 50.6% das vendas\n"
     ]
    }
   ],
   "source": [
    "total_top5 = sum(vendas[i] for i, produto in enumerate(produtos) if produto in top5)\n",
    "print(total_top5)\n",
    "print('Top 5 representou {:0.1%} das vendas'.format(total_top5/sum(vendas)))"
   ]
  },
  {
   "cell_type": "markdown",
   "id": "f4343451",
   "metadata": {},
   "source": [
    "# Módulos, bibliotecas e introdução à orientação a objeto"
   ]
  },
  {
   "cell_type": "markdown",
   "id": "b58d48ae",
   "metadata": {},
   "source": [
    "## Introdução a Orientação a Objeto"
   ]
  },
  {
   "cell_type": "markdown",
   "id": "324a0e55",
   "metadata": {},
   "source": [
    "### Regras Gerais:\n",
    "\n",
    "- Tudo no Python é um objeto.\n",
    "    - String é objeto\n",
    "    - Lista é objeto\n",
    "    - Dicionários são objetos\n",
    "    ...\n",
    "\n",
    "### Comparação Clássica\n",
    "\n",
    "- Pense no Controle Remoto de uma Televisão.\n",
    "    - O Controle é um objeto\n",
    "    - Cada botão dele é um comando, um método.\n",
    "    - Cada método faz 1 ação específica\n",
    "        - Por trás de cada método (dentro do controle) podem acontecer milhares de coisas quando você aperta 1 botão, mas no fundo você tá cagando pra isso, só quer que o botão faça o que você mandou quando você clicar no botão."
   ]
  },
  {
   "cell_type": "markdown",
   "id": "20bf9770",
   "metadata": {},
   "source": [
    "### E para onde vamos com isso agora? Qual a grande vantagem?\n",
    "\n",
    "- A vantagem é que agora vamos aprender a importar módulos novos\n",
    "- Então tem MUITAS, mas MUITAS coisas que já estão prontas no Python que a gente não precisa programar do zero. A gente vai simplesmente importar e usar.\n",
    "- E repare, quando a gente importar, o que na prática estaremos fazendo é importar 1 ou mais objetos que tem vários métodos já prontos para usarmos.\n",
    "\n",
    "### Exemplo: E se eu quisesse criar um código que abrisse o meu navegador em um site específico? Para poder puxar uma informação ou preencher um formulário? -> Próxima Aula"
   ]
  },
  {
   "cell_type": "markdown",
   "id": "292af17c",
   "metadata": {},
   "source": [
    "## Bibliotecas"
   ]
  },
  {
   "cell_type": "raw",
   "id": "b4e6f335",
   "metadata": {},
   "source": [
    "import módulo\n",
    "\n",
    "ou\n",
    "\n",
    "import módulo as nome"
   ]
  },
  {
   "cell_type": "markdown",
   "id": "fe07aa56",
   "metadata": {},
   "source": [
    "- Exemplo: Como pode fazer o nosso código abrir um site específico na internet?"
   ]
  },
  {
   "cell_type": "markdown",
   "id": "5a92bde0",
   "metadata": {},
   "source": [
    "### Variações"
   ]
  },
  {
   "cell_type": "raw",
   "id": "5760f0f3",
   "metadata": {},
   "source": [
    "#importar o módulo sem precisar usar o nome dele\n",
    "from modulo import *\n",
    "\n",
    "#importar apenas algumas partes do módulo\n",
    "from modulo import funcao1, funcao2, etc."
   ]
  },
  {
   "cell_type": "code",
   "execution_count": null,
   "id": "54754d79",
   "metadata": {},
   "outputs": [],
   "source": []
  },
  {
   "cell_type": "code",
   "execution_count": null,
   "id": "ececb0d8",
   "metadata": {},
   "outputs": [],
   "source": []
  },
  {
   "cell_type": "markdown",
   "id": "6587e77e-7ffe-4d5a-93cc-b98ce2c9e467",
   "metadata": {},
   "source": [
    "# Outras coisas"
   ]
  },
  {
   "cell_type": "code",
   "execution_count": 2,
   "id": "db2718ed",
   "metadata": {},
   "outputs": [],
   "source": [
    "import numpy as np"
   ]
  },
  {
   "cell_type": "markdown",
   "id": "63fdc414",
   "metadata": {},
   "source": [
    "https://numpy.org/doc/stable/reference/generated/numpy.matmul.html"
   ]
  },
  {
   "cell_type": "code",
   "execution_count": 95,
   "id": "776dfac4",
   "metadata": {},
   "outputs": [
    {
     "name": "stdout",
     "output_type": "stream",
     "text": [
      "[[0 1 2]\n",
      " [3 4 5]]\n",
      "\n",
      "(2, 3)\n"
     ]
    }
   ],
   "source": [
    "A = np.array([[0,1,2],[3,4,5]])\n",
    "print(A)\n",
    "print('')\n",
    "print(A.shape)"
   ]
  },
  {
   "cell_type": "code",
   "execution_count": 96,
   "id": "6a13363d",
   "metadata": {},
   "outputs": [
    {
     "name": "stdout",
     "output_type": "stream",
     "text": [
      "[1 2 3]\n",
      "\n",
      "(3,)\n"
     ]
    }
   ],
   "source": [
    "B = np.array([1,2,3])\n",
    "print(B)\n",
    "print('')\n",
    "print(b.shape)"
   ]
  },
  {
   "cell_type": "code",
   "execution_count": 97,
   "id": "72db181f",
   "metadata": {},
   "outputs": [
    {
     "data": {
      "text/plain": [
       "array([ 8, 26])"
      ]
     },
     "execution_count": 97,
     "metadata": {},
     "output_type": "execute_result"
    }
   ],
   "source": [
    "np.matmul(A, B)"
   ]
  },
  {
   "cell_type": "markdown",
   "id": "117c43d0",
   "metadata": {},
   "source": [
    "O seu funcionamento é\n",
    "\n",
    "(n,k),(k,m) $\\rightarrow$ (n,m)\n",
    "\n",
    "Sabendo que:\n",
    "* A = (2,3) \n",
    "* B = (3, 1)\n",
    "\n",
    "Logo:\n",
    "* n = 2\n",
    "* k = 3\n",
    "* m = 1\n",
    "\n",
    "Com isso:\n",
    "* (<span style = 'color: blue'>2</span>,**3**),(**3**,<span style = 'color: red'>1</span>) $\\rightarrow$ (<span style = 'color: blue'>2</span>,<span style = 'color: red'>1</span>)\n",
    "\n",
    "Fazendo o produto matricial da matriz, obtêm-se:\n",
    "\n",
    "1. \n",
    "  \\begin{vmatrix} \n",
    "  0(1) + 1(2) + 2(3) & 3(1) + 4(2) + 5(3)\\\\ \n",
    "  \\end{vmatrix}\n",
    "\n",
    "2. \n",
    "  \\begin{vmatrix} \n",
    "  0 + 2 + 6 & 3 + 8 + 15\\\\ \n",
    "  \\end{vmatrix}\n",
    "\n",
    "3. \n",
    "  \\begin{vmatrix} \n",
    "  8 & 26\\\\ \n",
    "  \\end{vmatrix}"
   ]
  },
  {
   "cell_type": "markdown",
   "id": "e3155ccd",
   "metadata": {},
   "source": [
    "### A forma curta de np.matmul(x1, x2) e x1 @ x2"
   ]
  },
  {
   "cell_type": "code",
   "execution_count": 98,
   "id": "4d723b4c",
   "metadata": {},
   "outputs": [
    {
     "data": {
      "text/plain": [
       "array([ 8, 26])"
      ]
     },
     "execution_count": 98,
     "metadata": {},
     "output_type": "execute_result"
    }
   ],
   "source": [
    "A @ B"
   ]
  },
  {
   "cell_type": "code",
   "execution_count": 99,
   "id": "81187e3f",
   "metadata": {},
   "outputs": [
    {
     "ename": "ValueError",
     "evalue": "matmul: Input operand 1 has a mismatch in its core dimension 0, with gufunc signature (n?,k),(k,m?)->(n?,m?) (size 2 is different from 3)",
     "output_type": "error",
     "traceback": [
      "\u001b[1;31m---------------------------------------------------------------------------\u001b[0m",
      "\u001b[1;31mValueError\u001b[0m                                Traceback (most recent call last)",
      "Cell \u001b[1;32mIn[99], line 1\u001b[0m\n\u001b[1;32m----> 1\u001b[0m B \u001b[38;5;241m@\u001b[39m A\n",
      "\u001b[1;31mValueError\u001b[0m: matmul: Input operand 1 has a mismatch in its core dimension 0, with gufunc signature (n?,k),(k,m?)->(n?,m?) (size 2 is different from 3)"
     ]
    }
   ],
   "source": [
    "B @ A"
   ]
  },
  {
   "cell_type": "markdown",
   "id": "3e076993",
   "metadata": {},
   "source": [
    "Esse erro ocorre por essa razão:\n",
    "\n",
    "Sabendo que:\n",
    "* B = (3, 1)\n",
    "* A = (2,3)\n",
    "\n",
    "* (3,**1**),(**2**,3)\n",
    "\n",
    "Por serem valores diferente, não é possível a obtenção do produto matricial entre as matrizes A e B."
   ]
  },
  {
   "cell_type": "markdown",
   "id": "17205027",
   "metadata": {},
   "source": [
    "# 6º questão"
   ]
  },
  {
   "cell_type": "markdown",
   "id": "536be5db",
   "metadata": {},
   "source": [
    "https://numpy.org/doc/stable/reference/generated/numpy.all.html"
   ]
  },
  {
   "cell_type": "markdown",
   "id": "0016f434",
   "metadata": {},
   "source": [
    "Sejam\n",
    "\n",
    "* A = np.array([[1,0,1],[0,1,0],[1,1,1]])\n",
    "\n",
    "* b = np.array([1,2,3])\n",
    "\n",
    "Explique por que o código\n",
    "\n",
    "* np.all(b@A == A@b)\n",
    "\n",
    "retorna **False** mas o código\n",
    "\n",
    "* np.all(b*A == A*b)\n",
    "\n",
    "retorna **True**."
   ]
  },
  {
   "cell_type": "code",
   "execution_count": 143,
   "id": "0c9ae43f",
   "metadata": {},
   "outputs": [],
   "source": [
    "A = np.array([[1,0,1],[0,1,0],[1,1,1]])\n",
    "b = np.array([1,2,3])"
   ]
  },
  {
   "cell_type": "code",
   "execution_count": 144,
   "id": "931d6d01",
   "metadata": {},
   "outputs": [
    {
     "data": {
      "text/plain": [
       "array([4, 2, 6])"
      ]
     },
     "execution_count": 144,
     "metadata": {},
     "output_type": "execute_result"
    }
   ],
   "source": [
    "A @ b"
   ]
  },
  {
   "cell_type": "code",
   "execution_count": 145,
   "id": "8c11a15c",
   "metadata": {},
   "outputs": [
    {
     "data": {
      "text/plain": [
       "array([4, 5, 4])"
      ]
     },
     "execution_count": 145,
     "metadata": {},
     "output_type": "execute_result"
    }
   ],
   "source": [
    "b @ A"
   ]
  },
  {
   "cell_type": "code",
   "execution_count": 126,
   "id": "4255bf3e",
   "metadata": {},
   "outputs": [
    {
     "data": {
      "text/plain": [
       "(3,)"
      ]
     },
     "execution_count": 126,
     "metadata": {},
     "output_type": "execute_result"
    }
   ],
   "source": [
    "b.shape"
   ]
  },
  {
   "cell_type": "code",
   "execution_count": 101,
   "id": "025e8f6b",
   "metadata": {},
   "outputs": [
    {
     "data": {
      "text/plain": [
       "False"
      ]
     },
     "execution_count": 101,
     "metadata": {},
     "output_type": "execute_result"
    }
   ],
   "source": [
    "np.all(b@A == A@b)"
   ]
  },
  {
   "cell_type": "code",
   "execution_count": 102,
   "id": "7c53873f",
   "metadata": {},
   "outputs": [
    {
     "data": {
      "text/plain": [
       "True"
      ]
     },
     "execution_count": 102,
     "metadata": {},
     "output_type": "execute_result"
    }
   ],
   "source": [
    "np.all(b*A == A*b)"
   ]
  },
  {
   "cell_type": "code",
   "execution_count": 135,
   "id": "0576a796",
   "metadata": {},
   "outputs": [
    {
     "name": "stdout",
     "output_type": "stream",
     "text": [
      "[[1 0 1]\n",
      " [0 1 0]\n",
      " [1 1 1]]\n",
      "____________________________________________________________________________________________________\n",
      "\n",
      "[1 2 3]\n",
      "____________________________________________________________________________________________________\n",
      "\n",
      "[[1 0 3]\n",
      " [0 2 0]\n",
      " [1 2 3]]\n",
      "____________________________________________________________________________________________________\n",
      "\n",
      "[[1 0 3]\n",
      " [0 2 0]\n",
      " [1 2 3]]\n"
     ]
    }
   ],
   "source": [
    "print(A)\n",
    "print('_'*100)\n",
    "print('')\n",
    "print(b.T)\n",
    "print('_'*100)\n",
    "print('')\n",
    "print(A*b)\n",
    "print('_'*100)\n",
    "print('')\n",
    "print(b*A)"
   ]
  },
  {
   "cell_type": "markdown",
   "id": "fd70c262",
   "metadata": {},
   "source": [
    "___"
   ]
  },
  {
   "cell_type": "markdown",
   "id": "8e6e5aad",
   "metadata": {},
   "source": [
    "# 7º questão"
   ]
  },
  {
   "cell_type": "markdown",
   "id": "97a667e5",
   "metadata": {},
   "source": [
    "Baixe o arquivo coin_Bitcoin.csv (terceiro arquivo da lista em Data Explorer) disponível em\n",
    "\n",
    "https://www.kaggle.com/datasets/sudalairajkumar/cryptocurrencypricehistory\n",
    "\n",
    "e carregue o arquivo usando a biblioteca Pandas.\n",
    "\n",
    "Em seguida, trace o gráfico do preço de fechamento (\"Close\") em função da data para todo o ano de 2020 (366 amostras):\n",
    "\n",
    "* usando a função plot do Pandas\n",
    "* convertendo para NumPy e usando Matplotlib\n",
    "\n",
    "Cole aqui o código que você utilizou."
   ]
  },
  {
   "cell_type": "code",
   "execution_count": 32,
   "id": "b19f3dba",
   "metadata": {},
   "outputs": [],
   "source": [
    "import numpy as np\n",
    "import pandas as pd\n",
    "import matplotlib.pyplot as plt"
   ]
  },
  {
   "cell_type": "code",
   "execution_count": 46,
   "id": "e4bf39f7",
   "metadata": {},
   "outputs": [
    {
     "data": {
      "text/html": [
       "<div>\n",
       "<style scoped>\n",
       "    .dataframe tbody tr th:only-of-type {\n",
       "        vertical-align: middle;\n",
       "    }\n",
       "\n",
       "    .dataframe tbody tr th {\n",
       "        vertical-align: top;\n",
       "    }\n",
       "\n",
       "    .dataframe thead th {\n",
       "        text-align: right;\n",
       "    }\n",
       "</style>\n",
       "<table border=\"1\" class=\"dataframe\">\n",
       "  <thead>\n",
       "    <tr style=\"text-align: right;\">\n",
       "      <th></th>\n",
       "      <th>SNo</th>\n",
       "      <th>Name</th>\n",
       "      <th>Symbol</th>\n",
       "      <th>Date</th>\n",
       "      <th>High</th>\n",
       "      <th>Low</th>\n",
       "      <th>Open</th>\n",
       "      <th>Close</th>\n",
       "      <th>Volume</th>\n",
       "      <th>Marketcap</th>\n",
       "    </tr>\n",
       "  </thead>\n",
       "  <tbody>\n",
       "    <tr>\n",
       "      <th>0</th>\n",
       "      <td>1</td>\n",
       "      <td>Bitcoin</td>\n",
       "      <td>BTC</td>\n",
       "      <td>2013-04-29 23:59:59</td>\n",
       "      <td>147.488007</td>\n",
       "      <td>134.000000</td>\n",
       "      <td>134.444000</td>\n",
       "      <td>144.539993</td>\n",
       "      <td>0.000000e+00</td>\n",
       "      <td>1.603769e+09</td>\n",
       "    </tr>\n",
       "    <tr>\n",
       "      <th>1</th>\n",
       "      <td>2</td>\n",
       "      <td>Bitcoin</td>\n",
       "      <td>BTC</td>\n",
       "      <td>2013-04-30 23:59:59</td>\n",
       "      <td>146.929993</td>\n",
       "      <td>134.050003</td>\n",
       "      <td>144.000000</td>\n",
       "      <td>139.000000</td>\n",
       "      <td>0.000000e+00</td>\n",
       "      <td>1.542813e+09</td>\n",
       "    </tr>\n",
       "    <tr>\n",
       "      <th>2</th>\n",
       "      <td>3</td>\n",
       "      <td>Bitcoin</td>\n",
       "      <td>BTC</td>\n",
       "      <td>2013-05-01 23:59:59</td>\n",
       "      <td>139.889999</td>\n",
       "      <td>107.720001</td>\n",
       "      <td>139.000000</td>\n",
       "      <td>116.989998</td>\n",
       "      <td>0.000000e+00</td>\n",
       "      <td>1.298955e+09</td>\n",
       "    </tr>\n",
       "    <tr>\n",
       "      <th>3</th>\n",
       "      <td>4</td>\n",
       "      <td>Bitcoin</td>\n",
       "      <td>BTC</td>\n",
       "      <td>2013-05-02 23:59:59</td>\n",
       "      <td>125.599998</td>\n",
       "      <td>92.281898</td>\n",
       "      <td>116.379997</td>\n",
       "      <td>105.209999</td>\n",
       "      <td>0.000000e+00</td>\n",
       "      <td>1.168517e+09</td>\n",
       "    </tr>\n",
       "    <tr>\n",
       "      <th>4</th>\n",
       "      <td>5</td>\n",
       "      <td>Bitcoin</td>\n",
       "      <td>BTC</td>\n",
       "      <td>2013-05-03 23:59:59</td>\n",
       "      <td>108.127998</td>\n",
       "      <td>79.099998</td>\n",
       "      <td>106.250000</td>\n",
       "      <td>97.750000</td>\n",
       "      <td>0.000000e+00</td>\n",
       "      <td>1.085995e+09</td>\n",
       "    </tr>\n",
       "    <tr>\n",
       "      <th>...</th>\n",
       "      <td>...</td>\n",
       "      <td>...</td>\n",
       "      <td>...</td>\n",
       "      <td>...</td>\n",
       "      <td>...</td>\n",
       "      <td>...</td>\n",
       "      <td>...</td>\n",
       "      <td>...</td>\n",
       "      <td>...</td>\n",
       "      <td>...</td>\n",
       "    </tr>\n",
       "    <tr>\n",
       "      <th>2986</th>\n",
       "      <td>2987</td>\n",
       "      <td>Bitcoin</td>\n",
       "      <td>BTC</td>\n",
       "      <td>2021-07-02 23:59:59</td>\n",
       "      <td>33939.588699</td>\n",
       "      <td>32770.680780</td>\n",
       "      <td>33549.600177</td>\n",
       "      <td>33897.048590</td>\n",
       "      <td>3.872897e+10</td>\n",
       "      <td>6.354508e+11</td>\n",
       "    </tr>\n",
       "    <tr>\n",
       "      <th>2987</th>\n",
       "      <td>2988</td>\n",
       "      <td>Bitcoin</td>\n",
       "      <td>BTC</td>\n",
       "      <td>2021-07-03 23:59:59</td>\n",
       "      <td>34909.259899</td>\n",
       "      <td>33402.696536</td>\n",
       "      <td>33854.421362</td>\n",
       "      <td>34668.548402</td>\n",
       "      <td>2.438396e+10</td>\n",
       "      <td>6.499397e+11</td>\n",
       "    </tr>\n",
       "    <tr>\n",
       "      <th>2988</th>\n",
       "      <td>2989</td>\n",
       "      <td>Bitcoin</td>\n",
       "      <td>BTC</td>\n",
       "      <td>2021-07-04 23:59:59</td>\n",
       "      <td>35937.567147</td>\n",
       "      <td>34396.477458</td>\n",
       "      <td>34665.564866</td>\n",
       "      <td>35287.779766</td>\n",
       "      <td>2.492431e+10</td>\n",
       "      <td>6.615748e+11</td>\n",
       "    </tr>\n",
       "    <tr>\n",
       "      <th>2989</th>\n",
       "      <td>2990</td>\n",
       "      <td>Bitcoin</td>\n",
       "      <td>BTC</td>\n",
       "      <td>2021-07-05 23:59:59</td>\n",
       "      <td>35284.344430</td>\n",
       "      <td>33213.661034</td>\n",
       "      <td>35284.344430</td>\n",
       "      <td>33746.002456</td>\n",
       "      <td>2.672155e+10</td>\n",
       "      <td>6.326962e+11</td>\n",
       "    </tr>\n",
       "    <tr>\n",
       "      <th>2990</th>\n",
       "      <td>2991</td>\n",
       "      <td>Bitcoin</td>\n",
       "      <td>BTC</td>\n",
       "      <td>2021-07-06 23:59:59</td>\n",
       "      <td>35038.536363</td>\n",
       "      <td>33599.916169</td>\n",
       "      <td>33723.509655</td>\n",
       "      <td>34235.193451</td>\n",
       "      <td>2.650126e+10</td>\n",
       "      <td>6.418992e+11</td>\n",
       "    </tr>\n",
       "  </tbody>\n",
       "</table>\n",
       "<p>2991 rows × 10 columns</p>\n",
       "</div>"
      ],
      "text/plain": [
       "       SNo     Name Symbol                 Date          High           Low  \\\n",
       "0        1  Bitcoin    BTC  2013-04-29 23:59:59    147.488007    134.000000   \n",
       "1        2  Bitcoin    BTC  2013-04-30 23:59:59    146.929993    134.050003   \n",
       "2        3  Bitcoin    BTC  2013-05-01 23:59:59    139.889999    107.720001   \n",
       "3        4  Bitcoin    BTC  2013-05-02 23:59:59    125.599998     92.281898   \n",
       "4        5  Bitcoin    BTC  2013-05-03 23:59:59    108.127998     79.099998   \n",
       "...    ...      ...    ...                  ...           ...           ...   \n",
       "2986  2987  Bitcoin    BTC  2021-07-02 23:59:59  33939.588699  32770.680780   \n",
       "2987  2988  Bitcoin    BTC  2021-07-03 23:59:59  34909.259899  33402.696536   \n",
       "2988  2989  Bitcoin    BTC  2021-07-04 23:59:59  35937.567147  34396.477458   \n",
       "2989  2990  Bitcoin    BTC  2021-07-05 23:59:59  35284.344430  33213.661034   \n",
       "2990  2991  Bitcoin    BTC  2021-07-06 23:59:59  35038.536363  33599.916169   \n",
       "\n",
       "              Open         Close        Volume     Marketcap  \n",
       "0       134.444000    144.539993  0.000000e+00  1.603769e+09  \n",
       "1       144.000000    139.000000  0.000000e+00  1.542813e+09  \n",
       "2       139.000000    116.989998  0.000000e+00  1.298955e+09  \n",
       "3       116.379997    105.209999  0.000000e+00  1.168517e+09  \n",
       "4       106.250000     97.750000  0.000000e+00  1.085995e+09  \n",
       "...            ...           ...           ...           ...  \n",
       "2986  33549.600177  33897.048590  3.872897e+10  6.354508e+11  \n",
       "2987  33854.421362  34668.548402  2.438396e+10  6.499397e+11  \n",
       "2988  34665.564866  35287.779766  2.492431e+10  6.615748e+11  \n",
       "2989  35284.344430  33746.002456  2.672155e+10  6.326962e+11  \n",
       "2990  33723.509655  34235.193451  2.650126e+10  6.418992e+11  \n",
       "\n",
       "[2991 rows x 10 columns]"
      ]
     },
     "metadata": {},
     "output_type": "display_data"
    }
   ],
   "source": [
    "# Recebe o arquivo CSV que está localizado na mesma pasta desse código Python\n",
    "# Transforma o arquivo CSV em um DataFrame (Uma tabela do Pandas)\n",
    "df_bitcoin = pd.read_csv('coin_Bitcoin.csv')\n",
    "\n",
    "# Apresenta as 5 primeiras e últimas linhas\n",
    "display(df_bitcoin)"
   ]
  },
  {
   "cell_type": "code",
   "execution_count": 47,
   "id": "961fa7ed",
   "metadata": {},
   "outputs": [
    {
     "name": "stdout",
     "output_type": "stream",
     "text": [
      "<class 'pandas.core.frame.DataFrame'>\n",
      "RangeIndex: 2991 entries, 0 to 2990\n",
      "Data columns (total 10 columns):\n",
      " #   Column     Non-Null Count  Dtype  \n",
      "---  ------     --------------  -----  \n",
      " 0   SNo        2991 non-null   int64  \n",
      " 1   Name       2991 non-null   object \n",
      " 2   Symbol     2991 non-null   object \n",
      " 3   Date       2991 non-null   object \n",
      " 4   High       2991 non-null   float64\n",
      " 5   Low        2991 non-null   float64\n",
      " 6   Open       2991 non-null   float64\n",
      " 7   Close      2991 non-null   float64\n",
      " 8   Volume     2991 non-null   float64\n",
      " 9   Marketcap  2991 non-null   float64\n",
      "dtypes: float64(6), int64(1), object(3)\n",
      "memory usage: 233.8+ KB\n"
     ]
    }
   ],
   "source": [
    "# Mostra os tipos das variáveis\n",
    "df_bitcoin.info()"
   ]
  },
  {
   "cell_type": "code",
   "execution_count": 48,
   "id": "1a23c608",
   "metadata": {},
   "outputs": [
    {
     "name": "stdout",
     "output_type": "stream",
     "text": [
      "<class 'pandas.core.frame.DataFrame'>\n",
      "RangeIndex: 2991 entries, 0 to 2990\n",
      "Data columns (total 10 columns):\n",
      " #   Column     Non-Null Count  Dtype         \n",
      "---  ------     --------------  -----         \n",
      " 0   SNo        2991 non-null   int64         \n",
      " 1   Name       2991 non-null   object        \n",
      " 2   Symbol     2991 non-null   object        \n",
      " 3   Date       2991 non-null   datetime64[ns]\n",
      " 4   High       2991 non-null   float64       \n",
      " 5   Low        2991 non-null   float64       \n",
      " 6   Open       2991 non-null   float64       \n",
      " 7   Close      2991 non-null   float64       \n",
      " 8   Volume     2991 non-null   float64       \n",
      " 9   Marketcap  2991 non-null   float64       \n",
      "dtypes: datetime64[ns](1), float64(6), int64(1), object(2)\n",
      "memory usage: 233.8+ KB\n"
     ]
    }
   ],
   "source": [
    "# Como a coluna 'Date' é um object, é necessário transformar para o formato datetime\n",
    "df_bitcoin['Date'] = pd.to_datetime(df_bitcoin['Date'])\n",
    "\n",
    "# Mostra os tipos das variáveis\n",
    "df_bitcoin.info()"
   ]
  },
  {
   "cell_type": "code",
   "execution_count": 49,
   "id": "7e77e758",
   "metadata": {},
   "outputs": [
    {
     "data": {
      "image/png": "[encoded data removed]",
      "text/plain": [
       "<Figure size 640x480 with 1 Axes>"
      ]
     },
     "metadata": {},
     "output_type": "display_data"
    }
   ],
   "source": [
    "# Gera o gráfico, onde o eixo horizontal representa a data e o eixo horizontal representa o preço de fechmaneto do BTC\n",
    "plot = df_bitcoin.plot(title = \"DataFrame Plot\", x = 'Date', y = 'Close')"
   ]
  },
  {
   "cell_type": "code",
   "execution_count": 80,
   "id": "658a90ca",
   "metadata": {},
   "outputs": [
    {
     "data": {
      "text/html": [
       "<div>\n",
       "<style scoped>\n",
       "    .dataframe tbody tr th:only-of-type {\n",
       "        vertical-align: middle;\n",
       "    }\n",
       "\n",
       "    .dataframe tbody tr th {\n",
       "        vertical-align: top;\n",
       "    }\n",
       "\n",
       "    .dataframe thead th {\n",
       "        text-align: right;\n",
       "    }\n",
       "</style>\n",
       "<table border=\"1\" class=\"dataframe\">\n",
       "  <thead>\n",
       "    <tr style=\"text-align: right;\">\n",
       "      <th></th>\n",
       "      <th>SNo</th>\n",
       "      <th>Name</th>\n",
       "      <th>Symbol</th>\n",
       "      <th>Date</th>\n",
       "      <th>High</th>\n",
       "      <th>Low</th>\n",
       "      <th>Open</th>\n",
       "      <th>Close</th>\n",
       "      <th>Volume</th>\n",
       "      <th>Marketcap</th>\n",
       "    </tr>\n",
       "  </thead>\n",
       "  <tbody>\n",
       "    <tr>\n",
       "      <th>0</th>\n",
       "      <td>2439</td>\n",
       "      <td>Bitcoin</td>\n",
       "      <td>BTC</td>\n",
       "      <td>2020-01-01 23:59:59</td>\n",
       "      <td>7254.330611</td>\n",
       "      <td>7174.944153</td>\n",
       "      <td>7194.891971</td>\n",
       "      <td>7200.174393</td>\n",
       "      <td>1.856566e+10</td>\n",
       "      <td>1.305808e+11</td>\n",
       "    </tr>\n",
       "    <tr>\n",
       "      <th>1</th>\n",
       "      <td>2440</td>\n",
       "      <td>Bitcoin</td>\n",
       "      <td>BTC</td>\n",
       "      <td>2020-01-02 23:59:59</td>\n",
       "      <td>7212.155253</td>\n",
       "      <td>6935.269972</td>\n",
       "      <td>7202.551122</td>\n",
       "      <td>6985.470001</td>\n",
       "      <td>2.080208e+10</td>\n",
       "      <td>1.266994e+11</td>\n",
       "    </tr>\n",
       "    <tr>\n",
       "      <th>2</th>\n",
       "      <td>2441</td>\n",
       "      <td>Bitcoin</td>\n",
       "      <td>BTC</td>\n",
       "      <td>2020-01-03 23:59:59</td>\n",
       "      <td>7413.715099</td>\n",
       "      <td>6914.995908</td>\n",
       "      <td>6984.428612</td>\n",
       "      <td>7344.884183</td>\n",
       "      <td>2.811148e+10</td>\n",
       "      <td>1.332334e+11</td>\n",
       "    </tr>\n",
       "    <tr>\n",
       "      <th>3</th>\n",
       "      <td>2442</td>\n",
       "      <td>Bitcoin</td>\n",
       "      <td>BTC</td>\n",
       "      <td>2020-01-04 23:59:59</td>\n",
       "      <td>7427.385794</td>\n",
       "      <td>7309.514012</td>\n",
       "      <td>7345.375275</td>\n",
       "      <td>7410.656566</td>\n",
       "      <td>1.844427e+10</td>\n",
       "      <td>1.344425e+11</td>\n",
       "    </tr>\n",
       "    <tr>\n",
       "      <th>4</th>\n",
       "      <td>2443</td>\n",
       "      <td>Bitcoin</td>\n",
       "      <td>BTC</td>\n",
       "      <td>2020-01-05 23:59:59</td>\n",
       "      <td>7544.496872</td>\n",
       "      <td>7400.535561</td>\n",
       "      <td>7410.451694</td>\n",
       "      <td>7411.317327</td>\n",
       "      <td>1.972507e+10</td>\n",
       "      <td>1.344695e+11</td>\n",
       "    </tr>\n",
       "    <tr>\n",
       "      <th>...</th>\n",
       "      <td>...</td>\n",
       "      <td>...</td>\n",
       "      <td>...</td>\n",
       "      <td>...</td>\n",
       "      <td>...</td>\n",
       "      <td>...</td>\n",
       "      <td>...</td>\n",
       "      <td>...</td>\n",
       "      <td>...</td>\n",
       "      <td>...</td>\n",
       "    </tr>\n",
       "    <tr>\n",
       "      <th>360</th>\n",
       "      <td>2799</td>\n",
       "      <td>Bitcoin</td>\n",
       "      <td>BTC</td>\n",
       "      <td>2020-12-26 23:59:59</td>\n",
       "      <td>26718.070893</td>\n",
       "      <td>24522.689482</td>\n",
       "      <td>24677.016056</td>\n",
       "      <td>26437.037509</td>\n",
       "      <td>4.833265e+10</td>\n",
       "      <td>4.912509e+11</td>\n",
       "    </tr>\n",
       "    <tr>\n",
       "      <th>361</th>\n",
       "      <td>2800</td>\n",
       "      <td>Bitcoin</td>\n",
       "      <td>BTC</td>\n",
       "      <td>2020-12-27 23:59:59</td>\n",
       "      <td>28288.840022</td>\n",
       "      <td>25922.769765</td>\n",
       "      <td>26439.373289</td>\n",
       "      <td>26272.294567</td>\n",
       "      <td>6.647990e+10</td>\n",
       "      <td>4.882133e+11</td>\n",
       "    </tr>\n",
       "    <tr>\n",
       "      <th>362</th>\n",
       "      <td>2801</td>\n",
       "      <td>Bitcoin</td>\n",
       "      <td>BTC</td>\n",
       "      <td>2020-12-28 23:59:59</td>\n",
       "      <td>27389.112064</td>\n",
       "      <td>26207.639931</td>\n",
       "      <td>26280.821415</td>\n",
       "      <td>27084.807886</td>\n",
       "      <td>4.905674e+10</td>\n",
       "      <td>5.033393e+11</td>\n",
       "    </tr>\n",
       "    <tr>\n",
       "      <th>363</th>\n",
       "      <td>2802</td>\n",
       "      <td>Bitcoin</td>\n",
       "      <td>BTC</td>\n",
       "      <td>2020-12-29 23:59:59</td>\n",
       "      <td>27370.720084</td>\n",
       "      <td>25987.298075</td>\n",
       "      <td>27081.809729</td>\n",
       "      <td>27362.436557</td>\n",
       "      <td>4.526595e+10</td>\n",
       "      <td>5.085237e+11</td>\n",
       "    </tr>\n",
       "    <tr>\n",
       "      <th>364</th>\n",
       "      <td>2803</td>\n",
       "      <td>Bitcoin</td>\n",
       "      <td>BTC</td>\n",
       "      <td>2020-12-30 23:59:59</td>\n",
       "      <td>28937.740004</td>\n",
       "      <td>27360.089709</td>\n",
       "      <td>27360.089709</td>\n",
       "      <td>28840.953420</td>\n",
       "      <td>5.128744e+10</td>\n",
       "      <td>5.360338e+11</td>\n",
       "    </tr>\n",
       "  </tbody>\n",
       "</table>\n",
       "<p>365 rows × 10 columns</p>\n",
       "</div>"
      ],
      "text/plain": [
       "      SNo     Name Symbol                Date          High           Low  \\\n",
       "0    2439  Bitcoin    BTC 2020-01-01 23:59:59   7254.330611   7174.944153   \n",
       "1    2440  Bitcoin    BTC 2020-01-02 23:59:59   7212.155253   6935.269972   \n",
       "2    2441  Bitcoin    BTC 2020-01-03 23:59:59   7413.715099   6914.995908   \n",
       "3    2442  Bitcoin    BTC 2020-01-04 23:59:59   7427.385794   7309.514012   \n",
       "4    2443  Bitcoin    BTC 2020-01-05 23:59:59   7544.496872   7400.535561   \n",
       "..    ...      ...    ...                 ...           ...           ...   \n",
       "360  2799  Bitcoin    BTC 2020-12-26 23:59:59  26718.070893  24522.689482   \n",
       "361  2800  Bitcoin    BTC 2020-12-27 23:59:59  28288.840022  25922.769765   \n",
       "362  2801  Bitcoin    BTC 2020-12-28 23:59:59  27389.112064  26207.639931   \n",
       "363  2802  Bitcoin    BTC 2020-12-29 23:59:59  27370.720084  25987.298075   \n",
       "364  2803  Bitcoin    BTC 2020-12-30 23:59:59  28937.740004  27360.089709   \n",
       "\n",
       "             Open         Close        Volume     Marketcap  \n",
       "0     7194.891971   7200.174393  1.856566e+10  1.305808e+11  \n",
       "1     7202.551122   6985.470001  2.080208e+10  1.266994e+11  \n",
       "2     6984.428612   7344.884183  2.811148e+10  1.332334e+11  \n",
       "3     7345.375275   7410.656566  1.844427e+10  1.344425e+11  \n",
       "4     7410.451694   7411.317327  1.972507e+10  1.344695e+11  \n",
       "..            ...           ...           ...           ...  \n",
       "360  24677.016056  26437.037509  4.833265e+10  4.912509e+11  \n",
       "361  26439.373289  26272.294567  6.647990e+10  4.882133e+11  \n",
       "362  26280.821415  27084.807886  4.905674e+10  5.033393e+11  \n",
       "363  27081.809729  27362.436557  4.526595e+10  5.085237e+11  \n",
       "364  27360.089709  28840.953420  5.128744e+10  5.360338e+11  \n",
       "\n",
       "[365 rows x 10 columns]"
      ]
     },
     "metadata": {},
     "output_type": "display_data"
    }
   ],
   "source": [
    "# Faz a cópia do dataframe atual, de modo que posso fazer alterações sem alterar o dataframe principal\n",
    "df_bitcoin_copia = df_bitcoin.copy()\n",
    "\n",
    "# Filtra as datas para a partir do dia 1º de janeiro de 2020\n",
    "df_bitcoin_copia = df_bitcoin_copia[df_bitcoin_copia['Date'] >= '2020-01-01']\n",
    "\n",
    "# Filtra as datas para valores iguais ou anteriores ao dia 31 de dezembro de 2020\n",
    "df_bitcoin_copia = df_bitcoin_copia[df_bitcoin_copia['Date'] <= '2020-12-31']\n",
    "\n",
    "# Reseta o index\n",
    "df_bitcoin_copia = df_bitcoin_copia.reset_index(drop = True)\n",
    "\n",
    "# Apresenta o novo dataframe com as datas do ano de 2020\n",
    "display(df_bitcoin_copia)"
   ]
  },
  {
   "cell_type": "code",
   "execution_count": 84,
   "id": "0f0c5a6d",
   "metadata": {},
   "outputs": [
    {
     "data": {
      "image/png": "[encoded data removed]",
      "text/plain": [
       "<Figure size 640x480 with 1 Axes>"
      ]
     },
     "metadata": {},
     "output_type": "display_data"
    }
   ],
   "source": [
    "# Gera o gráfico do ano de 2020\n",
    "plot = df_bitcoin_copia.plot(title = \"Preço do Bitcoin no ano de 2022 (U$)\", x = 'Date', y = 'Close')"
   ]
  },
  {
   "cell_type": "code",
   "execution_count": 88,
   "id": "c13a5f57",
   "metadata": {},
   "outputs": [],
   "source": [
    "# Cria um vetor numpy da coluna 'Date' que será representado no eixo horizontal do gráfico\n",
    "np_df_bitcoin_date = df_bitcoin_copia['Date'].to_numpy()\n",
    "\n",
    "# Cria um vetor numpy da coluna 'Close' que será representado no eixo vertical do gráfico\n",
    "np_df_bitcoin_close = df_bitcoin_copia['Close'].to_numpy()"
   ]
  },
  {
   "cell_type": "code",
   "execution_count": 94,
   "id": "d04b061a",
   "metadata": {},
   "outputs": [
    {
     "data": {
      "image/png": "[encoded data removed]",
      "text/plain": [
       "<Figure size 640x480 with 1 Axes>"
      ]
     },
     "metadata": {},
     "output_type": "display_data"
    }
   ],
   "source": [
    "# Constrói o gráfico de cor azul, do tipo reta, com a legenda de 'BTC'\n",
    "plt.plot(np_df_bitcoin_date, np_df_bitcoin_close,'b-', label = 'BTC')\n",
    "\n",
    "# Nomeia o eixo horizontal\n",
    "plt.xlabel('Data');\n",
    "\n",
    "# Nomeia o eixo vertical\n",
    "plt.ylabel('Preço do fechamento (U$)');\n",
    "\n",
    "# Nomeia o título\n",
    "plt.title('Preço do Bitcoin no ano de 2022 (U$)')\n",
    "\n",
    "# Faz com que o gráfico não apresente dados desnecessários na parte superior\n",
    "# O ponto e vírgula também teria o mesmo efeito\n",
    "plt.show()"
   ]
  },
  {
   "cell_type": "code",
   "execution_count": null,
   "id": "2de0a30b",
   "metadata": {},
   "outputs": [],
   "source": []
  },
  {
   "cell_type": "code",
   "execution_count": null,
   "id": "1a874c90",
   "metadata": {},
   "outputs": [],
   "source": []
  }
 ],
 "metadata": {
  "kernelspec": {
   "display_name": "Python 3 (ipykernel)",
   "language": "python",
   "name": "python3"
  },
  "language_info": {
   "codemirror_mode": {
    "name": "ipython",
    "version": 3
   },
   "file_extension": ".py",
   "mimetype": "text/x-python",
   "name": "python",
   "nbconvert_exporter": "python",
   "pygments_lexer": "ipython3",
   "version": "3.11.7"
  }
 },
 "nbformat": 4,
 "nbformat_minor": 5
}
