{
 "cells": [
  {
   "cell_type": "markdown",
   "metadata": {},
   "source": [
    "<span style=\"color: #FFC107; font-size: 22px;\">**Documentação e Referências**</span>\n",
    "\n",
    "[Python Time Module](https://www.geeksforgeeks.org/python-time-module/) <br>\n",
    "[Python Time Module (with Examples)](https://www.programiz.com/python-programming/time) <br>\n",
    "[Python Time - Documentação](https://docs.python.org/pt-br/3/library/time.html) <br>"
   ]
  },
  {
   "cell_type": "code",
   "execution_count": 1,
   "metadata": {},
   "outputs": [],
   "source": [
    "import time"
   ]
  },
  {
   "cell_type": "markdown",
   "metadata": {},
   "source": [
    "- <span style=\"color: #73d2de; font-size: 18px;\">Marco Zero: EPOCH (01 de janeiro de 1970 às 00:00:00)</span>\n",
    "- <span style=\"color: #f373b6; font-size: 18px;\">time() retorna quantos segundos se passaram desde a **EPOCH**</span>"
   ]
  },
  {
   "cell_type": "markdown",
   "metadata": {},
   "source": [
    "<span style=\"color: #FFC107; font-size: 22px;\">**time.time()**</span>"
   ]
  },
  {
   "cell_type": "code",
   "execution_count": 2,
   "metadata": {},
   "outputs": [
    {
     "name": "stdout",
     "output_type": "stream",
     "text": [
      "1721500952.539506\n"
     ]
    }
   ],
   "source": [
    "# Retorna a quantidade de segundos de 01/01/1970 às 00:00:00 até o momento atual em relação ao UTC/GMT\n",
    "# UTC significa Coordinated Universal Time, também conhecido como GMT (Greenwich Mean Time)\n",
    "segundos_hoje = time.time()\n",
    "\n",
    "# Apresenta a quantidade total de segundos\n",
    "print(segundos_hoje)"
   ]
  },
  {
   "cell_type": "markdown",
   "metadata": {},
   "source": [
    "Isso já pode ser muito útil para medir o tempo que um código leva para rodar"
   ]
  },
  {
   "cell_type": "code",
   "execution_count": 3,
   "metadata": {},
   "outputs": [
    {
     "name": "stdout",
     "output_type": "stream",
     "text": [
      "O programa levou 3.3779969215393066 segundos para rodar\n"
     ]
    }
   ],
   "source": [
    "# Calcula o tempo antes do código principal começar a rodar\n",
    "tempo_inicial = time.time()\n",
    "\n",
    "# Realiza 100.000.000 de iterações\n",
    "for i in range(100_000_000):\n",
    "    pass\n",
    "\n",
    "# Calcula o tempo depois do código principal comeaçar a rodar\n",
    "tempo_final = time.time()\n",
    "\n",
    "# Calcula a diferença entre o tempo inicial e o tempo final\n",
    "duracao = tempo_final - tempo_inicial\n",
    "\n",
    "# Apresenta o tempo total em segundos que demorou para o código principal rodar\n",
    "print(f\"O programa levou {duracao} segundos para rodar\")"
   ]
  },
  {
   "cell_type": "markdown",
   "metadata": {},
   "source": [
    "<span style=\"color: #FFC107; font-size: 22px;\">**time.sleep()**</span>"
   ]
  },
  {
   "cell_type": "code",
   "execution_count": 4,
   "metadata": {},
   "outputs": [
    {
     "name": "stdout",
     "output_type": "stream",
     "text": [
      "Começando\n",
      "O programa levou 5.000938415527344 segundos para rodar\n"
     ]
    }
   ],
   "source": [
    "print(\"Começando\")\n",
    "\n",
    "# Calcula o tempo antes do código principal começar a rodar\n",
    "tempo_inicial = time.time()\n",
    "\n",
    "# Pausa a execução do código em 5 segundos\n",
    "time.sleep(5)\n",
    "\n",
    "# Calcula a diferença entre o tempo inicial e o tempo final\n",
    "duracao = time.time() - tempo_inicial\n",
    "\n",
    "# Apresenta o tempo total em segundos que demorou para o código principal rodar\n",
    "print(f\"O programa levou {duracao} segundos para rodar\")"
   ]
  },
  {
   "cell_type": "markdown",
   "metadata": {},
   "source": [
    "<span style=\"color: #FFC107; font-size: 22px;\">**time.ctime()**</span>\n",
    "\n",
    "Converta um tempo expresso em segundos desde a época em uma string no formato: representando a hora local."
   ]
  },
  {
   "cell_type": "code",
   "execution_count": 7,
   "metadata": {},
   "outputs": [
    {
     "name": "stdout",
     "output_type": "stream",
     "text": [
      "Sun Aug 25 21:18:54 2024\n"
     ]
    }
   ],
   "source": [
    "# Retorna a data e o horário atual no formato de string\n",
    "data_hoje = time.ctime()\n",
    "\n",
    "# Apresenta a data e o horário atual\n",
    "print(data_hoje)"
   ]
  },
  {
   "cell_type": "code",
   "execution_count": 4,
   "metadata": {},
   "outputs": [
    {
     "name": "stdout",
     "output_type": "stream",
     "text": [
      "Sat Mar  3 06:46:40 1973\n"
     ]
    }
   ],
   "source": [
    "# Retorna a data e o horário atual no formato de string\n",
    "data_hoje = time.ctime(100_000_000)\n",
    "\n",
    "# Apresenta a data e o horário atual\n",
    "print(data_hoje)"
   ]
  },
  {
   "cell_type": "markdown",
   "metadata": {},
   "source": [
    "<span style=\"color: #FFC107; font-size: 22px;\">**time.gmtime()**</span>"
   ]
  },
  {
   "cell_type": "code",
   "execution_count": 5,
   "metadata": {},
   "outputs": [
    {
     "name": "stdout",
     "output_type": "stream",
     "text": [
      "time.struct_time(tm_year=2024, tm_mon=8, tm_mday=26, tm_hour=0, tm_min=16, tm_sec=8, tm_wday=0, tm_yday=239, tm_isdst=0)\n"
     ]
    }
   ],
   "source": [
    "# Recebe todos dados sobre data e horário em relação ao UTC/GMT\n",
    "# UTC significa Coordinated Universal Time, também conhecido como GMT (Greenwich Mean Time)\n",
    "hora_geral = time.gmtime()\n",
    "\n",
    "# Apresenta cada a data e horário com os dados separados\n",
    "print(hora_geral)"
   ]
  },
  {
   "cell_type": "code",
   "execution_count": 15,
   "metadata": {},
   "outputs": [
    {
     "name": "stdout",
     "output_type": "stream",
     "text": [
      "Tempo em UTC: time.struct_time(tm_year=1973, tm_mon=3, tm_mday=3, tm_hour=9, tm_min=46, tm_sec=40, tm_wday=5, tm_yday=62, tm_isdst=0)\n"
     ]
    }
   ],
   "source": [
    "# Recebe todos dados sobre data e horário em relação ao UTC/GMT\n",
    "# UTC significa Coordinated Universal Time, também conhecido como GMT (Greenwich Mean Time)\n",
    "gmt_struct_exemplo = time.gmtime(100_000_000)\n",
    "\n",
    "# Apresenta cada a data e horário com os dados separados\n",
    "print(f\"Tempo em UTC: {gmt_struct_exemplo}\")"
   ]
  },
  {
   "cell_type": "markdown",
   "metadata": {},
   "source": [
    "<span style=\"color: #FFC107; font-size: 22px;\">**time.localtime()**</span>\n",
    "\n",
    "Como `gmtime()`, mas converte para o tempo local. Se secs não é fornecido ou None, o tempo atual como retornado por `time()` é utilizado. \n",
    "\n",
    "O sinalizador de horário de verão é definido como 1 quando o Horário de verão for aplicável para o tempo fornecido."
   ]
  },
  {
   "cell_type": "code",
   "execution_count": 7,
   "metadata": {},
   "outputs": [
    {
     "name": "stdout",
     "output_type": "stream",
     "text": [
      "time.struct_time(tm_year=2024, tm_mon=7, tm_mday=14, tm_hour=17, tm_min=36, tm_sec=19, tm_wday=6, tm_yday=196, tm_isdst=0)\n"
     ]
    }
   ],
   "source": [
    "# Recebe todos dados sobre data e horário em relação ao Horário local\n",
    "hora_local = time.localtime()\n",
    "\n",
    "# Apresenta cada a data e horário com os dados separados\n",
    "print(hora_local)"
   ]
  },
  {
   "cell_type": "code",
   "execution_count": 16,
   "metadata": {},
   "outputs": [
    {
     "name": "stdout",
     "output_type": "stream",
     "text": [
      "time.struct_time(tm_year=1973, tm_mon=3, tm_mday=3, tm_hour=6, tm_min=46, tm_sec=40, tm_wday=5, tm_yday=62, tm_isdst=0)\n"
     ]
    }
   ],
   "source": [
    "# Recebe todos dados sobre data e horário em relação ao Horário local\n",
    "hora_local = time.localtime(100_000_000)\n",
    "\n",
    "# Apresenta cada a data e horário com os dados separados\n",
    "print(hora_local)"
   ]
  },
  {
   "cell_type": "markdown",
   "metadata": {},
   "source": [
    "Qualquer struct_time permite você pegar as informações da data fazendo:\n",
    "- gmtime().parametro\n",
    "- localtime().parametro"
   ]
  },
  {
   "cell_type": "code",
   "execution_count": 8,
   "metadata": {},
   "outputs": [
    {
     "name": "stdout",
     "output_type": "stream",
     "text": [
      "Data: 14/7/2024\n",
      "Data: 14/7/2024\n"
     ]
    }
   ],
   "source": [
    "# Extraindo os dados do time.gmtime() ou time.localtime()\n",
    "dia = hora_local.tm_mday\n",
    "mes = hora_local.tm_mon\n",
    "ano = hora_local.tm_year\n",
    "dia_da_semana = hora_local.tm_wday\n",
    "\n",
    "# Personalizando a apresentação da data com base nos dados obtidos anteriormente\n",
    "print(\"Data: {}/{}/{}\".format(dia, mes, ano))\n",
    "print(f\"Data: {dia}/{mes}/{ano}\")"
   ]
  },
  {
   "cell_type": "markdown",
   "metadata": {},
   "source": [
    "<span style=\"color: #FFC107; font-size: 22px;\">**time.strftime()**</span>\n",
    "\n",
    "A função `strftime()` converte um objeto de tempo struct para uma string de acordo com um formato específico.\n",
    "\n",
    "Os símbolos de formato que podem ser usados estão disponíveis na documentação oficial do Python, [neste link](https://docs.python.org/3/library/time.html#time.strftime).\n",
    "\n",
    "Por exemplo, podemos querer uma string de tempo no seguinte formato: \"Dia da semana, dia do mês de mês do ano, horas:minutos:segundos\". Podemos usar o seguinte código para obter o tempo formatado:"
   ]
  },
  {
   "cell_type": "code",
   "execution_count": 17,
   "metadata": {},
   "outputs": [
    {
     "name": "stdout",
     "output_type": "stream",
     "text": [
      "time.struct_time(tm_year=2024, tm_mon=8, tm_mday=25, tm_hour=21, tm_min=37, tm_sec=19, tm_wday=6, tm_yday=238, tm_isdst=0) \n",
      "\n",
      "PM 25 August 2024 \n",
      "\n",
      "21:37:19 \n",
      "\n",
      "09:37:19 \n",
      "\n"
     ]
    }
   ],
   "source": [
    "# Define uma variável do tipo struct_time com a data e a hora local\n",
    "tempo_em_struct = time.localtime()\n",
    "print(tempo_em_struct, '\\n')\n",
    "\n",
    "print(time.strftime(\"%p %d %B %Y\", tempo_em_struct), '\\n')\n",
    "\n",
    "print(time.strftime(\"%H:%M:%S\", tempo_em_struct), '\\n')\n",
    "\n",
    "print(time.strftime(\"%I:%M:%S\", tempo_em_struct), '\\n')"
   ]
  },
  {
   "cell_type": "code",
   "execution_count": 55,
   "metadata": {},
   "outputs": [
    {
     "name": "stdout",
     "output_type": "stream",
     "text": [
      "Tempo formatado: domingo, 14 de julho de 2024, 17:39:45\n"
     ]
    }
   ],
   "source": [
    "tempo_formatado = time.strftime(\"%A, %d de %B de %Y, %H:%M:%S\", tempo_em_struct)\n",
    "print(f\"Tempo formatado: {tempo_formatado}\")"
   ]
  },
  {
   "cell_type": "markdown",
   "metadata": {},
   "source": [
    "<span style=\"color: #FFC107; font-size: 22px;\">**time.locale**</span>\n",
    "\n",
    "Observe que o dia e o mês apareceram em inglês.\n",
    "\n",
    "Para obter o tempo formatado em português, podemos usar o módulo `locale` do Python."
   ]
  },
  {
   "cell_type": "code",
   "execution_count": 41,
   "metadata": {},
   "outputs": [
    {
     "name": "stdout",
     "output_type": "stream",
     "text": [
      "Tempo formatado: domingo, 14 de julho de 2024, 17:39:43\n"
     ]
    }
   ],
   "source": [
    "import locale\n",
    "\n",
    "# Definir a localização para português.\n",
    "locale.setlocale(locale.LC_TIME, 'pt_BR.UTF-8')\n",
    "\n",
    "# Recebe os dados da data e hora\n",
    "tempo_em_struct = time.localtime()\n",
    "\n",
    "# Organiza os dados obtidos\n",
    "tempo_formatado = time.strftime(\"%A, %d de %B de %Y, %H:%M:%S\", tempo_em_struct)\n",
    "\n",
    "# Apresenta as informações\n",
    "print(f\"Tempo formatado: {tempo_formatado}\")"
   ]
  },
  {
   "cell_type": "markdown",
   "metadata": {},
   "source": [
    "<span style=\"color: #FFC107; font-size: 22px;\">**time.strptime()**</span>\n",
    "\n",
    "A função `strptime()` analisa uma string representando um horário de acordo com um formato. \n",
    "\n",
    "O retorno é um objeto `struct_time`."
   ]
  },
  {
   "cell_type": "code",
   "execution_count": 42,
   "metadata": {},
   "outputs": [
    {
     "name": "stdout",
     "output_type": "stream",
     "text": [
      "Tempo em struct: time.struct_time(tm_year=2023, tm_mon=6, tm_mday=30, tm_hour=0, tm_min=0, tm_sec=0, tm_wday=4, tm_yday=181, tm_isdst=-1)\n"
     ]
    }
   ],
   "source": [
    "# Define a data e o horário\n",
    "string_tempo = \"30 Junho, 2023\"\n",
    "\n",
    "# Define a estrutura em que a string está\n",
    "formato = \"%d %B, %Y\"\n",
    "\n",
    "# Converte a string em struct_time\n",
    "tempo_em_struct = time.strptime(string_tempo, formato)\n",
    "\n",
    "# Apresenta o tempo em struct_time\n",
    "print(f\"Tempo em struct: {tempo_em_struct}\")"
   ]
  },
  {
   "cell_type": "code",
   "execution_count": 43,
   "metadata": {},
   "outputs": [
    {
     "name": "stdout",
     "output_type": "stream",
     "text": [
      "Tempo em struct: time.struct_time(tm_year=2023, tm_mon=9, tm_mday=6, tm_hour=0, tm_min=0, tm_sec=0, tm_wday=2, tm_yday=249, tm_isdst=-1)\n"
     ]
    }
   ],
   "source": [
    "# data na forma dia/mês/ano\n",
    "string_tempo = \"06/09/2023\"\n",
    "formato = \"%d/%m/%Y\"\n",
    "tempo_em_struct = time.strptime(string_tempo, formato)\n",
    "\n",
    "print(f\"Tempo em struct: {tempo_em_struct}\") "
   ]
  },
  {
   "cell_type": "code",
   "execution_count": 44,
   "metadata": {},
   "outputs": [
    {
     "name": "stdout",
     "output_type": "stream",
     "text": [
      "Tempo em struct: time.struct_time(tm_year=2023, tm_mon=6, tm_mday=9, tm_hour=0, tm_min=0, tm_sec=0, tm_wday=4, tm_yday=160, tm_isdst=-1)\n"
     ]
    }
   ],
   "source": [
    "# data na forma mês/dia/ano\n",
    "string_tempo = \"06/09/2023\"\n",
    "formato = \"%m/%d/%Y\"\n",
    "tempo_em_struct = time.strptime(string_tempo, formato)\n",
    "\n",
    "print(f\"Tempo em struct: {tempo_em_struct}\") "
   ]
  },
  {
   "cell_type": "markdown",
   "metadata": {},
   "source": [
    "<span style=\"color: #FFC107; font-size: 22px;\">**time.mktime()**</span>\n",
    "\n",
    "A função `mktime()` converte um objeto `struct_time` em segundos desde a epoch. \n",
    "\n",
    "Este é o inverso da função `localtime()`. \n",
    "\n",
    "Por exemplo, podemos converter o objeto `struct_time` retornado pela função `localtime()` em segundos desde a epoch usando a função `mktime()`. \n",
    "\n",
    "O resultado deve ser o mesmo que o valor retornado pela função `time()`."
   ]
  },
  {
   "cell_type": "code",
   "execution_count": 51,
   "metadata": {},
   "outputs": [
    {
     "name": "stdout",
     "output_type": "stream",
     "text": [
      "Tempo em segundos: 1720989583.0\n",
      "Tempo em segundos: 1720989583.7081118\n"
     ]
    }
   ],
   "source": [
    "tempo_em_struct = time.localtime()\n",
    "tempo_em_segundos = time.mktime(tempo_em_struct)\n",
    "print(f\"Tempo em segundos: {tempo_em_segundos}\")\n",
    "print(f\"Tempo em segundos: {time.time()}\")"
   ]
  },
  {
   "cell_type": "markdown",
   "metadata": {},
   "source": [
    "Podemos usar o método `mktime` para calcular a diferença entre dois tempos. \n",
    "\n",
    "Por exemplo, podemos calcular a diferença entre o tempo atual e o início do ano. \n",
    "\n",
    "O resultado será o número de segundos entre esses dois tempos. \n",
    "\n",
    "Podemos usar a função `localtime()` para obter o tempo atual e a função `mktime()` para obter o tempo em 1 de janeiro de 2023 (ano deste material)."
   ]
  },
  {
   "cell_type": "code",
   "execution_count": 52,
   "metadata": {},
   "outputs": [
    {
     "name": "stdout",
     "output_type": "stream",
     "text": [
      "Diferença em segundos: 48447583.0\n"
     ]
    }
   ],
   "source": [
    "tempo_atual = time.localtime()\n",
    "tempo_ano_novo = time.mktime((2023, 1, 1, 0, 0, 0, 0, 0, 0))\n",
    "\n",
    "diferenca = time.mktime(tempo_atual) - tempo_ano_novo\n",
    "print(f\"Diferença em segundos: {diferenca}\") "
   ]
  },
  {
   "cell_type": "code",
   "execution_count": null,
   "metadata": {},
   "outputs": [],
   "source": []
  },
  {
   "cell_type": "code",
   "execution_count": null,
   "metadata": {},
   "outputs": [],
   "source": [
    "\"\"\"\n",
    "Você é um especialista em Python, com muito conhecimento na biblioteca Time, desenvolva exemplos de códigos usando as funções mais importantes dessa biblioteca e um breve comentário explicando cada uma dessas funções.\n",
    "\n",
    "\"\"\"\n",
    "\n",
    "import time\n",
    "\n",
    "# Importando a biblioteca time\n",
    "\n",
    "# time.time() - Retorna o tempo atual em segundos desde a EPOCH (01/01/1970)\n",
    "tempo_atual = time.time()\n",
    "print(f\"Tempo atual em segundos desde a EPOCH: {tempo_atual}\")\n",
    "\n",
    "# time.sleep() - Pausa a execução do programa pelo número de segundos especificado\n",
    "print(\"Pausando a execução por 2 segundos...\")\n",
    "time.sleep(2)\n",
    "print(\"Execução retomada.\")\n",
    "\n",
    "# time.ctime() - Converte um tempo em segundos desde a EPOCH para uma string representando a hora local\n",
    "tempo_em_string = time.ctime(tempo_atual)\n",
    "print(f\"Tempo atual em formato legível: {tempo_em_string}\")\n",
    "\n",
    "# time.gmtime() - Converte um tempo em segundos desde a EPOCH para uma struct_time em UTC\n",
    "tempo_em_utc = time.gmtime(tempo_atual)\n",
    "print(f\"Tempo atual em UTC: {tempo_em_utc}\")\n",
    "\n",
    "# time.localtime() - Converte um tempo em segundos desde a EPOCH para uma struct_time no horário local\n",
    "tempo_local = time.localtime(tempo_atual)\n",
    "print(f\"Tempo atual no horário local: {tempo_local}\")\n",
    "\n",
    "# time.strftime() - Converte uma struct_time para uma string formatada\n",
    "tempo_formatado = time.strftime(\"%A, %d de %B de %Y, %H:%M:%S\", tempo_local)\n",
    "print(f\"Tempo formatado: {tempo_formatado}\")\n",
    "\n",
    "# time.strptime() - Converte uma string formatada para uma struct_time\n",
    "string_tempo = \"30 Junho, 2023\"\n",
    "formato = \"%d %B, %Y\"\n",
    "tempo_em_struct = time.strptime(string_tempo, formato)\n",
    "print(f\"Tempo em struct_time: {tempo_em_struct}\")\n",
    "\n",
    "# time.mktime() - Converte uma struct_time para segundos desde a EPOCH\n",
    "segundos_desde_epoch = time.mktime(tempo_local)\n",
    "print(f\"Segundos desde a EPOCH: {segundos_desde_epoch}\")"
   ]
  },
  {
   "cell_type": "code",
   "execution_count": null,
   "metadata": {},
   "outputs": [],
   "source": []
  },
  {
   "cell_type": "code",
   "execution_count": 1,
   "metadata": {},
   "outputs": [
    {
     "name": "stdout",
     "output_type": "stream",
     "text": [
      "Tempo atual em segundos desde a EPOCH: 1730083284.474921\n",
      "Pausando a execução por 2 segundos...\n",
      "Execução retomada.\n",
      "Tempo atual em formato legível: Sun Oct 27 23:41:24 2024\n",
      "Tempo atual em UTC: time.struct_time(tm_year=2024, tm_mon=10, tm_mday=28, tm_hour=2, tm_min=41, tm_sec=24, tm_wday=0, tm_yday=302, tm_isdst=0)\n",
      "Tempo atual no horário local: time.struct_time(tm_year=2024, tm_mon=10, tm_mday=27, tm_hour=23, tm_min=41, tm_sec=24, tm_wday=6, tm_yday=301, tm_isdst=0)\n",
      "Tempo formatado: Sunday, 27 de October de 2024, 23:41:24\n"
     ]
    },
    {
     "ename": "ValueError",
     "evalue": "time data '30 Junho, 2023' does not match format '%d %B, %Y'",
     "output_type": "error",
     "traceback": [
      "\u001b[1;31m---------------------------------------------------------------------------\u001b[0m",
      "\u001b[1;31mValueError\u001b[0m                                Traceback (most recent call last)",
      "Cell \u001b[1;32mIn[1], line 31\u001b[0m\n\u001b[0;32m     29\u001b[0m string_tempo \u001b[38;5;241m=\u001b[39m \u001b[38;5;124m\"\u001b[39m\u001b[38;5;124m30 Junho, 2023\u001b[39m\u001b[38;5;124m\"\u001b[39m\n\u001b[0;32m     30\u001b[0m formato \u001b[38;5;241m=\u001b[39m \u001b[38;5;124m\"\u001b[39m\u001b[38;5;132;01m%d\u001b[39;00m\u001b[38;5;124m \u001b[39m\u001b[38;5;124m%\u001b[39m\u001b[38;5;124mB, \u001b[39m\u001b[38;5;124m%\u001b[39m\u001b[38;5;124mY\u001b[39m\u001b[38;5;124m\"\u001b[39m\n\u001b[1;32m---> 31\u001b[0m tempo_em_struct \u001b[38;5;241m=\u001b[39m time\u001b[38;5;241m.\u001b[39mstrptime(string_tempo, formato)\n\u001b[0;32m     32\u001b[0m \u001b[38;5;28mprint\u001b[39m(\u001b[38;5;124mf\u001b[39m\u001b[38;5;124m\"\u001b[39m\u001b[38;5;124mTempo em struct_time: \u001b[39m\u001b[38;5;132;01m{\u001b[39;00mtempo_em_struct\u001b[38;5;132;01m}\u001b[39;00m\u001b[38;5;124m\"\u001b[39m)\n\u001b[0;32m     34\u001b[0m \u001b[38;5;66;03m# time.mktime() - Converte uma struct_time para segundos desde a EPOCH\u001b[39;00m\n",
      "File \u001b[1;32mc:\\Users\\AriosvaldoBarros\\anaconda3\\Lib\\_strptime.py:562\u001b[0m, in \u001b[0;36m_strptime_time\u001b[1;34m(data_string, format)\u001b[0m\n\u001b[0;32m    559\u001b[0m \u001b[38;5;28;01mdef\u001b[39;00m \u001b[38;5;21m_strptime_time\u001b[39m(data_string, \u001b[38;5;28mformat\u001b[39m\u001b[38;5;241m=\u001b[39m\u001b[38;5;124m\"\u001b[39m\u001b[38;5;132;01m%a\u001b[39;00m\u001b[38;5;124m \u001b[39m\u001b[38;5;124m%\u001b[39m\u001b[38;5;124mb \u001b[39m\u001b[38;5;132;01m%d\u001b[39;00m\u001b[38;5;124m \u001b[39m\u001b[38;5;124m%\u001b[39m\u001b[38;5;124mH:\u001b[39m\u001b[38;5;124m%\u001b[39m\u001b[38;5;124mM:\u001b[39m\u001b[38;5;124m%\u001b[39m\u001b[38;5;124mS \u001b[39m\u001b[38;5;124m%\u001b[39m\u001b[38;5;124mY\u001b[39m\u001b[38;5;124m\"\u001b[39m):\n\u001b[0;32m    560\u001b[0m \u001b[38;5;250m    \u001b[39m\u001b[38;5;124;03m\"\"\"Return a time struct based on the input string and the\u001b[39;00m\n\u001b[0;32m    561\u001b[0m \u001b[38;5;124;03m    format string.\"\"\"\u001b[39;00m\n\u001b[1;32m--> 562\u001b[0m     tt \u001b[38;5;241m=\u001b[39m _strptime(data_string, \u001b[38;5;28mformat\u001b[39m)[\u001b[38;5;241m0\u001b[39m]\n\u001b[0;32m    563\u001b[0m     \u001b[38;5;28;01mreturn\u001b[39;00m time\u001b[38;5;241m.\u001b[39mstruct_time(tt[:time\u001b[38;5;241m.\u001b[39m_STRUCT_TM_ITEMS])\n",
      "File \u001b[1;32mc:\\Users\\AriosvaldoBarros\\anaconda3\\Lib\\_strptime.py:349\u001b[0m, in \u001b[0;36m_strptime\u001b[1;34m(data_string, format)\u001b[0m\n\u001b[0;32m    347\u001b[0m found \u001b[38;5;241m=\u001b[39m format_regex\u001b[38;5;241m.\u001b[39mmatch(data_string)\n\u001b[0;32m    348\u001b[0m \u001b[38;5;28;01mif\u001b[39;00m \u001b[38;5;129;01mnot\u001b[39;00m found:\n\u001b[1;32m--> 349\u001b[0m     \u001b[38;5;28;01mraise\u001b[39;00m \u001b[38;5;167;01mValueError\u001b[39;00m(\u001b[38;5;124m\"\u001b[39m\u001b[38;5;124mtime data \u001b[39m\u001b[38;5;132;01m%r\u001b[39;00m\u001b[38;5;124m does not match format \u001b[39m\u001b[38;5;132;01m%r\u001b[39;00m\u001b[38;5;124m\"\u001b[39m \u001b[38;5;241m%\u001b[39m\n\u001b[0;32m    350\u001b[0m                      (data_string, \u001b[38;5;28mformat\u001b[39m))\n\u001b[0;32m    351\u001b[0m \u001b[38;5;28;01mif\u001b[39;00m \u001b[38;5;28mlen\u001b[39m(data_string) \u001b[38;5;241m!=\u001b[39m found\u001b[38;5;241m.\u001b[39mend():\n\u001b[0;32m    352\u001b[0m     \u001b[38;5;28;01mraise\u001b[39;00m \u001b[38;5;167;01mValueError\u001b[39;00m(\u001b[38;5;124m\"\u001b[39m\u001b[38;5;124munconverted data remains: \u001b[39m\u001b[38;5;132;01m%s\u001b[39;00m\u001b[38;5;124m\"\u001b[39m \u001b[38;5;241m%\u001b[39m\n\u001b[0;32m    353\u001b[0m                       data_string[found\u001b[38;5;241m.\u001b[39mend():])\n",
      "\u001b[1;31mValueError\u001b[0m: time data '30 Junho, 2023' does not match format '%d %B, %Y'"
     ]
    }
   ],
   "source": [
    "import time\n",
    "\n",
    "# time.time() - Retorna o tempo atual em segundos desde a EPOCH (01/01/1970)\n",
    "tempo_atual = time.time()\n",
    "print(f\"Tempo atual em segundos desde a EPOCH: {tempo_atual}\")\n",
    "\n",
    "# time.sleep() - Pausa a execução do programa pelo número de segundos especificado\n",
    "print(\"Pausando a execução por 2 segundos...\")\n",
    "time.sleep(2)\n",
    "print(\"Execução retomada.\")\n",
    "\n",
    "# time.ctime() - Converte um tempo em segundos desde a EPOCH para uma string representando a hora local\n",
    "tempo_em_string = time.ctime(tempo_atual)\n",
    "print(f\"Tempo atual em formato legível: {tempo_em_string}\")\n",
    "\n",
    "# time.gmtime() - Converte um tempo em segundos desde a EPOCH para uma struct_time em UTC\n",
    "tempo_em_utc = time.gmtime(tempo_atual)\n",
    "print(f\"Tempo atual em UTC: {tempo_em_utc}\")\n",
    "\n",
    "# time.localtime() - Converte um tempo em segundos desde a EPOCH para uma struct_time no horário local\n",
    "tempo_local = time.localtime(tempo_atual)\n",
    "print(f\"Tempo atual no horário local: {tempo_local}\")\n",
    "\n",
    "# time.strftime() - Converte uma struct_time para uma string formatada\n",
    "tempo_formatado = time.strftime(\"%A, %d de %B de %Y, %H:%M:%S\", tempo_local)\n",
    "print(f\"Tempo formatado: {tempo_formatado}\")\n",
    "\n",
    "# time.strptime() - Converte uma string formatada para uma struct_time\n",
    "string_tempo = \"30 Junho, 2023\"\n",
    "formato = \"%d %B, %Y\"\n",
    "tempo_em_struct = time.strptime(string_tempo, formato)\n",
    "print(f\"Tempo em struct_time: {tempo_em_struct}\")\n",
    "\n",
    "# time.mktime() - Converte uma struct_time para segundos desde a EPOCH\n",
    "segundos_desde_epoch = time.mktime(tempo_local)\n",
    "print(f\"Segundos desde a EPOCH: {segundos_desde_epoch}\")\n",
    "\n",
    "# time.asctime() - Converte uma struct_time para uma string legível\n",
    "tempo_asctime = time.asctime(tempo_local)\n",
    "print(f\"Tempo em asctime: {tempo_asctime}\")\n",
    "\n",
    "# time.perf_counter() - Retorna o valor do contador de alta resolução em segundos\n",
    "inicio = time.perf_counter()\n",
    "# Simula uma operação demorada\n",
    "time.sleep(1)\n",
    "fim = time.perf_counter()\n",
    "print(f\"Tempo decorrido: {fim - inicio} segundos\")\n",
    "\n",
    "# time.monotonic() - Retorna o valor do relógio monotônico em segundos\n",
    "inicio_monotonic = time.monotonic()\n",
    "# Simula uma operação demorada\n",
    "time.sleep(1)\n",
    "fim_monotonic = time.monotonic()\n",
    "print(f\"Tempo decorrido (monotonic): {fim_monotonic - inicio_monotonic} segundos\")\n",
    "\n",
    "# time.process_time() - Retorna o tempo de CPU utilizado pelo processo atual\n",
    "tempo_cpu_inicio = time.process_time()\n",
    "# Simula uma operação demorada\n",
    "for _ in range(1000000):\n",
    "    pass\n",
    "tempo_cpu_fim = time.process_time()\n",
    "print(f\"Tempo de CPU utilizado: {tempo_cpu_fim - tempo_cpu_inicio} segundos\")\n",
    "\n",
    "# time.altzone() - Retorna o deslocamento em segundos do fuso horário local para o UTC, considerando o horário de verão\n",
    "if time.daylight:\n",
    "    print(f\"Deslocamento do horário de verão: {time.altzone} segundos\")\n",
    "\n",
    "# time.daylight() - Retorna 1 se o horário de verão estiver em vigor, caso contrário, retorna 0\n",
    "print(f\"Horário de verão em vigor: {time.daylight}\")\n",
    "\n",
    "# time.tzname() - Retorna um tupla com os nomes dos fusos horários (padrão e horário de verão)\n",
    "print(f\"Nomes dos fusos horários: {time.tzname}\")\n",
    "\n",
    "# time.timezone() - Retorna o deslocamento em segundos do fuso horário local para o UTC, sem considerar o horário de verão\n",
    "print(f\"Deslocamento do fuso horário local para o UTC: {time.timezone} segundos\")\n",
    "\n",
    "# time.get_clock_info() - Retorna informações sobre o relógio especificado\n",
    "info_relogio = time.get_clock_info('time')\n",
    "print(f\"Informações sobre o relógio 'time': {info_relogio}\")\n",
    "\n",
    "# time.time_ns() - Retorna o tempo atual em nanosegundos desde a EPOCH\n",
    "tempo_atual_ns = time.time_ns()\n",
    "print(f\"Tempo atual em nanosegundos desde a EPOCH: {tempo_atual_ns}\")\n",
    "\n",
    "# time.perf_counter_ns() - Retorna o valor do contador de alta resolução em nanosegundos\n",
    "inicio_ns = time.perf_counter_ns()\n",
    "# Simula uma operação demorada\n",
    "time.sleep(1)\n",
    "fim_ns = time.perf_counter_ns()\n",
    "print(f\"Tempo decorrido (perf_counter_ns): {fim_ns - inicio_ns} nanosegundos\")\n",
    "\n",
    "# time.monotonic_ns() - Retorna o valor do relógio monotônico em nanosegundos\n",
    "inicio_monotonic_ns = time.monotonic_ns()\n",
    "# Simula uma operação demorada\n",
    "time.sleep(1)\n",
    "fim_monotonic_ns = time.monotonic_ns()\n",
    "print(f\"Tempo decorrido (monotonic_ns): {fim_monotonic_ns - inicio_monotonic_ns} nanosegundos\")\n",
    "\n",
    "# time.process_time_ns() - Retorna o tempo de CPU utilizado pelo processo atual em nanosegundos\n",
    "tempo_cpu_inicio_ns = time.process_time_ns()\n",
    "# Simula uma operação demorada\n",
    "for _ in range(1000000):\n",
    "    pass\n",
    "tempo_cpu_fim_ns = time.process_time_ns()\n",
    "print(f\"Tempo de CPU utilizado (ns): {tempo_cpu_fim_ns - tempo_cpu_inicio_ns} nanosegundos\")"
   ]
  }
 ],
 "metadata": {
  "kernelspec": {
   "display_name": "base",
   "language": "python",
   "name": "python3"
  },
  "language_info": {
   "codemirror_mode": {
    "name": "ipython",
    "version": 3
   },
   "file_extension": ".py",
   "mimetype": "text/x-python",
   "name": "python",
   "nbconvert_exporter": "python",
   "pygments_lexer": "ipython3",
   "version": "3.11.7"
  }
 },
 "nbformat": 4,
 "nbformat_minor": 2
}
