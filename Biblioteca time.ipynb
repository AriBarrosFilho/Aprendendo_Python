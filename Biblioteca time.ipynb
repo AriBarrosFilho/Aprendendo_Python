{
 "cells": [
  {
   "cell_type": "markdown",
   "metadata": {},
   "source": [
    "[Python Time Module](https://www.geeksforgeeks.org/python-time-module/) <br>\n",
    "[Python Time Module (with Examples)](https://www.programiz.com/python-programming/time) <br>\n",
    "[Python Time - Documentação](https://docs.python.org/pt-br/3/library/time.html) <br>"
   ]
  },
  {
   "cell_type": "code",
   "execution_count": 2,
   "metadata": {},
   "outputs": [],
   "source": [
    "import time"
   ]
  },
  {
   "cell_type": "markdown",
   "metadata": {},
   "source": [
    "- Marco Zero: EPOCH (01 de janeiro de 1970 às 00:00:00)\n",
    "- time() retorna quantos segundos se passaram desde a EPOCH"
   ]
  },
  {
   "cell_type": "markdown",
   "metadata": {},
   "source": [
    "<span style=\"color: yellow; font-size: 22px;\">**time.time()**</span>\n",
    "\n",
    "Retorne o tempo em segundos desde a ``época`` como um número de ponto flutuante. \n",
    "\n",
    "A `época` é o ponto onde o tempo começa, o valor de retorno de `time.gmtime(0)`.\n",
    "\n",
    "É 1º de janeiro de 1970, 00:00:00 (UTC) em todas as plataformas."
   ]
  },
  {
   "cell_type": "code",
   "execution_count": 3,
   "metadata": {},
   "outputs": [
    {
     "name": "stdout",
     "output_type": "stream",
     "text": [
      "1718997208.1577613\n"
     ]
    }
   ],
   "source": [
    "# Retorna a quantidade de segundos de 01/01/1970 às 00:00:00 até o momento atual\n",
    "segundos_hoje = time.time()\n",
    "\n",
    "# Apresenta a quantidade total de segundos\n",
    "print(segundos_hoje)"
   ]
  },
  {
   "cell_type": "markdown",
   "metadata": {},
   "source": [
    "Isso já pode ser muito útil para medir o tempo que um código leva para rodar"
   ]
  },
  {
   "cell_type": "code",
   "execution_count": 6,
   "metadata": {},
   "outputs": [
    {
     "name": "stdout",
     "output_type": "stream",
     "text": [
      "O programa levou 3.333021879196167 segundos para rodar\n"
     ]
    }
   ],
   "source": [
    "# Calcula o tempo antes do código principal começar a rodar\n",
    "tempo_inicial = time.time()\n",
    "\n",
    "# Realiza 100.000.000 de iterações\n",
    "for i in range(100_000_000):\n",
    "    pass\n",
    "\n",
    "# Calcula o tempo depois do código principal comeaçar a rodar\n",
    "tempo_final = time.time()\n",
    "\n",
    "# Calcula a diferença entre o tempo inicial e o tempo final\n",
    "duracao = tempo_final - tempo_inicial\n",
    "\n",
    "# Apresenta o tempo total em segundos que demorou para o código principal rodar\n",
    "print(f\"O programa levou {duracao} segundos para rodar\")"
   ]
  },
  {
   "cell_type": "markdown",
   "metadata": {},
   "source": [
    "<span style=\"color: yellow; font-size: 22px;\">**time.ctime()**</span>\n",
    "\n",
    "Converta um tempo expresso em segundos desde a época em uma string no formato: representando a hora local."
   ]
  },
  {
   "cell_type": "code",
   "execution_count": 4,
   "metadata": {},
   "outputs": [
    {
     "name": "stdout",
     "output_type": "stream",
     "text": [
      "Fri Jun 21 16:13:32 2024\n"
     ]
    }
   ],
   "source": [
    "# Retorna a data e o horário atual no formato de string\n",
    "data_hoje = time.ctime()\n",
    "\n",
    "# Apresenta a data e o horário atual\n",
    "print(data_hoje)"
   ]
  },
  {
   "cell_type": "markdown",
   "metadata": {},
   "source": [
    "<span style=\"color: yellow; font-size: 22px;\">**time.sleep()**</span>\n",
    "\n",
    "Suspenda a execução do código por um determinado número de segundos. \n",
    "\n",
    "O argumento pode ser um número de ponto flutuante para indicar um tempo de sono mais preciso.\n",
    "\n",
    "Muito útil quando temos que esperar um programa ou uma página carregar"
   ]
  },
  {
   "cell_type": "code",
   "execution_count": 8,
   "metadata": {},
   "outputs": [
    {
     "name": "stdout",
     "output_type": "stream",
     "text": [
      "Começando\n",
      "O programa levou 5.001075267791748 segundos para rodar\n"
     ]
    }
   ],
   "source": [
    "print(\"Começando\")\n",
    "\n",
    "# Calcula o tempo antes do código principal começar a rodar\n",
    "tempo_inicial = time.time()\n",
    "\n",
    "# Pausa a execução do código em 5 segundos\n",
    "time.sleep(5)\n",
    "\n",
    "# Calcula a diferença entre o tempo inicial e o tempo final\n",
    "duracao = time.time() - tempo_inicial\n",
    "\n",
    "# Apresenta o tempo total em segundos que demorou para o código principal rodar\n",
    "print(f\"O programa levou {duracao} segundos para rodar\")"
   ]
  },
  {
   "cell_type": "markdown",
   "metadata": {},
   "source": [
    "<span style=\"color: yellow; font-size: 22px;\">**gmtime()**</span>\n",
    "\n",
    "A função `gmtime()` converte um tempo expresso em segundos desde a epoch em um objeto struct_time em UTC. \n",
    "\n",
    "UTC significa Coordinated Universal Time, também conhecido como GMT (Greenwich Mean Time). \n",
    "\n",
    "Este é o fuso horário padrão em que as funções `time` operam."
   ]
  },
  {
   "cell_type": "code",
   "execution_count": 9,
   "metadata": {},
   "outputs": [
    {
     "name": "stdout",
     "output_type": "stream",
     "text": [
      "time.struct_time(tm_year=2024, tm_mon=6, tm_mday=21, tm_hour=19, tm_min=19, tm_sec=44, tm_wday=4, tm_yday=173, tm_isdst=0)\n"
     ]
    }
   ],
   "source": [
    "# Recebe todos dados sobre data e horário\n",
    "hora_geral = time.gmtime()\n",
    "print(hora_geral)"
   ]
  },
  {
   "cell_type": "markdown",
   "metadata": {},
   "source": [
    "Como `gmtime()`, mas converte para o tempo local. Se secs não é fornecido ou None, o tempo atual como retornado por `time()` é utilizado. \n",
    "\n",
    "O sinalizador de horário de verão é definido como 1 quando o Horário de verão for aplicável para o tempo fornecido."
   ]
  },
  {
   "cell_type": "code",
   "execution_count": 10,
   "metadata": {},
   "outputs": [
    {
     "name": "stdout",
     "output_type": "stream",
     "text": [
      "time.struct_time(tm_year=2024, tm_mon=6, tm_mday=21, tm_hour=16, tm_min=19, tm_sec=46, tm_wday=4, tm_yday=173, tm_isdst=0)\n"
     ]
    }
   ],
   "source": [
    "hora_local = time.localtime()\n",
    "\n",
    "print(hora_local)"
   ]
  },
  {
   "cell_type": "markdown",
   "metadata": {},
   "source": [
    "Qualquer struct_time permite você pegar as informações da data fazendo:\n",
    "- gmtime().parametro\n",
    "- localtime().parametro"
   ]
  },
  {
   "cell_type": "code",
   "execution_count": null,
   "metadata": {},
   "outputs": [],
   "source": [
    "dia = hora_local.tm_mday\n",
    "mes = hora_local.tm_mon\n",
    "ano = hora_local.tm_year\n",
    "dia_da_semana = hora_local.tm_wday\n",
    "\n",
    "print(\"Data: {}/{}/{}\".format(dia, mes, ano))\n",
    "print(f\"Data: {dia}/{mes}/{ano}\")"
   ]
  },
  {
   "cell_type": "markdown",
   "metadata": {},
   "source": [
    "<span style=\"color: yellow; font-size: 22px;\">**strftime()**</span>\n",
    "\n",
    "A função `strftime()` converte um objeto de tempo struct para uma string de acordo com um formato específico.\n",
    "\n",
    "Os símbolos de formato que podem ser usados estão disponíveis na documentação oficial do Python, [neste link](https://docs.python.org/3/library/time.html#time.strftime).\n",
    "\n",
    "Por exemplo, podemos querer uma string de tempo no seguinte formato: \"Dia da semana, dia do mês de mês do ano, horas:minutos:segundos\". Podemos usar o seguinte código para obter o tempo formatado:"
   ]
  },
  {
   "cell_type": "code",
   "execution_count": 3,
   "metadata": {},
   "outputs": [
    {
     "name": "stdout",
     "output_type": "stream",
     "text": [
      "time.struct_time(tm_year=2024, tm_mon=6, tm_mday=28, tm_hour=1, tm_min=11, tm_sec=53, tm_wday=4, tm_yday=180, tm_isdst=0)\n"
     ]
    }
   ],
   "source": [
    "tempo_em_struct = time.localtime()\n",
    "print(tempo_em_struct)"
   ]
  },
  {
   "cell_type": "code",
   "execution_count": 4,
   "metadata": {},
   "outputs": [
    {
     "name": "stdout",
     "output_type": "stream",
     "text": [
      "28 June 2024\n"
     ]
    }
   ],
   "source": [
    "print(time.strftime(\"%d %B %Y\", tempo_em_struct))"
   ]
  },
  {
   "cell_type": "code",
   "execution_count": null,
   "metadata": {},
   "outputs": [
    {
     "name": "stdout",
     "output_type": "stream",
     "text": [
      "10:20:00\n"
     ]
    }
   ],
   "source": [
    "print(time.strftime(\"%H:%M:%S\", tempo_em_struct))"
   ]
  },
  {
   "cell_type": "code",
   "execution_count": null,
   "metadata": {},
   "outputs": [
    {
     "name": "stdout",
     "output_type": "stream",
     "text": [
      "Tempo formatado: Thursday, 29 de June de 2023, 10:20:00\n"
     ]
    }
   ],
   "source": [
    "tempo_formatado = time.strftime(\"%A, %d de %B de %Y, %H:%M:%S\", tempo_em_struct)\n",
    "print(f\"Tempo formatado: {tempo_formatado}\")"
   ]
  },
  {
   "cell_type": "markdown",
   "metadata": {},
   "source": [
    "<span style=\"color: yellow; font-size: 22px;\">**locale**</span>\n",
    "\n",
    "Observe que o dia e o mês apareceram em inglês. Para obter o tempo formatado em português, podemos usar o módulo `locale` do Python."
   ]
  },
  {
   "cell_type": "code",
   "execution_count": 5,
   "metadata": {},
   "outputs": [
    {
     "name": "stdout",
     "output_type": "stream",
     "text": [
      "Tempo formatado: sexta-feira, 28 de junho de 2024, 01:12:23\n"
     ]
    }
   ],
   "source": [
    "import locale\n",
    "\n",
    "# Definir a localização para português.\n",
    "locale.setlocale(locale.LC_TIME, 'pt_BR.UTF-8')\n",
    "\n",
    "tempo_em_struct = time.localtime()\n",
    "tempo_formatado = time.strftime(\"%A, %d de %B de %Y, %H:%M:%S\", tempo_em_struct)\n",
    "print(f\"Tempo formatado: {tempo_formatado}\")"
   ]
  },
  {
   "cell_type": "markdown",
   "metadata": {},
   "source": [
    "<span style=\"color: yellow; font-size: 22px;\">**strptime()**</span>\n",
    "\n",
    "A função `strptime()` analisa uma string representando um horário de acordo com um formato. O retorno é um objeto `struct_time`."
   ]
  },
  {
   "cell_type": "code",
   "execution_count": null,
   "metadata": {},
   "outputs": [
    {
     "name": "stdout",
     "output_type": "stream",
     "text": [
      "Tempo em struct: time.struct_time(tm_year=2023, tm_mon=6, tm_mday=30, tm_hour=0, tm_min=0, tm_sec=0, tm_wday=4, tm_yday=181, tm_isdst=-1)\n"
     ]
    }
   ],
   "source": [
    "string_tempo = \"30 Junho, 2023\"\n",
    "formato = \"%d %B, %Y\"\n",
    "tempo_em_struct = time.strptime(string_tempo, formato)\n",
    "\n",
    "print(f\"Tempo em struct: {tempo_em_struct}\")"
   ]
  },
  {
   "cell_type": "code",
   "execution_count": null,
   "metadata": {},
   "outputs": [
    {
     "name": "stdout",
     "output_type": "stream",
     "text": [
      "Tempo em struct: time.struct_time(tm_year=2023, tm_mon=9, tm_mday=6, tm_hour=0, tm_min=0, tm_sec=0, tm_wday=2, tm_yday=249, tm_isdst=-1)\n"
     ]
    }
   ],
   "source": [
    "# data na forma dia/mês/ano\n",
    "string_tempo = \"06/09/2023\"\n",
    "formato = \"%d/%m/%Y\"\n",
    "tempo_em_struct = time.strptime(string_tempo, formato)\n",
    "\n",
    "print(f\"Tempo em struct: {tempo_em_struct}\") "
   ]
  },
  {
   "cell_type": "code",
   "execution_count": null,
   "metadata": {},
   "outputs": [
    {
     "name": "stdout",
     "output_type": "stream",
     "text": [
      "Tempo em struct: time.struct_time(tm_year=2023, tm_mon=6, tm_mday=9, tm_hour=0, tm_min=0, tm_sec=0, tm_wday=4, tm_yday=160, tm_isdst=-1)\n"
     ]
    }
   ],
   "source": [
    "# data na forma mês/dia/ano\n",
    "string_tempo = \"06/09/2023\"\n",
    "formato = \"%m/%d/%Y\"\n",
    "tempo_em_struct = time.strptime(string_tempo, formato)\n",
    "\n",
    "print(f\"Tempo em struct: {tempo_em_struct}\") "
   ]
  },
  {
   "cell_type": "markdown",
   "metadata": {},
   "source": [
    "<span style=\"color: yellow; font-size: 22px;\">**gmtime()**</span>\n",
    "\n",
    "A função `gmtime()` converte um tempo expresso em segundos desde a epoch em um objeto struct_time em UTC. UTC significa Coordinated Universal Time, também conhecido como GMT (Greenwich Mean Time). Este é o fuso horário padrão em que as funções `time` operam.\n"
   ]
  },
  {
   "cell_type": "code",
   "execution_count": null,
   "metadata": {},
   "outputs": [
    {
     "data": {
      "text/plain": [
       "time.struct_time(tm_year=1970, tm_mon=1, tm_mday=1, tm_hour=0, tm_min=0, tm_sec=0, tm_wday=3, tm_yday=1, tm_isdst=0)"
      ]
     },
     "metadata": {},
     "output_type": "display_data"
    }
   ],
   "source": [
    "# Tempo em UTC para 0 segundos desde a epoch\n",
    "time.gmtime(0)"
   ]
  },
  {
   "cell_type": "code",
   "execution_count": null,
   "metadata": {},
   "outputs": [
    {
     "name": "stdout",
     "output_type": "stream",
     "text": [
      "Tempo em UTC: time.struct_time(tm_year=2023, tm_mon=6, tm_mday=29, tm_hour=13, tm_min=20, tm_sec=0, tm_wday=3, tm_yday=180, tm_isdst=0)\n"
     ]
    }
   ],
   "source": [
    "gmt_struct = time.gmtime()  # tempo atual em UTC já que não fornecemos nenhum argumento\n",
    "\n",
    "print(f\"Tempo em UTC: {gmt_struct}\")"
   ]
  },
  {
   "cell_type": "code",
   "execution_count": null,
   "metadata": {},
   "outputs": [
    {
     "name": "stdout",
     "output_type": "stream",
     "text": [
      "Tempo local: time.struct_time(tm_year=2023, tm_mon=6, tm_mday=29, tm_hour=10, tm_min=20, tm_sec=0, tm_wday=3, tm_yday=180, tm_isdst=0)\n"
     ]
    }
   ],
   "source": [
    "# comparando com localtime\n",
    "print(f\"Tempo local: {time.localtime()}\")"
   ]
  },
  {
   "cell_type": "code",
   "execution_count": null,
   "metadata": {},
   "outputs": [
    {
     "name": "stdout",
     "output_type": "stream",
     "text": [
      "Tempo em UTC: quinta-feira, 29 de junho de 2023, 13:20:00\n"
     ]
    }
   ],
   "source": [
    "print(f\"Tempo em UTC: {time.strftime('%A, %d de %B de %Y, %H:%M:%S', gmt_struct)}\")"
   ]
  },
  {
   "cell_type": "code",
   "execution_count": null,
   "metadata": {},
   "outputs": [
    {
     "name": "stdout",
     "output_type": "stream",
     "text": [
      "UTC\n"
     ]
    }
   ],
   "source": [
    "print(gmt_struct.tm_zone)"
   ]
  },
  {
   "cell_type": "code",
   "execution_count": null,
   "metadata": {},
   "outputs": [
    {
     "name": "stdout",
     "output_type": "stream",
     "text": [
      "Tempo em UTC: time.struct_time(tm_year=2009, tm_mon=2, tm_mday=13, tm_hour=23, tm_min=31, tm_sec=30, tm_wday=4, tm_yday=44, tm_isdst=0)\n",
      "Tempo em UTC: sexta-feira, 13 de fevereiro de 2009, 23:31:30\n"
     ]
    }
   ],
   "source": [
    "gmt_struct_exemplo = time.gmtime(1_234_567_890)\n",
    "\n",
    "print(f\"Tempo em UTC: {gmt_struct_exemplo}\")\n",
    "\n",
    "print(f\"Tempo em UTC: {time.strftime('%A, %d de %B de %Y, %H:%M:%S', gmt_struct_exemplo)}\") "
   ]
  },
  {
   "cell_type": "markdown",
   "metadata": {},
   "source": [
    "<span style=\"color: yellow; font-size: 22px;\">**mktime()**</span>\n",
    "\n",
    "A função `mktime()` converte um objeto `struct_time` em segundos desde a epoch. \n",
    "\n",
    "Este é o inverso da função `localtime()`. \n",
    "\n",
    "Por exemplo, podemos converter o objeto `struct_time` retornado pela função `localtime()` em segundos desde a epoch usando a função `mktime()`. \n",
    "\n",
    "O resultado deve ser o mesmo que o valor retornado pela função `time()`."
   ]
  },
  {
   "cell_type": "code",
   "execution_count": null,
   "metadata": {},
   "outputs": [
    {
     "name": "stdout",
     "output_type": "stream",
     "text": [
      "Tempo em segundos: 1688044800.0\n",
      "Tempo em segundos: 1688044800.3324478\n"
     ]
    }
   ],
   "source": [
    "tempo_em_struct = time.localtime()\n",
    "tempo_em_segundos = time.mktime(tempo_em_struct)\n",
    "print(f\"Tempo em segundos: {tempo_em_segundos}\")\n",
    "print(f\"Tempo em segundos: {time.time()}\")"
   ]
  },
  {
   "cell_type": "markdown",
   "metadata": {},
   "source": [
    "Podemos usar o método `mktime` para calcular a diferença entre dois tempos. \n",
    "\n",
    "Por exemplo, podemos calcular a diferença entre o tempo atual e o início do ano. \n",
    "\n",
    "O resultado será o número de segundos entre esses dois tempos. \n",
    "\n",
    "Podemos usar a função `localtime()` para obter o tempo atual e a função `mktime()` para obter o tempo em 1 de janeiro de 2023 (ano deste material)."
   ]
  },
  {
   "cell_type": "code",
   "execution_count": null,
   "metadata": {},
   "outputs": [
    {
     "name": "stdout",
     "output_type": "stream",
     "text": [
      "Diferença em segundos: 15502800.0\n"
     ]
    }
   ],
   "source": [
    "tempo_atual = time.localtime()\n",
    "tempo_ano_novo = time.mktime((2023, 1, 1, 0, 0, 0, 0, 0, 0))\n",
    "\n",
    "diferenca = time.mktime(tempo_atual) - tempo_ano_novo\n",
    "print(f\"Diferença em segundos: {diferenca}\") "
   ]
  }
 ],
 "metadata": {
  "kernelspec": {
   "display_name": "base",
   "language": "python",
   "name": "python3"
  },
  "language_info": {
   "codemirror_mode": {
    "name": "ipython",
    "version": 3
   },
   "file_extension": ".py",
   "mimetype": "text/x-python",
   "name": "python",
   "nbconvert_exporter": "python",
   "pygments_lexer": "ipython3",
   "version": "3.11.7"
  }
 },
 "nbformat": 4,
 "nbformat_minor": 2
}
